{
  "nbformat": 4,
  "nbformat_minor": 0,
  "metadata": {
    "colab": {
      "name": "Data Manipulation with NumPy.ipynb",
      "provenance": [],
      "collapsed_sections": [],
      "authorship_tag": "ABX9TyPSYt6HKbKR1Clcl7IaoAxh",
      "include_colab_link": true
    },
    "kernelspec": {
      "name": "python3",
      "display_name": "Python 3"
    },
    "language_info": {
      "name": "python"
    }
  },
  "cells": [
    {
      "cell_type": "markdown",
      "metadata": {
        "id": "view-in-github",
        "colab_type": "text"
      },
      "source": [
        "<a href=\"https://colab.research.google.com/github/koseogluonur/-Python-for-DataScience-and-Machine-Learning-/blob/main/Data_Manipulation_with_NumPy.ipynb\" target=\"_parent\"><img src=\"https://colab.research.google.com/assets/colab-badge.svg\" alt=\"Open In Colab\"/></a>"
      ]
    },
    {
      "cell_type": "markdown",
      "metadata": {
        "id": "6MziAAfw__nc"
      },
      "source": [
        "**NumPy**"
      ]
    },
    {
      "cell_type": "code",
      "metadata": {
        "id": "E1CTZfn7_clq"
      },
      "source": [
        "import numpy as np"
      ],
      "execution_count": null,
      "outputs": []
    },
    {
      "cell_type": "code",
      "metadata": {
        "colab": {
          "base_uri": "https://localhost:8080/"
        },
        "id": "pABt5y2b_oH0",
        "outputId": "29eb4c07-c573-40a0-aeff-83e68c72f2c0"
      },
      "source": [
        "#Liste üzerinden oluşturma\n",
        "np.array([1,2,3,4,5])"
      ],
      "execution_count": null,
      "outputs": [
        {
          "output_type": "execute_result",
          "data": {
            "text/plain": [
              "array([1, 2, 3, 4, 5])"
            ]
          },
          "metadata": {
            "tags": []
          },
          "execution_count": 2
        }
      ]
    },
    {
      "cell_type": "code",
      "metadata": {
        "id": "MPJWMXkE_uhN"
      },
      "source": [
        "a=np.array([1,2,3,4,5])"
      ],
      "execution_count": null,
      "outputs": []
    },
    {
      "cell_type": "code",
      "metadata": {
        "colab": {
          "base_uri": "https://localhost:8080/"
        },
        "id": "IvdI6wrm_4Jc",
        "outputId": "f6c12cd9-e74a-44a1-fb96-c43ccdd44686"
      },
      "source": [
        "type(a)"
      ],
      "execution_count": null,
      "outputs": [
        {
          "output_type": "execute_result",
          "data": {
            "text/plain": [
              "numpy.ndarray"
            ]
          },
          "metadata": {
            "tags": []
          },
          "execution_count": 4
        }
      ]
    },
    {
      "cell_type": "code",
      "metadata": {
        "colab": {
          "base_uri": "https://localhost:8080/"
        },
        "id": "J0EaYbfJ_7wf",
        "outputId": "ce780e6b-b22d-4810-a53e-bc5692001c87"
      },
      "source": [
        "#Tek tip bir biçime izin verir.Kendisi ona göre dönüştürür.\n",
        "np.array([3.14,2,8.18,9])"
      ],
      "execution_count": null,
      "outputs": [
        {
          "output_type": "execute_result",
          "data": {
            "text/plain": [
              "array([3.14, 2.  , 8.18, 9.  ])"
            ]
          },
          "metadata": {
            "tags": []
          },
          "execution_count": 5
        }
      ]
    },
    {
      "cell_type": "code",
      "metadata": {
        "colab": {
          "base_uri": "https://localhost:8080/"
        },
        "id": "Pr7EFFEpAUAO",
        "outputId": "6b9f0658-be34-47fc-e649-382766bdefd6"
      },
      "source": [
        "#Kendin de oluşturabilirsin.\n",
        "np.array([3.14,2,8.18,9],dtype=int)"
      ],
      "execution_count": null,
      "outputs": [
        {
          "output_type": "execute_result",
          "data": {
            "text/plain": [
              "array([3, 2, 8, 9])"
            ]
          },
          "metadata": {
            "tags": []
          },
          "execution_count": 6
        }
      ]
    },
    {
      "cell_type": "code",
      "metadata": {
        "colab": {
          "base_uri": "https://localhost:8080/"
        },
        "id": "uK7M93liApSD",
        "outputId": "a8160a98-447e-4b37-9994-a2f0ff2aafb6"
      },
      "source": [
        "#Sıfırdan array oluşturma\n",
        "np.zeros(10,dtype=int)"
      ],
      "execution_count": null,
      "outputs": [
        {
          "output_type": "execute_result",
          "data": {
            "text/plain": [
              "array([0, 0, 0, 0, 0, 0, 0, 0, 0, 0])"
            ]
          },
          "metadata": {
            "tags": []
          },
          "execution_count": 7
        }
      ]
    },
    {
      "cell_type": "code",
      "metadata": {
        "colab": {
          "base_uri": "https://localhost:8080/"
        },
        "id": "Uaz3clJqBAlm",
        "outputId": "f6d55a1b-b37e-4a87-b863-b9dfaf695c6d"
      },
      "source": [
        "np.ones((3,5),dtype=int)"
      ],
      "execution_count": null,
      "outputs": [
        {
          "output_type": "execute_result",
          "data": {
            "text/plain": [
              "array([[1, 1, 1, 1, 1],\n",
              "       [1, 1, 1, 1, 1],\n",
              "       [1, 1, 1, 1, 1]])"
            ]
          },
          "metadata": {
            "tags": []
          },
          "execution_count": 9
        }
      ]
    },
    {
      "cell_type": "code",
      "metadata": {
        "colab": {
          "base_uri": "https://localhost:8080/"
        },
        "id": "KXNs-VU8BOVh",
        "outputId": "cebd8112-f84f-4bbd-ffef-7d664205c2b8"
      },
      "source": [
        "np.full((3,5),3,dtype=int)"
      ],
      "execution_count": null,
      "outputs": [
        {
          "output_type": "execute_result",
          "data": {
            "text/plain": [
              "array([[3, 3, 3, 3, 3],\n",
              "       [3, 3, 3, 3, 3],\n",
              "       [3, 3, 3, 3, 3]])"
            ]
          },
          "metadata": {
            "tags": []
          },
          "execution_count": 10
        }
      ]
    },
    {
      "cell_type": "code",
      "metadata": {
        "colab": {
          "base_uri": "https://localhost:8080/"
        },
        "id": "WunraeszBeKU",
        "outputId": "b76858b3-4d54-4a23-9867-3570c8a0364b"
      },
      "source": [
        "np.arange(0,31,3,dtype=int)"
      ],
      "execution_count": null,
      "outputs": [
        {
          "output_type": "execute_result",
          "data": {
            "text/plain": [
              "array([ 0,  3,  6,  9, 12, 15, 18, 21, 24, 27, 30])"
            ]
          },
          "metadata": {
            "tags": []
          },
          "execution_count": 11
        }
      ]
    },
    {
      "cell_type": "code",
      "metadata": {
        "colab": {
          "base_uri": "https://localhost:8080/"
        },
        "id": "z4K3anrkBnV0",
        "outputId": "4973bcfb-aa10-427b-9020-712885b0bd6b"
      },
      "source": [
        "np.linspace(0,1,5)"
      ],
      "execution_count": null,
      "outputs": [
        {
          "output_type": "execute_result",
          "data": {
            "text/plain": [
              "array([0.  , 0.25, 0.5 , 0.75, 1.  ])"
            ]
          },
          "metadata": {
            "tags": []
          },
          "execution_count": 13
        }
      ]
    },
    {
      "cell_type": "code",
      "metadata": {
        "colab": {
          "base_uri": "https://localhost:8080/"
        },
        "id": "z2NJPA83DmDr",
        "outputId": "e586d686-c8d9-4b39-c651-1f0a103950a8"
      },
      "source": [
        "np.random.normal(10,4,(3,4))"
      ],
      "execution_count": null,
      "outputs": [
        {
          "output_type": "execute_result",
          "data": {
            "text/plain": [
              "array([[ 6.94014553, 14.60568857,  8.89237588, 12.76591914],\n",
              "       [14.7530851 ,  1.92443184,  8.01223619,  4.92951596],\n",
              "       [ 7.56178238, 10.95633446,  8.91867747, 11.75238739]])"
            ]
          },
          "metadata": {
            "tags": []
          },
          "execution_count": 14
        }
      ]
    },
    {
      "cell_type": "code",
      "metadata": {
        "colab": {
          "base_uri": "https://localhost:8080/"
        },
        "id": "CWEKP-VcERKy",
        "outputId": "0510d4f8-7171-4705-e2e8-4f3f3ee2024e"
      },
      "source": [
        "np.random.randint(0,10,(3,3))"
      ],
      "execution_count": null,
      "outputs": [
        {
          "output_type": "execute_result",
          "data": {
            "text/plain": [
              "array([[5, 7, 9],\n",
              "       [2, 6, 6],\n",
              "       [1, 7, 5]])"
            ]
          },
          "metadata": {
            "tags": []
          },
          "execution_count": 15
        }
      ]
    },
    {
      "cell_type": "code",
      "metadata": {
        "colab": {
          "base_uri": "https://localhost:8080/"
        },
        "id": "C1FdiJrDEZzj",
        "outputId": "81e4838a-bf1a-4760-f03b-ccbbcc9d675d"
      },
      "source": [
        "x=np.random.randint(10,size=10)\n",
        "x"
      ],
      "execution_count": null,
      "outputs": [
        {
          "output_type": "execute_result",
          "data": {
            "text/plain": [
              "array([0, 1, 0, 4, 2, 5, 6, 7, 3, 9])"
            ]
          },
          "metadata": {
            "tags": []
          },
          "execution_count": 18
        }
      ]
    },
    {
      "cell_type": "code",
      "metadata": {
        "colab": {
          "base_uri": "https://localhost:8080/"
        },
        "id": "6NK89loXE-BH",
        "outputId": "8816ce42-3bb1-47ad-d12d-6fa2bccf2958"
      },
      "source": [
        "x.ndim"
      ],
      "execution_count": null,
      "outputs": [
        {
          "output_type": "execute_result",
          "data": {
            "text/plain": [
              "1"
            ]
          },
          "metadata": {
            "tags": []
          },
          "execution_count": 19
        }
      ]
    },
    {
      "cell_type": "code",
      "metadata": {
        "colab": {
          "base_uri": "https://localhost:8080/"
        },
        "id": "l6Z6PxylFG0-",
        "outputId": "b48562a9-ca3f-48b2-ed74-4384f87a75af"
      },
      "source": [
        "x.shape"
      ],
      "execution_count": null,
      "outputs": [
        {
          "output_type": "execute_result",
          "data": {
            "text/plain": [
              "(10,)"
            ]
          },
          "metadata": {
            "tags": []
          },
          "execution_count": 20
        }
      ]
    },
    {
      "cell_type": "code",
      "metadata": {
        "colab": {
          "base_uri": "https://localhost:8080/"
        },
        "id": "Wjw9U2SBFII4",
        "outputId": "b2fae037-2c08-4a6e-99f4-e7daa772673d"
      },
      "source": [
        "x.size"
      ],
      "execution_count": null,
      "outputs": [
        {
          "output_type": "execute_result",
          "data": {
            "text/plain": [
              "10"
            ]
          },
          "metadata": {
            "tags": []
          },
          "execution_count": 21
        }
      ]
    },
    {
      "cell_type": "code",
      "metadata": {
        "colab": {
          "base_uri": "https://localhost:8080/"
        },
        "id": "zCEwnqQrFNvk",
        "outputId": "5e917d8a-4973-4634-fcdf-469971863f9e"
      },
      "source": [
        "x.dtype"
      ],
      "execution_count": null,
      "outputs": [
        {
          "output_type": "execute_result",
          "data": {
            "text/plain": [
              "dtype('int64')"
            ]
          },
          "metadata": {
            "tags": []
          },
          "execution_count": 22
        }
      ]
    },
    {
      "cell_type": "code",
      "metadata": {
        "colab": {
          "base_uri": "https://localhost:8080/"
        },
        "id": "trTz6ORiFU83",
        "outputId": "80a554d0-59b9-4ae2-df53-94dba59635bb"
      },
      "source": [
        "y=np.random.randint(10,size=(3,5))\n",
        "y"
      ],
      "execution_count": null,
      "outputs": [
        {
          "output_type": "execute_result",
          "data": {
            "text/plain": [
              "array([[6, 4, 1, 5, 3],\n",
              "       [2, 6, 1, 9, 3],\n",
              "       [2, 3, 4, 4, 9]])"
            ]
          },
          "metadata": {
            "tags": []
          },
          "execution_count": 23
        }
      ]
    },
    {
      "cell_type": "code",
      "metadata": {
        "colab": {
          "base_uri": "https://localhost:8080/"
        },
        "id": "UbXUlNfmFas1",
        "outputId": "b1ffba63-101a-462c-9a6c-8fee28755d99"
      },
      "source": [
        "y.ndim"
      ],
      "execution_count": null,
      "outputs": [
        {
          "output_type": "execute_result",
          "data": {
            "text/plain": [
              "2"
            ]
          },
          "metadata": {
            "tags": []
          },
          "execution_count": 24
        }
      ]
    },
    {
      "cell_type": "code",
      "metadata": {
        "colab": {
          "base_uri": "https://localhost:8080/"
        },
        "id": "G5W39Ns1Fb20",
        "outputId": "df51cb42-7676-4e61-bdb1-30b450974d29"
      },
      "source": [
        "y.shape"
      ],
      "execution_count": null,
      "outputs": [
        {
          "output_type": "execute_result",
          "data": {
            "text/plain": [
              "(3, 5)"
            ]
          },
          "metadata": {
            "tags": []
          },
          "execution_count": 25
        }
      ]
    },
    {
      "cell_type": "code",
      "metadata": {
        "colab": {
          "base_uri": "https://localhost:8080/"
        },
        "id": "1kHKuFZmFc0R",
        "outputId": "afc0dda5-48b1-46fc-dcee-ecf1c0367110"
      },
      "source": [
        "y.size"
      ],
      "execution_count": null,
      "outputs": [
        {
          "output_type": "execute_result",
          "data": {
            "text/plain": [
              "15"
            ]
          },
          "metadata": {
            "tags": []
          },
          "execution_count": 26
        }
      ]
    },
    {
      "cell_type": "code",
      "metadata": {
        "colab": {
          "base_uri": "https://localhost:8080/"
        },
        "id": "5ULUkPk1FgyI",
        "outputId": "ec6146a9-eaa7-4a78-9047-f594c5fa4d60"
      },
      "source": [
        "y.dtype"
      ],
      "execution_count": null,
      "outputs": [
        {
          "output_type": "execute_result",
          "data": {
            "text/plain": [
              "dtype('int64')"
            ]
          },
          "metadata": {
            "tags": []
          },
          "execution_count": 28
        }
      ]
    },
    {
      "cell_type": "code",
      "metadata": {
        "id": "bKg1wFCeFjDM",
        "colab": {
          "base_uri": "https://localhost:8080/"
        },
        "outputId": "6195ee92-4e98-4d57-cd29-5156a728f028"
      },
      "source": [
        "#Reshape(Yeniden Şekillendirme&Boyut değiştirme)\n",
        "import numpy as np\n",
        "np.arange(1,10)"
      ],
      "execution_count": null,
      "outputs": [
        {
          "output_type": "execute_result",
          "data": {
            "text/plain": [
              "array([1, 2, 3, 4, 5, 6, 7, 8, 9])"
            ]
          },
          "metadata": {
            "tags": []
          },
          "execution_count": 1
        }
      ]
    },
    {
      "cell_type": "code",
      "metadata": {
        "colab": {
          "base_uri": "https://localhost:8080/"
        },
        "id": "z49CG1c0Xs9s",
        "outputId": "fc6f5f87-d9ea-4ced-b45d-8968bd6fa2a5"
      },
      "source": [
        "np.arange(1,10).reshape((3,3))"
      ],
      "execution_count": null,
      "outputs": [
        {
          "output_type": "execute_result",
          "data": {
            "text/plain": [
              "array([[1, 2, 3],\n",
              "       [4, 5, 6],\n",
              "       [7, 8, 9]])"
            ]
          },
          "metadata": {
            "tags": []
          },
          "execution_count": 2
        }
      ]
    },
    {
      "cell_type": "code",
      "metadata": {
        "colab": {
          "base_uri": "https://localhost:8080/"
        },
        "id": "vwXrd1zXYZd4",
        "outputId": "2f327b17-ac4b-4db8-cbb9-3b7c24b408b8"
      },
      "source": [
        "a=np.arange(1,10)\n",
        "a"
      ],
      "execution_count": null,
      "outputs": [
        {
          "output_type": "execute_result",
          "data": {
            "text/plain": [
              "array([1, 2, 3, 4, 5, 6, 7, 8, 9])"
            ]
          },
          "metadata": {
            "tags": []
          },
          "execution_count": 4
        }
      ]
    },
    {
      "cell_type": "code",
      "metadata": {
        "colab": {
          "base_uri": "https://localhost:8080/"
        },
        "id": "ueOqBXfQYgzh",
        "outputId": "315ea3f8-5cbd-47fa-e924-e44dee360c65"
      },
      "source": [
        "a.ndim"
      ],
      "execution_count": null,
      "outputs": [
        {
          "output_type": "execute_result",
          "data": {
            "text/plain": [
              "1"
            ]
          },
          "metadata": {
            "tags": []
          },
          "execution_count": 5
        }
      ]
    },
    {
      "cell_type": "code",
      "metadata": {
        "colab": {
          "base_uri": "https://localhost:8080/"
        },
        "id": "Ckuv3Pa9YlI2",
        "outputId": "62f0179c-ddf4-4b8f-8440-1e770d157336"
      },
      "source": [
        "b=a.reshape(1,9)\n",
        "b"
      ],
      "execution_count": null,
      "outputs": [
        {
          "output_type": "execute_result",
          "data": {
            "text/plain": [
              "array([[1, 2, 3, 4, 5, 6, 7, 8, 9]])"
            ]
          },
          "metadata": {
            "tags": []
          },
          "execution_count": 6
        }
      ]
    },
    {
      "cell_type": "code",
      "metadata": {
        "colab": {
          "base_uri": "https://localhost:8080/"
        },
        "id": "1ILSc8toYtXI",
        "outputId": "b859fa8f-3095-45b4-d78c-aeb1e7909501"
      },
      "source": [
        "b.ndim"
      ],
      "execution_count": null,
      "outputs": [
        {
          "output_type": "execute_result",
          "data": {
            "text/plain": [
              "2"
            ]
          },
          "metadata": {
            "tags": []
          },
          "execution_count": 7
        }
      ]
    },
    {
      "cell_type": "code",
      "metadata": {
        "colab": {
          "base_uri": "https://localhost:8080/"
        },
        "id": "2lI5VAwiYb-k",
        "outputId": "fbb2294f-acfe-43eb-cfcd-63f55c1eb82f"
      },
      "source": [
        "#Concatenation(Birleştirme)\n",
        "import numpy as np\n",
        "x=np.array([1,2,3,4,5])\n",
        "y=np.array([7,8,9,10])\n",
        "\n",
        "np.concatenate([x,y])"
      ],
      "execution_count": null,
      "outputs": [
        {
          "output_type": "execute_result",
          "data": {
            "text/plain": [
              "array([ 1,  2,  3,  4,  5,  7,  8,  9, 10])"
            ]
          },
          "metadata": {
            "tags": []
          },
          "execution_count": 8
        }
      ]
    },
    {
      "cell_type": "code",
      "metadata": {
        "colab": {
          "base_uri": "https://localhost:8080/"
        },
        "id": "fh-OAJB1ZhxR",
        "outputId": "cb41d6f5-f6e5-4b30-8168-6327d71ed2d1"
      },
      "source": [
        "z=np.array([11,12,13])\n",
        "np.concatenate([x,y,z])"
      ],
      "execution_count": null,
      "outputs": [
        {
          "output_type": "execute_result",
          "data": {
            "text/plain": [
              "array([ 1,  2,  3,  4,  5,  7,  8,  9, 10, 11, 12, 13])"
            ]
          },
          "metadata": {
            "tags": []
          },
          "execution_count": 9
        }
      ]
    },
    {
      "cell_type": "code",
      "metadata": {
        "colab": {
          "base_uri": "https://localhost:8080/"
        },
        "id": "kZrkV4WzZpPf",
        "outputId": "33c8d431-9894-48f2-bba1-7bd41157a877"
      },
      "source": [
        "#İki Boyutta \n",
        "k=np.array([[1,2,3],\n",
        "           [4,5,6]])\n",
        "k"
      ],
      "execution_count": null,
      "outputs": [
        {
          "output_type": "execute_result",
          "data": {
            "text/plain": [
              "array([[1, 2, 3],\n",
              "       [4, 5, 6]])"
            ]
          },
          "metadata": {
            "tags": []
          },
          "execution_count": 11
        }
      ]
    },
    {
      "cell_type": "code",
      "metadata": {
        "colab": {
          "base_uri": "https://localhost:8080/"
        },
        "id": "VsC9bv3uaRid",
        "outputId": "37631e45-4c23-4113-d1aa-fddfd61d75b7"
      },
      "source": [
        "np.concatenate([k,k])"
      ],
      "execution_count": null,
      "outputs": [
        {
          "output_type": "execute_result",
          "data": {
            "text/plain": [
              "array([[1, 2, 3],\n",
              "       [4, 5, 6],\n",
              "       [1, 2, 3],\n",
              "       [4, 5, 6]])"
            ]
          },
          "metadata": {
            "tags": []
          },
          "execution_count": 12
        }
      ]
    },
    {
      "cell_type": "code",
      "metadata": {
        "colab": {
          "base_uri": "https://localhost:8080/"
        },
        "id": "q-zlpH1ka6jJ",
        "outputId": "b71a8858-c495-4575-b7b5-d135689c30e5"
      },
      "source": [
        "np.concatenate([k,k],axis=1)"
      ],
      "execution_count": null,
      "outputs": [
        {
          "output_type": "execute_result",
          "data": {
            "text/plain": [
              "array([[1, 2, 3, 1, 2, 3],\n",
              "       [4, 5, 6, 4, 5, 6]])"
            ]
          },
          "metadata": {
            "tags": []
          },
          "execution_count": 13
        }
      ]
    },
    {
      "cell_type": "code",
      "metadata": {
        "colab": {
          "base_uri": "https://localhost:8080/"
        },
        "id": "8Iv7gtx_a_sS",
        "outputId": "65785ad6-cbdd-4161-fe47-30ce4fa21114"
      },
      "source": [
        "#Splitting(Array Ayırma)\n",
        "s=np.array([1,2,3,99,99,3,2,1])\n",
        "np.split(s,[3,5])"
      ],
      "execution_count": null,
      "outputs": [
        {
          "output_type": "execute_result",
          "data": {
            "text/plain": [
              "[array([1, 2, 3]), array([99, 99]), array([3, 2, 1])]"
            ]
          },
          "metadata": {
            "tags": []
          },
          "execution_count": 14
        }
      ]
    },
    {
      "cell_type": "code",
      "metadata": {
        "colab": {
          "base_uri": "https://localhost:8080/"
        },
        "id": "3EEU3Xy7b9WZ",
        "outputId": "15b651cc-ec9f-4c08-f4db-90cabe70287c"
      },
      "source": [
        "#Çıktı atama,oluşturulan grupları bir değere verme\n",
        "x1,x2,x3=np.split(s,[3,5])\n",
        "x1"
      ],
      "execution_count": null,
      "outputs": [
        {
          "output_type": "execute_result",
          "data": {
            "text/plain": [
              "array([1, 2, 3])"
            ]
          },
          "metadata": {
            "tags": []
          },
          "execution_count": 16
        }
      ]
    },
    {
      "cell_type": "code",
      "metadata": {
        "colab": {
          "base_uri": "https://localhost:8080/"
        },
        "id": "aJEZEgATcQtS",
        "outputId": "e1700a42-3250-4846-8211-c3151ecd3c07"
      },
      "source": [
        "x2"
      ],
      "execution_count": null,
      "outputs": [
        {
          "output_type": "execute_result",
          "data": {
            "text/plain": [
              "array([99, 99])"
            ]
          },
          "metadata": {
            "tags": []
          },
          "execution_count": 17
        }
      ]
    },
    {
      "cell_type": "code",
      "metadata": {
        "colab": {
          "base_uri": "https://localhost:8080/"
        },
        "id": "b_LyVwwdcRlx",
        "outputId": "77d992ba-69f0-4193-831b-74246fc75721"
      },
      "source": [
        "x3"
      ],
      "execution_count": null,
      "outputs": [
        {
          "output_type": "execute_result",
          "data": {
            "text/plain": [
              "array([3, 2, 1])"
            ]
          },
          "metadata": {
            "tags": []
          },
          "execution_count": 18
        }
      ]
    },
    {
      "cell_type": "code",
      "metadata": {
        "colab": {
          "base_uri": "https://localhost:8080/"
        },
        "id": "hXBSh4fkcSkx",
        "outputId": "8ead6ce2-34b4-4f22-cebe-ffa767042595"
      },
      "source": [
        "#İki boyutlu ayırma\n",
        "m=np.arange(16).reshape(4,4)\n",
        "m"
      ],
      "execution_count": null,
      "outputs": [
        {
          "output_type": "execute_result",
          "data": {
            "text/plain": [
              "array([[ 0,  1,  2,  3],\n",
              "       [ 4,  5,  6,  7],\n",
              "       [ 8,  9, 10, 11],\n",
              "       [12, 13, 14, 15]])"
            ]
          },
          "metadata": {
            "tags": []
          },
          "execution_count": 21
        }
      ]
    },
    {
      "cell_type": "code",
      "metadata": {
        "colab": {
          "base_uri": "https://localhost:8080/"
        },
        "id": "PsHIOOGQc4xM",
        "outputId": "e575ebec-eef5-44e9-b671-1f716d52c1f4"
      },
      "source": [
        "#Yatay ayırma\n",
        "np.vsplit(m,[2])"
      ],
      "execution_count": null,
      "outputs": [
        {
          "output_type": "execute_result",
          "data": {
            "text/plain": [
              "[array([[0, 1, 2, 3],\n",
              "        [4, 5, 6, 7]]), array([[ 8,  9, 10, 11],\n",
              "        [12, 13, 14, 15]])]"
            ]
          },
          "metadata": {
            "tags": []
          },
          "execution_count": 25
        }
      ]
    },
    {
      "cell_type": "code",
      "metadata": {
        "colab": {
          "base_uri": "https://localhost:8080/"
        },
        "id": "GvouToZ4d5FU",
        "outputId": "28fafd2d-59f5-46dd-9950-6de869641045"
      },
      "source": [
        "ust,alt=np.vsplit(m,[2])\n",
        "ust\n",
        "alt"
      ],
      "execution_count": null,
      "outputs": [
        {
          "output_type": "execute_result",
          "data": {
            "text/plain": [
              "array([[ 8,  9, 10, 11],\n",
              "       [12, 13, 14, 15]])"
            ]
          },
          "metadata": {
            "tags": []
          },
          "execution_count": 27
        }
      ]
    },
    {
      "cell_type": "code",
      "metadata": {
        "colab": {
          "base_uri": "https://localhost:8080/"
        },
        "id": "7qhRlhCueLk0",
        "outputId": "1537f8c7-8533-462a-9861-74e3c43ef44b"
      },
      "source": [
        "#Dikine Ayırma\n",
        "np.hsplit(m,[3])"
      ],
      "execution_count": null,
      "outputs": [
        {
          "output_type": "execute_result",
          "data": {
            "text/plain": [
              "[array([[ 0,  1,  2],\n",
              "        [ 4,  5,  6],\n",
              "        [ 8,  9, 10],\n",
              "        [12, 13, 14]]), array([[ 3],\n",
              "        [ 7],\n",
              "        [11],\n",
              "        [15]])]"
            ]
          },
          "metadata": {
            "tags": []
          },
          "execution_count": 28
        }
      ]
    },
    {
      "cell_type": "code",
      "metadata": {
        "colab": {
          "base_uri": "https://localhost:8080/"
        },
        "id": "DQIcp8sTe2xz",
        "outputId": "6676285f-1bfd-4109-e0a3-fb8069953bbe"
      },
      "source": [
        "sag,sol=np.hsplit(m,[3])\n",
        "sag\n",
        "sol"
      ],
      "execution_count": null,
      "outputs": [
        {
          "output_type": "execute_result",
          "data": {
            "text/plain": [
              "array([[ 3],\n",
              "       [ 7],\n",
              "       [11],\n",
              "       [15]])"
            ]
          },
          "metadata": {
            "tags": []
          },
          "execution_count": 29
        }
      ]
    },
    {
      "cell_type": "code",
      "metadata": {
        "colab": {
          "base_uri": "https://localhost:8080/"
        },
        "id": "BUejnlOYe89b",
        "outputId": "d5dcc812-f74f-4863-f932-6517fa8502f2"
      },
      "source": [
        "#Sorting(Sıralama)\n",
        "v=np.array([2,3,9,8,7,6,1,0,11,15,3,4,5,6])\n",
        "v"
      ],
      "execution_count": null,
      "outputs": [
        {
          "output_type": "execute_result",
          "data": {
            "text/plain": [
              "array([ 2,  3,  9,  8,  7,  6,  1,  0, 11, 15,  3,  4,  5,  6])"
            ]
          },
          "metadata": {
            "tags": []
          },
          "execution_count": 30
        }
      ]
    },
    {
      "cell_type": "code",
      "metadata": {
        "colab": {
          "base_uri": "https://localhost:8080/"
        },
        "id": "ag1h3hPYggyQ",
        "outputId": "7d4e735a-6018-4e38-e053-e647f0e4acdf"
      },
      "source": [
        "np.sort(v)"
      ],
      "execution_count": null,
      "outputs": [
        {
          "output_type": "execute_result",
          "data": {
            "text/plain": [
              "array([ 0,  1,  2,  3,  3,  4,  5,  6,  6,  7,  8,  9, 11, 15])"
            ]
          },
          "metadata": {
            "tags": []
          },
          "execution_count": 31
        }
      ]
    },
    {
      "cell_type": "code",
      "metadata": {
        "colab": {
          "base_uri": "https://localhost:8080/"
        },
        "id": "libxuKu2gl4z",
        "outputId": "acea2fd3-4d87-4cec-b7ca-14f2df068fd0"
      },
      "source": [
        "v"
      ],
      "execution_count": null,
      "outputs": [
        {
          "output_type": "execute_result",
          "data": {
            "text/plain": [
              "array([ 2,  3,  9,  8,  7,  6,  1,  0, 11, 15,  3,  4,  5,  6])"
            ]
          },
          "metadata": {
            "tags": []
          },
          "execution_count": 32
        }
      ]
    },
    {
      "cell_type": "code",
      "metadata": {
        "id": "4NQfyrtBgtsX"
      },
      "source": [
        "v.sort()"
      ],
      "execution_count": null,
      "outputs": []
    },
    {
      "cell_type": "code",
      "metadata": {
        "colab": {
          "base_uri": "https://localhost:8080/"
        },
        "id": "b2rf1zC8gxw_",
        "outputId": "6777af35-8b51-4a0c-8233-4a1bf9c480d7"
      },
      "source": [
        "v"
      ],
      "execution_count": null,
      "outputs": [
        {
          "output_type": "execute_result",
          "data": {
            "text/plain": [
              "array([ 0,  1,  2,  3,  3,  4,  5,  6,  6,  7,  8,  9, 11, 15])"
            ]
          },
          "metadata": {
            "tags": []
          },
          "execution_count": 34
        }
      ]
    },
    {
      "cell_type": "code",
      "metadata": {
        "colab": {
          "base_uri": "https://localhost:8080/"
        },
        "id": "2Fa2w6L_hBsW",
        "outputId": "624f90ef-bff4-4707-a9d7-b3a839ad461e"
      },
      "source": [
        "#İki boyutlu\n",
        "z=np.random.normal(20,4,(3,3))\n",
        "z"
      ],
      "execution_count": null,
      "outputs": [
        {
          "output_type": "execute_result",
          "data": {
            "text/plain": [
              "array([[18.39334655, 16.68392792, 21.97308103],\n",
              "       [22.38670644, 20.18321893, 26.58309007],\n",
              "       [19.81209932, 23.83459446, 16.94857798]])"
            ]
          },
          "metadata": {
            "tags": []
          },
          "execution_count": 46
        }
      ]
    },
    {
      "cell_type": "code",
      "metadata": {
        "colab": {
          "base_uri": "https://localhost:8080/"
        },
        "id": "kFfkXSTSiYh3",
        "outputId": "ff0a39a1-6972-4c97-e341-0d11efa5df8b"
      },
      "source": [
        "z.mean()"
      ],
      "execution_count": null,
      "outputs": [
        {
          "output_type": "execute_result",
          "data": {
            "text/plain": [
              "20.75540474516613"
            ]
          },
          "metadata": {
            "tags": []
          },
          "execution_count": 47
        }
      ]
    },
    {
      "cell_type": "code",
      "metadata": {
        "colab": {
          "base_uri": "https://localhost:8080/"
        },
        "id": "huzzFGoYilRz",
        "outputId": "dfb39d0c-b9a1-4f59-d600-bc8614881f91"
      },
      "source": [
        "#Sütun bazlı sıralama\n",
        "np.sort(z,axis=0)"
      ],
      "execution_count": null,
      "outputs": [
        {
          "output_type": "execute_result",
          "data": {
            "text/plain": [
              "array([[18.39334655, 16.68392792, 16.94857798],\n",
              "       [19.81209932, 20.18321893, 21.97308103],\n",
              "       [22.38670644, 23.83459446, 26.58309007]])"
            ]
          },
          "metadata": {
            "tags": []
          },
          "execution_count": 48
        }
      ]
    },
    {
      "cell_type": "code",
      "metadata": {
        "colab": {
          "base_uri": "https://localhost:8080/"
        },
        "id": "nWjNl0lgk563",
        "outputId": "534f2d96-c253-40a2-9560-91bf66cd0413"
      },
      "source": [
        "#Satır bazlı sıralama\n",
        "np.sort(z,axis=1)"
      ],
      "execution_count": null,
      "outputs": [
        {
          "output_type": "execute_result",
          "data": {
            "text/plain": [
              "array([[16.68392792, 18.39334655, 21.97308103],\n",
              "       [20.18321893, 22.38670644, 26.58309007],\n",
              "       [16.94857798, 19.81209932, 23.83459446]])"
            ]
          },
          "metadata": {
            "tags": []
          },
          "execution_count": 49
        }
      ]
    },
    {
      "cell_type": "markdown",
      "metadata": {
        "id": "lchVp34KhYM2"
      },
      "source": [
        "**Indexler ve Kümeler Üzerinde İşlemler**"
      ]
    },
    {
      "cell_type": "code",
      "metadata": {
        "colab": {
          "base_uri": "https://localhost:8080/"
        },
        "id": "DN1yV3n9hino",
        "outputId": "d30ea79d-0824-4339-ca7a-2f4c56d65eb8"
      },
      "source": [
        "import numpy as np\n",
        "a=np.random.randint(10,size=10)\n",
        "a\n"
      ],
      "execution_count": null,
      "outputs": [
        {
          "output_type": "execute_result",
          "data": {
            "text/plain": [
              "array([7, 3, 6, 4, 8, 6, 4, 9, 6, 1])"
            ]
          },
          "metadata": {
            "tags": []
          },
          "execution_count": 2
        }
      ]
    },
    {
      "cell_type": "code",
      "metadata": {
        "colab": {
          "base_uri": "https://localhost:8080/"
        },
        "id": "dBVr8tIsiEdj",
        "outputId": "a9945b25-78af-4e9c-eb07-5e41a418d1ae"
      },
      "source": [
        "a[0]"
      ],
      "execution_count": null,
      "outputs": [
        {
          "output_type": "execute_result",
          "data": {
            "text/plain": [
              "7"
            ]
          },
          "metadata": {
            "tags": []
          },
          "execution_count": 3
        }
      ]
    },
    {
      "cell_type": "code",
      "metadata": {
        "colab": {
          "base_uri": "https://localhost:8080/"
        },
        "id": "erv1UHJriGMK",
        "outputId": "a2b47162-22c8-4807-9e8b-5b738f5cf8b4"
      },
      "source": [
        "a[-1]"
      ],
      "execution_count": null,
      "outputs": [
        {
          "output_type": "execute_result",
          "data": {
            "text/plain": [
              "1"
            ]
          },
          "metadata": {
            "tags": []
          },
          "execution_count": 4
        }
      ]
    },
    {
      "cell_type": "code",
      "metadata": {
        "colab": {
          "base_uri": "https://localhost:8080/"
        },
        "id": "dWw-cYmNiHbU",
        "outputId": "d57e658f-99a7-4b9d-c94b-923fa2fc5728"
      },
      "source": [
        "b=np.random.randint(10,size=(3,5))\n",
        "b"
      ],
      "execution_count": null,
      "outputs": [
        {
          "output_type": "execute_result",
          "data": {
            "text/plain": [
              "array([[0, 0, 5, 9, 2],\n",
              "       [2, 3, 2, 3, 3],\n",
              "       [4, 3, 0, 5, 3]])"
            ]
          },
          "metadata": {
            "tags": []
          },
          "execution_count": 12
        }
      ]
    },
    {
      "cell_type": "code",
      "metadata": {
        "colab": {
          "base_uri": "https://localhost:8080/"
        },
        "id": "p4ZHrqPuiSl1",
        "outputId": "60d3340a-a654-45a6-ae43-a9421ae7dc32"
      },
      "source": [
        "#Satır da sütünlarda tıpkı arraylarde olduğu gibi 0 ile başlar\n",
        "b[0,0]"
      ],
      "execution_count": null,
      "outputs": [
        {
          "output_type": "execute_result",
          "data": {
            "text/plain": [
              "0"
            ]
          },
          "metadata": {
            "tags": []
          },
          "execution_count": 13
        }
      ]
    },
    {
      "cell_type": "code",
      "metadata": {
        "colab": {
          "base_uri": "https://localhost:8080/"
        },
        "id": "LpPZ7dVKiwVM",
        "outputId": "b5385cd2-012c-461d-c074-15ce383dd2ba"
      },
      "source": [
        "b[2,4]"
      ],
      "execution_count": null,
      "outputs": [
        {
          "output_type": "execute_result",
          "data": {
            "text/plain": [
              "3"
            ]
          },
          "metadata": {
            "tags": []
          },
          "execution_count": 15
        }
      ]
    },
    {
      "cell_type": "code",
      "metadata": {
        "colab": {
          "base_uri": "https://localhost:8080/"
        },
        "id": "4jLDj31sjWVE",
        "outputId": "b0694de1-3494-4823-9a37-5ce593b0a60d"
      },
      "source": [
        "#NumPy standart veri tipine sahip olduğu için ekleme yapsan bile o veri tipine dönüştürür.\n",
        "b[1,4]=4.8\n",
        "b"
      ],
      "execution_count": null,
      "outputs": [
        {
          "output_type": "execute_result",
          "data": {
            "text/plain": [
              "array([[0, 0, 5, 9, 2],\n",
              "       [2, 3, 2, 3, 4],\n",
              "       [4, 3, 0, 5, 3]])"
            ]
          },
          "metadata": {
            "tags": []
          },
          "execution_count": 16
        }
      ]
    },
    {
      "cell_type": "code",
      "metadata": {
        "colab": {
          "base_uri": "https://localhost:8080/"
        },
        "id": "i0Q32Wm3lAE_",
        "outputId": "ddd2bd2a-7306-4893-c37c-0830431bb5a4"
      },
      "source": [
        "#Slicing(Array Alt Küme İşlemleri)\n",
        "x=np.arange(20,30,dtype=int)\n",
        "x"
      ],
      "execution_count": null,
      "outputs": [
        {
          "output_type": "execute_result",
          "data": {
            "text/plain": [
              "array([20, 21, 22, 23, 24, 25, 26, 27, 28, 29])"
            ]
          },
          "metadata": {
            "tags": []
          },
          "execution_count": 18
        }
      ]
    },
    {
      "cell_type": "code",
      "metadata": {
        "colab": {
          "base_uri": "https://localhost:8080/"
        },
        "id": "qC6eO6OTldeZ",
        "outputId": "0303099c-0ff2-4d42-8a43-702a621554b8"
      },
      "source": [
        "x[0:3]"
      ],
      "execution_count": null,
      "outputs": [
        {
          "output_type": "execute_result",
          "data": {
            "text/plain": [
              "array([20, 21, 22])"
            ]
          },
          "metadata": {
            "tags": []
          },
          "execution_count": 19
        }
      ]
    },
    {
      "cell_type": "code",
      "metadata": {
        "colab": {
          "base_uri": "https://localhost:8080/"
        },
        "id": "nE8vC9Amlk-b",
        "outputId": "263b7b17-fc58-44ca-e52f-3f3165af34f7"
      },
      "source": [
        "x[:4]"
      ],
      "execution_count": null,
      "outputs": [
        {
          "output_type": "execute_result",
          "data": {
            "text/plain": [
              "array([20, 21, 22, 23])"
            ]
          },
          "metadata": {
            "tags": []
          },
          "execution_count": 20
        }
      ]
    },
    {
      "cell_type": "code",
      "metadata": {
        "colab": {
          "base_uri": "https://localhost:8080/"
        },
        "id": "-mrNsJD1lni6",
        "outputId": "5ddcd07f-2fbc-4bb2-944b-d6594b72e239"
      },
      "source": [
        "x[:-1]"
      ],
      "execution_count": null,
      "outputs": [
        {
          "output_type": "execute_result",
          "data": {
            "text/plain": [
              "array([20, 21, 22, 23, 24, 25, 26, 27, 28])"
            ]
          },
          "metadata": {
            "tags": []
          },
          "execution_count": 21
        }
      ]
    },
    {
      "cell_type": "code",
      "metadata": {
        "colab": {
          "base_uri": "https://localhost:8080/"
        },
        "id": "7oOaJ0MwlsM6",
        "outputId": "c2c5e303-9cd0-4f7b-8481-b32e515ebfb6"
      },
      "source": [
        "x[5:]"
      ],
      "execution_count": null,
      "outputs": [
        {
          "output_type": "execute_result",
          "data": {
            "text/plain": [
              "array([25, 26, 27, 28, 29])"
            ]
          },
          "metadata": {
            "tags": []
          },
          "execution_count": 22
        }
      ]
    },
    {
      "cell_type": "code",
      "metadata": {
        "colab": {
          "base_uri": "https://localhost:8080/"
        },
        "id": "UZJpAr89lvYr",
        "outputId": "c57bdbc8-bca2-4aa8-c60c-bc54697fc809"
      },
      "source": [
        "x[1::2]"
      ],
      "execution_count": null,
      "outputs": [
        {
          "output_type": "execute_result",
          "data": {
            "text/plain": [
              "array([21, 23, 25, 27, 29])"
            ]
          },
          "metadata": {
            "tags": []
          },
          "execution_count": 23
        }
      ]
    },
    {
      "cell_type": "code",
      "metadata": {
        "colab": {
          "base_uri": "https://localhost:8080/"
        },
        "id": "BbC3gVKBl9PC",
        "outputId": "955b41eb-72a9-43e2-9261-fc3dce7ad432"
      },
      "source": [
        "x[2::3]"
      ],
      "execution_count": null,
      "outputs": [
        {
          "output_type": "execute_result",
          "data": {
            "text/plain": [
              "array([22, 25, 28])"
            ]
          },
          "metadata": {
            "tags": []
          },
          "execution_count": 24
        }
      ]
    },
    {
      "cell_type": "code",
      "metadata": {
        "colab": {
          "base_uri": "https://localhost:8080/"
        },
        "id": "YBkT_cWmmB5o",
        "outputId": "8415ea3a-0917-411b-92ce-005dd0673164"
      },
      "source": [
        "y=np.random.randint(10,size=(5,5))\n",
        "y"
      ],
      "execution_count": null,
      "outputs": [
        {
          "output_type": "execute_result",
          "data": {
            "text/plain": [
              "array([[9, 9, 2, 7, 1],\n",
              "       [8, 4, 2, 3, 8],\n",
              "       [3, 1, 9, 4, 0],\n",
              "       [6, 2, 7, 1, 8],\n",
              "       [4, 7, 5, 6, 9]])"
            ]
          },
          "metadata": {
            "tags": []
          },
          "execution_count": 25
        }
      ]
    },
    {
      "cell_type": "code",
      "metadata": {
        "colab": {
          "base_uri": "https://localhost:8080/"
        },
        "id": "teosL1R_mJrG",
        "outputId": "325579eb-7c4d-4c6a-c282-fc2a72034d1a"
      },
      "source": [
        "y[:,0]"
      ],
      "execution_count": null,
      "outputs": [
        {
          "output_type": "execute_result",
          "data": {
            "text/plain": [
              "array([9, 8, 3, 6, 4])"
            ]
          },
          "metadata": {
            "tags": []
          },
          "execution_count": 26
        }
      ]
    },
    {
      "cell_type": "code",
      "metadata": {
        "colab": {
          "base_uri": "https://localhost:8080/"
        },
        "id": "U-vF0cWNmT2k",
        "outputId": "fc99b5e7-ae06-4815-b735-e90c71f84278"
      },
      "source": [
        "y[:,3]"
      ],
      "execution_count": null,
      "outputs": [
        {
          "output_type": "execute_result",
          "data": {
            "text/plain": [
              "array([7, 3, 4, 1, 6])"
            ]
          },
          "metadata": {
            "tags": []
          },
          "execution_count": 27
        }
      ]
    },
    {
      "cell_type": "code",
      "metadata": {
        "colab": {
          "base_uri": "https://localhost:8080/"
        },
        "id": "zZ40QxqXmYq1",
        "outputId": "1de9107f-43ff-47f7-9509-8c429dc7ca74"
      },
      "source": [
        "y[0,:]"
      ],
      "execution_count": null,
      "outputs": [
        {
          "output_type": "execute_result",
          "data": {
            "text/plain": [
              "array([9, 9, 2, 7, 1])"
            ]
          },
          "metadata": {
            "tags": []
          },
          "execution_count": 28
        }
      ]
    },
    {
      "cell_type": "code",
      "metadata": {
        "colab": {
          "base_uri": "https://localhost:8080/"
        },
        "id": "Z-vFv_FkmlMT",
        "outputId": "5234ec20-c678-40bd-b5e5-cca85e48ce20"
      },
      "source": [
        "y[0:2,0:3]"
      ],
      "execution_count": null,
      "outputs": [
        {
          "output_type": "execute_result",
          "data": {
            "text/plain": [
              "array([[9, 9, 2],\n",
              "       [8, 4, 2]])"
            ]
          },
          "metadata": {
            "tags": []
          },
          "execution_count": 29
        }
      ]
    },
    {
      "cell_type": "code",
      "metadata": {
        "colab": {
          "base_uri": "https://localhost:8080/"
        },
        "id": "sgerGRMTnJjX",
        "outputId": "73a50521-053c-46ab-d9c6-95b97a82c1fd"
      },
      "source": [
        "y[2:4,1:4"
      ],
      "execution_count": null,
      "outputs": [
        {
          "output_type": "execute_result",
          "data": {
            "text/plain": [
              "array([[1, 9, 4],\n",
              "       [2, 7, 1]])"
            ]
          },
          "metadata": {
            "tags": []
          },
          "execution_count": 32
        }
      ]
    },
    {
      "cell_type": "code",
      "metadata": {
        "colab": {
          "base_uri": "https://localhost:8080/"
        },
        "id": "WobA5C6rnyTd",
        "outputId": "c713670f-e5b8-466b-ac15-bbc6237a92bc"
      },
      "source": [
        "y[::,0:2]"
      ],
      "execution_count": null,
      "outputs": [
        {
          "output_type": "execute_result",
          "data": {
            "text/plain": [
              "array([[9, 9],\n",
              "       [8, 4],\n",
              "       [3, 1],\n",
              "       [6, 2],\n",
              "       [4, 7]])"
            ]
          },
          "metadata": {
            "tags": []
          },
          "execution_count": 33
        }
      ]
    },
    {
      "cell_type": "code",
      "metadata": {
        "colab": {
          "base_uri": "https://localhost:8080/"
        },
        "id": "8bqircGQn4xT",
        "outputId": "c6038d4a-92f7-4f5f-d757-25d7d0d72a74"
      },
      "source": [
        "y[0:3,::]"
      ],
      "execution_count": null,
      "outputs": [
        {
          "output_type": "execute_result",
          "data": {
            "text/plain": [
              "array([[9, 9, 2, 7, 1],\n",
              "       [8, 4, 2, 3, 8],\n",
              "       [3, 1, 9, 4, 0]])"
            ]
          },
          "metadata": {
            "tags": []
          },
          "execution_count": 34
        }
      ]
    },
    {
      "cell_type": "code",
      "metadata": {
        "colab": {
          "base_uri": "https://localhost:8080/"
        },
        "id": "KX9q95TmokcB",
        "outputId": "0000abeb-9e8a-49a5-cdfb-da3e53095b03"
      },
      "source": [
        "#Alt küme üzerinde işlem yapmak\n",
        "t=np.random.randint(10,size=(5,5))\n",
        "t"
      ],
      "execution_count": null,
      "outputs": [
        {
          "output_type": "execute_result",
          "data": {
            "text/plain": [
              "array([[7, 1, 7, 4, 1],\n",
              "       [4, 0, 6, 5, 0],\n",
              "       [7, 2, 1, 1, 3],\n",
              "       [3, 5, 1, 2, 3],\n",
              "       [1, 7, 5, 9, 0]])"
            ]
          },
          "metadata": {
            "tags": []
          },
          "execution_count": 36
        }
      ]
    },
    {
      "cell_type": "code",
      "metadata": {
        "colab": {
          "base_uri": "https://localhost:8080/"
        },
        "id": "371lr1vGpJAr",
        "outputId": "8e8a7082-54eb-4b98-b96b-f945017c469a"
      },
      "source": [
        "t_altkume=t[0:3,0:2]\n",
        "t_altkume"
      ],
      "execution_count": null,
      "outputs": [
        {
          "output_type": "execute_result",
          "data": {
            "text/plain": [
              "array([[7, 1],\n",
              "       [4, 0],\n",
              "       [7, 2]])"
            ]
          },
          "metadata": {
            "tags": []
          },
          "execution_count": 37
        }
      ]
    },
    {
      "cell_type": "code",
      "metadata": {
        "colab": {
          "base_uri": "https://localhost:8080/"
        },
        "id": "yuyZ231Bphc2",
        "outputId": "1bb5dd20-4d16-4ddd-d668-f555a743a610"
      },
      "source": [
        "t_altkume[0,0]=15\n",
        "t_altkume[2,1]=10\n",
        "t_altkume"
      ],
      "execution_count": null,
      "outputs": [
        {
          "output_type": "execute_result",
          "data": {
            "text/plain": [
              "array([[15,  1],\n",
              "       [ 4,  0],\n",
              "       [ 7, 10]])"
            ]
          },
          "metadata": {
            "tags": []
          },
          "execution_count": 42
        }
      ]
    },
    {
      "cell_type": "code",
      "metadata": {
        "colab": {
          "base_uri": "https://localhost:8080/"
        },
        "id": "5q-FKmfUp_mB",
        "outputId": "0a178ffd-8fdb-40b9-87b4-c4d492d95629"
      },
      "source": [
        "t\n",
        "#Alt kümede yapılmış olan değişiklik üst kümede de gerçekleşir."
      ],
      "execution_count": null,
      "outputs": [
        {
          "output_type": "execute_result",
          "data": {
            "text/plain": [
              "array([[15,  1,  7,  4,  1],\n",
              "       [ 4,  0,  6,  5,  0],\n",
              "       [ 7, 10,  1,  1,  3],\n",
              "       [ 3,  5,  1,  2,  3],\n",
              "       [ 1,  7,  5,  9,  0]])"
            ]
          },
          "metadata": {
            "tags": []
          },
          "execution_count": 43
        }
      ]
    },
    {
      "cell_type": "code",
      "metadata": {
        "colab": {
          "base_uri": "https://localhost:8080/"
        },
        "id": "PmCRXw7LqPYE",
        "outputId": "4b7dda96-fbfb-4218-af47-976772625e39"
      },
      "source": [
        "#Eğer sadece alt kümede işlem yapmak istiyorsak copy fonksiyonu kullanılır\n",
        "#Üst kümede işlem değişmemiş olur.\n",
        "z=np.random.randint(10,size=(5,5))\n",
        "z"
      ],
      "execution_count": null,
      "outputs": [
        {
          "output_type": "execute_result",
          "data": {
            "text/plain": [
              "array([[1, 4, 3, 9, 8],\n",
              "       [8, 6, 0, 8, 2],\n",
              "       [0, 7, 8, 7, 3],\n",
              "       [6, 5, 3, 1, 2],\n",
              "       [2, 7, 6, 1, 7]])"
            ]
          },
          "metadata": {
            "tags": []
          },
          "execution_count": 44
        }
      ]
    },
    {
      "cell_type": "code",
      "metadata": {
        "colab": {
          "base_uri": "https://localhost:8080/"
        },
        "id": "p78ojr_1qVTA",
        "outputId": "48a0c243-08c0-4d57-8a49-981038f48c21"
      },
      "source": [
        "z_altkume=z[0:3,0:2].copy()\n",
        "z_altkume\n"
      ],
      "execution_count": null,
      "outputs": [
        {
          "output_type": "execute_result",
          "data": {
            "text/plain": [
              "array([[1, 4],\n",
              "       [8, 6],\n",
              "       [0, 7]])"
            ]
          },
          "metadata": {
            "tags": []
          },
          "execution_count": 48
        }
      ]
    },
    {
      "cell_type": "code",
      "metadata": {
        "colab": {
          "base_uri": "https://localhost:8080/"
        },
        "id": "mlEGbSJ8rI-d",
        "outputId": "dbf43ebd-f4d1-4493-895c-bbaca9b6f64c"
      },
      "source": [
        "z_altkume[1,1]=5\n",
        "z_altkume"
      ],
      "execution_count": null,
      "outputs": [
        {
          "output_type": "execute_result",
          "data": {
            "text/plain": [
              "array([[1, 4],\n",
              "       [8, 5],\n",
              "       [0, 7]])"
            ]
          },
          "metadata": {
            "tags": []
          },
          "execution_count": 49
        }
      ]
    },
    {
      "cell_type": "code",
      "metadata": {
        "colab": {
          "base_uri": "https://localhost:8080/"
        },
        "id": "JA_8SvW4rSfi",
        "outputId": "2c917a28-c3f8-4d3f-904a-eedff842f21b"
      },
      "source": [
        "z"
      ],
      "execution_count": null,
      "outputs": [
        {
          "output_type": "execute_result",
          "data": {
            "text/plain": [
              "array([[1, 4, 3, 9, 8],\n",
              "       [8, 6, 0, 8, 2],\n",
              "       [0, 7, 8, 7, 3],\n",
              "       [6, 5, 3, 1, 2],\n",
              "       [2, 7, 6, 1, 7]])"
            ]
          },
          "metadata": {
            "tags": []
          },
          "execution_count": 50
        }
      ]
    },
    {
      "cell_type": "code",
      "metadata": {
        "colab": {
          "base_uri": "https://localhost:8080/"
        },
        "id": "jJBXAI1SrZqp",
        "outputId": "d06e63ef-3890-4b17-c342-5f8aee05b14e"
      },
      "source": [
        "#Fancy Index\n",
        "v=np.arange(0,30,3)\n",
        "v"
      ],
      "execution_count": null,
      "outputs": [
        {
          "output_type": "execute_result",
          "data": {
            "text/plain": [
              "array([ 0,  3,  6,  9, 12, 15, 18, 21, 24, 27])"
            ]
          },
          "metadata": {
            "tags": []
          },
          "execution_count": 51
        }
      ]
    },
    {
      "cell_type": "code",
      "metadata": {
        "colab": {
          "base_uri": "https://localhost:8080/"
        },
        "id": "Xzb6G0Bsyt7T",
        "outputId": "db96258c-796d-477e-ab46-a9a11db5e837"
      },
      "source": [
        "v[1]"
      ],
      "execution_count": null,
      "outputs": [
        {
          "output_type": "execute_result",
          "data": {
            "text/plain": [
              "3"
            ]
          },
          "metadata": {
            "tags": []
          },
          "execution_count": 55
        }
      ]
    },
    {
      "cell_type": "code",
      "metadata": {
        "colab": {
          "base_uri": "https://localhost:8080/"
        },
        "id": "UCpqeOEPyMjX",
        "outputId": "574c5db4-a5ea-4e4a-f201-77c42ea77d8a"
      },
      "source": [
        "v[3]"
      ],
      "execution_count": null,
      "outputs": [
        {
          "output_type": "execute_result",
          "data": {
            "text/plain": [
              "9"
            ]
          },
          "metadata": {
            "tags": []
          },
          "execution_count": 52
        }
      ]
    },
    {
      "cell_type": "code",
      "metadata": {
        "colab": {
          "base_uri": "https://localhost:8080/"
        },
        "id": "V-ztsd72yOTp",
        "outputId": "7621e534-9361-4390-afeb-2a0a6067f76a"
      },
      "source": [
        "v[5]"
      ],
      "execution_count": null,
      "outputs": [
        {
          "output_type": "execute_result",
          "data": {
            "text/plain": [
              "15"
            ]
          },
          "metadata": {
            "tags": []
          },
          "execution_count": 53
        }
      ]
    },
    {
      "cell_type": "code",
      "metadata": {
        "colab": {
          "base_uri": "https://localhost:8080/"
        },
        "id": "GEmClOC2yTnI",
        "outputId": "d2095ec2-9f74-4762-9c69-90253070d126"
      },
      "source": [
        "v[1],v[3],v[5]"
      ],
      "execution_count": null,
      "outputs": [
        {
          "output_type": "execute_result",
          "data": {
            "text/plain": [
              "(3, 9, 15)"
            ]
          },
          "metadata": {
            "tags": []
          },
          "execution_count": 56
        }
      ]
    },
    {
      "cell_type": "code",
      "metadata": {
        "colab": {
          "base_uri": "https://localhost:8080/"
        },
        "id": "zu9nXCx7yjEr",
        "outputId": "dbe76521-5d5f-48e0-d9c9-741d7dd239f2"
      },
      "source": [
        "al_getir=[1,3,5]\n",
        "v[al_getir]"
      ],
      "execution_count": null,
      "outputs": [
        {
          "output_type": "execute_result",
          "data": {
            "text/plain": [
              "array([ 3,  9, 15])"
            ]
          },
          "metadata": {
            "tags": []
          },
          "execution_count": 57
        }
      ]
    },
    {
      "cell_type": "code",
      "metadata": {
        "colab": {
          "base_uri": "https://localhost:8080/"
        },
        "id": "bYf9NctKzaN9",
        "outputId": "bb6c9176-6adb-4a26-9fc1-86a6e71c7a2b"
      },
      "source": [
        "#İki boyutta fancy\n",
        "u=np.arange(9).reshape(3,3)\n",
        "u"
      ],
      "execution_count": null,
      "outputs": [
        {
          "output_type": "execute_result",
          "data": {
            "text/plain": [
              "array([[0, 1, 2],\n",
              "       [3, 4, 5],\n",
              "       [6, 7, 8]])"
            ]
          },
          "metadata": {
            "tags": []
          },
          "execution_count": 59
        }
      ]
    },
    {
      "cell_type": "code",
      "metadata": {
        "colab": {
          "base_uri": "https://localhost:8080/"
        },
        "id": "6jS0v14WzyZe",
        "outputId": "28203fca-a652-4302-c121-04b20dc88768"
      },
      "source": [
        "satır=np.array([0,1])\n",
        "sutun=np.array([1,2])\n",
        "u[satır,sutun]"
      ],
      "execution_count": null,
      "outputs": [
        {
          "output_type": "execute_result",
          "data": {
            "text/plain": [
              "array([1, 5])"
            ]
          },
          "metadata": {
            "tags": []
          },
          "execution_count": 60
        }
      ]
    },
    {
      "cell_type": "code",
      "metadata": {
        "id": "DpPMhaaT17SJ"
      },
      "source": [
        "#Basit index ile Fancy index birlikte kullanımı"
      ],
      "execution_count": null,
      "outputs": []
    },
    {
      "cell_type": "code",
      "metadata": {
        "colab": {
          "base_uri": "https://localhost:8080/"
        },
        "id": "LkpwknOr1-FY",
        "outputId": "5dafe481-398d-4538-c554-dbf27e4ffcd4"
      },
      "source": [
        "u[0,[1,2]]"
      ],
      "execution_count": null,
      "outputs": [
        {
          "output_type": "execute_result",
          "data": {
            "text/plain": [
              "array([1, 2])"
            ]
          },
          "metadata": {
            "tags": []
          },
          "execution_count": 61
        }
      ]
    },
    {
      "cell_type": "code",
      "metadata": {
        "colab": {
          "base_uri": "https://localhost:8080/"
        },
        "id": "tI__fAPC2kKC",
        "outputId": "a7256c5c-8ccb-4f76-ac77-7d1044fe54a3"
      },
      "source": [
        "#Slice ile fancy\n",
        "u[0:,[1,2]]"
      ],
      "execution_count": null,
      "outputs": [
        {
          "output_type": "execute_result",
          "data": {
            "text/plain": [
              "array([[1, 2],\n",
              "       [4, 5],\n",
              "       [7, 8]])"
            ]
          },
          "metadata": {
            "tags": []
          },
          "execution_count": 62
        }
      ]
    },
    {
      "cell_type": "code",
      "metadata": {
        "colab": {
          "base_uri": "https://localhost:8080/"
        },
        "id": "wyJuA2iFQgx6",
        "outputId": "66e9b52d-dea2-4727-a460-9bf191207bad"
      },
      "source": [
        "import numpy as np\n",
        "v=np.array([1,2,3,4,5])\n",
        "v"
      ],
      "execution_count": 1,
      "outputs": [
        {
          "output_type": "execute_result",
          "data": {
            "text/plain": [
              "array([1, 2, 3, 4, 5])"
            ]
          },
          "metadata": {
            "tags": []
          },
          "execution_count": 1
        }
      ]
    },
    {
      "cell_type": "code",
      "metadata": {
        "colab": {
          "base_uri": "https://localhost:8080/"
        },
        "id": "G458_ZZMQsoc",
        "outputId": "048121dc-b81c-4c31-99eb-2c2e09ea68ca"
      },
      "source": [
        "v>5"
      ],
      "execution_count": 2,
      "outputs": [
        {
          "output_type": "execute_result",
          "data": {
            "text/plain": [
              "array([False, False, False, False, False])"
            ]
          },
          "metadata": {
            "tags": []
          },
          "execution_count": 2
        }
      ]
    },
    {
      "cell_type": "code",
      "metadata": {
        "colab": {
          "base_uri": "https://localhost:8080/"
        },
        "id": "0AyeymB6Qu1f",
        "outputId": "315a6557-287c-4517-f103-74182e28acdc"
      },
      "source": [
        "v<3"
      ],
      "execution_count": 3,
      "outputs": [
        {
          "output_type": "execute_result",
          "data": {
            "text/plain": [
              "array([ True,  True, False, False, False])"
            ]
          },
          "metadata": {
            "tags": []
          },
          "execution_count": 3
        }
      ]
    },
    {
      "cell_type": "code",
      "metadata": {
        "colab": {
          "base_uri": "https://localhost:8080/"
        },
        "id": "4VVLEummSTU7",
        "outputId": "f03b30a8-82e8-4a54-c212-4fd75ce1c2cc"
      },
      "source": [
        "v[v<3]"
      ],
      "execution_count": 4,
      "outputs": [
        {
          "output_type": "execute_result",
          "data": {
            "text/plain": [
              "array([1, 2])"
            ]
          },
          "metadata": {
            "tags": []
          },
          "execution_count": 4
        }
      ]
    },
    {
      "cell_type": "code",
      "metadata": {
        "colab": {
          "base_uri": "https://localhost:8080/"
        },
        "id": "0PddZwYcSX0q",
        "outputId": "3d9ac7c0-40e8-45d2-ee9d-2f9c9ef9204b"
      },
      "source": [
        "v[v!=4]"
      ],
      "execution_count": 5,
      "outputs": [
        {
          "output_type": "execute_result",
          "data": {
            "text/plain": [
              "array([1, 2, 3, 5])"
            ]
          },
          "metadata": {
            "tags": []
          },
          "execution_count": 5
        }
      ]
    },
    {
      "cell_type": "code",
      "metadata": {
        "colab": {
          "base_uri": "https://localhost:8080/"
        },
        "id": "kyioockJSkG6",
        "outputId": "e14ecff1-acc5-44c5-958d-3b94cfb59244"
      },
      "source": [
        "v*2"
      ],
      "execution_count": 6,
      "outputs": [
        {
          "output_type": "execute_result",
          "data": {
            "text/plain": [
              "array([ 2,  4,  6,  8, 10])"
            ]
          },
          "metadata": {
            "tags": []
          },
          "execution_count": 6
        }
      ]
    },
    {
      "cell_type": "code",
      "metadata": {
        "colab": {
          "base_uri": "https://localhost:8080/"
        },
        "id": "cMbKihI6StXG",
        "outputId": "1a86dbd3-7289-4942-b085-729705b7c3d1"
      },
      "source": [
        "v/5"
      ],
      "execution_count": 7,
      "outputs": [
        {
          "output_type": "execute_result",
          "data": {
            "text/plain": [
              "array([0.2, 0.4, 0.6, 0.8, 1. ])"
            ]
          },
          "metadata": {
            "tags": []
          },
          "execution_count": 7
        }
      ]
    },
    {
      "cell_type": "code",
      "metadata": {
        "id": "Tc9UV4YcSvCy"
      },
      "source": [
        "#Matematiksel İşlemler\n",
        "#Operatörle yapılacağı gib ufunctionlarla da yapılır"
      ],
      "execution_count": null,
      "outputs": []
    },
    {
      "cell_type": "code",
      "metadata": {
        "colab": {
          "base_uri": "https://localhost:8080/"
        },
        "id": "HJZs7vQxTgB7",
        "outputId": "256502fd-9e31-4e3e-9ae6-55a759f1b427"
      },
      "source": [
        "#Operator\n",
        "v-1"
      ],
      "execution_count": 8,
      "outputs": [
        {
          "output_type": "execute_result",
          "data": {
            "text/plain": [
              "array([0, 1, 2, 3, 4])"
            ]
          },
          "metadata": {
            "tags": []
          },
          "execution_count": 8
        }
      ]
    },
    {
      "cell_type": "code",
      "metadata": {
        "colab": {
          "base_uri": "https://localhost:8080/"
        },
        "id": "GOpBPUEzThWX",
        "outputId": "7aef7c37-d62a-4239-f9c4-295936e70b3f"
      },
      "source": [
        "#Ufunction\n",
        "np.subtract(v,1)"
      ],
      "execution_count": 9,
      "outputs": [
        {
          "output_type": "execute_result",
          "data": {
            "text/plain": [
              "array([0, 1, 2, 3, 4])"
            ]
          },
          "metadata": {
            "tags": []
          },
          "execution_count": 9
        }
      ]
    },
    {
      "cell_type": "code",
      "metadata": {
        "colab": {
          "base_uri": "https://localhost:8080/"
        },
        "id": "BEY-JL_vTugj",
        "outputId": "7319f9d6-cd88-4bdd-cc45-c69597c7f39d"
      },
      "source": [
        "np.add(v,2)"
      ],
      "execution_count": 10,
      "outputs": [
        {
          "output_type": "execute_result",
          "data": {
            "text/plain": [
              "array([3, 4, 5, 6, 7])"
            ]
          },
          "metadata": {
            "tags": []
          },
          "execution_count": 10
        }
      ]
    },
    {
      "cell_type": "code",
      "metadata": {
        "colab": {
          "base_uri": "https://localhost:8080/"
        },
        "id": "3wOCYPmZTxkC",
        "outputId": "863152a2-9673-4b08-ac37-e12ebd3dde42"
      },
      "source": [
        "np.multiply(v,3)"
      ],
      "execution_count": 11,
      "outputs": [
        {
          "output_type": "execute_result",
          "data": {
            "text/plain": [
              "array([ 3,  6,  9, 12, 15])"
            ]
          },
          "metadata": {
            "tags": []
          },
          "execution_count": 11
        }
      ]
    },
    {
      "cell_type": "code",
      "metadata": {
        "colab": {
          "base_uri": "https://localhost:8080/"
        },
        "id": "mRzWrME1T0Ee",
        "outputId": "8526f06f-e932-4bf8-e781-89734087b276"
      },
      "source": [
        "np.divide(v,4)"
      ],
      "execution_count": 13,
      "outputs": [
        {
          "output_type": "execute_result",
          "data": {
            "text/plain": [
              "array([0.25, 0.5 , 0.75, 1.  , 1.25])"
            ]
          },
          "metadata": {
            "tags": []
          },
          "execution_count": 13
        }
      ]
    },
    {
      "cell_type": "code",
      "metadata": {
        "colab": {
          "base_uri": "https://localhost:8080/"
        },
        "id": "NNuOXA0HT6Ia",
        "outputId": "9c0fee6d-8a26-4bc0-9300-97a184247e3c"
      },
      "source": [
        "np.power(v,2)"
      ],
      "execution_count": 14,
      "outputs": [
        {
          "output_type": "execute_result",
          "data": {
            "text/plain": [
              "array([ 1,  4,  9, 16, 25])"
            ]
          },
          "metadata": {
            "tags": []
          },
          "execution_count": 14
        }
      ]
    },
    {
      "cell_type": "code",
      "metadata": {
        "colab": {
          "base_uri": "https://localhost:8080/"
        },
        "id": "JGmMeQTNT-1Z",
        "outputId": "e91e4165-4c39-402d-d3e2-42a5d9cf49c2"
      },
      "source": [
        "np.mod(v,2)"
      ],
      "execution_count": 16,
      "outputs": [
        {
          "output_type": "execute_result",
          "data": {
            "text/plain": [
              "array([1, 0, 1, 0, 1])"
            ]
          },
          "metadata": {
            "tags": []
          },
          "execution_count": 16
        }
      ]
    },
    {
      "cell_type": "code",
      "metadata": {
        "colab": {
          "base_uri": "https://localhost:8080/"
        },
        "id": "x2xv1Z2zUC6z",
        "outputId": "ca3d2c4f-40ba-46b4-c877-819bb6c7d464"
      },
      "source": [
        "np.absolute(v)"
      ],
      "execution_count": 17,
      "outputs": [
        {
          "output_type": "execute_result",
          "data": {
            "text/plain": [
              "array([1, 2, 3, 4, 5])"
            ]
          },
          "metadata": {
            "tags": []
          },
          "execution_count": 17
        }
      ]
    },
    {
      "cell_type": "code",
      "metadata": {
        "colab": {
          "base_uri": "https://localhost:8080/"
        },
        "id": "MvEY744WUcpE",
        "outputId": "93cb3cf6-9661-437f-bddb-cd5e2768f04f"
      },
      "source": [
        "np.sin(180)"
      ],
      "execution_count": 18,
      "outputs": [
        {
          "output_type": "execute_result",
          "data": {
            "text/plain": [
              "-0.8011526357338304"
            ]
          },
          "metadata": {
            "tags": []
          },
          "execution_count": 18
        }
      ]
    },
    {
      "cell_type": "code",
      "metadata": {
        "colab": {
          "base_uri": "https://localhost:8080/"
        },
        "id": "mtro63M-UzZi",
        "outputId": "98e6586c-81cd-4ecd-eddc-bc4625bd4796"
      },
      "source": [
        "np.cos(90)"
      ],
      "execution_count": 19,
      "outputs": [
        {
          "output_type": "execute_result",
          "data": {
            "text/plain": [
              "-0.4480736161291701"
            ]
          },
          "metadata": {
            "tags": []
          },
          "execution_count": 19
        }
      ]
    },
    {
      "cell_type": "code",
      "metadata": {
        "colab": {
          "base_uri": "https://localhost:8080/"
        },
        "id": "dRPl7g9VU2RU",
        "outputId": "1fda7d6c-6bf7-40f4-8e53-d7023389b3ef"
      },
      "source": [
        "np.log(v)"
      ],
      "execution_count": 20,
      "outputs": [
        {
          "output_type": "execute_result",
          "data": {
            "text/plain": [
              "array([0.        , 0.69314718, 1.09861229, 1.38629436, 1.60943791])"
            ]
          },
          "metadata": {
            "tags": []
          },
          "execution_count": 20
        }
      ]
    },
    {
      "cell_type": "code",
      "metadata": {
        "colab": {
          "base_uri": "https://localhost:8080/"
        },
        "id": "MC-hlrwZU8Mq",
        "outputId": "d9fa0691-8516-4164-ea60-09bd719d8c98"
      },
      "source": [
        "np.log2(v)"
      ],
      "execution_count": 21,
      "outputs": [
        {
          "output_type": "execute_result",
          "data": {
            "text/plain": [
              "array([0.        , 1.        , 1.5849625 , 2.        , 2.32192809])"
            ]
          },
          "metadata": {
            "tags": []
          },
          "execution_count": 21
        }
      ]
    },
    {
      "cell_type": "code",
      "metadata": {
        "id": "bnCUICYmVDr6"
      },
      "source": [
        "#numPY hakkındaki paketleri ve daha fazla bilgi edinmek için:\n",
        "?np\n",
        "#Ya da google"
      ],
      "execution_count": 22,
      "outputs": []
    },
    {
      "cell_type": "code",
      "metadata": {
        "id": "O7KQgB8aWBXA"
      },
      "source": [
        "#cheatsheet\n",
        "Hem Python Hem R cheat sheetleri internetten bulup indirebilirsin."
      ],
      "execution_count": null,
      "outputs": []
    },
    {
      "cell_type": "code",
      "metadata": {
        "id": "FVYHxXmBcjFZ"
      },
      "source": [
        "#Statistics\n",
        "np.mean(arr,axis=0) | Returns mean along specific axis\n",
        "arr.sum() | Returns sum of arr\n",
        "arr.min() | Returns minimum value of arr\n",
        "arr.max(axis=0) | Returns maximum value of specific axis\n",
        "np.var(arr) | Returns the variance of array\n",
        "np.std(arr,axis=1) | Returns the standard deviation of specific axis\n",
        "arr.corrcoef() | Returns correlation coefficient of array"
      ],
      "execution_count": null,
      "outputs": []
    },
    {
      "cell_type": "code",
      "metadata": {
        "colab": {
          "base_uri": "https://localhost:8080/"
        },
        "id": "thMldbq7cluz",
        "outputId": "44d03689-4653-4920-f5d8-09fd18bc57f6"
      },
      "source": [
        "np.mean(v,axis=0)"
      ],
      "execution_count": 23,
      "outputs": [
        {
          "output_type": "execute_result",
          "data": {
            "text/plain": [
              "3.0"
            ]
          },
          "metadata": {
            "tags": []
          },
          "execution_count": 23
        }
      ]
    },
    {
      "cell_type": "code",
      "metadata": {
        "colab": {
          "base_uri": "https://localhost:8080/"
        },
        "id": "jLZc-86Hc11w",
        "outputId": "be04c4e8-5e1d-487b-a928-5adc6ba92c62"
      },
      "source": [
        "v.sum()"
      ],
      "execution_count": 24,
      "outputs": [
        {
          "output_type": "execute_result",
          "data": {
            "text/plain": [
              "15"
            ]
          },
          "metadata": {
            "tags": []
          },
          "execution_count": 24
        }
      ]
    },
    {
      "cell_type": "code",
      "metadata": {
        "colab": {
          "base_uri": "https://localhost:8080/"
        },
        "id": "yMEM8xQ-c3Vk",
        "outputId": "3952b820-644a-46fc-f06e-a640248823b8"
      },
      "source": [
        "v.min()"
      ],
      "execution_count": 25,
      "outputs": [
        {
          "output_type": "execute_result",
          "data": {
            "text/plain": [
              "1"
            ]
          },
          "metadata": {
            "tags": []
          },
          "execution_count": 25
        }
      ]
    },
    {
      "cell_type": "code",
      "metadata": {
        "id": "oasZzyp_dKPC"
      },
      "source": [
        "#İki bilinmeyenli denklemin çözümü\n",
        "import numpy as np\n",
        "5*x0+x1=12\n",
        "x0+3*x1=10"
      ],
      "execution_count": null,
      "outputs": []
    },
    {
      "cell_type": "code",
      "metadata": {
        "id": "ZXBxpPIXeuY3"
      },
      "source": [
        "a=np.array([[5,1],[1,3]])\n",
        "b=np.array([12,10])"
      ],
      "execution_count": 27,
      "outputs": []
    },
    {
      "cell_type": "code",
      "metadata": {
        "colab": {
          "base_uri": "https://localhost:8080/"
        },
        "id": "HnrXCSrlfO6C",
        "outputId": "b877642c-14c4-4689-ae44-0c03c4a5ac2a"
      },
      "source": [
        "a"
      ],
      "execution_count": 28,
      "outputs": [
        {
          "output_type": "execute_result",
          "data": {
            "text/plain": [
              "array([[5, 1],\n",
              "       [1, 3]])"
            ]
          },
          "metadata": {
            "tags": []
          },
          "execution_count": 28
        }
      ]
    },
    {
      "cell_type": "code",
      "metadata": {
        "colab": {
          "base_uri": "https://localhost:8080/"
        },
        "id": "R3L_2-PDfPuA",
        "outputId": "f959d8d5-d417-452a-ad96-33f9adc46c55"
      },
      "source": [
        "b"
      ],
      "execution_count": 29,
      "outputs": [
        {
          "output_type": "execute_result",
          "data": {
            "text/plain": [
              "array([12, 10])"
            ]
          },
          "metadata": {
            "tags": []
          },
          "execution_count": 29
        }
      ]
    },
    {
      "cell_type": "code",
      "metadata": {
        "colab": {
          "base_uri": "https://localhost:8080/"
        },
        "id": "5V9XJyu8fQkQ",
        "outputId": "b2b05c7d-3af4-4e61-b67d-0233915b5c6b"
      },
      "source": [
        "x=np.linalg.solve(a,b)\n",
        "x"
      ],
      "execution_count": 30,
      "outputs": [
        {
          "output_type": "execute_result",
          "data": {
            "text/plain": [
              "array([1.85714286, 2.71428571])"
            ]
          },
          "metadata": {
            "tags": []
          },
          "execution_count": 30
        }
      ]
    },
    {
      "cell_type": "code",
      "metadata": {
        "colab": {
          "base_uri": "https://localhost:8080/"
        },
        "id": "ONO53mv0tH_E",
        "outputId": "0abf61cc-091a-4668-f01d-9fe892f354e3"
      },
      "source": [
        "m=np.array([[0, 1, 2],\n",
        "\n",
        "             [3, 4, 5],\n",
        "\n",
        "             [6, 7, 8]])\n",
        "\n",
        "m[0:, [1,2]]"
      ],
      "execution_count": 40,
      "outputs": [
        {
          "output_type": "execute_result",
          "data": {
            "text/plain": [
              "array([[1, 2],\n",
              "       [4, 5],\n",
              "       [7, 8]])"
            ]
          },
          "metadata": {
            "tags": []
          },
          "execution_count": 40
        }
      ]
    }
  ]
}