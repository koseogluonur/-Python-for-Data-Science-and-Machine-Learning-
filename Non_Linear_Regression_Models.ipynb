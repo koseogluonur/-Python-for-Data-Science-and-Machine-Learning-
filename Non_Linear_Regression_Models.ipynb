{
  "nbformat": 4,
  "nbformat_minor": 0,
  "metadata": {
    "kernelspec": {
      "display_name": "Python 3",
      "language": "python",
      "name": "python3"
    },
    "language_info": {
      "codemirror_mode": {
        "name": "ipython",
        "version": 3
      },
      "file_extension": ".py",
      "mimetype": "text/x-python",
      "name": "python",
      "nbconvert_exporter": "python",
      "pygments_lexer": "ipython3",
      "version": "3.7.3"
    },
    "colab": {
      "name": "Non Linear Regression Models.ipynb",
      "provenance": [],
      "collapsed_sections": [
        "ZQArPIgH0PoF",
        "N2o5gnk10PoW",
        "e-mt_bj90Poi",
        "ohkthC-o0Poo",
        "CNqTG3ww0PpE",
        "Fz3ETal90PpM",
        "yUpbVy2J0PpQ",
        "kDVZSiZN0PpW",
        "-vAPFcY60Ppb",
        "FhBWl9720Ppf",
        "as4H6joI0Ppj",
        "aE13npDq0Ppm",
        "LNBgRPTm0Ppn",
        "OylWuZYt0Ppt",
        "5VZSaavC0Ppv",
        "0AJjC-an0Ppw",
        "KuPWGsX50Pp0",
        "T2QWcaBA0Pp2",
        "-YMsi8mB0Pp3",
        "LrdzJHb30Pp8",
        "BfIr0iQ70PqA",
        "9QzsMCer0PqB",
        "UHbPhGrb0PqG",
        "edrTQx_O0PqI",
        "5AC0crgf0PqI"
      ],
      "include_colab_link": true
    }
  },
  "cells": [
    {
      "cell_type": "markdown",
      "metadata": {
        "id": "view-in-github",
        "colab_type": "text"
      },
      "source": [
        "<a href=\"https://colab.research.google.com/github/koseogluonur/-Python-for-Data-Science-and-Machine-Learning-/blob/main/Non_Linear_Regression_Models.ipynb\" target=\"_parent\"><img src=\"https://colab.research.google.com/assets/colab-badge.svg\" alt=\"Open In Colab\"/></a>"
      ]
    },
    {
      "cell_type": "markdown",
      "metadata": {
        "id": "Upkuyd4h0Pn8"
      },
      "source": [
        "# Doğrusal Olmayan Regreson Modelleri"
      ]
    },
    {
      "cell_type": "code",
      "metadata": {
        "colab": {
          "resources": {
            "http://localhost:8080/nbextensions/google.colab/files.js": {
              "data": "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",
              "ok": true,
              "headers": [
                [
                  "content-type",
                  "application/javascript"
                ]
              ],
              "status": 200,
              "status_text": ""
            }
          },
          "base_uri": "https://localhost:8080/",
          "height": 109
        },
        "id": "wDo-v45_FZqI",
        "outputId": "2ef31c3d-5ebe-4d97-dc27-7471b06b7148"
      },
      "source": [
        "from google.colab import files\n",
        "files.upload()"
      ],
      "execution_count": 5,
      "outputs": [
        {
          "output_type": "display_data",
          "data": {
            "text/html": [
              "\n",
              "     <input type=\"file\" id=\"files-a1fdd81f-dc0b-41d5-a7ae-e04262f771ac\" name=\"files[]\" multiple disabled\n",
              "        style=\"border:none\" />\n",
              "     <output id=\"result-a1fdd81f-dc0b-41d5-a7ae-e04262f771ac\">\n",
              "      Upload widget is only available when the cell has been executed in the\n",
              "      current browser session. Please rerun this cell to enable.\n",
              "      </output>\n",
              "      <script src=\"/nbextensions/google.colab/files.js\"></script> "
            ],
            "text/plain": [
              "<IPython.core.display.HTML object>"
            ]
          },
          "metadata": {
            "tags": []
          }
        },
        {
          "output_type": "stream",
          "text": [
            "Saving Hitters.csv to Hitters.csv\n"
          ],
          "name": "stdout"
        },
        {
          "output_type": "execute_result",
          "data": {
            "text/plain": [
              "{'Hitters.csv': b'AtBat,Hits,HmRun,Runs,RBI,Walks,Years,CAtBat,CHits,CHmRun,CRuns,CRBI,CWalks,League,Division,PutOuts,Assists,Errors,Salary,NewLeague\\r\\n293,66,1,30,29,14,1,293,66,1,30,29,14,A,E,446,33,20,NA,A\\r\\n315,81,7,24,38,39,14,3449,835,69,321,414,375,N,W,632,43,10,475,N\\r\\n479,130,18,66,72,76,3,1624,457,63,224,266,263,A,W,880,82,14,480,A\\r\\n496,141,20,65,78,37,11,5628,1575,225,828,838,354,N,E,200,11,3,500,N\\r\\n321,87,10,39,42,30,2,396,101,12,48,46,33,N,E,805,40,4,91.5,N\\r\\n594,169,4,74,51,35,11,4408,1133,19,501,336,194,A,W,282,421,25,750,A\\r\\n185,37,1,23,8,21,2,214,42,1,30,9,24,N,E,76,127,7,70,A\\r\\n298,73,0,24,24,7,3,509,108,0,41,37,12,A,W,121,283,9,100,A\\r\\n323,81,6,26,32,8,2,341,86,6,32,34,8,N,W,143,290,19,75,N\\r\\n401,92,17,49,66,65,13,5206,1332,253,784,890,866,A,E,0,0,0,1100,A\\r\\n574,159,21,107,75,59,10,4631,1300,90,702,504,488,A,E,238,445,22,517.143,A\\r\\n202,53,4,31,26,27,9,1876,467,15,192,186,161,N,W,304,45,11,512.5,N\\r\\n418,113,13,48,61,47,4,1512,392,41,205,204,203,N,E,211,11,7,550,N\\r\\n239,60,0,30,11,22,6,1941,510,4,309,103,207,A,E,121,151,6,700,A\\r\\n196,43,7,29,27,30,13,3231,825,36,376,290,238,N,E,80,45,8,240,N\\r\\n183,39,3,20,15,11,3,201,42,3,20,16,11,A,W,118,0,0,NA,A\\r\\n568,158,20,89,75,73,15,8068,2273,177,1045,993,732,N,W,105,290,10,775,N\\r\\n190,46,2,24,8,15,5,479,102,5,65,23,39,A,W,102,177,16,175,A\\r\\n407,104,6,57,43,65,12,5233,1478,100,643,658,653,A,W,912,88,9,NA,A\\r\\n127,32,8,16,22,14,8,727,180,24,67,82,56,N,W,202,22,2,135,N\\r\\n413,92,16,72,48,65,1,413,92,16,72,48,65,N,E,280,9,5,100,N\\r\\n426,109,3,55,43,62,1,426,109,3,55,43,62,A,W,361,22,2,115,N\\r\\n22,10,1,4,2,1,6,84,26,2,9,9,3,A,W,812,84,11,NA,A\\r\\n472,116,16,60,62,74,6,1924,489,67,242,251,240,N,W,518,55,3,600,N\\r\\n629,168,18,73,102,40,18,8424,2464,164,1008,1072,402,A,E,1067,157,14,776.667,A\\r\\n587,163,4,92,51,70,6,2695,747,17,442,198,317,A,E,434,9,3,765,A\\r\\n324,73,4,32,18,22,7,1931,491,13,291,108,180,N,E,222,3,3,708.333,N\\r\\n474,129,10,50,56,40,10,2331,604,61,246,327,166,N,W,732,83,13,750,N\\r\\n550,152,6,92,37,81,5,2308,633,32,349,182,308,N,W,262,329,16,625,N\\r\\n513,137,20,90,95,90,14,5201,1382,166,763,734,784,A,W,267,5,3,900,A\\r\\n313,84,9,42,30,39,17,6890,1833,224,1033,864,1087,A,W,127,221,7,NA,A\\r\\n419,108,6,55,36,22,3,591,149,8,80,46,31,N,W,226,7,4,110,N\\r\\n517,141,27,70,87,52,9,3571,994,215,545,652,337,N,W,1378,102,8,NA,N\\r\\n583,168,17,83,80,56,5,1646,452,44,219,208,136,A,E,109,292,25,612.5,A\\r\\n204,49,6,23,25,12,7,1309,308,27,126,132,66,A,W,419,46,5,300,A\\r\\n379,106,10,38,60,30,14,6207,1906,146,859,803,571,N,W,72,170,24,850,N\\r\\n161,36,0,19,10,17,4,1053,244,3,156,86,107,A,E,70,149,12,NA,A\\r\\n268,60,5,24,25,15,2,350,78,5,34,29,18,N,W,442,59,6,90,N\\r\\n346,98,5,31,53,30,16,5913,1615,235,784,901,560,A,E,0,0,0,NA,A\\r\\n241,61,1,34,12,14,1,241,61,1,34,12,14,N,W,166,172,10,NA,N\\r\\n181,41,1,15,21,33,2,232,50,4,20,29,45,A,E,326,29,5,67.5,A\\r\\n216,54,0,21,18,15,18,7318,1926,46,796,627,483,N,W,103,84,5,NA,N\\r\\n200,57,6,23,14,14,9,2516,684,46,371,230,195,N,W,69,1,1,NA,N\\r\\n217,46,7,32,19,9,4,694,160,32,86,76,32,A,E,307,25,1,180,A\\r\\n194,40,7,19,29,30,11,4183,1069,64,486,493,608,A,E,325,22,2,NA,A\\r\\n254,68,2,28,26,22,6,999,236,21,108,117,118,A,E,359,30,4,305,A\\r\\n416,132,7,57,49,33,3,932,273,24,113,121,80,N,W,73,177,18,215,N\\r\\n205,57,8,34,32,9,5,756,192,32,117,107,51,A,E,58,4,4,247.5,A\\r\\n542,140,12,46,75,41,16,7099,2130,235,987,1089,431,A,E,697,61,9,NA,A\\r\\n526,146,13,71,70,84,6,2648,715,77,352,342,289,N,W,303,9,9,815,N\\r\\n457,101,14,42,63,22,17,6521,1767,281,1003,977,619,A,W,389,39,4,875,A\\r\\n214,53,2,30,29,23,2,226,59,2,32,32,27,N,E,109,7,3,70,N\\r\\n19,7,0,1,2,1,4,41,13,1,3,4,4,A,E,0,0,0,NA,A\\r\\n591,168,19,80,72,39,9,4478,1307,113,634,563,319,A,W,67,147,4,1200,A\\r\\n403,101,12,45,53,39,12,5150,1429,166,747,666,526,A,E,316,6,5,675,A\\r\\n405,102,18,49,85,20,6,950,231,29,99,138,64,N,W,161,10,3,415,N\\r\\n244,58,9,28,25,35,4,1335,333,49,164,179,194,N,W,142,14,2,340,N\\r\\n235,61,3,24,39,21,14,3926,1029,35,441,401,333,A,E,425,43,4,NA,A\\r\\n313,78,6,32,41,12,12,3742,968,35,409,321,170,N,W,106,206,7,416.667,N\\r\\n627,177,25,98,81,70,6,3210,927,133,529,472,313,A,E,240,482,13,1350,A\\r\\n416,113,24,58,69,16,1,416,113,24,58,69,16,A,E,203,70,10,90,A\\r\\n155,44,6,21,23,15,16,6631,1634,98,698,661,777,N,E,53,88,3,275,N\\r\\n236,56,0,27,15,11,4,1115,270,1,116,64,57,A,W,125,199,13,230,A\\r\\n216,53,1,31,15,22,4,926,210,9,118,69,114,N,W,73,152,11,225,N\\r\\n24,3,0,1,0,2,3,159,28,0,20,12,9,A,W,80,4,0,NA,A\\r\\n585,139,31,93,94,62,17,7546,1982,315,1141,1179,727,A,E,0,0,0,950,A\\r\\n191,37,4,12,17,14,4,773,163,16,61,74,52,N,E,391,38,8,NA,N\\r\\n199,53,5,29,22,21,3,514,120,8,57,40,39,A,W,152,3,5,75,A\\r\\n521,142,20,67,86,45,4,815,205,22,99,103,78,A,E,107,242,23,105,A\\r\\n419,113,1,44,27,44,12,4484,1231,32,612,344,422,A,E,211,2,1,NA,A\\r\\n311,81,3,42,30,26,17,8247,2198,100,950,909,690,N,W,153,223,10,320,N\\r\\n138,31,8,18,21,38,3,244,53,12,33,32,55,N,E,244,21,4,NA,N\\r\\n512,131,26,69,96,52,14,5347,1397,221,712,815,548,A,W,119,216,12,850,A\\r\\n507,122,29,78,85,91,18,7761,1947,347,1175,1152,1380,A,E,808,108,2,535,A\\r\\n529,137,26,86,97,97,15,6661,1785,291,1082,949,989,A,E,280,10,5,933.333,A\\r\\n424,119,6,57,46,13,9,3651,1046,32,461,301,112,A,E,224,286,8,850,N\\r\\n351,97,4,55,29,39,4,1258,353,16,196,110,117,N,W,226,7,3,210,A\\r\\n195,55,5,24,33,30,8,1313,338,25,144,149,153,N,E,83,2,1,NA,N\\r\\n388,103,15,59,47,39,6,2174,555,80,285,274,186,A,W,182,9,4,325,A\\r\\n339,96,4,37,29,23,4,1064,290,11,123,108,55,A,W,104,213,9,275,A\\r\\n561,118,35,70,94,33,16,6677,1575,442,901,1210,608,A,W,463,32,8,NA,A\\r\\n255,70,7,49,35,43,15,6311,1661,154,1019,608,820,N,E,51,54,8,450,N\\r\\n677,238,31,117,113,53,5,2223,737,93,349,401,171,A,E,1377,100,6,1975,A\\r\\n227,46,7,23,20,12,5,1325,324,44,156,158,67,A,W,92,2,2,NA,A\\r\\n614,163,29,89,83,75,11,5017,1388,266,813,822,617,N,W,303,6,6,1900,N\\r\\n329,83,9,50,39,56,9,3828,948,145,575,528,635,A,W,276,6,2,600,A\\r\\n637,174,31,89,116,56,14,6727,2024,247,978,1093,495,N,W,278,9,9,1041.667,N\\r\\n280,82,16,44,45,47,2,428,113,25,61,70,63,A,E,148,4,2,110,A\\r\\n155,41,12,21,29,22,16,5409,1338,181,746,805,875,A,W,165,9,1,260,A\\r\\n458,114,13,67,57,48,4,1350,298,28,160,123,122,A,W,246,389,18,475,A\\r\\n314,83,13,39,46,16,5,1457,405,28,156,159,76,A,W,533,40,4,431.5,A\\r\\n475,123,27,76,93,72,4,1810,471,108,292,343,267,N,E,226,10,6,1220,N\\r\\n317,78,7,35,35,32,1,317,78,7,35,35,32,A,E,45,122,26,70,A\\r\\n511,138,25,76,96,61,3,592,164,28,87,110,71,A,W,157,7,8,145,A\\r\\n278,69,3,24,21,29,8,2079,565,32,258,192,162,N,W,142,210,10,NA,N\\r\\n382,119,13,54,58,36,12,2133,594,41,287,294,227,N,W,59,156,9,595,N\\r\\n565,148,24,90,104,77,14,7287,2083,305,1135,1234,791,A,E,292,9,5,1861.46,A\\r\\n277,71,2,27,29,14,15,5952,1647,60,753,596,259,N,W,360,32,5,NA,N\\r\\n415,115,27,97,71,68,3,711,184,45,156,119,99,N,W,274,2,7,300,N\\r\\n424,110,15,70,47,36,7,2130,544,38,335,174,258,N,W,292,6,3,490,N\\r\\n495,151,17,61,84,78,10,5624,1679,275,884,1015,709,A,E,1045,88,13,2460,A\\r\\n524,132,9,69,47,54,2,972,260,14,123,92,90,A,E,212,327,20,NA,A\\r\\n233,49,2,41,23,18,8,1350,336,7,166,122,106,A,E,102,132,10,375,A\\r\\n395,106,16,48,56,35,10,2303,571,86,266,323,248,A,E,709,41,7,NA,A\\r\\n397,114,23,67,67,53,13,5589,1632,241,906,926,716,A,E,244,2,4,NA,A\\r\\n210,37,8,15,19,15,6,994,244,36,107,114,53,A,E,40,115,15,NA,A\\r\\n420,95,23,55,58,37,3,646,139,31,77,77,61,N,W,206,10,7,NA,N\\r\\n566,154,22,76,84,43,14,6100,1583,131,743,693,300,A,W,316,439,10,750,A\\r\\n641,198,31,101,108,41,5,2129,610,92,297,319,117,A,E,269,17,10,1175,A\\r\\n215,51,4,19,18,11,1,215,51,4,19,18,11,A,E,116,5,12,70,A\\r\\n441,128,16,70,73,80,14,6675,2095,209,1072,1050,695,A,W,97,218,16,1500,A\\r\\n325,76,16,33,52,37,5,1506,351,71,195,219,214,N,W,726,87,3,385,A\\r\\n490,125,24,81,105,62,13,6063,1646,271,847,999,680,N,E,869,62,8,1925.571,N\\r\\n574,152,31,91,101,64,3,985,260,53,148,173,95,N,W,1253,111,11,215,N\\r\\n284,64,14,30,42,24,18,7023,1925,348,986,1239,666,N,E,96,4,4,NA,N\\r\\n596,171,34,91,108,52,6,2862,728,107,361,401,224,A,W,118,334,21,900,A\\r\\n472,118,12,63,54,30,4,793,187,14,102,80,50,A,W,228,377,26,155,A\\r\\n283,77,14,45,47,26,16,6840,1910,259,915,1067,546,A,W,144,6,5,700,A\\r\\n408,94,4,42,36,66,9,3573,866,59,429,365,410,N,W,282,487,19,535,N\\r\\n327,85,3,30,44,20,8,2140,568,16,216,208,93,A,E,91,185,12,362.5,A\\r\\n370,96,21,49,46,60,15,6986,1972,231,1070,955,921,N,E,137,5,9,733.333,N\\r\\n354,77,16,36,55,41,20,8716,2172,384,1172,1267,1057,N,W,83,174,16,200,N\\r\\n539,139,5,93,58,69,5,1469,369,12,247,126,198,A,W,462,9,7,400,A\\r\\n340,84,11,62,33,47,5,1516,376,42,284,141,219,N,E,185,8,4,400,A\\r\\n510,126,2,42,44,35,11,5562,1578,44,703,519,256,N,W,207,358,20,737.5,N\\r\\n315,59,16,45,36,58,13,4677,1051,268,681,782,697,A,W,0,0,0,NA,A\\r\\n282,78,13,37,51,29,5,1649,453,73,211,280,138,A,W,670,57,5,500,A\\r\\n380,120,5,54,51,31,8,3118,900,92,444,419,240,A,W,237,8,1,600,A\\r\\n584,158,15,70,84,42,5,2358,636,58,265,316,134,N,E,331,20,4,662.5,N\\r\\n570,169,21,72,88,38,7,3754,1077,140,492,589,263,A,W,295,15,5,950,A\\r\\n306,104,14,50,58,25,7,2954,822,55,313,377,187,N,E,116,222,15,750,N\\r\\n220,54,10,30,39,31,5,1185,299,40,145,154,128,N,E,50,136,20,297.5,N\\r\\n278,70,7,22,37,18,18,7186,2081,190,935,1088,643,A,W,0,0,0,325,A\\r\\n445,99,1,46,24,29,4,618,129,1,72,31,48,A,W,278,415,16,87.5,A\\r\\n143,39,5,18,30,15,9,639,151,16,80,97,61,N,W,138,15,1,175,N\\r\\n185,40,4,23,11,18,3,524,125,7,58,37,47,N,E,97,2,2,90,N\\r\\n589,170,40,107,108,69,6,2325,634,128,371,376,238,A,E,368,20,3,1237.5,A\\r\\n343,103,6,48,36,40,15,4338,1193,70,581,421,325,A,E,211,56,13,430,A\\r\\n284,69,1,33,18,25,5,1407,361,6,139,98,111,A,E,122,140,5,NA,N\\r\\n438,103,2,65,32,71,2,440,103,2,67,32,71,A,W,276,7,9,100,N\\r\\n600,144,33,85,117,65,2,696,173,38,101,130,69,A,W,319,4,14,165,A\\r\\n663,200,29,108,121,32,4,1447,404,57,210,222,68,A,E,241,8,6,250,A\\r\\n232,55,9,34,23,45,12,4405,1213,194,702,705,625,N,E,623,35,3,1300,N\\r\\n479,133,10,48,72,55,17,7472,2147,153,980,1032,854,N,W,237,5,4,773.333,N\\r\\n209,45,0,38,19,42,10,3859,916,23,557,279,478,A,W,132,205,5,NA,A\\r\\n528,132,21,61,74,41,6,2641,671,97,273,383,226,N,E,885,105,8,1008.333,N\\r\\n160,39,8,18,31,22,14,2128,543,56,304,268,298,A,E,33,3,0,275,A\\r\\n599,183,10,80,74,32,5,2482,715,27,330,326,158,A,E,231,374,18,775,A\\r\\n497,136,7,58,38,26,11,3871,1066,40,450,367,241,A,E,304,347,10,850,A\\r\\n210,70,13,32,51,28,15,4040,1130,97,544,462,551,A,E,0,0,0,365,A\\r\\n225,61,5,32,26,26,11,1568,408,25,202,185,257,A,W,132,9,0,NA,A\\r\\n151,41,4,26,21,19,2,288,68,9,45,39,35,A,W,28,56,2,95,A\\r\\n278,86,4,33,38,45,1,278,86,4,33,38,45,N,W,102,4,2,110,N\\r\\n341,95,6,48,42,20,10,2964,808,81,379,428,221,N,W,158,4,5,100,N\\r\\n537,147,23,58,88,47,10,2744,730,97,302,351,174,N,E,92,257,20,277.5,N\\r\\n399,102,3,56,34,34,5,670,167,4,89,48,54,A,W,211,9,3,80,A\\r\\n309,94,5,37,32,26,13,4618,1330,57,616,522,436,N,E,161,3,3,600,N\\r\\n401,100,2,60,19,28,4,876,238,2,126,44,55,N,E,193,11,4,NA,N\\r\\n336,93,9,35,46,23,15,5779,1610,128,730,741,497,A,W,0,0,0,NA,A\\r\\n616,163,27,83,107,32,3,1437,377,65,181,227,82,A,W,110,308,15,200,A\\r\\n219,47,8,24,26,17,12,1188,286,23,100,125,63,A,W,260,58,4,NA,A\\r\\n579,174,7,67,78,58,6,3053,880,32,366,337,218,N,E,280,479,5,657,N\\r\\n165,39,2,13,9,16,3,196,44,2,18,10,18,A,W,332,19,2,75,N\\r\\n618,200,20,98,110,62,13,7127,2163,351,1104,1289,564,A,E,330,16,8,2412.5,A\\r\\n257,66,5,31,26,32,14,3910,979,33,518,324,382,N,W,87,166,14,250,A\\r\\n315,76,13,35,60,25,3,630,151,24,68,94,55,N,E,498,39,13,155,N\\r\\n591,157,16,90,78,26,4,2020,541,52,310,226,91,N,E,290,440,25,640,N\\r\\n404,92,11,54,49,18,6,1354,325,30,188,135,63,A,E,222,5,5,300,A\\r\\n315,73,5,23,37,16,4,450,108,6,38,46,28,A,W,227,15,3,110,A\\r\\n249,69,6,32,19,20,4,702,209,10,97,48,44,N,E,103,8,2,NA,N\\r\\n429,91,12,41,42,57,13,5590,1397,83,578,579,644,A,W,686,46,4,825,N\\r\\n212,54,13,28,44,18,2,233,59,13,31,46,20,A,E,243,23,5,NA,A\\r\\n453,101,3,46,43,61,3,948,218,6,96,72,91,N,W,249,444,16,195,N\\r\\n161,43,4,17,26,22,3,707,179,21,77,99,76,A,W,300,12,2,NA,A\\r\\n184,47,5,20,28,18,11,3327,890,74,419,382,304,N,W,49,2,0,450,N\\r\\n591,184,20,83,79,38,5,1689,462,40,219,195,82,N,W,303,12,5,630,N\\r\\n181,58,6,34,23,22,1,181,58,6,34,23,22,N,W,88,0,3,86.5,N\\r\\n441,118,28,84,86,68,8,2723,750,126,433,420,309,A,E,190,2,2,1300,A\\r\\n490,150,21,69,58,35,14,6126,1839,121,983,707,600,A,E,96,5,3,1000,N\\r\\n551,171,13,94,83,94,13,6090,1840,128,969,900,917,N,E,1199,149,5,1800,N\\r\\n550,147,29,85,91,71,6,2816,815,117,405,474,319,A,W,1218,104,10,1310,A\\r\\n283,74,4,34,29,22,10,3919,1062,85,505,456,283,N,W,145,5,7,737.5,N\\r\\n560,161,26,89,96,66,4,1789,470,65,233,260,155,N,W,332,9,8,625,N\\r\\n328,91,12,51,43,33,2,342,94,12,51,44,33,N,E,145,59,8,125,N\\r\\n586,159,12,72,79,53,9,3082,880,83,363,477,295,N,E,181,13,4,1043.333,N\\r\\n503,136,5,62,48,83,10,3423,970,20,408,303,414,N,W,65,258,8,725,N\\r\\n344,85,24,69,64,88,7,911,214,64,150,156,187,A,W,0,0,0,300,A\\r\\n680,223,31,119,96,34,3,1928,587,35,262,201,91,A,W,429,8,6,365,A\\r\\n279,64,0,31,26,30,1,279,64,0,31,26,30,N,W,107,205,16,75,N\\r\\n484,127,20,66,65,67,7,3006,844,116,436,458,377,N,E,1231,80,7,1183.333,N\\r\\n431,127,8,77,45,58,2,667,187,9,117,64,88,N,E,283,8,3,202.5,N\\r\\n283,70,8,33,37,27,12,4479,1222,94,557,483,307,A,E,156,2,2,225,A\\r\\n491,141,11,77,47,37,15,4291,1240,84,615,430,340,A,E,239,8,2,525,A\\r\\n199,52,9,26,28,21,6,805,191,30,113,119,87,N,W,235,22,5,265,N\\r\\n589,149,21,89,86,64,7,3558,928,102,513,471,351,A,E,371,6,6,787.5,A\\r\\n327,84,22,53,62,38,10,4273,1123,212,577,700,334,A,E,483,48,6,800,N\\r\\n464,128,28,67,94,52,13,5829,1552,210,740,840,452,A,W,0,0,0,587.5,A\\r\\n166,34,0,20,13,17,1,166,34,0,20,13,17,N,E,64,119,9,NA,N\\r\\n338,92,18,42,60,21,3,682,185,36,88,112,50,A,E,0,0,0,145,A\\r\\n508,146,8,80,44,46,9,3148,915,41,571,289,326,A,W,245,5,9,NA,A\\r\\n584,157,20,95,73,63,10,4704,1320,93,724,522,576,A,E,276,421,11,420,A\\r\\n216,54,2,27,25,33,1,216,54,2,27,25,33,N,W,317,36,1,75,N\\r\\n625,179,4,94,60,65,5,1696,476,12,216,163,166,A,E,303,450,14,575,A\\r\\n243,53,4,18,26,27,4,853,228,23,101,110,76,N,E,107,3,3,NA,N\\r\\n489,131,19,77,55,34,7,2051,549,62,300,263,153,A,W,310,9,9,780,A\\r\\n209,56,12,22,36,19,2,216,58,12,24,37,19,N,E,201,6,3,90,N\\r\\n407,93,8,47,30,30,2,969,230,14,121,69,68,N,W,172,317,25,150,N\\r\\n490,148,14,64,78,49,13,3400,1000,113,445,491,301,A,E,0,0,0,700,N\\r\\n209,59,6,20,37,27,4,884,209,14,66,106,92,N,E,415,35,3,NA,N\\r\\n442,131,18,68,77,33,6,1416,398,47,210,203,136,A,E,233,7,7,550,A\\r\\n317,88,3,40,32,19,8,2543,715,28,269,270,118,A,W,220,16,4,NA,A\\r\\n288,65,8,30,36,27,9,2815,698,55,315,325,189,N,E,259,30,10,650,A\\r\\n209,54,3,25,14,12,1,209,54,3,25,14,12,A,W,102,6,3,68,A\\r\\n303,71,3,18,30,36,3,344,76,3,20,36,45,N,E,468,47,6,100,N\\r\\n330,77,19,47,53,27,6,1928,516,90,247,288,161,N,W,149,8,6,670,N\\r\\n504,120,28,71,71,54,3,1085,259,54,150,167,114,A,E,103,283,19,175,A\\r\\n258,60,8,28,33,18,3,638,170,17,80,75,36,A,W,358,32,8,137,A\\r\\n20,1,0,0,0,0,2,41,9,2,6,7,4,N,E,78,220,6,2127.333,N\\r\\n374,94,5,36,26,62,7,1968,519,26,181,199,288,N,W,756,64,15,875,N\\r\\n211,43,10,26,35,39,3,498,116,14,59,55,78,A,W,463,32,8,120,A\\r\\n299,75,6,38,23,26,3,580,160,8,71,33,44,N,E,212,1,2,140,N\\r\\n576,167,8,89,49,57,4,822,232,19,132,83,79,N,E,325,12,8,210,N\\r\\n381,110,9,61,45,32,7,3015,834,40,451,249,168,N,E,228,7,5,800,N\\r\\n288,76,7,34,37,15,4,1644,408,16,198,120,113,N,W,203,3,3,240,N\\r\\n369,93,9,43,42,49,5,1258,323,54,181,177,157,A,E,149,1,6,350,A\\r\\n330,76,12,35,41,47,4,1367,326,55,167,198,167,N,W,512,30,5,NA,N\\r\\n547,137,2,58,47,12,2,1038,271,3,129,80,24,A,W,261,459,22,175,A\\r\\n572,152,18,105,49,65,2,978,249,36,168,91,101,A,W,325,13,3,200,A\\r\\n359,84,4,46,27,21,12,4992,1257,37,699,386,387,N,W,151,8,5,NA,N\\r\\n514,144,0,67,54,79,9,4739,1169,13,583,374,528,N,E,229,453,15,1940,N\\r\\n359,80,15,45,48,63,7,1493,359,61,176,202,175,N,W,682,93,13,700,N\\r\\n526,163,12,88,50,77,4,1556,470,38,245,167,174,A,W,250,11,1,750,A\\r\\n313,83,9,43,41,30,14,5885,1543,104,751,714,535,N,W,58,141,23,450,N\\r\\n540,135,30,82,88,55,1,540,135,30,82,88,55,A,W,157,6,14,172,A\\r\\n437,123,9,62,55,40,9,4139,1203,79,676,390,364,A,E,82,170,15,1260,A\\r\\n551,160,23,86,90,87,5,2235,602,75,278,328,273,A,W,1224,115,11,NA,A\\r\\n237,52,0,15,25,30,24,14053,4256,160,2165,1314,1566,N,W,523,43,6,750,N\\r\\n236,56,6,41,19,21,5,1257,329,24,166,125,105,A,E,172,1,4,190,A\\r\\n473,154,6,61,48,29,6,1966,566,29,250,252,178,A,E,846,84,9,580,A\\r\\n309,72,0,33,31,26,5,354,82,0,41,32,26,N,E,117,269,12,130,N\\r\\n271,77,5,35,29,33,12,4933,1358,48,630,435,403,A,W,62,90,3,450,A\\r\\n357,96,7,50,45,39,5,1394,344,43,178,192,136,A,W,167,2,4,300,A\\r\\n216,56,4,22,18,15,12,2796,665,43,266,304,198,A,E,391,44,4,250,A\\r\\n256,70,13,42,36,44,16,7058,1845,312,965,1128,990,N,E,41,118,8,1050,A\\r\\n466,108,33,75,86,72,3,652,142,44,102,109,102,A,E,286,8,8,215,A\\r\\n327,68,13,42,29,45,18,3949,939,78,438,380,466,A,E,659,53,7,400,A\\r\\n462,119,16,49,65,37,7,2131,583,69,244,288,150,A,E,866,65,6,NA,A\\r\\n341,110,9,45,49,46,9,2331,658,50,249,322,274,A,E,251,9,4,560,A\\r\\n608,160,28,130,74,89,8,4071,1182,103,862,417,708,A,E,426,4,6,1670,A\\r\\n419,101,18,65,58,92,20,9528,2510,548,1509,1659,1342,A,W,0,0,0,487.5,A\\r\\n33,6,0,2,4,7,1,33,6,0,2,4,7,A,W,205,5,4,NA,A\\r\\n376,82,21,42,60,35,5,1770,408,115,238,299,157,A,W,0,0,0,425,A\\r\\n486,145,11,51,76,40,11,3967,1102,67,410,497,284,N,E,88,204,16,500,A\\r\\n186,44,7,28,16,11,1,186,44,7,28,16,11,N,W,99,3,1,NA,N\\r\\n307,80,1,42,36,29,7,2421,656,18,379,198,184,A,W,145,2,2,NA,A\\r\\n246,76,5,35,39,13,6,912,234,12,102,96,80,A,E,44,0,1,250,A\\r\\n205,52,8,31,27,17,12,5134,1323,56,643,445,459,A,E,155,3,2,400,A\\r\\n348,90,11,50,45,43,10,2288,614,43,295,273,269,A,E,60,176,6,450,A\\r\\n523,135,8,52,44,52,9,3368,895,39,377,284,296,N,W,367,475,19,750,N\\r\\n312,68,2,32,22,24,1,312,68,2,32,22,24,A,E,86,150,15,70,A\\r\\n496,119,8,57,33,21,7,3358,882,36,365,280,165,N,W,155,371,29,875,N\\r\\n126,27,3,8,10,5,4,239,49,3,16,13,14,N,E,190,2,9,190,N\\r\\n275,68,5,42,42,61,6,961,238,16,128,104,172,N,E,181,3,2,191,N\\r\\n627,178,14,68,76,46,6,3146,902,74,494,345,242,N,E,309,492,5,740,N\\r\\n394,86,1,38,28,36,4,1089,267,3,94,71,76,N,E,203,369,16,250,N\\r\\n208,57,8,32,25,18,3,653,170,17,98,54,62,N,E,42,94,13,140,N\\r\\n382,101,16,50,55,22,1,382,101,16,50,55,22,A,W,200,7,6,97.5,A\\r\\n459,113,20,59,57,68,12,5348,1369,155,713,660,735,A,W,0,0,0,740,A\\r\\n549,149,7,73,47,42,1,549,149,7,73,47,42,N,W,255,450,17,140,N\\r\\n288,63,3,25,33,16,10,2682,667,38,315,259,204,A,W,135,257,7,341.667,A\\r\\n303,84,4,35,32,23,2,312,87,4,39,32,23,N,W,179,5,3,NA,N\\r\\n522,163,9,82,46,62,13,7037,2019,153,1043,827,535,A,E,352,9,1,1000,A\\r\\n512,117,29,54,88,43,6,1750,412,100,204,276,155,A,W,1236,98,18,100,A\\r\\n220,66,5,20,28,13,3,290,80,5,27,31,15,A,W,281,21,3,90,A\\r\\n522,140,16,73,77,60,4,730,185,22,93,106,86,N,E,1320,166,17,200,N\\r\\n461,112,18,54,54,35,2,680,160,24,76,75,49,A,W,111,226,11,135,A\\r\\n581,145,17,66,68,21,2,831,210,21,106,86,40,N,E,320,465,32,155,N\\r\\n530,159,3,82,50,47,6,1619,426,11,218,149,163,A,W,196,354,15,475,A\\r\\n557,142,21,58,81,23,18,8759,2583,271,1138,1299,478,N,W,1160,53,7,1450,N\\r\\n439,96,0,44,36,65,4,711,148,1,68,56,99,N,E,229,406,22,150,N\\r\\n453,103,8,53,33,52,2,507,123,8,63,39,58,A,W,289,407,6,105,A\\r\\n528,122,1,67,45,51,4,1716,403,12,211,146,155,A,W,209,372,17,350,A\\r\\n633,210,6,91,56,59,6,3070,872,19,420,230,274,N,W,367,432,16,90,N\\r\\n16,2,0,1,0,0,2,28,4,0,1,0,0,A,E,247,4,8,NA,A\\r\\n562,169,17,88,73,53,8,3181,841,61,450,342,373,A,E,351,442,17,530,A\\r\\n281,76,3,42,25,20,8,2658,657,48,324,300,179,A,E,106,144,7,341.667,A\\r\\n593,152,23,69,75,53,6,2765,686,133,369,384,321,A,W,315,10,6,940,A\\r\\n687,213,10,91,65,27,4,1518,448,15,196,137,89,A,E,294,445,13,350,A\\r\\n368,103,3,48,28,54,8,1897,493,9,207,162,198,N,W,209,246,3,326.667,N\\r\\n263,70,1,26,23,30,4,888,220,9,83,82,86,N,E,81,147,4,250,N\\r\\n642,211,14,107,59,52,5,2364,770,27,352,230,193,N,W,337,19,4,740,N\\r\\n265,68,8,26,30,29,7,1337,339,32,135,163,128,N,W,92,5,3,425,A\\r\\n289,63,7,36,41,44,17,7402,1954,195,1115,919,1153,A,W,166,211,7,NA,A\\r\\n559,141,2,48,61,73,8,3162,874,16,421,349,359,N,E,352,414,9,925,N\\r\\n520,120,17,53,44,21,4,927,227,22,106,80,52,A,W,70,144,11,185,A\\r\\n19,4,1,2,3,1,1,19,4,1,2,3,1,N,W,692,70,8,920,A\\r\\n205,43,2,24,17,20,7,854,219,12,105,99,71,N,E,131,6,1,286.667,N\\r\\n193,47,10,21,29,24,6,1136,256,42,129,139,106,A,W,299,13,5,245,A\\r\\n181,46,1,19,18,17,5,937,238,9,88,95,104,A,E,37,98,9,NA,A\\r\\n213,61,4,17,22,3,17,4061,1145,83,488,491,244,A,W,178,45,4,235,A\\r\\n510,147,10,56,52,53,7,2872,821,63,307,340,174,N,E,810,99,18,1150,N\\r\\n578,138,1,56,59,34,3,1399,357,7,149,161,87,N,E,133,371,20,160,N\\r\\n200,51,2,14,29,25,23,9778,2732,379,1272,1652,925,N,W,398,29,7,NA,N\\r\\n441,113,5,76,52,76,5,1546,397,17,226,149,191,A,W,160,290,11,425,A\\r\\n172,42,3,17,14,15,10,4086,1150,57,579,363,406,N,W,65,0,0,900,N\\r\\n580,194,9,91,62,78,8,3372,1028,48,604,314,469,N,E,270,13,6,NA,N\\r\\n127,32,4,14,25,12,19,8396,2402,242,1048,1348,819,N,W,167,18,6,500,N\\r\\n279,69,4,35,31,32,4,1359,355,31,180,148,158,N,E,133,173,9,277.5,N\\r\\n480,112,18,50,71,44,7,3031,771,110,338,406,239,N,E,94,270,16,750,N\\r\\n600,139,0,94,29,60,2,1236,309,1,201,69,110,N,E,300,12,9,160,N\\r\\n610,186,19,107,98,74,6,2728,753,69,399,366,286,N,E,1182,96,13,1300,N\\r\\n360,81,5,37,44,37,7,2268,566,41,279,257,246,N,E,170,284,3,525,N\\r\\n387,124,1,67,27,36,7,1775,506,6,272,125,194,N,E,186,290,17,550,N\\r\\n580,207,8,107,71,105,5,2778,978,32,474,322,417,A,E,121,267,19,1600,A\\r\\n408,117,11,66,41,34,1,408,117,11,66,41,34,N,W,942,72,11,120,N\\r\\n593,172,22,82,100,57,1,593,172,22,82,100,57,A,W,1222,139,15,165,A\\r\\n221,53,2,21,23,22,8,1063,283,15,107,124,106,N,E,325,58,6,NA,N\\r\\n497,127,7,65,48,37,5,2703,806,32,379,311,138,N,E,325,9,3,700,N\\r\\n492,136,5,76,50,94,12,5511,1511,39,897,451,875,A,E,313,381,20,875,A\\r\\n475,126,3,61,43,52,6,1700,433,7,217,93,146,A,W,37,113,7,385,A\\r\\n573,144,9,85,60,78,8,3198,857,97,470,420,332,A,E,1314,131,12,960,A\\r\\n631,170,9,77,44,31,11,4908,1457,30,775,357,249,A,W,408,4,3,1000,A\\r\\n'}"
            ]
          },
          "metadata": {
            "tags": []
          },
          "execution_count": 5
        }
      ]
    },
    {
      "cell_type": "code",
      "metadata": {
        "id": "MTwa0zXy0PoC"
      },
      "source": [
        "import numpy as np\n",
        "import pandas as pd \n",
        "from sklearn.model_selection import train_test_split, GridSearchCV,cross_val_score\n",
        "from sklearn.metrics import mean_squared_error, r2_score\n",
        "import matplotlib.pyplot as plt\n",
        "from sklearn.preprocessing import scale \n",
        "from sklearn import model_selection\n",
        "from sklearn.tree import DecisionTreeRegressor, DecisionTreeClassifier\n",
        "from sklearn.neighbors import KNeighborsRegressor\n",
        "from sklearn.ensemble import BaggingRegressor\n",
        "\n",
        "from warnings import filterwarnings\n",
        "filterwarnings('ignore')"
      ],
      "execution_count": 1,
      "outputs": []
    },
    {
      "cell_type": "markdown",
      "metadata": {
        "id": "ZQArPIgH0PoF"
      },
      "source": [
        "# KNN"
      ]
    },
    {
      "cell_type": "code",
      "metadata": {
        "id": "kcf-kW8i0PoG"
      },
      "source": [
        "hit = pd.read_csv(\"Hitters.csv\")\n",
        "df = hit.copy()\n",
        "df = df.dropna()\n",
        "dms = pd.get_dummies(df[['League', 'Division', 'NewLeague']])\n",
        "y = df[\"Salary\"]\n",
        "X_ = df.drop(['Salary', 'League', 'Division', 'NewLeague'], axis=1).astype('float64')\n",
        "X = pd.concat([X_, dms[['League_N', 'Division_W', 'NewLeague_N']]], axis=1)\n",
        "X_train, X_test, y_train, y_test = train_test_split(X, y, \n",
        "                                                    test_size=0.25, \n",
        "                                                    random_state=42)"
      ],
      "execution_count": null,
      "outputs": []
    },
    {
      "cell_type": "code",
      "metadata": {
        "id": "jDOAf3TG0PoH"
      },
      "source": [
        "knn_model = KNeighborsRegressor().fit(X_train, y_train)"
      ],
      "execution_count": null,
      "outputs": []
    },
    {
      "cell_type": "code",
      "metadata": {
        "colab": {
          "base_uri": "https://localhost:8080/"
        },
        "id": "0dTvvl4Z0PoI",
        "outputId": "1fd581be-655a-4c4f-bce7-deaf4fafb0f5"
      },
      "source": [
        "knn_model"
      ],
      "execution_count": null,
      "outputs": [
        {
          "output_type": "execute_result",
          "data": {
            "text/plain": [
              "KNeighborsRegressor(algorithm='auto', leaf_size=30, metric='minkowski',\n",
              "                    metric_params=None, n_jobs=None, n_neighbors=5, p=2,\n",
              "                    weights='uniform')"
            ]
          },
          "metadata": {
            "tags": []
          },
          "execution_count": 5
        }
      ]
    },
    {
      "cell_type": "code",
      "metadata": {
        "colab": {
          "base_uri": "https://localhost:8080/"
        },
        "id": "03n0K17a0PoJ",
        "outputId": "469cf31f-8b58-4a13-9e6b-88a4c95de11f"
      },
      "source": [
        "knn_model.n_neighbors"
      ],
      "execution_count": null,
      "outputs": [
        {
          "output_type": "execute_result",
          "data": {
            "text/plain": [
              "5"
            ]
          },
          "metadata": {
            "tags": []
          },
          "execution_count": 6
        }
      ]
    },
    {
      "cell_type": "code",
      "metadata": {
        "colab": {
          "base_uri": "https://localhost:8080/",
          "height": 35
        },
        "id": "ZPsbunKU0PoK",
        "outputId": "4218b575-4883-4ff6-a3f9-83de7cdf3014"
      },
      "source": [
        "knn_model.effective_metric_"
      ],
      "execution_count": null,
      "outputs": [
        {
          "output_type": "execute_result",
          "data": {
            "application/vnd.google.colaboratory.intrinsic+json": {
              "type": "string"
            },
            "text/plain": [
              "'euclidean'"
            ]
          },
          "metadata": {
            "tags": []
          },
          "execution_count": 7
        }
      ]
    },
    {
      "cell_type": "markdown",
      "metadata": {
        "id": "nnJSwY1f0PoL"
      },
      "source": [
        "## Tahmin"
      ]
    },
    {
      "cell_type": "code",
      "metadata": {
        "id": "PulVF2Np0PoM"
      },
      "source": [
        "y_pred = knn_model.predict(X_test)"
      ],
      "execution_count": null,
      "outputs": []
    },
    {
      "cell_type": "code",
      "metadata": {
        "colab": {
          "base_uri": "https://localhost:8080/"
        },
        "id": "AJfiFF0y0PoN",
        "outputId": "53ae59ac-fadc-4a8b-8cf9-c8837442f05a"
      },
      "source": [
        "np.sqrt(mean_squared_error(y_test, y_pred))"
      ],
      "execution_count": null,
      "outputs": [
        {
          "output_type": "execute_result",
          "data": {
            "text/plain": [
              "426.6570764525201"
            ]
          },
          "metadata": {
            "tags": []
          },
          "execution_count": 9
        }
      ]
    },
    {
      "cell_type": "code",
      "metadata": {
        "colab": {
          "base_uri": "https://localhost:8080/"
        },
        "id": "q0KmmVnE0PoO",
        "outputId": "c47134e0-267b-42d8-ba64-f6baffc03007"
      },
      "source": [
        "RMSE = [] \n",
        "\n",
        "for k in range(10):\n",
        "    k = k+1\n",
        "    knn_model = KNeighborsRegressor(n_neighbors = k).fit(X_train, y_train)\n",
        "    y_pred = knn_model.predict(X_train) \n",
        "    rmse = np.sqrt(mean_squared_error(y_train,y_pred)) \n",
        "    RMSE.append(rmse) \n",
        "    print(\"k =\" , k , \"için RMSE değeri: \", rmse)\n"
      ],
      "execution_count": null,
      "outputs": [
        {
          "output_type": "stream",
          "text": [
            "k = 1 için RMSE değeri:  0.0\n",
            "k = 2 için RMSE değeri:  179.52761335480352\n",
            "k = 3 için RMSE değeri:  205.20157172291863\n",
            "k = 4 için RMSE değeri:  220.5139794876305\n",
            "k = 5 için RMSE değeri:  239.64671325413764\n",
            "k = 6 için RMSE değeri:  243.5904190007242\n",
            "k = 7 için RMSE değeri:  258.1478781634636\n",
            "k = 8 için RMSE değeri:  266.05374203349805\n",
            "k = 9 için RMSE değeri:  269.73782093553376\n",
            "k = 10 için RMSE değeri:  271.2798300436963\n"
          ],
          "name": "stdout"
        }
      ]
    },
    {
      "cell_type": "markdown",
      "metadata": {
        "id": "1Haf6hDv0PoP"
      },
      "source": [
        "## Model Tuning"
      ]
    },
    {
      "cell_type": "code",
      "metadata": {
        "id": "vUh1n8YY0PoP"
      },
      "source": [
        "from sklearn.model_selection import GridSearchCV  "
      ],
      "execution_count": null,
      "outputs": []
    },
    {
      "cell_type": "code",
      "metadata": {
        "id": "2RWC6coN0PoQ"
      },
      "source": [
        "knn_params = {'n_neighbors': np.arange(1,30,1)}"
      ],
      "execution_count": null,
      "outputs": []
    },
    {
      "cell_type": "code",
      "metadata": {
        "id": "Z1jFQZME0PoQ"
      },
      "source": [
        "knn = KNeighborsRegressor()"
      ],
      "execution_count": null,
      "outputs": []
    },
    {
      "cell_type": "code",
      "metadata": {
        "id": "hRVn_hFv0PoR"
      },
      "source": [
        "knn_cv_model = GridSearchCV(knn, knn_params, cv = 10)"
      ],
      "execution_count": null,
      "outputs": []
    },
    {
      "cell_type": "code",
      "metadata": {
        "colab": {
          "base_uri": "https://localhost:8080/"
        },
        "id": "xX7uWEmG0PoR",
        "outputId": "4154a162-ecb6-4b5d-8feb-e4718b8e939b"
      },
      "source": [
        "knn_cv_model.fit(X_train, y_train)"
      ],
      "execution_count": null,
      "outputs": [
        {
          "output_type": "execute_result",
          "data": {
            "text/plain": [
              "GridSearchCV(cv=10, error_score=nan,\n",
              "             estimator=KNeighborsRegressor(algorithm='auto', leaf_size=30,\n",
              "                                           metric='minkowski',\n",
              "                                           metric_params=None, n_jobs=None,\n",
              "                                           n_neighbors=5, p=2,\n",
              "                                           weights='uniform'),\n",
              "             iid='deprecated', n_jobs=None,\n",
              "             param_grid={'n_neighbors': array([ 1,  2,  3,  4,  5,  6,  7,  8,  9, 10, 11, 12, 13, 14, 15, 16, 17,\n",
              "       18, 19, 20, 21, 22, 23, 24, 25, 26, 27, 28, 29])},\n",
              "             pre_dispatch='2*n_jobs', refit=True, return_train_score=False,\n",
              "             scoring=None, verbose=0)"
            ]
          },
          "metadata": {
            "tags": []
          },
          "execution_count": 16
        }
      ]
    },
    {
      "cell_type": "code",
      "metadata": {
        "colab": {
          "base_uri": "https://localhost:8080/"
        },
        "id": "yTWgtwrj0PoS",
        "outputId": "787b4e62-366b-40d4-ffff-9e6f4483bef7"
      },
      "source": [
        "knn_cv_model.best_params_[\"n_neighbors\"]"
      ],
      "execution_count": null,
      "outputs": [
        {
          "output_type": "execute_result",
          "data": {
            "text/plain": [
              "8"
            ]
          },
          "metadata": {
            "tags": []
          },
          "execution_count": 17
        }
      ]
    },
    {
      "cell_type": "code",
      "metadata": {
        "colab": {
          "base_uri": "https://localhost:8080/"
        },
        "id": "nJp7PVlU0PoS",
        "outputId": "a1e9a9f7-aa19-494b-d8f4-85a3d74c5c79"
      },
      "source": [
        "RMSE = [] \n",
        "RMSE_CV = []\n",
        "for k in range(10):\n",
        "    k = k+1\n",
        "    knn_model = KNeighborsRegressor(n_neighbors = k).fit(X_train, y_train)\n",
        "    y_pred = knn_model.predict(X_train) \n",
        "    rmse = np.sqrt(mean_squared_error(y_train,y_pred)) \n",
        "    rmse_cv = np.sqrt(-1*cross_val_score(knn_model, X_train, y_train, cv=10, \n",
        "                                         scoring = \"neg_mean_squared_error\").mean())\n",
        "    RMSE.append(rmse) \n",
        "    RMSE_CV.append(rmse_cv)\n",
        "    print(\"k =\" , k , \"için RMSE değeri: \", rmse, \"RMSE_CV değeri: \", rmse_cv )\n"
      ],
      "execution_count": null,
      "outputs": [
        {
          "output_type": "stream",
          "text": [
            "k = 1 için RMSE değeri:  0.0 RMSE_CV değeri:  325.39475147063825\n",
            "k = 2 için RMSE değeri:  179.52761335480352 RMSE_CV değeri:  293.24000183333817\n",
            "k = 3 için RMSE değeri:  205.20157172291863 RMSE_CV değeri:  283.7486667487823\n",
            "k = 4 için RMSE değeri:  220.5139794876305 RMSE_CV değeri:  286.3240222024089\n",
            "k = 5 için RMSE değeri:  239.64671325413764 RMSE_CV değeri:  290.0705466132226\n",
            "k = 6 için RMSE değeri:  243.5904190007242 RMSE_CV değeri:  298.1263115575851\n",
            "k = 7 için RMSE değeri:  258.1478781634636 RMSE_CV değeri:  294.77070479194987\n",
            "k = 8 için RMSE değeri:  266.05374203349805 RMSE_CV değeri:  291.98672028891235\n",
            "k = 9 için RMSE değeri:  269.73782093553376 RMSE_CV değeri:  295.7162739573105\n",
            "k = 10 için RMSE değeri:  271.2798300436963 RMSE_CV değeri:  301.31047022701154\n"
          ],
          "name": "stdout"
        }
      ]
    },
    {
      "cell_type": "code",
      "metadata": {
        "id": "2yJgHydQ0PoT"
      },
      "source": [
        "knn_tuned = KNeighborsRegressor(n_neighbors = knn_cv_model.best_params_[\"n_neighbors\"])"
      ],
      "execution_count": null,
      "outputs": []
    },
    {
      "cell_type": "code",
      "metadata": {
        "colab": {
          "base_uri": "https://localhost:8080/"
        },
        "id": "tUczsM6X0PoU",
        "outputId": "cf3fa49b-0278-4e7e-9db9-7610910dadaa"
      },
      "source": [
        "knn_tuned.fit(X_train, y_train)"
      ],
      "execution_count": null,
      "outputs": [
        {
          "output_type": "execute_result",
          "data": {
            "text/plain": [
              "KNeighborsRegressor(algorithm='auto', leaf_size=30, metric='minkowski',\n",
              "                    metric_params=None, n_jobs=None, n_neighbors=8, p=2,\n",
              "                    weights='uniform')"
            ]
          },
          "metadata": {
            "tags": []
          },
          "execution_count": 20
        }
      ]
    },
    {
      "cell_type": "code",
      "metadata": {
        "colab": {
          "base_uri": "https://localhost:8080/"
        },
        "id": "3OYvP3zB0PoU",
        "outputId": "56142288-7b75-46b0-8175-3792ad881b39"
      },
      "source": [
        "np.sqrt(mean_squared_error(y_test, knn_tuned.predict(X_test)))"
      ],
      "execution_count": null,
      "outputs": [
        {
          "output_type": "execute_result",
          "data": {
            "text/plain": [
              "413.7094731463598"
            ]
          },
          "metadata": {
            "tags": []
          },
          "execution_count": 21
        }
      ]
    },
    {
      "cell_type": "markdown",
      "metadata": {
        "id": "N2o5gnk10PoW"
      },
      "source": [
        "# SVR (Destek Vektör Regresyonu)"
      ]
    },
    {
      "cell_type": "code",
      "metadata": {
        "id": "PV9o2rq50PoW"
      },
      "source": [
        "hit = pd.read_csv(\"Hitters.csv\")\n",
        "df = hit.copy()\n",
        "df = df.dropna()\n",
        "dms = pd.get_dummies(df[['League', 'Division', 'NewLeague']])\n",
        "y = df[\"Salary\"]\n",
        "X_ = df.drop(['Salary', 'League', 'Division', 'NewLeague'], axis=1).astype('float64')\n",
        "X = pd.concat([X_, dms[['League_N', 'Division_W', 'NewLeague_N']]], axis=1)\n",
        "X_train, X_test, y_train, y_test = train_test_split(X, y, \n",
        "                                                    test_size=0.25, \n",
        "                                                    random_state=42)"
      ],
      "execution_count": null,
      "outputs": []
    },
    {
      "cell_type": "code",
      "metadata": {
        "id": "CBQVy2BJ0PoX"
      },
      "source": [
        "X_train = pd.DataFrame(X_train[\"Hits\"])\n",
        "X_test = pd.DataFrame(X_test[\"Hits\"])"
      ],
      "execution_count": null,
      "outputs": []
    },
    {
      "cell_type": "code",
      "metadata": {
        "id": "luU2gp2l0PoY"
      },
      "source": [
        "from sklearn.svm import SVR"
      ],
      "execution_count": null,
      "outputs": []
    },
    {
      "cell_type": "code",
      "metadata": {
        "id": "4bvbhew10PoY"
      },
      "source": [
        "svr_model = SVR(\"linear\").fit(X_train, y_train)"
      ],
      "execution_count": null,
      "outputs": []
    },
    {
      "cell_type": "code",
      "metadata": {
        "colab": {
          "base_uri": "https://localhost:8080/"
        },
        "id": "--15AU4A0PoZ",
        "outputId": "76bf6d67-ade4-4965-a6ba-1aab5984f164"
      },
      "source": [
        "svr_model.predict(X_train)[0:5]"
      ],
      "execution_count": null,
      "outputs": [
        {
          "output_type": "execute_result",
          "data": {
            "text/plain": [
              "array([403.52804878, 666.91219512, 706.66829268, 194.80853659,\n",
              "       423.40609756])"
            ]
          },
          "metadata": {
            "tags": []
          },
          "execution_count": 26
        }
      ]
    },
    {
      "cell_type": "code",
      "metadata": {
        "colab": {
          "base_uri": "https://localhost:8080/"
        },
        "id": "9XaxVV8G0Poa",
        "outputId": "3e1f5242-ea14-4393-fed7-7660856f04fb"
      },
      "source": [
        "print (\"y = {0} + {1} x\".format(svr_model.intercept_[0], \n",
        "                                svr_model.coef_[0][0])) "
      ],
      "execution_count": null,
      "outputs": [
        {
          "output_type": "stream",
          "text": [
            "y = -48.69756097561513 + 4.969512195122093 x\n"
          ],
          "name": "stdout"
        }
      ]
    },
    {
      "cell_type": "code",
      "metadata": {
        "colab": {
          "base_uri": "https://localhost:8080/"
        },
        "id": "uQEkA9SW0Pob",
        "outputId": "55b86167-8403-4900-9dae-04d2562d0cab"
      },
      "source": [
        "X_train[\"Hits\"][0:1]"
      ],
      "execution_count": null,
      "outputs": [
        {
          "output_type": "execute_result",
          "data": {
            "text/plain": [
              "183    91.0\n",
              "Name: Hits, dtype: float64"
            ]
          },
          "metadata": {
            "tags": []
          },
          "execution_count": 28
        }
      ]
    },
    {
      "cell_type": "code",
      "metadata": {
        "id": "xhcrghn70Poc"
      },
      "source": [
        "-48.69756097561513 + 4.969512195122093*91"
      ],
      "execution_count": null,
      "outputs": []
    },
    {
      "cell_type": "code",
      "metadata": {
        "id": "LddVktpB0Poc"
      },
      "source": [
        "y_pred = svr_model.predict(X_train)"
      ],
      "execution_count": null,
      "outputs": []
    },
    {
      "cell_type": "code",
      "metadata": {
        "colab": {
          "base_uri": "https://localhost:8080/",
          "height": 281
        },
        "id": "a_addNkP0Pod",
        "outputId": "84163bc9-c853-4cff-a887-75b2314f74ab"
      },
      "source": [
        "plt.scatter(X_train, y_train)\n",
        "plt.plot(X_train,y_pred, color = \"r\")"
      ],
      "execution_count": null,
      "outputs": [
        {
          "output_type": "execute_result",
          "data": {
            "text/plain": [
              "[<matplotlib.lines.Line2D at 0x7efc14021e10>]"
            ]
          },
          "metadata": {
            "tags": []
          },
          "execution_count": 30
        },
        {
          "output_type": "display_data",
          "data": {
            "image/png": "[encoded data removed]",
            "text/plain": [
              "<Figure size 432x288 with 1 Axes>"
            ]
          },
          "metadata": {
            "tags": [],
            "needs_background": "light"
          }
        }
      ]
    },
    {
      "cell_type": "code",
      "metadata": {
        "colab": {
          "base_uri": "https://localhost:8080/"
        },
        "id": "x972ITSa0Poe",
        "outputId": "4f4be7ce-9c4a-4225-bdbb-eb10f4426430"
      },
      "source": [
        "#Doğrusal regresyonla karşılaştırma\n",
        "from sklearn.linear_model import LinearRegression\n",
        "lm_model = LinearRegression().fit(X_train, y_train)\n",
        "lm_pred  = lm_model.predict(X_train)\n",
        "print(\"y = {0} + {1} x\".format(lm_model.intercept_, lm_model.coef_[0]))"
      ],
      "execution_count": null,
      "outputs": [
        {
          "output_type": "stream",
          "text": [
            "y = -8.814095480334345 + 5.172456135470686 x\n"
          ],
          "name": "stdout"
        }
      ]
    },
    {
      "cell_type": "code",
      "metadata": {
        "id": "awcReOqL0Poe"
      },
      "source": [
        "-8.814095480334572 + 5.1724561354706875*91"
      ],
      "execution_count": null,
      "outputs": []
    },
    {
      "cell_type": "code",
      "metadata": {
        "colab": {
          "base_uri": "https://localhost:8080/",
          "height": 296
        },
        "id": "eUJWq8YQ0Pof",
        "outputId": "1dda638f-f2b5-42fb-9162-09c5a8b357f7"
      },
      "source": [
        "#İki yöntemi grafik üzerinde karşılaştırma \n",
        "plt.scatter(X_train, y_train, alpha=0.5, s=23)\n",
        "plt.plot(X_train, lm_pred, 'g')\n",
        "plt.plot(X_train, y_pred, color='r')\n",
        "\n",
        "plt.xlabel(\"Atış Sayısı(Hits)\")\n",
        "plt.ylabel(\"Maaş (Salary)\")"
      ],
      "execution_count": null,
      "outputs": [
        {
          "output_type": "execute_result",
          "data": {
            "text/plain": [
              "Text(0, 0.5, 'Maaş (Salary)')"
            ]
          },
          "metadata": {
            "tags": []
          },
          "execution_count": 32
        },
        {
          "output_type": "display_data",
          "data": {
            "image/png": "[encoded data removed]",
            "text/plain": [
              "<Figure size 432x288 with 1 Axes>"
            ]
          },
          "metadata": {
            "tags": [],
            "needs_background": "light"
          }
        }
      ]
    },
    {
      "cell_type": "markdown",
      "metadata": {
        "id": "5JiS2Th-0Pof"
      },
      "source": [
        "## Tahmin"
      ]
    },
    {
      "cell_type": "code",
      "metadata": {
        "colab": {
          "base_uri": "https://localhost:8080/"
        },
        "id": "QNjyO-HU0Pog",
        "outputId": "22ff37ca-d446-4a44-cd6f-41b6155874dd"
      },
      "source": [
        "print (\"y = {0} + {1} x\".format(svr_model.intercept_[0], svr_model.coef_[0][0])) "
      ],
      "execution_count": null,
      "outputs": [
        {
          "output_type": "stream",
          "text": [
            "y = -48.69756097561513 + 4.969512195122093 x\n"
          ],
          "name": "stdout"
        }
      ]
    },
    {
      "cell_type": "code",
      "metadata": {
        "colab": {
          "base_uri": "https://localhost:8080/"
        },
        "id": "AFUwGra-0Pog",
        "outputId": "4d850904-49bd-4cb0-c54b-74e2ca184128"
      },
      "source": [
        "svr_model.predict([[91]])"
      ],
      "execution_count": null,
      "outputs": [
        {
          "output_type": "execute_result",
          "data": {
            "text/plain": [
              "array([403.52804878])"
            ]
          },
          "metadata": {
            "tags": []
          },
          "execution_count": 34
        }
      ]
    },
    {
      "cell_type": "code",
      "metadata": {
        "colab": {
          "base_uri": "https://localhost:8080/"
        },
        "id": "z4erqaWv0Poh",
        "outputId": "b7599c69-f45e-48c0-fe37-6b5d36697d4e"
      },
      "source": [
        "y_pred = svr_model.predict(X_test)\n",
        "y_pred"
      ],
      "execution_count": null,
      "outputs": [
        {
          "output_type": "execute_result",
          "data": {
            "text/plain": [
              "array([ 627.15609756,  681.82073171,  627.15609756,  428.37560976,\n",
              "        155.05243902,  294.19878049,  781.21097561,  691.7597561 ,\n",
              "        741.45487805,  299.16829268,  706.66829268,  612.24756098,\n",
              "        169.96097561,  671.88170732,  428.37560976,  512.85731707,\n",
              "        935.26585366,  314.07682927,  979.99146341,  517.82682927,\n",
              "        319.04634146, 1059.50365854,  527.76585366,  567.52195122,\n",
              "        945.20487805,  239.53414634,  716.60731707,  363.77195122,\n",
              "        289.22926829,  179.9       ,  249.47317073,  -43.72804878,\n",
              "        328.98536585,  547.64390244,  289.22926829,  403.52804878,\n",
              "        686.7902439 ,  547.64390244,   85.47926829,  214.68658537,\n",
              "        155.05243902,  512.85731707,  547.64390244,  497.94878049,\n",
              "        632.12560976,  686.7902439 ,  209.71707317,  492.97926829,\n",
              "        537.70487805,  751.39390244,  652.00365854,  229.59512195,\n",
              "        860.72317073,  632.12560976,  324.01585366,  736.48536585,\n",
              "        497.94878049,  299.16829268,  110.32682927,  632.12560976,\n",
              "        945.20487805,  642.06463415,  994.9       ,  328.98536585,\n",
              "        363.77195122,  214.68658537])"
            ]
          },
          "metadata": {
            "tags": []
          },
          "execution_count": 35
        }
      ]
    },
    {
      "cell_type": "code",
      "metadata": {
        "colab": {
          "base_uri": "https://localhost:8080/"
        },
        "id": "sRzEHIwb0Poh",
        "outputId": "bb91366a-cddb-4b55-f565-bc8841df1ee7"
      },
      "source": [
        "np.sqrt(mean_squared_error(y_test, y_pred))"
      ],
      "execution_count": null,
      "outputs": [
        {
          "output_type": "execute_result",
          "data": {
            "text/plain": [
              "459.0187960365147"
            ]
          },
          "metadata": {
            "tags": []
          },
          "execution_count": 36
        }
      ]
    },
    {
      "cell_type": "code",
      "metadata": {
        "colab": {
          "base_uri": "https://localhost:8080/"
        },
        "id": "mff5sqyN0Poi",
        "outputId": "65ed9ca0-5ed1-42c7-ec1b-e0ba21fae335"
      },
      "source": [
        "svr_model"
      ],
      "execution_count": null,
      "outputs": [
        {
          "output_type": "execute_result",
          "data": {
            "text/plain": [
              "SVR(C=1.0, cache_size=200, coef0=0.0, degree=3, epsilon=0.1, gamma='scale',\n",
              "    kernel='linear', max_iter=-1, shrinking=True, tol=0.001, verbose=False)"
            ]
          },
          "metadata": {
            "tags": []
          },
          "execution_count": 37
        }
      ]
    },
    {
      "cell_type": "markdown",
      "metadata": {
        "id": "e-mt_bj90Poi"
      },
      "source": [
        "## Model Tuning"
      ]
    },
    {
      "cell_type": "code",
      "metadata": {
        "id": "gPhfV0MK0Poj"
      },
      "source": [
        "svr_model"
      ],
      "execution_count": null,
      "outputs": []
    },
    {
      "cell_type": "code",
      "metadata": {
        "id": "YQIc6PGF0Pok"
      },
      "source": [
        "svr_params = {\"C\": np.arange(0.1,2,0.1)}\n",
        "svr_cv_model = GridSearchCV(svr_model, svr_params, cv = 10).fit(X_train,y_train)"
      ],
      "execution_count": null,
      "outputs": []
    },
    {
      "cell_type": "code",
      "metadata": {
        "id": "_dHmlGN5Vxlk"
      },
      "source": [
        "svr_cv_model.best_params_"
      ],
      "execution_count": null,
      "outputs": []
    },
    {
      "cell_type": "code",
      "metadata": {
        "colab": {
          "base_uri": "https://localhost:8080/"
        },
        "id": "ma2S1L3x0Pol",
        "outputId": "846293a9-5e5b-4814-cb3c-f21cabf0e165"
      },
      "source": [
        "pd.Series(svr_cv_model.best_params_)[0]"
      ],
      "execution_count": null,
      "outputs": [
        {
          "output_type": "execute_result",
          "data": {
            "text/plain": [
              "0.1"
            ]
          },
          "metadata": {
            "tags": []
          },
          "execution_count": 39
        }
      ]
    },
    {
      "cell_type": "code",
      "metadata": {
        "id": "G2C4dLQg0Pom"
      },
      "source": [
        "svr_tuned = SVR(\"linear\", \n",
        "                C = pd.Series(svr_cv_model.best_params_)[0]).fit(X_train, y_train)\n",
        "\n"
      ],
      "execution_count": null,
      "outputs": []
    },
    {
      "cell_type": "code",
      "metadata": {
        "id": "fM1c9m2G0Pon"
      },
      "source": [
        "y_pred = svr_tuned.predict(X_test)"
      ],
      "execution_count": null,
      "outputs": []
    },
    {
      "cell_type": "code",
      "metadata": {
        "colab": {
          "base_uri": "https://localhost:8080/"
        },
        "id": "uWEKn0fB0Pon",
        "outputId": "7e143f6f-57bc-43e6-a598-7352cae5b650"
      },
      "source": [
        "np.sqrt(mean_squared_error(y_test, y_pred))"
      ],
      "execution_count": null,
      "outputs": [
        {
          "output_type": "execute_result",
          "data": {
            "text/plain": [
              "458.198966781116"
            ]
          },
          "metadata": {
            "tags": []
          },
          "execution_count": 43
        }
      ]
    },
    {
      "cell_type": "code",
      "metadata": {
        "id": "3IxspNQI0Poo"
      },
      "source": [
        "#Bütün değişkenler üzerinde yapıldığı zaman\n",
        "svr_params = {\"C\": np.arange(0.1,2,0.1)}\n",
        "svr_cv_model = GridSearchCV(svr_model, svr_params, cv = 10).fit(X_train,y_train)"
      ],
      "execution_count": null,
      "outputs": []
    },
    {
      "cell_type": "code",
      "metadata": {
        "colab": {
          "base_uri": "https://localhost:8080/"
        },
        "id": "1BhOA6txYkHV",
        "outputId": "b4132563-f651-4d42-a6e8-b8bbf5318055"
      },
      "source": [
        "svr_cv_model.best_params_"
      ],
      "execution_count": null,
      "outputs": [
        {
          "output_type": "execute_result",
          "data": {
            "text/plain": [
              "{'C': 0.4}"
            ]
          },
          "metadata": {
            "tags": []
          },
          "execution_count": 46
        }
      ]
    },
    {
      "cell_type": "code",
      "metadata": {
        "colab": {
          "base_uri": "https://localhost:8080/"
        },
        "id": "umayDcDNYd_a",
        "outputId": "5659e979-3cb9-4716-f86d-2cdd372070c6"
      },
      "source": [
        "np.sqrt(mean_squared_error(y_test, y_pred))"
      ],
      "execution_count": null,
      "outputs": [
        {
          "output_type": "execute_result",
          "data": {
            "text/plain": [
              "458.198966781116"
            ]
          },
          "metadata": {
            "tags": []
          },
          "execution_count": 47
        }
      ]
    },
    {
      "cell_type": "markdown",
      "metadata": {
        "id": "ohkthC-o0Poo"
      },
      "source": [
        "# Doğrusal Olmayan SVR"
      ]
    },
    {
      "cell_type": "code",
      "metadata": {
        "id": "c9l7i3Oo0Pop"
      },
      "source": [
        "np.random.seed(3)\n",
        "\n",
        "x_sim = np.random.uniform(2, 10, 145)\n",
        "y_sim = np.sin(x_sim) + np.random.normal(0, 0.4, 145)\n",
        "\n",
        "x_outliers = np.arange(2.5, 5, 0.5)\n",
        "y_outliers = -5*np.ones(5)\n",
        "\n",
        "x_sim_idx = np.argsort(np.concatenate([x_sim, x_outliers]))\n",
        "x_sim = np.concatenate([x_sim, x_outliers])[x_sim_idx]\n",
        "y_sim = np.concatenate([y_sim, y_outliers])[x_sim_idx]"
      ],
      "execution_count": 2,
      "outputs": []
    },
    {
      "cell_type": "code",
      "metadata": {
        "id": "nTsKPlX00Pot"
      },
      "source": [
        "\n",
        "from sklearn.linear_model import LinearRegression\n",
        "ols = LinearRegression()\n",
        "ols.fit(np.sin(x_sim[:, np.newaxis]), y_sim)\n",
        "ols_pred = ols.predict(np.sin(x_sim[:, np.newaxis]))\n",
        "\n",
        "from sklearn.svm import SVR\n",
        "eps = 0.1\n",
        "svr = SVR('rbf', epsilon = eps)\n",
        "svr.fit(x_sim[:, np.newaxis], y_sim)\n",
        "svr_pred = svr.predict(x_sim[:, np.newaxis])"
      ],
      "execution_count": 3,
      "outputs": []
    },
    {
      "cell_type": "code",
      "metadata": {
        "id": "UMY1Bprn0Pou",
        "colab": {
          "base_uri": "https://localhost:8080/",
          "height": 280
        },
        "outputId": "09ca8687-696c-41b0-fc1b-14f1d94138b2"
      },
      "source": [
        "plt.scatter(x_sim, y_sim, alpha=0.5, s=26)\n",
        "plt_ols, = plt.plot(x_sim, ols_pred, 'g')\n",
        "plt_svr, = plt.plot(x_sim, svr_pred, color='r')\n",
        "plt.xlabel(\"Bağımsız Değişken\")\n",
        "plt.ylabel(\"Bağımlı Değişken\")\n",
        "plt.ylim(-5.2, 2.2)\n",
        "plt.legend([plt_ols, plt_svr], ['EKK', 'SVR'], loc = 4);"
      ],
      "execution_count": 4,
      "outputs": [
        {
          "output_type": "display_data",
          "data": {
            "image/png": "[encoded data removed]",
            "text/plain": [
              "<Figure size 432x288 with 1 Axes>"
            ]
          },
          "metadata": {
            "tags": [],
            "needs_background": "light"
          }
        }
      ]
    },
    {
      "cell_type": "code",
      "metadata": {
        "id": "N4KgR5Da0Pov"
      },
      "source": [
        "hit = pd.read_csv(\"Hitters.csv\")\n",
        "df = hit.copy()\n",
        "df = df.dropna()\n",
        "dms = pd.get_dummies(df[['League', 'Division', 'NewLeague']])\n",
        "y = df[\"Salary\"]\n",
        "X_ = df.drop(['Salary', 'League', 'Division', 'NewLeague'], axis=1).astype('float64')\n",
        "X = pd.concat([X_, dms[['League_N', 'Division_W', 'NewLeague_N']]], axis=1)\n",
        "X_train, X_test, y_train, y_test = train_test_split(X, y, \n",
        "                                                    test_size=0.25, \n",
        "                                                    random_state=42)"
      ],
      "execution_count": 7,
      "outputs": []
    },
    {
      "cell_type": "code",
      "metadata": {
        "id": "FsYxQWSs0Pow"
      },
      "source": [
        "svr_rbf = SVR(\"rbf\").fit(X_train, y_train)"
      ],
      "execution_count": 8,
      "outputs": []
    },
    {
      "cell_type": "markdown",
      "metadata": {
        "id": "CElCUFaq0Pow"
      },
      "source": [
        "## Tahmin"
      ]
    },
    {
      "cell_type": "code",
      "metadata": {
        "id": "B4zEHt8n0Pox"
      },
      "source": [
        "y_pred = svr_rbf.predict(X_test)"
      ],
      "execution_count": 9,
      "outputs": []
    },
    {
      "cell_type": "code",
      "metadata": {
        "id": "zE5zqtPH0Pox",
        "colab": {
          "base_uri": "https://localhost:8080/"
        },
        "outputId": "3e23d29d-0ea2-4c74-e22d-9d7cdecd4666"
      },
      "source": [
        "np.sqrt(mean_squared_error(y_test, y_pred))"
      ],
      "execution_count": 10,
      "outputs": [
        {
          "output_type": "execute_result",
          "data": {
            "text/plain": [
              "460.0032657244849"
            ]
          },
          "metadata": {
            "tags": []
          },
          "execution_count": 10
        }
      ]
    },
    {
      "cell_type": "markdown",
      "metadata": {
        "id": "BgDuD1NB0Poy"
      },
      "source": [
        "## Model Tuning"
      ]
    },
    {
      "cell_type": "code",
      "metadata": {
        "id": "w2GwD3q90Poy",
        "colab": {
          "base_uri": "https://localhost:8080/"
        },
        "outputId": "8b64d77f-de19-4d67-8cc4-f940300c92b4"
      },
      "source": [
        "svr_rbf"
      ],
      "execution_count": 11,
      "outputs": [
        {
          "output_type": "execute_result",
          "data": {
            "text/plain": [
              "SVR(C=1.0, cache_size=200, coef0=0.0, degree=3, epsilon=0.1, gamma='scale',\n",
              "    kernel='rbf', max_iter=-1, shrinking=True, tol=0.001, verbose=False)"
            ]
          },
          "metadata": {
            "tags": []
          },
          "execution_count": 11
        }
      ]
    },
    {
      "cell_type": "code",
      "metadata": {
        "id": "Vs-2a9Rv0Poz",
        "colab": {
          "base_uri": "https://localhost:8080/"
        },
        "outputId": "74d62b12-c111-4320-d31a-251f75a44e11"
      },
      "source": [
        "svr_params = {\"C\": [0.01, 0.1,0.4,5,10,20,30,40,50]}\n",
        "svr_cv_model = GridSearchCV(svr_rbf,svr_params, cv = 10)\n",
        "svr_cv_model.fit(X_train, y_train)"
      ],
      "execution_count": 14,
      "outputs": [
        {
          "output_type": "execute_result",
          "data": {
            "text/plain": [
              "GridSearchCV(cv=10, error_score=nan,\n",
              "             estimator=SVR(C=1.0, cache_size=200, coef0=0.0, degree=3,\n",
              "                           epsilon=0.1, gamma='scale', kernel='rbf',\n",
              "                           max_iter=-1, shrinking=True, tol=0.001,\n",
              "                           verbose=False),\n",
              "             iid='deprecated', n_jobs=None,\n",
              "             param_grid={'C': [0.01, 0.1, 0.4, 5, 10, 20, 30, 40, 50]},\n",
              "             pre_dispatch='2*n_jobs', refit=True, return_train_score=False,\n",
              "             scoring=None, verbose=0)"
            ]
          },
          "metadata": {
            "tags": []
          },
          "execution_count": 14
        }
      ]
    },
    {
      "cell_type": "code",
      "metadata": {
        "id": "-qFY0K8k0Poz",
        "colab": {
          "base_uri": "https://localhost:8080/"
        },
        "outputId": "54cb3d8a-1bdf-4197-da09-ffb89eba728f"
      },
      "source": [
        "pd.Series(svr_cv_model.best_params_)[0]"
      ],
      "execution_count": 15,
      "outputs": [
        {
          "output_type": "execute_result",
          "data": {
            "text/plain": [
              "50"
            ]
          },
          "metadata": {
            "tags": []
          },
          "execution_count": 15
        }
      ]
    },
    {
      "cell_type": "code",
      "metadata": {
        "id": "GPAhdFaB0Po0"
      },
      "source": [
        "svr_tuned = SVR(\"rbf\", C = pd.Series(svr_cv_model.best_params_)[0]).fit(X_train, \n",
        "                                                                        y_train)\n"
      ],
      "execution_count": 16,
      "outputs": []
    },
    {
      "cell_type": "code",
      "metadata": {
        "id": "yjovjL_z0Po0",
        "colab": {
          "base_uri": "https://localhost:8080/"
        },
        "outputId": "cfacc1d1-4d4c-446c-87cd-b32c5e40f559"
      },
      "source": [
        "y_pred = svr_tuned.predict(X_test)\n",
        "\n",
        "np.sqrt(mean_squared_error(y_test, y_pred))"
      ],
      "execution_count": 17,
      "outputs": [
        {
          "output_type": "execute_result",
          "data": {
            "text/plain": [
              "428.00406888095694"
            ]
          },
          "metadata": {
            "tags": []
          },
          "execution_count": 17
        }
      ]
    },
    {
      "cell_type": "markdown",
      "metadata": {
        "id": "PT8gfyo80Po1"
      },
      "source": [
        "# Yapay Sinir Ağları(Çok katmanlı algılayıcı)"
      ]
    },
    {
      "cell_type": "code",
      "metadata": {
        "id": "nQh__vsd0Po1"
      },
      "source": [
        "hit = pd.read_csv(\"Hitters.csv\")\n",
        "df = hit.copy()\n",
        "df = df.dropna()\n",
        "dms = pd.get_dummies(df[['League', 'Division', 'NewLeague']])\n",
        "y = df[\"Salary\"]\n",
        "X_ = df.drop(['Salary', 'League', 'Division', 'NewLeague'], axis=1).astype('float64')\n",
        "X = pd.concat([X_, dms[['League_N', 'Division_W', 'NewLeague_N']]], axis=1)\n",
        "X_train, X_test, y_train, y_test = train_test_split(X, y, \n",
        "                                                    test_size=0.25, \n",
        "                                                    random_state=42)"
      ],
      "execution_count": 18,
      "outputs": []
    },
    {
      "cell_type": "code",
      "metadata": {
        "id": "ejd4Ypjp0Po2"
      },
      "source": [
        "from sklearn.preprocessing import StandardScaler"
      ],
      "execution_count": 19,
      "outputs": []
    },
    {
      "cell_type": "code",
      "metadata": {
        "id": "gZR2peRy0Po3",
        "colab": {
          "base_uri": "https://localhost:8080/"
        },
        "outputId": "6a965b1b-8557-4568-aa70-780e9ef5228c"
      },
      "source": [
        "scaler = StandardScaler()\n",
        "scaler.fit(X_train)"
      ],
      "execution_count": 20,
      "outputs": [
        {
          "output_type": "execute_result",
          "data": {
            "text/plain": [
              "StandardScaler(copy=True, with_mean=True, with_std=True)"
            ]
          },
          "metadata": {
            "tags": []
          },
          "execution_count": 20
        }
      ]
    },
    {
      "cell_type": "code",
      "metadata": {
        "id": "EGkcRMfn0Po4"
      },
      "source": [
        "X_train_scaled = scaler.transform(X_train)"
      ],
      "execution_count": 21,
      "outputs": []
    },
    {
      "cell_type": "code",
      "metadata": {
        "id": "eCowO-1P0Po5"
      },
      "source": [
        "X_test_scaled = scaler.transform(X_test)"
      ],
      "execution_count": 22,
      "outputs": []
    },
    {
      "cell_type": "code",
      "metadata": {
        "id": "XAwYDhL40Po5"
      },
      "source": [
        "from sklearn.neural_network import MLPRegressor"
      ],
      "execution_count": 24,
      "outputs": []
    },
    {
      "cell_type": "code",
      "metadata": {
        "id": "-nWS3Uyt0Po6"
      },
      "source": [
        "mlp_model = MLPRegressor(hidden_layer_sizes = (100,20)).fit(X_train_scaled, y_train)"
      ],
      "execution_count": 25,
      "outputs": []
    },
    {
      "cell_type": "code",
      "metadata": {
        "id": "Ytz5xwDO0Po6",
        "colab": {
          "base_uri": "https://localhost:8080/"
        },
        "outputId": "358bcf7c-9721-4beb-82af-6cfc2cbfeb6d"
      },
      "source": [
        "mlp_model"
      ],
      "execution_count": 26,
      "outputs": [
        {
          "output_type": "execute_result",
          "data": {
            "text/plain": [
              "MLPRegressor(activation='relu', alpha=0.0001, batch_size='auto', beta_1=0.9,\n",
              "             beta_2=0.999, early_stopping=False, epsilon=1e-08,\n",
              "             hidden_layer_sizes=(100, 20), learning_rate='constant',\n",
              "             learning_rate_init=0.001, max_fun=15000, max_iter=200,\n",
              "             momentum=0.9, n_iter_no_change=10, nesterovs_momentum=True,\n",
              "             power_t=0.5, random_state=None, shuffle=True, solver='adam',\n",
              "             tol=0.0001, validation_fraction=0.1, verbose=False,\n",
              "             warm_start=False)"
            ]
          },
          "metadata": {
            "tags": []
          },
          "execution_count": 26
        }
      ]
    },
    {
      "cell_type": "code",
      "metadata": {
        "id": "S1DE9yoN0Po7",
        "colab": {
          "base_uri": "https://localhost:8080/"
        },
        "outputId": "ebe3e54f-1d97-4d2b-8d22-2cd86be27859"
      },
      "source": [
        "mlp_model.n_layers_"
      ],
      "execution_count": 27,
      "outputs": [
        {
          "output_type": "execute_result",
          "data": {
            "text/plain": [
              "4"
            ]
          },
          "metadata": {
            "tags": []
          },
          "execution_count": 27
        }
      ]
    },
    {
      "cell_type": "code",
      "metadata": {
        "id": "TJxedXS80Po8",
        "colab": {
          "base_uri": "https://localhost:8080/"
        },
        "outputId": "13dbd8db-373c-439e-b93e-600ae5523251"
      },
      "source": [
        "mlp_model.hidden_layer_sizes"
      ],
      "execution_count": 28,
      "outputs": [
        {
          "output_type": "execute_result",
          "data": {
            "text/plain": [
              "(100, 20)"
            ]
          },
          "metadata": {
            "tags": []
          },
          "execution_count": 28
        }
      ]
    },
    {
      "cell_type": "markdown",
      "metadata": {
        "id": "MmozMUmN0Po-"
      },
      "source": [
        "## Tahmin"
      ]
    },
    {
      "cell_type": "code",
      "metadata": {
        "id": "-bhTBCD10Po-"
      },
      "source": [
        "y_pred = mlp_model.predict(X_test_scaled)"
      ],
      "execution_count": 29,
      "outputs": []
    },
    {
      "cell_type": "code",
      "metadata": {
        "id": "KkuGowg90Po-",
        "colab": {
          "base_uri": "https://localhost:8080/"
        },
        "outputId": "c1c75dbc-dc55-4634-b579-a0df282a03be"
      },
      "source": [
        "np.sqrt(mean_squared_error(y_test, y_pred))"
      ],
      "execution_count": 30,
      "outputs": [
        {
          "output_type": "execute_result",
          "data": {
            "text/plain": [
              "419.88299414561783"
            ]
          },
          "metadata": {
            "tags": []
          },
          "execution_count": 30
        }
      ]
    },
    {
      "cell_type": "markdown",
      "metadata": {
        "id": "kLN7rqwe0Po_"
      },
      "source": [
        "## Model Tuning"
      ]
    },
    {
      "cell_type": "code",
      "metadata": {
        "id": "GXkxWPeV0Po_",
        "colab": {
          "base_uri": "https://localhost:8080/"
        },
        "outputId": "49fa4cdb-65a9-47ed-f422-e3b0f7fab7bd"
      },
      "source": [
        "mlp_model"
      ],
      "execution_count": 31,
      "outputs": [
        {
          "output_type": "execute_result",
          "data": {
            "text/plain": [
              "MLPRegressor(activation='relu', alpha=0.0001, batch_size='auto', beta_1=0.9,\n",
              "             beta_2=0.999, early_stopping=False, epsilon=1e-08,\n",
              "             hidden_layer_sizes=(100, 20), learning_rate='constant',\n",
              "             learning_rate_init=0.001, max_fun=15000, max_iter=200,\n",
              "             momentum=0.9, n_iter_no_change=10, nesterovs_momentum=True,\n",
              "             power_t=0.5, random_state=None, shuffle=True, solver='adam',\n",
              "             tol=0.0001, validation_fraction=0.1, verbose=False,\n",
              "             warm_start=False)"
            ]
          },
          "metadata": {
            "tags": []
          },
          "execution_count": 31
        }
      ]
    },
    {
      "cell_type": "code",
      "metadata": {
        "id": "yFTuKyt_0PpA"
      },
      "source": [
        "mlp_params = {'alpha': [0.1, 0.01,0.02,0.005],\n",
        "             'hidden_layer_sizes': [(20,20),(100,50,150),(300,200,150)],\n",
        "             'activation': ['relu','logistic']}"
      ],
      "execution_count": 32,
      "outputs": []
    },
    {
      "cell_type": "code",
      "metadata": {
        "id": "0IqTqDJf0PpA"
      },
      "source": [
        "mlp_cv_model = GridSearchCV(mlp_model, mlp_params, cv = 10)"
      ],
      "execution_count": 33,
      "outputs": []
    },
    {
      "cell_type": "code",
      "metadata": {
        "id": "0Mb4FrPy0PpB",
        "colab": {
          "base_uri": "https://localhost:8080/"
        },
        "outputId": "50f21d9d-971c-40df-9880-e8f8d1f13c66"
      },
      "source": [
        "mlp_cv_model.fit(X_train_scaled, y_train)"
      ],
      "execution_count": 34,
      "outputs": [
        {
          "output_type": "execute_result",
          "data": {
            "text/plain": [
              "GridSearchCV(cv=10, error_score=nan,\n",
              "             estimator=MLPRegressor(activation='relu', alpha=0.0001,\n",
              "                                    batch_size='auto', beta_1=0.9, beta_2=0.999,\n",
              "                                    early_stopping=False, epsilon=1e-08,\n",
              "                                    hidden_layer_sizes=(100, 20),\n",
              "                                    learning_rate='constant',\n",
              "                                    learning_rate_init=0.001, max_fun=15000,\n",
              "                                    max_iter=200, momentum=0.9,\n",
              "                                    n_iter_no_change=10,\n",
              "                                    nesterovs_momentum=True, power_t=0.5,\n",
              "                                    random_state=None, shuffle=True,\n",
              "                                    solver='adam', tol=0.0001,\n",
              "                                    validation_fraction=0.1, verbose=False,\n",
              "                                    warm_start=False),\n",
              "             iid='deprecated', n_jobs=None,\n",
              "             param_grid={'activation': ['relu', 'logistic'],\n",
              "                         'alpha': [0.1, 0.01, 0.02, 0.005],\n",
              "                         'hidden_layer_sizes': [(20, 20), (100, 50, 150),\n",
              "                                                (300, 200, 150)]},\n",
              "             pre_dispatch='2*n_jobs', refit=True, return_train_score=False,\n",
              "             scoring=None, verbose=0)"
            ]
          },
          "metadata": {
            "tags": []
          },
          "execution_count": 34
        }
      ]
    },
    {
      "cell_type": "code",
      "metadata": {
        "id": "xR3qP2_A0PpB",
        "colab": {
          "base_uri": "https://localhost:8080/"
        },
        "outputId": "68dc58f7-4d19-40e5-98bf-37a185930077"
      },
      "source": [
        "mlp_cv_model.best_params_"
      ],
      "execution_count": 35,
      "outputs": [
        {
          "output_type": "execute_result",
          "data": {
            "text/plain": [
              "{'activation': 'relu', 'alpha': 0.01, 'hidden_layer_sizes': (100, 50, 150)}"
            ]
          },
          "metadata": {
            "tags": []
          },
          "execution_count": 35
        }
      ]
    },
    {
      "cell_type": "code",
      "metadata": {
        "id": "DE6hZZyA0PpC"
      },
      "source": [
        "mlp_tuned = MLPRegressor(alpha = 0.01, hidden_layer_sizes = (100,50,150))"
      ],
      "execution_count": 36,
      "outputs": []
    },
    {
      "cell_type": "code",
      "metadata": {
        "id": "P_rXW0vZ0PpC",
        "colab": {
          "base_uri": "https://localhost:8080/"
        },
        "outputId": "59e27c98-e4fe-4759-8ec9-800751000879"
      },
      "source": [
        "mlp_tuned.fit(X_train_scaled, y_train)"
      ],
      "execution_count": 37,
      "outputs": [
        {
          "output_type": "execute_result",
          "data": {
            "text/plain": [
              "MLPRegressor(activation='relu', alpha=0.01, batch_size='auto', beta_1=0.9,\n",
              "             beta_2=0.999, early_stopping=False, epsilon=1e-08,\n",
              "             hidden_layer_sizes=(100, 50, 150), learning_rate='constant',\n",
              "             learning_rate_init=0.001, max_fun=15000, max_iter=200,\n",
              "             momentum=0.9, n_iter_no_change=10, nesterovs_momentum=True,\n",
              "             power_t=0.5, random_state=None, shuffle=True, solver='adam',\n",
              "             tol=0.0001, validation_fraction=0.1, verbose=False,\n",
              "             warm_start=False)"
            ]
          },
          "metadata": {
            "tags": []
          },
          "execution_count": 37
        }
      ]
    },
    {
      "cell_type": "code",
      "metadata": {
        "id": "hJTv9CHe0PpD"
      },
      "source": [
        "y_pred = mlp_tuned.predict(X_test_scaled)"
      ],
      "execution_count": 38,
      "outputs": []
    },
    {
      "cell_type": "code",
      "metadata": {
        "id": "OG6UCX-60PpD",
        "colab": {
          "base_uri": "https://localhost:8080/"
        },
        "outputId": "e3f2f145-9c29-4595-fde6-eb20cb1aaff8"
      },
      "source": [
        "np.sqrt(mean_squared_error(y_test, y_pred))"
      ],
      "execution_count": 39,
      "outputs": [
        {
          "output_type": "execute_result",
          "data": {
            "text/plain": [
              "361.7496922657652"
            ]
          },
          "metadata": {
            "tags": []
          },
          "execution_count": 39
        }
      ]
    },
    {
      "cell_type": "markdown",
      "metadata": {
        "id": "CNqTG3ww0PpE"
      },
      "source": [
        "# CART"
      ]
    },
    {
      "cell_type": "code",
      "metadata": {
        "id": "znOocIuE0PpF"
      },
      "source": [
        "hit = pd.read_csv(\"Hitters.csv\")\n",
        "df = hit.copy()\n",
        "df = df.dropna()\n",
        "dms = pd.get_dummies(df[['League', 'Division', 'NewLeague']])\n",
        "y = df[\"Salary\"]\n",
        "X_ = df.drop(['Salary', 'League', 'Division', 'NewLeague'], axis=1).astype('float64')\n",
        "X = pd.concat([X_, dms[['League_N', 'Division_W', 'NewLeague_N']]], axis=1)\n",
        "X_train, X_test, y_train, y_test = train_test_split(X, y, \n",
        "                                                    test_size=0.25, \n",
        "                                                    random_state=42)\n"
      ],
      "execution_count": null,
      "outputs": []
    },
    {
      "cell_type": "code",
      "metadata": {
        "id": "2On_nTq20PpG"
      },
      "source": [
        "X_train = pd.DataFrame(X_train[\"Hits\"])\n",
        "X_test = pd.DataFrame(X_test[\"Hits\"])"
      ],
      "execution_count": null,
      "outputs": []
    },
    {
      "cell_type": "code",
      "metadata": {
        "id": "9MbS0o860PpH"
      },
      "source": [
        "cart_model = DecisionTreeRegressor(min_samples_split = 2)"
      ],
      "execution_count": null,
      "outputs": []
    },
    {
      "cell_type": "code",
      "metadata": {
        "id": "4LsEpRjF0PpI"
      },
      "source": [
        "?cart_model"
      ],
      "execution_count": null,
      "outputs": []
    },
    {
      "cell_type": "code",
      "metadata": {
        "id": "4i_k1_PG0PpI"
      },
      "source": [
        "cart_model.fit(X_train, y_train)"
      ],
      "execution_count": null,
      "outputs": []
    },
    {
      "cell_type": "code",
      "metadata": {
        "id": "ZjO0mO0N0PpJ"
      },
      "source": [
        "X_grid = np.arange(min(np.array(X_train)),max(np.array(X_train)), 0.01) \n",
        "X_grid = X_grid.reshape((len(X_grid), 1))  \n",
        "plt.scatter(X_train, y_train, color = 'red') \n",
        "plt.plot(X_grid, cart_model.predict(X_grid), color = 'blue')  \n",
        "plt.title('CART REGRESON AĞACI')  \n",
        "plt.xlabel('Atış Sayısı(Hits)') \n",
        "plt.ylabel('Maaş (Salary)') ;"
      ],
      "execution_count": null,
      "outputs": []
    },
    {
      "cell_type": "code",
      "metadata": {
        "id": "MDOZq40a0PpJ"
      },
      "source": [
        "#!pip install skompiler"
      ],
      "execution_count": null,
      "outputs": []
    },
    {
      "cell_type": "code",
      "metadata": {
        "id": "EZa2H_Xq0PpK"
      },
      "source": [
        "from skompiler import skompile"
      ],
      "execution_count": null,
      "outputs": []
    },
    {
      "cell_type": "code",
      "metadata": {
        "id": "YFo50Kzq0PpL"
      },
      "source": [
        "print(skompile(cart_model.predict).to('python/code'))"
      ],
      "execution_count": null,
      "outputs": []
    },
    {
      "cell_type": "markdown",
      "metadata": {
        "id": "Fz3ETal90PpM"
      },
      "source": [
        "## Tahmin"
      ]
    },
    {
      "cell_type": "code",
      "metadata": {
        "id": "3_wYnWDe0PpN"
      },
      "source": [
        "x = [91]"
      ],
      "execution_count": null,
      "outputs": []
    },
    {
      "cell_type": "code",
      "metadata": {
        "id": "Je6P8e2V0PpO"
      },
      "source": [
        "(345.2011551724138 if x[0] <= 117.5 else ((((1300.0 if x[0] <= 118.5 else \n",
        "    641.0) if x[0] <= 122.5 else 1468.5236666666667) if x[0] <= 125.5 else \n",
        "    621.9679230769232) if x[0] <= 143.0 else (958.6111111111111 if x[0] <= \n",
        "    150.5 else 2460.0) if x[0] <= 151.5 else 499.1666666666667 if x[0] <= \n",
        "    157.5 else 892.5402413793104) if x[0] <= 225.5 else 1975.0)"
      ],
      "execution_count": null,
      "outputs": []
    },
    {
      "cell_type": "code",
      "metadata": {
        "id": "P4rXGaoa0PpO"
      },
      "source": [
        "cart_model.predict(X_test)[0:5]"
      ],
      "execution_count": null,
      "outputs": []
    },
    {
      "cell_type": "code",
      "metadata": {
        "id": "RdmoeIEv0PpP"
      },
      "source": [
        "cart_model.predict([[91]])"
      ],
      "execution_count": null,
      "outputs": []
    },
    {
      "cell_type": "code",
      "metadata": {
        "id": "uRGIs6rs0PpQ"
      },
      "source": [
        "y_pred =cart_model.predict(X_test)"
      ],
      "execution_count": null,
      "outputs": []
    },
    {
      "cell_type": "code",
      "metadata": {
        "id": "z6EDilZH0PpQ"
      },
      "source": [
        "np.sqrt(mean_squared_error(y_test, y_pred))"
      ],
      "execution_count": null,
      "outputs": []
    },
    {
      "cell_type": "markdown",
      "metadata": {
        "id": "yUpbVy2J0PpQ"
      },
      "source": [
        "## Model Tuning"
      ]
    },
    {
      "cell_type": "code",
      "metadata": {
        "id": "alHucWjx0PpR"
      },
      "source": [
        "cart_model = DecisionTreeRegressor()\n",
        "cart_model.fit(X_train, y_train)\n",
        "y_pred = cart_model.predict(X_test)"
      ],
      "execution_count": null,
      "outputs": []
    },
    {
      "cell_type": "code",
      "metadata": {
        "id": "jeeIXinJ0PpR"
      },
      "source": [
        "np.sqrt(mean_squared_error(y_test, y_pred))"
      ],
      "execution_count": null,
      "outputs": []
    },
    {
      "cell_type": "code",
      "metadata": {
        "id": "hrrEw1Sc0PpS"
      },
      "source": [
        "cart_params = {\"min_samples_split\": range(2,100),\n",
        "               \"max_leaf_nodes\": range(2,10)}"
      ],
      "execution_count": null,
      "outputs": []
    },
    {
      "cell_type": "code",
      "metadata": {
        "id": "vGVVKpuT0PpS"
      },
      "source": [
        "cart_cv_model = GridSearchCV(cart_model, cart_params, cv = 10)"
      ],
      "execution_count": null,
      "outputs": []
    },
    {
      "cell_type": "code",
      "metadata": {
        "id": "nwPFHgum0PpT"
      },
      "source": [
        "cart_cv_model.fit(X_train, y_train)"
      ],
      "execution_count": null,
      "outputs": []
    },
    {
      "cell_type": "code",
      "metadata": {
        "id": "_1KmVfaR0PpT"
      },
      "source": [
        "cart_cv_model.best_params_"
      ],
      "execution_count": null,
      "outputs": []
    },
    {
      "cell_type": "code",
      "metadata": {
        "id": "SGHppMRf0PpU"
      },
      "source": [
        "cart_tuned = DecisionTreeRegressor(max_leaf_nodes = 9, min_samples_split = 37)"
      ],
      "execution_count": null,
      "outputs": []
    },
    {
      "cell_type": "code",
      "metadata": {
        "id": "DxTkWxDX0PpU"
      },
      "source": [
        "cart_tuned.fit(X_train, y_train)"
      ],
      "execution_count": null,
      "outputs": []
    },
    {
      "cell_type": "code",
      "metadata": {
        "id": "tlRmp7kY0PpV"
      },
      "source": [
        "y_pred = cart_tuned.predict(X_test)"
      ],
      "execution_count": null,
      "outputs": []
    },
    {
      "cell_type": "code",
      "metadata": {
        "id": "xy9YjKG60PpW"
      },
      "source": [
        "np.sqrt(mean_squared_error(y_test, y_pred))"
      ],
      "execution_count": null,
      "outputs": []
    },
    {
      "cell_type": "markdown",
      "metadata": {
        "id": "kDVZSiZN0PpW"
      },
      "source": [
        "# Bagged Trees Regresyon"
      ]
    },
    {
      "cell_type": "code",
      "metadata": {
        "id": "xP75ESRq0PpW"
      },
      "source": [
        "hit = pd.read_csv(\"Hitters.csv\")\n",
        "df = hit.copy()\n",
        "df = df.dropna()\n",
        "dms = pd.get_dummies(df[['League', 'Division', 'NewLeague']])\n",
        "y = df[\"Salary\"]\n",
        "X_ = df.drop(['Salary', 'League', 'Division', 'NewLeague'], axis=1).astype('float64')\n",
        "X = pd.concat([X_, dms[['League_N', 'Division_W', 'NewLeague_N']]], axis=1)\n",
        "X_train, X_test, y_train, y_test = train_test_split(X, y, \n",
        "                                                    test_size=0.25, \n",
        "                                                    random_state=42)\n"
      ],
      "execution_count": null,
      "outputs": []
    },
    {
      "cell_type": "code",
      "metadata": {
        "id": "NrWTdTAt0PpX"
      },
      "source": [
        "bag_model = BaggingRegressor(bootstrap_features = True)\n",
        "bag_model.fit(X_train, y_train)"
      ],
      "execution_count": null,
      "outputs": []
    },
    {
      "cell_type": "code",
      "metadata": {
        "id": "DTiYzMmn0PpZ"
      },
      "source": [
        "bag_model.n_estimators"
      ],
      "execution_count": null,
      "outputs": []
    },
    {
      "cell_type": "code",
      "metadata": {
        "id": "g8zGIUUH0PpZ"
      },
      "source": [
        "bag_model.estimators_"
      ],
      "execution_count": null,
      "outputs": []
    },
    {
      "cell_type": "code",
      "metadata": {
        "id": "3Nfxf25s0Ppa"
      },
      "source": [
        "bag_model.estimators_samples_"
      ],
      "execution_count": null,
      "outputs": []
    },
    {
      "cell_type": "code",
      "metadata": {
        "id": "rqmiZ3QK0Ppa"
      },
      "source": [
        "bag_model.estimators_features_"
      ],
      "execution_count": null,
      "outputs": []
    },
    {
      "cell_type": "code",
      "metadata": {
        "id": "-qFj6-4E0Ppb"
      },
      "source": [
        "bag_model.estimators_[1]"
      ],
      "execution_count": null,
      "outputs": []
    },
    {
      "cell_type": "markdown",
      "metadata": {
        "id": "-vAPFcY60Ppb"
      },
      "source": [
        "## Tahmin"
      ]
    },
    {
      "cell_type": "code",
      "metadata": {
        "id": "l7E28i7Q0Ppc"
      },
      "source": [
        "y_pred = bag_model.predict(X_test)"
      ],
      "execution_count": null,
      "outputs": []
    },
    {
      "cell_type": "code",
      "metadata": {
        "id": "cl0OR7h-0Ppd"
      },
      "source": [
        "np.sqrt(mean_squared_error(y_test, y_pred))"
      ],
      "execution_count": null,
      "outputs": []
    },
    {
      "cell_type": "code",
      "metadata": {
        "id": "3PReFYzO0Ppe"
      },
      "source": [
        "iki_y_pred = bag_model.estimators_[1].fit(X_train, y_train).predict(X_test)"
      ],
      "execution_count": null,
      "outputs": []
    },
    {
      "cell_type": "code",
      "metadata": {
        "id": "NXZkOBT90Ppe"
      },
      "source": [
        "np.sqrt(mean_squared_error(y_test, iki_y_pred))"
      ],
      "execution_count": null,
      "outputs": []
    },
    {
      "cell_type": "code",
      "metadata": {
        "id": "hbjdNtXr0Ppf"
      },
      "source": [
        "yedi_y_pred = bag_model.estimators_[4].fit(X_train, y_train).predict(X_test)"
      ],
      "execution_count": null,
      "outputs": []
    },
    {
      "cell_type": "code",
      "metadata": {
        "id": "IAgD9-cB0Ppf"
      },
      "source": [
        "np.sqrt(mean_squared_error(y_test, yedi_y_pred))"
      ],
      "execution_count": null,
      "outputs": []
    },
    {
      "cell_type": "markdown",
      "metadata": {
        "id": "FhBWl9720Ppf"
      },
      "source": [
        "# Model Tuning"
      ]
    },
    {
      "cell_type": "code",
      "metadata": {
        "id": "v6hlTAd10Ppg"
      },
      "source": [
        "bag_model = BaggingRegressor(bootstrap_features = True)\n",
        "bag_model.fit(X_train, y_train)"
      ],
      "execution_count": null,
      "outputs": []
    },
    {
      "cell_type": "code",
      "metadata": {
        "id": "oIL-eByy0Ppg"
      },
      "source": [
        "bag_params = {\"n_estimators\": range(2,20)}"
      ],
      "execution_count": null,
      "outputs": []
    },
    {
      "cell_type": "code",
      "metadata": {
        "id": "8ZpmTWA00Pph"
      },
      "source": [
        "bag_cv_model = GridSearchCV(bag_model, bag_params, cv = 10)"
      ],
      "execution_count": null,
      "outputs": []
    },
    {
      "cell_type": "code",
      "metadata": {
        "id": "qvTsoOKC0Pph"
      },
      "source": [
        "bag_cv_model.fit(X_train, y_train)"
      ],
      "execution_count": null,
      "outputs": []
    },
    {
      "cell_type": "code",
      "metadata": {
        "id": "ORxcCqSO0Ppi"
      },
      "source": [
        "bag_cv_model.best_params_"
      ],
      "execution_count": null,
      "outputs": []
    },
    {
      "cell_type": "code",
      "metadata": {
        "id": "kqBGofpO0Ppi"
      },
      "source": [
        "bag_tuned = BaggingRegressor( n_estimators = 14, random_state = 45)"
      ],
      "execution_count": null,
      "outputs": []
    },
    {
      "cell_type": "code",
      "metadata": {
        "id": "6hrmPFjk0Ppi"
      },
      "source": [
        "bag_tuned.fit(X_train, y_train)"
      ],
      "execution_count": null,
      "outputs": []
    },
    {
      "cell_type": "code",
      "metadata": {
        "id": "jluuX9Q70Ppj"
      },
      "source": [
        "y_pred = bag_tuned.predict(X_test)"
      ],
      "execution_count": null,
      "outputs": []
    },
    {
      "cell_type": "code",
      "metadata": {
        "id": "4Jwp2GTC0Ppj"
      },
      "source": [
        "np.sqrt(mean_squared_error(y_test, y_pred))"
      ],
      "execution_count": null,
      "outputs": []
    },
    {
      "cell_type": "markdown",
      "metadata": {
        "id": "as4H6joI0Ppj"
      },
      "source": [
        "# Random Forests"
      ]
    },
    {
      "cell_type": "code",
      "metadata": {
        "id": "4XQh8y0T0Ppk"
      },
      "source": [
        "hit = pd.read_csv(\"Hitters.csv\")\n",
        "df = hit.copy()\n",
        "df = df.dropna()\n",
        "dms = pd.get_dummies(df[['League', 'Division', 'NewLeague']])\n",
        "y = df[\"Salary\"]\n",
        "X_ = df.drop(['Salary', 'League', 'Division', 'NewLeague'], axis=1).astype('float64')\n",
        "X = pd.concat([X_, dms[['League_N', 'Division_W', 'NewLeague_N']]], axis=1)\n",
        "X_train, X_test, y_train, y_test = train_test_split(X, y, \n",
        "                                                    test_size=0.25, \n",
        "                                                    random_state=42)\n"
      ],
      "execution_count": null,
      "outputs": []
    },
    {
      "cell_type": "code",
      "metadata": {
        "id": "n559l6H90Ppk"
      },
      "source": [
        "from sklearn.ensemble import RandomForestRegressor"
      ],
      "execution_count": null,
      "outputs": []
    },
    {
      "cell_type": "code",
      "metadata": {
        "id": "pgq07WMI0Ppl"
      },
      "source": [
        "rf_model = RandomForestRegressor(random_state = 42)"
      ],
      "execution_count": null,
      "outputs": []
    },
    {
      "cell_type": "code",
      "metadata": {
        "id": "ifmn5zHk0Ppl"
      },
      "source": [
        "rf_model.fit(X_train, y_train)"
      ],
      "execution_count": null,
      "outputs": []
    },
    {
      "cell_type": "markdown",
      "metadata": {
        "id": "aE13npDq0Ppm"
      },
      "source": [
        "## Tahmin"
      ]
    },
    {
      "cell_type": "code",
      "metadata": {
        "id": "4BOe6dbs0Ppm"
      },
      "source": [
        "rf_model.predict(X_test)[0:5]"
      ],
      "execution_count": null,
      "outputs": []
    },
    {
      "cell_type": "code",
      "metadata": {
        "id": "N9mzO9f30Ppm"
      },
      "source": [
        "y_pred = rf_model.predict(X_test)"
      ],
      "execution_count": null,
      "outputs": []
    },
    {
      "cell_type": "code",
      "metadata": {
        "id": "GChZojwB0Ppn"
      },
      "source": [
        "np.sqrt(mean_squared_error(y_test, y_pred))"
      ],
      "execution_count": null,
      "outputs": []
    },
    {
      "cell_type": "markdown",
      "metadata": {
        "id": "LNBgRPTm0Ppn"
      },
      "source": [
        "## Model Tuning"
      ]
    },
    {
      "cell_type": "code",
      "metadata": {
        "id": "smEyvJjZ0Ppo"
      },
      "source": [
        "rf_params = {'max_depth': list(range(1,10)),\n",
        "            'max_features': [3,5,10,15],\n",
        "            'n_estimators' : [100, 200, 500, 1000, 2000]}"
      ],
      "execution_count": null,
      "outputs": []
    },
    {
      "cell_type": "code",
      "metadata": {
        "id": "gshhBKSA0Ppo"
      },
      "source": [
        "rf_model = RandomForestRegressor(random_state = 42)"
      ],
      "execution_count": null,
      "outputs": []
    },
    {
      "cell_type": "code",
      "metadata": {
        "id": "Sa7hzBv40Ppo"
      },
      "source": [
        "rf_cv_model = GridSearchCV(rf_model, \n",
        "                           rf_params, \n",
        "                           cv = 10, \n",
        "                            n_jobs = -1)"
      ],
      "execution_count": null,
      "outputs": []
    },
    {
      "cell_type": "code",
      "metadata": {
        "id": "gUhr6dEU0Ppp"
      },
      "source": [
        "rf_cv_model.fit(X_train, y_train)"
      ],
      "execution_count": null,
      "outputs": []
    },
    {
      "cell_type": "code",
      "metadata": {
        "id": "kSOFVFaf0Ppp"
      },
      "source": [
        "rf_cv_model.best_params_"
      ],
      "execution_count": null,
      "outputs": []
    },
    {
      "cell_type": "code",
      "metadata": {
        "id": "19ZAzHUA0Ppq"
      },
      "source": [
        "rf_tuned = RandomForestRegressor(max_depth  = 8, \n",
        "                                 max_features = 3, \n",
        "                                 n_estimators =200)"
      ],
      "execution_count": null,
      "outputs": []
    },
    {
      "cell_type": "code",
      "metadata": {
        "id": "Xos3DokD0Ppr"
      },
      "source": [
        "rf_tuned.fit(X_train, y_train)"
      ],
      "execution_count": null,
      "outputs": []
    },
    {
      "cell_type": "code",
      "metadata": {
        "id": "-iiqKSDZ0Ppr"
      },
      "source": [
        "y_pred = rf_tuned.predict(X_test)"
      ],
      "execution_count": null,
      "outputs": []
    },
    {
      "cell_type": "code",
      "metadata": {
        "id": "HOFDdhTk0Pps"
      },
      "source": [
        "np.sqrt(mean_squared_error(y_test, y_pred))"
      ],
      "execution_count": null,
      "outputs": []
    },
    {
      "cell_type": "code",
      "metadata": {
        "id": "O6ZxE2ds0Pps"
      },
      "source": [
        "Importance = pd.DataFrame({\"Importance\": rf_tuned.feature_importances_*100},\n",
        "                         index = X_train.columns)"
      ],
      "execution_count": null,
      "outputs": []
    },
    {
      "cell_type": "code",
      "metadata": {
        "id": "-eQeqsjG0Ppt"
      },
      "source": [
        "Importance.sort_values(by = \"Importance\", \n",
        "                       axis = 0, \n",
        "                       ascending = True).plot(kind =\"barh\", color = \"r\")\n",
        "\n",
        "plt.xlabel(\"Değişken Önem Düzeyleri\")"
      ],
      "execution_count": null,
      "outputs": []
    },
    {
      "cell_type": "markdown",
      "metadata": {
        "id": "OylWuZYt0Ppt"
      },
      "source": [
        "# Gradient Boosting Machines"
      ]
    },
    {
      "cell_type": "code",
      "metadata": {
        "id": "7Hg35k6P0Ppt"
      },
      "source": [
        "from sklearn.ensemble import GradientBoostingRegressor"
      ],
      "execution_count": null,
      "outputs": []
    },
    {
      "cell_type": "code",
      "metadata": {
        "id": "cR9exgWg0Ppu"
      },
      "source": [
        "gbm_model = GradientBoostingRegressor()\n",
        "gbm_model.fit(X_train, y_train)"
      ],
      "execution_count": null,
      "outputs": []
    },
    {
      "cell_type": "markdown",
      "metadata": {
        "id": "5VZSaavC0Ppv"
      },
      "source": [
        "## Tahmin"
      ]
    },
    {
      "cell_type": "code",
      "metadata": {
        "id": "ILCg_Le_0Ppv"
      },
      "source": [
        "y_pred = gbm_model.predict(X_test)\n",
        "np.sqrt(mean_squared_error(y_test, y_pred))"
      ],
      "execution_count": null,
      "outputs": []
    },
    {
      "cell_type": "markdown",
      "metadata": {
        "id": "0AJjC-an0Ppw"
      },
      "source": [
        "## Model Tuning"
      ]
    },
    {
      "cell_type": "code",
      "metadata": {
        "id": "xQSyLEUZ0Ppw"
      },
      "source": [
        "gbm_params = {\n",
        "    'learning_rate': [0.001, 0.01, 0.1, 0.2],\n",
        "    'max_depth': [3, 5, 8,50,100],\n",
        "    'n_estimators': [200, 500, 1000, 2000],\n",
        "    'subsample': [1,0.5,0.75],\n",
        "}"
      ],
      "execution_count": null,
      "outputs": []
    },
    {
      "cell_type": "code",
      "metadata": {
        "id": "Cap2cJ_k0Ppx"
      },
      "source": [
        "gbm = GradientBoostingRegressor()\n",
        "gbm_cv_model = GridSearchCV(gbm, gbm_params, cv = 10, n_jobs = -1, verbose = 2)\n",
        "gbm_cv_model.fit(X_train, y_train)"
      ],
      "execution_count": null,
      "outputs": []
    },
    {
      "cell_type": "code",
      "metadata": {
        "id": "USVZbJ890Ppx"
      },
      "source": [
        "gbm_cv_model.best_params_"
      ],
      "execution_count": null,
      "outputs": []
    },
    {
      "cell_type": "code",
      "metadata": {
        "id": "8Ob6OBge0Ppx"
      },
      "source": [
        "gbm_tuned = GradientBoostingRegressor(learning_rate = 0.1,  \n",
        "                                      max_depth = 5, \n",
        "                                      n_estimators = 200, \n",
        "                                      subsample = 0.5)\n",
        "\n",
        "gbm_tuned = gbm_tuned.fit(X_train,y_train)"
      ],
      "execution_count": null,
      "outputs": []
    },
    {
      "cell_type": "code",
      "metadata": {
        "id": "emaNAmgg0Ppy"
      },
      "source": [
        "y_pred = gbm_tuned.predict(X_test)\n",
        "np.sqrt(mean_squared_error(y_test, y_pred))"
      ],
      "execution_count": null,
      "outputs": []
    },
    {
      "cell_type": "code",
      "metadata": {
        "id": "jGhFlwow0Ppz"
      },
      "source": [
        "Importance = pd.DataFrame({\"Importance\": gbm_tuned.feature_importances_*100},\n",
        "                         index = X_train.columns)"
      ],
      "execution_count": null,
      "outputs": []
    },
    {
      "cell_type": "code",
      "metadata": {
        "id": "iknmGdoI0Ppz"
      },
      "source": [
        "Importance.sort_values(by = \"Importance\", \n",
        "                       axis = 0, \n",
        "                       ascending = True).plot(kind =\"barh\", color = \"r\")\n",
        "\n",
        "plt.xlabel(\"Değişken Önem Düzeyleri\")"
      ],
      "execution_count": null,
      "outputs": []
    },
    {
      "cell_type": "markdown",
      "metadata": {
        "id": "KuPWGsX50Pp0"
      },
      "source": [
        "# XGBoost"
      ]
    },
    {
      "cell_type": "code",
      "metadata": {
        "id": "ilt7WMv70Pp0"
      },
      "source": [
        "hit = pd.read_csv(\"Hitters.csv\")\n",
        "df = hit.copy()\n",
        "df = df.dropna()\n",
        "dms = pd.get_dummies(df[['League', 'Division', 'NewLeague']])\n",
        "y = df[\"Salary\"]\n",
        "X_ = df.drop(['Salary', 'League', 'Division', 'NewLeague'], axis=1).astype('float64')\n",
        "X = pd.concat([X_, dms[['League_N', 'Division_W', 'NewLeague_N']]], axis=1)\n",
        "X_train, X_test, y_train, y_test = train_test_split(X, y, \n",
        "                                                    test_size=0.25, \n",
        "                                                    random_state=42)\n"
      ],
      "execution_count": null,
      "outputs": []
    },
    {
      "cell_type": "code",
      "metadata": {
        "id": "VqTODRPq0Pp0"
      },
      "source": [
        "#!pip install xgboost"
      ],
      "execution_count": null,
      "outputs": []
    },
    {
      "cell_type": "code",
      "metadata": {
        "id": "sY5FnAtf0Pp1"
      },
      "source": [
        "import xgboost as xgb"
      ],
      "execution_count": null,
      "outputs": []
    },
    {
      "cell_type": "code",
      "metadata": {
        "id": "bSm9AN570Pp1"
      },
      "source": [
        "DM_train = xgb.DMatrix(data = X_train, label = y_train)\n",
        "DM_test = xgb.DMatrix(data = X_test, label = y_test)"
      ],
      "execution_count": null,
      "outputs": []
    },
    {
      "cell_type": "code",
      "metadata": {
        "id": "C3SJDmc10Pp2"
      },
      "source": [
        "from xgboost import XGBRegressor"
      ],
      "execution_count": null,
      "outputs": []
    },
    {
      "cell_type": "code",
      "metadata": {
        "id": "7pU0w3Zt0Pp2"
      },
      "source": [
        "xgb_model = XGBRegressor().fit(X_train, y_train)"
      ],
      "execution_count": null,
      "outputs": []
    },
    {
      "cell_type": "markdown",
      "metadata": {
        "id": "T2QWcaBA0Pp2"
      },
      "source": [
        "## Tahmin"
      ]
    },
    {
      "cell_type": "code",
      "metadata": {
        "id": "jIofwasx0Pp3"
      },
      "source": [
        "y_pred = xgb_model.predict(X_test)\n",
        "np.sqrt(mean_squared_error(y_test, y_pred))"
      ],
      "execution_count": null,
      "outputs": []
    },
    {
      "cell_type": "markdown",
      "metadata": {
        "id": "-YMsi8mB0Pp3"
      },
      "source": [
        "## Model Tuning"
      ]
    },
    {
      "cell_type": "code",
      "metadata": {
        "id": "HWsVK9ZB0Pp4"
      },
      "source": [
        "xgb_model"
      ],
      "execution_count": null,
      "outputs": []
    },
    {
      "cell_type": "code",
      "metadata": {
        "id": "AeCRPdGw0Pp4"
      },
      "source": [
        "xgb_grid = {\n",
        "     'colsample_bytree': [0.4, 0.5,0.6,0.9,1], \n",
        "     'n_estimators':[100, 200, 500, 1000],\n",
        "     'max_depth': [2,3,4,5,6],\n",
        "     'learning_rate': [0.1, 0.01, 0.5]\n",
        "}\n"
      ],
      "execution_count": null,
      "outputs": []
    },
    {
      "cell_type": "code",
      "metadata": {
        "id": "LSF9VkT80Pp5"
      },
      "source": [
        "xgb = XGBRegressor()\n",
        "\n",
        "xgb_cv = GridSearchCV(xgb, \n",
        "                      param_grid = xgb_grid, \n",
        "                      cv = 10, \n",
        "                      n_jobs = -1,\n",
        "                      verbose = 2)\n",
        "\n",
        "\n",
        "xgb_cv.fit(X_train, y_train)"
      ],
      "execution_count": null,
      "outputs": []
    },
    {
      "cell_type": "code",
      "metadata": {
        "id": "GDFjiStr0Pp5"
      },
      "source": [
        "xgb_cv.best_params_"
      ],
      "execution_count": null,
      "outputs": []
    },
    {
      "cell_type": "code",
      "metadata": {
        "id": "csQS7mxf0Pp6"
      },
      "source": [
        "xgb_tuned = XGBRegressor(colsample_bytree = 0.9, \n",
        "                         learning_rate = 0.01, \n",
        "                         max_depth = 5, \n",
        "                         n_estimators = 1000) \n",
        "\n",
        "xgb_tuned = xgb_tuned.fit(X_train,y_train)"
      ],
      "execution_count": null,
      "outputs": []
    },
    {
      "cell_type": "code",
      "metadata": {
        "id": "vjj9KTAa0Pp7"
      },
      "source": [
        "y_pred = xgb_tuned.predict(X_test)\n",
        "np.sqrt(mean_squared_error(y_test, y_pred))"
      ],
      "execution_count": null,
      "outputs": []
    },
    {
      "cell_type": "markdown",
      "metadata": {
        "id": "LrdzJHb30Pp8"
      },
      "source": [
        "# Light GBM"
      ]
    },
    {
      "cell_type": "code",
      "metadata": {
        "id": "ig9reNan0Pp8"
      },
      "source": [
        "hit = pd.read_csv(\"Hitters.csv\")\n",
        "df = hit.copy()\n",
        "df = df.dropna()\n",
        "dms = pd.get_dummies(df[['League', 'Division', 'NewLeague']])\n",
        "y = df[\"Salary\"]\n",
        "X_ = df.drop(['Salary', 'League', 'Division', 'NewLeague'], axis=1).astype('float64')\n",
        "X = pd.concat([X_, dms[['League_N', 'Division_W', 'NewLeague_N']]], axis=1)\n",
        "X_train, X_test, y_train, y_test = train_test_split(X, y, \n",
        "                                                    test_size=0.25, \n",
        "                                                    random_state=42)\n"
      ],
      "execution_count": null,
      "outputs": []
    },
    {
      "cell_type": "code",
      "metadata": {
        "id": "P0uO_IkS0Pp9"
      },
      "source": [
        "#!pip install lightgbm"
      ],
      "execution_count": null,
      "outputs": []
    },
    {
      "cell_type": "code",
      "metadata": {
        "id": "mft_BgcH0Pp-"
      },
      "source": [
        "from lightgbm import LGBMRegressor"
      ],
      "execution_count": null,
      "outputs": []
    },
    {
      "cell_type": "code",
      "metadata": {
        "id": "LeZ9O0qF0Pp_"
      },
      "source": [
        "#conda install -c conda-forge lightgbm"
      ],
      "execution_count": null,
      "outputs": []
    },
    {
      "cell_type": "code",
      "metadata": {
        "id": "uMnuOuE30Pp_"
      },
      "source": [
        "from lightgbm import LGBMRegressor"
      ],
      "execution_count": null,
      "outputs": []
    },
    {
      "cell_type": "code",
      "metadata": {
        "id": "wH8HG9US0Pp_"
      },
      "source": [
        "lgbm = LGBMRegressor()\n",
        "lgbm_model = lgbm.fit(X_train, y_train)"
      ],
      "execution_count": null,
      "outputs": []
    },
    {
      "cell_type": "markdown",
      "metadata": {
        "id": "BfIr0iQ70PqA"
      },
      "source": [
        "## Tahmin"
      ]
    },
    {
      "cell_type": "code",
      "metadata": {
        "id": "wizXMIN80PqA"
      },
      "source": [
        "y_pred = lgbm_model.predict(X_test, \n",
        "                            num_iteration = lgbm_model.best_iteration_)"
      ],
      "execution_count": null,
      "outputs": []
    },
    {
      "cell_type": "code",
      "metadata": {
        "id": "fijDNfS60PqB"
      },
      "source": [
        "np.sqrt(mean_squared_error(y_test, y_pred))"
      ],
      "execution_count": null,
      "outputs": []
    },
    {
      "cell_type": "markdown",
      "metadata": {
        "id": "9QzsMCer0PqB"
      },
      "source": [
        "## Model Tuning"
      ]
    },
    {
      "cell_type": "code",
      "metadata": {
        "id": "b4fe14e60PqB"
      },
      "source": [
        "lgbm_model"
      ],
      "execution_count": null,
      "outputs": []
    },
    {
      "cell_type": "code",
      "metadata": {
        "id": "mKjUE7nj0PqC"
      },
      "source": [
        "lgbm_grid = {\n",
        "    'colsample_bytree': [0.4, 0.5,0.6,0.9,1],\n",
        "    'learning_rate': [0.01, 0.1, 0.5,1],\n",
        "    'n_estimators': [20, 40, 100, 200, 500,1000],\n",
        "    'max_depth': [1,2,3,4,5,6,7,8] }\n",
        "\n",
        "lgbm = LGBMRegressor()\n",
        "lgbm_cv_model = GridSearchCV(lgbm, lgbm_grid, cv=10, n_jobs = -1, verbose = 2)"
      ],
      "execution_count": null,
      "outputs": []
    },
    {
      "cell_type": "code",
      "metadata": {
        "id": "qny3wltI0PqC"
      },
      "source": [
        "lgbm_cv_model.fit(X_train, y_train)"
      ],
      "execution_count": null,
      "outputs": []
    },
    {
      "cell_type": "code",
      "metadata": {
        "id": "eyX5AU-T0PqC"
      },
      "source": [
        "lgbm_cv_model.best_params_"
      ],
      "execution_count": null,
      "outputs": []
    },
    {
      "cell_type": "code",
      "metadata": {
        "id": "RvE_Gw9T0PqF"
      },
      "source": [
        "lgbm_tuned = LGBMRegressor(learning_rate = 0.1, \n",
        "                           max_depth = 7, \n",
        "                           n_estimators = 40,\n",
        "                          colsample_bytree = 0.6)\n",
        "\n",
        "lgbm_tuned = lgbm_tuned.fit(X_train,y_train)"
      ],
      "execution_count": null,
      "outputs": []
    },
    {
      "cell_type": "code",
      "metadata": {
        "id": "msQOYqc60PqF"
      },
      "source": [
        "y_pred = lgbm_tuned.predict(X_test)"
      ],
      "execution_count": null,
      "outputs": []
    },
    {
      "cell_type": "code",
      "metadata": {
        "id": "v3jmAfOf0PqF"
      },
      "source": [
        "np.sqrt(mean_squared_error(y_test, y_pred))"
      ],
      "execution_count": null,
      "outputs": []
    },
    {
      "cell_type": "markdown",
      "metadata": {
        "id": "UHbPhGrb0PqG"
      },
      "source": [
        "# CatBoost"
      ]
    },
    {
      "cell_type": "code",
      "metadata": {
        "id": "a-qaZa5u0PqG"
      },
      "source": [
        "hit = pd.read_csv(\"Hitters.csv\")\n",
        "df = hit.copy()\n",
        "df = df.dropna()\n",
        "dms = pd.get_dummies(df[['League', 'Division', 'NewLeague']])\n",
        "y = df[\"Salary\"]\n",
        "X_ = df.drop(['Salary', 'League', 'Division', 'NewLeague'], axis=1).astype('float64')\n",
        "X = pd.concat([X_, dms[['League_N', 'Division_W', 'NewLeague_N']]], axis=1)\n",
        "X_train, X_test, y_train, y_test = train_test_split(X, y, \n",
        "                                                    test_size=0.25, \n",
        "                                                    random_state=42)\n"
      ],
      "execution_count": null,
      "outputs": []
    },
    {
      "cell_type": "code",
      "metadata": {
        "id": "YqrCaZV90PqH"
      },
      "source": [
        "!pip install catboost"
      ],
      "execution_count": null,
      "outputs": []
    },
    {
      "cell_type": "code",
      "metadata": {
        "id": "evSP9SRj0PqH"
      },
      "source": [
        "from catboost import CatBoostRegressor"
      ],
      "execution_count": null,
      "outputs": []
    },
    {
      "cell_type": "code",
      "metadata": {
        "id": "A3mb37vE0PqH"
      },
      "source": [
        "catb = CatBoostRegressor()\n",
        "catb_model = catb.fit(X_train, y_train)"
      ],
      "execution_count": null,
      "outputs": []
    },
    {
      "cell_type": "markdown",
      "metadata": {
        "id": "edrTQx_O0PqI"
      },
      "source": [
        "## Tahmin"
      ]
    },
    {
      "cell_type": "code",
      "metadata": {
        "id": "eNOM-RoX0PqI"
      },
      "source": [
        "y_pred = catb_model.predict(X_test)\n",
        "np.sqrt(mean_squared_error(y_test, y_pred))"
      ],
      "execution_count": null,
      "outputs": []
    },
    {
      "cell_type": "markdown",
      "metadata": {
        "id": "5AC0crgf0PqI"
      },
      "source": [
        "## Model Tuning"
      ]
    },
    {
      "cell_type": "code",
      "metadata": {
        "id": "JbtbHlxE0PqJ"
      },
      "source": [
        "catb_grid = {\n",
        "    'iterations': [200,500,1000,2000],\n",
        "    'learning_rate': [0.01, 0.03, 0.05, 0.1],\n",
        "    'depth': [3,4,5,6,7,8] }"
      ],
      "execution_count": null,
      "outputs": []
    },
    {
      "cell_type": "code",
      "metadata": {
        "id": "xDgqTSdN0PqJ"
      },
      "source": [
        "catb = CatBoostRegressor()\n",
        "catb_cv_model = GridSearchCV(catb, catb_grid, cv=5, n_jobs = -1, verbose = 2)"
      ],
      "execution_count": null,
      "outputs": []
    },
    {
      "cell_type": "code",
      "metadata": {
        "id": "5OPSs6ce0PqJ"
      },
      "source": [
        "catb_cv_model.fit(X_train, y_train)"
      ],
      "execution_count": null,
      "outputs": []
    },
    {
      "cell_type": "code",
      "metadata": {
        "id": "NUmk_iAd0PqK"
      },
      "source": [
        "catb_cv_model.best_params_"
      ],
      "execution_count": null,
      "outputs": []
    },
    {
      "cell_type": "code",
      "metadata": {
        "id": "CIdsHiSf0PqL"
      },
      "source": [
        "catb_tuned = CatBoostRegressor(iterations = 200, \n",
        "                               learning_rate = 0.01, \n",
        "                               depth = 8)\n",
        "\n",
        "catb_tuned = catb_tuned.fit(X_train,y_train)"
      ],
      "execution_count": null,
      "outputs": []
    },
    {
      "cell_type": "code",
      "metadata": {
        "id": "ewYq0UzC0PqM"
      },
      "source": [
        "y_pred = catb_tuned.predict(X_test)\n",
        "np.sqrt(mean_squared_error(y_test, y_pred))"
      ],
      "execution_count": null,
      "outputs": []
    }
  ]
}