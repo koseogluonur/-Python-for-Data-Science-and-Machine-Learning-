{
  "nbformat": 4,
  "nbformat_minor": 0,
  "metadata": {
    "kernelspec": {
      "display_name": "Python 3",
      "language": "python",
      "name": "python3"
    },
    "language_info": {
      "codemirror_mode": {
        "name": "ipython",
        "version": 3
      },
      "file_extension": ".py",
      "mimetype": "text/x-python",
      "name": "python",
      "nbconvert_exporter": "python",
      "pygments_lexer": "ipython3",
      "version": "3.7.3"
    },
    "colab": {
      "name": "Non Linear Regression Models.ipynb",
      "provenance": [],
      "collapsed_sections": [
        "Upkuyd4h0Pn8",
        "ZQArPIgH0PoF",
        "nnJSwY1f0PoL",
        "1Haf6hDv0PoP",
        "N2o5gnk10PoW",
        "5JiS2Th-0Pof",
        "e-mt_bj90Poi",
        "ohkthC-o0Poo",
        "CElCUFaq0Pow",
        "BgDuD1NB0Poy",
        "PT8gfyo80Po1",
        "MmozMUmN0Po-",
        "kLN7rqwe0Po_",
        "CNqTG3ww0PpE",
        "Fz3ETal90PpM",
        "yUpbVy2J0PpQ",
        "kDVZSiZN0PpW",
        "-vAPFcY60Ppb",
        "FhBWl9720Ppf",
        "as4H6joI0Ppj",
        "aE13npDq0Ppm",
        "LNBgRPTm0Ppn"
      ],
      "include_colab_link": true
    }
  },
  "cells": [
    {
      "cell_type": "markdown",
      "metadata": {
        "id": "view-in-github",
        "colab_type": "text"
      },
      "source": [
        "<a href=\"https://colab.research.google.com/github/koseogluonur/-Python-for-Data-Science-and-Machine-Learning-/blob/main/Non_Linear_Regression_Models.ipynb\" target=\"_parent\"><img src=\"https://colab.research.google.com/assets/colab-badge.svg\" alt=\"Open In Colab\"/></a>"
      ]
    },
    {
      "cell_type": "markdown",
      "metadata": {
        "id": "Upkuyd4h0Pn8"
      },
      "source": [
        "# Doğrusal Olmayan Regreson Modelleri"
      ]
    },
    {
      "cell_type": "code",
      "metadata": {
        "colab": {
          "resources": {
            "http://localhost:8080/nbextensions/google.colab/files.js": {
              "data": "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",
              "ok": true,
              "headers": [
                [
                  "content-type",
                  "application/javascript"
                ]
              ],
              "status": 200,
              "status_text": ""
            }
          },
          "base_uri": "https://localhost:8080/",
          "height": 109
        },
        "id": "wDo-v45_FZqI",
        "outputId": "2d6b1e0a-98d0-4c93-9676-32425a0508eb"
      },
      "source": [
        "from google.colab import files\n",
        "files.upload()"
      ],
      "execution_count": 5,
      "outputs": [
        {
          "output_type": "display_data",
          "data": {
            "text/html": [
              "\n",
              "     <input type=\"file\" id=\"files-fc8e604c-dabc-4022-aac8-74682ca225c0\" name=\"files[]\" multiple disabled\n",
              "        style=\"border:none\" />\n",
              "     <output id=\"result-fc8e604c-dabc-4022-aac8-74682ca225c0\">\n",
              "      Upload widget is only available when the cell has been executed in the\n",
              "      current browser session. Please rerun this cell to enable.\n",
              "      </output>\n",
              "      <script src=\"/nbextensions/google.colab/files.js\"></script> "
            ],
            "text/plain": [
              "<IPython.core.display.HTML object>"
            ]
          },
          "metadata": {
            "tags": []
          }
        },
        {
          "output_type": "stream",
          "text": [
            "Saving Hitters.csv to Hitters.csv\n"
          ],
          "name": "stdout"
        },
        {
          "output_type": "execute_result",
          "data": {
            "text/plain": [
              "{'Hitters.csv': b'AtBat,Hits,HmRun,Runs,RBI,Walks,Years,CAtBat,CHits,CHmRun,CRuns,CRBI,CWalks,League,Division,PutOuts,Assists,Errors,Salary,NewLeague\\r\\n293,66,1,30,29,14,1,293,66,1,30,29,14,A,E,446,33,20,NA,A\\r\\n315,81,7,24,38,39,14,3449,835,69,321,414,375,N,W,632,43,10,475,N\\r\\n479,130,18,66,72,76,3,1624,457,63,224,266,263,A,W,880,82,14,480,A\\r\\n496,141,20,65,78,37,11,5628,1575,225,828,838,354,N,E,200,11,3,500,N\\r\\n321,87,10,39,42,30,2,396,101,12,48,46,33,N,E,805,40,4,91.5,N\\r\\n594,169,4,74,51,35,11,4408,1133,19,501,336,194,A,W,282,421,25,750,A\\r\\n185,37,1,23,8,21,2,214,42,1,30,9,24,N,E,76,127,7,70,A\\r\\n298,73,0,24,24,7,3,509,108,0,41,37,12,A,W,121,283,9,100,A\\r\\n323,81,6,26,32,8,2,341,86,6,32,34,8,N,W,143,290,19,75,N\\r\\n401,92,17,49,66,65,13,5206,1332,253,784,890,866,A,E,0,0,0,1100,A\\r\\n574,159,21,107,75,59,10,4631,1300,90,702,504,488,A,E,238,445,22,517.143,A\\r\\n202,53,4,31,26,27,9,1876,467,15,192,186,161,N,W,304,45,11,512.5,N\\r\\n418,113,13,48,61,47,4,1512,392,41,205,204,203,N,E,211,11,7,550,N\\r\\n239,60,0,30,11,22,6,1941,510,4,309,103,207,A,E,121,151,6,700,A\\r\\n196,43,7,29,27,30,13,3231,825,36,376,290,238,N,E,80,45,8,240,N\\r\\n183,39,3,20,15,11,3,201,42,3,20,16,11,A,W,118,0,0,NA,A\\r\\n568,158,20,89,75,73,15,8068,2273,177,1045,993,732,N,W,105,290,10,775,N\\r\\n190,46,2,24,8,15,5,479,102,5,65,23,39,A,W,102,177,16,175,A\\r\\n407,104,6,57,43,65,12,5233,1478,100,643,658,653,A,W,912,88,9,NA,A\\r\\n127,32,8,16,22,14,8,727,180,24,67,82,56,N,W,202,22,2,135,N\\r\\n413,92,16,72,48,65,1,413,92,16,72,48,65,N,E,280,9,5,100,N\\r\\n426,109,3,55,43,62,1,426,109,3,55,43,62,A,W,361,22,2,115,N\\r\\n22,10,1,4,2,1,6,84,26,2,9,9,3,A,W,812,84,11,NA,A\\r\\n472,116,16,60,62,74,6,1924,489,67,242,251,240,N,W,518,55,3,600,N\\r\\n629,168,18,73,102,40,18,8424,2464,164,1008,1072,402,A,E,1067,157,14,776.667,A\\r\\n587,163,4,92,51,70,6,2695,747,17,442,198,317,A,E,434,9,3,765,A\\r\\n324,73,4,32,18,22,7,1931,491,13,291,108,180,N,E,222,3,3,708.333,N\\r\\n474,129,10,50,56,40,10,2331,604,61,246,327,166,N,W,732,83,13,750,N\\r\\n550,152,6,92,37,81,5,2308,633,32,349,182,308,N,W,262,329,16,625,N\\r\\n513,137,20,90,95,90,14,5201,1382,166,763,734,784,A,W,267,5,3,900,A\\r\\n313,84,9,42,30,39,17,6890,1833,224,1033,864,1087,A,W,127,221,7,NA,A\\r\\n419,108,6,55,36,22,3,591,149,8,80,46,31,N,W,226,7,4,110,N\\r\\n517,141,27,70,87,52,9,3571,994,215,545,652,337,N,W,1378,102,8,NA,N\\r\\n583,168,17,83,80,56,5,1646,452,44,219,208,136,A,E,109,292,25,612.5,A\\r\\n204,49,6,23,25,12,7,1309,308,27,126,132,66,A,W,419,46,5,300,A\\r\\n379,106,10,38,60,30,14,6207,1906,146,859,803,571,N,W,72,170,24,850,N\\r\\n161,36,0,19,10,17,4,1053,244,3,156,86,107,A,E,70,149,12,NA,A\\r\\n268,60,5,24,25,15,2,350,78,5,34,29,18,N,W,442,59,6,90,N\\r\\n346,98,5,31,53,30,16,5913,1615,235,784,901,560,A,E,0,0,0,NA,A\\r\\n241,61,1,34,12,14,1,241,61,1,34,12,14,N,W,166,172,10,NA,N\\r\\n181,41,1,15,21,33,2,232,50,4,20,29,45,A,E,326,29,5,67.5,A\\r\\n216,54,0,21,18,15,18,7318,1926,46,796,627,483,N,W,103,84,5,NA,N\\r\\n200,57,6,23,14,14,9,2516,684,46,371,230,195,N,W,69,1,1,NA,N\\r\\n217,46,7,32,19,9,4,694,160,32,86,76,32,A,E,307,25,1,180,A\\r\\n194,40,7,19,29,30,11,4183,1069,64,486,493,608,A,E,325,22,2,NA,A\\r\\n254,68,2,28,26,22,6,999,236,21,108,117,118,A,E,359,30,4,305,A\\r\\n416,132,7,57,49,33,3,932,273,24,113,121,80,N,W,73,177,18,215,N\\r\\n205,57,8,34,32,9,5,756,192,32,117,107,51,A,E,58,4,4,247.5,A\\r\\n542,140,12,46,75,41,16,7099,2130,235,987,1089,431,A,E,697,61,9,NA,A\\r\\n526,146,13,71,70,84,6,2648,715,77,352,342,289,N,W,303,9,9,815,N\\r\\n457,101,14,42,63,22,17,6521,1767,281,1003,977,619,A,W,389,39,4,875,A\\r\\n214,53,2,30,29,23,2,226,59,2,32,32,27,N,E,109,7,3,70,N\\r\\n19,7,0,1,2,1,4,41,13,1,3,4,4,A,E,0,0,0,NA,A\\r\\n591,168,19,80,72,39,9,4478,1307,113,634,563,319,A,W,67,147,4,1200,A\\r\\n403,101,12,45,53,39,12,5150,1429,166,747,666,526,A,E,316,6,5,675,A\\r\\n405,102,18,49,85,20,6,950,231,29,99,138,64,N,W,161,10,3,415,N\\r\\n244,58,9,28,25,35,4,1335,333,49,164,179,194,N,W,142,14,2,340,N\\r\\n235,61,3,24,39,21,14,3926,1029,35,441,401,333,A,E,425,43,4,NA,A\\r\\n313,78,6,32,41,12,12,3742,968,35,409,321,170,N,W,106,206,7,416.667,N\\r\\n627,177,25,98,81,70,6,3210,927,133,529,472,313,A,E,240,482,13,1350,A\\r\\n416,113,24,58,69,16,1,416,113,24,58,69,16,A,E,203,70,10,90,A\\r\\n155,44,6,21,23,15,16,6631,1634,98,698,661,777,N,E,53,88,3,275,N\\r\\n236,56,0,27,15,11,4,1115,270,1,116,64,57,A,W,125,199,13,230,A\\r\\n216,53,1,31,15,22,4,926,210,9,118,69,114,N,W,73,152,11,225,N\\r\\n24,3,0,1,0,2,3,159,28,0,20,12,9,A,W,80,4,0,NA,A\\r\\n585,139,31,93,94,62,17,7546,1982,315,1141,1179,727,A,E,0,0,0,950,A\\r\\n191,37,4,12,17,14,4,773,163,16,61,74,52,N,E,391,38,8,NA,N\\r\\n199,53,5,29,22,21,3,514,120,8,57,40,39,A,W,152,3,5,75,A\\r\\n521,142,20,67,86,45,4,815,205,22,99,103,78,A,E,107,242,23,105,A\\r\\n419,113,1,44,27,44,12,4484,1231,32,612,344,422,A,E,211,2,1,NA,A\\r\\n311,81,3,42,30,26,17,8247,2198,100,950,909,690,N,W,153,223,10,320,N\\r\\n138,31,8,18,21,38,3,244,53,12,33,32,55,N,E,244,21,4,NA,N\\r\\n512,131,26,69,96,52,14,5347,1397,221,712,815,548,A,W,119,216,12,850,A\\r\\n507,122,29,78,85,91,18,7761,1947,347,1175,1152,1380,A,E,808,108,2,535,A\\r\\n529,137,26,86,97,97,15,6661,1785,291,1082,949,989,A,E,280,10,5,933.333,A\\r\\n424,119,6,57,46,13,9,3651,1046,32,461,301,112,A,E,224,286,8,850,N\\r\\n351,97,4,55,29,39,4,1258,353,16,196,110,117,N,W,226,7,3,210,A\\r\\n195,55,5,24,33,30,8,1313,338,25,144,149,153,N,E,83,2,1,NA,N\\r\\n388,103,15,59,47,39,6,2174,555,80,285,274,186,A,W,182,9,4,325,A\\r\\n339,96,4,37,29,23,4,1064,290,11,123,108,55,A,W,104,213,9,275,A\\r\\n561,118,35,70,94,33,16,6677,1575,442,901,1210,608,A,W,463,32,8,NA,A\\r\\n255,70,7,49,35,43,15,6311,1661,154,1019,608,820,N,E,51,54,8,450,N\\r\\n677,238,31,117,113,53,5,2223,737,93,349,401,171,A,E,1377,100,6,1975,A\\r\\n227,46,7,23,20,12,5,1325,324,44,156,158,67,A,W,92,2,2,NA,A\\r\\n614,163,29,89,83,75,11,5017,1388,266,813,822,617,N,W,303,6,6,1900,N\\r\\n329,83,9,50,39,56,9,3828,948,145,575,528,635,A,W,276,6,2,600,A\\r\\n637,174,31,89,116,56,14,6727,2024,247,978,1093,495,N,W,278,9,9,1041.667,N\\r\\n280,82,16,44,45,47,2,428,113,25,61,70,63,A,E,148,4,2,110,A\\r\\n155,41,12,21,29,22,16,5409,1338,181,746,805,875,A,W,165,9,1,260,A\\r\\n458,114,13,67,57,48,4,1350,298,28,160,123,122,A,W,246,389,18,475,A\\r\\n314,83,13,39,46,16,5,1457,405,28,156,159,76,A,W,533,40,4,431.5,A\\r\\n475,123,27,76,93,72,4,1810,471,108,292,343,267,N,E,226,10,6,1220,N\\r\\n317,78,7,35,35,32,1,317,78,7,35,35,32,A,E,45,122,26,70,A\\r\\n511,138,25,76,96,61,3,592,164,28,87,110,71,A,W,157,7,8,145,A\\r\\n278,69,3,24,21,29,8,2079,565,32,258,192,162,N,W,142,210,10,NA,N\\r\\n382,119,13,54,58,36,12,2133,594,41,287,294,227,N,W,59,156,9,595,N\\r\\n565,148,24,90,104,77,14,7287,2083,305,1135,1234,791,A,E,292,9,5,1861.46,A\\r\\n277,71,2,27,29,14,15,5952,1647,60,753,596,259,N,W,360,32,5,NA,N\\r\\n415,115,27,97,71,68,3,711,184,45,156,119,99,N,W,274,2,7,300,N\\r\\n424,110,15,70,47,36,7,2130,544,38,335,174,258,N,W,292,6,3,490,N\\r\\n495,151,17,61,84,78,10,5624,1679,275,884,1015,709,A,E,1045,88,13,2460,A\\r\\n524,132,9,69,47,54,2,972,260,14,123,92,90,A,E,212,327,20,NA,A\\r\\n233,49,2,41,23,18,8,1350,336,7,166,122,106,A,E,102,132,10,375,A\\r\\n395,106,16,48,56,35,10,2303,571,86,266,323,248,A,E,709,41,7,NA,A\\r\\n397,114,23,67,67,53,13,5589,1632,241,906,926,716,A,E,244,2,4,NA,A\\r\\n210,37,8,15,19,15,6,994,244,36,107,114,53,A,E,40,115,15,NA,A\\r\\n420,95,23,55,58,37,3,646,139,31,77,77,61,N,W,206,10,7,NA,N\\r\\n566,154,22,76,84,43,14,6100,1583,131,743,693,300,A,W,316,439,10,750,A\\r\\n641,198,31,101,108,41,5,2129,610,92,297,319,117,A,E,269,17,10,1175,A\\r\\n215,51,4,19,18,11,1,215,51,4,19,18,11,A,E,116,5,12,70,A\\r\\n441,128,16,70,73,80,14,6675,2095,209,1072,1050,695,A,W,97,218,16,1500,A\\r\\n325,76,16,33,52,37,5,1506,351,71,195,219,214,N,W,726,87,3,385,A\\r\\n490,125,24,81,105,62,13,6063,1646,271,847,999,680,N,E,869,62,8,1925.571,N\\r\\n574,152,31,91,101,64,3,985,260,53,148,173,95,N,W,1253,111,11,215,N\\r\\n284,64,14,30,42,24,18,7023,1925,348,986,1239,666,N,E,96,4,4,NA,N\\r\\n596,171,34,91,108,52,6,2862,728,107,361,401,224,A,W,118,334,21,900,A\\r\\n472,118,12,63,54,30,4,793,187,14,102,80,50,A,W,228,377,26,155,A\\r\\n283,77,14,45,47,26,16,6840,1910,259,915,1067,546,A,W,144,6,5,700,A\\r\\n408,94,4,42,36,66,9,3573,866,59,429,365,410,N,W,282,487,19,535,N\\r\\n327,85,3,30,44,20,8,2140,568,16,216,208,93,A,E,91,185,12,362.5,A\\r\\n370,96,21,49,46,60,15,6986,1972,231,1070,955,921,N,E,137,5,9,733.333,N\\r\\n354,77,16,36,55,41,20,8716,2172,384,1172,1267,1057,N,W,83,174,16,200,N\\r\\n539,139,5,93,58,69,5,1469,369,12,247,126,198,A,W,462,9,7,400,A\\r\\n340,84,11,62,33,47,5,1516,376,42,284,141,219,N,E,185,8,4,400,A\\r\\n510,126,2,42,44,35,11,5562,1578,44,703,519,256,N,W,207,358,20,737.5,N\\r\\n315,59,16,45,36,58,13,4677,1051,268,681,782,697,A,W,0,0,0,NA,A\\r\\n282,78,13,37,51,29,5,1649,453,73,211,280,138,A,W,670,57,5,500,A\\r\\n380,120,5,54,51,31,8,3118,900,92,444,419,240,A,W,237,8,1,600,A\\r\\n584,158,15,70,84,42,5,2358,636,58,265,316,134,N,E,331,20,4,662.5,N\\r\\n570,169,21,72,88,38,7,3754,1077,140,492,589,263,A,W,295,15,5,950,A\\r\\n306,104,14,50,58,25,7,2954,822,55,313,377,187,N,E,116,222,15,750,N\\r\\n220,54,10,30,39,31,5,1185,299,40,145,154,128,N,E,50,136,20,297.5,N\\r\\n278,70,7,22,37,18,18,7186,2081,190,935,1088,643,A,W,0,0,0,325,A\\r\\n445,99,1,46,24,29,4,618,129,1,72,31,48,A,W,278,415,16,87.5,A\\r\\n143,39,5,18,30,15,9,639,151,16,80,97,61,N,W,138,15,1,175,N\\r\\n185,40,4,23,11,18,3,524,125,7,58,37,47,N,E,97,2,2,90,N\\r\\n589,170,40,107,108,69,6,2325,634,128,371,376,238,A,E,368,20,3,1237.5,A\\r\\n343,103,6,48,36,40,15,4338,1193,70,581,421,325,A,E,211,56,13,430,A\\r\\n284,69,1,33,18,25,5,1407,361,6,139,98,111,A,E,122,140,5,NA,N\\r\\n438,103,2,65,32,71,2,440,103,2,67,32,71,A,W,276,7,9,100,N\\r\\n600,144,33,85,117,65,2,696,173,38,101,130,69,A,W,319,4,14,165,A\\r\\n663,200,29,108,121,32,4,1447,404,57,210,222,68,A,E,241,8,6,250,A\\r\\n232,55,9,34,23,45,12,4405,1213,194,702,705,625,N,E,623,35,3,1300,N\\r\\n479,133,10,48,72,55,17,7472,2147,153,980,1032,854,N,W,237,5,4,773.333,N\\r\\n209,45,0,38,19,42,10,3859,916,23,557,279,478,A,W,132,205,5,NA,A\\r\\n528,132,21,61,74,41,6,2641,671,97,273,383,226,N,E,885,105,8,1008.333,N\\r\\n160,39,8,18,31,22,14,2128,543,56,304,268,298,A,E,33,3,0,275,A\\r\\n599,183,10,80,74,32,5,2482,715,27,330,326,158,A,E,231,374,18,775,A\\r\\n497,136,7,58,38,26,11,3871,1066,40,450,367,241,A,E,304,347,10,850,A\\r\\n210,70,13,32,51,28,15,4040,1130,97,544,462,551,A,E,0,0,0,365,A\\r\\n225,61,5,32,26,26,11,1568,408,25,202,185,257,A,W,132,9,0,NA,A\\r\\n151,41,4,26,21,19,2,288,68,9,45,39,35,A,W,28,56,2,95,A\\r\\n278,86,4,33,38,45,1,278,86,4,33,38,45,N,W,102,4,2,110,N\\r\\n341,95,6,48,42,20,10,2964,808,81,379,428,221,N,W,158,4,5,100,N\\r\\n537,147,23,58,88,47,10,2744,730,97,302,351,174,N,E,92,257,20,277.5,N\\r\\n399,102,3,56,34,34,5,670,167,4,89,48,54,A,W,211,9,3,80,A\\r\\n309,94,5,37,32,26,13,4618,1330,57,616,522,436,N,E,161,3,3,600,N\\r\\n401,100,2,60,19,28,4,876,238,2,126,44,55,N,E,193,11,4,NA,N\\r\\n336,93,9,35,46,23,15,5779,1610,128,730,741,497,A,W,0,0,0,NA,A\\r\\n616,163,27,83,107,32,3,1437,377,65,181,227,82,A,W,110,308,15,200,A\\r\\n219,47,8,24,26,17,12,1188,286,23,100,125,63,A,W,260,58,4,NA,A\\r\\n579,174,7,67,78,58,6,3053,880,32,366,337,218,N,E,280,479,5,657,N\\r\\n165,39,2,13,9,16,3,196,44,2,18,10,18,A,W,332,19,2,75,N\\r\\n618,200,20,98,110,62,13,7127,2163,351,1104,1289,564,A,E,330,16,8,2412.5,A\\r\\n257,66,5,31,26,32,14,3910,979,33,518,324,382,N,W,87,166,14,250,A\\r\\n315,76,13,35,60,25,3,630,151,24,68,94,55,N,E,498,39,13,155,N\\r\\n591,157,16,90,78,26,4,2020,541,52,310,226,91,N,E,290,440,25,640,N\\r\\n404,92,11,54,49,18,6,1354,325,30,188,135,63,A,E,222,5,5,300,A\\r\\n315,73,5,23,37,16,4,450,108,6,38,46,28,A,W,227,15,3,110,A\\r\\n249,69,6,32,19,20,4,702,209,10,97,48,44,N,E,103,8,2,NA,N\\r\\n429,91,12,41,42,57,13,5590,1397,83,578,579,644,A,W,686,46,4,825,N\\r\\n212,54,13,28,44,18,2,233,59,13,31,46,20,A,E,243,23,5,NA,A\\r\\n453,101,3,46,43,61,3,948,218,6,96,72,91,N,W,249,444,16,195,N\\r\\n161,43,4,17,26,22,3,707,179,21,77,99,76,A,W,300,12,2,NA,A\\r\\n184,47,5,20,28,18,11,3327,890,74,419,382,304,N,W,49,2,0,450,N\\r\\n591,184,20,83,79,38,5,1689,462,40,219,195,82,N,W,303,12,5,630,N\\r\\n181,58,6,34,23,22,1,181,58,6,34,23,22,N,W,88,0,3,86.5,N\\r\\n441,118,28,84,86,68,8,2723,750,126,433,420,309,A,E,190,2,2,1300,A\\r\\n490,150,21,69,58,35,14,6126,1839,121,983,707,600,A,E,96,5,3,1000,N\\r\\n551,171,13,94,83,94,13,6090,1840,128,969,900,917,N,E,1199,149,5,1800,N\\r\\n550,147,29,85,91,71,6,2816,815,117,405,474,319,A,W,1218,104,10,1310,A\\r\\n283,74,4,34,29,22,10,3919,1062,85,505,456,283,N,W,145,5,7,737.5,N\\r\\n560,161,26,89,96,66,4,1789,470,65,233,260,155,N,W,332,9,8,625,N\\r\\n328,91,12,51,43,33,2,342,94,12,51,44,33,N,E,145,59,8,125,N\\r\\n586,159,12,72,79,53,9,3082,880,83,363,477,295,N,E,181,13,4,1043.333,N\\r\\n503,136,5,62,48,83,10,3423,970,20,408,303,414,N,W,65,258,8,725,N\\r\\n344,85,24,69,64,88,7,911,214,64,150,156,187,A,W,0,0,0,300,A\\r\\n680,223,31,119,96,34,3,1928,587,35,262,201,91,A,W,429,8,6,365,A\\r\\n279,64,0,31,26,30,1,279,64,0,31,26,30,N,W,107,205,16,75,N\\r\\n484,127,20,66,65,67,7,3006,844,116,436,458,377,N,E,1231,80,7,1183.333,N\\r\\n431,127,8,77,45,58,2,667,187,9,117,64,88,N,E,283,8,3,202.5,N\\r\\n283,70,8,33,37,27,12,4479,1222,94,557,483,307,A,E,156,2,2,225,A\\r\\n491,141,11,77,47,37,15,4291,1240,84,615,430,340,A,E,239,8,2,525,A\\r\\n199,52,9,26,28,21,6,805,191,30,113,119,87,N,W,235,22,5,265,N\\r\\n589,149,21,89,86,64,7,3558,928,102,513,471,351,A,E,371,6,6,787.5,A\\r\\n327,84,22,53,62,38,10,4273,1123,212,577,700,334,A,E,483,48,6,800,N\\r\\n464,128,28,67,94,52,13,5829,1552,210,740,840,452,A,W,0,0,0,587.5,A\\r\\n166,34,0,20,13,17,1,166,34,0,20,13,17,N,E,64,119,9,NA,N\\r\\n338,92,18,42,60,21,3,682,185,36,88,112,50,A,E,0,0,0,145,A\\r\\n508,146,8,80,44,46,9,3148,915,41,571,289,326,A,W,245,5,9,NA,A\\r\\n584,157,20,95,73,63,10,4704,1320,93,724,522,576,A,E,276,421,11,420,A\\r\\n216,54,2,27,25,33,1,216,54,2,27,25,33,N,W,317,36,1,75,N\\r\\n625,179,4,94,60,65,5,1696,476,12,216,163,166,A,E,303,450,14,575,A\\r\\n243,53,4,18,26,27,4,853,228,23,101,110,76,N,E,107,3,3,NA,N\\r\\n489,131,19,77,55,34,7,2051,549,62,300,263,153,A,W,310,9,9,780,A\\r\\n209,56,12,22,36,19,2,216,58,12,24,37,19,N,E,201,6,3,90,N\\r\\n407,93,8,47,30,30,2,969,230,14,121,69,68,N,W,172,317,25,150,N\\r\\n490,148,14,64,78,49,13,3400,1000,113,445,491,301,A,E,0,0,0,700,N\\r\\n209,59,6,20,37,27,4,884,209,14,66,106,92,N,E,415,35,3,NA,N\\r\\n442,131,18,68,77,33,6,1416,398,47,210,203,136,A,E,233,7,7,550,A\\r\\n317,88,3,40,32,19,8,2543,715,28,269,270,118,A,W,220,16,4,NA,A\\r\\n288,65,8,30,36,27,9,2815,698,55,315,325,189,N,E,259,30,10,650,A\\r\\n209,54,3,25,14,12,1,209,54,3,25,14,12,A,W,102,6,3,68,A\\r\\n303,71,3,18,30,36,3,344,76,3,20,36,45,N,E,468,47,6,100,N\\r\\n330,77,19,47,53,27,6,1928,516,90,247,288,161,N,W,149,8,6,670,N\\r\\n504,120,28,71,71,54,3,1085,259,54,150,167,114,A,E,103,283,19,175,A\\r\\n258,60,8,28,33,18,3,638,170,17,80,75,36,A,W,358,32,8,137,A\\r\\n20,1,0,0,0,0,2,41,9,2,6,7,4,N,E,78,220,6,2127.333,N\\r\\n374,94,5,36,26,62,7,1968,519,26,181,199,288,N,W,756,64,15,875,N\\r\\n211,43,10,26,35,39,3,498,116,14,59,55,78,A,W,463,32,8,120,A\\r\\n299,75,6,38,23,26,3,580,160,8,71,33,44,N,E,212,1,2,140,N\\r\\n576,167,8,89,49,57,4,822,232,19,132,83,79,N,E,325,12,8,210,N\\r\\n381,110,9,61,45,32,7,3015,834,40,451,249,168,N,E,228,7,5,800,N\\r\\n288,76,7,34,37,15,4,1644,408,16,198,120,113,N,W,203,3,3,240,N\\r\\n369,93,9,43,42,49,5,1258,323,54,181,177,157,A,E,149,1,6,350,A\\r\\n330,76,12,35,41,47,4,1367,326,55,167,198,167,N,W,512,30,5,NA,N\\r\\n547,137,2,58,47,12,2,1038,271,3,129,80,24,A,W,261,459,22,175,A\\r\\n572,152,18,105,49,65,2,978,249,36,168,91,101,A,W,325,13,3,200,A\\r\\n359,84,4,46,27,21,12,4992,1257,37,699,386,387,N,W,151,8,5,NA,N\\r\\n514,144,0,67,54,79,9,4739,1169,13,583,374,528,N,E,229,453,15,1940,N\\r\\n359,80,15,45,48,63,7,1493,359,61,176,202,175,N,W,682,93,13,700,N\\r\\n526,163,12,88,50,77,4,1556,470,38,245,167,174,A,W,250,11,1,750,A\\r\\n313,83,9,43,41,30,14,5885,1543,104,751,714,535,N,W,58,141,23,450,N\\r\\n540,135,30,82,88,55,1,540,135,30,82,88,55,A,W,157,6,14,172,A\\r\\n437,123,9,62,55,40,9,4139,1203,79,676,390,364,A,E,82,170,15,1260,A\\r\\n551,160,23,86,90,87,5,2235,602,75,278,328,273,A,W,1224,115,11,NA,A\\r\\n237,52,0,15,25,30,24,14053,4256,160,2165,1314,1566,N,W,523,43,6,750,N\\r\\n236,56,6,41,19,21,5,1257,329,24,166,125,105,A,E,172,1,4,190,A\\r\\n473,154,6,61,48,29,6,1966,566,29,250,252,178,A,E,846,84,9,580,A\\r\\n309,72,0,33,31,26,5,354,82,0,41,32,26,N,E,117,269,12,130,N\\r\\n271,77,5,35,29,33,12,4933,1358,48,630,435,403,A,W,62,90,3,450,A\\r\\n357,96,7,50,45,39,5,1394,344,43,178,192,136,A,W,167,2,4,300,A\\r\\n216,56,4,22,18,15,12,2796,665,43,266,304,198,A,E,391,44,4,250,A\\r\\n256,70,13,42,36,44,16,7058,1845,312,965,1128,990,N,E,41,118,8,1050,A\\r\\n466,108,33,75,86,72,3,652,142,44,102,109,102,A,E,286,8,8,215,A\\r\\n327,68,13,42,29,45,18,3949,939,78,438,380,466,A,E,659,53,7,400,A\\r\\n462,119,16,49,65,37,7,2131,583,69,244,288,150,A,E,866,65,6,NA,A\\r\\n341,110,9,45,49,46,9,2331,658,50,249,322,274,A,E,251,9,4,560,A\\r\\n608,160,28,130,74,89,8,4071,1182,103,862,417,708,A,E,426,4,6,1670,A\\r\\n419,101,18,65,58,92,20,9528,2510,548,1509,1659,1342,A,W,0,0,0,487.5,A\\r\\n33,6,0,2,4,7,1,33,6,0,2,4,7,A,W,205,5,4,NA,A\\r\\n376,82,21,42,60,35,5,1770,408,115,238,299,157,A,W,0,0,0,425,A\\r\\n486,145,11,51,76,40,11,3967,1102,67,410,497,284,N,E,88,204,16,500,A\\r\\n186,44,7,28,16,11,1,186,44,7,28,16,11,N,W,99,3,1,NA,N\\r\\n307,80,1,42,36,29,7,2421,656,18,379,198,184,A,W,145,2,2,NA,A\\r\\n246,76,5,35,39,13,6,912,234,12,102,96,80,A,E,44,0,1,250,A\\r\\n205,52,8,31,27,17,12,5134,1323,56,643,445,459,A,E,155,3,2,400,A\\r\\n348,90,11,50,45,43,10,2288,614,43,295,273,269,A,E,60,176,6,450,A\\r\\n523,135,8,52,44,52,9,3368,895,39,377,284,296,N,W,367,475,19,750,N\\r\\n312,68,2,32,22,24,1,312,68,2,32,22,24,A,E,86,150,15,70,A\\r\\n496,119,8,57,33,21,7,3358,882,36,365,280,165,N,W,155,371,29,875,N\\r\\n126,27,3,8,10,5,4,239,49,3,16,13,14,N,E,190,2,9,190,N\\r\\n275,68,5,42,42,61,6,961,238,16,128,104,172,N,E,181,3,2,191,N\\r\\n627,178,14,68,76,46,6,3146,902,74,494,345,242,N,E,309,492,5,740,N\\r\\n394,86,1,38,28,36,4,1089,267,3,94,71,76,N,E,203,369,16,250,N\\r\\n208,57,8,32,25,18,3,653,170,17,98,54,62,N,E,42,94,13,140,N\\r\\n382,101,16,50,55,22,1,382,101,16,50,55,22,A,W,200,7,6,97.5,A\\r\\n459,113,20,59,57,68,12,5348,1369,155,713,660,735,A,W,0,0,0,740,A\\r\\n549,149,7,73,47,42,1,549,149,7,73,47,42,N,W,255,450,17,140,N\\r\\n288,63,3,25,33,16,10,2682,667,38,315,259,204,A,W,135,257,7,341.667,A\\r\\n303,84,4,35,32,23,2,312,87,4,39,32,23,N,W,179,5,3,NA,N\\r\\n522,163,9,82,46,62,13,7037,2019,153,1043,827,535,A,E,352,9,1,1000,A\\r\\n512,117,29,54,88,43,6,1750,412,100,204,276,155,A,W,1236,98,18,100,A\\r\\n220,66,5,20,28,13,3,290,80,5,27,31,15,A,W,281,21,3,90,A\\r\\n522,140,16,73,77,60,4,730,185,22,93,106,86,N,E,1320,166,17,200,N\\r\\n461,112,18,54,54,35,2,680,160,24,76,75,49,A,W,111,226,11,135,A\\r\\n581,145,17,66,68,21,2,831,210,21,106,86,40,N,E,320,465,32,155,N\\r\\n530,159,3,82,50,47,6,1619,426,11,218,149,163,A,W,196,354,15,475,A\\r\\n557,142,21,58,81,23,18,8759,2583,271,1138,1299,478,N,W,1160,53,7,1450,N\\r\\n439,96,0,44,36,65,4,711,148,1,68,56,99,N,E,229,406,22,150,N\\r\\n453,103,8,53,33,52,2,507,123,8,63,39,58,A,W,289,407,6,105,A\\r\\n528,122,1,67,45,51,4,1716,403,12,211,146,155,A,W,209,372,17,350,A\\r\\n633,210,6,91,56,59,6,3070,872,19,420,230,274,N,W,367,432,16,90,N\\r\\n16,2,0,1,0,0,2,28,4,0,1,0,0,A,E,247,4,8,NA,A\\r\\n562,169,17,88,73,53,8,3181,841,61,450,342,373,A,E,351,442,17,530,A\\r\\n281,76,3,42,25,20,8,2658,657,48,324,300,179,A,E,106,144,7,341.667,A\\r\\n593,152,23,69,75,53,6,2765,686,133,369,384,321,A,W,315,10,6,940,A\\r\\n687,213,10,91,65,27,4,1518,448,15,196,137,89,A,E,294,445,13,350,A\\r\\n368,103,3,48,28,54,8,1897,493,9,207,162,198,N,W,209,246,3,326.667,N\\r\\n263,70,1,26,23,30,4,888,220,9,83,82,86,N,E,81,147,4,250,N\\r\\n642,211,14,107,59,52,5,2364,770,27,352,230,193,N,W,337,19,4,740,N\\r\\n265,68,8,26,30,29,7,1337,339,32,135,163,128,N,W,92,5,3,425,A\\r\\n289,63,7,36,41,44,17,7402,1954,195,1115,919,1153,A,W,166,211,7,NA,A\\r\\n559,141,2,48,61,73,8,3162,874,16,421,349,359,N,E,352,414,9,925,N\\r\\n520,120,17,53,44,21,4,927,227,22,106,80,52,A,W,70,144,11,185,A\\r\\n19,4,1,2,3,1,1,19,4,1,2,3,1,N,W,692,70,8,920,A\\r\\n205,43,2,24,17,20,7,854,219,12,105,99,71,N,E,131,6,1,286.667,N\\r\\n193,47,10,21,29,24,6,1136,256,42,129,139,106,A,W,299,13,5,245,A\\r\\n181,46,1,19,18,17,5,937,238,9,88,95,104,A,E,37,98,9,NA,A\\r\\n213,61,4,17,22,3,17,4061,1145,83,488,491,244,A,W,178,45,4,235,A\\r\\n510,147,10,56,52,53,7,2872,821,63,307,340,174,N,E,810,99,18,1150,N\\r\\n578,138,1,56,59,34,3,1399,357,7,149,161,87,N,E,133,371,20,160,N\\r\\n200,51,2,14,29,25,23,9778,2732,379,1272,1652,925,N,W,398,29,7,NA,N\\r\\n441,113,5,76,52,76,5,1546,397,17,226,149,191,A,W,160,290,11,425,A\\r\\n172,42,3,17,14,15,10,4086,1150,57,579,363,406,N,W,65,0,0,900,N\\r\\n580,194,9,91,62,78,8,3372,1028,48,604,314,469,N,E,270,13,6,NA,N\\r\\n127,32,4,14,25,12,19,8396,2402,242,1048,1348,819,N,W,167,18,6,500,N\\r\\n279,69,4,35,31,32,4,1359,355,31,180,148,158,N,E,133,173,9,277.5,N\\r\\n480,112,18,50,71,44,7,3031,771,110,338,406,239,N,E,94,270,16,750,N\\r\\n600,139,0,94,29,60,2,1236,309,1,201,69,110,N,E,300,12,9,160,N\\r\\n610,186,19,107,98,74,6,2728,753,69,399,366,286,N,E,1182,96,13,1300,N\\r\\n360,81,5,37,44,37,7,2268,566,41,279,257,246,N,E,170,284,3,525,N\\r\\n387,124,1,67,27,36,7,1775,506,6,272,125,194,N,E,186,290,17,550,N\\r\\n580,207,8,107,71,105,5,2778,978,32,474,322,417,A,E,121,267,19,1600,A\\r\\n408,117,11,66,41,34,1,408,117,11,66,41,34,N,W,942,72,11,120,N\\r\\n593,172,22,82,100,57,1,593,172,22,82,100,57,A,W,1222,139,15,165,A\\r\\n221,53,2,21,23,22,8,1063,283,15,107,124,106,N,E,325,58,6,NA,N\\r\\n497,127,7,65,48,37,5,2703,806,32,379,311,138,N,E,325,9,3,700,N\\r\\n492,136,5,76,50,94,12,5511,1511,39,897,451,875,A,E,313,381,20,875,A\\r\\n475,126,3,61,43,52,6,1700,433,7,217,93,146,A,W,37,113,7,385,A\\r\\n573,144,9,85,60,78,8,3198,857,97,470,420,332,A,E,1314,131,12,960,A\\r\\n631,170,9,77,44,31,11,4908,1457,30,775,357,249,A,W,408,4,3,1000,A\\r\\n'}"
            ]
          },
          "metadata": {
            "tags": []
          },
          "execution_count": 5
        }
      ]
    },
    {
      "cell_type": "code",
      "metadata": {
        "id": "MTwa0zXy0PoC"
      },
      "source": [
        "import numpy as np\n",
        "import pandas as pd \n",
        "from sklearn.model_selection import train_test_split, GridSearchCV,cross_val_score\n",
        "from sklearn.metrics import mean_squared_error, r2_score\n",
        "import matplotlib.pyplot as plt\n",
        "from sklearn.preprocessing import scale \n",
        "from sklearn import model_selection\n",
        "from sklearn.tree import DecisionTreeRegressor, DecisionTreeClassifier\n",
        "from sklearn.neighbors import KNeighborsRegressor\n",
        "from sklearn.ensemble import BaggingRegressor\n",
        "\n",
        "from warnings import filterwarnings\n",
        "filterwarnings('ignore')"
      ],
      "execution_count": 6,
      "outputs": []
    },
    {
      "cell_type": "markdown",
      "metadata": {
        "id": "ZQArPIgH0PoF"
      },
      "source": [
        "# KNN"
      ]
    },
    {
      "cell_type": "code",
      "metadata": {
        "id": "kcf-kW8i0PoG"
      },
      "source": [
        "hit = pd.read_csv(\"Hitters.csv\")\n",
        "df = hit.copy()\n",
        "df = df.dropna()\n",
        "dms = pd.get_dummies(df[['League', 'Division', 'NewLeague']])\n",
        "y = df[\"Salary\"]\n",
        "X_ = df.drop(['Salary', 'League', 'Division', 'NewLeague'], axis=1).astype('float64')\n",
        "X = pd.concat([X_, dms[['League_N', 'Division_W', 'NewLeague_N']]], axis=1)\n",
        "X_train, X_test, y_train, y_test = train_test_split(X, y, \n",
        "                                                    test_size=0.25, \n",
        "                                                    random_state=42)"
      ],
      "execution_count": 7,
      "outputs": []
    },
    {
      "cell_type": "code",
      "metadata": {
        "id": "jDOAf3TG0PoH"
      },
      "source": [
        "knn_model = KNeighborsRegressor().fit(X_train, y_train)"
      ],
      "execution_count": null,
      "outputs": []
    },
    {
      "cell_type": "code",
      "metadata": {
        "colab": {
          "base_uri": "https://localhost:8080/"
        },
        "id": "0dTvvl4Z0PoI",
        "outputId": "1fd581be-655a-4c4f-bce7-deaf4fafb0f5"
      },
      "source": [
        "knn_model"
      ],
      "execution_count": null,
      "outputs": [
        {
          "output_type": "execute_result",
          "data": {
            "text/plain": [
              "KNeighborsRegressor(algorithm='auto', leaf_size=30, metric='minkowski',\n",
              "                    metric_params=None, n_jobs=None, n_neighbors=5, p=2,\n",
              "                    weights='uniform')"
            ]
          },
          "metadata": {
            "tags": []
          },
          "execution_count": 5
        }
      ]
    },
    {
      "cell_type": "code",
      "metadata": {
        "colab": {
          "base_uri": "https://localhost:8080/"
        },
        "id": "03n0K17a0PoJ",
        "outputId": "469cf31f-8b58-4a13-9e6b-88a4c95de11f"
      },
      "source": [
        "knn_model.n_neighbors"
      ],
      "execution_count": null,
      "outputs": [
        {
          "output_type": "execute_result",
          "data": {
            "text/plain": [
              "5"
            ]
          },
          "metadata": {
            "tags": []
          },
          "execution_count": 6
        }
      ]
    },
    {
      "cell_type": "code",
      "metadata": {
        "colab": {
          "base_uri": "https://localhost:8080/",
          "height": 35
        },
        "id": "ZPsbunKU0PoK",
        "outputId": "4218b575-4883-4ff6-a3f9-83de7cdf3014"
      },
      "source": [
        "knn_model.effective_metric_"
      ],
      "execution_count": null,
      "outputs": [
        {
          "output_type": "execute_result",
          "data": {
            "application/vnd.google.colaboratory.intrinsic+json": {
              "type": "string"
            },
            "text/plain": [
              "'euclidean'"
            ]
          },
          "metadata": {
            "tags": []
          },
          "execution_count": 7
        }
      ]
    },
    {
      "cell_type": "markdown",
      "metadata": {
        "id": "nnJSwY1f0PoL"
      },
      "source": [
        "## Tahmin"
      ]
    },
    {
      "cell_type": "code",
      "metadata": {
        "id": "PulVF2Np0PoM"
      },
      "source": [
        "y_pred = knn_model.predict(X_test)"
      ],
      "execution_count": null,
      "outputs": []
    },
    {
      "cell_type": "code",
      "metadata": {
        "colab": {
          "base_uri": "https://localhost:8080/"
        },
        "id": "AJfiFF0y0PoN",
        "outputId": "53ae59ac-fadc-4a8b-8cf9-c8837442f05a"
      },
      "source": [
        "np.sqrt(mean_squared_error(y_test, y_pred))"
      ],
      "execution_count": null,
      "outputs": [
        {
          "output_type": "execute_result",
          "data": {
            "text/plain": [
              "426.6570764525201"
            ]
          },
          "metadata": {
            "tags": []
          },
          "execution_count": 9
        }
      ]
    },
    {
      "cell_type": "code",
      "metadata": {
        "colab": {
          "base_uri": "https://localhost:8080/"
        },
        "id": "q0KmmVnE0PoO",
        "outputId": "c47134e0-267b-42d8-ba64-f6baffc03007"
      },
      "source": [
        "RMSE = [] \n",
        "\n",
        "for k in range(10):\n",
        "    k = k+1\n",
        "    knn_model = KNeighborsRegressor(n_neighbors = k).fit(X_train, y_train)\n",
        "    y_pred = knn_model.predict(X_train) \n",
        "    rmse = np.sqrt(mean_squared_error(y_train,y_pred)) \n",
        "    RMSE.append(rmse) \n",
        "    print(\"k =\" , k , \"için RMSE değeri: \", rmse)\n"
      ],
      "execution_count": null,
      "outputs": [
        {
          "output_type": "stream",
          "text": [
            "k = 1 için RMSE değeri:  0.0\n",
            "k = 2 için RMSE değeri:  179.52761335480352\n",
            "k = 3 için RMSE değeri:  205.20157172291863\n",
            "k = 4 için RMSE değeri:  220.5139794876305\n",
            "k = 5 için RMSE değeri:  239.64671325413764\n",
            "k = 6 için RMSE değeri:  243.5904190007242\n",
            "k = 7 için RMSE değeri:  258.1478781634636\n",
            "k = 8 için RMSE değeri:  266.05374203349805\n",
            "k = 9 için RMSE değeri:  269.73782093553376\n",
            "k = 10 için RMSE değeri:  271.2798300436963\n"
          ],
          "name": "stdout"
        }
      ]
    },
    {
      "cell_type": "markdown",
      "metadata": {
        "id": "1Haf6hDv0PoP"
      },
      "source": [
        "## Model Tuning"
      ]
    },
    {
      "cell_type": "code",
      "metadata": {
        "id": "vUh1n8YY0PoP"
      },
      "source": [
        "from sklearn.model_selection import GridSearchCV  "
      ],
      "execution_count": null,
      "outputs": []
    },
    {
      "cell_type": "code",
      "metadata": {
        "id": "2RWC6coN0PoQ"
      },
      "source": [
        "knn_params = {'n_neighbors': np.arange(1,30,1)}"
      ],
      "execution_count": null,
      "outputs": []
    },
    {
      "cell_type": "code",
      "metadata": {
        "id": "Z1jFQZME0PoQ"
      },
      "source": [
        "knn = KNeighborsRegressor()"
      ],
      "execution_count": null,
      "outputs": []
    },
    {
      "cell_type": "code",
      "metadata": {
        "id": "hRVn_hFv0PoR"
      },
      "source": [
        "knn_cv_model = GridSearchCV(knn, knn_params, cv = 10)"
      ],
      "execution_count": null,
      "outputs": []
    },
    {
      "cell_type": "code",
      "metadata": {
        "colab": {
          "base_uri": "https://localhost:8080/"
        },
        "id": "xX7uWEmG0PoR",
        "outputId": "4154a162-ecb6-4b5d-8feb-e4718b8e939b"
      },
      "source": [
        "knn_cv_model.fit(X_train, y_train)"
      ],
      "execution_count": null,
      "outputs": [
        {
          "output_type": "execute_result",
          "data": {
            "text/plain": [
              "GridSearchCV(cv=10, error_score=nan,\n",
              "             estimator=KNeighborsRegressor(algorithm='auto', leaf_size=30,\n",
              "                                           metric='minkowski',\n",
              "                                           metric_params=None, n_jobs=None,\n",
              "                                           n_neighbors=5, p=2,\n",
              "                                           weights='uniform'),\n",
              "             iid='deprecated', n_jobs=None,\n",
              "             param_grid={'n_neighbors': array([ 1,  2,  3,  4,  5,  6,  7,  8,  9, 10, 11, 12, 13, 14, 15, 16, 17,\n",
              "       18, 19, 20, 21, 22, 23, 24, 25, 26, 27, 28, 29])},\n",
              "             pre_dispatch='2*n_jobs', refit=True, return_train_score=False,\n",
              "             scoring=None, verbose=0)"
            ]
          },
          "metadata": {
            "tags": []
          },
          "execution_count": 16
        }
      ]
    },
    {
      "cell_type": "code",
      "metadata": {
        "colab": {
          "base_uri": "https://localhost:8080/"
        },
        "id": "yTWgtwrj0PoS",
        "outputId": "787b4e62-366b-40d4-ffff-9e6f4483bef7"
      },
      "source": [
        "knn_cv_model.best_params_[\"n_neighbors\"]"
      ],
      "execution_count": null,
      "outputs": [
        {
          "output_type": "execute_result",
          "data": {
            "text/plain": [
              "8"
            ]
          },
          "metadata": {
            "tags": []
          },
          "execution_count": 17
        }
      ]
    },
    {
      "cell_type": "code",
      "metadata": {
        "colab": {
          "base_uri": "https://localhost:8080/"
        },
        "id": "nJp7PVlU0PoS",
        "outputId": "a1e9a9f7-aa19-494b-d8f4-85a3d74c5c79"
      },
      "source": [
        "RMSE = [] \n",
        "RMSE_CV = []\n",
        "for k in range(10):\n",
        "    k = k+1\n",
        "    knn_model = KNeighborsRegressor(n_neighbors = k).fit(X_train, y_train)\n",
        "    y_pred = knn_model.predict(X_train) \n",
        "    rmse = np.sqrt(mean_squared_error(y_train,y_pred)) \n",
        "    rmse_cv = np.sqrt(-1*cross_val_score(knn_model, X_train, y_train, cv=10, \n",
        "                                         scoring = \"neg_mean_squared_error\").mean())\n",
        "    RMSE.append(rmse) \n",
        "    RMSE_CV.append(rmse_cv)\n",
        "    print(\"k =\" , k , \"için RMSE değeri: \", rmse, \"RMSE_CV değeri: \", rmse_cv )\n"
      ],
      "execution_count": null,
      "outputs": [
        {
          "output_type": "stream",
          "text": [
            "k = 1 için RMSE değeri:  0.0 RMSE_CV değeri:  325.39475147063825\n",
            "k = 2 için RMSE değeri:  179.52761335480352 RMSE_CV değeri:  293.24000183333817\n",
            "k = 3 için RMSE değeri:  205.20157172291863 RMSE_CV değeri:  283.7486667487823\n",
            "k = 4 için RMSE değeri:  220.5139794876305 RMSE_CV değeri:  286.3240222024089\n",
            "k = 5 için RMSE değeri:  239.64671325413764 RMSE_CV değeri:  290.0705466132226\n",
            "k = 6 için RMSE değeri:  243.5904190007242 RMSE_CV değeri:  298.1263115575851\n",
            "k = 7 için RMSE değeri:  258.1478781634636 RMSE_CV değeri:  294.77070479194987\n",
            "k = 8 için RMSE değeri:  266.05374203349805 RMSE_CV değeri:  291.98672028891235\n",
            "k = 9 için RMSE değeri:  269.73782093553376 RMSE_CV değeri:  295.7162739573105\n",
            "k = 10 için RMSE değeri:  271.2798300436963 RMSE_CV değeri:  301.31047022701154\n"
          ],
          "name": "stdout"
        }
      ]
    },
    {
      "cell_type": "code",
      "metadata": {
        "id": "2yJgHydQ0PoT"
      },
      "source": [
        "knn_tuned = KNeighborsRegressor(n_neighbors = knn_cv_model.best_params_[\"n_neighbors\"])"
      ],
      "execution_count": null,
      "outputs": []
    },
    {
      "cell_type": "code",
      "metadata": {
        "colab": {
          "base_uri": "https://localhost:8080/"
        },
        "id": "tUczsM6X0PoU",
        "outputId": "cf3fa49b-0278-4e7e-9db9-7610910dadaa"
      },
      "source": [
        "knn_tuned.fit(X_train, y_train)"
      ],
      "execution_count": null,
      "outputs": [
        {
          "output_type": "execute_result",
          "data": {
            "text/plain": [
              "KNeighborsRegressor(algorithm='auto', leaf_size=30, metric='minkowski',\n",
              "                    metric_params=None, n_jobs=None, n_neighbors=8, p=2,\n",
              "                    weights='uniform')"
            ]
          },
          "metadata": {
            "tags": []
          },
          "execution_count": 20
        }
      ]
    },
    {
      "cell_type": "code",
      "metadata": {
        "colab": {
          "base_uri": "https://localhost:8080/"
        },
        "id": "3OYvP3zB0PoU",
        "outputId": "56142288-7b75-46b0-8175-3792ad881b39"
      },
      "source": [
        "np.sqrt(mean_squared_error(y_test, knn_tuned.predict(X_test)))"
      ],
      "execution_count": null,
      "outputs": [
        {
          "output_type": "execute_result",
          "data": {
            "text/plain": [
              "413.7094731463598"
            ]
          },
          "metadata": {
            "tags": []
          },
          "execution_count": 21
        }
      ]
    },
    {
      "cell_type": "markdown",
      "metadata": {
        "id": "N2o5gnk10PoW"
      },
      "source": [
        "# SVR (Destek Vektör Regresyonu)"
      ]
    },
    {
      "cell_type": "code",
      "metadata": {
        "id": "PV9o2rq50PoW"
      },
      "source": [
        "hit = pd.read_csv(\"Hitters.csv\")\n",
        "df = hit.copy()\n",
        "df = df.dropna()\n",
        "dms = pd.get_dummies(df[['League', 'Division', 'NewLeague']])\n",
        "y = df[\"Salary\"]\n",
        "X_ = df.drop(['Salary', 'League', 'Division', 'NewLeague'], axis=1).astype('float64')\n",
        "X = pd.concat([X_, dms[['League_N', 'Division_W', 'NewLeague_N']]], axis=1)\n",
        "X_train, X_test, y_train, y_test = train_test_split(X, y, \n",
        "                                                    test_size=0.25, \n",
        "                                                    random_state=42)"
      ],
      "execution_count": null,
      "outputs": []
    },
    {
      "cell_type": "code",
      "metadata": {
        "id": "CBQVy2BJ0PoX"
      },
      "source": [
        "X_train = pd.DataFrame(X_train[\"Hits\"])\n",
        "X_test = pd.DataFrame(X_test[\"Hits\"])"
      ],
      "execution_count": null,
      "outputs": []
    },
    {
      "cell_type": "code",
      "metadata": {
        "id": "luU2gp2l0PoY"
      },
      "source": [
        "from sklearn.svm import SVR"
      ],
      "execution_count": null,
      "outputs": []
    },
    {
      "cell_type": "code",
      "metadata": {
        "id": "4bvbhew10PoY"
      },
      "source": [
        "svr_model = SVR(\"linear\").fit(X_train, y_train)"
      ],
      "execution_count": null,
      "outputs": []
    },
    {
      "cell_type": "code",
      "metadata": {
        "colab": {
          "base_uri": "https://localhost:8080/"
        },
        "id": "--15AU4A0PoZ",
        "outputId": "76bf6d67-ade4-4965-a6ba-1aab5984f164"
      },
      "source": [
        "svr_model.predict(X_train)[0:5]"
      ],
      "execution_count": null,
      "outputs": [
        {
          "output_type": "execute_result",
          "data": {
            "text/plain": [
              "array([403.52804878, 666.91219512, 706.66829268, 194.80853659,\n",
              "       423.40609756])"
            ]
          },
          "metadata": {
            "tags": []
          },
          "execution_count": 26
        }
      ]
    },
    {
      "cell_type": "code",
      "metadata": {
        "colab": {
          "base_uri": "https://localhost:8080/"
        },
        "id": "9XaxVV8G0Poa",
        "outputId": "3e1f5242-ea14-4393-fed7-7660856f04fb"
      },
      "source": [
        "print (\"y = {0} + {1} x\".format(svr_model.intercept_[0], \n",
        "                                svr_model.coef_[0][0])) "
      ],
      "execution_count": null,
      "outputs": [
        {
          "output_type": "stream",
          "text": [
            "y = -48.69756097561513 + 4.969512195122093 x\n"
          ],
          "name": "stdout"
        }
      ]
    },
    {
      "cell_type": "code",
      "metadata": {
        "colab": {
          "base_uri": "https://localhost:8080/"
        },
        "id": "uQEkA9SW0Pob",
        "outputId": "55b86167-8403-4900-9dae-04d2562d0cab"
      },
      "source": [
        "X_train[\"Hits\"][0:1]"
      ],
      "execution_count": null,
      "outputs": [
        {
          "output_type": "execute_result",
          "data": {
            "text/plain": [
              "183    91.0\n",
              "Name: Hits, dtype: float64"
            ]
          },
          "metadata": {
            "tags": []
          },
          "execution_count": 28
        }
      ]
    },
    {
      "cell_type": "code",
      "metadata": {
        "id": "xhcrghn70Poc"
      },
      "source": [
        "-48.69756097561513 + 4.969512195122093*91"
      ],
      "execution_count": null,
      "outputs": []
    },
    {
      "cell_type": "code",
      "metadata": {
        "id": "LddVktpB0Poc"
      },
      "source": [
        "y_pred = svr_model.predict(X_train)"
      ],
      "execution_count": null,
      "outputs": []
    },
    {
      "cell_type": "code",
      "metadata": {
        "colab": {
          "base_uri": "https://localhost:8080/",
          "height": 281
        },
        "id": "a_addNkP0Pod",
        "outputId": "84163bc9-c853-4cff-a887-75b2314f74ab"
      },
      "source": [
        "plt.scatter(X_train, y_train)\n",
        "plt.plot(X_train,y_pred, color = \"r\")"
      ],
      "execution_count": null,
      "outputs": [
        {
          "output_type": "execute_result",
          "data": {
            "text/plain": [
              "[<matplotlib.lines.Line2D at 0x7efc14021e10>]"
            ]
          },
          "metadata": {
            "tags": []
          },
          "execution_count": 30
        },
        {
          "output_type": "display_data",
          "data": {
            "image/png": "[encoded data removed]",
            "text/plain": [
              "<Figure size 432x288 with 1 Axes>"
            ]
          },
          "metadata": {
            "tags": [],
            "needs_background": "light"
          }
        }
      ]
    },
    {
      "cell_type": "code",
      "metadata": {
        "colab": {
          "base_uri": "https://localhost:8080/"
        },
        "id": "x972ITSa0Poe",
        "outputId": "4f4be7ce-9c4a-4225-bdbb-eb10f4426430"
      },
      "source": [
        "#Doğrusal regresyonla karşılaştırma\n",
        "from sklearn.linear_model import LinearRegression\n",
        "lm_model = LinearRegression().fit(X_train, y_train)\n",
        "lm_pred  = lm_model.predict(X_train)\n",
        "print(\"y = {0} + {1} x\".format(lm_model.intercept_, lm_model.coef_[0]))"
      ],
      "execution_count": null,
      "outputs": [
        {
          "output_type": "stream",
          "text": [
            "y = -8.814095480334345 + 5.172456135470686 x\n"
          ],
          "name": "stdout"
        }
      ]
    },
    {
      "cell_type": "code",
      "metadata": {
        "id": "awcReOqL0Poe"
      },
      "source": [
        "-8.814095480334572 + 5.1724561354706875*91"
      ],
      "execution_count": null,
      "outputs": []
    },
    {
      "cell_type": "code",
      "metadata": {
        "colab": {
          "base_uri": "https://localhost:8080/",
          "height": 296
        },
        "id": "eUJWq8YQ0Pof",
        "outputId": "1dda638f-f2b5-42fb-9162-09c5a8b357f7"
      },
      "source": [
        "#İki yöntemi grafik üzerinde karşılaştırma \n",
        "plt.scatter(X_train, y_train, alpha=0.5, s=23)\n",
        "plt.plot(X_train, lm_pred, 'g')\n",
        "plt.plot(X_train, y_pred, color='r')\n",
        "\n",
        "plt.xlabel(\"Atış Sayısı(Hits)\")\n",
        "plt.ylabel(\"Maaş (Salary)\")"
      ],
      "execution_count": null,
      "outputs": [
        {
          "output_type": "execute_result",
          "data": {
            "text/plain": [
              "Text(0, 0.5, 'Maaş (Salary)')"
            ]
          },
          "metadata": {
            "tags": []
          },
          "execution_count": 32
        },
        {
          "output_type": "display_data",
          "data": {
            "image/png": "[encoded data removed]",
            "text/plain": [
              "<Figure size 432x288 with 1 Axes>"
            ]
          },
          "metadata": {
            "tags": [],
            "needs_background": "light"
          }
        }
      ]
    },
    {
      "cell_type": "markdown",
      "metadata": {
        "id": "5JiS2Th-0Pof"
      },
      "source": [
        "## Tahmin"
      ]
    },
    {
      "cell_type": "code",
      "metadata": {
        "colab": {
          "base_uri": "https://localhost:8080/"
        },
        "id": "QNjyO-HU0Pog",
        "outputId": "22ff37ca-d446-4a44-cd6f-41b6155874dd"
      },
      "source": [
        "print (\"y = {0} + {1} x\".format(svr_model.intercept_[0], svr_model.coef_[0][0])) "
      ],
      "execution_count": null,
      "outputs": [
        {
          "output_type": "stream",
          "text": [
            "y = -48.69756097561513 + 4.969512195122093 x\n"
          ],
          "name": "stdout"
        }
      ]
    },
    {
      "cell_type": "code",
      "metadata": {
        "colab": {
          "base_uri": "https://localhost:8080/"
        },
        "id": "AFUwGra-0Pog",
        "outputId": "4d850904-49bd-4cb0-c54b-74e2ca184128"
      },
      "source": [
        "svr_model.predict([[91]])"
      ],
      "execution_count": null,
      "outputs": [
        {
          "output_type": "execute_result",
          "data": {
            "text/plain": [
              "array([403.52804878])"
            ]
          },
          "metadata": {
            "tags": []
          },
          "execution_count": 34
        }
      ]
    },
    {
      "cell_type": "code",
      "metadata": {
        "colab": {
          "base_uri": "https://localhost:8080/"
        },
        "id": "z4erqaWv0Poh",
        "outputId": "b7599c69-f45e-48c0-fe37-6b5d36697d4e"
      },
      "source": [
        "y_pred = svr_model.predict(X_test)\n",
        "y_pred"
      ],
      "execution_count": null,
      "outputs": [
        {
          "output_type": "execute_result",
          "data": {
            "text/plain": [
              "array([ 627.15609756,  681.82073171,  627.15609756,  428.37560976,\n",
              "        155.05243902,  294.19878049,  781.21097561,  691.7597561 ,\n",
              "        741.45487805,  299.16829268,  706.66829268,  612.24756098,\n",
              "        169.96097561,  671.88170732,  428.37560976,  512.85731707,\n",
              "        935.26585366,  314.07682927,  979.99146341,  517.82682927,\n",
              "        319.04634146, 1059.50365854,  527.76585366,  567.52195122,\n",
              "        945.20487805,  239.53414634,  716.60731707,  363.77195122,\n",
              "        289.22926829,  179.9       ,  249.47317073,  -43.72804878,\n",
              "        328.98536585,  547.64390244,  289.22926829,  403.52804878,\n",
              "        686.7902439 ,  547.64390244,   85.47926829,  214.68658537,\n",
              "        155.05243902,  512.85731707,  547.64390244,  497.94878049,\n",
              "        632.12560976,  686.7902439 ,  209.71707317,  492.97926829,\n",
              "        537.70487805,  751.39390244,  652.00365854,  229.59512195,\n",
              "        860.72317073,  632.12560976,  324.01585366,  736.48536585,\n",
              "        497.94878049,  299.16829268,  110.32682927,  632.12560976,\n",
              "        945.20487805,  642.06463415,  994.9       ,  328.98536585,\n",
              "        363.77195122,  214.68658537])"
            ]
          },
          "metadata": {
            "tags": []
          },
          "execution_count": 35
        }
      ]
    },
    {
      "cell_type": "code",
      "metadata": {
        "colab": {
          "base_uri": "https://localhost:8080/"
        },
        "id": "sRzEHIwb0Poh",
        "outputId": "bb91366a-cddb-4b55-f565-bc8841df1ee7"
      },
      "source": [
        "np.sqrt(mean_squared_error(y_test, y_pred))"
      ],
      "execution_count": null,
      "outputs": [
        {
          "output_type": "execute_result",
          "data": {
            "text/plain": [
              "459.0187960365147"
            ]
          },
          "metadata": {
            "tags": []
          },
          "execution_count": 36
        }
      ]
    },
    {
      "cell_type": "code",
      "metadata": {
        "colab": {
          "base_uri": "https://localhost:8080/"
        },
        "id": "mff5sqyN0Poi",
        "outputId": "65ed9ca0-5ed1-42c7-ec1b-e0ba21fae335"
      },
      "source": [
        "svr_model"
      ],
      "execution_count": null,
      "outputs": [
        {
          "output_type": "execute_result",
          "data": {
            "text/plain": [
              "SVR(C=1.0, cache_size=200, coef0=0.0, degree=3, epsilon=0.1, gamma='scale',\n",
              "    kernel='linear', max_iter=-1, shrinking=True, tol=0.001, verbose=False)"
            ]
          },
          "metadata": {
            "tags": []
          },
          "execution_count": 37
        }
      ]
    },
    {
      "cell_type": "markdown",
      "metadata": {
        "id": "e-mt_bj90Poi"
      },
      "source": [
        "## Model Tuning"
      ]
    },
    {
      "cell_type": "code",
      "metadata": {
        "id": "gPhfV0MK0Poj"
      },
      "source": [
        "svr_model"
      ],
      "execution_count": null,
      "outputs": []
    },
    {
      "cell_type": "code",
      "metadata": {
        "id": "YQIc6PGF0Pok"
      },
      "source": [
        "svr_params = {\"C\": np.arange(0.1,2,0.1)}\n",
        "svr_cv_model = GridSearchCV(svr_model, svr_params, cv = 10).fit(X_train,y_train)"
      ],
      "execution_count": null,
      "outputs": []
    },
    {
      "cell_type": "code",
      "metadata": {
        "id": "_dHmlGN5Vxlk"
      },
      "source": [
        "svr_cv_model.best_params_"
      ],
      "execution_count": null,
      "outputs": []
    },
    {
      "cell_type": "code",
      "metadata": {
        "colab": {
          "base_uri": "https://localhost:8080/"
        },
        "id": "ma2S1L3x0Pol",
        "outputId": "846293a9-5e5b-4814-cb3c-f21cabf0e165"
      },
      "source": [
        "pd.Series(svr_cv_model.best_params_)[0]"
      ],
      "execution_count": null,
      "outputs": [
        {
          "output_type": "execute_result",
          "data": {
            "text/plain": [
              "0.1"
            ]
          },
          "metadata": {
            "tags": []
          },
          "execution_count": 39
        }
      ]
    },
    {
      "cell_type": "code",
      "metadata": {
        "id": "G2C4dLQg0Pom"
      },
      "source": [
        "svr_tuned = SVR(\"linear\", \n",
        "                C = pd.Series(svr_cv_model.best_params_)[0]).fit(X_train, y_train)\n",
        "\n"
      ],
      "execution_count": null,
      "outputs": []
    },
    {
      "cell_type": "code",
      "metadata": {
        "id": "fM1c9m2G0Pon"
      },
      "source": [
        "y_pred = svr_tuned.predict(X_test)"
      ],
      "execution_count": null,
      "outputs": []
    },
    {
      "cell_type": "code",
      "metadata": {
        "colab": {
          "base_uri": "https://localhost:8080/"
        },
        "id": "uWEKn0fB0Pon",
        "outputId": "7e143f6f-57bc-43e6-a598-7352cae5b650"
      },
      "source": [
        "np.sqrt(mean_squared_error(y_test, y_pred))"
      ],
      "execution_count": null,
      "outputs": [
        {
          "output_type": "execute_result",
          "data": {
            "text/plain": [
              "458.198966781116"
            ]
          },
          "metadata": {
            "tags": []
          },
          "execution_count": 43
        }
      ]
    },
    {
      "cell_type": "code",
      "metadata": {
        "id": "3IxspNQI0Poo"
      },
      "source": [
        "#Bütün değişkenler üzerinde yapıldığı zaman\n",
        "svr_params = {\"C\": np.arange(0.1,2,0.1)}\n",
        "svr_cv_model = GridSearchCV(svr_model, svr_params, cv = 10).fit(X_train,y_train)"
      ],
      "execution_count": null,
      "outputs": []
    },
    {
      "cell_type": "code",
      "metadata": {
        "colab": {
          "base_uri": "https://localhost:8080/"
        },
        "id": "1BhOA6txYkHV",
        "outputId": "b4132563-f651-4d42-a6e8-b8bbf5318055"
      },
      "source": [
        "svr_cv_model.best_params_"
      ],
      "execution_count": null,
      "outputs": [
        {
          "output_type": "execute_result",
          "data": {
            "text/plain": [
              "{'C': 0.4}"
            ]
          },
          "metadata": {
            "tags": []
          },
          "execution_count": 46
        }
      ]
    },
    {
      "cell_type": "code",
      "metadata": {
        "colab": {
          "base_uri": "https://localhost:8080/"
        },
        "id": "umayDcDNYd_a",
        "outputId": "5659e979-3cb9-4716-f86d-2cdd372070c6"
      },
      "source": [
        "np.sqrt(mean_squared_error(y_test, y_pred))"
      ],
      "execution_count": null,
      "outputs": [
        {
          "output_type": "execute_result",
          "data": {
            "text/plain": [
              "458.198966781116"
            ]
          },
          "metadata": {
            "tags": []
          },
          "execution_count": 47
        }
      ]
    },
    {
      "cell_type": "markdown",
      "metadata": {
        "id": "ohkthC-o0Poo"
      },
      "source": [
        "# Doğrusal Olmayan SVR"
      ]
    },
    {
      "cell_type": "code",
      "metadata": {
        "id": "c9l7i3Oo0Pop"
      },
      "source": [
        "np.random.seed(3)\n",
        "\n",
        "x_sim = np.random.uniform(2, 10, 145)\n",
        "y_sim = np.sin(x_sim) + np.random.normal(0, 0.4, 145)\n",
        "\n",
        "x_outliers = np.arange(2.5, 5, 0.5)\n",
        "y_outliers = -5*np.ones(5)\n",
        "\n",
        "x_sim_idx = np.argsort(np.concatenate([x_sim, x_outliers]))\n",
        "x_sim = np.concatenate([x_sim, x_outliers])[x_sim_idx]\n",
        "y_sim = np.concatenate([y_sim, y_outliers])[x_sim_idx]"
      ],
      "execution_count": null,
      "outputs": []
    },
    {
      "cell_type": "code",
      "metadata": {
        "id": "nTsKPlX00Pot"
      },
      "source": [
        "\n",
        "from sklearn.linear_model import LinearRegression\n",
        "ols = LinearRegression()\n",
        "ols.fit(np.sin(x_sim[:, np.newaxis]), y_sim)\n",
        "ols_pred = ols.predict(np.sin(x_sim[:, np.newaxis]))\n",
        "\n",
        "from sklearn.svm import SVR\n",
        "eps = 0.1\n",
        "svr = SVR('rbf', epsilon = eps)\n",
        "svr.fit(x_sim[:, np.newaxis], y_sim)\n",
        "svr_pred = svr.predict(x_sim[:, np.newaxis])"
      ],
      "execution_count": null,
      "outputs": []
    },
    {
      "cell_type": "code",
      "metadata": {
        "id": "UMY1Bprn0Pou",
        "colab": {
          "base_uri": "https://localhost:8080/",
          "height": 280
        },
        "outputId": "09ca8687-696c-41b0-fc1b-14f1d94138b2"
      },
      "source": [
        "plt.scatter(x_sim, y_sim, alpha=0.5, s=26)\n",
        "plt_ols, = plt.plot(x_sim, ols_pred, 'g')\n",
        "plt_svr, = plt.plot(x_sim, svr_pred, color='r')\n",
        "plt.xlabel(\"Bağımsız Değişken\")\n",
        "plt.ylabel(\"Bağımlı Değişken\")\n",
        "plt.ylim(-5.2, 2.2)\n",
        "plt.legend([plt_ols, plt_svr], ['EKK', 'SVR'], loc = 4);"
      ],
      "execution_count": null,
      "outputs": [
        {
          "output_type": "display_data",
          "data": {
            "image/png": "[encoded data removed]",
            "text/plain": [
              "<Figure size 432x288 with 1 Axes>"
            ]
          },
          "metadata": {
            "tags": [],
            "needs_background": "light"
          }
        }
      ]
    },
    {
      "cell_type": "code",
      "metadata": {
        "id": "N4KgR5Da0Pov"
      },
      "source": [
        "hit = pd.read_csv(\"Hitters.csv\")\n",
        "df = hit.copy()\n",
        "df = df.dropna()\n",
        "dms = pd.get_dummies(df[['League', 'Division', 'NewLeague']])\n",
        "y = df[\"Salary\"]\n",
        "X_ = df.drop(['Salary', 'League', 'Division', 'NewLeague'], axis=1).astype('float64')\n",
        "X = pd.concat([X_, dms[['League_N', 'Division_W', 'NewLeague_N']]], axis=1)\n",
        "X_train, X_test, y_train, y_test = train_test_split(X, y, \n",
        "                                                    test_size=0.25, \n",
        "                                                    random_state=42)"
      ],
      "execution_count": null,
      "outputs": []
    },
    {
      "cell_type": "code",
      "metadata": {
        "id": "FsYxQWSs0Pow"
      },
      "source": [
        "svr_rbf = SVR(\"rbf\").fit(X_train, y_train)"
      ],
      "execution_count": null,
      "outputs": []
    },
    {
      "cell_type": "markdown",
      "metadata": {
        "id": "CElCUFaq0Pow"
      },
      "source": [
        "## Tahmin"
      ]
    },
    {
      "cell_type": "code",
      "metadata": {
        "id": "B4zEHt8n0Pox"
      },
      "source": [
        "y_pred = svr_rbf.predict(X_test)"
      ],
      "execution_count": null,
      "outputs": []
    },
    {
      "cell_type": "code",
      "metadata": {
        "id": "zE5zqtPH0Pox",
        "colab": {
          "base_uri": "https://localhost:8080/"
        },
        "outputId": "3e23d29d-0ea2-4c74-e22d-9d7cdecd4666"
      },
      "source": [
        "np.sqrt(mean_squared_error(y_test, y_pred))"
      ],
      "execution_count": null,
      "outputs": [
        {
          "output_type": "execute_result",
          "data": {
            "text/plain": [
              "460.0032657244849"
            ]
          },
          "metadata": {
            "tags": []
          },
          "execution_count": 10
        }
      ]
    },
    {
      "cell_type": "markdown",
      "metadata": {
        "id": "BgDuD1NB0Poy"
      },
      "source": [
        "## Model Tuning"
      ]
    },
    {
      "cell_type": "code",
      "metadata": {
        "id": "w2GwD3q90Poy",
        "colab": {
          "base_uri": "https://localhost:8080/"
        },
        "outputId": "8b64d77f-de19-4d67-8cc4-f940300c92b4"
      },
      "source": [
        "svr_rbf"
      ],
      "execution_count": null,
      "outputs": [
        {
          "output_type": "execute_result",
          "data": {
            "text/plain": [
              "SVR(C=1.0, cache_size=200, coef0=0.0, degree=3, epsilon=0.1, gamma='scale',\n",
              "    kernel='rbf', max_iter=-1, shrinking=True, tol=0.001, verbose=False)"
            ]
          },
          "metadata": {
            "tags": []
          },
          "execution_count": 11
        }
      ]
    },
    {
      "cell_type": "code",
      "metadata": {
        "id": "Vs-2a9Rv0Poz",
        "colab": {
          "base_uri": "https://localhost:8080/"
        },
        "outputId": "74d62b12-c111-4320-d31a-251f75a44e11"
      },
      "source": [
        "svr_params = {\"C\": [0.01, 0.1,0.4,5,10,20,30,40,50]}\n",
        "svr_cv_model = GridSearchCV(svr_rbf,svr_params, cv = 10)\n",
        "svr_cv_model.fit(X_train, y_train)"
      ],
      "execution_count": null,
      "outputs": [
        {
          "output_type": "execute_result",
          "data": {
            "text/plain": [
              "GridSearchCV(cv=10, error_score=nan,\n",
              "             estimator=SVR(C=1.0, cache_size=200, coef0=0.0, degree=3,\n",
              "                           epsilon=0.1, gamma='scale', kernel='rbf',\n",
              "                           max_iter=-1, shrinking=True, tol=0.001,\n",
              "                           verbose=False),\n",
              "             iid='deprecated', n_jobs=None,\n",
              "             param_grid={'C': [0.01, 0.1, 0.4, 5, 10, 20, 30, 40, 50]},\n",
              "             pre_dispatch='2*n_jobs', refit=True, return_train_score=False,\n",
              "             scoring=None, verbose=0)"
            ]
          },
          "metadata": {
            "tags": []
          },
          "execution_count": 14
        }
      ]
    },
    {
      "cell_type": "code",
      "metadata": {
        "id": "-qFY0K8k0Poz",
        "colab": {
          "base_uri": "https://localhost:8080/"
        },
        "outputId": "54cb3d8a-1bdf-4197-da09-ffb89eba728f"
      },
      "source": [
        "pd.Series(svr_cv_model.best_params_)[0]"
      ],
      "execution_count": null,
      "outputs": [
        {
          "output_type": "execute_result",
          "data": {
            "text/plain": [
              "50"
            ]
          },
          "metadata": {
            "tags": []
          },
          "execution_count": 15
        }
      ]
    },
    {
      "cell_type": "code",
      "metadata": {
        "id": "GPAhdFaB0Po0"
      },
      "source": [
        "svr_tuned = SVR(\"rbf\", C = pd.Series(svr_cv_model.best_params_)[0]).fit(X_train, \n",
        "                                                                        y_train)\n"
      ],
      "execution_count": null,
      "outputs": []
    },
    {
      "cell_type": "code",
      "metadata": {
        "id": "yjovjL_z0Po0",
        "colab": {
          "base_uri": "https://localhost:8080/"
        },
        "outputId": "cfacc1d1-4d4c-446c-87cd-b32c5e40f559"
      },
      "source": [
        "y_pred = svr_tuned.predict(X_test)\n",
        "\n",
        "np.sqrt(mean_squared_error(y_test, y_pred))"
      ],
      "execution_count": null,
      "outputs": [
        {
          "output_type": "execute_result",
          "data": {
            "text/plain": [
              "428.00406888095694"
            ]
          },
          "metadata": {
            "tags": []
          },
          "execution_count": 17
        }
      ]
    },
    {
      "cell_type": "markdown",
      "metadata": {
        "id": "PT8gfyo80Po1"
      },
      "source": [
        "# Yapay Sinir Ağları(Çok katmanlı algılayıcı)"
      ]
    },
    {
      "cell_type": "code",
      "metadata": {
        "id": "nQh__vsd0Po1"
      },
      "source": [
        "hit = pd.read_csv(\"Hitters.csv\")\n",
        "df = hit.copy()\n",
        "df = df.dropna()\n",
        "dms = pd.get_dummies(df[['League', 'Division', 'NewLeague']])\n",
        "y = df[\"Salary\"]\n",
        "X_ = df.drop(['Salary', 'League', 'Division', 'NewLeague'], axis=1).astype('float64')\n",
        "X = pd.concat([X_, dms[['League_N', 'Division_W', 'NewLeague_N']]], axis=1)\n",
        "X_train, X_test, y_train, y_test = train_test_split(X, y, \n",
        "                                                    test_size=0.25, \n",
        "                                                    random_state=42)"
      ],
      "execution_count": null,
      "outputs": []
    },
    {
      "cell_type": "code",
      "metadata": {
        "id": "ejd4Ypjp0Po2"
      },
      "source": [
        "from sklearn.preprocessing import StandardScaler"
      ],
      "execution_count": null,
      "outputs": []
    },
    {
      "cell_type": "code",
      "metadata": {
        "id": "gZR2peRy0Po3",
        "colab": {
          "base_uri": "https://localhost:8080/"
        },
        "outputId": "6a965b1b-8557-4568-aa70-780e9ef5228c"
      },
      "source": [
        "scaler = StandardScaler()\n",
        "scaler.fit(X_train)"
      ],
      "execution_count": null,
      "outputs": [
        {
          "output_type": "execute_result",
          "data": {
            "text/plain": [
              "StandardScaler(copy=True, with_mean=True, with_std=True)"
            ]
          },
          "metadata": {
            "tags": []
          },
          "execution_count": 20
        }
      ]
    },
    {
      "cell_type": "code",
      "metadata": {
        "id": "EGkcRMfn0Po4"
      },
      "source": [
        "X_train_scaled = scaler.transform(X_train)"
      ],
      "execution_count": null,
      "outputs": []
    },
    {
      "cell_type": "code",
      "metadata": {
        "id": "eCowO-1P0Po5"
      },
      "source": [
        "X_test_scaled = scaler.transform(X_test)"
      ],
      "execution_count": null,
      "outputs": []
    },
    {
      "cell_type": "code",
      "metadata": {
        "id": "XAwYDhL40Po5"
      },
      "source": [
        "from sklearn.neural_network import MLPRegressor"
      ],
      "execution_count": null,
      "outputs": []
    },
    {
      "cell_type": "code",
      "metadata": {
        "id": "-nWS3Uyt0Po6"
      },
      "source": [
        "mlp_model = MLPRegressor(hidden_layer_sizes = (100,20)).fit(X_train_scaled, y_train)"
      ],
      "execution_count": null,
      "outputs": []
    },
    {
      "cell_type": "code",
      "metadata": {
        "id": "Ytz5xwDO0Po6",
        "colab": {
          "base_uri": "https://localhost:8080/"
        },
        "outputId": "358bcf7c-9721-4beb-82af-6cfc2cbfeb6d"
      },
      "source": [
        "mlp_model"
      ],
      "execution_count": null,
      "outputs": [
        {
          "output_type": "execute_result",
          "data": {
            "text/plain": [
              "MLPRegressor(activation='relu', alpha=0.0001, batch_size='auto', beta_1=0.9,\n",
              "             beta_2=0.999, early_stopping=False, epsilon=1e-08,\n",
              "             hidden_layer_sizes=(100, 20), learning_rate='constant',\n",
              "             learning_rate_init=0.001, max_fun=15000, max_iter=200,\n",
              "             momentum=0.9, n_iter_no_change=10, nesterovs_momentum=True,\n",
              "             power_t=0.5, random_state=None, shuffle=True, solver='adam',\n",
              "             tol=0.0001, validation_fraction=0.1, verbose=False,\n",
              "             warm_start=False)"
            ]
          },
          "metadata": {
            "tags": []
          },
          "execution_count": 26
        }
      ]
    },
    {
      "cell_type": "code",
      "metadata": {
        "id": "S1DE9yoN0Po7",
        "colab": {
          "base_uri": "https://localhost:8080/"
        },
        "outputId": "ebe3e54f-1d97-4d2b-8d22-2cd86be27859"
      },
      "source": [
        "mlp_model.n_layers_"
      ],
      "execution_count": null,
      "outputs": [
        {
          "output_type": "execute_result",
          "data": {
            "text/plain": [
              "4"
            ]
          },
          "metadata": {
            "tags": []
          },
          "execution_count": 27
        }
      ]
    },
    {
      "cell_type": "code",
      "metadata": {
        "id": "TJxedXS80Po8",
        "colab": {
          "base_uri": "https://localhost:8080/"
        },
        "outputId": "13dbd8db-373c-439e-b93e-600ae5523251"
      },
      "source": [
        "mlp_model.hidden_layer_sizes"
      ],
      "execution_count": null,
      "outputs": [
        {
          "output_type": "execute_result",
          "data": {
            "text/plain": [
              "(100, 20)"
            ]
          },
          "metadata": {
            "tags": []
          },
          "execution_count": 28
        }
      ]
    },
    {
      "cell_type": "markdown",
      "metadata": {
        "id": "MmozMUmN0Po-"
      },
      "source": [
        "## Tahmin"
      ]
    },
    {
      "cell_type": "code",
      "metadata": {
        "id": "-bhTBCD10Po-"
      },
      "source": [
        "y_pred = mlp_model.predict(X_test_scaled)"
      ],
      "execution_count": null,
      "outputs": []
    },
    {
      "cell_type": "code",
      "metadata": {
        "id": "KkuGowg90Po-",
        "colab": {
          "base_uri": "https://localhost:8080/"
        },
        "outputId": "c1c75dbc-dc55-4634-b579-a0df282a03be"
      },
      "source": [
        "np.sqrt(mean_squared_error(y_test, y_pred))"
      ],
      "execution_count": null,
      "outputs": [
        {
          "output_type": "execute_result",
          "data": {
            "text/plain": [
              "419.88299414561783"
            ]
          },
          "metadata": {
            "tags": []
          },
          "execution_count": 30
        }
      ]
    },
    {
      "cell_type": "markdown",
      "metadata": {
        "id": "kLN7rqwe0Po_"
      },
      "source": [
        "## Model Tuning"
      ]
    },
    {
      "cell_type": "code",
      "metadata": {
        "id": "GXkxWPeV0Po_",
        "colab": {
          "base_uri": "https://localhost:8080/"
        },
        "outputId": "49fa4cdb-65a9-47ed-f422-e3b0f7fab7bd"
      },
      "source": [
        "mlp_model"
      ],
      "execution_count": null,
      "outputs": [
        {
          "output_type": "execute_result",
          "data": {
            "text/plain": [
              "MLPRegressor(activation='relu', alpha=0.0001, batch_size='auto', beta_1=0.9,\n",
              "             beta_2=0.999, early_stopping=False, epsilon=1e-08,\n",
              "             hidden_layer_sizes=(100, 20), learning_rate='constant',\n",
              "             learning_rate_init=0.001, max_fun=15000, max_iter=200,\n",
              "             momentum=0.9, n_iter_no_change=10, nesterovs_momentum=True,\n",
              "             power_t=0.5, random_state=None, shuffle=True, solver='adam',\n",
              "             tol=0.0001, validation_fraction=0.1, verbose=False,\n",
              "             warm_start=False)"
            ]
          },
          "metadata": {
            "tags": []
          },
          "execution_count": 31
        }
      ]
    },
    {
      "cell_type": "code",
      "metadata": {
        "id": "yFTuKyt_0PpA"
      },
      "source": [
        "mlp_params = {'alpha': [0.1, 0.01,0.02,0.005],\n",
        "             'hidden_layer_sizes': [(20,20),(100,50,150),(300,200,150)],\n",
        "             'activation': ['relu','logistic']}"
      ],
      "execution_count": null,
      "outputs": []
    },
    {
      "cell_type": "code",
      "metadata": {
        "id": "0IqTqDJf0PpA"
      },
      "source": [
        "mlp_cv_model = GridSearchCV(mlp_model, mlp_params, cv = 10)"
      ],
      "execution_count": null,
      "outputs": []
    },
    {
      "cell_type": "code",
      "metadata": {
        "id": "0Mb4FrPy0PpB",
        "colab": {
          "base_uri": "https://localhost:8080/"
        },
        "outputId": "50f21d9d-971c-40df-9880-e8f8d1f13c66"
      },
      "source": [
        "mlp_cv_model.fit(X_train_scaled, y_train)"
      ],
      "execution_count": null,
      "outputs": [
        {
          "output_type": "execute_result",
          "data": {
            "text/plain": [
              "GridSearchCV(cv=10, error_score=nan,\n",
              "             estimator=MLPRegressor(activation='relu', alpha=0.0001,\n",
              "                                    batch_size='auto', beta_1=0.9, beta_2=0.999,\n",
              "                                    early_stopping=False, epsilon=1e-08,\n",
              "                                    hidden_layer_sizes=(100, 20),\n",
              "                                    learning_rate='constant',\n",
              "                                    learning_rate_init=0.001, max_fun=15000,\n",
              "                                    max_iter=200, momentum=0.9,\n",
              "                                    n_iter_no_change=10,\n",
              "                                    nesterovs_momentum=True, power_t=0.5,\n",
              "                                    random_state=None, shuffle=True,\n",
              "                                    solver='adam', tol=0.0001,\n",
              "                                    validation_fraction=0.1, verbose=False,\n",
              "                                    warm_start=False),\n",
              "             iid='deprecated', n_jobs=None,\n",
              "             param_grid={'activation': ['relu', 'logistic'],\n",
              "                         'alpha': [0.1, 0.01, 0.02, 0.005],\n",
              "                         'hidden_layer_sizes': [(20, 20), (100, 50, 150),\n",
              "                                                (300, 200, 150)]},\n",
              "             pre_dispatch='2*n_jobs', refit=True, return_train_score=False,\n",
              "             scoring=None, verbose=0)"
            ]
          },
          "metadata": {
            "tags": []
          },
          "execution_count": 34
        }
      ]
    },
    {
      "cell_type": "code",
      "metadata": {
        "id": "xR3qP2_A0PpB",
        "colab": {
          "base_uri": "https://localhost:8080/"
        },
        "outputId": "68dc58f7-4d19-40e5-98bf-37a185930077"
      },
      "source": [
        "mlp_cv_model.best_params_"
      ],
      "execution_count": null,
      "outputs": [
        {
          "output_type": "execute_result",
          "data": {
            "text/plain": [
              "{'activation': 'relu', 'alpha': 0.01, 'hidden_layer_sizes': (100, 50, 150)}"
            ]
          },
          "metadata": {
            "tags": []
          },
          "execution_count": 35
        }
      ]
    },
    {
      "cell_type": "code",
      "metadata": {
        "id": "DE6hZZyA0PpC"
      },
      "source": [
        "mlp_tuned = MLPRegressor(alpha = 0.01, hidden_layer_sizes = (100,50,150))"
      ],
      "execution_count": null,
      "outputs": []
    },
    {
      "cell_type": "code",
      "metadata": {
        "id": "P_rXW0vZ0PpC",
        "colab": {
          "base_uri": "https://localhost:8080/"
        },
        "outputId": "59e27c98-e4fe-4759-8ec9-800751000879"
      },
      "source": [
        "mlp_tuned.fit(X_train_scaled, y_train)"
      ],
      "execution_count": null,
      "outputs": [
        {
          "output_type": "execute_result",
          "data": {
            "text/plain": [
              "MLPRegressor(activation='relu', alpha=0.01, batch_size='auto', beta_1=0.9,\n",
              "             beta_2=0.999, early_stopping=False, epsilon=1e-08,\n",
              "             hidden_layer_sizes=(100, 50, 150), learning_rate='constant',\n",
              "             learning_rate_init=0.001, max_fun=15000, max_iter=200,\n",
              "             momentum=0.9, n_iter_no_change=10, nesterovs_momentum=True,\n",
              "             power_t=0.5, random_state=None, shuffle=True, solver='adam',\n",
              "             tol=0.0001, validation_fraction=0.1, verbose=False,\n",
              "             warm_start=False)"
            ]
          },
          "metadata": {
            "tags": []
          },
          "execution_count": 37
        }
      ]
    },
    {
      "cell_type": "code",
      "metadata": {
        "id": "hJTv9CHe0PpD"
      },
      "source": [
        "y_pred = mlp_tuned.predict(X_test_scaled)"
      ],
      "execution_count": null,
      "outputs": []
    },
    {
      "cell_type": "code",
      "metadata": {
        "id": "OG6UCX-60PpD",
        "colab": {
          "base_uri": "https://localhost:8080/"
        },
        "outputId": "e3f2f145-9c29-4595-fde6-eb20cb1aaff8"
      },
      "source": [
        "np.sqrt(mean_squared_error(y_test, y_pred))"
      ],
      "execution_count": null,
      "outputs": [
        {
          "output_type": "execute_result",
          "data": {
            "text/plain": [
              "361.7496922657652"
            ]
          },
          "metadata": {
            "tags": []
          },
          "execution_count": 39
        }
      ]
    },
    {
      "cell_type": "markdown",
      "metadata": {
        "id": "CNqTG3ww0PpE"
      },
      "source": [
        "# CART"
      ]
    },
    {
      "cell_type": "code",
      "metadata": {
        "id": "znOocIuE0PpF"
      },
      "source": [
        "hit = pd.read_csv(\"Hitters.csv\")\n",
        "df = hit.copy()\n",
        "df = df.dropna()\n",
        "dms = pd.get_dummies(df[['League', 'Division', 'NewLeague']])\n",
        "y = df[\"Salary\"]\n",
        "X_ = df.drop(['Salary', 'League', 'Division', 'NewLeague'], axis=1).astype('float64')\n",
        "X = pd.concat([X_, dms[['League_N', 'Division_W', 'NewLeague_N']]], axis=1)\n",
        "X_train, X_test, y_train, y_test = train_test_split(X, y, \n",
        "                                                    test_size=0.25, \n",
        "                                                    random_state=42)\n"
      ],
      "execution_count": null,
      "outputs": []
    },
    {
      "cell_type": "code",
      "metadata": {
        "id": "2On_nTq20PpG"
      },
      "source": [
        "X_train = pd.DataFrame(X_train[\"Hits\"])\n",
        "X_test = pd.DataFrame(X_test[\"Hits\"])"
      ],
      "execution_count": null,
      "outputs": []
    },
    {
      "cell_type": "code",
      "metadata": {
        "id": "9MbS0o860PpH"
      },
      "source": [
        "cart_model = DecisionTreeRegressor(min_samples_split = 2,max_depth=2)"
      ],
      "execution_count": null,
      "outputs": []
    },
    {
      "cell_type": "code",
      "metadata": {
        "id": "4LsEpRjF0PpI"
      },
      "source": [
        "?cart_model"
      ],
      "execution_count": null,
      "outputs": []
    },
    {
      "cell_type": "code",
      "metadata": {
        "id": "4i_k1_PG0PpI",
        "colab": {
          "base_uri": "https://localhost:8080/"
        },
        "outputId": "96506c27-8c7d-4e38-c8ec-bf4cad3f5fa2"
      },
      "source": [
        "cart_model.fit(X_train, y_train)"
      ],
      "execution_count": null,
      "outputs": [
        {
          "output_type": "execute_result",
          "data": {
            "text/plain": [
              "DecisionTreeRegressor(ccp_alpha=0.0, criterion='mse', max_depth=2,\n",
              "                      max_features=None, max_leaf_nodes=None,\n",
              "                      min_impurity_decrease=0.0, min_impurity_split=None,\n",
              "                      min_samples_leaf=1, min_samples_split=2,\n",
              "                      min_weight_fraction_leaf=0.0, presort='deprecated',\n",
              "                      random_state=None, splitter='best')"
            ]
          },
          "metadata": {
            "tags": []
          },
          "execution_count": 8
        }
      ]
    },
    {
      "cell_type": "code",
      "metadata": {
        "id": "ZjO0mO0N0PpJ",
        "colab": {
          "base_uri": "https://localhost:8080/",
          "height": 295
        },
        "outputId": "f3a553c3-824c-49fc-951f-ae201db86f65"
      },
      "source": [
        "X_grid = np.arange(min(np.array(X_train)),max(np.array(X_train)), 0.01) \n",
        "X_grid = X_grid.reshape((len(X_grid), 1))  \n",
        "plt.scatter(X_train, y_train, color = 'red') \n",
        "plt.plot(X_grid, cart_model.predict(X_grid), color = 'blue')  \n",
        "plt.title('CART REGRESON AĞACI')  \n",
        "plt.xlabel('Atış Sayısı(Hits)') \n",
        "plt.ylabel('Maaş (Salary)') ;"
      ],
      "execution_count": null,
      "outputs": [
        {
          "output_type": "display_data",
          "data": {
            "image/png": "[encoded data removed]",
            "text/plain": [
              "<Figure size 432x288 with 1 Axes>"
            ]
          },
          "metadata": {
            "tags": [],
            "needs_background": "light"
          }
        }
      ]
    },
    {
      "cell_type": "code",
      "metadata": {
        "id": "MDOZq40a0PpJ",
        "colab": {
          "base_uri": "https://localhost:8080/"
        },
        "outputId": "50580366-bad7-4e00-a16e-de653162ba1d"
      },
      "source": [
        "#Kural setini dışarıya çıkarmak\n",
        "!pip install skompiler"
      ],
      "execution_count": null,
      "outputs": [
        {
          "output_type": "stream",
          "text": [
            "Collecting skompiler\n",
            "\u001b[?25l  Downloading https://files.pythonhosted.org/packages/77/31/cbc7fc4fe064425efbf2044b94bd1973472d8aac85b4d9346c7330e03dfb/SKompiler-0.5.5.tar.gz (48kB)\n",
            "\r\u001b[K     |██████▊                         | 10kB 11.4MB/s eta 0:00:01\r\u001b[K     |█████████████▌                  | 20kB 17.9MB/s eta 0:00:01\r\u001b[K     |████████████████████▎           | 30kB 20.9MB/s eta 0:00:01\r\u001b[K     |███████████████████████████     | 40kB 19.0MB/s eta 0:00:01\r\u001b[K     |████████████████████████████████| 51kB 3.6MB/s \n",
            "\u001b[?25hRequirement already satisfied: scikit-learn in /usr/local/lib/python3.7/dist-packages (from skompiler) (0.22.2.post1)\n",
            "Requirement already satisfied: joblib>=0.11 in /usr/local/lib/python3.7/dist-packages (from scikit-learn->skompiler) (1.0.1)\n",
            "Requirement already satisfied: scipy>=0.17.0 in /usr/local/lib/python3.7/dist-packages (from scikit-learn->skompiler) (1.4.1)\n",
            "Requirement already satisfied: numpy>=1.11.0 in /usr/local/lib/python3.7/dist-packages (from scikit-learn->skompiler) (1.19.5)\n",
            "Building wheels for collected packages: skompiler\n",
            "  Building wheel for skompiler (setup.py) ... \u001b[?25l\u001b[?25hdone\n",
            "  Created wheel for skompiler: filename=SKompiler-0.5.5-cp37-none-any.whl size=57149 sha256=36728664f5832df4db7b33988b9c398a09e9a48bf6fe1a743e075f089f9d4589\n",
            "  Stored in directory: /root/.cache/pip/wheels/21/eb/99/6e32f89da503a823f6bc1a985abfdaeaa01b3a6b5ac5776d15\n",
            "Successfully built skompiler\n",
            "Installing collected packages: skompiler\n",
            "Successfully installed skompiler-0.5.5\n"
          ],
          "name": "stdout"
        }
      ]
    },
    {
      "cell_type": "code",
      "metadata": {
        "id": "EZa2H_Xq0PpK"
      },
      "source": [
        "from skompiler import skompile"
      ],
      "execution_count": null,
      "outputs": []
    },
    {
      "cell_type": "code",
      "metadata": {
        "id": "YFo50Kzq0PpL",
        "colab": {
          "base_uri": "https://localhost:8080/"
        },
        "outputId": "bace347e-2d20-45d2-d757-d33021cdd6e0"
      },
      "source": [
        "print(skompile(cart_model.predict).to('python/code'))"
      ],
      "execution_count": null,
      "outputs": [
        {
          "output_type": "stream",
          "text": [
            "((920.0 if x[0] <= 18.0 else 340.2029043478261) if x[0] <= 117.5 else \n",
            "    813.0988 if x[0] <= 225.5 else 1975.0)\n",
            "\n"
          ],
          "name": "stdout"
        }
      ]
    },
    {
      "cell_type": "markdown",
      "metadata": {
        "id": "Fz3ETal90PpM"
      },
      "source": [
        "## Tahmin"
      ]
    },
    {
      "cell_type": "code",
      "metadata": {
        "id": "3_wYnWDe0PpN"
      },
      "source": [
        "x = [91]"
      ],
      "execution_count": null,
      "outputs": []
    },
    {
      "cell_type": "code",
      "metadata": {
        "id": "Je6P8e2V0PpO",
        "colab": {
          "base_uri": "https://localhost:8080/"
        },
        "outputId": "1af83285-7a97-497d-81f4-15dd1c758e47"
      },
      "source": [
        "((920.0 if x[0] <= 18.0 else 340.2029043478261) if x[0] <= 117.5 else \n",
        "    813.0988 if x[0] <= 225.5 else 1975.0)"
      ],
      "execution_count": null,
      "outputs": [
        {
          "output_type": "execute_result",
          "data": {
            "text/plain": [
              "340.2029043478261"
            ]
          },
          "metadata": {
            "tags": []
          },
          "execution_count": 15
        }
      ]
    },
    {
      "cell_type": "code",
      "metadata": {
        "id": "P4rXGaoa0PpO",
        "colab": {
          "base_uri": "https://localhost:8080/"
        },
        "outputId": "4ef06e8b-1cce-4c91-a421-333999d00260"
      },
      "source": [
        "cart_model.predict(X_test)[0:5]"
      ],
      "execution_count": null,
      "outputs": [
        {
          "output_type": "execute_result",
          "data": {
            "text/plain": [
              "array([813.0988    , 813.0988    , 813.0988    , 340.20290435,\n",
              "       340.20290435])"
            ]
          },
          "metadata": {
            "tags": []
          },
          "execution_count": 16
        }
      ]
    },
    {
      "cell_type": "code",
      "metadata": {
        "id": "RdmoeIEv0PpP",
        "colab": {
          "base_uri": "https://localhost:8080/"
        },
        "outputId": "9954fdee-9ca0-48ad-906c-cf3daf931d7c"
      },
      "source": [
        "cart_model.predict([[91]])"
      ],
      "execution_count": null,
      "outputs": [
        {
          "output_type": "execute_result",
          "data": {
            "text/plain": [
              "array([340.20290435])"
            ]
          },
          "metadata": {
            "tags": []
          },
          "execution_count": 17
        }
      ]
    },
    {
      "cell_type": "code",
      "metadata": {
        "id": "uRGIs6rs0PpQ"
      },
      "source": [
        "y_pred =cart_model.predict(X_test)"
      ],
      "execution_count": null,
      "outputs": []
    },
    {
      "cell_type": "code",
      "metadata": {
        "id": "z6EDilZH0PpQ",
        "colab": {
          "base_uri": "https://localhost:8080/"
        },
        "outputId": "b6e91eee-9276-44ac-f74a-f61e84c2c13b"
      },
      "source": [
        "np.sqrt(mean_squared_error(y_test, y_pred))"
      ],
      "execution_count": null,
      "outputs": [
        {
          "output_type": "execute_result",
          "data": {
            "text/plain": [
              "430.81036420947464"
            ]
          },
          "metadata": {
            "tags": []
          },
          "execution_count": 19
        }
      ]
    },
    {
      "cell_type": "markdown",
      "metadata": {
        "id": "yUpbVy2J0PpQ"
      },
      "source": [
        "## Model Tuning"
      ]
    },
    {
      "cell_type": "code",
      "metadata": {
        "id": "alHucWjx0PpR"
      },
      "source": [
        "cart_model = DecisionTreeRegressor()\n",
        "cart_model.fit(X_train, y_train)\n",
        "y_pred = cart_model.predict(X_test)"
      ],
      "execution_count": null,
      "outputs": []
    },
    {
      "cell_type": "code",
      "metadata": {
        "id": "jeeIXinJ0PpR",
        "colab": {
          "base_uri": "https://localhost:8080/"
        },
        "outputId": "c0ce29ce-84ee-400a-a94e-0830de7cf4a6"
      },
      "source": [
        "np.sqrt(mean_squared_error(y_test, y_pred))"
      ],
      "execution_count": null,
      "outputs": [
        {
          "output_type": "execute_result",
          "data": {
            "text/plain": [
              "468.49579052913884"
            ]
          },
          "metadata": {
            "tags": []
          },
          "execution_count": 21
        }
      ]
    },
    {
      "cell_type": "code",
      "metadata": {
        "id": "hrrEw1Sc0PpS"
      },
      "source": [
        "cart_params = {\"min_samples_split\": range(2,100),\n",
        "               \"max_leaf_nodes\": range(2,10)}\n",
        "              "
      ],
      "execution_count": null,
      "outputs": []
    },
    {
      "cell_type": "code",
      "metadata": {
        "id": "vGVVKpuT0PpS"
      },
      "source": [
        "cart_cv_model = GridSearchCV(cart_model, cart_params, cv = 10)"
      ],
      "execution_count": null,
      "outputs": []
    },
    {
      "cell_type": "code",
      "metadata": {
        "id": "nwPFHgum0PpT",
        "colab": {
          "base_uri": "https://localhost:8080/"
        },
        "outputId": "cf9dacfd-cc3a-49a7-b9ae-0ef4a4f3fa19"
      },
      "source": [
        "cart_cv_model.fit(X_train, y_train)"
      ],
      "execution_count": null,
      "outputs": [
        {
          "output_type": "execute_result",
          "data": {
            "text/plain": [
              "GridSearchCV(cv=10, error_score=nan,\n",
              "             estimator=DecisionTreeRegressor(ccp_alpha=0.0, criterion='mse',\n",
              "                                             max_depth=None, max_features=None,\n",
              "                                             max_leaf_nodes=None,\n",
              "                                             min_impurity_decrease=0.0,\n",
              "                                             min_impurity_split=None,\n",
              "                                             min_samples_leaf=1,\n",
              "                                             min_samples_split=2,\n",
              "                                             min_weight_fraction_leaf=0.0,\n",
              "                                             presort='deprecated',\n",
              "                                             random_state=None,\n",
              "                                             splitter='best'),\n",
              "             iid='deprecated', n_jobs=None,\n",
              "             param_grid={'max_leaf_nodes': range(2, 10),\n",
              "                         'min_samples_split': range(2, 100)},\n",
              "             pre_dispatch='2*n_jobs', refit=True, return_train_score=False,\n",
              "             scoring=None, verbose=0)"
            ]
          },
          "metadata": {
            "tags": []
          },
          "execution_count": 33
        }
      ]
    },
    {
      "cell_type": "code",
      "metadata": {
        "id": "_1KmVfaR0PpT",
        "colab": {
          "base_uri": "https://localhost:8080/"
        },
        "outputId": "823953ce-21f8-4e09-b0d9-afab11620aef"
      },
      "source": [
        "cart_cv_model.best_params_"
      ],
      "execution_count": null,
      "outputs": [
        {
          "output_type": "execute_result",
          "data": {
            "text/plain": [
              "{'max_leaf_nodes': 9, 'min_samples_split': 76}"
            ]
          },
          "metadata": {
            "tags": []
          },
          "execution_count": 34
        }
      ]
    },
    {
      "cell_type": "code",
      "metadata": {
        "id": "SGHppMRf0PpU"
      },
      "source": [
        "cart_tuned = DecisionTreeRegressor(max_leaf_nodes = 9, min_samples_split = 76)"
      ],
      "execution_count": null,
      "outputs": []
    },
    {
      "cell_type": "code",
      "metadata": {
        "id": "DxTkWxDX0PpU",
        "colab": {
          "base_uri": "https://localhost:8080/"
        },
        "outputId": "8414d17d-f0e9-4fee-84d2-04cf44ab4eb5"
      },
      "source": [
        "cart_tuned.fit(X_train, y_train)"
      ],
      "execution_count": null,
      "outputs": [
        {
          "output_type": "execute_result",
          "data": {
            "text/plain": [
              "DecisionTreeRegressor(ccp_alpha=0.0, criterion='mse', max_depth=None,\n",
              "                      max_features=None, max_leaf_nodes=9,\n",
              "                      min_impurity_decrease=0.0, min_impurity_split=None,\n",
              "                      min_samples_leaf=1, min_samples_split=76,\n",
              "                      min_weight_fraction_leaf=0.0, presort='deprecated',\n",
              "                      random_state=None, splitter='best')"
            ]
          },
          "metadata": {
            "tags": []
          },
          "execution_count": 28
        }
      ]
    },
    {
      "cell_type": "code",
      "metadata": {
        "id": "tlRmp7kY0PpV"
      },
      "source": [
        "y_pred = cart_tuned.predict(X_test)"
      ],
      "execution_count": null,
      "outputs": []
    },
    {
      "cell_type": "code",
      "metadata": {
        "id": "xy9YjKG60PpW",
        "colab": {
          "base_uri": "https://localhost:8080/"
        },
        "outputId": "2e289f14-e411-46c9-ec51-c848a1d42d5a"
      },
      "source": [
        "np.sqrt(mean_squared_error(y_test, y_pred))"
      ],
      "execution_count": null,
      "outputs": [
        {
          "output_type": "execute_result",
          "data": {
            "text/plain": [
              "423.406689243066"
            ]
          },
          "metadata": {
            "tags": []
          },
          "execution_count": 30
        }
      ]
    },
    {
      "cell_type": "markdown",
      "metadata": {
        "id": "kDVZSiZN0PpW"
      },
      "source": [
        "# Bagged Trees Regresyon"
      ]
    },
    {
      "cell_type": "code",
      "metadata": {
        "id": "xP75ESRq0PpW"
      },
      "source": [
        "hit = pd.read_csv(\"Hitters.csv\")\n",
        "df = hit.copy()\n",
        "df = df.dropna()\n",
        "dms = pd.get_dummies(df[['League', 'Division', 'NewLeague']])\n",
        "y = df[\"Salary\"]\n",
        "X_ = df.drop(['Salary', 'League', 'Division', 'NewLeague'], axis=1).astype('float64')\n",
        "X = pd.concat([X_, dms[['League_N', 'Division_W', 'NewLeague_N']]], axis=1)\n",
        "X_train, X_test, y_train, y_test = train_test_split(X, y, \n",
        "                                                    test_size=0.25, \n",
        "                                                    random_state=42)\n"
      ],
      "execution_count": null,
      "outputs": []
    },
    {
      "cell_type": "code",
      "metadata": {
        "id": "NrWTdTAt0PpX",
        "colab": {
          "base_uri": "https://localhost:8080/"
        },
        "outputId": "497c2d0a-320d-454f-837e-386427ec80a2"
      },
      "source": [
        "bag_model = BaggingRegressor(bootstrap_features = True)\n",
        "bag_model.fit(X_train, y_train)"
      ],
      "execution_count": null,
      "outputs": [
        {
          "output_type": "execute_result",
          "data": {
            "text/plain": [
              "BaggingRegressor(base_estimator=None, bootstrap=True, bootstrap_features=True,\n",
              "                 max_features=1.0, max_samples=1.0, n_estimators=10,\n",
              "                 n_jobs=None, oob_score=False, random_state=None, verbose=0,\n",
              "                 warm_start=False)"
            ]
          },
          "metadata": {
            "tags": []
          },
          "execution_count": 36
        }
      ]
    },
    {
      "cell_type": "code",
      "metadata": {
        "id": "DTiYzMmn0PpZ",
        "colab": {
          "base_uri": "https://localhost:8080/"
        },
        "outputId": "10237e7c-93ca-43df-8c9f-be924b7ad6b8"
      },
      "source": [
        "bag_model.n_estimators"
      ],
      "execution_count": null,
      "outputs": [
        {
          "output_type": "execute_result",
          "data": {
            "text/plain": [
              "10"
            ]
          },
          "metadata": {
            "tags": []
          },
          "execution_count": 37
        }
      ]
    },
    {
      "cell_type": "code",
      "metadata": {
        "id": "g8zGIUUH0PpZ"
      },
      "source": [
        "bag_model.estimators_"
      ],
      "execution_count": null,
      "outputs": []
    },
    {
      "cell_type": "code",
      "metadata": {
        "id": "3Nfxf25s0Ppa"
      },
      "source": [
        "bag_model.estimators_samples_"
      ],
      "execution_count": null,
      "outputs": []
    },
    {
      "cell_type": "code",
      "metadata": {
        "id": "rqmiZ3QK0Ppa"
      },
      "source": [
        "bag_model.estimators_features_"
      ],
      "execution_count": null,
      "outputs": []
    },
    {
      "cell_type": "code",
      "metadata": {
        "id": "-qFj6-4E0Ppb",
        "colab": {
          "base_uri": "https://localhost:8080/"
        },
        "outputId": "b3537aff-51ef-4e09-a720-d9a9f38b2899"
      },
      "source": [
        "bag_model.estimators_[1]"
      ],
      "execution_count": null,
      "outputs": [
        {
          "output_type": "execute_result",
          "data": {
            "text/plain": [
              "DecisionTreeRegressor(ccp_alpha=0.0, criterion='mse', max_depth=None,\n",
              "                      max_features=None, max_leaf_nodes=None,\n",
              "                      min_impurity_decrease=0.0, min_impurity_split=None,\n",
              "                      min_samples_leaf=1, min_samples_split=2,\n",
              "                      min_weight_fraction_leaf=0.0, presort='deprecated',\n",
              "                      random_state=1428182856, splitter='best')"
            ]
          },
          "metadata": {
            "tags": []
          },
          "execution_count": 41
        }
      ]
    },
    {
      "cell_type": "markdown",
      "metadata": {
        "id": "-vAPFcY60Ppb"
      },
      "source": [
        "## Tahmin"
      ]
    },
    {
      "cell_type": "code",
      "metadata": {
        "id": "l7E28i7Q0Ppc"
      },
      "source": [
        "y_pred = bag_model.predict(X_test)"
      ],
      "execution_count": null,
      "outputs": []
    },
    {
      "cell_type": "code",
      "metadata": {
        "id": "cl0OR7h-0Ppd",
        "colab": {
          "base_uri": "https://localhost:8080/"
        },
        "outputId": "74ee4bd2-528b-4570-8715-b9ac3dca75de"
      },
      "source": [
        "np.sqrt(mean_squared_error(y_test, y_pred))"
      ],
      "execution_count": null,
      "outputs": [
        {
          "output_type": "execute_result",
          "data": {
            "text/plain": [
              "352.538184458975"
            ]
          },
          "metadata": {
            "tags": []
          },
          "execution_count": 43
        }
      ]
    },
    {
      "cell_type": "code",
      "metadata": {
        "id": "3PReFYzO0Ppe"
      },
      "source": [
        "iki_y_pred = bag_model.estimators_[1].fit(X_train, y_train).predict(X_test)"
      ],
      "execution_count": null,
      "outputs": []
    },
    {
      "cell_type": "code",
      "metadata": {
        "id": "NXZkOBT90Ppe",
        "colab": {
          "base_uri": "https://localhost:8080/"
        },
        "outputId": "5264a222-dabd-45fe-b5b6-318657e08901"
      },
      "source": [
        "np.sqrt(mean_squared_error(y_test, iki_y_pred))"
      ],
      "execution_count": null,
      "outputs": [
        {
          "output_type": "execute_result",
          "data": {
            "text/plain": [
              "476.28135936495596"
            ]
          },
          "metadata": {
            "tags": []
          },
          "execution_count": 46
        }
      ]
    },
    {
      "cell_type": "code",
      "metadata": {
        "id": "hbjdNtXr0Ppf"
      },
      "source": [
        "yedi_y_pred = bag_model.estimators_[4].fit(X_train, y_train).predict(X_test)"
      ],
      "execution_count": null,
      "outputs": []
    },
    {
      "cell_type": "code",
      "metadata": {
        "id": "IAgD9-cB0Ppf"
      },
      "source": [
        "np.sqrt(mean_squared_error(y_test, yedi_y_pred))"
      ],
      "execution_count": null,
      "outputs": []
    },
    {
      "cell_type": "markdown",
      "metadata": {
        "id": "FhBWl9720Ppf"
      },
      "source": [
        "# Model Tuning"
      ]
    },
    {
      "cell_type": "code",
      "metadata": {
        "id": "v6hlTAd10Ppg",
        "colab": {
          "base_uri": "https://localhost:8080/"
        },
        "outputId": "58959d7c-c7bb-45ab-d597-ea78ceb36db3"
      },
      "source": [
        "bag_model = BaggingRegressor(bootstrap_features = True)\n",
        "bag_model.fit(X_train, y_train)"
      ],
      "execution_count": null,
      "outputs": [
        {
          "output_type": "execute_result",
          "data": {
            "text/plain": [
              "BaggingRegressor(base_estimator=None, bootstrap=True, bootstrap_features=True,\n",
              "                 max_features=1.0, max_samples=1.0, n_estimators=10,\n",
              "                 n_jobs=None, oob_score=False, random_state=None, verbose=0,\n",
              "                 warm_start=False)"
            ]
          },
          "metadata": {
            "tags": []
          },
          "execution_count": 47
        }
      ]
    },
    {
      "cell_type": "code",
      "metadata": {
        "id": "oIL-eByy0Ppg"
      },
      "source": [
        "bag_params = {\"n_estimators\": range(2,20)}"
      ],
      "execution_count": null,
      "outputs": []
    },
    {
      "cell_type": "code",
      "metadata": {
        "id": "8ZpmTWA00Pph"
      },
      "source": [
        "bag_cv_model = GridSearchCV(bag_model, bag_params, cv = 10)"
      ],
      "execution_count": null,
      "outputs": []
    },
    {
      "cell_type": "code",
      "metadata": {
        "id": "qvTsoOKC0Pph",
        "colab": {
          "base_uri": "https://localhost:8080/"
        },
        "outputId": "4b2f4999-4ef4-499f-d820-fbefc81b36b8"
      },
      "source": [
        "bag_cv_model.fit(X_train, y_train)"
      ],
      "execution_count": null,
      "outputs": [
        {
          "output_type": "execute_result",
          "data": {
            "text/plain": [
              "GridSearchCV(cv=10, error_score=nan,\n",
              "             estimator=BaggingRegressor(base_estimator=None, bootstrap=True,\n",
              "                                        bootstrap_features=True,\n",
              "                                        max_features=1.0, max_samples=1.0,\n",
              "                                        n_estimators=10, n_jobs=None,\n",
              "                                        oob_score=False, random_state=None,\n",
              "                                        verbose=0, warm_start=False),\n",
              "             iid='deprecated', n_jobs=None,\n",
              "             param_grid={'n_estimators': range(2, 20)}, pre_dispatch='2*n_jobs',\n",
              "             refit=True, return_train_score=False, scoring=None, verbose=0)"
            ]
          },
          "metadata": {
            "tags": []
          },
          "execution_count": 50
        }
      ]
    },
    {
      "cell_type": "code",
      "metadata": {
        "id": "ORxcCqSO0Ppi",
        "colab": {
          "base_uri": "https://localhost:8080/"
        },
        "outputId": "df65e082-a6a0-47b8-8058-5fac6857e8b5"
      },
      "source": [
        "bag_cv_model.best_params_"
      ],
      "execution_count": null,
      "outputs": [
        {
          "output_type": "execute_result",
          "data": {
            "text/plain": [
              "{'n_estimators': 6}"
            ]
          },
          "metadata": {
            "tags": []
          },
          "execution_count": 51
        }
      ]
    },
    {
      "cell_type": "code",
      "metadata": {
        "id": "kqBGofpO0Ppi"
      },
      "source": [
        "bag_tuned = BaggingRegressor( n_estimators = 6, random_state = 45)"
      ],
      "execution_count": null,
      "outputs": []
    },
    {
      "cell_type": "code",
      "metadata": {
        "id": "6hrmPFjk0Ppi",
        "colab": {
          "base_uri": "https://localhost:8080/"
        },
        "outputId": "bdb270d0-0d75-4abd-9d98-557687139f9f"
      },
      "source": [
        "bag_tuned.fit(X_train, y_train)"
      ],
      "execution_count": null,
      "outputs": [
        {
          "output_type": "execute_result",
          "data": {
            "text/plain": [
              "BaggingRegressor(base_estimator=None, bootstrap=True, bootstrap_features=False,\n",
              "                 max_features=1.0, max_samples=1.0, n_estimators=6, n_jobs=None,\n",
              "                 oob_score=False, random_state=45, verbose=0, warm_start=False)"
            ]
          },
          "metadata": {
            "tags": []
          },
          "execution_count": 53
        }
      ]
    },
    {
      "cell_type": "code",
      "metadata": {
        "id": "jluuX9Q70Ppj"
      },
      "source": [
        "y_pred = bag_tuned.predict(X_test)"
      ],
      "execution_count": null,
      "outputs": []
    },
    {
      "cell_type": "code",
      "metadata": {
        "id": "4Jwp2GTC0Ppj",
        "colab": {
          "base_uri": "https://localhost:8080/"
        },
        "outputId": "9b3a10fc-744e-45e4-f173-e8ddcdcc0399"
      },
      "source": [
        "np.sqrt(mean_squared_error(y_test, y_pred))"
      ],
      "execution_count": null,
      "outputs": [
        {
          "output_type": "execute_result",
          "data": {
            "text/plain": [
              "359.9759709118334"
            ]
          },
          "metadata": {
            "tags": []
          },
          "execution_count": 55
        }
      ]
    },
    {
      "cell_type": "markdown",
      "metadata": {
        "id": "as4H6joI0Ppj"
      },
      "source": [
        "# Random Forests"
      ]
    },
    {
      "cell_type": "code",
      "metadata": {
        "id": "4XQh8y0T0Ppk"
      },
      "source": [
        "hit = pd.read_csv(\"Hitters.csv\")\n",
        "df = hit.copy()\n",
        "df = df.dropna()\n",
        "dms = pd.get_dummies(df[['League', 'Division', 'NewLeague']])\n",
        "y = df[\"Salary\"]\n",
        "X_ = df.drop(['Salary', 'League', 'Division', 'NewLeague'], axis=1).astype('float64')\n",
        "X = pd.concat([X_, dms[['League_N', 'Division_W', 'NewLeague_N']]], axis=1)\n",
        "X_train, X_test, y_train, y_test = train_test_split(X, y, \n",
        "                                                    test_size=0.25, \n",
        "                                                    random_state=42)\n"
      ],
      "execution_count": null,
      "outputs": []
    },
    {
      "cell_type": "code",
      "metadata": {
        "id": "n559l6H90Ppk"
      },
      "source": [
        "from sklearn.ensemble import RandomForestRegressor"
      ],
      "execution_count": null,
      "outputs": []
    },
    {
      "cell_type": "code",
      "metadata": {
        "id": "pgq07WMI0Ppl"
      },
      "source": [
        "rf_model = RandomForestRegressor(random_state = 42)"
      ],
      "execution_count": null,
      "outputs": []
    },
    {
      "cell_type": "code",
      "metadata": {
        "id": "ifmn5zHk0Ppl",
        "colab": {
          "base_uri": "https://localhost:8080/"
        },
        "outputId": "61c37ab0-272b-4aea-be29-f0b7247dba9b"
      },
      "source": [
        "rf_model.fit(X_train, y_train)"
      ],
      "execution_count": null,
      "outputs": [
        {
          "output_type": "execute_result",
          "data": {
            "text/plain": [
              "RandomForestRegressor(bootstrap=True, ccp_alpha=0.0, criterion='mse',\n",
              "                      max_depth=None, max_features='auto', max_leaf_nodes=None,\n",
              "                      max_samples=None, min_impurity_decrease=0.0,\n",
              "                      min_impurity_split=None, min_samples_leaf=1,\n",
              "                      min_samples_split=2, min_weight_fraction_leaf=0.0,\n",
              "                      n_estimators=100, n_jobs=None, oob_score=False,\n",
              "                      random_state=42, verbose=0, warm_start=False)"
            ]
          },
          "metadata": {
            "tags": []
          },
          "execution_count": 59
        }
      ]
    },
    {
      "cell_type": "markdown",
      "metadata": {
        "id": "aE13npDq0Ppm"
      },
      "source": [
        "## Tahmin"
      ]
    },
    {
      "cell_type": "code",
      "metadata": {
        "id": "4BOe6dbs0Ppm",
        "colab": {
          "base_uri": "https://localhost:8080/"
        },
        "outputId": "a77ea02d-3060-4e04-e574-3b402d37e726"
      },
      "source": [
        "rf_model.predict(X_test)[0:5]"
      ],
      "execution_count": null,
      "outputs": [
        {
          "output_type": "execute_result",
          "data": {
            "text/plain": [
              "array([ 746.94667,  898.16164, 1182.32833,  139.30167,  626.75833])"
            ]
          },
          "metadata": {
            "tags": []
          },
          "execution_count": 60
        }
      ]
    },
    {
      "cell_type": "code",
      "metadata": {
        "id": "N9mzO9f30Ppm"
      },
      "source": [
        "y_pred = rf_model.predict(X_test)"
      ],
      "execution_count": null,
      "outputs": []
    },
    {
      "cell_type": "code",
      "metadata": {
        "id": "GChZojwB0Ppn",
        "colab": {
          "base_uri": "https://localhost:8080/"
        },
        "outputId": "694230fb-5610-40c5-b443-a5ca122a97d3"
      },
      "source": [
        "np.sqrt(mean_squared_error(y_test, y_pred))"
      ],
      "execution_count": null,
      "outputs": [
        {
          "output_type": "execute_result",
          "data": {
            "text/plain": [
              "344.73852779396566"
            ]
          },
          "metadata": {
            "tags": []
          },
          "execution_count": 62
        }
      ]
    },
    {
      "cell_type": "markdown",
      "metadata": {
        "id": "LNBgRPTm0Ppn"
      },
      "source": [
        "## Model Tuning"
      ]
    },
    {
      "cell_type": "code",
      "metadata": {
        "id": "smEyvJjZ0Ppo"
      },
      "source": [
        "rf_params = {'max_depth': list(range(1,10)),\n",
        "            'max_features': [3,5,10,15],\n",
        "            'n_estimators' : [100, 200, 500, 1000, 2000]}"
      ],
      "execution_count": null,
      "outputs": []
    },
    {
      "cell_type": "code",
      "metadata": {
        "id": "gshhBKSA0Ppo"
      },
      "source": [
        "rf_model = RandomForestRegressor(random_state = 42)"
      ],
      "execution_count": null,
      "outputs": []
    },
    {
      "cell_type": "code",
      "metadata": {
        "id": "Sa7hzBv40Ppo"
      },
      "source": [
        "rf_cv_model = GridSearchCV(rf_model, \n",
        "                           rf_params, \n",
        "                           cv = 10, \n",
        "                            n_jobs = -1)"
      ],
      "execution_count": null,
      "outputs": []
    },
    {
      "cell_type": "code",
      "metadata": {
        "id": "gUhr6dEU0Ppp",
        "colab": {
          "base_uri": "https://localhost:8080/"
        },
        "outputId": "170dc51a-db3b-4be5-aa16-eb093851be7e"
      },
      "source": [
        "rf_cv_model.fit(X_train, y_train)"
      ],
      "execution_count": null,
      "outputs": [
        {
          "output_type": "execute_result",
          "data": {
            "text/plain": [
              "GridSearchCV(cv=10, error_score=nan,\n",
              "             estimator=RandomForestRegressor(bootstrap=True, ccp_alpha=0.0,\n",
              "                                             criterion='mse', max_depth=None,\n",
              "                                             max_features='auto',\n",
              "                                             max_leaf_nodes=None,\n",
              "                                             max_samples=None,\n",
              "                                             min_impurity_decrease=0.0,\n",
              "                                             min_impurity_split=None,\n",
              "                                             min_samples_leaf=1,\n",
              "                                             min_samples_split=2,\n",
              "                                             min_weight_fraction_leaf=0.0,\n",
              "                                             n_estimators=100, n_jobs=None,\n",
              "                                             oob_score=False, random_state=42,\n",
              "                                             verbose=0, warm_start=False),\n",
              "             iid='deprecated', n_jobs=-1,\n",
              "             param_grid={'max_depth': [1, 2, 3, 4, 5, 6, 7, 8, 9],\n",
              "                         'max_features': [3, 5, 10, 15],\n",
              "                         'n_estimators': [100, 200, 500, 1000, 2000]},\n",
              "             pre_dispatch='2*n_jobs', refit=True, return_train_score=False,\n",
              "             scoring=None, verbose=0)"
            ]
          },
          "metadata": {
            "tags": []
          },
          "execution_count": 68
        }
      ]
    },
    {
      "cell_type": "code",
      "metadata": {
        "id": "kSOFVFaf0Ppp",
        "colab": {
          "base_uri": "https://localhost:8080/"
        },
        "outputId": "b6e4c7d7-ab5a-409d-cd1e-3a4f968b9778"
      },
      "source": [
        "rf_cv_model.best_params_"
      ],
      "execution_count": null,
      "outputs": [
        {
          "output_type": "execute_result",
          "data": {
            "text/plain": [
              "{'max_depth': 8, 'max_features': 3, 'n_estimators': 200}"
            ]
          },
          "metadata": {
            "tags": []
          },
          "execution_count": 69
        }
      ]
    },
    {
      "cell_type": "code",
      "metadata": {
        "id": "19ZAzHUA0Ppq"
      },
      "source": [
        "rf_tuned = RandomForestRegressor(max_depth  = 8, \n",
        "                                 max_features = 3, \n",
        "                                 n_estimators =200)"
      ],
      "execution_count": null,
      "outputs": []
    },
    {
      "cell_type": "code",
      "metadata": {
        "id": "Xos3DokD0Ppr",
        "colab": {
          "base_uri": "https://localhost:8080/"
        },
        "outputId": "dde86149-75ec-40b7-ec33-847d6b8c9d93"
      },
      "source": [
        "rf_tuned.fit(X_train, y_train)"
      ],
      "execution_count": null,
      "outputs": [
        {
          "output_type": "execute_result",
          "data": {
            "text/plain": [
              "RandomForestRegressor(bootstrap=True, ccp_alpha=0.0, criterion='mse',\n",
              "                      max_depth=8, max_features=3, max_leaf_nodes=None,\n",
              "                      max_samples=None, min_impurity_decrease=0.0,\n",
              "                      min_impurity_split=None, min_samples_leaf=1,\n",
              "                      min_samples_split=2, min_weight_fraction_leaf=0.0,\n",
              "                      n_estimators=200, n_jobs=None, oob_score=False,\n",
              "                      random_state=None, verbose=0, warm_start=False)"
            ]
          },
          "metadata": {
            "tags": []
          },
          "execution_count": 71
        }
      ]
    },
    {
      "cell_type": "code",
      "metadata": {
        "id": "-iiqKSDZ0Ppr"
      },
      "source": [
        "y_pred = rf_tuned.predict(X_test)"
      ],
      "execution_count": null,
      "outputs": []
    },
    {
      "cell_type": "code",
      "metadata": {
        "id": "HOFDdhTk0Pps",
        "colab": {
          "base_uri": "https://localhost:8080/"
        },
        "outputId": "4f05f32e-05a6-421b-a2dd-d40a3d6c545a"
      },
      "source": [
        "np.sqrt(mean_squared_error(y_test, y_pred))"
      ],
      "execution_count": null,
      "outputs": [
        {
          "output_type": "execute_result",
          "data": {
            "text/plain": [
              "347.4354506235962"
            ]
          },
          "metadata": {
            "tags": []
          },
          "execution_count": 73
        }
      ]
    },
    {
      "cell_type": "code",
      "metadata": {
        "id": "O6ZxE2ds0Pps"
      },
      "source": [
        "#Her bir değişkenin modeldeki etkisini görmek için\n",
        "Importance = pd.DataFrame({\"Importance\": rf_tuned.feature_importances_*100},\n",
        "                         index = X_train.columns)"
      ],
      "execution_count": null,
      "outputs": []
    },
    {
      "cell_type": "code",
      "metadata": {
        "id": "-eQeqsjG0Ppt",
        "colab": {
          "base_uri": "https://localhost:8080/",
          "height": 297
        },
        "outputId": "af57aaed-60ca-4cdf-fb82-33d04dcfbf3e"
      },
      "source": [
        "Importance.sort_values(by = \"Importance\", \n",
        "                       axis = 0, \n",
        "                       ascending = True).plot(kind =\"barh\", color = \"r\")\n",
        "\n",
        "plt.xlabel(\"Değişken Önem Düzeyleri\")"
      ],
      "execution_count": null,
      "outputs": [
        {
          "output_type": "execute_result",
          "data": {
            "text/plain": [
              "Text(0.5, 0, 'Değişken Önem Düzeyleri')"
            ]
          },
          "metadata": {
            "tags": []
          },
          "execution_count": 79
        },
        {
          "output_type": "display_data",
          "data": {
            "image/png": "[encoded data removed]",
            "text/plain": [
              "<Figure size 432x288 with 1 Axes>"
            ]
          },
          "metadata": {
            "tags": [],
            "needs_background": "light"
          }
        }
      ]
    },
    {
      "cell_type": "markdown",
      "metadata": {
        "id": "OylWuZYt0Ppt"
      },
      "source": [
        "# Gradient Boosting Machines"
      ]
    },
    {
      "cell_type": "code",
      "metadata": {
        "id": "7Hg35k6P0Ppt"
      },
      "source": [
        "from sklearn.ensemble import GradientBoostingRegressor"
      ],
      "execution_count": 2,
      "outputs": []
    },
    {
      "cell_type": "code",
      "metadata": {
        "id": "cR9exgWg0Ppu",
        "colab": {
          "base_uri": "https://localhost:8080/"
        },
        "outputId": "ba0bbe9e-8760-451f-e377-cf1727ef67a0"
      },
      "source": [
        "gbm_model = GradientBoostingRegressor()\n",
        "gbm_model.fit(X_train, y_train)"
      ],
      "execution_count": 8,
      "outputs": [
        {
          "output_type": "execute_result",
          "data": {
            "text/plain": [
              "GradientBoostingRegressor(alpha=0.9, ccp_alpha=0.0, criterion='friedman_mse',\n",
              "                          init=None, learning_rate=0.1, loss='ls', max_depth=3,\n",
              "                          max_features=None, max_leaf_nodes=None,\n",
              "                          min_impurity_decrease=0.0, min_impurity_split=None,\n",
              "                          min_samples_leaf=1, min_samples_split=2,\n",
              "                          min_weight_fraction_leaf=0.0, n_estimators=100,\n",
              "                          n_iter_no_change=None, presort='deprecated',\n",
              "                          random_state=None, subsample=1.0, tol=0.0001,\n",
              "                          validation_fraction=0.1, verbose=0, warm_start=False)"
            ]
          },
          "metadata": {
            "tags": []
          },
          "execution_count": 8
        }
      ]
    },
    {
      "cell_type": "markdown",
      "metadata": {
        "id": "5VZSaavC0Ppv"
      },
      "source": [
        "## Tahmin"
      ]
    },
    {
      "cell_type": "code",
      "metadata": {
        "id": "ILCg_Le_0Ppv",
        "colab": {
          "base_uri": "https://localhost:8080/"
        },
        "outputId": "6e0c0ac8-7a23-412f-e2a1-20aaf659c83f"
      },
      "source": [
        "y_pred = gbm_model.predict(X_test)\n",
        "np.sqrt(mean_squared_error(y_test, y_pred))"
      ],
      "execution_count": 9,
      "outputs": [
        {
          "output_type": "execute_result",
          "data": {
            "text/plain": [
              "344.8067902966062"
            ]
          },
          "metadata": {
            "tags": []
          },
          "execution_count": 9
        }
      ]
    },
    {
      "cell_type": "markdown",
      "metadata": {
        "id": "0AJjC-an0Ppw"
      },
      "source": [
        "## Model Tuning"
      ]
    },
    {
      "cell_type": "code",
      "metadata": {
        "id": "xQSyLEUZ0Ppw"
      },
      "source": [
        "gbm_params = {\n",
        "    'learning_rate': [0.001, 0.01, 0.1, 0.2],\n",
        "    'max_depth': [3, 5, 8,50,100],\n",
        "    'n_estimators': [200, 500, 1000, 2000],\n",
        "    'subsample': [1,0.5,0.75],\n",
        "}"
      ],
      "execution_count": 10,
      "outputs": []
    },
    {
      "cell_type": "code",
      "metadata": {
        "id": "Cap2cJ_k0Ppx",
        "colab": {
          "base_uri": "https://localhost:8080/"
        },
        "outputId": "ac5c3f8a-193c-4de5-e283-671093892654"
      },
      "source": [
        "gbm = GradientBoostingRegressor()\n",
        "gbm_cv_model = GridSearchCV(gbm, gbm_params, cv = 10, n_jobs = -1, verbose = 2)\n",
        "gbm_cv_model.fit(X_train, y_train)"
      ],
      "execution_count": 11,
      "outputs": [
        {
          "output_type": "stream",
          "text": [
            "Fitting 10 folds for each of 240 candidates, totalling 2400 fits\n"
          ],
          "name": "stdout"
        },
        {
          "output_type": "stream",
          "text": [
            "[Parallel(n_jobs=-1)]: Using backend LokyBackend with 2 concurrent workers.\n",
            "[Parallel(n_jobs=-1)]: Done  37 tasks      | elapsed:    7.9s\n",
            "[Parallel(n_jobs=-1)]: Done 158 tasks      | elapsed:  1.4min\n",
            "[Parallel(n_jobs=-1)]: Done 361 tasks      | elapsed:  5.0min\n",
            "[Parallel(n_jobs=-1)]: Done 644 tasks      | elapsed: 10.0min\n",
            "[Parallel(n_jobs=-1)]: Done 1009 tasks      | elapsed: 15.0min\n",
            "[Parallel(n_jobs=-1)]: Done 1454 tasks      | elapsed: 22.1min\n",
            "[Parallel(n_jobs=-1)]: Done 1981 tasks      | elapsed: 26.1min\n",
            "[Parallel(n_jobs=-1)]: Done 2400 out of 2400 | elapsed: 28.8min finished\n"
          ],
          "name": "stderr"
        },
        {
          "output_type": "execute_result",
          "data": {
            "text/plain": [
              "GridSearchCV(cv=10, error_score=nan,\n",
              "             estimator=GradientBoostingRegressor(alpha=0.9, ccp_alpha=0.0,\n",
              "                                                 criterion='friedman_mse',\n",
              "                                                 init=None, learning_rate=0.1,\n",
              "                                                 loss='ls', max_depth=3,\n",
              "                                                 max_features=None,\n",
              "                                                 max_leaf_nodes=None,\n",
              "                                                 min_impurity_decrease=0.0,\n",
              "                                                 min_impurity_split=None,\n",
              "                                                 min_samples_leaf=1,\n",
              "                                                 min_samples_split=2,\n",
              "                                                 min_weight_fraction_leaf=0.0,\n",
              "                                                 n_estimators=100,\n",
              "                                                 n_iter_...\n",
              "                                                 presort='deprecated',\n",
              "                                                 random_state=None,\n",
              "                                                 subsample=1.0, tol=0.0001,\n",
              "                                                 validation_fraction=0.1,\n",
              "                                                 verbose=0, warm_start=False),\n",
              "             iid='deprecated', n_jobs=-1,\n",
              "             param_grid={'learning_rate': [0.001, 0.01, 0.1, 0.2],\n",
              "                         'max_depth': [3, 5, 8, 50, 100],\n",
              "                         'n_estimators': [200, 500, 1000, 2000],\n",
              "                         'subsample': [1, 0.5, 0.75]},\n",
              "             pre_dispatch='2*n_jobs', refit=True, return_train_score=False,\n",
              "             scoring=None, verbose=2)"
            ]
          },
          "metadata": {
            "tags": []
          },
          "execution_count": 11
        }
      ]
    },
    {
      "cell_type": "code",
      "metadata": {
        "id": "USVZbJ890Ppx",
        "colab": {
          "base_uri": "https://localhost:8080/"
        },
        "outputId": "2805e666-2892-4776-98c4-685b6d53fdab"
      },
      "source": [
        "gbm_cv_model.best_params_"
      ],
      "execution_count": 53,
      "outputs": [
        {
          "output_type": "execute_result",
          "data": {
            "text/plain": [
              "{'learning_rate': 0.1, 'max_depth': 3, 'n_estimators': 1000, 'subsample': 0.75}"
            ]
          },
          "metadata": {
            "tags": []
          },
          "execution_count": 53
        }
      ]
    },
    {
      "cell_type": "code",
      "metadata": {
        "id": "8Ob6OBge0Ppx"
      },
      "source": [
        "#Bazen algoritma ve veri yapısını tanıyım hangi değerin en iyi geliceğini kendin de düşünebilirsin.\n",
        "gbm_tuned = GradientBoostingRegressor(learning_rate = 0.1,  \n",
        "                                      max_depth = 3, \n",
        "                                      n_estimators = 1000, \n",
        "                                      subsample = 0.75)\n",
        "\n",
        "gbm_tuned = gbm_tuned.fit(X_train,y_train)"
      ],
      "execution_count": 67,
      "outputs": []
    },
    {
      "cell_type": "code",
      "metadata": {
        "id": "emaNAmgg0Ppy",
        "colab": {
          "base_uri": "https://localhost:8080/"
        },
        "outputId": "b1864c96-ce5e-48a7-a07b-99c51560a7c1"
      },
      "source": [
        "y_pred = gbm_tuned.predict(X_test)\n",
        "np.sqrt(mean_squared_error(y_test, y_pred))"
      ],
      "execution_count": 68,
      "outputs": [
        {
          "output_type": "execute_result",
          "data": {
            "text/plain": [
              "339.1576165629048"
            ]
          },
          "metadata": {
            "tags": []
          },
          "execution_count": 68
        }
      ]
    },
    {
      "cell_type": "code",
      "metadata": {
        "id": "jGhFlwow0Ppz"
      },
      "source": [
        "Importance = pd.DataFrame({\"Importance\": gbm_tuned.feature_importances_*100},\n",
        "                         index = X_train.columns)"
      ],
      "execution_count": 21,
      "outputs": []
    },
    {
      "cell_type": "code",
      "metadata": {
        "id": "iknmGdoI0Ppz",
        "colab": {
          "base_uri": "https://localhost:8080/",
          "height": 297
        },
        "outputId": "0cf962fd-af5b-4049-ccb8-79912ec4c6ab"
      },
      "source": [
        "Importance.sort_values(by = \"Importance\", \n",
        "                       axis = 0, \n",
        "                       ascending = True).plot(kind =\"barh\", color = \"r\")\n",
        "\n",
        "plt.xlabel(\"Değişken Önem Düzeyleri\")"
      ],
      "execution_count": 22,
      "outputs": [
        {
          "output_type": "execute_result",
          "data": {
            "text/plain": [
              "Text(0.5, 0, 'Değişken Önem Düzeyleri')"
            ]
          },
          "metadata": {
            "tags": []
          },
          "execution_count": 22
        },
        {
          "output_type": "display_data",
          "data": {
            "image/png": "[encoded data removed]",
            "text/plain": [
              "<Figure size 432x288 with 1 Axes>"
            ]
          },
          "metadata": {
            "tags": [],
            "needs_background": "light"
          }
        }
      ]
    },
    {
      "cell_type": "markdown",
      "metadata": {
        "id": "KuPWGsX50Pp0"
      },
      "source": [
        "# XGBoost"
      ]
    },
    {
      "cell_type": "code",
      "metadata": {
        "id": "ilt7WMv70Pp0"
      },
      "source": [
        "hit = pd.read_csv(\"Hitters.csv\")\n",
        "df = hit.copy()\n",
        "df = df.dropna()\n",
        "dms = pd.get_dummies(df[['League', 'Division', 'NewLeague']])\n",
        "y = df[\"Salary\"]\n",
        "X_ = df.drop(['Salary', 'League', 'Division', 'NewLeague'], axis=1).astype('float64')\n",
        "X = pd.concat([X_, dms[['League_N', 'Division_W', 'NewLeague_N']]], axis=1)\n",
        "X_train, X_test, y_train, y_test = train_test_split(X, y, \n",
        "                                                    test_size=0.25, \n",
        "                                                    random_state=42)\n"
      ],
      "execution_count": 23,
      "outputs": []
    },
    {
      "cell_type": "code",
      "metadata": {
        "id": "VqTODRPq0Pp0",
        "colab": {
          "base_uri": "https://localhost:8080/"
        },
        "outputId": "81e4d323-c8dc-47d6-ca66-d5accb542533"
      },
      "source": [
        "#\n",
        "!pip install xgboost"
      ],
      "execution_count": 24,
      "outputs": [
        {
          "output_type": "stream",
          "text": [
            "Requirement already satisfied: xgboost in /usr/local/lib/python3.7/dist-packages (0.90)\n",
            "Requirement already satisfied: numpy in /usr/local/lib/python3.7/dist-packages (from xgboost) (1.19.5)\n",
            "Requirement already satisfied: scipy in /usr/local/lib/python3.7/dist-packages (from xgboost) (1.4.1)\n"
          ],
          "name": "stdout"
        }
      ]
    },
    {
      "cell_type": "code",
      "metadata": {
        "id": "sY5FnAtf0Pp1"
      },
      "source": [
        "import xgboost as xgb"
      ],
      "execution_count": 25,
      "outputs": []
    },
    {
      "cell_type": "code",
      "metadata": {
        "id": "bSm9AN570Pp1"
      },
      "source": [
        "DM_train = xgb.DMatrix(data = X_train, label = y_train)\n",
        "DM_test = xgb.DMatrix(data = X_test, label = y_test)"
      ],
      "execution_count": 26,
      "outputs": []
    },
    {
      "cell_type": "code",
      "metadata": {
        "id": "C3SJDmc10Pp2"
      },
      "source": [
        "from xgboost import XGBRegressor"
      ],
      "execution_count": 27,
      "outputs": []
    },
    {
      "cell_type": "code",
      "metadata": {
        "id": "7pU0w3Zt0Pp2",
        "colab": {
          "base_uri": "https://localhost:8080/"
        },
        "outputId": "8afe2f4c-d556-4393-94ce-f949ba7d56b0"
      },
      "source": [
        "xgb_model = XGBRegressor().fit(X_train, y_train)"
      ],
      "execution_count": 28,
      "outputs": [
        {
          "output_type": "stream",
          "text": [
            "[10:30:32] WARNING: /workspace/src/objective/regression_obj.cu:152: reg:linear is now deprecated in favor of reg:squarederror.\n"
          ],
          "name": "stdout"
        }
      ]
    },
    {
      "cell_type": "markdown",
      "metadata": {
        "id": "T2QWcaBA0Pp2"
      },
      "source": [
        "## Tahmin"
      ]
    },
    {
      "cell_type": "code",
      "metadata": {
        "id": "jIofwasx0Pp3",
        "colab": {
          "base_uri": "https://localhost:8080/"
        },
        "outputId": "d171e0be-5ef5-4d8f-c4dd-64ba0403fce6"
      },
      "source": [
        "y_pred = xgb_model.predict(X_test)\n",
        "np.sqrt(mean_squared_error(y_test, y_pred))"
      ],
      "execution_count": 29,
      "outputs": [
        {
          "output_type": "execute_result",
          "data": {
            "text/plain": [
              "359.91750599447033"
            ]
          },
          "metadata": {
            "tags": []
          },
          "execution_count": 29
        }
      ]
    },
    {
      "cell_type": "markdown",
      "metadata": {
        "id": "-YMsi8mB0Pp3"
      },
      "source": [
        "## Model Tuning"
      ]
    },
    {
      "cell_type": "code",
      "metadata": {
        "id": "HWsVK9ZB0Pp4",
        "colab": {
          "base_uri": "https://localhost:8080/"
        },
        "outputId": "ffaba3eb-a917-4318-917a-b39486437d55"
      },
      "source": [
        "xgb_model"
      ],
      "execution_count": 69,
      "outputs": [
        {
          "output_type": "execute_result",
          "data": {
            "text/plain": [
              "XGBRegressor(base_score=0.5, booster='gbtree', colsample_bylevel=1,\n",
              "             colsample_bynode=1, colsample_bytree=1, gamma=0,\n",
              "             importance_type='gain', learning_rate=0.1, max_delta_step=0,\n",
              "             max_depth=3, min_child_weight=1, missing=None, n_estimators=100,\n",
              "             n_jobs=1, nthread=None, objective='reg:linear', random_state=0,\n",
              "             reg_alpha=0, reg_lambda=1, scale_pos_weight=1, seed=None,\n",
              "             silent=None, subsample=1, verbosity=1)"
            ]
          },
          "metadata": {
            "tags": []
          },
          "execution_count": 69
        }
      ]
    },
    {
      "cell_type": "code",
      "metadata": {
        "id": "AeCRPdGw0Pp4"
      },
      "source": [
        "xgb_grid = {\n",
        "     'colsample_bytree': [0.4, 0.5,0.6,0.9,1], \n",
        "     'n_estimators':[100, 200, 500, 1000],\n",
        "     'max_depth': [2,3,4,5,6],\n",
        "     'learning_rate': [0.1, 0.01, 0.5]\n",
        "}\n"
      ],
      "execution_count": 70,
      "outputs": []
    },
    {
      "cell_type": "code",
      "metadata": {
        "id": "LSF9VkT80Pp5",
        "colab": {
          "base_uri": "https://localhost:8080/"
        },
        "outputId": "38a1d913-3e9a-45d2-f160-89729d9b5f0c"
      },
      "source": [
        "xgb = XGBRegressor()\n",
        "\n",
        "xgb_cv = GridSearchCV(xgb, \n",
        "                      param_grid = xgb_grid, \n",
        "                      cv = 10, \n",
        "                      n_jobs = -1,\n",
        "                      verbose = 2)\n",
        "\n",
        "\n",
        "xgb_cv.fit(X_train, y_train)"
      ],
      "execution_count": 71,
      "outputs": [
        {
          "output_type": "stream",
          "text": [
            "Fitting 10 folds for each of 300 candidates, totalling 3000 fits\n"
          ],
          "name": "stdout"
        },
        {
          "output_type": "stream",
          "text": [
            "[Parallel(n_jobs=-1)]: Using backend LokyBackend with 2 concurrent workers.\n",
            "[Parallel(n_jobs=-1)]: Done  86 tasks      | elapsed:    6.0s\n",
            "[Parallel(n_jobs=-1)]: Done 570 tasks      | elapsed:   40.3s\n",
            "[Parallel(n_jobs=-1)]: Done 1260 tasks      | elapsed:  1.5min\n",
            "[Parallel(n_jobs=-1)]: Done 1982 tasks      | elapsed:  2.6min\n",
            "[Parallel(n_jobs=-1)]: Done 2670 tasks      | elapsed:  3.8min\n"
          ],
          "name": "stderr"
        },
        {
          "output_type": "stream",
          "text": [
            "[10:43:04] WARNING: /workspace/src/objective/regression_obj.cu:152: reg:linear is now deprecated in favor of reg:squarederror.\n"
          ],
          "name": "stdout"
        },
        {
          "output_type": "stream",
          "text": [
            "[Parallel(n_jobs=-1)]: Done 3000 out of 3000 | elapsed:  4.5min finished\n"
          ],
          "name": "stderr"
        },
        {
          "output_type": "execute_result",
          "data": {
            "text/plain": [
              "GridSearchCV(cv=10, error_score=nan,\n",
              "             estimator=XGBRegressor(base_score=0.5, booster='gbtree',\n",
              "                                    colsample_bylevel=1, colsample_bynode=1,\n",
              "                                    colsample_bytree=1, gamma=0,\n",
              "                                    importance_type='gain', learning_rate=0.1,\n",
              "                                    max_delta_step=0, max_depth=3,\n",
              "                                    min_child_weight=1, missing=None,\n",
              "                                    n_estimators=100, n_jobs=1, nthread=None,\n",
              "                                    objective='reg:linear', random_state=0,\n",
              "                                    reg_alpha=0, reg_lambda=1,\n",
              "                                    scale_pos_weight=1, seed=None, silent=None,\n",
              "                                    subsample=1, verbosity=1),\n",
              "             iid='deprecated', n_jobs=-1,\n",
              "             param_grid={'colsample_bytree': [0.4, 0.5, 0.6, 0.9, 1],\n",
              "                         'learning_rate': [0.1, 0.01, 0.5],\n",
              "                         'max_depth': [2, 3, 4, 5, 6],\n",
              "                         'n_estimators': [100, 200, 500, 1000]},\n",
              "             pre_dispatch='2*n_jobs', refit=True, return_train_score=False,\n",
              "             scoring=None, verbose=2)"
            ]
          },
          "metadata": {
            "tags": []
          },
          "execution_count": 71
        }
      ]
    },
    {
      "cell_type": "code",
      "metadata": {
        "id": "GDFjiStr0Pp5",
        "colab": {
          "base_uri": "https://localhost:8080/"
        },
        "outputId": "f5dacff5-d570-423b-bbb4-c64a8af374cd"
      },
      "source": [
        "xgb_cv.best_params_"
      ],
      "execution_count": 72,
      "outputs": [
        {
          "output_type": "execute_result",
          "data": {
            "text/plain": [
              "{'colsample_bytree': 0.6,\n",
              " 'learning_rate': 0.1,\n",
              " 'max_depth': 2,\n",
              " 'n_estimators': 1000}"
            ]
          },
          "metadata": {
            "tags": []
          },
          "execution_count": 72
        }
      ]
    },
    {
      "cell_type": "code",
      "metadata": {
        "id": "csQS7mxf0Pp6",
        "colab": {
          "base_uri": "https://localhost:8080/"
        },
        "outputId": "e337b125-02fd-4ebf-e096-d38dbd64f437"
      },
      "source": [
        "xgb_tuned = XGBRegressor(colsample_bytree = 0.6, \n",
        "                         learning_rate = 0.1, \n",
        "                         max_depth = 2, \n",
        "                         n_estimators = 1000) \n",
        "\n",
        "xgb_tuned = xgb_tuned.fit(X_train,y_train)"
      ],
      "execution_count": 73,
      "outputs": [
        {
          "output_type": "stream",
          "text": [
            "[10:43:25] WARNING: /workspace/src/objective/regression_obj.cu:152: reg:linear is now deprecated in favor of reg:squarederror.\n"
          ],
          "name": "stdout"
        }
      ]
    },
    {
      "cell_type": "code",
      "metadata": {
        "id": "vjj9KTAa0Pp7",
        "colab": {
          "base_uri": "https://localhost:8080/"
        },
        "outputId": "7b4be1d3-5fbe-4bc8-80cf-c64d225778a6"
      },
      "source": [
        "y_pred = xgb_tuned.predict(X_test)\n",
        "np.sqrt(mean_squared_error(y_test, y_pred))"
      ],
      "execution_count": 74,
      "outputs": [
        {
          "output_type": "execute_result",
          "data": {
            "text/plain": [
              "355.0512895885908"
            ]
          },
          "metadata": {
            "tags": []
          },
          "execution_count": 74
        }
      ]
    },
    {
      "cell_type": "markdown",
      "metadata": {
        "id": "LrdzJHb30Pp8"
      },
      "source": [
        "# Light GBM"
      ]
    },
    {
      "cell_type": "code",
      "metadata": {
        "id": "ig9reNan0Pp8"
      },
      "source": [
        "hit = pd.read_csv(\"Hitters.csv\")\n",
        "df = hit.copy()\n",
        "df = df.dropna()\n",
        "dms = pd.get_dummies(df[['League', 'Division', 'NewLeague']])\n",
        "y = df[\"Salary\"]\n",
        "X_ = df.drop(['Salary', 'League', 'Division', 'NewLeague'], axis=1).astype('float64')\n",
        "X = pd.concat([X_, dms[['League_N', 'Division_W', 'NewLeague_N']]], axis=1)\n",
        "X_train, X_test, y_train, y_test = train_test_split(X, y, \n",
        "                                                    test_size=0.25, \n",
        "                                                    random_state=42)\n"
      ],
      "execution_count": 75,
      "outputs": []
    },
    {
      "cell_type": "code",
      "metadata": {
        "id": "P0uO_IkS0Pp9",
        "colab": {
          "base_uri": "https://localhost:8080/"
        },
        "outputId": "e748ed08-acf8-4816-906c-bc8ef8f8e408"
      },
      "source": [
        "#\n",
        "!pip install lightgbm"
      ],
      "execution_count": 76,
      "outputs": [
        {
          "output_type": "stream",
          "text": [
            "Requirement already satisfied: lightgbm in /usr/local/lib/python3.7/dist-packages (2.2.3)\n",
            "Requirement already satisfied: numpy in /usr/local/lib/python3.7/dist-packages (from lightgbm) (1.19.5)\n",
            "Requirement already satisfied: scipy in /usr/local/lib/python3.7/dist-packages (from lightgbm) (1.4.1)\n",
            "Requirement already satisfied: scikit-learn in /usr/local/lib/python3.7/dist-packages (from lightgbm) (0.22.2.post1)\n",
            "Requirement already satisfied: joblib>=0.11 in /usr/local/lib/python3.7/dist-packages (from scikit-learn->lightgbm) (1.0.1)\n"
          ],
          "name": "stdout"
        }
      ]
    },
    {
      "cell_type": "code",
      "metadata": {
        "id": "mft_BgcH0Pp-"
      },
      "source": [
        "from lightgbm import LGBMRegressor"
      ],
      "execution_count": 77,
      "outputs": []
    },
    {
      "cell_type": "code",
      "metadata": {
        "id": "LeZ9O0qF0Pp_"
      },
      "source": [
        "Ligth GBM yüklenirken hata veriyorsa\n",
        "#conda install -c conda-forge lightgbm"
      ],
      "execution_count": null,
      "outputs": []
    },
    {
      "cell_type": "code",
      "metadata": {
        "id": "uMnuOuE30Pp_"
      },
      "source": [
        "from lightgbm import LGBMRegressor"
      ],
      "execution_count": null,
      "outputs": []
    },
    {
      "cell_type": "code",
      "metadata": {
        "id": "wH8HG9US0Pp_"
      },
      "source": [
        "lgbm = LGBMRegressor()\n",
        "lgbm_model = lgbm.fit(X_train, y_train)"
      ],
      "execution_count": 78,
      "outputs": []
    },
    {
      "cell_type": "markdown",
      "metadata": {
        "id": "BfIr0iQ70PqA"
      },
      "source": [
        "## Tahmin"
      ]
    },
    {
      "cell_type": "code",
      "metadata": {
        "id": "wizXMIN80PqA"
      },
      "source": [
        "y_pred = lgbm_model.predict(X_test, \n",
        "                            num_iteration = lgbm_model.best_iteration_)"
      ],
      "execution_count": 79,
      "outputs": []
    },
    {
      "cell_type": "code",
      "metadata": {
        "id": "fijDNfS60PqB",
        "colab": {
          "base_uri": "https://localhost:8080/"
        },
        "outputId": "77f68781-23ea-40dc-93de-8508078864a8"
      },
      "source": [
        "np.sqrt(mean_squared_error(y_test, y_pred))"
      ],
      "execution_count": 80,
      "outputs": [
        {
          "output_type": "execute_result",
          "data": {
            "text/plain": [
              "363.8712087611089"
            ]
          },
          "metadata": {
            "tags": []
          },
          "execution_count": 80
        }
      ]
    },
    {
      "cell_type": "markdown",
      "metadata": {
        "id": "9QzsMCer0PqB"
      },
      "source": [
        "## Model Tuning"
      ]
    },
    {
      "cell_type": "code",
      "metadata": {
        "id": "b4fe14e60PqB",
        "colab": {
          "base_uri": "https://localhost:8080/"
        },
        "outputId": "46716473-3907-4a1d-9b63-137bcb809524"
      },
      "source": [
        "lgbm_model"
      ],
      "execution_count": 81,
      "outputs": [
        {
          "output_type": "execute_result",
          "data": {
            "text/plain": [
              "LGBMRegressor(boosting_type='gbdt', class_weight=None, colsample_bytree=1.0,\n",
              "              importance_type='split', learning_rate=0.1, max_depth=-1,\n",
              "              min_child_samples=20, min_child_weight=0.001, min_split_gain=0.0,\n",
              "              n_estimators=100, n_jobs=-1, num_leaves=31, objective=None,\n",
              "              random_state=None, reg_alpha=0.0, reg_lambda=0.0, silent=True,\n",
              "              subsample=1.0, subsample_for_bin=200000, subsample_freq=0)"
            ]
          },
          "metadata": {
            "tags": []
          },
          "execution_count": 81
        }
      ]
    },
    {
      "cell_type": "code",
      "metadata": {
        "id": "mKjUE7nj0PqC"
      },
      "source": [
        "lgbm_grid = {\n",
        "    'colsample_bytree': [0.4, 0.5,0.6,0.9,1],\n",
        "    'learning_rate': [0.01, 0.1, 0.5,1],\n",
        "    'n_estimators': [20, 40, 100, 200, 500,1000],\n",
        "    'max_depth': [1,2,3,4,5,6,7,8] }\n",
        "\n",
        "lgbm = LGBMRegressor()\n",
        "lgbm_cv_model = GridSearchCV(lgbm, lgbm_grid, cv=10, n_jobs = -1, verbose = 2)"
      ],
      "execution_count": 83,
      "outputs": []
    },
    {
      "cell_type": "code",
      "metadata": {
        "id": "qny3wltI0PqC",
        "colab": {
          "base_uri": "https://localhost:8080/"
        },
        "outputId": "ee094c73-1007-455a-8579-593d8667d80a"
      },
      "source": [
        "lgbm_cv_model.fit(X_train, y_train)"
      ],
      "execution_count": 84,
      "outputs": [
        {
          "output_type": "stream",
          "text": [
            "Fitting 10 folds for each of 960 candidates, totalling 9600 fits\n"
          ],
          "name": "stdout"
        },
        {
          "output_type": "stream",
          "text": [
            "[Parallel(n_jobs=-1)]: Using backend LokyBackend with 2 concurrent workers.\n",
            "[Parallel(n_jobs=-1)]: Done 144 tasks      | elapsed:    4.1s\n",
            "[Parallel(n_jobs=-1)]: Done 1112 tasks      | elapsed:   34.2s\n",
            "[Parallel(n_jobs=-1)]: Done 2736 tasks      | elapsed:  1.4min\n",
            "[Parallel(n_jobs=-1)]: Done 5000 tasks      | elapsed:  2.7min\n",
            "[Parallel(n_jobs=-1)]: Done 7920 tasks      | elapsed:  4.6min\n",
            "[Parallel(n_jobs=-1)]: Done 9600 out of 9600 | elapsed:  5.8min finished\n"
          ],
          "name": "stderr"
        },
        {
          "output_type": "execute_result",
          "data": {
            "text/plain": [
              "GridSearchCV(cv=10, error_score=nan,\n",
              "             estimator=LGBMRegressor(boosting_type='gbdt', class_weight=None,\n",
              "                                     colsample_bytree=1.0,\n",
              "                                     importance_type='split', learning_rate=0.1,\n",
              "                                     max_depth=-1, min_child_samples=20,\n",
              "                                     min_child_weight=0.001, min_split_gain=0.0,\n",
              "                                     n_estimators=100, n_jobs=-1, num_leaves=31,\n",
              "                                     objective=None, random_state=None,\n",
              "                                     reg_alpha=0.0, reg_lambda=0.0, silent=True,\n",
              "                                     subsample=1.0, subsample_for_bin=200000,\n",
              "                                     subsample_freq=0),\n",
              "             iid='deprecated', n_jobs=-1,\n",
              "             param_grid={'colsample_bytree': [0.4, 0.5, 0.6, 0.9, 1],\n",
              "                         'learning_rate': [0.01, 0.1, 0.5, 1],\n",
              "                         'max_depth': [1, 2, 3, 4, 5, 6, 7, 8],\n",
              "                         'n_estimators': [20, 40, 100, 200, 500, 1000]},\n",
              "             pre_dispatch='2*n_jobs', refit=True, return_train_score=False,\n",
              "             scoring=None, verbose=2)"
            ]
          },
          "metadata": {
            "tags": []
          },
          "execution_count": 84
        }
      ]
    },
    {
      "cell_type": "code",
      "metadata": {
        "id": "eyX5AU-T0PqC",
        "colab": {
          "base_uri": "https://localhost:8080/"
        },
        "outputId": "bbd77813-d557-46e1-b25e-7a8075c0ca7d"
      },
      "source": [
        "lgbm_cv_model.best_params_"
      ],
      "execution_count": 85,
      "outputs": [
        {
          "output_type": "execute_result",
          "data": {
            "text/plain": [
              "{'colsample_bytree': 0.4,\n",
              " 'learning_rate': 0.1,\n",
              " 'max_depth': 6,\n",
              " 'n_estimators': 20}"
            ]
          },
          "metadata": {
            "tags": []
          },
          "execution_count": 85
        }
      ]
    },
    {
      "cell_type": "code",
      "metadata": {
        "id": "RvE_Gw9T0PqF"
      },
      "source": [
        "lgbm_tuned = LGBMRegressor(learning_rate = 0.1, \n",
        "                           max_depth = 6, \n",
        "                           n_estimators = 20,\n",
        "                          colsample_bytree = 0.4)\n",
        "\n",
        "lgbm_tuned = lgbm_tuned.fit(X_train,y_train)"
      ],
      "execution_count": 86,
      "outputs": []
    },
    {
      "cell_type": "code",
      "metadata": {
        "id": "msQOYqc60PqF"
      },
      "source": [
        "y_pred = lgbm_tuned.predict(X_test)"
      ],
      "execution_count": 87,
      "outputs": []
    },
    {
      "cell_type": "code",
      "metadata": {
        "id": "v3jmAfOf0PqF",
        "colab": {
          "base_uri": "https://localhost:8080/"
        },
        "outputId": "03d69ff1-0eee-4e62-b115-18171df4d116"
      },
      "source": [
        "np.sqrt(mean_squared_error(y_test, y_pred))"
      ],
      "execution_count": 88,
      "outputs": [
        {
          "output_type": "execute_result",
          "data": {
            "text/plain": [
              "378.960437342183"
            ]
          },
          "metadata": {
            "tags": []
          },
          "execution_count": 88
        }
      ]
    },
    {
      "cell_type": "markdown",
      "metadata": {
        "id": "UHbPhGrb0PqG"
      },
      "source": [
        "# CatBoost"
      ]
    },
    {
      "cell_type": "code",
      "metadata": {
        "id": "a-qaZa5u0PqG"
      },
      "source": [
        "hit = pd.read_csv(\"Hitters.csv\")\n",
        "df = hit.copy()\n",
        "df = df.dropna()\n",
        "dms = pd.get_dummies(df[['League', 'Division', 'NewLeague']])\n",
        "y = df[\"Salary\"]\n",
        "X_ = df.drop(['Salary', 'League', 'Division', 'NewLeague'], axis=1).astype('float64')\n",
        "X = pd.concat([X_, dms[['League_N', 'Division_W', 'NewLeague_N']]], axis=1)\n",
        "X_train, X_test, y_train, y_test = train_test_split(X, y, \n",
        "                                                    test_size=0.25, \n",
        "                                                    random_state=42)\n"
      ],
      "execution_count": 89,
      "outputs": []
    },
    {
      "cell_type": "code",
      "metadata": {
        "id": "YqrCaZV90PqH",
        "colab": {
          "base_uri": "https://localhost:8080/"
        },
        "outputId": "4ed2b86f-3929-46ce-ba6e-07b7e968605a"
      },
      "source": [
        "!pip install catboost"
      ],
      "execution_count": 90,
      "outputs": [
        {
          "output_type": "stream",
          "text": [
            "Collecting catboost\n",
            "\u001b[?25l  Downloading https://files.pythonhosted.org/packages/47/80/8e9c57ec32dfed6ba2922bc5c96462cbf8596ce1a6f5de532ad1e43e53fe/catboost-0.25.1-cp37-none-manylinux1_x86_64.whl (67.3MB)\n",
            "\u001b[K     |████████████████████████████████| 67.3MB 58kB/s \n",
            "\u001b[?25hRequirement already satisfied: graphviz in /usr/local/lib/python3.7/dist-packages (from catboost) (0.10.1)\n",
            "Requirement already satisfied: matplotlib in /usr/local/lib/python3.7/dist-packages (from catboost) (3.2.2)\n",
            "Requirement already satisfied: plotly in /usr/local/lib/python3.7/dist-packages (from catboost) (4.4.1)\n",
            "Requirement already satisfied: pandas>=0.24.0 in /usr/local/lib/python3.7/dist-packages (from catboost) (1.1.5)\n",
            "Requirement already satisfied: six in /usr/local/lib/python3.7/dist-packages (from catboost) (1.15.0)\n",
            "Requirement already satisfied: scipy in /usr/local/lib/python3.7/dist-packages (from catboost) (1.4.1)\n",
            "Requirement already satisfied: numpy>=1.16.0 in /usr/local/lib/python3.7/dist-packages (from catboost) (1.19.5)\n",
            "Requirement already satisfied: pyparsing!=2.0.4,!=2.1.2,!=2.1.6,>=2.0.1 in /usr/local/lib/python3.7/dist-packages (from matplotlib->catboost) (2.4.7)\n",
            "Requirement already satisfied: kiwisolver>=1.0.1 in /usr/local/lib/python3.7/dist-packages (from matplotlib->catboost) (1.3.1)\n",
            "Requirement already satisfied: cycler>=0.10 in /usr/local/lib/python3.7/dist-packages (from matplotlib->catboost) (0.10.0)\n",
            "Requirement already satisfied: python-dateutil>=2.1 in /usr/local/lib/python3.7/dist-packages (from matplotlib->catboost) (2.8.1)\n",
            "Requirement already satisfied: retrying>=1.3.3 in /usr/local/lib/python3.7/dist-packages (from plotly->catboost) (1.3.3)\n",
            "Requirement already satisfied: pytz>=2017.2 in /usr/local/lib/python3.7/dist-packages (from pandas>=0.24.0->catboost) (2018.9)\n",
            "Installing collected packages: catboost\n",
            "Successfully installed catboost-0.25.1\n"
          ],
          "name": "stdout"
        }
      ]
    },
    {
      "cell_type": "code",
      "metadata": {
        "id": "evSP9SRj0PqH"
      },
      "source": [
        "from catboost import CatBoostRegressor"
      ],
      "execution_count": 91,
      "outputs": []
    },
    {
      "cell_type": "code",
      "metadata": {
        "id": "A3mb37vE0PqH",
        "colab": {
          "base_uri": "https://localhost:8080/"
        },
        "outputId": "b0953172-7608-4d6f-8336-4b6f3e844ee1"
      },
      "source": [
        "catb = CatBoostRegressor()\n",
        "catb_model = catb.fit(X_train, y_train)"
      ],
      "execution_count": 92,
      "outputs": [
        {
          "output_type": "stream",
          "text": [
            "Learning rate set to 0.029229\n",
            "0:\tlearn: 438.1974206\ttotal: 48.8ms\tremaining: 48.7s\n",
            "1:\tlearn: 432.4168868\ttotal: 50.7ms\tremaining: 25.3s\n",
            "2:\tlearn: 426.3836690\ttotal: 52.7ms\tremaining: 17.5s\n",
            "3:\tlearn: 420.2261014\ttotal: 54.8ms\tremaining: 13.6s\n",
            "4:\tlearn: 414.9976675\ttotal: 56.8ms\tremaining: 11.3s\n",
            "5:\tlearn: 409.6125323\ttotal: 58.6ms\tremaining: 9.71s\n",
            "6:\tlearn: 403.9277911\ttotal: 60.4ms\tremaining: 8.56s\n",
            "7:\tlearn: 398.4395285\ttotal: 62.4ms\tremaining: 7.74s\n",
            "8:\tlearn: 392.4517081\ttotal: 64.5ms\tremaining: 7.1s\n",
            "9:\tlearn: 387.4871123\ttotal: 66.5ms\tremaining: 6.58s\n",
            "10:\tlearn: 382.6230510\ttotal: 68.5ms\tremaining: 6.16s\n",
            "11:\tlearn: 378.1012454\ttotal: 70.7ms\tremaining: 5.82s\n",
            "12:\tlearn: 372.6002306\ttotal: 73.1ms\tremaining: 5.55s\n",
            "13:\tlearn: 368.4682192\ttotal: 75.2ms\tremaining: 5.3s\n",
            "14:\tlearn: 364.0565766\ttotal: 77.3ms\tremaining: 5.08s\n",
            "15:\tlearn: 359.5683249\ttotal: 79.5ms\tremaining: 4.89s\n",
            "16:\tlearn: 355.1782794\ttotal: 81.8ms\tremaining: 4.73s\n",
            "17:\tlearn: 350.4689946\ttotal: 84.1ms\tremaining: 4.59s\n",
            "18:\tlearn: 346.2553348\ttotal: 86.3ms\tremaining: 4.45s\n",
            "19:\tlearn: 341.7051884\ttotal: 88.7ms\tremaining: 4.34s\n",
            "20:\tlearn: 337.8343606\ttotal: 90.9ms\tremaining: 4.24s\n",
            "21:\tlearn: 333.7956702\ttotal: 93.4ms\tremaining: 4.15s\n",
            "22:\tlearn: 329.8867930\ttotal: 95.7ms\tremaining: 4.06s\n",
            "23:\tlearn: 326.1844372\ttotal: 97.8ms\tremaining: 3.98s\n",
            "24:\tlearn: 323.1315580\ttotal: 100ms\tremaining: 3.9s\n",
            "25:\tlearn: 319.3322885\ttotal: 102ms\tremaining: 3.84s\n",
            "26:\tlearn: 316.2039164\ttotal: 104ms\tremaining: 3.76s\n",
            "27:\tlearn: 313.2598806\ttotal: 107ms\tremaining: 3.7s\n",
            "28:\tlearn: 310.1086898\ttotal: 109ms\tremaining: 3.65s\n",
            "29:\tlearn: 307.0508553\ttotal: 111ms\tremaining: 3.6s\n",
            "30:\tlearn: 304.5843401\ttotal: 113ms\tremaining: 3.54s\n",
            "31:\tlearn: 301.6708432\ttotal: 116ms\tremaining: 3.5s\n",
            "32:\tlearn: 298.9175443\ttotal: 118ms\tremaining: 3.46s\n",
            "33:\tlearn: 296.1231309\ttotal: 120ms\tremaining: 3.42s\n",
            "34:\tlearn: 293.2359275\ttotal: 122ms\tremaining: 3.37s\n",
            "35:\tlearn: 290.3999850\ttotal: 125ms\tremaining: 3.34s\n",
            "36:\tlearn: 287.8958674\ttotal: 127ms\tremaining: 3.3s\n",
            "37:\tlearn: 285.6692571\ttotal: 129ms\tremaining: 3.27s\n",
            "38:\tlearn: 282.9812904\ttotal: 131ms\tremaining: 3.24s\n",
            "39:\tlearn: 280.6302291\ttotal: 134ms\tremaining: 3.21s\n",
            "40:\tlearn: 278.2767119\ttotal: 136ms\tremaining: 3.18s\n",
            "41:\tlearn: 276.0589541\ttotal: 138ms\tremaining: 3.15s\n",
            "42:\tlearn: 273.6619286\ttotal: 140ms\tremaining: 3.13s\n",
            "43:\tlearn: 271.1128163\ttotal: 143ms\tremaining: 3.1s\n",
            "44:\tlearn: 268.9091716\ttotal: 145ms\tremaining: 3.08s\n",
            "45:\tlearn: 266.3675542\ttotal: 147ms\tremaining: 3.05s\n",
            "46:\tlearn: 263.7815611\ttotal: 150ms\tremaining: 3.03s\n",
            "47:\tlearn: 261.8160223\ttotal: 152ms\tremaining: 3.01s\n",
            "48:\tlearn: 259.7109561\ttotal: 154ms\tremaining: 2.98s\n",
            "49:\tlearn: 257.7200276\ttotal: 156ms\tremaining: 2.96s\n",
            "50:\tlearn: 255.7835524\ttotal: 158ms\tremaining: 2.94s\n",
            "51:\tlearn: 253.8406902\ttotal: 160ms\tremaining: 2.92s\n",
            "52:\tlearn: 251.6896611\ttotal: 163ms\tremaining: 2.91s\n",
            "53:\tlearn: 250.0830915\ttotal: 165ms\tremaining: 2.89s\n",
            "54:\tlearn: 248.3689069\ttotal: 167ms\tremaining: 2.87s\n",
            "55:\tlearn: 246.2718937\ttotal: 169ms\tremaining: 2.85s\n",
            "56:\tlearn: 244.3923224\ttotal: 172ms\tremaining: 2.84s\n",
            "57:\tlearn: 242.3040669\ttotal: 174ms\tremaining: 2.82s\n",
            "58:\tlearn: 240.5357981\ttotal: 176ms\tremaining: 2.81s\n",
            "59:\tlearn: 238.7009594\ttotal: 178ms\tremaining: 2.79s\n",
            "60:\tlearn: 237.2676945\ttotal: 181ms\tremaining: 2.78s\n",
            "61:\tlearn: 235.7252656\ttotal: 183ms\tremaining: 2.77s\n",
            "62:\tlearn: 234.1007596\ttotal: 186ms\tremaining: 2.76s\n",
            "63:\tlearn: 232.4179971\ttotal: 188ms\tremaining: 2.75s\n",
            "64:\tlearn: 231.1643497\ttotal: 192ms\tremaining: 2.75s\n",
            "65:\tlearn: 229.6810852\ttotal: 195ms\tremaining: 2.76s\n",
            "66:\tlearn: 228.1714231\ttotal: 198ms\tremaining: 2.75s\n",
            "67:\tlearn: 226.9338286\ttotal: 200ms\tremaining: 2.74s\n",
            "68:\tlearn: 226.0780127\ttotal: 202ms\tremaining: 2.72s\n",
            "69:\tlearn: 224.6598569\ttotal: 204ms\tremaining: 2.71s\n",
            "70:\tlearn: 223.1110463\ttotal: 206ms\tremaining: 2.69s\n",
            "71:\tlearn: 221.6545694\ttotal: 208ms\tremaining: 2.68s\n",
            "72:\tlearn: 220.2670639\ttotal: 213ms\tremaining: 2.71s\n",
            "73:\tlearn: 218.9738032\ttotal: 215ms\tremaining: 2.69s\n",
            "74:\tlearn: 217.9247112\ttotal: 218ms\tremaining: 2.68s\n",
            "75:\tlearn: 216.9202490\ttotal: 220ms\tremaining: 2.67s\n",
            "76:\tlearn: 215.5989131\ttotal: 222ms\tremaining: 2.66s\n",
            "77:\tlearn: 214.3540917\ttotal: 224ms\tremaining: 2.65s\n",
            "78:\tlearn: 213.4575339\ttotal: 226ms\tremaining: 2.64s\n",
            "79:\tlearn: 212.1036261\ttotal: 229ms\tremaining: 2.63s\n",
            "80:\tlearn: 210.8030392\ttotal: 231ms\tremaining: 2.62s\n",
            "81:\tlearn: 209.5290460\ttotal: 233ms\tremaining: 2.61s\n",
            "82:\tlearn: 208.0255508\ttotal: 235ms\tremaining: 2.6s\n",
            "83:\tlearn: 206.9124270\ttotal: 238ms\tremaining: 2.59s\n",
            "84:\tlearn: 205.5903017\ttotal: 242ms\tremaining: 2.6s\n",
            "85:\tlearn: 204.6057051\ttotal: 244ms\tremaining: 2.59s\n",
            "86:\tlearn: 203.7128429\ttotal: 246ms\tremaining: 2.58s\n",
            "87:\tlearn: 202.7663836\ttotal: 248ms\tremaining: 2.57s\n",
            "88:\tlearn: 201.9026542\ttotal: 250ms\tremaining: 2.56s\n",
            "89:\tlearn: 200.7729520\ttotal: 253ms\tremaining: 2.56s\n",
            "90:\tlearn: 199.6909954\ttotal: 255ms\tremaining: 2.55s\n",
            "91:\tlearn: 198.6341430\ttotal: 257ms\tremaining: 2.54s\n",
            "92:\tlearn: 197.6117675\ttotal: 260ms\tremaining: 2.53s\n",
            "93:\tlearn: 196.5198483\ttotal: 262ms\tremaining: 2.53s\n",
            "94:\tlearn: 195.5443940\ttotal: 265ms\tremaining: 2.52s\n",
            "95:\tlearn: 194.4203970\ttotal: 267ms\tremaining: 2.51s\n",
            "96:\tlearn: 193.2677508\ttotal: 269ms\tremaining: 2.51s\n",
            "97:\tlearn: 192.1768427\ttotal: 272ms\tremaining: 2.5s\n",
            "98:\tlearn: 191.2356955\ttotal: 274ms\tremaining: 2.49s\n",
            "99:\tlearn: 189.9934546\ttotal: 276ms\tremaining: 2.49s\n",
            "100:\tlearn: 189.2719006\ttotal: 279ms\tremaining: 2.48s\n",
            "101:\tlearn: 188.1079321\ttotal: 281ms\tremaining: 2.48s\n",
            "102:\tlearn: 187.1211517\ttotal: 283ms\tremaining: 2.47s\n",
            "103:\tlearn: 185.9059118\ttotal: 286ms\tremaining: 2.46s\n",
            "104:\tlearn: 185.2620919\ttotal: 288ms\tremaining: 2.46s\n",
            "105:\tlearn: 184.4349037\ttotal: 291ms\tremaining: 2.45s\n",
            "106:\tlearn: 183.1846237\ttotal: 293ms\tremaining: 2.44s\n",
            "107:\tlearn: 182.1448077\ttotal: 295ms\tremaining: 2.44s\n",
            "108:\tlearn: 181.4787170\ttotal: 298ms\tremaining: 2.43s\n",
            "109:\tlearn: 180.6789032\ttotal: 300ms\tremaining: 2.43s\n",
            "110:\tlearn: 179.9122461\ttotal: 303ms\tremaining: 2.42s\n",
            "111:\tlearn: 178.9952892\ttotal: 305ms\tremaining: 2.42s\n",
            "112:\tlearn: 178.6013107\ttotal: 307ms\tremaining: 2.41s\n",
            "113:\tlearn: 177.7090692\ttotal: 310ms\tremaining: 2.41s\n",
            "114:\tlearn: 176.7404828\ttotal: 312ms\tremaining: 2.4s\n",
            "115:\tlearn: 176.0415402\ttotal: 314ms\tremaining: 2.4s\n",
            "116:\tlearn: 175.5315148\ttotal: 317ms\tremaining: 2.39s\n",
            "117:\tlearn: 174.8976738\ttotal: 319ms\tremaining: 2.38s\n",
            "118:\tlearn: 174.0530870\ttotal: 321ms\tremaining: 2.38s\n",
            "119:\tlearn: 173.0700181\ttotal: 323ms\tremaining: 2.37s\n",
            "120:\tlearn: 172.2832739\ttotal: 326ms\tremaining: 2.37s\n",
            "121:\tlearn: 171.4960220\ttotal: 328ms\tremaining: 2.36s\n",
            "122:\tlearn: 171.0402978\ttotal: 330ms\tremaining: 2.35s\n",
            "123:\tlearn: 170.7119169\ttotal: 333ms\tremaining: 2.35s\n",
            "124:\tlearn: 169.6907823\ttotal: 335ms\tremaining: 2.34s\n",
            "125:\tlearn: 169.2063700\ttotal: 337ms\tremaining: 2.34s\n",
            "126:\tlearn: 168.1597529\ttotal: 340ms\tremaining: 2.33s\n",
            "127:\tlearn: 167.3156403\ttotal: 342ms\tremaining: 2.33s\n",
            "128:\tlearn: 166.3187281\ttotal: 344ms\tremaining: 2.32s\n",
            "129:\tlearn: 166.1101656\ttotal: 346ms\tremaining: 2.32s\n",
            "130:\tlearn: 165.5420012\ttotal: 348ms\tremaining: 2.31s\n",
            "131:\tlearn: 164.6237022\ttotal: 351ms\tremaining: 2.31s\n",
            "132:\tlearn: 163.7646814\ttotal: 353ms\tremaining: 2.3s\n",
            "133:\tlearn: 163.3971858\ttotal: 355ms\tremaining: 2.3s\n",
            "134:\tlearn: 162.8775666\ttotal: 358ms\tremaining: 2.29s\n",
            "135:\tlearn: 162.3591190\ttotal: 360ms\tremaining: 2.29s\n",
            "136:\tlearn: 161.8515150\ttotal: 362ms\tremaining: 2.28s\n",
            "137:\tlearn: 161.2542226\ttotal: 364ms\tremaining: 2.27s\n",
            "138:\tlearn: 160.5899334\ttotal: 366ms\tremaining: 2.27s\n",
            "139:\tlearn: 159.6307999\ttotal: 369ms\tremaining: 2.26s\n",
            "140:\tlearn: 159.0055431\ttotal: 371ms\tremaining: 2.26s\n",
            "141:\tlearn: 158.2566894\ttotal: 373ms\tremaining: 2.25s\n",
            "142:\tlearn: 157.6496356\ttotal: 375ms\tremaining: 2.25s\n",
            "143:\tlearn: 157.1590393\ttotal: 378ms\tremaining: 2.25s\n",
            "144:\tlearn: 156.5730455\ttotal: 381ms\tremaining: 2.25s\n",
            "145:\tlearn: 155.8450985\ttotal: 386ms\tremaining: 2.26s\n",
            "146:\tlearn: 155.2439210\ttotal: 388ms\tremaining: 2.25s\n",
            "147:\tlearn: 154.9417796\ttotal: 390ms\tremaining: 2.25s\n",
            "148:\tlearn: 154.3763613\ttotal: 393ms\tremaining: 2.24s\n",
            "149:\tlearn: 153.9438757\ttotal: 395ms\tremaining: 2.24s\n",
            "150:\tlearn: 153.1854046\ttotal: 397ms\tremaining: 2.23s\n",
            "151:\tlearn: 152.8631442\ttotal: 400ms\tremaining: 2.23s\n",
            "152:\tlearn: 152.3115428\ttotal: 402ms\tremaining: 2.22s\n",
            "153:\tlearn: 151.8957029\ttotal: 404ms\tremaining: 2.22s\n",
            "154:\tlearn: 151.1871329\ttotal: 407ms\tremaining: 2.22s\n",
            "155:\tlearn: 150.6828564\ttotal: 409ms\tremaining: 2.21s\n",
            "156:\tlearn: 150.2509622\ttotal: 411ms\tremaining: 2.21s\n",
            "157:\tlearn: 149.6497659\ttotal: 413ms\tremaining: 2.2s\n",
            "158:\tlearn: 148.9332067\ttotal: 416ms\tremaining: 2.2s\n",
            "159:\tlearn: 148.7156418\ttotal: 418ms\tremaining: 2.19s\n",
            "160:\tlearn: 148.2737189\ttotal: 420ms\tremaining: 2.19s\n",
            "161:\tlearn: 147.9625721\ttotal: 423ms\tremaining: 2.19s\n",
            "162:\tlearn: 147.4564915\ttotal: 425ms\tremaining: 2.18s\n",
            "163:\tlearn: 146.8606991\ttotal: 427ms\tremaining: 2.17s\n",
            "164:\tlearn: 146.2386459\ttotal: 429ms\tremaining: 2.17s\n",
            "165:\tlearn: 145.7642228\ttotal: 432ms\tremaining: 2.17s\n",
            "166:\tlearn: 145.3792204\ttotal: 434ms\tremaining: 2.16s\n",
            "167:\tlearn: 145.0935465\ttotal: 436ms\tremaining: 2.16s\n",
            "168:\tlearn: 144.6976165\ttotal: 438ms\tremaining: 2.15s\n",
            "169:\tlearn: 143.9724403\ttotal: 441ms\tremaining: 2.15s\n",
            "170:\tlearn: 143.6449839\ttotal: 443ms\tremaining: 2.15s\n",
            "171:\tlearn: 143.1999180\ttotal: 453ms\tremaining: 2.18s\n",
            "172:\tlearn: 142.9381183\ttotal: 456ms\tremaining: 2.18s\n",
            "173:\tlearn: 142.3304601\ttotal: 459ms\tremaining: 2.18s\n",
            "174:\tlearn: 141.9229624\ttotal: 461ms\tremaining: 2.17s\n",
            "175:\tlearn: 141.4043903\ttotal: 463ms\tremaining: 2.17s\n",
            "176:\tlearn: 141.0209642\ttotal: 465ms\tremaining: 2.16s\n",
            "177:\tlearn: 140.4510865\ttotal: 468ms\tremaining: 2.16s\n",
            "178:\tlearn: 140.3441522\ttotal: 469ms\tremaining: 2.15s\n",
            "179:\tlearn: 139.8478562\ttotal: 471ms\tremaining: 2.15s\n",
            "180:\tlearn: 139.7464932\ttotal: 472ms\tremaining: 2.13s\n",
            "181:\tlearn: 139.2514614\ttotal: 474ms\tremaining: 2.13s\n",
            "182:\tlearn: 139.0274540\ttotal: 476ms\tremaining: 2.13s\n",
            "183:\tlearn: 138.4584181\ttotal: 479ms\tremaining: 2.12s\n",
            "184:\tlearn: 138.2093063\ttotal: 481ms\tremaining: 2.12s\n",
            "185:\tlearn: 137.8406250\ttotal: 483ms\tremaining: 2.12s\n",
            "186:\tlearn: 137.7280816\ttotal: 486ms\tremaining: 2.11s\n",
            "187:\tlearn: 137.2465993\ttotal: 489ms\tremaining: 2.11s\n",
            "188:\tlearn: 136.7894765\ttotal: 492ms\tremaining: 2.11s\n",
            "189:\tlearn: 136.4857311\ttotal: 494ms\tremaining: 2.11s\n",
            "190:\tlearn: 136.0043713\ttotal: 497ms\tremaining: 2.1s\n",
            "191:\tlearn: 135.7523177\ttotal: 499ms\tremaining: 2.1s\n",
            "192:\tlearn: 135.3372675\ttotal: 502ms\tremaining: 2.1s\n",
            "193:\tlearn: 135.0202084\ttotal: 504ms\tremaining: 2.09s\n",
            "194:\tlearn: 134.7757422\ttotal: 506ms\tremaining: 2.09s\n",
            "195:\tlearn: 134.3546545\ttotal: 509ms\tremaining: 2.09s\n",
            "196:\tlearn: 133.9623627\ttotal: 511ms\tremaining: 2.08s\n",
            "197:\tlearn: 133.2648869\ttotal: 513ms\tremaining: 2.08s\n",
            "198:\tlearn: 132.9318972\ttotal: 515ms\tremaining: 2.07s\n",
            "199:\tlearn: 132.5119098\ttotal: 518ms\tremaining: 2.07s\n",
            "200:\tlearn: 131.8954412\ttotal: 520ms\tremaining: 2.07s\n",
            "201:\tlearn: 131.6115557\ttotal: 522ms\tremaining: 2.06s\n",
            "202:\tlearn: 131.2095441\ttotal: 525ms\tremaining: 2.06s\n",
            "203:\tlearn: 130.6658729\ttotal: 527ms\tremaining: 2.06s\n",
            "204:\tlearn: 130.3457517\ttotal: 529ms\tremaining: 2.05s\n",
            "205:\tlearn: 130.0833818\ttotal: 531ms\tremaining: 2.05s\n",
            "206:\tlearn: 129.7238048\ttotal: 534ms\tremaining: 2.04s\n",
            "207:\tlearn: 129.0671906\ttotal: 536ms\tremaining: 2.04s\n",
            "208:\tlearn: 128.7683402\ttotal: 538ms\tremaining: 2.04s\n",
            "209:\tlearn: 128.5832593\ttotal: 541ms\tremaining: 2.03s\n",
            "210:\tlearn: 128.3749444\ttotal: 543ms\tremaining: 2.03s\n",
            "211:\tlearn: 128.1143221\ttotal: 545ms\tremaining: 2.03s\n",
            "212:\tlearn: 127.9897497\ttotal: 548ms\tremaining: 2.02s\n",
            "213:\tlearn: 127.6815659\ttotal: 550ms\tremaining: 2.02s\n",
            "214:\tlearn: 127.2006697\ttotal: 552ms\tremaining: 2.02s\n",
            "215:\tlearn: 127.0352179\ttotal: 554ms\tremaining: 2.01s\n",
            "216:\tlearn: 126.9617234\ttotal: 556ms\tremaining: 2s\n",
            "217:\tlearn: 126.7776328\ttotal: 558ms\tremaining: 2s\n",
            "218:\tlearn: 126.3802524\ttotal: 560ms\tremaining: 2s\n",
            "219:\tlearn: 126.1995377\ttotal: 563ms\tremaining: 2s\n",
            "220:\tlearn: 126.1155383\ttotal: 565ms\tremaining: 1.99s\n",
            "221:\tlearn: 125.9832799\ttotal: 569ms\tremaining: 1.99s\n",
            "222:\tlearn: 125.7495770\ttotal: 576ms\tremaining: 2.01s\n",
            "223:\tlearn: 125.2409845\ttotal: 580ms\tremaining: 2.01s\n",
            "224:\tlearn: 124.9538099\ttotal: 582ms\tremaining: 2.01s\n",
            "225:\tlearn: 124.7089151\ttotal: 585ms\tremaining: 2s\n",
            "226:\tlearn: 124.3984858\ttotal: 587ms\tremaining: 2s\n",
            "227:\tlearn: 124.0014588\ttotal: 589ms\tremaining: 1.99s\n",
            "228:\tlearn: 123.7139174\ttotal: 591ms\tremaining: 1.99s\n",
            "229:\tlearn: 123.6555034\ttotal: 592ms\tremaining: 1.98s\n",
            "230:\tlearn: 123.3398368\ttotal: 594ms\tremaining: 1.98s\n",
            "231:\tlearn: 122.7561150\ttotal: 597ms\tremaining: 1.97s\n",
            "232:\tlearn: 122.5676806\ttotal: 599ms\tremaining: 1.97s\n",
            "233:\tlearn: 122.1759040\ttotal: 601ms\tremaining: 1.97s\n",
            "234:\tlearn: 121.5761316\ttotal: 604ms\tremaining: 1.96s\n",
            "235:\tlearn: 121.3308579\ttotal: 606ms\tremaining: 1.96s\n",
            "236:\tlearn: 120.6316918\ttotal: 608ms\tremaining: 1.96s\n",
            "237:\tlearn: 120.0241441\ttotal: 610ms\tremaining: 1.95s\n",
            "238:\tlearn: 119.6974692\ttotal: 613ms\tremaining: 1.95s\n",
            "239:\tlearn: 119.5295579\ttotal: 615ms\tremaining: 1.95s\n",
            "240:\tlearn: 118.8105516\ttotal: 617ms\tremaining: 1.94s\n",
            "241:\tlearn: 118.5001438\ttotal: 620ms\tremaining: 1.94s\n",
            "242:\tlearn: 118.1525333\ttotal: 622ms\tremaining: 1.94s\n",
            "243:\tlearn: 117.8294708\ttotal: 624ms\tremaining: 1.93s\n",
            "244:\tlearn: 117.4650856\ttotal: 626ms\tremaining: 1.93s\n",
            "245:\tlearn: 117.2329146\ttotal: 629ms\tremaining: 1.93s\n",
            "246:\tlearn: 116.6281150\ttotal: 631ms\tremaining: 1.92s\n",
            "247:\tlearn: 116.4382173\ttotal: 633ms\tremaining: 1.92s\n",
            "248:\tlearn: 115.7804838\ttotal: 636ms\tremaining: 1.92s\n",
            "249:\tlearn: 115.4468389\ttotal: 638ms\tremaining: 1.91s\n",
            "250:\tlearn: 115.2535858\ttotal: 640ms\tremaining: 1.91s\n",
            "251:\tlearn: 115.0959725\ttotal: 642ms\tremaining: 1.91s\n",
            "252:\tlearn: 114.5054098\ttotal: 645ms\tremaining: 1.9s\n",
            "253:\tlearn: 114.2196805\ttotal: 647ms\tremaining: 1.9s\n",
            "254:\tlearn: 113.9389493\ttotal: 649ms\tremaining: 1.9s\n",
            "255:\tlearn: 113.8318782\ttotal: 652ms\tremaining: 1.89s\n",
            "256:\tlearn: 113.7010766\ttotal: 654ms\tremaining: 1.89s\n",
            "257:\tlearn: 113.5349213\ttotal: 657ms\tremaining: 1.89s\n",
            "258:\tlearn: 113.2939692\ttotal: 659ms\tremaining: 1.89s\n",
            "259:\tlearn: 112.8734855\ttotal: 661ms\tremaining: 1.88s\n",
            "260:\tlearn: 112.2073904\ttotal: 663ms\tremaining: 1.88s\n",
            "261:\tlearn: 111.7098455\ttotal: 666ms\tremaining: 1.88s\n",
            "262:\tlearn: 111.4861643\ttotal: 668ms\tremaining: 1.87s\n",
            "263:\tlearn: 111.4065123\ttotal: 670ms\tremaining: 1.87s\n",
            "264:\tlearn: 110.9193214\ttotal: 672ms\tremaining: 1.86s\n",
            "265:\tlearn: 110.2486713\ttotal: 675ms\tremaining: 1.86s\n",
            "266:\tlearn: 110.1718829\ttotal: 677ms\tremaining: 1.86s\n",
            "267:\tlearn: 109.8233102\ttotal: 680ms\tremaining: 1.86s\n",
            "268:\tlearn: 109.2576068\ttotal: 682ms\tremaining: 1.85s\n",
            "269:\tlearn: 109.1038965\ttotal: 684ms\tremaining: 1.85s\n",
            "270:\tlearn: 108.5183523\ttotal: 686ms\tremaining: 1.85s\n",
            "271:\tlearn: 108.4470954\ttotal: 689ms\tremaining: 1.84s\n",
            "272:\tlearn: 108.0259628\ttotal: 691ms\tremaining: 1.84s\n",
            "273:\tlearn: 107.5793316\ttotal: 693ms\tremaining: 1.84s\n",
            "274:\tlearn: 107.4747562\ttotal: 696ms\tremaining: 1.83s\n",
            "275:\tlearn: 107.4015080\ttotal: 698ms\tremaining: 1.83s\n",
            "276:\tlearn: 106.7954512\ttotal: 700ms\tremaining: 1.83s\n",
            "277:\tlearn: 106.3607188\ttotal: 703ms\tremaining: 1.82s\n",
            "278:\tlearn: 106.2892222\ttotal: 705ms\tremaining: 1.82s\n",
            "279:\tlearn: 106.1701389\ttotal: 710ms\tremaining: 1.82s\n",
            "280:\tlearn: 106.0889424\ttotal: 714ms\tremaining: 1.83s\n",
            "281:\tlearn: 105.8903610\ttotal: 717ms\tremaining: 1.82s\n",
            "282:\tlearn: 105.6531794\ttotal: 719ms\tremaining: 1.82s\n",
            "283:\tlearn: 105.3489666\ttotal: 721ms\tremaining: 1.82s\n",
            "284:\tlearn: 105.2156952\ttotal: 724ms\tremaining: 1.81s\n",
            "285:\tlearn: 104.7489850\ttotal: 726ms\tremaining: 1.81s\n",
            "286:\tlearn: 104.4701409\ttotal: 728ms\tremaining: 1.81s\n",
            "287:\tlearn: 104.3778769\ttotal: 730ms\tremaining: 1.8s\n",
            "288:\tlearn: 103.8224679\ttotal: 733ms\tremaining: 1.8s\n",
            "289:\tlearn: 103.2728523\ttotal: 735ms\tremaining: 1.8s\n",
            "290:\tlearn: 102.7341369\ttotal: 738ms\tremaining: 1.8s\n",
            "291:\tlearn: 102.5732242\ttotal: 740ms\tremaining: 1.79s\n",
            "292:\tlearn: 102.4869595\ttotal: 742ms\tremaining: 1.79s\n",
            "293:\tlearn: 101.9743362\ttotal: 745ms\tremaining: 1.79s\n",
            "294:\tlearn: 101.8782948\ttotal: 747ms\tremaining: 1.78s\n",
            "295:\tlearn: 101.3571512\ttotal: 749ms\tremaining: 1.78s\n",
            "296:\tlearn: 100.8372462\ttotal: 752ms\tremaining: 1.78s\n",
            "297:\tlearn: 100.6707783\ttotal: 754ms\tremaining: 1.78s\n",
            "298:\tlearn: 100.3215940\ttotal: 757ms\tremaining: 1.77s\n",
            "299:\tlearn: 99.8162460\ttotal: 760ms\tremaining: 1.77s\n",
            "300:\tlearn: 99.7024172\ttotal: 762ms\tremaining: 1.77s\n",
            "301:\tlearn: 99.2308832\ttotal: 765ms\tremaining: 1.77s\n",
            "302:\tlearn: 98.7981083\ttotal: 778ms\tremaining: 1.79s\n",
            "303:\tlearn: 98.6418362\ttotal: 784ms\tremaining: 1.79s\n",
            "304:\tlearn: 98.1248564\ttotal: 787ms\tremaining: 1.79s\n",
            "305:\tlearn: 97.9442581\ttotal: 789ms\tremaining: 1.79s\n",
            "306:\tlearn: 97.5091297\ttotal: 791ms\tremaining: 1.79s\n",
            "307:\tlearn: 97.0381695\ttotal: 794ms\tremaining: 1.78s\n",
            "308:\tlearn: 96.5858904\ttotal: 796ms\tremaining: 1.78s\n",
            "309:\tlearn: 96.4466124\ttotal: 798ms\tremaining: 1.78s\n",
            "310:\tlearn: 95.9786304\ttotal: 800ms\tremaining: 1.77s\n",
            "311:\tlearn: 95.5390501\ttotal: 803ms\tremaining: 1.77s\n",
            "312:\tlearn: 95.3241323\ttotal: 805ms\tremaining: 1.77s\n",
            "313:\tlearn: 95.1166839\ttotal: 810ms\tremaining: 1.77s\n",
            "314:\tlearn: 94.6729021\ttotal: 813ms\tremaining: 1.77s\n",
            "315:\tlearn: 94.2571678\ttotal: 816ms\tremaining: 1.76s\n",
            "316:\tlearn: 93.9414786\ttotal: 818ms\tremaining: 1.76s\n",
            "317:\tlearn: 93.7804159\ttotal: 820ms\tremaining: 1.76s\n",
            "318:\tlearn: 93.5413306\ttotal: 823ms\tremaining: 1.76s\n",
            "319:\tlearn: 93.4280107\ttotal: 825ms\tremaining: 1.75s\n",
            "320:\tlearn: 92.9986302\ttotal: 827ms\tremaining: 1.75s\n",
            "321:\tlearn: 92.9421610\ttotal: 829ms\tremaining: 1.75s\n",
            "322:\tlearn: 92.4662692\ttotal: 832ms\tremaining: 1.74s\n",
            "323:\tlearn: 92.0455485\ttotal: 834ms\tremaining: 1.74s\n",
            "324:\tlearn: 91.6664667\ttotal: 837ms\tremaining: 1.74s\n",
            "325:\tlearn: 91.5600717\ttotal: 839ms\tremaining: 1.73s\n",
            "326:\tlearn: 91.5004974\ttotal: 841ms\tremaining: 1.73s\n",
            "327:\tlearn: 91.0716355\ttotal: 844ms\tremaining: 1.73s\n",
            "328:\tlearn: 90.6376777\ttotal: 846ms\tremaining: 1.73s\n",
            "329:\tlearn: 90.2132341\ttotal: 848ms\tremaining: 1.72s\n",
            "330:\tlearn: 90.1525801\ttotal: 851ms\tremaining: 1.72s\n",
            "331:\tlearn: 89.7879501\ttotal: 853ms\tremaining: 1.72s\n",
            "332:\tlearn: 89.3626218\ttotal: 855ms\tremaining: 1.71s\n",
            "333:\tlearn: 89.1274526\ttotal: 858ms\tremaining: 1.71s\n",
            "334:\tlearn: 88.7222011\ttotal: 860ms\tremaining: 1.71s\n",
            "335:\tlearn: 88.5311901\ttotal: 862ms\tremaining: 1.7s\n",
            "336:\tlearn: 88.0699983\ttotal: 865ms\tremaining: 1.7s\n",
            "337:\tlearn: 87.6737037\ttotal: 867ms\tremaining: 1.7s\n",
            "338:\tlearn: 87.3069085\ttotal: 869ms\tremaining: 1.69s\n",
            "339:\tlearn: 86.8639700\ttotal: 871ms\tremaining: 1.69s\n",
            "340:\tlearn: 86.7339532\ttotal: 874ms\tremaining: 1.69s\n",
            "341:\tlearn: 86.5677333\ttotal: 876ms\tremaining: 1.69s\n",
            "342:\tlearn: 86.4361752\ttotal: 878ms\tremaining: 1.68s\n",
            "343:\tlearn: 86.2469458\ttotal: 881ms\tremaining: 1.68s\n",
            "344:\tlearn: 86.1967306\ttotal: 883ms\tremaining: 1.68s\n",
            "345:\tlearn: 86.0709863\ttotal: 885ms\tremaining: 1.67s\n",
            "346:\tlearn: 85.6398833\ttotal: 887ms\tremaining: 1.67s\n",
            "347:\tlearn: 85.5979263\ttotal: 889ms\tremaining: 1.67s\n",
            "348:\tlearn: 85.4437261\ttotal: 891ms\tremaining: 1.66s\n",
            "349:\tlearn: 85.0669752\ttotal: 894ms\tremaining: 1.66s\n",
            "350:\tlearn: 85.0164116\ttotal: 896ms\tremaining: 1.66s\n",
            "351:\tlearn: 84.6350071\ttotal: 898ms\tremaining: 1.65s\n",
            "352:\tlearn: 84.1473245\ttotal: 900ms\tremaining: 1.65s\n",
            "353:\tlearn: 83.8115391\ttotal: 902ms\tremaining: 1.65s\n",
            "354:\tlearn: 83.4823620\ttotal: 905ms\tremaining: 1.64s\n",
            "355:\tlearn: 83.1595406\ttotal: 907ms\tremaining: 1.64s\n",
            "356:\tlearn: 82.7280745\ttotal: 909ms\tremaining: 1.64s\n",
            "357:\tlearn: 82.6210086\ttotal: 911ms\tremaining: 1.63s\n",
            "358:\tlearn: 82.3077194\ttotal: 913ms\tremaining: 1.63s\n",
            "359:\tlearn: 81.9112073\ttotal: 916ms\tremaining: 1.63s\n",
            "360:\tlearn: 81.5518193\ttotal: 918ms\tremaining: 1.62s\n",
            "361:\tlearn: 81.4267033\ttotal: 920ms\tremaining: 1.62s\n",
            "362:\tlearn: 81.0255982\ttotal: 922ms\tremaining: 1.62s\n",
            "363:\tlearn: 80.6891175\ttotal: 925ms\tremaining: 1.61s\n",
            "364:\tlearn: 80.4390711\ttotal: 927ms\tremaining: 1.61s\n",
            "365:\tlearn: 80.1232319\ttotal: 929ms\tremaining: 1.61s\n",
            "366:\tlearn: 80.0808756\ttotal: 931ms\tremaining: 1.61s\n",
            "367:\tlearn: 79.7090424\ttotal: 933ms\tremaining: 1.6s\n",
            "368:\tlearn: 79.3969152\ttotal: 936ms\tremaining: 1.6s\n",
            "369:\tlearn: 79.0731259\ttotal: 938ms\tremaining: 1.6s\n",
            "370:\tlearn: 78.9862934\ttotal: 940ms\tremaining: 1.59s\n",
            "371:\tlearn: 78.7730476\ttotal: 942ms\tremaining: 1.59s\n",
            "372:\tlearn: 78.6302158\ttotal: 944ms\tremaining: 1.59s\n",
            "373:\tlearn: 78.5184111\ttotal: 947ms\tremaining: 1.58s\n",
            "374:\tlearn: 78.3814955\ttotal: 949ms\tremaining: 1.58s\n",
            "375:\tlearn: 77.9622261\ttotal: 951ms\tremaining: 1.58s\n",
            "376:\tlearn: 77.8601787\ttotal: 953ms\tremaining: 1.57s\n",
            "377:\tlearn: 77.7650898\ttotal: 955ms\tremaining: 1.57s\n",
            "378:\tlearn: 77.3945927\ttotal: 958ms\tremaining: 1.57s\n",
            "379:\tlearn: 77.3348237\ttotal: 960ms\tremaining: 1.57s\n",
            "380:\tlearn: 77.2431856\ttotal: 962ms\tremaining: 1.56s\n",
            "381:\tlearn: 76.9192891\ttotal: 965ms\tremaining: 1.56s\n",
            "382:\tlearn: 76.7949544\ttotal: 967ms\tremaining: 1.56s\n",
            "383:\tlearn: 76.5217530\ttotal: 969ms\tremaining: 1.55s\n",
            "384:\tlearn: 76.1648512\ttotal: 971ms\tremaining: 1.55s\n",
            "385:\tlearn: 75.9867656\ttotal: 979ms\tremaining: 1.56s\n",
            "386:\tlearn: 75.7293435\ttotal: 981ms\tremaining: 1.55s\n",
            "387:\tlearn: 75.6419805\ttotal: 984ms\tremaining: 1.55s\n",
            "388:\tlearn: 75.3138222\ttotal: 987ms\tremaining: 1.55s\n",
            "389:\tlearn: 75.0125736\ttotal: 989ms\tremaining: 1.55s\n",
            "390:\tlearn: 74.9803725\ttotal: 992ms\tremaining: 1.54s\n",
            "391:\tlearn: 74.6113970\ttotal: 994ms\tremaining: 1.54s\n",
            "392:\tlearn: 74.3668766\ttotal: 996ms\tremaining: 1.54s\n",
            "393:\tlearn: 74.2752147\ttotal: 998ms\tremaining: 1.53s\n",
            "394:\tlearn: 74.2172412\ttotal: 1s\tremaining: 1.53s\n",
            "395:\tlearn: 73.8652110\ttotal: 1s\tremaining: 1.53s\n",
            "396:\tlearn: 73.6963645\ttotal: 1s\tremaining: 1.53s\n",
            "397:\tlearn: 73.4075086\ttotal: 1.01s\tremaining: 1.52s\n",
            "398:\tlearn: 73.0346771\ttotal: 1.01s\tremaining: 1.52s\n",
            "399:\tlearn: 72.9971586\ttotal: 1.01s\tremaining: 1.52s\n",
            "400:\tlearn: 72.6755493\ttotal: 1.01s\tremaining: 1.51s\n",
            "401:\tlearn: 72.5972282\ttotal: 1.02s\tremaining: 1.51s\n",
            "402:\tlearn: 72.4345974\ttotal: 1.02s\tremaining: 1.51s\n",
            "403:\tlearn: 72.2185716\ttotal: 1.02s\tremaining: 1.5s\n",
            "404:\tlearn: 71.9251032\ttotal: 1.02s\tremaining: 1.5s\n",
            "405:\tlearn: 71.8901544\ttotal: 1.02s\tremaining: 1.5s\n",
            "406:\tlearn: 71.5338422\ttotal: 1.03s\tremaining: 1.5s\n",
            "407:\tlearn: 71.4477827\ttotal: 1.03s\tremaining: 1.5s\n",
            "408:\tlearn: 71.4127550\ttotal: 1.03s\tremaining: 1.49s\n",
            "409:\tlearn: 71.3322454\ttotal: 1.03s\tremaining: 1.49s\n",
            "410:\tlearn: 71.2981804\ttotal: 1.04s\tremaining: 1.49s\n",
            "411:\tlearn: 71.0089173\ttotal: 1.04s\tremaining: 1.48s\n",
            "412:\tlearn: 70.7854493\ttotal: 1.04s\tremaining: 1.48s\n",
            "413:\tlearn: 70.4930103\ttotal: 1.04s\tremaining: 1.48s\n",
            "414:\tlearn: 70.1976578\ttotal: 1.05s\tremaining: 1.48s\n",
            "415:\tlearn: 69.9565552\ttotal: 1.05s\tremaining: 1.47s\n",
            "416:\tlearn: 69.8912103\ttotal: 1.05s\tremaining: 1.47s\n",
            "417:\tlearn: 69.7356706\ttotal: 1.05s\tremaining: 1.47s\n",
            "418:\tlearn: 69.6634412\ttotal: 1.06s\tremaining: 1.47s\n",
            "419:\tlearn: 69.2943609\ttotal: 1.06s\tremaining: 1.46s\n",
            "420:\tlearn: 69.0269983\ttotal: 1.06s\tremaining: 1.46s\n",
            "421:\tlearn: 68.8653561\ttotal: 1.06s\tremaining: 1.46s\n",
            "422:\tlearn: 68.6555281\ttotal: 1.07s\tremaining: 1.46s\n",
            "423:\tlearn: 68.2338294\ttotal: 1.07s\tremaining: 1.46s\n",
            "424:\tlearn: 68.0909898\ttotal: 1.07s\tremaining: 1.45s\n",
            "425:\tlearn: 67.7905722\ttotal: 1.07s\tremaining: 1.45s\n",
            "426:\tlearn: 67.5586853\ttotal: 1.08s\tremaining: 1.45s\n",
            "427:\tlearn: 67.3518839\ttotal: 1.08s\tremaining: 1.44s\n",
            "428:\tlearn: 67.2029794\ttotal: 1.08s\tremaining: 1.44s\n",
            "429:\tlearn: 66.9467892\ttotal: 1.08s\tremaining: 1.44s\n",
            "430:\tlearn: 66.7821891\ttotal: 1.09s\tremaining: 1.43s\n",
            "431:\tlearn: 66.4955741\ttotal: 1.09s\tremaining: 1.43s\n",
            "432:\tlearn: 66.2240359\ttotal: 1.09s\tremaining: 1.43s\n",
            "433:\tlearn: 65.9832136\ttotal: 1.09s\tremaining: 1.43s\n",
            "434:\tlearn: 65.7761577\ttotal: 1.09s\tremaining: 1.42s\n",
            "435:\tlearn: 65.4845025\ttotal: 1.1s\tremaining: 1.42s\n",
            "436:\tlearn: 65.4215937\ttotal: 1.1s\tremaining: 1.42s\n",
            "437:\tlearn: 65.1768197\ttotal: 1.1s\tremaining: 1.41s\n",
            "438:\tlearn: 65.1071642\ttotal: 1.1s\tremaining: 1.41s\n",
            "439:\tlearn: 65.0705857\ttotal: 1.11s\tremaining: 1.41s\n",
            "440:\tlearn: 64.7782864\ttotal: 1.11s\tremaining: 1.41s\n",
            "441:\tlearn: 64.5284944\ttotal: 1.11s\tremaining: 1.4s\n",
            "442:\tlearn: 64.3504433\ttotal: 1.11s\tremaining: 1.4s\n",
            "443:\tlearn: 64.3001112\ttotal: 1.11s\tremaining: 1.4s\n",
            "444:\tlearn: 63.9063758\ttotal: 1.12s\tremaining: 1.39s\n",
            "445:\tlearn: 63.8746707\ttotal: 1.12s\tremaining: 1.39s\n",
            "446:\tlearn: 63.5487944\ttotal: 1.12s\tremaining: 1.39s\n",
            "447:\tlearn: 63.3406893\ttotal: 1.12s\tremaining: 1.39s\n",
            "448:\tlearn: 63.0992921\ttotal: 1.13s\tremaining: 1.38s\n",
            "449:\tlearn: 62.8676535\ttotal: 1.13s\tremaining: 1.38s\n",
            "450:\tlearn: 62.6978975\ttotal: 1.13s\tremaining: 1.38s\n",
            "451:\tlearn: 62.4888356\ttotal: 1.13s\tremaining: 1.37s\n",
            "452:\tlearn: 62.4591033\ttotal: 1.14s\tremaining: 1.37s\n",
            "453:\tlearn: 62.3981355\ttotal: 1.14s\tremaining: 1.37s\n",
            "454:\tlearn: 62.2755114\ttotal: 1.14s\tremaining: 1.36s\n",
            "455:\tlearn: 62.0286915\ttotal: 1.14s\tremaining: 1.36s\n",
            "456:\tlearn: 61.8101493\ttotal: 1.14s\tremaining: 1.36s\n",
            "457:\tlearn: 61.7125436\ttotal: 1.15s\tremaining: 1.36s\n",
            "458:\tlearn: 61.3464743\ttotal: 1.15s\tremaining: 1.35s\n",
            "459:\tlearn: 61.0777407\ttotal: 1.15s\tremaining: 1.35s\n",
            "460:\tlearn: 60.7354015\ttotal: 1.15s\tremaining: 1.35s\n",
            "461:\tlearn: 60.7070785\ttotal: 1.16s\tremaining: 1.34s\n",
            "462:\tlearn: 60.4380726\ttotal: 1.16s\tremaining: 1.34s\n",
            "463:\tlearn: 60.3794644\ttotal: 1.16s\tremaining: 1.34s\n",
            "464:\tlearn: 60.3096146\ttotal: 1.16s\tremaining: 1.34s\n",
            "465:\tlearn: 60.2803998\ttotal: 1.16s\tremaining: 1.33s\n",
            "466:\tlearn: 60.2489158\ttotal: 1.17s\tremaining: 1.33s\n",
            "467:\tlearn: 60.2187601\ttotal: 1.17s\tremaining: 1.33s\n",
            "468:\tlearn: 59.9901529\ttotal: 1.17s\tremaining: 1.33s\n",
            "469:\tlearn: 59.7821357\ttotal: 1.18s\tremaining: 1.33s\n",
            "470:\tlearn: 59.7334527\ttotal: 1.18s\tremaining: 1.32s\n",
            "471:\tlearn: 59.4989600\ttotal: 1.18s\tremaining: 1.32s\n",
            "472:\tlearn: 59.1865219\ttotal: 1.19s\tremaining: 1.32s\n",
            "473:\tlearn: 58.9478658\ttotal: 1.19s\tremaining: 1.32s\n",
            "474:\tlearn: 58.6836425\ttotal: 1.19s\tremaining: 1.31s\n",
            "475:\tlearn: 58.6522637\ttotal: 1.19s\tremaining: 1.31s\n",
            "476:\tlearn: 58.5963542\ttotal: 1.19s\tremaining: 1.31s\n",
            "477:\tlearn: 58.3648296\ttotal: 1.2s\tremaining: 1.31s\n",
            "478:\tlearn: 58.3188915\ttotal: 1.2s\tremaining: 1.3s\n",
            "479:\tlearn: 58.1813689\ttotal: 1.2s\tremaining: 1.3s\n",
            "480:\tlearn: 57.9437076\ttotal: 1.2s\tremaining: 1.3s\n",
            "481:\tlearn: 57.7694232\ttotal: 1.21s\tremaining: 1.29s\n",
            "482:\tlearn: 57.7437082\ttotal: 1.21s\tremaining: 1.29s\n",
            "483:\tlearn: 57.5081532\ttotal: 1.21s\tremaining: 1.29s\n",
            "484:\tlearn: 57.2134650\ttotal: 1.21s\tremaining: 1.29s\n",
            "485:\tlearn: 56.9733344\ttotal: 1.21s\tremaining: 1.28s\n",
            "486:\tlearn: 56.9412760\ttotal: 1.22s\tremaining: 1.28s\n",
            "487:\tlearn: 56.8640335\ttotal: 1.22s\tremaining: 1.28s\n",
            "488:\tlearn: 56.5624625\ttotal: 1.22s\tremaining: 1.27s\n",
            "489:\tlearn: 56.4986179\ttotal: 1.22s\tremaining: 1.27s\n",
            "490:\tlearn: 56.3527490\ttotal: 1.22s\tremaining: 1.27s\n",
            "491:\tlearn: 56.0961642\ttotal: 1.23s\tremaining: 1.27s\n",
            "492:\tlearn: 55.8256120\ttotal: 1.23s\tremaining: 1.26s\n",
            "493:\tlearn: 55.6150160\ttotal: 1.23s\tremaining: 1.26s\n",
            "494:\tlearn: 55.5631279\ttotal: 1.23s\tremaining: 1.26s\n",
            "495:\tlearn: 55.3736400\ttotal: 1.24s\tremaining: 1.25s\n",
            "496:\tlearn: 55.3441677\ttotal: 1.24s\tremaining: 1.25s\n",
            "497:\tlearn: 55.1995384\ttotal: 1.24s\tremaining: 1.25s\n",
            "498:\tlearn: 54.8980322\ttotal: 1.24s\tremaining: 1.25s\n",
            "499:\tlearn: 54.7119603\ttotal: 1.24s\tremaining: 1.24s\n",
            "500:\tlearn: 54.6236591\ttotal: 1.25s\tremaining: 1.24s\n",
            "501:\tlearn: 54.4131558\ttotal: 1.25s\tremaining: 1.24s\n",
            "502:\tlearn: 54.3901230\ttotal: 1.25s\tremaining: 1.24s\n",
            "503:\tlearn: 54.3662021\ttotal: 1.25s\tremaining: 1.23s\n",
            "504:\tlearn: 54.2068745\ttotal: 1.25s\tremaining: 1.23s\n",
            "505:\tlearn: 54.1800600\ttotal: 1.26s\tremaining: 1.23s\n",
            "506:\tlearn: 54.1376632\ttotal: 1.26s\tremaining: 1.23s\n",
            "507:\tlearn: 53.9788342\ttotal: 1.26s\tremaining: 1.22s\n",
            "508:\tlearn: 53.9294324\ttotal: 1.26s\tremaining: 1.22s\n",
            "509:\tlearn: 53.6786369\ttotal: 1.27s\tremaining: 1.22s\n",
            "510:\tlearn: 53.4578789\ttotal: 1.27s\tremaining: 1.21s\n",
            "511:\tlearn: 53.3261204\ttotal: 1.27s\tremaining: 1.21s\n",
            "512:\tlearn: 53.1331329\ttotal: 1.27s\tremaining: 1.21s\n",
            "513:\tlearn: 52.9261288\ttotal: 1.28s\tremaining: 1.21s\n",
            "514:\tlearn: 52.7447311\ttotal: 1.28s\tremaining: 1.2s\n",
            "515:\tlearn: 52.5966869\ttotal: 1.28s\tremaining: 1.2s\n",
            "516:\tlearn: 52.4130565\ttotal: 1.28s\tremaining: 1.2s\n",
            "517:\tlearn: 52.1948654\ttotal: 1.28s\tremaining: 1.2s\n",
            "518:\tlearn: 51.9463802\ttotal: 1.29s\tremaining: 1.19s\n",
            "519:\tlearn: 51.9178306\ttotal: 1.29s\tremaining: 1.19s\n",
            "520:\tlearn: 51.7246141\ttotal: 1.29s\tremaining: 1.19s\n",
            "521:\tlearn: 51.5669648\ttotal: 1.29s\tremaining: 1.19s\n",
            "522:\tlearn: 51.5221972\ttotal: 1.3s\tremaining: 1.18s\n",
            "523:\tlearn: 51.3293697\ttotal: 1.3s\tremaining: 1.18s\n",
            "524:\tlearn: 51.1767477\ttotal: 1.3s\tremaining: 1.18s\n",
            "525:\tlearn: 51.0961343\ttotal: 1.31s\tremaining: 1.18s\n",
            "526:\tlearn: 50.9995340\ttotal: 1.31s\tremaining: 1.18s\n",
            "527:\tlearn: 50.8846082\ttotal: 1.31s\tremaining: 1.17s\n",
            "528:\tlearn: 50.7478794\ttotal: 1.31s\tremaining: 1.17s\n",
            "529:\tlearn: 50.5116322\ttotal: 1.32s\tremaining: 1.17s\n",
            "530:\tlearn: 50.2760468\ttotal: 1.32s\tremaining: 1.17s\n",
            "531:\tlearn: 50.1040144\ttotal: 1.32s\tremaining: 1.16s\n",
            "532:\tlearn: 49.8827812\ttotal: 1.32s\tremaining: 1.16s\n",
            "533:\tlearn: 49.8255711\ttotal: 1.32s\tremaining: 1.16s\n",
            "534:\tlearn: 49.7890438\ttotal: 1.33s\tremaining: 1.15s\n",
            "535:\tlearn: 49.6290340\ttotal: 1.33s\tremaining: 1.15s\n",
            "536:\tlearn: 49.3965889\ttotal: 1.33s\tremaining: 1.15s\n",
            "537:\tlearn: 49.1641285\ttotal: 1.33s\tremaining: 1.15s\n",
            "538:\tlearn: 48.9654180\ttotal: 1.34s\tremaining: 1.14s\n",
            "539:\tlearn: 48.9278341\ttotal: 1.34s\tremaining: 1.14s\n",
            "540:\tlearn: 48.8457405\ttotal: 1.34s\tremaining: 1.14s\n",
            "541:\tlearn: 48.8041804\ttotal: 1.34s\tremaining: 1.14s\n",
            "542:\tlearn: 48.7179291\ttotal: 1.34s\tremaining: 1.13s\n",
            "543:\tlearn: 48.6759771\ttotal: 1.35s\tremaining: 1.13s\n",
            "544:\tlearn: 48.4792967\ttotal: 1.35s\tremaining: 1.13s\n",
            "545:\tlearn: 48.3843114\ttotal: 1.35s\tremaining: 1.13s\n",
            "546:\tlearn: 48.2453957\ttotal: 1.36s\tremaining: 1.12s\n",
            "547:\tlearn: 48.0231685\ttotal: 1.37s\tremaining: 1.13s\n",
            "548:\tlearn: 47.8612203\ttotal: 1.37s\tremaining: 1.12s\n",
            "549:\tlearn: 47.7590091\ttotal: 1.37s\tremaining: 1.12s\n",
            "550:\tlearn: 47.6561968\ttotal: 1.37s\tremaining: 1.12s\n",
            "551:\tlearn: 47.4106594\ttotal: 1.38s\tremaining: 1.12s\n",
            "552:\tlearn: 47.2194456\ttotal: 1.38s\tremaining: 1.11s\n",
            "553:\tlearn: 47.0783850\ttotal: 1.38s\tremaining: 1.11s\n",
            "554:\tlearn: 46.8215038\ttotal: 1.38s\tremaining: 1.11s\n",
            "555:\tlearn: 46.6674572\ttotal: 1.39s\tremaining: 1.11s\n",
            "556:\tlearn: 46.6418726\ttotal: 1.39s\tremaining: 1.1s\n",
            "557:\tlearn: 46.5248666\ttotal: 1.39s\tremaining: 1.1s\n",
            "558:\tlearn: 46.5061320\ttotal: 1.39s\tremaining: 1.1s\n",
            "559:\tlearn: 46.4397708\ttotal: 1.39s\tremaining: 1.09s\n",
            "560:\tlearn: 46.3904442\ttotal: 1.4s\tremaining: 1.09s\n",
            "561:\tlearn: 46.2576989\ttotal: 1.4s\tremaining: 1.09s\n",
            "562:\tlearn: 45.9568721\ttotal: 1.4s\tremaining: 1.09s\n",
            "563:\tlearn: 45.8482033\ttotal: 1.41s\tremaining: 1.09s\n",
            "564:\tlearn: 45.6689466\ttotal: 1.41s\tremaining: 1.08s\n",
            "565:\tlearn: 45.4222796\ttotal: 1.41s\tremaining: 1.08s\n",
            "566:\tlearn: 45.2404146\ttotal: 1.42s\tremaining: 1.08s\n",
            "567:\tlearn: 45.0903054\ttotal: 1.42s\tremaining: 1.08s\n",
            "568:\tlearn: 44.7991969\ttotal: 1.42s\tremaining: 1.08s\n",
            "569:\tlearn: 44.6413756\ttotal: 1.42s\tremaining: 1.07s\n",
            "570:\tlearn: 44.5799550\ttotal: 1.43s\tremaining: 1.07s\n",
            "571:\tlearn: 44.5651506\ttotal: 1.43s\tremaining: 1.07s\n",
            "572:\tlearn: 44.4233165\ttotal: 1.43s\tremaining: 1.07s\n",
            "573:\tlearn: 44.2369747\ttotal: 1.43s\tremaining: 1.06s\n",
            "574:\tlearn: 44.0545664\ttotal: 1.44s\tremaining: 1.06s\n",
            "575:\tlearn: 43.9004385\ttotal: 1.44s\tremaining: 1.06s\n",
            "576:\tlearn: 43.7138119\ttotal: 1.44s\tremaining: 1.06s\n",
            "577:\tlearn: 43.5755556\ttotal: 1.44s\tremaining: 1.05s\n",
            "578:\tlearn: 43.4934072\ttotal: 1.45s\tremaining: 1.05s\n",
            "579:\tlearn: 43.4629843\ttotal: 1.45s\tremaining: 1.05s\n",
            "580:\tlearn: 43.3825129\ttotal: 1.45s\tremaining: 1.05s\n",
            "581:\tlearn: 43.2549166\ttotal: 1.45s\tremaining: 1.04s\n",
            "582:\tlearn: 43.1514800\ttotal: 1.46s\tremaining: 1.04s\n",
            "583:\tlearn: 42.9846414\ttotal: 1.46s\tremaining: 1.04s\n",
            "584:\tlearn: 42.8538804\ttotal: 1.46s\tremaining: 1.03s\n",
            "585:\tlearn: 42.7710806\ttotal: 1.46s\tremaining: 1.03s\n",
            "586:\tlearn: 42.5351412\ttotal: 1.46s\tremaining: 1.03s\n",
            "587:\tlearn: 42.4784055\ttotal: 1.47s\tremaining: 1.03s\n",
            "588:\tlearn: 42.3174788\ttotal: 1.47s\tremaining: 1.02s\n",
            "589:\tlearn: 42.1761529\ttotal: 1.47s\tremaining: 1.02s\n",
            "590:\tlearn: 42.0486059\ttotal: 1.47s\tremaining: 1.02s\n",
            "591:\tlearn: 41.8689529\ttotal: 1.48s\tremaining: 1.02s\n",
            "592:\tlearn: 41.8306286\ttotal: 1.48s\tremaining: 1.01s\n",
            "593:\tlearn: 41.6966124\ttotal: 1.48s\tremaining: 1.01s\n",
            "594:\tlearn: 41.6647082\ttotal: 1.48s\tremaining: 1.01s\n",
            "595:\tlearn: 41.5609917\ttotal: 1.48s\tremaining: 1.01s\n",
            "596:\tlearn: 41.4632566\ttotal: 1.49s\tremaining: 1s\n",
            "597:\tlearn: 41.3899602\ttotal: 1.49s\tremaining: 1s\n",
            "598:\tlearn: 41.2152047\ttotal: 1.49s\tremaining: 999ms\n",
            "599:\tlearn: 41.0959753\ttotal: 1.49s\tremaining: 996ms\n",
            "600:\tlearn: 40.9815009\ttotal: 1.5s\tremaining: 993ms\n",
            "601:\tlearn: 40.8912971\ttotal: 1.5s\tremaining: 991ms\n",
            "602:\tlearn: 40.7881395\ttotal: 1.5s\tremaining: 988ms\n",
            "603:\tlearn: 40.6325570\ttotal: 1.5s\tremaining: 985ms\n",
            "604:\tlearn: 40.4083902\ttotal: 1.5s\tremaining: 983ms\n",
            "605:\tlearn: 40.3292737\ttotal: 1.51s\tremaining: 980ms\n",
            "606:\tlearn: 40.2629492\ttotal: 1.51s\tremaining: 978ms\n",
            "607:\tlearn: 40.2448471\ttotal: 1.51s\tremaining: 975ms\n",
            "608:\tlearn: 40.2293673\ttotal: 1.51s\tremaining: 972ms\n",
            "609:\tlearn: 40.0978829\ttotal: 1.52s\tremaining: 969ms\n",
            "610:\tlearn: 40.0512268\ttotal: 1.52s\tremaining: 967ms\n",
            "611:\tlearn: 39.8920221\ttotal: 1.52s\tremaining: 964ms\n",
            "612:\tlearn: 39.8591122\ttotal: 1.52s\tremaining: 962ms\n",
            "613:\tlearn: 39.7261911\ttotal: 1.52s\tremaining: 959ms\n",
            "614:\tlearn: 39.6986628\ttotal: 1.53s\tremaining: 956ms\n",
            "615:\tlearn: 39.5659851\ttotal: 1.53s\tremaining: 954ms\n",
            "616:\tlearn: 39.4815274\ttotal: 1.53s\tremaining: 951ms\n",
            "617:\tlearn: 39.3682607\ttotal: 1.53s\tremaining: 948ms\n",
            "618:\tlearn: 39.2643803\ttotal: 1.54s\tremaining: 946ms\n",
            "619:\tlearn: 39.1307437\ttotal: 1.54s\tremaining: 943ms\n",
            "620:\tlearn: 38.9596117\ttotal: 1.54s\tremaining: 941ms\n",
            "621:\tlearn: 38.8456302\ttotal: 1.54s\tremaining: 938ms\n",
            "622:\tlearn: 38.7810676\ttotal: 1.55s\tremaining: 936ms\n",
            "623:\tlearn: 38.7450983\ttotal: 1.55s\tremaining: 934ms\n",
            "624:\tlearn: 38.6788090\ttotal: 1.55s\tremaining: 932ms\n",
            "625:\tlearn: 38.5788475\ttotal: 1.56s\tremaining: 931ms\n",
            "626:\tlearn: 38.4675366\ttotal: 1.56s\tremaining: 929ms\n",
            "627:\tlearn: 38.2350724\ttotal: 1.56s\tremaining: 928ms\n",
            "628:\tlearn: 38.2074221\ttotal: 1.57s\tremaining: 925ms\n",
            "629:\tlearn: 38.0622880\ttotal: 1.57s\tremaining: 922ms\n",
            "630:\tlearn: 37.8520281\ttotal: 1.57s\tremaining: 920ms\n",
            "631:\tlearn: 37.6631204\ttotal: 1.57s\tremaining: 917ms\n",
            "632:\tlearn: 37.5153877\ttotal: 1.58s\tremaining: 914ms\n",
            "633:\tlearn: 37.3834892\ttotal: 1.58s\tremaining: 912ms\n",
            "634:\tlearn: 37.2552166\ttotal: 1.58s\tremaining: 909ms\n",
            "635:\tlearn: 37.0779047\ttotal: 1.58s\tremaining: 906ms\n",
            "636:\tlearn: 37.0329263\ttotal: 1.58s\tremaining: 904ms\n",
            "637:\tlearn: 36.8927982\ttotal: 1.59s\tremaining: 901ms\n",
            "638:\tlearn: 36.8105498\ttotal: 1.59s\tremaining: 898ms\n",
            "639:\tlearn: 36.7512624\ttotal: 1.59s\tremaining: 896ms\n",
            "640:\tlearn: 36.5891302\ttotal: 1.59s\tremaining: 893ms\n",
            "641:\tlearn: 36.4551656\ttotal: 1.6s\tremaining: 891ms\n",
            "642:\tlearn: 36.4318588\ttotal: 1.6s\tremaining: 888ms\n",
            "643:\tlearn: 36.4074785\ttotal: 1.6s\tremaining: 886ms\n",
            "644:\tlearn: 36.2579510\ttotal: 1.6s\tremaining: 883ms\n",
            "645:\tlearn: 36.1413504\ttotal: 1.61s\tremaining: 880ms\n",
            "646:\tlearn: 36.0078406\ttotal: 1.61s\tremaining: 878ms\n",
            "647:\tlearn: 35.8909828\ttotal: 1.61s\tremaining: 875ms\n",
            "648:\tlearn: 35.7426906\ttotal: 1.61s\tremaining: 873ms\n",
            "649:\tlearn: 35.5963108\ttotal: 1.61s\tremaining: 870ms\n",
            "650:\tlearn: 35.4623805\ttotal: 1.62s\tremaining: 867ms\n",
            "651:\tlearn: 35.4428004\ttotal: 1.62s\tremaining: 865ms\n",
            "652:\tlearn: 35.3007158\ttotal: 1.62s\tremaining: 862ms\n",
            "653:\tlearn: 35.1510309\ttotal: 1.62s\tremaining: 860ms\n",
            "654:\tlearn: 35.1258328\ttotal: 1.63s\tremaining: 857ms\n",
            "655:\tlearn: 35.0183795\ttotal: 1.63s\tremaining: 855ms\n",
            "656:\tlearn: 34.9003271\ttotal: 1.63s\tremaining: 853ms\n",
            "657:\tlearn: 34.7887445\ttotal: 1.64s\tremaining: 851ms\n",
            "658:\tlearn: 34.6253676\ttotal: 1.64s\tremaining: 848ms\n",
            "659:\tlearn: 34.5506116\ttotal: 1.64s\tremaining: 845ms\n",
            "660:\tlearn: 34.4197699\ttotal: 1.64s\tremaining: 843ms\n",
            "661:\tlearn: 34.3097495\ttotal: 1.65s\tremaining: 840ms\n",
            "662:\tlearn: 34.1572027\ttotal: 1.65s\tremaining: 838ms\n",
            "663:\tlearn: 34.1441284\ttotal: 1.65s\tremaining: 835ms\n",
            "664:\tlearn: 34.0600732\ttotal: 1.65s\tremaining: 832ms\n",
            "665:\tlearn: 34.0500587\ttotal: 1.65s\tremaining: 830ms\n",
            "666:\tlearn: 33.9193340\ttotal: 1.66s\tremaining: 827ms\n",
            "667:\tlearn: 33.7564013\ttotal: 1.66s\tremaining: 825ms\n",
            "668:\tlearn: 33.6528749\ttotal: 1.66s\tremaining: 822ms\n",
            "669:\tlearn: 33.5681199\ttotal: 1.66s\tremaining: 819ms\n",
            "670:\tlearn: 33.4451433\ttotal: 1.67s\tremaining: 817ms\n",
            "671:\tlearn: 33.3468901\ttotal: 1.67s\tremaining: 814ms\n",
            "672:\tlearn: 33.2486282\ttotal: 1.67s\tremaining: 812ms\n",
            "673:\tlearn: 33.2302888\ttotal: 1.67s\tremaining: 809ms\n",
            "674:\tlearn: 33.0558859\ttotal: 1.67s\tremaining: 806ms\n",
            "675:\tlearn: 32.9700344\ttotal: 1.68s\tremaining: 804ms\n",
            "676:\tlearn: 32.8501642\ttotal: 1.68s\tremaining: 801ms\n",
            "677:\tlearn: 32.7340426\ttotal: 1.68s\tremaining: 799ms\n",
            "678:\tlearn: 32.7121017\ttotal: 1.68s\tremaining: 796ms\n",
            "679:\tlearn: 32.6200569\ttotal: 1.69s\tremaining: 794ms\n",
            "680:\tlearn: 32.5052371\ttotal: 1.69s\tremaining: 791ms\n",
            "681:\tlearn: 32.3916969\ttotal: 1.69s\tremaining: 788ms\n",
            "682:\tlearn: 32.2925704\ttotal: 1.69s\tremaining: 786ms\n",
            "683:\tlearn: 32.1901836\ttotal: 1.7s\tremaining: 783ms\n",
            "684:\tlearn: 32.1810795\ttotal: 1.7s\tremaining: 781ms\n",
            "685:\tlearn: 32.0538798\ttotal: 1.7s\tremaining: 778ms\n",
            "686:\tlearn: 31.9695880\ttotal: 1.7s\tremaining: 776ms\n",
            "687:\tlearn: 31.8186240\ttotal: 1.7s\tremaining: 773ms\n",
            "688:\tlearn: 31.7717776\ttotal: 1.71s\tremaining: 771ms\n",
            "689:\tlearn: 31.6271069\ttotal: 1.71s\tremaining: 768ms\n",
            "690:\tlearn: 31.4257754\ttotal: 1.71s\tremaining: 765ms\n",
            "691:\tlearn: 31.3158018\ttotal: 1.71s\tremaining: 763ms\n",
            "692:\tlearn: 31.2062456\ttotal: 1.72s\tremaining: 760ms\n",
            "693:\tlearn: 31.1002943\ttotal: 1.72s\tremaining: 758ms\n",
            "694:\tlearn: 31.0204694\ttotal: 1.72s\tremaining: 755ms\n",
            "695:\tlearn: 30.8638326\ttotal: 1.72s\tremaining: 753ms\n",
            "696:\tlearn: 30.8558418\ttotal: 1.73s\tremaining: 750ms\n",
            "697:\tlearn: 30.7168233\ttotal: 1.73s\tremaining: 748ms\n",
            "698:\tlearn: 30.6741149\ttotal: 1.73s\tremaining: 746ms\n",
            "699:\tlearn: 30.5633505\ttotal: 1.74s\tremaining: 744ms\n",
            "700:\tlearn: 30.3980151\ttotal: 1.74s\tremaining: 741ms\n",
            "701:\tlearn: 30.3868882\ttotal: 1.74s\tremaining: 739ms\n",
            "702:\tlearn: 30.3095110\ttotal: 1.74s\tremaining: 736ms\n",
            "703:\tlearn: 30.2001626\ttotal: 1.74s\tremaining: 733ms\n",
            "704:\tlearn: 30.1086639\ttotal: 1.75s\tremaining: 731ms\n",
            "705:\tlearn: 30.0062050\ttotal: 1.75s\tremaining: 728ms\n",
            "706:\tlearn: 29.9366332\ttotal: 1.75s\tremaining: 726ms\n",
            "707:\tlearn: 29.8514157\ttotal: 1.75s\tremaining: 724ms\n",
            "708:\tlearn: 29.8410197\ttotal: 1.76s\tremaining: 722ms\n",
            "709:\tlearn: 29.7691296\ttotal: 1.76s\tremaining: 720ms\n",
            "710:\tlearn: 29.6347315\ttotal: 1.76s\tremaining: 717ms\n",
            "711:\tlearn: 29.5690771\ttotal: 1.77s\tremaining: 715ms\n",
            "712:\tlearn: 29.4717613\ttotal: 1.77s\tremaining: 712ms\n",
            "713:\tlearn: 29.3453955\ttotal: 1.77s\tremaining: 710ms\n",
            "714:\tlearn: 29.3183996\ttotal: 1.77s\tremaining: 707ms\n",
            "715:\tlearn: 29.2357029\ttotal: 1.78s\tremaining: 705ms\n",
            "716:\tlearn: 29.1493484\ttotal: 1.78s\tremaining: 702ms\n",
            "717:\tlearn: 29.1412750\ttotal: 1.78s\tremaining: 699ms\n",
            "718:\tlearn: 29.0633640\ttotal: 1.78s\tremaining: 697ms\n",
            "719:\tlearn: 29.0063752\ttotal: 1.78s\tremaining: 694ms\n",
            "720:\tlearn: 28.8895697\ttotal: 1.79s\tremaining: 691ms\n",
            "721:\tlearn: 28.8127439\ttotal: 1.79s\tremaining: 689ms\n",
            "722:\tlearn: 28.7979935\ttotal: 1.79s\tremaining: 686ms\n",
            "723:\tlearn: 28.7730564\ttotal: 1.79s\tremaining: 684ms\n",
            "724:\tlearn: 28.6841951\ttotal: 1.79s\tremaining: 681ms\n",
            "725:\tlearn: 28.6192690\ttotal: 1.8s\tremaining: 679ms\n",
            "726:\tlearn: 28.5382100\ttotal: 1.8s\tremaining: 676ms\n",
            "727:\tlearn: 28.4124604\ttotal: 1.8s\tremaining: 674ms\n",
            "728:\tlearn: 28.3992354\ttotal: 1.8s\tremaining: 671ms\n",
            "729:\tlearn: 28.2458739\ttotal: 1.81s\tremaining: 668ms\n",
            "730:\tlearn: 28.1698858\ttotal: 1.81s\tremaining: 666ms\n",
            "731:\tlearn: 28.0857240\ttotal: 1.81s\tremaining: 663ms\n",
            "732:\tlearn: 28.0631865\ttotal: 1.81s\tremaining: 661ms\n",
            "733:\tlearn: 27.9617138\ttotal: 1.82s\tremaining: 658ms\n",
            "734:\tlearn: 27.9296040\ttotal: 1.82s\tremaining: 656ms\n",
            "735:\tlearn: 27.8714544\ttotal: 1.82s\tremaining: 653ms\n",
            "736:\tlearn: 27.8468105\ttotal: 1.82s\tremaining: 650ms\n",
            "737:\tlearn: 27.7605180\ttotal: 1.82s\tremaining: 648ms\n",
            "738:\tlearn: 27.6731250\ttotal: 1.83s\tremaining: 645ms\n",
            "739:\tlearn: 27.6662586\ttotal: 1.83s\tremaining: 642ms\n",
            "740:\tlearn: 27.6319100\ttotal: 1.83s\tremaining: 640ms\n",
            "741:\tlearn: 27.5465757\ttotal: 1.83s\tremaining: 637ms\n",
            "742:\tlearn: 27.4710735\ttotal: 1.83s\tremaining: 634ms\n",
            "743:\tlearn: 27.4510659\ttotal: 1.84s\tremaining: 632ms\n",
            "744:\tlearn: 27.3748617\ttotal: 1.84s\tremaining: 630ms\n",
            "745:\tlearn: 27.3633452\ttotal: 1.84s\tremaining: 627ms\n",
            "746:\tlearn: 27.2959571\ttotal: 1.84s\tremaining: 625ms\n",
            "747:\tlearn: 27.1315947\ttotal: 1.85s\tremaining: 622ms\n",
            "748:\tlearn: 27.0550248\ttotal: 1.85s\tremaining: 619ms\n",
            "749:\tlearn: 27.0373435\ttotal: 1.85s\tremaining: 617ms\n",
            "750:\tlearn: 26.9726665\ttotal: 1.85s\tremaining: 614ms\n",
            "751:\tlearn: 26.9145554\ttotal: 1.85s\tremaining: 612ms\n",
            "752:\tlearn: 26.8976495\ttotal: 1.86s\tremaining: 609ms\n",
            "753:\tlearn: 26.8013163\ttotal: 1.86s\tremaining: 607ms\n",
            "754:\tlearn: 26.7203712\ttotal: 1.86s\tremaining: 604ms\n",
            "755:\tlearn: 26.5829005\ttotal: 1.86s\tremaining: 602ms\n",
            "756:\tlearn: 26.4324310\ttotal: 1.87s\tremaining: 599ms\n",
            "757:\tlearn: 26.2890218\ttotal: 1.87s\tremaining: 597ms\n",
            "758:\tlearn: 26.1965245\ttotal: 1.87s\tremaining: 594ms\n",
            "759:\tlearn: 26.1810870\ttotal: 1.87s\tremaining: 592ms\n",
            "760:\tlearn: 26.1187072\ttotal: 1.88s\tremaining: 589ms\n",
            "761:\tlearn: 26.0637705\ttotal: 1.88s\tremaining: 587ms\n",
            "762:\tlearn: 25.9562461\ttotal: 1.88s\tremaining: 585ms\n",
            "763:\tlearn: 25.8386943\ttotal: 1.88s\tremaining: 582ms\n",
            "764:\tlearn: 25.7790725\ttotal: 1.89s\tremaining: 580ms\n",
            "765:\tlearn: 25.6701106\ttotal: 1.89s\tremaining: 577ms\n",
            "766:\tlearn: 25.6362119\ttotal: 1.89s\tremaining: 575ms\n",
            "767:\tlearn: 25.6252040\ttotal: 1.89s\tremaining: 572ms\n",
            "768:\tlearn: 25.5249470\ttotal: 1.9s\tremaining: 570ms\n",
            "769:\tlearn: 25.4610308\ttotal: 1.9s\tremaining: 567ms\n",
            "770:\tlearn: 25.3338917\ttotal: 1.9s\tremaining: 564ms\n",
            "771:\tlearn: 25.2081591\ttotal: 1.9s\tremaining: 562ms\n",
            "772:\tlearn: 25.1976317\ttotal: 1.9s\tremaining: 559ms\n",
            "773:\tlearn: 25.1309682\ttotal: 1.91s\tremaining: 557ms\n",
            "774:\tlearn: 25.0198547\ttotal: 1.91s\tremaining: 554ms\n",
            "775:\tlearn: 24.9490229\ttotal: 1.91s\tremaining: 552ms\n",
            "776:\tlearn: 24.9028200\ttotal: 1.91s\tremaining: 549ms\n",
            "777:\tlearn: 24.8337886\ttotal: 1.92s\tremaining: 547ms\n",
            "778:\tlearn: 24.7433955\ttotal: 1.92s\tremaining: 545ms\n",
            "779:\tlearn: 24.6167855\ttotal: 1.92s\tremaining: 543ms\n",
            "780:\tlearn: 24.5516424\ttotal: 1.93s\tremaining: 540ms\n",
            "781:\tlearn: 24.3925316\ttotal: 1.93s\tremaining: 538ms\n",
            "782:\tlearn: 24.3473598\ttotal: 1.93s\tremaining: 535ms\n",
            "783:\tlearn: 24.2382596\ttotal: 1.93s\tremaining: 533ms\n",
            "784:\tlearn: 24.1741117\ttotal: 1.94s\tremaining: 530ms\n",
            "785:\tlearn: 24.1282632\ttotal: 1.94s\tremaining: 528ms\n",
            "786:\tlearn: 24.1150038\ttotal: 1.94s\tremaining: 525ms\n",
            "787:\tlearn: 24.0552315\ttotal: 1.94s\tremaining: 523ms\n",
            "788:\tlearn: 24.0020307\ttotal: 1.95s\tremaining: 520ms\n",
            "789:\tlearn: 23.9582172\ttotal: 1.95s\tremaining: 518ms\n",
            "790:\tlearn: 23.9466945\ttotal: 1.95s\tremaining: 516ms\n",
            "791:\tlearn: 23.9012494\ttotal: 1.96s\tremaining: 514ms\n",
            "792:\tlearn: 23.8902062\ttotal: 1.96s\tremaining: 511ms\n",
            "793:\tlearn: 23.8375677\ttotal: 1.96s\tremaining: 509ms\n",
            "794:\tlearn: 23.8275049\ttotal: 1.96s\tremaining: 506ms\n",
            "795:\tlearn: 23.7639978\ttotal: 1.97s\tremaining: 504ms\n",
            "796:\tlearn: 23.7210385\ttotal: 1.97s\tremaining: 501ms\n",
            "797:\tlearn: 23.7118867\ttotal: 1.97s\tremaining: 499ms\n",
            "798:\tlearn: 23.6210770\ttotal: 1.97s\tremaining: 496ms\n",
            "799:\tlearn: 23.5667973\ttotal: 1.98s\tremaining: 494ms\n",
            "800:\tlearn: 23.5093551\ttotal: 1.98s\tremaining: 491ms\n",
            "801:\tlearn: 23.4248240\ttotal: 1.98s\tremaining: 489ms\n",
            "802:\tlearn: 23.3851975\ttotal: 1.98s\tremaining: 486ms\n",
            "803:\tlearn: 23.2576151\ttotal: 1.98s\tremaining: 484ms\n",
            "804:\tlearn: 23.1403284\ttotal: 1.99s\tremaining: 481ms\n",
            "805:\tlearn: 23.0861220\ttotal: 1.99s\tremaining: 479ms\n",
            "806:\tlearn: 23.0179965\ttotal: 1.99s\tremaining: 476ms\n",
            "807:\tlearn: 22.9499510\ttotal: 1.99s\tremaining: 474ms\n",
            "808:\tlearn: 22.9093322\ttotal: 2s\tremaining: 471ms\n",
            "809:\tlearn: 22.8749288\ttotal: 2s\tremaining: 469ms\n",
            "810:\tlearn: 22.8082947\ttotal: 2s\tremaining: 466ms\n",
            "811:\tlearn: 22.7734708\ttotal: 2s\tremaining: 464ms\n",
            "812:\tlearn: 22.6526692\ttotal: 2s\tremaining: 461ms\n",
            "813:\tlearn: 22.5530242\ttotal: 2.01s\tremaining: 458ms\n",
            "814:\tlearn: 22.4717488\ttotal: 2.01s\tremaining: 456ms\n",
            "815:\tlearn: 22.4620780\ttotal: 2.01s\tremaining: 453ms\n",
            "816:\tlearn: 22.4023061\ttotal: 2.01s\tremaining: 451ms\n",
            "817:\tlearn: 22.3578971\ttotal: 2.02s\tremaining: 448ms\n",
            "818:\tlearn: 22.3087689\ttotal: 2.02s\tremaining: 446ms\n",
            "819:\tlearn: 22.3046658\ttotal: 2.02s\tremaining: 443ms\n",
            "820:\tlearn: 22.2330663\ttotal: 2.02s\tremaining: 441ms\n",
            "821:\tlearn: 22.1591095\ttotal: 2.02s\tremaining: 438ms\n",
            "822:\tlearn: 22.1550239\ttotal: 2.02s\tremaining: 435ms\n",
            "823:\tlearn: 22.1463899\ttotal: 2.03s\tremaining: 433ms\n",
            "824:\tlearn: 22.1315815\ttotal: 2.03s\tremaining: 430ms\n",
            "825:\tlearn: 22.0652590\ttotal: 2.03s\tremaining: 428ms\n",
            "826:\tlearn: 22.0221121\ttotal: 2.03s\tremaining: 425ms\n",
            "827:\tlearn: 21.9774501\ttotal: 2.04s\tremaining: 423ms\n",
            "828:\tlearn: 21.9395292\ttotal: 2.04s\tremaining: 420ms\n",
            "829:\tlearn: 21.8508549\ttotal: 2.04s\tremaining: 418ms\n",
            "830:\tlearn: 21.8190935\ttotal: 2.04s\tremaining: 415ms\n",
            "831:\tlearn: 21.8109670\ttotal: 2.05s\tremaining: 413ms\n",
            "832:\tlearn: 21.7578310\ttotal: 2.05s\tremaining: 411ms\n",
            "833:\tlearn: 21.6862934\ttotal: 2.05s\tremaining: 409ms\n",
            "834:\tlearn: 21.6036840\ttotal: 2.05s\tremaining: 406ms\n",
            "835:\tlearn: 21.5099448\ttotal: 2.06s\tremaining: 404ms\n",
            "836:\tlearn: 21.4677400\ttotal: 2.06s\tremaining: 401ms\n",
            "837:\tlearn: 21.4091690\ttotal: 2.06s\tremaining: 399ms\n",
            "838:\tlearn: 21.3466938\ttotal: 2.06s\tremaining: 396ms\n",
            "839:\tlearn: 21.2298144\ttotal: 2.07s\tremaining: 394ms\n",
            "840:\tlearn: 21.1270373\ttotal: 2.07s\tremaining: 391ms\n",
            "841:\tlearn: 21.0373314\ttotal: 2.07s\tremaining: 389ms\n",
            "842:\tlearn: 20.9835159\ttotal: 2.07s\tremaining: 386ms\n",
            "843:\tlearn: 20.8484600\ttotal: 2.08s\tremaining: 384ms\n",
            "844:\tlearn: 20.7891557\ttotal: 2.08s\tremaining: 381ms\n",
            "845:\tlearn: 20.7291399\ttotal: 2.08s\tremaining: 379ms\n",
            "846:\tlearn: 20.6849494\ttotal: 2.08s\tremaining: 376ms\n",
            "847:\tlearn: 20.6154963\ttotal: 2.08s\tremaining: 374ms\n",
            "848:\tlearn: 20.5405276\ttotal: 2.09s\tremaining: 371ms\n",
            "849:\tlearn: 20.5016669\ttotal: 2.09s\tremaining: 369ms\n",
            "850:\tlearn: 20.4700003\ttotal: 2.09s\tremaining: 366ms\n",
            "851:\tlearn: 20.4163286\ttotal: 2.09s\tremaining: 364ms\n",
            "852:\tlearn: 20.3832418\ttotal: 2.1s\tremaining: 361ms\n",
            "853:\tlearn: 20.3012184\ttotal: 2.1s\tremaining: 359ms\n",
            "854:\tlearn: 20.2920333\ttotal: 2.1s\tremaining: 356ms\n",
            "855:\tlearn: 20.2053869\ttotal: 2.1s\tremaining: 354ms\n",
            "856:\tlearn: 20.1658977\ttotal: 2.1s\tremaining: 351ms\n",
            "857:\tlearn: 20.1100216\ttotal: 2.11s\tremaining: 349ms\n",
            "858:\tlearn: 20.0083729\ttotal: 2.11s\tremaining: 346ms\n",
            "859:\tlearn: 19.9455311\ttotal: 2.11s\tremaining: 344ms\n",
            "860:\tlearn: 19.8796059\ttotal: 2.11s\tremaining: 341ms\n",
            "861:\tlearn: 19.8565398\ttotal: 2.12s\tremaining: 339ms\n",
            "862:\tlearn: 19.7320152\ttotal: 2.12s\tremaining: 336ms\n",
            "863:\tlearn: 19.6553629\ttotal: 2.12s\tremaining: 334ms\n",
            "864:\tlearn: 19.5653904\ttotal: 2.12s\tremaining: 331ms\n",
            "865:\tlearn: 19.5044019\ttotal: 2.13s\tremaining: 329ms\n",
            "866:\tlearn: 19.4952821\ttotal: 2.13s\tremaining: 327ms\n",
            "867:\tlearn: 19.4417196\ttotal: 2.13s\tremaining: 324ms\n",
            "868:\tlearn: 19.3928280\ttotal: 2.13s\tremaining: 322ms\n",
            "869:\tlearn: 19.3310543\ttotal: 2.13s\tremaining: 319ms\n",
            "870:\tlearn: 19.2860856\ttotal: 2.14s\tremaining: 317ms\n",
            "871:\tlearn: 19.1689820\ttotal: 2.14s\tremaining: 314ms\n",
            "872:\tlearn: 19.0656586\ttotal: 2.14s\tremaining: 312ms\n",
            "873:\tlearn: 19.0585347\ttotal: 2.14s\tremaining: 309ms\n",
            "874:\tlearn: 19.0124418\ttotal: 2.15s\tremaining: 307ms\n",
            "875:\tlearn: 18.9798186\ttotal: 2.15s\tremaining: 304ms\n",
            "876:\tlearn: 18.8896499\ttotal: 2.15s\tremaining: 302ms\n",
            "877:\tlearn: 18.8379639\ttotal: 2.16s\tremaining: 300ms\n",
            "878:\tlearn: 18.8312106\ttotal: 2.16s\tremaining: 298ms\n",
            "879:\tlearn: 18.7718969\ttotal: 2.17s\tremaining: 296ms\n",
            "880:\tlearn: 18.7453473\ttotal: 2.17s\tremaining: 293ms\n",
            "881:\tlearn: 18.6851317\ttotal: 2.17s\tremaining: 291ms\n",
            "882:\tlearn: 18.5988650\ttotal: 2.17s\tremaining: 288ms\n",
            "883:\tlearn: 18.5525116\ttotal: 2.18s\tremaining: 286ms\n",
            "884:\tlearn: 18.4964362\ttotal: 2.18s\tremaining: 283ms\n",
            "885:\tlearn: 18.4542378\ttotal: 2.18s\tremaining: 281ms\n",
            "886:\tlearn: 18.4053368\ttotal: 2.19s\tremaining: 278ms\n",
            "887:\tlearn: 18.3676513\ttotal: 2.19s\tremaining: 276ms\n",
            "888:\tlearn: 18.3048839\ttotal: 2.19s\tremaining: 273ms\n",
            "889:\tlearn: 18.2501678\ttotal: 2.19s\tremaining: 271ms\n",
            "890:\tlearn: 18.2421410\ttotal: 2.19s\tremaining: 268ms\n",
            "891:\tlearn: 18.1820355\ttotal: 2.2s\tremaining: 266ms\n",
            "892:\tlearn: 18.1045997\ttotal: 2.2s\tremaining: 263ms\n",
            "893:\tlearn: 18.0516539\ttotal: 2.2s\tremaining: 261ms\n",
            "894:\tlearn: 17.9507407\ttotal: 2.2s\tremaining: 259ms\n",
            "895:\tlearn: 17.8656394\ttotal: 2.21s\tremaining: 256ms\n",
            "896:\tlearn: 17.8130004\ttotal: 2.21s\tremaining: 254ms\n",
            "897:\tlearn: 17.8056685\ttotal: 2.21s\tremaining: 251ms\n",
            "898:\tlearn: 17.7479301\ttotal: 2.21s\tremaining: 249ms\n",
            "899:\tlearn: 17.6628775\ttotal: 2.21s\tremaining: 246ms\n",
            "900:\tlearn: 17.6036263\ttotal: 2.22s\tremaining: 244ms\n",
            "901:\tlearn: 17.5548725\ttotal: 2.22s\tremaining: 241ms\n",
            "902:\tlearn: 17.5112982\ttotal: 2.22s\tremaining: 239ms\n",
            "903:\tlearn: 17.4337097\ttotal: 2.22s\tremaining: 236ms\n",
            "904:\tlearn: 17.3438812\ttotal: 2.23s\tremaining: 234ms\n",
            "905:\tlearn: 17.2978952\ttotal: 2.23s\tremaining: 231ms\n",
            "906:\tlearn: 17.2705120\ttotal: 2.23s\tremaining: 229ms\n",
            "907:\tlearn: 17.2197843\ttotal: 2.23s\tremaining: 226ms\n",
            "908:\tlearn: 17.1672918\ttotal: 2.24s\tremaining: 224ms\n",
            "909:\tlearn: 17.0962813\ttotal: 2.24s\tremaining: 221ms\n",
            "910:\tlearn: 17.0367884\ttotal: 2.24s\tremaining: 219ms\n",
            "911:\tlearn: 16.9995434\ttotal: 2.24s\tremaining: 216ms\n",
            "912:\tlearn: 16.9503108\ttotal: 2.25s\tremaining: 214ms\n",
            "913:\tlearn: 16.8634821\ttotal: 2.25s\tremaining: 211ms\n",
            "914:\tlearn: 16.8562342\ttotal: 2.25s\tremaining: 209ms\n",
            "915:\tlearn: 16.8266675\ttotal: 2.25s\tremaining: 207ms\n",
            "916:\tlearn: 16.8202756\ttotal: 2.25s\tremaining: 204ms\n",
            "917:\tlearn: 16.8140117\ttotal: 2.26s\tremaining: 202ms\n",
            "918:\tlearn: 16.7657793\ttotal: 2.26s\tremaining: 199ms\n",
            "919:\tlearn: 16.7455489\ttotal: 2.26s\tremaining: 197ms\n",
            "920:\tlearn: 16.7350234\ttotal: 2.26s\tremaining: 194ms\n",
            "921:\tlearn: 16.6764784\ttotal: 2.27s\tremaining: 192ms\n",
            "922:\tlearn: 16.6413683\ttotal: 2.27s\tremaining: 189ms\n",
            "923:\tlearn: 16.6313216\ttotal: 2.27s\tremaining: 187ms\n",
            "924:\tlearn: 16.5737890\ttotal: 2.27s\tremaining: 184ms\n",
            "925:\tlearn: 16.5612564\ttotal: 2.27s\tremaining: 182ms\n",
            "926:\tlearn: 16.5194103\ttotal: 2.28s\tremaining: 180ms\n",
            "927:\tlearn: 16.4774875\ttotal: 2.28s\tremaining: 177ms\n",
            "928:\tlearn: 16.4716862\ttotal: 2.29s\tremaining: 175ms\n",
            "929:\tlearn: 16.4373752\ttotal: 2.29s\tremaining: 172ms\n",
            "930:\tlearn: 16.4285377\ttotal: 2.29s\tremaining: 170ms\n",
            "931:\tlearn: 16.3673869\ttotal: 2.29s\tremaining: 167ms\n",
            "932:\tlearn: 16.3185470\ttotal: 2.29s\tremaining: 165ms\n",
            "933:\tlearn: 16.2631467\ttotal: 2.3s\tremaining: 162ms\n",
            "934:\tlearn: 16.1934975\ttotal: 2.3s\tremaining: 160ms\n",
            "935:\tlearn: 16.1884481\ttotal: 2.3s\tremaining: 157ms\n",
            "936:\tlearn: 16.1500024\ttotal: 2.3s\tremaining: 155ms\n",
            "937:\tlearn: 16.1409804\ttotal: 2.31s\tremaining: 152ms\n",
            "938:\tlearn: 16.0683587\ttotal: 2.31s\tremaining: 150ms\n",
            "939:\tlearn: 15.9809030\ttotal: 2.31s\tremaining: 147ms\n",
            "940:\tlearn: 15.8978202\ttotal: 2.31s\tremaining: 145ms\n",
            "941:\tlearn: 15.8709900\ttotal: 2.31s\tremaining: 143ms\n",
            "942:\tlearn: 15.8344018\ttotal: 2.32s\tremaining: 140ms\n",
            "943:\tlearn: 15.8295482\ttotal: 2.32s\tremaining: 138ms\n",
            "944:\tlearn: 15.7744973\ttotal: 2.32s\tremaining: 135ms\n",
            "945:\tlearn: 15.7305450\ttotal: 2.32s\tremaining: 133ms\n",
            "946:\tlearn: 15.6857434\ttotal: 2.33s\tremaining: 130ms\n",
            "947:\tlearn: 15.6591016\ttotal: 2.33s\tremaining: 128ms\n",
            "948:\tlearn: 15.6314256\ttotal: 2.33s\tremaining: 125ms\n",
            "949:\tlearn: 15.5788777\ttotal: 2.33s\tremaining: 123ms\n",
            "950:\tlearn: 15.5325554\ttotal: 2.33s\tremaining: 120ms\n",
            "951:\tlearn: 15.4890930\ttotal: 2.34s\tremaining: 118ms\n",
            "952:\tlearn: 15.4263779\ttotal: 2.34s\tremaining: 115ms\n",
            "953:\tlearn: 15.3892307\ttotal: 2.34s\tremaining: 113ms\n",
            "954:\tlearn: 15.3531641\ttotal: 2.34s\tremaining: 110ms\n",
            "955:\tlearn: 15.3172544\ttotal: 2.35s\tremaining: 108ms\n",
            "956:\tlearn: 15.2722481\ttotal: 2.35s\tremaining: 106ms\n",
            "957:\tlearn: 15.2509946\ttotal: 2.36s\tremaining: 103ms\n",
            "958:\tlearn: 15.2106080\ttotal: 2.36s\tremaining: 101ms\n",
            "959:\tlearn: 15.1550705\ttotal: 2.36s\tremaining: 98.5ms\n",
            "960:\tlearn: 15.1198927\ttotal: 2.37s\tremaining: 96.1ms\n",
            "961:\tlearn: 15.0521121\ttotal: 2.37s\tremaining: 93.7ms\n",
            "962:\tlearn: 15.0138282\ttotal: 2.37s\tremaining: 91.2ms\n",
            "963:\tlearn: 14.9511473\ttotal: 2.38s\tremaining: 88.8ms\n",
            "964:\tlearn: 14.9013556\ttotal: 2.38s\tremaining: 86.3ms\n",
            "965:\tlearn: 14.8491591\ttotal: 2.38s\tremaining: 83.9ms\n",
            "966:\tlearn: 14.7846364\ttotal: 2.38s\tremaining: 81.4ms\n",
            "967:\tlearn: 14.7378076\ttotal: 2.39s\tremaining: 78.9ms\n",
            "968:\tlearn: 14.6963646\ttotal: 2.39s\tremaining: 76.4ms\n",
            "969:\tlearn: 14.6368320\ttotal: 2.39s\tremaining: 74ms\n",
            "970:\tlearn: 14.5641432\ttotal: 2.39s\tremaining: 71.5ms\n",
            "971:\tlearn: 14.5009366\ttotal: 2.4s\tremaining: 69ms\n",
            "972:\tlearn: 14.4934257\ttotal: 2.4s\tremaining: 66.6ms\n",
            "973:\tlearn: 14.4521224\ttotal: 2.4s\tremaining: 64.1ms\n",
            "974:\tlearn: 14.4111253\ttotal: 2.4s\tremaining: 61.6ms\n",
            "975:\tlearn: 14.3698632\ttotal: 2.4s\tremaining: 59.1ms\n",
            "976:\tlearn: 14.3591191\ttotal: 2.41s\tremaining: 56.7ms\n",
            "977:\tlearn: 14.3269189\ttotal: 2.41s\tremaining: 54.3ms\n",
            "978:\tlearn: 14.2789397\ttotal: 2.42s\tremaining: 51.8ms\n",
            "979:\tlearn: 14.2216384\ttotal: 2.42s\tremaining: 49.3ms\n",
            "980:\tlearn: 14.1751644\ttotal: 2.42s\tremaining: 46.9ms\n",
            "981:\tlearn: 14.1256092\ttotal: 2.42s\tremaining: 44.4ms\n",
            "982:\tlearn: 14.0731502\ttotal: 2.42s\tremaining: 41.9ms\n",
            "983:\tlearn: 14.0117995\ttotal: 2.43s\tremaining: 39.5ms\n",
            "984:\tlearn: 13.9841830\ttotal: 2.43s\tremaining: 37ms\n",
            "985:\tlearn: 13.9230955\ttotal: 2.43s\tremaining: 34.5ms\n",
            "986:\tlearn: 13.8746811\ttotal: 2.43s\tremaining: 32ms\n",
            "987:\tlearn: 13.8092980\ttotal: 2.44s\tremaining: 29.6ms\n",
            "988:\tlearn: 13.7921958\ttotal: 2.44s\tremaining: 27.1ms\n",
            "989:\tlearn: 13.7424480\ttotal: 2.44s\tremaining: 24.6ms\n",
            "990:\tlearn: 13.6967360\ttotal: 2.44s\tremaining: 22.2ms\n",
            "991:\tlearn: 13.6709582\ttotal: 2.44s\tremaining: 19.7ms\n",
            "992:\tlearn: 13.6094706\ttotal: 2.45s\tremaining: 17.3ms\n",
            "993:\tlearn: 13.5641205\ttotal: 2.45s\tremaining: 14.8ms\n",
            "994:\tlearn: 13.5192775\ttotal: 2.45s\tremaining: 12.3ms\n",
            "995:\tlearn: 13.4902451\ttotal: 2.46s\tremaining: 9.86ms\n",
            "996:\tlearn: 13.4806052\ttotal: 2.46s\tremaining: 7.39ms\n",
            "997:\tlearn: 13.4282445\ttotal: 2.46s\tremaining: 4.93ms\n",
            "998:\tlearn: 13.4020177\ttotal: 2.46s\tremaining: 2.46ms\n",
            "999:\tlearn: 13.3781902\ttotal: 2.46s\tremaining: 0us\n"
          ],
          "name": "stdout"
        }
      ]
    },
    {
      "cell_type": "markdown",
      "metadata": {
        "id": "edrTQx_O0PqI"
      },
      "source": [
        "## Tahmin"
      ]
    },
    {
      "cell_type": "code",
      "metadata": {
        "id": "eNOM-RoX0PqI",
        "colab": {
          "base_uri": "https://localhost:8080/"
        },
        "outputId": "0a86563a-37b3-4345-cd08-04fc36fa5ef8"
      },
      "source": [
        "y_pred = catb_model.predict(X_test)\n",
        "np.sqrt(mean_squared_error(y_test, y_pred))"
      ],
      "execution_count": 93,
      "outputs": [
        {
          "output_type": "execute_result",
          "data": {
            "text/plain": [
              "350.2683163098795"
            ]
          },
          "metadata": {
            "tags": []
          },
          "execution_count": 93
        }
      ]
    },
    {
      "cell_type": "markdown",
      "metadata": {
        "id": "5AC0crgf0PqI"
      },
      "source": [
        "## Model Tuning"
      ]
    },
    {
      "cell_type": "code",
      "metadata": {
        "id": "JbtbHlxE0PqJ"
      },
      "source": [
        "catb_grid = {\n",
        "    'iterations': [200,500,1000,2000],\n",
        "    'learning_rate': [0.01, 0.03, 0.05, 0.1],\n",
        "    'depth': [3,4,5,6,7,8] }"
      ],
      "execution_count": 94,
      "outputs": []
    },
    {
      "cell_type": "code",
      "metadata": {
        "id": "xDgqTSdN0PqJ"
      },
      "source": [
        "catb = CatBoostRegressor()\n",
        "catb_cv_model = GridSearchCV(catb, catb_grid, cv=5, n_jobs = -1, verbose = 2)"
      ],
      "execution_count": 95,
      "outputs": []
    },
    {
      "cell_type": "code",
      "metadata": {
        "id": "5OPSs6ce0PqJ"
      },
      "source": [
        "catb_cv_model.fit(X_train, y_train)"
      ],
      "execution_count": null,
      "outputs": []
    },
    {
      "cell_type": "code",
      "metadata": {
        "id": "NUmk_iAd0PqK"
      },
      "source": [
        "catb_cv_model.best_params_"
      ],
      "execution_count": null,
      "outputs": []
    },
    {
      "cell_type": "code",
      "metadata": {
        "id": "CIdsHiSf0PqL"
      },
      "source": [
        "catb_tuned = CatBoostRegressor(iterations = 200, \n",
        "                               learning_rate = 0.01, \n",
        "                               depth = 8)\n",
        "\n",
        "catb_tuned = catb_tuned.fit(X_train,y_train)"
      ],
      "execution_count": null,
      "outputs": []
    },
    {
      "cell_type": "code",
      "metadata": {
        "id": "ewYq0UzC0PqM"
      },
      "source": [
        "y_pred = catb_tuned.predict(X_test)\n",
        "np.sqrt(mean_squared_error(y_test, y_pred))"
      ],
      "execution_count": null,
      "outputs": []
    }
  ]
}