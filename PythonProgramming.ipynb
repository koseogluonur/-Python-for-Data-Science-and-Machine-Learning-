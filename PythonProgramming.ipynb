{
  "nbformat": 4,
  "nbformat_minor": 0,
  "metadata": {
    "colab": {
      "name": "PythonProgramming",
      "provenance": [],
      "collapsed_sections": [],
      "toc_visible": true,
      "authorship_tag": "ABX9TyN2G19Bf8oI7BCTTyWGPuw7",
      "include_colab_link": true
    },
    "kernelspec": {
      "name": "python3",
      "display_name": "Python 3"
    }
  },
  "cells": [
    {
      "cell_type": "markdown",
      "metadata": {
        "id": "view-in-github",
        "colab_type": "text"
      },
      "source": [
        "<a href=\"https://colab.research.google.com/github/koseogluonur/-Python-for-DataScience-and-Machine-Learning-/blob/main/PythonProgramming.ipynb\" target=\"_parent\"><img src=\"https://colab.research.google.com/assets/colab-badge.svg\" alt=\"Open In Colab\"/></a>"
      ]
    },
    {
      "cell_type": "markdown",
      "metadata": {
        "id": "aGSYHE3eDLXf"
      },
      "source": [
        "# **STRINGS**"
      ]
    },
    {
      "cell_type": "code",
      "metadata": {
        "colab": {
          "base_uri": "https://localhost:8080/"
        },
        "id": "llUDyCF2Lh2j",
        "outputId": "253a6075-5d1f-4739-ee84-672b734fe6ed"
      },
      "source": [
        "type(\"Hello Onur\")"
      ],
      "execution_count": null,
      "outputs": [
        {
          "output_type": "execute_result",
          "data": {
            "text/plain": [
              "str"
            ]
          },
          "metadata": {
            "tags": []
          },
          "execution_count": 15
        }
      ]
    },
    {
      "cell_type": "code",
      "metadata": {
        "colab": {
          "base_uri": "https://localhost:8080/",
          "height": 35
        },
        "id": "hsdw5iVyyHfD",
        "outputId": "1cf5c046-9ee0-4714-ae5a-b6b9bba37822"
      },
      "source": [
        "\"a\"+\"b\""
      ],
      "execution_count": null,
      "outputs": [
        {
          "output_type": "execute_result",
          "data": {
            "application/vnd.google.colaboratory.intrinsic+json": {
              "type": "string"
            },
            "text/plain": [
              "'ab'"
            ]
          },
          "metadata": {
            "tags": []
          },
          "execution_count": 1
        }
      ]
    },
    {
      "cell_type": "code",
      "metadata": {
        "colab": {
          "base_uri": "https://localhost:8080/",
          "height": 35
        },
        "id": "oWGp7ncBy5O-",
        "outputId": "229bd87e-dc71-4d86-b2bb-70b87508c3ee"
      },
      "source": [
        "\"a\"*3"
      ],
      "execution_count": null,
      "outputs": [
        {
          "output_type": "execute_result",
          "data": {
            "application/vnd.google.colaboratory.intrinsic+json": {
              "type": "string"
            },
            "text/plain": [
              "'aaa'"
            ]
          },
          "metadata": {
            "tags": []
          },
          "execution_count": 2
        }
      ]
    },
    {
      "cell_type": "markdown",
      "metadata": {
        "id": "YnzmcTCDzP05"
      },
      "source": [
        "**Len** **Method**\r\n"
      ]
    },
    {
      "cell_type": "code",
      "metadata": {
        "id": "e5clarx2zVAe"
      },
      "source": [
        "gel_yaz=\"geleceği_yazanlar\""
      ],
      "execution_count": null,
      "outputs": []
    },
    {
      "cell_type": "code",
      "metadata": {
        "colab": {
          "base_uri": "https://localhost:8080/"
        },
        "id": "qTLcDegv05hQ",
        "outputId": "7d67a58f-3294-433f-bec1-89b723824221"
      },
      "source": [
        "len(gel_yaz)"
      ],
      "execution_count": null,
      "outputs": [
        {
          "output_type": "execute_result",
          "data": {
            "text/plain": [
              "17"
            ]
          },
          "metadata": {
            "tags": []
          },
          "execution_count": 4
        }
      ]
    },
    {
      "cell_type": "markdown",
      "metadata": {
        "id": "HiwNjHls1UkN"
      },
      "source": [
        "**Upper**&Lower **Methods**\r\n",
        "\r\n"
      ]
    },
    {
      "cell_type": "code",
      "metadata": {
        "colab": {
          "base_uri": "https://localhost:8080/",
          "height": 35
        },
        "id": "icrMJPr81byO",
        "outputId": "5598b383-157f-46d0-fda1-6047acd661c7"
      },
      "source": [
        "gel_yaz.upper()"
      ],
      "execution_count": null,
      "outputs": [
        {
          "output_type": "execute_result",
          "data": {
            "application/vnd.google.colaboratory.intrinsic+json": {
              "type": "string"
            },
            "text/plain": [
              "'GELECEĞI_YAZANLAR'"
            ]
          },
          "metadata": {
            "tags": []
          },
          "execution_count": 6
        }
      ]
    },
    {
      "cell_type": "code",
      "metadata": {
        "colab": {
          "base_uri": "https://localhost:8080/",
          "height": 35
        },
        "id": "zBfnbc3c4wRU",
        "outputId": "5f0bc76f-4988-4755-8f01-37a0adab97c2"
      },
      "source": [
        "gel_yaz.lower()"
      ],
      "execution_count": null,
      "outputs": [
        {
          "output_type": "execute_result",
          "data": {
            "application/vnd.google.colaboratory.intrinsic+json": {
              "type": "string"
            },
            "text/plain": [
              "'geleceği_yazanlar'"
            ]
          },
          "metadata": {
            "tags": []
          },
          "execution_count": 7
        }
      ]
    },
    {
      "cell_type": "code",
      "metadata": {
        "colab": {
          "base_uri": "https://localhost:8080/"
        },
        "id": "tm1MJWhI5VC2",
        "outputId": "98865d7c-c08a-4110-9439-c01329c7ec42"
      },
      "source": [
        "gel_yaz.islower()"
      ],
      "execution_count": null,
      "outputs": [
        {
          "output_type": "execute_result",
          "data": {
            "text/plain": [
              "True"
            ]
          },
          "metadata": {
            "tags": []
          },
          "execution_count": 9
        }
      ]
    },
    {
      "cell_type": "code",
      "metadata": {
        "colab": {
          "base_uri": "https://localhost:8080/"
        },
        "id": "nhINJQmI5aki",
        "outputId": "da87e0a0-537f-44b3-cdd5-82d23c5b51d6"
      },
      "source": [
        "gel_yaz.isupper()"
      ],
      "execution_count": null,
      "outputs": [
        {
          "output_type": "execute_result",
          "data": {
            "text/plain": [
              "False"
            ]
          },
          "metadata": {
            "tags": []
          },
          "execution_count": 10
        }
      ]
    },
    {
      "cell_type": "markdown",
      "metadata": {
        "id": "GOqdlwYs52SM"
      },
      "source": [
        "**Replace** **Method**\r\n"
      ]
    },
    {
      "cell_type": "code",
      "metadata": {
        "colab": {
          "base_uri": "https://localhost:8080/",
          "height": 35
        },
        "id": "v1K-mi6A55QZ",
        "outputId": "1b679c21-a038-4140-d950-21617b450691"
      },
      "source": [
        "gel_yaz.replace(\"e\",\"a\")"
      ],
      "execution_count": null,
      "outputs": [
        {
          "output_type": "execute_result",
          "data": {
            "application/vnd.google.colaboratory.intrinsic+json": {
              "type": "string"
            },
            "text/plain": [
              "'galacaği_yazanlar'"
            ]
          },
          "metadata": {
            "tags": []
          },
          "execution_count": 11
        }
      ]
    },
    {
      "cell_type": "markdown",
      "metadata": {
        "id": "773tAI3f637m"
      },
      "source": [
        "**Strip** **Method**"
      ]
    },
    {
      "cell_type": "code",
      "metadata": {
        "id": "mfqVBrqV68oc"
      },
      "source": [
        "gel_yaz=\"geleceği_yazanlar   \""
      ],
      "execution_count": null,
      "outputs": []
    },
    {
      "cell_type": "code",
      "metadata": {
        "colab": {
          "base_uri": "https://localhost:8080/",
          "height": 35
        },
        "id": "X60PKLkP7IHr",
        "outputId": "c4f6ed0e-5812-4875-82bd-3475dd7cdfbc"
      },
      "source": [
        "gel_yaz.strip()"
      ],
      "execution_count": null,
      "outputs": [
        {
          "output_type": "execute_result",
          "data": {
            "application/vnd.google.colaboratory.intrinsic+json": {
              "type": "string"
            },
            "text/plain": [
              "'geleceği_yazanlar'"
            ]
          },
          "metadata": {
            "tags": []
          },
          "execution_count": 13
        }
      ]
    },
    {
      "cell_type": "code",
      "metadata": {
        "id": "WpbO1gn57sur"
      },
      "source": [
        "gel_yaz=\"*geleceği_yazanlar*\""
      ],
      "execution_count": null,
      "outputs": []
    },
    {
      "cell_type": "code",
      "metadata": {
        "colab": {
          "base_uri": "https://localhost:8080/",
          "height": 35
        },
        "id": "4uOgjn1B7xmZ",
        "outputId": "12d43164-460c-4bf0-bcc5-02394124c969"
      },
      "source": [
        "gel_yaz.strip(\"*\")"
      ],
      "execution_count": null,
      "outputs": [
        {
          "output_type": "execute_result",
          "data": {
            "application/vnd.google.colaboratory.intrinsic+json": {
              "type": "string"
            },
            "text/plain": [
              "'geleceği_yazanlar'"
            ]
          },
          "metadata": {
            "tags": []
          },
          "execution_count": 16
        }
      ]
    },
    {
      "cell_type": "markdown",
      "metadata": {
        "id": "wTTCB0RA8l1M"
      },
      "source": [
        "**Dir** **Function**"
      ]
    },
    {
      "cell_type": "code",
      "metadata": {
        "colab": {
          "base_uri": "https://localhost:8080/"
        },
        "id": "i1NWhvk_8o2H",
        "outputId": "5f0c0b3d-356c-4bba-ba3d-42565e01ee7c"
      },
      "source": [
        "dir(gel_yaz)"
      ],
      "execution_count": null,
      "outputs": [
        {
          "output_type": "execute_result",
          "data": {
            "text/plain": [
              "['__add__',\n",
              " '__class__',\n",
              " '__contains__',\n",
              " '__delattr__',\n",
              " '__dir__',\n",
              " '__doc__',\n",
              " '__eq__',\n",
              " '__format__',\n",
              " '__ge__',\n",
              " '__getattribute__',\n",
              " '__getitem__',\n",
              " '__getnewargs__',\n",
              " '__gt__',\n",
              " '__hash__',\n",
              " '__init__',\n",
              " '__init_subclass__',\n",
              " '__iter__',\n",
              " '__le__',\n",
              " '__len__',\n",
              " '__lt__',\n",
              " '__mod__',\n",
              " '__mul__',\n",
              " '__ne__',\n",
              " '__new__',\n",
              " '__reduce__',\n",
              " '__reduce_ex__',\n",
              " '__repr__',\n",
              " '__rmod__',\n",
              " '__rmul__',\n",
              " '__setattr__',\n",
              " '__sizeof__',\n",
              " '__str__',\n",
              " '__subclasshook__',\n",
              " 'capitalize',\n",
              " 'casefold',\n",
              " 'center',\n",
              " 'count',\n",
              " 'encode',\n",
              " 'endswith',\n",
              " 'expandtabs',\n",
              " 'find',\n",
              " 'format',\n",
              " 'format_map',\n",
              " 'index',\n",
              " 'isalnum',\n",
              " 'isalpha',\n",
              " 'isascii',\n",
              " 'isdecimal',\n",
              " 'isdigit',\n",
              " 'isidentifier',\n",
              " 'islower',\n",
              " 'isnumeric',\n",
              " 'isprintable',\n",
              " 'isspace',\n",
              " 'istitle',\n",
              " 'isupper',\n",
              " 'join',\n",
              " 'ljust',\n",
              " 'lower',\n",
              " 'lstrip',\n",
              " 'maketrans',\n",
              " 'partition',\n",
              " 'replace',\n",
              " 'rfind',\n",
              " 'rindex',\n",
              " 'rjust',\n",
              " 'rpartition',\n",
              " 'rsplit',\n",
              " 'rstrip',\n",
              " 'split',\n",
              " 'splitlines',\n",
              " 'startswith',\n",
              " 'strip',\n",
              " 'swapcase',\n",
              " 'title',\n",
              " 'translate',\n",
              " 'upper',\n",
              " 'zfill']"
            ]
          },
          "metadata": {
            "tags": []
          },
          "execution_count": 17
        }
      ]
    },
    {
      "cell_type": "markdown",
      "metadata": {
        "id": "FmZSx3kWBEwO"
      },
      "source": [
        "**Substrings**"
      ]
    },
    {
      "cell_type": "code",
      "metadata": {
        "id": "QdwQ7JXeBHP2"
      },
      "source": [
        "gel_yaz=\"geleceği_yazanlar\""
      ],
      "execution_count": null,
      "outputs": []
    },
    {
      "cell_type": "code",
      "metadata": {
        "colab": {
          "base_uri": "https://localhost:8080/",
          "height": 35
        },
        "id": "d_olbGTqBapQ",
        "outputId": "656f2c60-3e0c-40d5-ab78-d6853b999fac"
      },
      "source": [
        "gel_yaz"
      ],
      "execution_count": null,
      "outputs": [
        {
          "output_type": "execute_result",
          "data": {
            "application/vnd.google.colaboratory.intrinsic+json": {
              "type": "string"
            },
            "text/plain": [
              "'geleceği_yazanlar'"
            ]
          },
          "metadata": {
            "tags": []
          },
          "execution_count": 20
        }
      ]
    },
    {
      "cell_type": "code",
      "metadata": {
        "colab": {
          "base_uri": "https://localhost:8080/",
          "height": 35
        },
        "id": "SHMbDxL1BcOb",
        "outputId": "2c8f7107-209b-450b-f7b1-71fd7c4fe6eb"
      },
      "source": [
        "gel_yaz[0]"
      ],
      "execution_count": null,
      "outputs": [
        {
          "output_type": "execute_result",
          "data": {
            "application/vnd.google.colaboratory.intrinsic+json": {
              "type": "string"
            },
            "text/plain": [
              "'g'"
            ]
          },
          "metadata": {
            "tags": []
          },
          "execution_count": 21
        }
      ]
    },
    {
      "cell_type": "code",
      "metadata": {
        "colab": {
          "base_uri": "https://localhost:8080/",
          "height": 35
        },
        "id": "4-cyq3fcBn4l",
        "outputId": "69f7f837-7a69-4f05-a280-029d127d95b4"
      },
      "source": [
        "gel_yaz[-1]"
      ],
      "execution_count": null,
      "outputs": [
        {
          "output_type": "execute_result",
          "data": {
            "application/vnd.google.colaboratory.intrinsic+json": {
              "type": "string"
            },
            "text/plain": [
              "'r'"
            ]
          },
          "metadata": {
            "tags": []
          },
          "execution_count": 22
        }
      ]
    },
    {
      "cell_type": "code",
      "metadata": {
        "colab": {
          "base_uri": "https://localhost:8080/",
          "height": 35
        },
        "id": "IzYKjrx8CJOT",
        "outputId": "8a9500db-f06f-4a53-a649-b4cdbb01665e"
      },
      "source": [
        "gel_yaz[0:3]"
      ],
      "execution_count": null,
      "outputs": [
        {
          "output_type": "execute_result",
          "data": {
            "application/vnd.google.colaboratory.intrinsic+json": {
              "type": "string"
            },
            "text/plain": [
              "'gel'"
            ]
          },
          "metadata": {
            "tags": []
          },
          "execution_count": 24
        }
      ]
    },
    {
      "cell_type": "code",
      "metadata": {
        "colab": {
          "base_uri": "https://localhost:8080/",
          "height": 35
        },
        "id": "4v8ZcewZCWul",
        "outputId": "4c15a9cf-b4a1-4b7a-a49e-ff558a7ef42f"
      },
      "source": [
        "gel_yaz[5:9]"
      ],
      "execution_count": null,
      "outputs": [
        {
          "output_type": "execute_result",
          "data": {
            "application/vnd.google.colaboratory.intrinsic+json": {
              "type": "string"
            },
            "text/plain": [
              "'eği_'"
            ]
          },
          "metadata": {
            "tags": []
          },
          "execution_count": 25
        }
      ]
    },
    {
      "cell_type": "markdown",
      "metadata": {
        "id": "vL2neOxjCuNA"
      },
      "source": [
        "**Variables**"
      ]
    },
    {
      "cell_type": "code",
      "metadata": {
        "id": "H6RhRva6DBCv"
      },
      "source": [
        "a=999\r\n",
        "b=\"Basketball\"\r\n",
        "c=a*3\r\n"
      ],
      "execution_count": null,
      "outputs": []
    },
    {
      "cell_type": "code",
      "metadata": {
        "colab": {
          "base_uri": "https://localhost:8080/"
        },
        "id": "sK1AkPDSP6t6",
        "outputId": "23eece5e-b62e-4f96-ebcb-98c61195b2c0"
      },
      "source": [
        "a/c"
      ],
      "execution_count": null,
      "outputs": [
        {
          "output_type": "execute_result",
          "data": {
            "text/plain": [
              "0.3333333333333333"
            ]
          },
          "metadata": {
            "tags": []
          },
          "execution_count": 31
        }
      ]
    },
    {
      "cell_type": "code",
      "metadata": {
        "colab": {
          "base_uri": "https://localhost:8080/"
        },
        "id": "HWpoEh2XQDhi",
        "outputId": "2b4b29de-198e-4356-bf1c-e1e76a91a9ea"
      },
      "source": [
        "type(1)"
      ],
      "execution_count": null,
      "outputs": [
        {
          "output_type": "execute_result",
          "data": {
            "text/plain": [
              "int"
            ]
          },
          "metadata": {
            "tags": []
          },
          "execution_count": 36
        }
      ]
    },
    {
      "cell_type": "code",
      "metadata": {
        "colab": {
          "base_uri": "https://localhost:8080/"
        },
        "id": "oUYX4wpOQwyn",
        "outputId": "a99b8fb8-dbfd-46a8-8f6d-55f44b9a9cd3"
      },
      "source": [
        "type(1.5)"
      ],
      "execution_count": null,
      "outputs": [
        {
          "output_type": "execute_result",
          "data": {
            "text/plain": [
              "float"
            ]
          },
          "metadata": {
            "tags": []
          },
          "execution_count": 37
        }
      ]
    },
    {
      "cell_type": "code",
      "metadata": {
        "colab": {
          "base_uri": "https://localhost:8080/"
        },
        "id": "BQnzw7tkQyrb",
        "outputId": "7455332c-c476-4707-b2af-817fd675bbba"
      },
      "source": [
        "type(1+2j)"
      ],
      "execution_count": null,
      "outputs": [
        {
          "output_type": "execute_result",
          "data": {
            "text/plain": [
              "complex"
            ]
          },
          "metadata": {
            "tags": []
          },
          "execution_count": 38
        }
      ]
    },
    {
      "cell_type": "markdown",
      "metadata": {
        "id": "ic3TD0YFRFkE"
      },
      "source": [
        "**Type** **Transformation**"
      ]
    },
    {
      "cell_type": "code",
      "metadata": {
        "colab": {
          "base_uri": "https://localhost:8080/"
        },
        "id": "2eOJZm5ESdig",
        "outputId": "a9d6621c-70fa-4a81-952c-ff2180da5f29"
      },
      "source": [
        "first_number=input()"
      ],
      "execution_count": null,
      "outputs": [
        {
          "output_type": "stream",
          "text": [
            "9\n"
          ],
          "name": "stdout"
        }
      ]
    },
    {
      "cell_type": "code",
      "metadata": {
        "colab": {
          "base_uri": "https://localhost:8080/"
        },
        "id": "pq9ECXoxSkMg",
        "outputId": "e6e5490c-da8c-4863-98d1-92c4fee75199"
      },
      "source": [
        "second_number=input()"
      ],
      "execution_count": null,
      "outputs": [
        {
          "output_type": "stream",
          "text": [
            "15\n"
          ],
          "name": "stdout"
        }
      ]
    },
    {
      "cell_type": "code",
      "metadata": {
        "colab": {
          "base_uri": "https://localhost:8080/",
          "height": 35
        },
        "id": "1dfWKwlHS078",
        "outputId": "a864bfff-ce78-4aea-fbd1-67879d1c7306"
      },
      "source": [
        "first_number+second_number"
      ],
      "execution_count": null,
      "outputs": [
        {
          "output_type": "execute_result",
          "data": {
            "application/vnd.google.colaboratory.intrinsic+json": {
              "type": "string"
            },
            "text/plain": [
              "'915'"
            ]
          },
          "metadata": {
            "tags": []
          },
          "execution_count": 42
        }
      ]
    },
    {
      "cell_type": "code",
      "metadata": {
        "colab": {
          "base_uri": "https://localhost:8080/"
        },
        "id": "DA79GCalS6IV",
        "outputId": "7240651f-d5fa-432b-8b65-b3e389b4d9c9"
      },
      "source": [
        "int(first_number)+int(second_number)"
      ],
      "execution_count": null,
      "outputs": [
        {
          "output_type": "execute_result",
          "data": {
            "text/plain": [
              "24"
            ]
          },
          "metadata": {
            "tags": []
          },
          "execution_count": 43
        }
      ]
    },
    {
      "cell_type": "code",
      "metadata": {
        "colab": {
          "base_uri": "https://localhost:8080/"
        },
        "id": "eFDf7Ob4TT2z",
        "outputId": "396300e4-73c6-4864-b397-6972d943eb24"
      },
      "source": [
        "int(12.1)"
      ],
      "execution_count": null,
      "outputs": [
        {
          "output_type": "execute_result",
          "data": {
            "text/plain": [
              "12"
            ]
          },
          "metadata": {
            "tags": []
          },
          "execution_count": 44
        }
      ]
    },
    {
      "cell_type": "code",
      "metadata": {
        "colab": {
          "base_uri": "https://localhost:8080/"
        },
        "id": "Qa9zhQ8ZTdje",
        "outputId": "a8a5b2db-43c6-4b44-dc0b-13490c72582a"
      },
      "source": [
        "float(13)"
      ],
      "execution_count": null,
      "outputs": [
        {
          "output_type": "execute_result",
          "data": {
            "text/plain": [
              "13.0"
            ]
          },
          "metadata": {
            "tags": []
          },
          "execution_count": 45
        }
      ]
    },
    {
      "cell_type": "code",
      "metadata": {
        "colab": {
          "base_uri": "https://localhost:8080/",
          "height": 35
        },
        "id": "tU6FfX6LTfjl",
        "outputId": "aa0d7f84-43ed-4b38-8328-559d20856fa7"
      },
      "source": [
        "str(12)"
      ],
      "execution_count": null,
      "outputs": [
        {
          "output_type": "execute_result",
          "data": {
            "application/vnd.google.colaboratory.intrinsic+json": {
              "type": "string"
            },
            "text/plain": [
              "'12'"
            ]
          },
          "metadata": {
            "tags": []
          },
          "execution_count": 46
        }
      ]
    },
    {
      "cell_type": "code",
      "metadata": {
        "colab": {
          "base_uri": "https://localhost:8080/"
        },
        "id": "hMlU4_t_TnWZ",
        "outputId": "9cc3f81a-545b-4658-8487-2fa5fe86ccb4"
      },
      "source": [
        "type(str(12))"
      ],
      "execution_count": null,
      "outputs": [
        {
          "output_type": "execute_result",
          "data": {
            "text/plain": [
              "str"
            ]
          },
          "metadata": {
            "tags": []
          },
          "execution_count": 47
        }
      ]
    },
    {
      "cell_type": "markdown",
      "metadata": {
        "id": "TtySLYkQT71F"
      },
      "source": [
        "**Print Function**"
      ]
    },
    {
      "cell_type": "code",
      "metadata": {
        "colab": {
          "base_uri": "https://localhost:8080/"
        },
        "id": "ofLqnzT-T-0S",
        "outputId": "5ef06235-647d-43a5-9545-ebbd47f13152"
      },
      "source": [
        "print(\"gelecek\")"
      ],
      "execution_count": null,
      "outputs": [
        {
          "output_type": "stream",
          "text": [
            "gelecek\n"
          ],
          "name": "stdout"
        }
      ]
    },
    {
      "cell_type": "code",
      "metadata": {
        "colab": {
          "base_uri": "https://localhost:8080/"
        },
        "id": "Y1K_u7GUUMMh",
        "outputId": "36067f81-3db8-4855-f2d1-fcbf2e808711"
      },
      "source": [
        "print(\"geleceği\",\"yazanlar\",sep=\"_\")"
      ],
      "execution_count": null,
      "outputs": [
        {
          "output_type": "stream",
          "text": [
            "geleceği_yazanlar\n"
          ],
          "name": "stdout"
        }
      ]
    },
    {
      "cell_type": "markdown",
      "metadata": {
        "id": "i5MLqu0qlAPL"
      },
      "source": [
        "# **DATA STRUCTURES**"
      ]
    },
    {
      "cell_type": "markdown",
      "metadata": {
        "id": "nhNr31OylN1i"
      },
      "source": [
        "**List**"
      ]
    },
    {
      "cell_type": "code",
      "metadata": {
        "id": "NIDY2Oq2lPpM"
      },
      "source": [
        "grades=[90,80,70,50]"
      ],
      "execution_count": null,
      "outputs": []
    },
    {
      "cell_type": "code",
      "metadata": {
        "colab": {
          "base_uri": "https://localhost:8080/"
        },
        "id": "QbskBaDylhpl",
        "outputId": "cc6d3fa2-a5e8-44b6-c84e-bc91e6adeaa2"
      },
      "source": [
        "type(grades)"
      ],
      "execution_count": null,
      "outputs": [
        {
          "output_type": "execute_result",
          "data": {
            "text/plain": [
              "list"
            ]
          },
          "metadata": {
            "tags": []
          },
          "execution_count": 55
        }
      ]
    },
    {
      "cell_type": "code",
      "metadata": {
        "id": "Zcd358r4lmK4"
      },
      "source": [
        " list_X=[\"a\",20.5,30,\"Football\"]"
      ],
      "execution_count": null,
      "outputs": []
    },
    {
      "cell_type": "code",
      "metadata": {
        "colab": {
          "base_uri": "https://localhost:8080/"
        },
        "id": "Kd969mbAusDZ",
        "outputId": "edd9b09d-64e0-4763-892c-d0941c049db2"
      },
      "source": [
        "len(list_X)"
      ],
      "execution_count": null,
      "outputs": [
        {
          "output_type": "execute_result",
          "data": {
            "text/plain": [
              "4"
            ]
          },
          "metadata": {
            "tags": []
          },
          "execution_count": 3
        }
      ]
    },
    {
      "cell_type": "code",
      "metadata": {
        "colab": {
          "base_uri": "https://localhost:8080/"
        },
        "id": "iK0_5_Afuvfg",
        "outputId": "c7928d4c-64a6-473f-9239-e3614f8383d4"
      },
      "source": [
        "type(list_X)"
      ],
      "execution_count": null,
      "outputs": [
        {
          "output_type": "execute_result",
          "data": {
            "text/plain": [
              "list"
            ]
          },
          "metadata": {
            "tags": []
          },
          "execution_count": 4
        }
      ]
    },
    {
      "cell_type": "code",
      "metadata": {
        "colab": {
          "base_uri": "https://localhost:8080/",
          "height": 35
        },
        "id": "zn_gInuuuzvt",
        "outputId": "1c81114a-74f3-4300-d797-7ea9849570cd"
      },
      "source": [
        "list_X[0]"
      ],
      "execution_count": null,
      "outputs": [
        {
          "output_type": "execute_result",
          "data": {
            "application/vnd.google.colaboratory.intrinsic+json": {
              "type": "string"
            },
            "text/plain": [
              "'a'"
            ]
          },
          "metadata": {
            "tags": []
          },
          "execution_count": 5
        }
      ]
    },
    {
      "cell_type": "code",
      "metadata": {
        "colab": {
          "base_uri": "https://localhost:8080/"
        },
        "id": "2y0unryMvBBH",
        "outputId": "9c53e2fd-e787-4a47-aa7f-317c734e4263"
      },
      "source": [
        "type(list_X[0])"
      ],
      "execution_count": null,
      "outputs": [
        {
          "output_type": "execute_result",
          "data": {
            "text/plain": [
              "str"
            ]
          },
          "metadata": {
            "tags": []
          },
          "execution_count": 6
        }
      ]
    },
    {
      "cell_type": "code",
      "metadata": {
        "colab": {
          "base_uri": "https://localhost:8080/"
        },
        "id": "YmC-G07uvGkM",
        "outputId": "db6eb8ea-191e-432b-914c-c526d4bdeb0e"
      },
      "source": [
        "list_X[1]"
      ],
      "execution_count": null,
      "outputs": [
        {
          "output_type": "execute_result",
          "data": {
            "text/plain": [
              "20.5"
            ]
          },
          "metadata": {
            "tags": []
          },
          "execution_count": 7
        }
      ]
    },
    {
      "cell_type": "code",
      "metadata": {
        "colab": {
          "base_uri": "https://localhost:8080/"
        },
        "id": "LjnL1sXTvKme",
        "outputId": "6d8fe8df-2aba-44e3-c87b-172bf4412bff"
      },
      "source": [
        "type(list_X[1])"
      ],
      "execution_count": null,
      "outputs": [
        {
          "output_type": "execute_result",
          "data": {
            "text/plain": [
              "float"
            ]
          },
          "metadata": {
            "tags": []
          },
          "execution_count": 8
        }
      ]
    },
    {
      "cell_type": "code",
      "metadata": {
        "colab": {
          "base_uri": "https://localhost:8080/"
        },
        "id": "QJSi2-m_vPv8",
        "outputId": "05f3f140-f1f4-4600-a97b-01fc0609e157"
      },
      "source": [
        "total_list=[grades,list_X]\r\n",
        "print(total_list)"
      ],
      "execution_count": null,
      "outputs": [
        {
          "output_type": "stream",
          "text": [
            "[[90, 80, 70, 50], ['a', 20.5, 30, 'Football']]\n"
          ],
          "name": "stdout"
        }
      ]
    },
    {
      "cell_type": "code",
      "metadata": {
        "id": "tsW4kGVmvz31"
      },
      "source": [
        "#del total_list\r\n"
      ],
      "execution_count": null,
      "outputs": []
    },
    {
      "cell_type": "code",
      "metadata": {
        "id": "BWWGQdVzwUvg"
      },
      "source": [
        "list=[10,20,30,40,50]"
      ],
      "execution_count": null,
      "outputs": []
    },
    {
      "cell_type": "code",
      "metadata": {
        "colab": {
          "base_uri": "https://localhost:8080/"
        },
        "id": "oXypcSkIx-7-",
        "outputId": "31b9757f-5f37-47ab-91c2-cd61220b3588"
      },
      "source": [
        "list[0:2]"
      ],
      "execution_count": null,
      "outputs": [
        {
          "output_type": "execute_result",
          "data": {
            "text/plain": [
              "[10, 20]"
            ]
          },
          "metadata": {
            "tags": []
          },
          "execution_count": 20
        }
      ]
    },
    {
      "cell_type": "code",
      "metadata": {
        "colab": {
          "base_uri": "https://localhost:8080/"
        },
        "id": "iJ1nkYlGyE6c",
        "outputId": "d2cfe3ad-041d-4761-cfec-50b2ca33a4e5"
      },
      "source": [
        "list[:4]"
      ],
      "execution_count": null,
      "outputs": [
        {
          "output_type": "execute_result",
          "data": {
            "text/plain": [
              "[10, 20, 30, 40]"
            ]
          },
          "metadata": {
            "tags": []
          },
          "execution_count": 21
        }
      ]
    },
    {
      "cell_type": "code",
      "metadata": {
        "colab": {
          "base_uri": "https://localhost:8080/"
        },
        "id": "C2JMXtXFyJ8X",
        "outputId": "46f16c56-3a9d-4130-b4c5-1ae49b906c81"
      },
      "source": [
        "list[2:]"
      ],
      "execution_count": null,
      "outputs": [
        {
          "output_type": "execute_result",
          "data": {
            "text/plain": [
              "[30, 40, 50]"
            ]
          },
          "metadata": {
            "tags": []
          },
          "execution_count": 22
        }
      ]
    },
    {
      "cell_type": "code",
      "metadata": {
        "colab": {
          "base_uri": "https://localhost:8080/"
        },
        "id": "n6iB_CccyPXx",
        "outputId": "cddb6227-8abd-44ca-b8ff-b3bce2b7da4d"
      },
      "source": [
        "new_list=[\"a\",10,[20,30,40,50]]\r\n",
        "new_list"
      ],
      "execution_count": null,
      "outputs": [
        {
          "output_type": "execute_result",
          "data": {
            "text/plain": [
              "['a', 10, [20, 30, 40, 50]]"
            ]
          },
          "metadata": {
            "tags": []
          },
          "execution_count": 25
        }
      ]
    },
    {
      "cell_type": "code",
      "metadata": {
        "colab": {
          "base_uri": "https://localhost:8080/"
        },
        "id": "0FP4pDS1yp7f",
        "outputId": "c3049c21-62e2-424c-c9cf-ed489ac678be"
      },
      "source": [
        "new_list[2]"
      ],
      "execution_count": null,
      "outputs": [
        {
          "output_type": "execute_result",
          "data": {
            "text/plain": [
              "[20, 30, 40, 50]"
            ]
          },
          "metadata": {
            "tags": []
          },
          "execution_count": 27
        }
      ]
    },
    {
      "cell_type": "code",
      "metadata": {
        "colab": {
          "base_uri": "https://localhost:8080/"
        },
        "id": "2g4SftFWyvLz",
        "outputId": "304472a4-49b7-427f-be83-ac990bf78d11"
      },
      "source": [
        "new_list[2][2]"
      ],
      "execution_count": null,
      "outputs": [
        {
          "output_type": "execute_result",
          "data": {
            "text/plain": [
              "40"
            ]
          },
          "metadata": {
            "tags": []
          },
          "execution_count": 32
        }
      ]
    },
    {
      "cell_type": "code",
      "metadata": {
        "colab": {
          "base_uri": "https://localhost:8080/",
          "height": 35
        },
        "id": "3MPGmrkdzT4O",
        "outputId": "c15f6ecd-4768-4d23-88b0-9f9e069f7484"
      },
      "source": [
        "list=[\"ali\",\"mehmet\",\"berkcan\",\"berk\"]\r\n",
        "list[1]"
      ],
      "execution_count": null,
      "outputs": [
        {
          "output_type": "execute_result",
          "data": {
            "application/vnd.google.colaboratory.intrinsic+json": {
              "type": "string"
            },
            "text/plain": [
              "'mehmet'"
            ]
          },
          "metadata": {
            "tags": []
          },
          "execution_count": 48
        }
      ]
    },
    {
      "cell_type": "code",
      "metadata": {
        "id": "39fg7OeP3Bbm"
      },
      "source": [
        "#adding,replacing and deleting elements in the list"
      ],
      "execution_count": null,
      "outputs": []
    },
    {
      "cell_type": "code",
      "metadata": {
        "colab": {
          "base_uri": "https://localhost:8080/"
        },
        "id": "uyXtJRU71AZl",
        "outputId": "57eeeaf4-e946-402d-c0b0-402373f2b4a5"
      },
      "source": [
        "list[1]=\"mehmetin babası\"\r\n",
        "list"
      ],
      "execution_count": null,
      "outputs": [
        {
          "output_type": "execute_result",
          "data": {
            "text/plain": [
              "['ali', 'mehmetin babası', 'berkcan', 'berk']"
            ]
          },
          "metadata": {
            "tags": []
          },
          "execution_count": 49
        }
      ]
    },
    {
      "cell_type": "code",
      "metadata": {
        "colab": {
          "base_uri": "https://localhost:8080/"
        },
        "id": "9isLpcCI1ILk",
        "outputId": "4ae89d4f-b9d9-4bb8-c66b-73fdb90aff6b"
      },
      "source": [
        "list[0:3]=\"alinin_babası\",\"mehmetin_babası\",\"berkcanın_babası\"\r\n",
        "list"
      ],
      "execution_count": null,
      "outputs": [
        {
          "output_type": "execute_result",
          "data": {
            "text/plain": [
              "['alinin_babası', 'mehmetin_babası', 'berkcanın_babası', 'berk']"
            ]
          },
          "metadata": {
            "tags": []
          },
          "execution_count": 50
        }
      ]
    },
    {
      "cell_type": "code",
      "metadata": {
        "colab": {
          "base_uri": "https://localhost:8080/"
        },
        "id": "midniAHN2VNx",
        "outputId": "a20f200c-f27e-4b91-cc1c-a650fb8804e0"
      },
      "source": [
        "list=list+[\"kemalin_babası\"]\r\n",
        "list"
      ],
      "execution_count": null,
      "outputs": [
        {
          "output_type": "execute_result",
          "data": {
            "text/plain": [
              "['alinin_babası',\n",
              " 'mehmetin_babası',\n",
              " 'berkcanın_babası',\n",
              " 'berk',\n",
              " 'kemalin_babası']"
            ]
          },
          "metadata": {
            "tags": []
          },
          "execution_count": 51
        }
      ]
    },
    {
      "cell_type": "code",
      "metadata": {
        "colab": {
          "base_uri": "https://localhost:8080/"
        },
        "id": "cHwR5MTP23hi",
        "outputId": "20e7c4c4-2ace-473f-cdb8-53278e6e39e3"
      },
      "source": [
        "del list[3]\r\n",
        "list"
      ],
      "execution_count": null,
      "outputs": [
        {
          "output_type": "execute_result",
          "data": {
            "text/plain": [
              "['alinin_babası', 'mehmetin_babası', 'berkcanın_babası', 'kemalin_babası']"
            ]
          },
          "metadata": {
            "tags": []
          },
          "execution_count": 52
        }
      ]
    },
    {
      "cell_type": "markdown",
      "metadata": {
        "id": "UjXqRfaA4ECs"
      },
      "source": [
        "**Append&Remove&Insert&Pop Methods**"
      ]
    },
    {
      "cell_type": "code",
      "metadata": {
        "colab": {
          "base_uri": "https://localhost:8080/"
        },
        "id": "e49Nv4Yk4Itf",
        "outputId": "4d2d0af0-042e-4eb4-fdf2-37e7a54b5855"
      },
      "source": [
        "list=[\"Onur\",\"Ali\",\"Batuhan\"]\r\n",
        "list.append(\"Berkcan\")\r\n",
        "list"
      ],
      "execution_count": null,
      "outputs": [
        {
          "output_type": "execute_result",
          "data": {
            "text/plain": [
              "['Onur', 'Ali', 'Batuhan', 'Berkcan']"
            ]
          },
          "metadata": {
            "tags": []
          },
          "execution_count": 54
        }
      ]
    },
    {
      "cell_type": "code",
      "metadata": {
        "colab": {
          "base_uri": "https://localhost:8080/"
        },
        "id": "XoQc-Q2M4xcr",
        "outputId": "993615b5-0335-4cf8-b246-e3e1be25df54"
      },
      "source": [
        "list.remove(\"Berkcan\")\r\n",
        "list"
      ],
      "execution_count": null,
      "outputs": [
        {
          "output_type": "execute_result",
          "data": {
            "text/plain": [
              "['Onur', 'Ali', 'Batuhan']"
            ]
          },
          "metadata": {
            "tags": []
          },
          "execution_count": 55
        }
      ]
    },
    {
      "cell_type": "code",
      "metadata": {
        "colab": {
          "base_uri": "https://localhost:8080/"
        },
        "id": "p2YVkvNP48UJ",
        "outputId": "6910bb66-5925-45b9-a92b-a0191b926931"
      },
      "source": [
        "list.insert(0,\"merve\")\r\n",
        "list"
      ],
      "execution_count": null,
      "outputs": [
        {
          "output_type": "execute_result",
          "data": {
            "text/plain": [
              "['merve', 'Onur', 'Ali', 'Batuhan']"
            ]
          },
          "metadata": {
            "tags": []
          },
          "execution_count": 56
        }
      ]
    },
    {
      "cell_type": "code",
      "metadata": {
        "colab": {
          "base_uri": "https://localhost:8080/"
        },
        "id": "sjtJ-Aod5gjR",
        "outputId": "3beb3d09-c4c3-4694-df3b-bcb4952e28f1"
      },
      "source": [
        "list.insert(len(list),\"beren\")\r\n",
        "list"
      ],
      "execution_count": null,
      "outputs": [
        {
          "output_type": "execute_result",
          "data": {
            "text/plain": [
              "['merve', 'Onur', 'Ali', 'Batuhan', 'beren']"
            ]
          },
          "metadata": {
            "tags": []
          },
          "execution_count": 57
        }
      ]
    },
    {
      "cell_type": "code",
      "metadata": {
        "colab": {
          "base_uri": "https://localhost:8080/"
        },
        "id": "veDEbhoM6N7p",
        "outputId": "482f3632-d05c-4e71-a4fd-73483172b9d2"
      },
      "source": [
        "list.pop(0)\r\n",
        "list"
      ],
      "execution_count": null,
      "outputs": [
        {
          "output_type": "execute_result",
          "data": {
            "text/plain": [
              "['Onur', 'Ali', 'Batuhan', 'beren']"
            ]
          },
          "metadata": {
            "tags": []
          },
          "execution_count": 58
        }
      ]
    },
    {
      "cell_type": "markdown",
      "metadata": {
        "id": "XdcjAJsd6z2O"
      },
      "source": [
        "**Count&Copy&Extend&Index&Reverse&Sort&Clear Methods**"
      ]
    },
    {
      "cell_type": "code",
      "metadata": {
        "colab": {
          "base_uri": "https://localhost:8080/"
        },
        "id": "PeMcojNy66Ri",
        "outputId": "a40db1c6-7aac-4189-ff9e-65a4f666a240"
      },
      "source": [
        "list=[\"Onur\",\"Selim\",\"Deren\",\"Onur\",\"Cevdet\"]\r\n",
        "list"
      ],
      "execution_count": null,
      "outputs": [
        {
          "output_type": "execute_result",
          "data": {
            "text/plain": [
              "['Onur', 'Selim', 'Deren', 'Onur', 'Cevdet']"
            ]
          },
          "metadata": {
            "tags": []
          },
          "execution_count": 59
        }
      ]
    },
    {
      "cell_type": "code",
      "metadata": {
        "colab": {
          "base_uri": "https://localhost:8080/"
        },
        "id": "A8lFicXN7IC1",
        "outputId": "6094505e-47bd-4d72-c2b2-f0df2198f1fc"
      },
      "source": [
        "list.count(\"Onur\")"
      ],
      "execution_count": null,
      "outputs": [
        {
          "output_type": "execute_result",
          "data": {
            "text/plain": [
              "2"
            ]
          },
          "metadata": {
            "tags": []
          },
          "execution_count": 61
        }
      ]
    },
    {
      "cell_type": "code",
      "metadata": {
        "colab": {
          "base_uri": "https://localhost:8080/"
        },
        "id": "tYd2R9MO7QoO",
        "outputId": "0a20a23b-4f6c-4478-88db-a50f61531ec7"
      },
      "source": [
        "list_yedek=list.copy()\r\n",
        "list_yedek"
      ],
      "execution_count": null,
      "outputs": [
        {
          "output_type": "execute_result",
          "data": {
            "text/plain": [
              "['Onur', 'Selim', 'Deren', 'Onur', 'Cevdet']"
            ]
          },
          "metadata": {
            "tags": []
          },
          "execution_count": 62
        }
      ]
    },
    {
      "cell_type": "code",
      "metadata": {
        "colab": {
          "base_uri": "https://localhost:8080/"
        },
        "id": "ThPwwO5G70Wv",
        "outputId": "37a898c3-bf55-4302-e4a4-d92a3614f6a8"
      },
      "source": [
        "list.extend([\"a\",\"b\",10])\r\n",
        "list"
      ],
      "execution_count": null,
      "outputs": [
        {
          "output_type": "execute_result",
          "data": {
            "text/plain": [
              "['Onur', 'Selim', 'Deren', 'Onur', 'Cevdet', 'a', 'b', 10]"
            ]
          },
          "metadata": {
            "tags": []
          },
          "execution_count": 63
        }
      ]
    },
    {
      "cell_type": "code",
      "metadata": {
        "colab": {
          "base_uri": "https://localhost:8080/"
        },
        "id": "KHl6POmJ8PTH",
        "outputId": "9d2b993b-9223-4d53-f733-5ebb9e8d9254"
      },
      "source": [
        "list.index(\"Onur\")"
      ],
      "execution_count": null,
      "outputs": [
        {
          "output_type": "execute_result",
          "data": {
            "text/plain": [
              "0"
            ]
          },
          "metadata": {
            "tags": []
          },
          "execution_count": 67
        }
      ]
    },
    {
      "cell_type": "code",
      "metadata": {
        "colab": {
          "base_uri": "https://localhost:8080/"
        },
        "id": "mw_QCwTi8ZV1",
        "outputId": "0548d123-c915-492d-fa91-9a35a93f21f3"
      },
      "source": [
        "list.reverse()\r\n",
        "list"
      ],
      "execution_count": null,
      "outputs": [
        {
          "output_type": "execute_result",
          "data": {
            "text/plain": [
              "[10, 'b', 'a', 'Cevdet', 'Onur', 'Deren', 'Selim', 'Onur']"
            ]
          },
          "metadata": {
            "tags": []
          },
          "execution_count": 69
        }
      ]
    },
    {
      "cell_type": "code",
      "metadata": {
        "colab": {
          "base_uri": "https://localhost:8080/"
        },
        "id": "zXKac24b8z1T",
        "outputId": "3e4ff535-97f6-4eb0-c60a-f8770a38033f"
      },
      "source": [
        "list_number=[32,57,46,98,10,8]\r\n",
        "list_number"
      ],
      "execution_count": null,
      "outputs": [
        {
          "output_type": "execute_result",
          "data": {
            "text/plain": [
              "[32, 57, 46, 98, 10, 8]"
            ]
          },
          "metadata": {
            "tags": []
          },
          "execution_count": 71
        }
      ]
    },
    {
      "cell_type": "code",
      "metadata": {
        "colab": {
          "base_uri": "https://localhost:8080/"
        },
        "id": "v9CGbTLJ9CXy",
        "outputId": "748b4a7c-9a28-46dc-eebb-29eae9e21ce0"
      },
      "source": [
        "list_number.sort()\r\n",
        "list_number"
      ],
      "execution_count": null,
      "outputs": [
        {
          "output_type": "execute_result",
          "data": {
            "text/plain": [
              "[8, 10, 32, 46, 57, 98]"
            ]
          },
          "metadata": {
            "tags": []
          },
          "execution_count": 72
        }
      ]
    },
    {
      "cell_type": "code",
      "metadata": {
        "colab": {
          "base_uri": "https://localhost:8080/"
        },
        "id": "5RL9ybxW9qPt",
        "outputId": "ce0df8a5-0ddd-4a2f-9f07-02bd7aeace00"
      },
      "source": [
        "list_number.clear()\r\n",
        "list_number"
      ],
      "execution_count": null,
      "outputs": [
        {
          "output_type": "execute_result",
          "data": {
            "text/plain": [
              "[]"
            ]
          },
          "metadata": {
            "tags": []
          },
          "execution_count": 73
        }
      ]
    },
    {
      "cell_type": "markdown",
      "metadata": {
        "id": "XcPigm5FJ-yi"
      },
      "source": [
        "**Tuple**"
      ]
    },
    {
      "cell_type": "code",
      "metadata": {
        "colab": {
          "base_uri": "https://localhost:8080/"
        },
        "id": "rf-7NZUJKCpU",
        "outputId": "48bd79cd-74a5-4898-efc5-931e8a984347"
      },
      "source": [
        "t=(\"ali\",\"veli\",1,2,3.2,[1,2,3,4])\r\n",
        "t\r\n",
        "type(t)"
      ],
      "execution_count": null,
      "outputs": [
        {
          "output_type": "execute_result",
          "data": {
            "text/plain": [
              "tuple"
            ]
          },
          "metadata": {
            "tags": []
          },
          "execution_count": 3
        }
      ]
    },
    {
      "cell_type": "code",
      "metadata": {
        "colab": {
          "base_uri": "https://localhost:8080/"
        },
        "id": "4gE8B4T4Kl6k",
        "outputId": "284c17d6-1386-4c3e-d1e9-e3b1651c5bd1"
      },
      "source": [
        "new_tuple=(\"eleman\")\r\n",
        "type(new_tuple)"
      ],
      "execution_count": null,
      "outputs": [
        {
          "output_type": "execute_result",
          "data": {
            "text/plain": [
              "str"
            ]
          },
          "metadata": {
            "tags": []
          },
          "execution_count": 5
        }
      ]
    },
    {
      "cell_type": "code",
      "metadata": {
        "colab": {
          "base_uri": "https://localhost:8080/"
        },
        "id": "qC-48AhsK8nY",
        "outputId": "f9427708-7842-4284-e3ee-f4489a3ec992"
      },
      "source": [
        "new_tuple=(\"eleman\",)\r\n",
        "type(new_tuple)"
      ],
      "execution_count": null,
      "outputs": [
        {
          "output_type": "execute_result",
          "data": {
            "text/plain": [
              "tuple"
            ]
          },
          "metadata": {
            "tags": []
          },
          "execution_count": 6
        }
      ]
    },
    {
      "cell_type": "code",
      "metadata": {
        "colab": {
          "base_uri": "https://localhost:8080/",
          "height": 35
        },
        "id": "8bd6h4UMLFA1",
        "outputId": "260d4e7e-d610-4ddc-b782-a4d90dccd041"
      },
      "source": [
        "t[1]"
      ],
      "execution_count": null,
      "outputs": [
        {
          "output_type": "execute_result",
          "data": {
            "application/vnd.google.colaboratory.intrinsic+json": {
              "type": "string"
            },
            "text/plain": [
              "'veli'"
            ]
          },
          "metadata": {
            "tags": []
          },
          "execution_count": 7
        }
      ]
    },
    {
      "cell_type": "code",
      "metadata": {
        "colab": {
          "base_uri": "https://localhost:8080/"
        },
        "id": "c9g568PZLukf",
        "outputId": "a366166f-6efc-4f1f-e811-52531ec143ca"
      },
      "source": [
        "t[2:4]"
      ],
      "execution_count": null,
      "outputs": [
        {
          "output_type": "execute_result",
          "data": {
            "text/plain": [
              "(1, 2)"
            ]
          },
          "metadata": {
            "tags": []
          },
          "execution_count": 8
        }
      ]
    },
    {
      "cell_type": "markdown",
      "metadata": {
        "id": "2MKN9uKTMDeK"
      },
      "source": [
        "**Dictionary**"
      ]
    },
    {
      "cell_type": "code",
      "metadata": {
        "colab": {
          "base_uri": "https://localhost:8080/"
        },
        "id": "Dy-JgO5lMGup",
        "outputId": "f9096fc4-37e5-426c-b58a-a848003ff21f"
      },
      "source": [
        "dictionary={\"Reg\" : \"Regresyon Modeli\",\r\n",
        "            \"Loj\" : \"Lojistik Regresyon\",\r\n",
        "            \"Cart\" : \"Classification and Reg\"}\r\n",
        "dictionary           "
      ],
      "execution_count": null,
      "outputs": [
        {
          "output_type": "execute_result",
          "data": {
            "text/plain": [
              "{'Cart': 'Classification and Reg',\n",
              " 'Loj': 'Lojistik Regresyon',\n",
              " 'Reg': 'Regresyon Modeli'}"
            ]
          },
          "metadata": {
            "tags": []
          },
          "execution_count": 13
        }
      ]
    },
    {
      "cell_type": "code",
      "metadata": {
        "colab": {
          "base_uri": "https://localhost:8080/"
        },
        "id": "vi1QYfv7OFm5",
        "outputId": "94c931b2-fa99-4c05-c110-33e116bed255"
      },
      "source": [
        "new_dictionary={\"Reg\" : [\"RMSE\",10],\r\n",
        "                \"Loj\" : [\"MSE\",20],\r\n",
        "                \"Cart\" : [\"SSE\",3]}\r\n",
        "new_dictionary                          "
      ],
      "execution_count": null,
      "outputs": [
        {
          "output_type": "execute_result",
          "data": {
            "text/plain": [
              "{'Cart': ['SSE', 3], 'Loj': ['MSE', 20], 'Reg': ['RMSE', 10]}"
            ]
          },
          "metadata": {
            "tags": []
          },
          "execution_count": 16
        }
      ]
    },
    {
      "cell_type": "code",
      "metadata": {
        "colab": {
          "base_uri": "https://localhost:8080/",
          "height": 167
        },
        "id": "6KalB7KJQLbs",
        "outputId": "9fdbea5e-8090-4065-9ab0-baca3fe8f8d7"
      },
      "source": [
        "dictionary[0]"
      ],
      "execution_count": null,
      "outputs": [
        {
          "output_type": "error",
          "ename": "KeyError",
          "evalue": "ignored",
          "traceback": [
            "\u001b[0;31m---------------------------------------------------------------------------\u001b[0m",
            "\u001b[0;31mKeyError\u001b[0m                                  Traceback (most recent call last)",
            "\u001b[0;32m<ipython-input-17-ecb08f3ee2ea>\u001b[0m in \u001b[0;36m<module>\u001b[0;34m()\u001b[0m\n\u001b[0;32m----> 1\u001b[0;31m \u001b[0mdictionary\u001b[0m\u001b[0;34m[\u001b[0m\u001b[0;36m0\u001b[0m\u001b[0;34m]\u001b[0m\u001b[0;34m\u001b[0m\u001b[0;34m\u001b[0m\u001b[0m\n\u001b[0m",
            "\u001b[0;31mKeyError\u001b[0m: 0"
          ]
        }
      ]
    },
    {
      "cell_type": "code",
      "metadata": {
        "colab": {
          "base_uri": "https://localhost:8080/",
          "height": 35
        },
        "id": "ooaiSFxwS3oa",
        "outputId": "e00119b6-f0e2-4abf-a296-8624b4918bd9"
      },
      "source": [
        "dictionary[\"Reg\"]"
      ],
      "execution_count": null,
      "outputs": [
        {
          "output_type": "execute_result",
          "data": {
            "application/vnd.google.colaboratory.intrinsic+json": {
              "type": "string"
            },
            "text/plain": [
              "'Regresyon Modeli'"
            ]
          },
          "metadata": {
            "tags": []
          },
          "execution_count": 18
        }
      ]
    },
    {
      "cell_type": "code",
      "metadata": {
        "colab": {
          "base_uri": "https://localhost:8080/"
        },
        "id": "gCPzp_VvS-QW",
        "outputId": "2e02c8d8-dc6a-4a48-8672-7f7284229e3a"
      },
      "source": [
        "new_dictionary={\"Reg\" : { \"RMSE\" : 10,\r\n",
        "                          \"MSE\" : 20,\r\n",
        "                          \"SSE\" : 3},\r\n",
        "               \"Loj\" : { \"RMSE\" : 10,\r\n",
        "                          \"MSE\" : 20,\r\n",
        "                          \"SSE\" : 3},\r\n",
        "                \"Cart\" : { \"RMSE\" : 10,\r\n",
        "                          \"MSE\" : 20,\r\n",
        "                          \"SSE\" : 3}}\r\n",
        "new_dictionary"
      ],
      "execution_count": null,
      "outputs": [
        {
          "output_type": "execute_result",
          "data": {
            "text/plain": [
              "{'Cart': {'MSE': 20, 'RMSE': 10, 'SSE': 3},\n",
              " 'Loj': {'MSE': 20, 'RMSE': 10, 'SSE': 3},\n",
              " 'Reg': {'MSE': 20, 'RMSE': 10, 'SSE': 3}}"
            ]
          },
          "metadata": {
            "tags": []
          },
          "execution_count": 22
        }
      ]
    },
    {
      "cell_type": "code",
      "metadata": {
        "colab": {
          "base_uri": "https://localhost:8080/"
        },
        "id": "npbScVQCUwgX",
        "outputId": "4ddfa945-cc6e-4af2-d408-66c58e703967"
      },
      "source": [
        "new_dictionary[\"Reg\"]"
      ],
      "execution_count": null,
      "outputs": [
        {
          "output_type": "execute_result",
          "data": {
            "text/plain": [
              "{'MSE': 20, 'RMSE': 10, 'SSE': 3}"
            ]
          },
          "metadata": {
            "tags": []
          },
          "execution_count": 24
        }
      ]
    },
    {
      "cell_type": "code",
      "metadata": {
        "colab": {
          "base_uri": "https://localhost:8080/"
        },
        "id": "ilTETM-AVBwI",
        "outputId": "e169976c-df2f-44fd-dfbb-912d040a577e"
      },
      "source": [
        "new_dictionary[\"Reg\"][\"SSE\"]"
      ],
      "execution_count": null,
      "outputs": [
        {
          "output_type": "execute_result",
          "data": {
            "text/plain": [
              "3"
            ]
          },
          "metadata": {
            "tags": []
          },
          "execution_count": 25
        }
      ]
    },
    {
      "cell_type": "code",
      "metadata": {
        "colab": {
          "base_uri": "https://localhost:8080/"
        },
        "id": "-ziDWsCPVHoZ",
        "outputId": "3397c2c4-e30e-4db5-99c9-aa0ae845aa2e"
      },
      "source": [
        "dictionary[\"GBM\"]=\"Gradien Boosting Mac\"\r\n",
        "dictionary"
      ],
      "execution_count": null,
      "outputs": [
        {
          "output_type": "execute_result",
          "data": {
            "text/plain": [
              "{'Cart': 'Classification and Reg',\n",
              " 'GBM': 'Gradien Boosting Mac',\n",
              " 'Loj': 'Lojistik Regresyon',\n",
              " 'Reg': 'Regresyon Modeli'}"
            ]
          },
          "metadata": {
            "tags": []
          },
          "execution_count": 28
        }
      ]
    },
    {
      "cell_type": "code",
      "metadata": {
        "colab": {
          "base_uri": "https://localhost:8080/"
        },
        "id": "dnswCaDOWn3A",
        "outputId": "2b49514b-1156-4518-ab47-978b5bb555fc"
      },
      "source": [
        "dictionary[\"Reg\"]=\"Linear Regression\"\r\n",
        "dictionary"
      ],
      "execution_count": null,
      "outputs": [
        {
          "output_type": "execute_result",
          "data": {
            "text/plain": [
              "{'Cart': 'Classification and Reg',\n",
              " 'GBM': 'Gradien Boosting Mac',\n",
              " 'Loj': 'Lojistik Regresyon',\n",
              " 'Reg': 'Linear Regression'}"
            ]
          },
          "metadata": {
            "tags": []
          },
          "execution_count": 29
        }
      ]
    },
    {
      "cell_type": "code",
      "metadata": {
        "colab": {
          "base_uri": "https://localhost:8080/"
        },
        "id": "Gku_edswXB2O",
        "outputId": "6d975357-1794-4ddd-edc5-f3254bb5e9cb"
      },
      "source": [
        "dictionary[1]=\"Support Vector Machine\"\r\n",
        "dictionary"
      ],
      "execution_count": null,
      "outputs": [
        {
          "output_type": "execute_result",
          "data": {
            "text/plain": [
              "{1: 'Support Vector Machine',\n",
              " 'Cart': 'Classification and Reg',\n",
              " 'GBM': 'Gradien Boosting Mac',\n",
              " 'Loj': 'Lojistik Regresyon',\n",
              " 'Reg': 'Linear Regression'}"
            ]
          },
          "metadata": {
            "tags": []
          },
          "execution_count": 30
        }
      ]
    },
    {
      "cell_type": "code",
      "metadata": {
        "colab": {
          "base_uri": "https://localhost:8080/",
          "height": 185
        },
        "id": "Twzs1RknXJRh",
        "outputId": "45a56730-9550-4992-aefa-c22f566d7f6a"
      },
      "source": [
        "l=[1,2]\r\n",
        "dictionary[l]=\"New\""
      ],
      "execution_count": null,
      "outputs": [
        {
          "output_type": "error",
          "ename": "TypeError",
          "evalue": "ignored",
          "traceback": [
            "\u001b[0;31m---------------------------------------------------------------------------\u001b[0m",
            "\u001b[0;31mTypeError\u001b[0m                                 Traceback (most recent call last)",
            "\u001b[0;32m<ipython-input-31-26ccff35e8f9>\u001b[0m in \u001b[0;36m<module>\u001b[0;34m()\u001b[0m\n\u001b[1;32m      1\u001b[0m \u001b[0ml\u001b[0m\u001b[0;34m=\u001b[0m\u001b[0;34m[\u001b[0m\u001b[0;36m1\u001b[0m\u001b[0;34m,\u001b[0m\u001b[0;36m2\u001b[0m\u001b[0;34m]\u001b[0m\u001b[0;34m\u001b[0m\u001b[0;34m\u001b[0m\u001b[0m\n\u001b[0;32m----> 2\u001b[0;31m \u001b[0mdictionary\u001b[0m\u001b[0;34m[\u001b[0m\u001b[0ml\u001b[0m\u001b[0;34m]\u001b[0m\u001b[0;34m=\u001b[0m\u001b[0;34m\"New\"\u001b[0m\u001b[0;34m\u001b[0m\u001b[0;34m\u001b[0m\u001b[0m\n\u001b[0m",
            "\u001b[0;31mTypeError\u001b[0m: unhashable type: 'list'"
          ]
        }
      ]
    },
    {
      "cell_type": "code",
      "metadata": {
        "colab": {
          "base_uri": "https://localhost:8080/"
        },
        "id": "L_qhYgjGYEN4",
        "outputId": "dd2dd459-64df-44f2-deb9-7f43fb1ee30a"
      },
      "source": [
        "t=(\"Tuple\",)"
      ],
      "execution_count": null,
      "outputs": [
        {
          "output_type": "execute_result",
          "data": {
            "text/plain": [
              "('Tuple',)"
            ]
          },
          "metadata": {
            "tags": []
          },
          "execution_count": 33
        }
      ]
    },
    {
      "cell_type": "code",
      "metadata": {
        "colab": {
          "base_uri": "https://localhost:8080/"
        },
        "id": "XHwcsSNlYRbm",
        "outputId": "35c3fa80-0cfb-4279-abf7-5c5f31a104c8"
      },
      "source": [
        "dictionary[t]=\"New\"\r\n",
        "dictionary"
      ],
      "execution_count": null,
      "outputs": [
        {
          "output_type": "execute_result",
          "data": {
            "text/plain": [
              "{('Tuple',): 'New',\n",
              " 1: 'Support Vector Machine',\n",
              " 'Cart': 'Classification and Reg',\n",
              " 'GBM': 'Gradien Boosting Mac',\n",
              " 'Loj': 'Lojistik Regresyon',\n",
              " 'Reg': 'Linear Regression'}"
            ]
          },
          "metadata": {
            "tags": []
          },
          "execution_count": 35
        }
      ]
    },
    {
      "cell_type": "markdown",
      "metadata": {
        "id": "GIgqOPhJYZfF"
      },
      "source": [
        "**Sets**"
      ]
    },
    {
      "cell_type": "code",
      "metadata": {
        "id": "3gktrA4gYhbr"
      },
      "source": [
        "s=set()"
      ],
      "execution_count": null,
      "outputs": []
    },
    {
      "cell_type": "code",
      "metadata": {
        "id": "8dj-hbC38k99"
      },
      "source": [
        "l=[2,5,9,3]"
      ],
      "execution_count": null,
      "outputs": []
    },
    {
      "cell_type": "code",
      "metadata": {
        "colab": {
          "base_uri": "https://localhost:8080/"
        },
        "id": "h5HzWLhu8oNY",
        "outputId": "852d7e59-0bba-49d0-b4fb-5e03ef228946"
      },
      "source": [
        "s=set(l)\r\n",
        "s"
      ],
      "execution_count": null,
      "outputs": [
        {
          "output_type": "execute_result",
          "data": {
            "text/plain": [
              "{2, 3, 5, 9}"
            ]
          },
          "metadata": {
            "tags": []
          },
          "execution_count": 6
        }
      ]
    },
    {
      "cell_type": "code",
      "metadata": {
        "colab": {
          "base_uri": "https://localhost:8080/"
        },
        "id": "z26OEx9R9BKz",
        "outputId": "81ac87b1-7c8c-4104-a75e-f4335dc04f80"
      },
      "source": [
        "t=(\"FB\",\"GS\")\r\n",
        "s=set(t)\r\n",
        "s"
      ],
      "execution_count": null,
      "outputs": [
        {
          "output_type": "execute_result",
          "data": {
            "text/plain": [
              "{'FB', 'GS'}"
            ]
          },
          "metadata": {
            "tags": []
          },
          "execution_count": 7
        }
      ]
    },
    {
      "cell_type": "code",
      "metadata": {
        "colab": {
          "base_uri": "https://localhost:8080/"
        },
        "id": "msWdInPU9HQT",
        "outputId": "7c560eb8-08af-4277-974c-d98f3336c9ee"
      },
      "source": [
        "ali=\"lütfen_ata_bak ma_uza ya_git\"\r\n",
        "type(ali)"
      ],
      "execution_count": null,
      "outputs": [
        {
          "output_type": "execute_result",
          "data": {
            "text/plain": [
              "str"
            ]
          },
          "metadata": {
            "tags": []
          },
          "execution_count": 9
        }
      ]
    },
    {
      "cell_type": "code",
      "metadata": {
        "colab": {
          "base_uri": "https://localhost:8080/"
        },
        "id": "hQb4Yszl9tsx",
        "outputId": "0d78a291-948d-4ddb-f099-3d7e8f4cac98"
      },
      "source": [
        "s=set(ali)\r\n",
        "s"
      ],
      "execution_count": null,
      "outputs": [
        {
          "output_type": "execute_result",
          "data": {
            "text/plain": [
              "{' ',\n",
              " '_',\n",
              " 'a',\n",
              " 'b',\n",
              " 'e',\n",
              " 'f',\n",
              " 'g',\n",
              " 'i',\n",
              " 'k',\n",
              " 'l',\n",
              " 'm',\n",
              " 'n',\n",
              " 't',\n",
              " 'u',\n",
              " 'y',\n",
              " 'z',\n",
              " 'ü'}"
            ]
          },
          "metadata": {
            "tags": []
          },
          "execution_count": 11
        }
      ]
    },
    {
      "cell_type": "code",
      "metadata": {
        "colab": {
          "base_uri": "https://localhost:8080/"
        },
        "id": "giRn1Ckk9zcu",
        "outputId": "8da09ceb-de4c-407e-9fd2-2e24529a2cc2"
      },
      "source": [
        "l=[\"Ali\",\"lütfen\",\"ata\",\"bakma\",\"uzaya\",\"git\",\"ama\",\"git\",\"uzaya\"]\r\n",
        "l"
      ],
      "execution_count": null,
      "outputs": [
        {
          "output_type": "execute_result",
          "data": {
            "text/plain": [
              "['Ali', 'lütfen', 'ata', 'bakma', 'uzaya', 'git', 'ama', 'git', 'uzaya']"
            ]
          },
          "metadata": {
            "tags": []
          },
          "execution_count": 12
        }
      ]
    },
    {
      "cell_type": "code",
      "metadata": {
        "colab": {
          "base_uri": "https://localhost:8080/"
        },
        "id": "kWwE73AP-RQ8",
        "outputId": "3e40f2bb-7a89-489a-839d-e66cfeb5b882"
      },
      "source": [
        "s=set(l)\r\n",
        "s"
      ],
      "execution_count": null,
      "outputs": [
        {
          "output_type": "execute_result",
          "data": {
            "text/plain": [
              "{'Ali', 'ama', 'ata', 'bakma', 'git', 'lütfen', 'uzaya'}"
            ]
          },
          "metadata": {
            "tags": []
          },
          "execution_count": 14
        }
      ]
    },
    {
      "cell_type": "code",
      "metadata": {
        "colab": {
          "base_uri": "https://localhost:8080/"
        },
        "id": "WNXOMJTS-WVK",
        "outputId": "22ef07ab-3f68-4cb0-f424-ad198b5cb697"
      },
      "source": [
        "len(s)"
      ],
      "execution_count": null,
      "outputs": [
        {
          "output_type": "execute_result",
          "data": {
            "text/plain": [
              "7"
            ]
          },
          "metadata": {
            "tags": []
          },
          "execution_count": 15
        }
      ]
    },
    {
      "cell_type": "code",
      "metadata": {
        "colab": {
          "base_uri": "https://localhost:8080/"
        },
        "id": "UjF0gUfL-6OB",
        "outputId": "43e87748-eb03-44de-e7a9-a23715a5f34c"
      },
      "source": [
        "l=[\"geleceği\",\"yazanlar\"]\r\n",
        "l\r\n",
        "s=set(l)\r\n",
        "s"
      ],
      "execution_count": null,
      "outputs": [
        {
          "output_type": "execute_result",
          "data": {
            "text/plain": [
              "{'geleceği', 'yazanlar'}"
            ]
          },
          "metadata": {
            "tags": []
          },
          "execution_count": 17
        }
      ]
    },
    {
      "cell_type": "code",
      "metadata": {
        "colab": {
          "base_uri": "https://localhost:8080/"
        },
        "id": "-IyWYr0g_GVh",
        "outputId": "a5ddbf24-7d78-45f2-91b4-e9976aa1c046"
      },
      "source": [
        "dir(s)\r\n",
        "s.add(\"ile\")\r\n",
        "s.add(\"geleceğe_git\")\r\n",
        "s"
      ],
      "execution_count": null,
      "outputs": [
        {
          "output_type": "execute_result",
          "data": {
            "text/plain": [
              "{'geleceğe_git', 'geleceği', 'ile', 'yazanlar'}"
            ]
          },
          "metadata": {
            "tags": []
          },
          "execution_count": 19
        }
      ]
    },
    {
      "cell_type": "code",
      "metadata": {
        "colab": {
          "base_uri": "https://localhost:8080/",
          "height": 220
        },
        "id": "yCp7G1xK_xg7",
        "outputId": "9ae8de21-f010-4206-8e3f-be5d27b89c28"
      },
      "source": [
        "s.remove(\"geleceği\")\r\n",
        "s"
      ],
      "execution_count": null,
      "outputs": [
        {
          "output_type": "error",
          "ename": "KeyError",
          "evalue": "ignored",
          "traceback": [
            "\u001b[0;31m---------------------------------------------------------------------------\u001b[0m",
            "\u001b[0;31mKeyError\u001b[0m                                  Traceback (most recent call last)",
            "\u001b[0;32m<ipython-input-22-92394898ebd6>\u001b[0m in \u001b[0;36m<module>\u001b[0;34m()\u001b[0m\n\u001b[0;32m----> 1\u001b[0;31m \u001b[0ms\u001b[0m\u001b[0;34m.\u001b[0m\u001b[0mremove\u001b[0m\u001b[0;34m(\u001b[0m\u001b[0;34m\"geleceği\"\u001b[0m\u001b[0;34m)\u001b[0m\u001b[0;34m\u001b[0m\u001b[0;34m\u001b[0m\u001b[0m\n\u001b[0m\u001b[1;32m      2\u001b[0m \u001b[0ms\u001b[0m\u001b[0;34m\u001b[0m\u001b[0;34m\u001b[0m\u001b[0m\n\u001b[1;32m      3\u001b[0m \u001b[0ms\u001b[0m\u001b[0;34m.\u001b[0m\u001b[0mdiscard\u001b[0m\u001b[0;34m(\u001b[0m\u001b[0;34m\"geleceği\"\u001b[0m\u001b[0;34m)\u001b[0m\u001b[0;34m\u001b[0m\u001b[0;34m\u001b[0m\u001b[0m\n\u001b[1;32m      4\u001b[0m \u001b[0ms\u001b[0m\u001b[0;34m\u001b[0m\u001b[0;34m\u001b[0m\u001b[0m\n",
            "\u001b[0;31mKeyError\u001b[0m: 'geleceği'"
          ]
        }
      ]
    },
    {
      "cell_type": "code",
      "metadata": {
        "colab": {
          "base_uri": "https://localhost:8080/"
        },
        "id": "r6Hv_OiwAbFl",
        "outputId": "00ba8b9c-0fdd-478f-ead2-22906c40b752"
      },
      "source": [
        "s.discard(\"geleceği\")\r\n",
        "s"
      ],
      "execution_count": null,
      "outputs": [
        {
          "output_type": "execute_result",
          "data": {
            "text/plain": [
              "{'geleceğe_git', 'ile', 'yazanlar'}"
            ]
          },
          "metadata": {
            "tags": []
          },
          "execution_count": 23
        }
      ]
    },
    {
      "cell_type": "code",
      "metadata": {
        "id": "qx5pxiVYAc96"
      },
      "source": [
        "set1=set([1,3,5])\r\n",
        "set2=set([1,3,7])\r\n",
        "set3=set([1,3,9])"
      ],
      "execution_count": null,
      "outputs": []
    },
    {
      "cell_type": "code",
      "metadata": {
        "colab": {
          "base_uri": "https://localhost:8080/"
        },
        "id": "Nc_O0bYtH2ND",
        "outputId": "cd63cba5-f866-493f-a824-7102ddbf14f1"
      },
      "source": [
        "set1.difference(set2)"
      ],
      "execution_count": null,
      "outputs": [
        {
          "output_type": "execute_result",
          "data": {
            "text/plain": [
              "{5}"
            ]
          },
          "metadata": {
            "tags": []
          },
          "execution_count": 25
        }
      ]
    },
    {
      "cell_type": "code",
      "metadata": {
        "colab": {
          "base_uri": "https://localhost:8080/"
        },
        "id": "-ZR-8a1-I0CM",
        "outputId": "d47679de-5c2e-4a2f-c6c7-39688133973c"
      },
      "source": [
        "set1-set2"
      ],
      "execution_count": null,
      "outputs": [
        {
          "output_type": "execute_result",
          "data": {
            "text/plain": [
              "{5}"
            ]
          },
          "metadata": {
            "tags": []
          },
          "execution_count": 29
        }
      ]
    },
    {
      "cell_type": "code",
      "metadata": {
        "colab": {
          "base_uri": "https://localhost:8080/"
        },
        "id": "ASXp2T_wH7Oo",
        "outputId": "e8938668-54e7-4283-8258-31ee5aa031e2"
      },
      "source": [
        "set1.symmetric_difference(set2)"
      ],
      "execution_count": null,
      "outputs": [
        {
          "output_type": "execute_result",
          "data": {
            "text/plain": [
              "{5, 7}"
            ]
          },
          "metadata": {
            "tags": []
          },
          "execution_count": 26
        }
      ]
    },
    {
      "cell_type": "code",
      "metadata": {
        "colab": {
          "base_uri": "https://localhost:8080/"
        },
        "id": "cRS-2l3oIq-x",
        "outputId": "79931bd7-2764-4308-fc27-6657e592cbeb"
      },
      "source": [
        "set1.intersection(set2)"
      ],
      "execution_count": null,
      "outputs": [
        {
          "output_type": "execute_result",
          "data": {
            "text/plain": [
              "{1, 3}"
            ]
          },
          "metadata": {
            "tags": []
          },
          "execution_count": 27
        }
      ]
    },
    {
      "cell_type": "code",
      "metadata": {
        "colab": {
          "base_uri": "https://localhost:8080/"
        },
        "id": "5nHK-fxJIvri",
        "outputId": "bd03e7c0-c15e-497e-bbe7-a1ea2d7118dc"
      },
      "source": [
        "set1&set2"
      ],
      "execution_count": null,
      "outputs": [
        {
          "output_type": "execute_result",
          "data": {
            "text/plain": [
              "{1, 3}"
            ]
          },
          "metadata": {
            "tags": []
          },
          "execution_count": 28
        }
      ]
    },
    {
      "cell_type": "code",
      "metadata": {
        "colab": {
          "base_uri": "https://localhost:8080/"
        },
        "id": "jM5rO2deI1pM",
        "outputId": "cb020d1e-9452-49c3-fecf-acf8c9de0cf4"
      },
      "source": [
        "set1.union(set2)"
      ],
      "execution_count": null,
      "outputs": [
        {
          "output_type": "execute_result",
          "data": {
            "text/plain": [
              "{1, 3, 5, 7}"
            ]
          },
          "metadata": {
            "tags": []
          },
          "execution_count": 30
        }
      ]
    },
    {
      "cell_type": "code",
      "metadata": {
        "colab": {
          "base_uri": "https://localhost:8080/"
        },
        "id": "vGFYrX-9JbyO",
        "outputId": "d778af77-98c3-425f-a4b3-faa34980f595"
      },
      "source": [
        "set1.intersection_update(set2)\r\n",
        "set1"
      ],
      "execution_count": null,
      "outputs": [
        {
          "output_type": "execute_result",
          "data": {
            "text/plain": [
              "{1, 3}"
            ]
          },
          "metadata": {
            "tags": []
          },
          "execution_count": 32
        }
      ]
    },
    {
      "cell_type": "code",
      "metadata": {
        "id": "bjZ0Zry9JiJV"
      },
      "source": [
        "set1=set([7,8,9])\r\n",
        "set2=set([2,7,9,5,4,8])"
      ],
      "execution_count": null,
      "outputs": []
    },
    {
      "cell_type": "code",
      "metadata": {
        "colab": {
          "base_uri": "https://localhost:8080/"
        },
        "id": "vnkjprX7KOr4",
        "outputId": "3c86c250-6734-4060-8ac1-0835b0604a46"
      },
      "source": [
        "set1.isdisjoint(set2)"
      ],
      "execution_count": null,
      "outputs": [
        {
          "output_type": "execute_result",
          "data": {
            "text/plain": [
              "False"
            ]
          },
          "metadata": {
            "tags": []
          },
          "execution_count": 34
        }
      ]
    },
    {
      "cell_type": "code",
      "metadata": {
        "colab": {
          "base_uri": "https://localhost:8080/"
        },
        "id": "l12ImnGtLB2V",
        "outputId": "f8641549-dd36-4607-eb5d-0f6ebbe201c1"
      },
      "source": [
        "set1.issubset(set2)"
      ],
      "execution_count": null,
      "outputs": [
        {
          "output_type": "execute_result",
          "data": {
            "text/plain": [
              "True"
            ]
          },
          "metadata": {
            "tags": []
          },
          "execution_count": 35
        }
      ]
    },
    {
      "cell_type": "code",
      "metadata": {
        "colab": {
          "base_uri": "https://localhost:8080/"
        },
        "id": "wIA2XbeWLEzD",
        "outputId": "85d17dbb-0310-4ddd-e15f-0e7ecfa52132"
      },
      "source": [
        "set1.issuperset(set2)"
      ],
      "execution_count": null,
      "outputs": [
        {
          "output_type": "execute_result",
          "data": {
            "text/plain": [
              "False"
            ]
          },
          "metadata": {
            "tags": []
          },
          "execution_count": 36
        }
      ]
    },
    {
      "cell_type": "markdown",
      "metadata": {
        "id": "w7Vq93fJn0P5"
      },
      "source": [
        "**Functions**"
      ]
    },
    {
      "cell_type": "code",
      "metadata": {
        "colab": {
          "base_uri": "https://localhost:8080/"
        },
        "id": "Hq8ykff2n5km",
        "outputId": "b13f95cd-18db-4d25-ddba-97cc12418a83"
      },
      "source": [
        "def take_square(x):\r\n",
        "    print(x**2)\r\n",
        "type(take_square)"
      ],
      "execution_count": null,
      "outputs": [
        {
          "output_type": "execute_result",
          "data": {
            "text/plain": [
              "function"
            ]
          },
          "metadata": {
            "tags": []
          },
          "execution_count": 4
        }
      ]
    },
    {
      "cell_type": "code",
      "metadata": {
        "colab": {
          "base_uri": "https://localhost:8080/"
        },
        "id": "M5aPPSzUqfl6",
        "outputId": "72ef4077-08e3-4455-83f8-bf6e14ba1d8e"
      },
      "source": [
        "take_square(3)"
      ],
      "execution_count": null,
      "outputs": [
        {
          "output_type": "stream",
          "text": [
            "9\n"
          ],
          "name": "stdout"
        }
      ]
    },
    {
      "cell_type": "code",
      "metadata": {
        "colab": {
          "base_uri": "https://localhost:8080/",
          "height": 290
        },
        "id": "UcBWlx2wrD5J",
        "outputId": "6b789c07-b054-481a-96aa-531ba27a729a"
      },
      "source": [
        "def take_square(x):\r\n",
        "    print(\"Girilen sayının karesi:\"+ x**2)\r\n",
        "take_square(3)    "
      ],
      "execution_count": null,
      "outputs": [
        {
          "output_type": "error",
          "ename": "TypeError",
          "evalue": "ignored",
          "traceback": [
            "\u001b[0;31m---------------------------------------------------------------------------\u001b[0m",
            "\u001b[0;31mTypeError\u001b[0m                                 Traceback (most recent call last)",
            "\u001b[0;32m<ipython-input-6-64ad344a16ee>\u001b[0m in \u001b[0;36m<module>\u001b[0;34m()\u001b[0m\n\u001b[1;32m      1\u001b[0m \u001b[0;32mdef\u001b[0m \u001b[0mtake_square\u001b[0m\u001b[0;34m(\u001b[0m\u001b[0mx\u001b[0m\u001b[0;34m)\u001b[0m\u001b[0;34m:\u001b[0m\u001b[0;34m\u001b[0m\u001b[0;34m\u001b[0m\u001b[0m\n\u001b[1;32m      2\u001b[0m     \u001b[0mprint\u001b[0m\u001b[0;34m(\u001b[0m\u001b[0;34m\"Girilen sayının karesi:\"\u001b[0m\u001b[0;34m+\u001b[0m \u001b[0mx\u001b[0m\u001b[0;34m**\u001b[0m\u001b[0;36m2\u001b[0m\u001b[0;34m)\u001b[0m\u001b[0;34m\u001b[0m\u001b[0;34m\u001b[0m\u001b[0m\n\u001b[0;32m----> 3\u001b[0;31m \u001b[0mtake_square\u001b[0m\u001b[0;34m(\u001b[0m\u001b[0;36m3\u001b[0m\u001b[0;34m)\u001b[0m\u001b[0;34m\u001b[0m\u001b[0;34m\u001b[0m\u001b[0m\n\u001b[0m",
            "\u001b[0;32m<ipython-input-6-64ad344a16ee>\u001b[0m in \u001b[0;36mtake_square\u001b[0;34m(x)\u001b[0m\n\u001b[1;32m      1\u001b[0m \u001b[0;32mdef\u001b[0m \u001b[0mtake_square\u001b[0m\u001b[0;34m(\u001b[0m\u001b[0mx\u001b[0m\u001b[0;34m)\u001b[0m\u001b[0;34m:\u001b[0m\u001b[0;34m\u001b[0m\u001b[0;34m\u001b[0m\u001b[0m\n\u001b[0;32m----> 2\u001b[0;31m     \u001b[0mprint\u001b[0m\u001b[0;34m(\u001b[0m\u001b[0;34m\"Girilen sayının karesi:\"\u001b[0m\u001b[0;34m+\u001b[0m \u001b[0mx\u001b[0m\u001b[0;34m**\u001b[0m\u001b[0;36m2\u001b[0m\u001b[0;34m)\u001b[0m\u001b[0;34m\u001b[0m\u001b[0;34m\u001b[0m\u001b[0m\n\u001b[0m\u001b[1;32m      3\u001b[0m \u001b[0mtake_square\u001b[0m\u001b[0;34m(\u001b[0m\u001b[0;36m3\u001b[0m\u001b[0;34m)\u001b[0m\u001b[0;34m\u001b[0m\u001b[0;34m\u001b[0m\u001b[0m\n",
            "\u001b[0;31mTypeError\u001b[0m: can only concatenate str (not \"int\") to str"
          ]
        }
      ]
    },
    {
      "cell_type": "code",
      "metadata": {
        "colab": {
          "base_uri": "https://localhost:8080/"
        },
        "id": "DeYH30JUsotm",
        "outputId": "d9afcd70-196c-4586-ef75-7e64fd25a3a3"
      },
      "source": [
        "def take_square(x):\r\n",
        "    print(\"Girilen sayının karesi:\"+ str(x**2))\r\n",
        "take_square(3) "
      ],
      "execution_count": null,
      "outputs": [
        {
          "output_type": "stream",
          "text": [
            "Girilen sayının karesi:9\n"
          ],
          "name": "stdout"
        }
      ]
    },
    {
      "cell_type": "code",
      "metadata": {
        "colab": {
          "base_uri": "https://localhost:8080/"
        },
        "id": "auD1lwFhtEx3",
        "outputId": "9d7f92b4-2b44-4798-e422-e4e4c90d945a"
      },
      "source": [
        "def take_square(x):\r\n",
        "    print(\"Girilen sayı:\"+ str(x) +  \" Karesi : \"+ str(x**2))\r\n",
        "take_square(3)"
      ],
      "execution_count": null,
      "outputs": [
        {
          "output_type": "stream",
          "text": [
            "Girilen sayı:3 Karesi : 9\n"
          ],
          "name": "stdout"
        }
      ]
    },
    {
      "cell_type": "code",
      "metadata": {
        "colab": {
          "base_uri": "https://localhost:8080/"
        },
        "id": "feJy3TEet1oC",
        "outputId": "8dbd16df-0e11-417a-981e-9892ed2d309e"
      },
      "source": [
        "def multiply(x,y):\r\n",
        "    print(x*y)\r\n",
        "    \r\n",
        "multiply(2,3)      "
      ],
      "execution_count": null,
      "outputs": [
        {
          "output_type": "stream",
          "text": [
            "6\n"
          ],
          "name": "stdout"
        }
      ]
    },
    {
      "cell_type": "code",
      "metadata": {
        "colab": {
          "base_uri": "https://localhost:8080/"
        },
        "id": "QKfs0vQFvMhy",
        "outputId": "c842c157-8095-4181-f757-fedc8689a81b"
      },
      "source": [
        "def multiply(x,y=2):\r\n",
        "    print(x*y)\r\n",
        "    \r\n",
        "multiply(2)"
      ],
      "execution_count": null,
      "outputs": [
        {
          "output_type": "stream",
          "text": [
            "4\n"
          ],
          "name": "stdout"
        }
      ]
    },
    {
      "cell_type": "code",
      "metadata": {
        "colab": {
          "base_uri": "https://localhost:8080/"
        },
        "id": "WP5jTVeCv5JT",
        "outputId": "5790c643-1804-4a3e-cc5a-e74c0cf6a2c9"
      },
      "source": [
        "def multiply(x=2,y=3):\r\n",
        "    print(x*y)\r\n",
        "    \r\n",
        "multiply(3,2)"
      ],
      "execution_count": null,
      "outputs": [
        {
          "output_type": "stream",
          "text": [
            "6\n"
          ],
          "name": "stdout"
        }
      ]
    },
    {
      "cell_type": "code",
      "metadata": {
        "colab": {
          "base_uri": "https://localhost:8080/"
        },
        "id": "zjH59R6YwwVR",
        "outputId": "fb410040-aa9e-4dff-f2f2-79badb232349"
      },
      "source": [
        "def sensor_kullanım_hesabı(ısı,nem,sarj):\r\n",
        "    print((nem+ısı)/sarj)\r\n",
        "\r\n",
        "sensor_kullanım_hesabı(5,20,4)"
      ],
      "execution_count": null,
      "outputs": [
        {
          "output_type": "stream",
          "text": [
            "6.25\n"
          ],
          "name": "stdout"
        }
      ]
    },
    {
      "cell_type": "code",
      "metadata": {
        "colab": {
          "base_uri": "https://localhost:8080/"
        },
        "id": "c11PNHALyrZR",
        "outputId": "4c61648d-338a-440a-96b0-ac741fae329f"
      },
      "source": [
        "def sensor_kullanım_hesabı(ısı,nem,sarj):\r\n",
        "    print((nem+ısı)/sarj)\r\n",
        "\r\n",
        "çikti=sensor_kullanım_hesabı(2,8,9)"
      ],
      "execution_count": null,
      "outputs": [
        {
          "output_type": "stream",
          "text": [
            "1.1111111111111112\n"
          ],
          "name": "stdout"
        }
      ]
    },
    {
      "cell_type": "code",
      "metadata": {
        "colab": {
          "base_uri": "https://localhost:8080/",
          "height": 238
        },
        "id": "ZCOyIqD90vHW",
        "outputId": "1b915474-555e-4519-ef90-bd0536dac7d9"
      },
      "source": [
        "çikti\r\n",
        "print(çikti)\r\n",
        "sensor_kullanım_hesabı(2,8,9)*6\r\n",
        "#Çıktıyı girdi olarak tutabilmek için Return yapısını kullanmak gerekir.\r\n",
        "#Aksi takdirde fonkisyonun çıktısını işleyemezsin"
      ],
      "execution_count": null,
      "outputs": [
        {
          "output_type": "stream",
          "text": [
            "None\n",
            "1.1111111111111112\n"
          ],
          "name": "stdout"
        },
        {
          "output_type": "error",
          "ename": "TypeError",
          "evalue": "ignored",
          "traceback": [
            "\u001b[0;31m---------------------------------------------------------------------------\u001b[0m",
            "\u001b[0;31mTypeError\u001b[0m                                 Traceback (most recent call last)",
            "\u001b[0;32m<ipython-input-39-c24ddbd2cfb5>\u001b[0m in \u001b[0;36m<module>\u001b[0;34m()\u001b[0m\n\u001b[1;32m      1\u001b[0m \u001b[0mçikti\u001b[0m\u001b[0;34m\u001b[0m\u001b[0;34m\u001b[0m\u001b[0m\n\u001b[1;32m      2\u001b[0m \u001b[0mprint\u001b[0m\u001b[0;34m(\u001b[0m\u001b[0mçikti\u001b[0m\u001b[0;34m)\u001b[0m\u001b[0;34m\u001b[0m\u001b[0;34m\u001b[0m\u001b[0m\n\u001b[0;32m----> 3\u001b[0;31m \u001b[0msensor_kullanım_hesabı\u001b[0m\u001b[0;34m(\u001b[0m\u001b[0;36m2\u001b[0m\u001b[0;34m,\u001b[0m\u001b[0;36m8\u001b[0m\u001b[0;34m,\u001b[0m\u001b[0;36m9\u001b[0m\u001b[0;34m)\u001b[0m\u001b[0;34m*\u001b[0m\u001b[0;36m6\u001b[0m\u001b[0;34m\u001b[0m\u001b[0;34m\u001b[0m\u001b[0m\n\u001b[0m",
            "\u001b[0;31mTypeError\u001b[0m: unsupported operand type(s) for *: 'NoneType' and 'int'"
          ]
        }
      ]
    },
    {
      "cell_type": "code",
      "metadata": {
        "colab": {
          "base_uri": "https://localhost:8080/"
        },
        "id": "1Jn4d8Dt1fiL",
        "outputId": "f88d9e86-660c-460e-dcfc-3fbeae8c1e11"
      },
      "source": [
        "def sensor_kullanım_hesabı(ısı,nem,sarj):\r\n",
        "    return((nem+ısı)/sarj)\r\n",
        "\r\n",
        "sensor_kullanım_hesabı(5,20,4)*4"
      ],
      "execution_count": null,
      "outputs": [
        {
          "output_type": "execute_result",
          "data": {
            "text/plain": [
              "25.0"
            ]
          },
          "metadata": {
            "tags": []
          },
          "execution_count": 40
        }
      ]
    },
    {
      "cell_type": "code",
      "metadata": {
        "colab": {
          "base_uri": "https://localhost:8080/"
        },
        "id": "WFxXmuTq2W7l",
        "outputId": "9fc05c0c-4b7c-444f-b9f5-3c3483dd0197"
      },
      "source": [
        "def sensor_kullanım_hesabı(ısı,nem,sarj):\r\n",
        "    return((nem+ısı)/sarj)\r\n",
        "\r\n",
        "output=sensor_kullanım_hesabı(4,20,5)\r\n",
        "output\r\n",
        "print(output)"
      ],
      "execution_count": null,
      "outputs": [
        {
          "output_type": "stream",
          "text": [
            "4.8\n"
          ],
          "name": "stdout"
        }
      ]
    },
    {
      "cell_type": "code",
      "metadata": {
        "id": "nT6yH-t53BK8",
        "colab": {
          "base_uri": "https://localhost:8080/"
        },
        "outputId": "2d938e46-5813-45ab-ba0d-f0653bc23dca"
      },
      "source": [
        "#local and global variables transformation\r\n",
        "x=[]\r\n",
        "def sayı_ekle(y):\r\n",
        "    x.append(y)\r\n",
        "    print(str(y)+\" ifadesi eklendi\")\r\n",
        "\r\n",
        "sayı_ekle(3)\r\n",
        "sayı_ekle(5)\r\n",
        "x"
      ],
      "execution_count": null,
      "outputs": [
        {
          "output_type": "stream",
          "text": [
            "3 ifadesi eklendi\n",
            "5 ifadesi eklendi\n"
          ],
          "name": "stdout"
        },
        {
          "output_type": "execute_result",
          "data": {
            "text/plain": [
              "[3, 5]"
            ]
          },
          "metadata": {
            "tags": []
          },
          "execution_count": 4
        }
      ]
    },
    {
      "cell_type": "code",
      "metadata": {
        "colab": {
          "base_uri": "https://localhost:8080/"
        },
        "id": "Tr3XQvuuJBoB",
        "outputId": "69b925f6-ef8a-426c-e78f-4f6acc22601a"
      },
      "source": [
        "#True-False Statements\r\n",
        "sınır=5000\r\n",
        "sınır==4000\r\n"
      ],
      "execution_count": null,
      "outputs": [
        {
          "output_type": "execute_result",
          "data": {
            "text/plain": [
              "False"
            ]
          },
          "metadata": {
            "tags": []
          },
          "execution_count": 7
        }
      ]
    },
    {
      "cell_type": "markdown",
      "metadata": {
        "id": "UBRRRPm5KXWt"
      },
      "source": [
        "**IF**"
      ]
    },
    {
      "cell_type": "code",
      "metadata": {
        "colab": {
          "base_uri": "https://localhost:8080/"
        },
        "id": "RrfEDIkDKg6l",
        "outputId": "bb56d707-d04b-442a-d62f-9c538d058e36"
      },
      "source": [
        "sınır=5000\r\n",
        "gelir=4000\r\n",
        "\r\n",
        "if gelir<sınır:\r\n",
        "   print(\"gelir sınırdan küçük\")"
      ],
      "execution_count": null,
      "outputs": [
        {
          "output_type": "stream",
          "text": [
            "gelir sınırdan küçük\n"
          ],
          "name": "stdout"
        }
      ]
    },
    {
      "cell_type": "code",
      "metadata": {
        "colab": {
          "base_uri": "https://localhost:8080/"
        },
        "id": "7T42JHzLLjrJ",
        "outputId": "96916879-bc5a-4ed7-c305-d51db7937976"
      },
      "source": [
        "gelir=5000\r\n",
        "sınır=4000\r\n",
        "\r\n",
        "if gelir<sınır:\r\n",
        "   print(\"gelir sınırdan küçük\")\r\n",
        "   \r\n",
        "else:\r\n",
        "  print(\"gelir sınırdan büyük\")\r\n"
      ],
      "execution_count": null,
      "outputs": [
        {
          "output_type": "stream",
          "text": [
            "gelir sınırdan büyük\n"
          ],
          "name": "stdout"
        }
      ]
    },
    {
      "cell_type": "code",
      "metadata": {
        "colab": {
          "base_uri": "https://localhost:8080/"
        },
        "id": "wOhg8P6gOjsn",
        "outputId": "99779480-23e3-43bf-cd79-21f09d29a3dd"
      },
      "source": [
        "gelir1=5000\r\n",
        "gelir2=6000\r\n",
        "gelir3=3500\r\n",
        "sınır=5000\r\n",
        "\r\n",
        "if gelir1>sınır:\r\n",
        "   print(\"Tebrikler\")\r\n",
        "\r\n",
        "elif gelir1<sınır:\r\n",
        "     print(\"Uyarı!\")\r\n",
        "\r\n",
        "else: \r\n",
        "     print(\"Dengeli\")    "
      ],
      "execution_count": null,
      "outputs": [
        {
          "output_type": "stream",
          "text": [
            "Dengeli\n"
          ],
          "name": "stdout"
        }
      ]
    },
    {
      "cell_type": "code",
      "metadata": {
        "colab": {
          "base_uri": "https://localhost:8080/"
        },
        "id": "-bHLxw3mRymR",
        "outputId": "f2d01332-971d-4d63-f0f4-01f441da61f4"
      },
      "source": [
        "#Mini Uygulama\r\n",
        "sınır=5000\r\n",
        "mağaza_adı=input(\"Mağaza adı nedir?\")\r\n",
        "gelir=int(input(\"Gelirinizi Giriniz:\"))\r\n",
        "\r\n",
        "if gelir>sınır:\r\n",
        "   print(\"Tebrikler,promosyon kazandınız\")\r\n",
        "\r\n",
        "elif gelir<sınır:   \r\n",
        "     print(\"Uyarı!\")\r\n",
        "\r\n",
        "else:\r\n",
        "      print(\"Takibe devam\")     "
      ],
      "execution_count": null,
      "outputs": [
        {
          "output_type": "stream",
          "text": [
            "Mağaza adı nedir?Hilltown\n",
            "Gelirinizi Giriniz:5000\n",
            "Takibe devam\n"
          ],
          "name": "stdout"
        }
      ]
    },
    {
      "cell_type": "markdown",
      "metadata": {
        "id": "uPE_ENhOa5ID"
      },
      "source": [
        "**FOR**"
      ]
    },
    {
      "cell_type": "code",
      "metadata": {
        "id": "iTSC4plha7dN",
        "colab": {
          "base_uri": "https://localhost:8080/"
        },
        "outputId": "8c354d7a-9af5-4fed-92dd-361b5324f064"
      },
      "source": [
        "student=[\"ömer\",\"merve\",\"ali\",\"selim\",\"naz\"]\r\n",
        "student\r\n",
        "\r\n",
        "for i in student:\r\n",
        "   print(i)"
      ],
      "execution_count": null,
      "outputs": [
        {
          "output_type": "stream",
          "text": [
            "ömer\n",
            "merve\n",
            "ali\n",
            "selim\n",
            "naz\n"
          ],
          "name": "stdout"
        }
      ]
    },
    {
      "cell_type": "code",
      "metadata": {
        "colab": {
          "base_uri": "https://localhost:8080/"
        },
        "id": "WLBjk9h4HNxl",
        "outputId": "26e31cf6-d5b7-4d94-9f04-914a9e09c74e"
      },
      "source": [
        "salary=[2800,3000,3500,4000,4500]\r\n",
        "for i in salary:\r\n",
        "     print(i*2)"
      ],
      "execution_count": null,
      "outputs": [
        {
          "output_type": "stream",
          "text": [
            "5600\n",
            "6000\n",
            "7000\n",
            "8000\n",
            "9000\n"
          ],
          "name": "stdout"
        }
      ]
    },
    {
      "cell_type": "code",
      "metadata": {
        "colab": {
          "base_uri": "https://localhost:8080/"
        },
        "id": "30gAFJN_H5wk",
        "outputId": "02fd693e-8346-49ed-bc9d-93a3b0c0ab96"
      },
      "source": [
        "#fonksiyonlar ve döngüler\r\n",
        "#for ayrı fonksiyon ayrı düşünülür.Önce fonksiyon ile kural yazılır.\r\n",
        "#Ardından for ile tekrar eden yapıda bu fonksiyon kullanılır.\r\n",
        "salary=[2800,3000,3500,4000,4500]\r\n",
        "zam_oranı=0.2\r\n",
        "def yeni_maas(x):\r\n",
        "    print((x*zam_oranı)+x)\r\n",
        "\r\n",
        "for i in salary:\r\n",
        "    yeni_maas(i)\r\n"
      ],
      "execution_count": null,
      "outputs": [
        {
          "output_type": "stream",
          "text": [
            "3360.0\n",
            "3600.0\n",
            "4200.0\n",
            "4800.0\n",
            "5400.0\n"
          ],
          "name": "stdout"
        }
      ]
    },
    {
      "cell_type": "code",
      "metadata": {
        "colab": {
          "base_uri": "https://localhost:8080/"
        },
        "id": "6oDNgiXcQCqZ",
        "outputId": "b705ca9b-e3fc-4da2-bcf7-349b9b7a2499"
      },
      "source": [
        "def yeni_maas(a):\r\n",
        "    print((a*20/100)+a)\r\n",
        "\r\n",
        "for i in salary: \r\n",
        "    yeni_maas(i)    "
      ],
      "execution_count": null,
      "outputs": [
        {
          "output_type": "stream",
          "text": [
            "3360.0\n",
            "3600.0\n",
            "4200.0\n",
            "4800.0\n",
            "5400.0\n"
          ],
          "name": "stdout"
        }
      ]
    },
    {
      "cell_type": "code",
      "metadata": {
        "colab": {
          "base_uri": "https://localhost:8080/"
        },
        "id": "T4M4joAyQ0SU",
        "outputId": "0fc829af-a28b-4b81-882d-28b3b0771a75"
      },
      "source": [
        "#if,for ve fonsksiyonların beraber kullanımı\r\n",
        "\r\n",
        "salary=[2800,3000,3500,4000,4500]\r\n",
        "zam_oranı_1=0.1\r\n",
        "zam_oranı_2=0.2\r\n",
        "\r\n",
        "def maas_üst(x):\r\n",
        "    print((x*zam_oranı_1)+x)\r\n",
        "\r\n",
        "   \r\n",
        "def maas_alt(x):\r\n",
        "    print((x*zam_oranı_2)+x) \r\n",
        "\r\n",
        "for i in salary:\r\n",
        "    if i>3000:\r\n",
        "         maas_üst(i)\r\n",
        "    else:\r\n",
        "         maas_alt(i)\r\n"
      ],
      "execution_count": null,
      "outputs": [
        {
          "output_type": "stream",
          "text": [
            "3360.0\n",
            "3600.0\n",
            "3850.0\n",
            "4400.0\n",
            "4950.0\n"
          ],
          "name": "stdout"
        }
      ]
    },
    {
      "cell_type": "code",
      "metadata": {
        "colab": {
          "base_uri": "https://localhost:8080/"
        },
        "id": "yxq4ib6rWpOZ",
        "outputId": "e0175107-3666-4fcb-dc6b-f00054003af3"
      },
      "source": [
        "#break and continue\r\n",
        "#break kontrol ifadesine kadar çalıştırır.Yani o ifadeye gelince durur.\r\n",
        "#continue sadece kontrol ifadesini es geçip geri kalanı çalıştırır.\r\n",
        "salary=[3000,8000,6000,5000,7000,9000,2000,4000]\r\n",
        "\r\n",
        "dir(salary)\r\n",
        "salary.sort()\r\n",
        "salary\r\n",
        "\r\n",
        "for i in salary: \r\n",
        "     if i== 4000:\r\n",
        "         print(\"Dur\")\r\n",
        "         break\r\n",
        "     else:\r\n",
        "         print(i)  \r\n"
      ],
      "execution_count": null,
      "outputs": [
        {
          "output_type": "stream",
          "text": [
            "2000\n",
            "3000\n",
            "Dur\n"
          ],
          "name": "stdout"
        }
      ]
    },
    {
      "cell_type": "code",
      "metadata": {
        "colab": {
          "base_uri": "https://localhost:8080/"
        },
        "id": "N1igamjcZPB3",
        "outputId": "ee3d7c81-56cd-4d48-f737-409e0698985f"
      },
      "source": [
        "for i in salary: \r\n",
        "     if i== 4000:\r\n",
        "        continue\r\n",
        "        \r\n",
        "     else:\r\n",
        "         print(i)"
      ],
      "execution_count": null,
      "outputs": [
        {
          "output_type": "stream",
          "text": [
            "2000\n",
            "3000\n",
            "5000\n",
            "6000\n",
            "7000\n",
            "8000\n",
            "9000\n"
          ],
          "name": "stdout"
        }
      ]
    },
    {
      "cell_type": "code",
      "metadata": {
        "colab": {
          "base_uri": "https://localhost:8080/"
        },
        "id": "e-NcZEGBZwTi",
        "outputId": "668fae08-4983-4160-a36b-517b1a86f63e"
      },
      "source": [
        "#while\r\n",
        "#Bir yere kadar,olana kadar gibi durumlarda for yerine while döngüsü kullanılır.\r\n",
        "#For döngüsü çok daha kapsamlı olduğu için while pek kullanılmaz.\r\n",
        "\r\n",
        "sayı=1\r\n",
        "\r\n",
        "while sayı<10:\r\n",
        "      sayı=sayı+1\r\n",
        "      print(sayı)"
      ],
      "execution_count": null,
      "outputs": [
        {
          "output_type": "stream",
          "text": [
            "2\n",
            "3\n",
            "4\n",
            "5\n",
            "6\n",
            "7\n",
            "8\n",
            "9\n",
            "10\n"
          ],
          "name": "stdout"
        }
      ]
    },
    {
      "cell_type": "code",
      "metadata": {
        "id": "r2ZnXajBqEps"
      },
      "source": [
        "#?print ile o fonksiyon ile ilgili bilgi alırsın\r\n",
        "?print\r\n"
      ],
      "execution_count": null,
      "outputs": []
    },
    {
      "cell_type": "markdown",
      "metadata": {
        "id": "0Y1Wakh-GzkR"
      },
      "source": [
        "**CLASS**(OBJECT ORIENTED PROGRAMMING)"
      ]
    },
    {
      "cell_type": "code",
      "metadata": {
        "colab": {
          "base_uri": "https://localhost:8080/"
        },
        "id": "YdJB0w7cG3E2",
        "outputId": "47a287e1-ca3c-466d-d692-c0d29058a826"
      },
      "source": [
        "class veribilimci():\r\n",
        "      print(\"Bu bir sınıftır\")"
      ],
      "execution_count": null,
      "outputs": [
        {
          "output_type": "stream",
          "text": [
            "Bu bir sınıftır\n"
          ],
          "name": "stdout"
        }
      ]
    },
    {
      "cell_type": "code",
      "metadata": {
        "colab": {
          "base_uri": "https://localhost:8080/",
          "height": 35
        },
        "id": "q2GfkDjALjnR",
        "outputId": "0cba4cae-542b-49ad-c621-e8f27fa12299"
      },
      "source": [
        "#class attributes \r\n",
        "class veribilimci():\r\n",
        "      bolum=\"\"\r\n",
        "      sql=\"Evet\"\r\n",
        "      deneyim_yılı=0\r\n",
        "      bildiği_diller=[]\r\n",
        "\r\n",
        "veribilimci.sql      "
      ],
      "execution_count": null,
      "outputs": [
        {
          "output_type": "execute_result",
          "data": {
            "application/vnd.google.colaboratory.intrinsic+json": {
              "type": "string"
            },
            "text/plain": [
              "'Evet'"
            ]
          },
          "metadata": {
            "tags": []
          },
          "execution_count": 3
        }
      ]
    },
    {
      "cell_type": "code",
      "metadata": {
        "colab": {
          "base_uri": "https://localhost:8080/",
          "height": 35
        },
        "id": "_clzTxMcNK0B",
        "outputId": "0b7df2d3-8b87-4ed1-a4a4-3e0897b4580d"
      },
      "source": [
        "#changing attributes\r\n",
        "veribilimci.sql=\"Hayır\"\r\n",
        "veribilimci.sql"
      ],
      "execution_count": null,
      "outputs": [
        {
          "output_type": "execute_result",
          "data": {
            "application/vnd.google.colaboratory.intrinsic+json": {
              "type": "string"
            },
            "text/plain": [
              "'Hayır'"
            ]
          },
          "metadata": {
            "tags": []
          },
          "execution_count": 4
        }
      ]
    },
    {
      "cell_type": "code",
      "metadata": {
        "colab": {
          "base_uri": "https://localhost:8080/"
        },
        "id": "2ZoOxQ3fNm1T",
        "outputId": "749c587a-57f9-49d5-d631-2eac680663c4"
      },
      "source": [
        "#class örneklemesi\r\n",
        "ali=veribilimci()\r\n",
        "ali.sql\r\n",
        "ali.deneyim_yılı\r\n",
        "\r\n",
        "ali.bildiği_diller.append(\"Python\")\r\n",
        "ali.bildiği_diller"
      ],
      "execution_count": null,
      "outputs": [
        {
          "output_type": "execute_result",
          "data": {
            "text/plain": [
              "['Python']"
            ]
          },
          "metadata": {
            "tags": []
          },
          "execution_count": 9
        }
      ]
    },
    {
      "cell_type": "code",
      "metadata": {
        "colab": {
          "base_uri": "https://localhost:8080/"
        },
        "id": "xn7uaehqOT3Q",
        "outputId": "cf3e48ea-3d5c-4cd9-9340-ea75cdbff1f0"
      },
      "source": [
        "#Örnekleme üzerinde yapılan değişiklik classtaki değişime neden oldu.\r\n",
        "veli=veribilimci()\r\n",
        "\r\n",
        "veli.bildiği_diller"
      ],
      "execution_count": null,
      "outputs": [
        {
          "output_type": "execute_result",
          "data": {
            "text/plain": [
              "['Python']"
            ]
          },
          "metadata": {
            "tags": []
          },
          "execution_count": 11
        }
      ]
    },
    {
      "cell_type": "code",
      "metadata": {
        "colab": {
          "base_uri": "https://localhost:8080/"
        },
        "id": "wC0ZsI6HOn85",
        "outputId": "36bb9db2-598a-47ca-a3cd-715a4c1f4b65"
      },
      "source": [
        "#Örnek özellikleri ve tek bir örnekleme için ekleme yapma\r\n",
        "\r\n",
        "class veribilimci():\r\n",
        "     def __init__(self):\r\n",
        "        self.bildigi_diller=[]\r\n",
        "\r\n",
        "ali=veribilimci()\r\n",
        "ali.bildigi_diller  \r\n",
        "\r\n",
        "veli=veribilimci()\r\n",
        "veli.bildigi_diller\r\n",
        "\r\n",
        "ali.bildigi_diller.append(\"Pyhton\")\r\n",
        "ali.bildigi_diller\r\n",
        "\r\n",
        "veli.bildigi_diller\r\n"
      ],
      "execution_count": null,
      "outputs": [
        {
          "output_type": "execute_result",
          "data": {
            "text/plain": [
              "[]"
            ]
          },
          "metadata": {
            "tags": []
          },
          "execution_count": 22
        }
      ]
    },
    {
      "cell_type": "code",
      "metadata": {
        "colab": {
          "base_uri": "https://localhost:8080/"
        },
        "id": "CGi8khOCTboQ",
        "outputId": "38fcf991-f535-417d-e093-0c657fdeb85c"
      },
      "source": [
        "veli.bildigi_diller.append(\"R\")\r\n",
        "veli.bildigi_diller\r\n"
      ],
      "execution_count": null,
      "outputs": [
        {
          "output_type": "execute_result",
          "data": {
            "text/plain": [
              "['R']"
            ]
          },
          "metadata": {
            "tags": []
          },
          "execution_count": 42
        }
      ]
    },
    {
      "cell_type": "code",
      "metadata": {
        "colab": {
          "base_uri": "https://localhost:8080/",
          "height": 167
        },
        "id": "-K7aKxWtUdW0",
        "outputId": "f94198de-bf45-4bff-ad6c-16c72ccfe716"
      },
      "source": [
        "#bir örnekleme içinde yaptığımız için genel classın özelliği olmaz.\r\n",
        "veribilimci.bildigi_diller"
      ],
      "execution_count": null,
      "outputs": [
        {
          "output_type": "error",
          "ename": "AttributeError",
          "evalue": "ignored",
          "traceback": [
            "\u001b[0;31m---------------------------------------------------------------------------\u001b[0m",
            "\u001b[0;31mAttributeError\u001b[0m                            Traceback (most recent call last)",
            "\u001b[0;32m<ipython-input-43-8d34041d2cc8>\u001b[0m in \u001b[0;36m<module>\u001b[0;34m()\u001b[0m\n\u001b[0;32m----> 1\u001b[0;31m \u001b[0mveribilimci\u001b[0m\u001b[0;34m.\u001b[0m\u001b[0mbildigi_diller\u001b[0m\u001b[0;34m\u001b[0m\u001b[0;34m\u001b[0m\u001b[0m\n\u001b[0m",
            "\u001b[0;31mAttributeError\u001b[0m: type object 'veribilimci' has no attribute 'bildigi_diller'"
          ]
        }
      ]
    },
    {
      "cell_type": "code",
      "metadata": {
        "id": "s_Vs7Co8UxOs"
      },
      "source": [
        "#Hem örnek özelliği hem kendi sınıfın özelliğini birlikte oluşturmak\r\n",
        "class veribilimci():\r\n",
        "     bildigi_diller=[\"R\",\"Pyhton\"]\r\n",
        "     bolum=\"\"\r\n",
        "     sql=\"Evet\"\r\n",
        "     deneyim_yılı=0\r\n",
        "     def __init__(self):\r\n",
        "        self.bildigi_diller=[]\r\n",
        "        self.deneyim_yılı=1\r\n",
        "        self.bolum=\"\""
      ],
      "execution_count": null,
      "outputs": []
    },
    {
      "cell_type": "code",
      "metadata": {
        "colab": {
          "base_uri": "https://localhost:8080/"
        },
        "id": "33aWHGwhVTXI",
        "outputId": "89e1dd62-00d8-47e4-ca37-12008f1a8443"
      },
      "source": [
        "ali.bildigi_diller"
      ],
      "execution_count": null,
      "outputs": [
        {
          "output_type": "execute_result",
          "data": {
            "text/plain": [
              "['Pyhton']"
            ]
          },
          "metadata": {
            "tags": []
          },
          "execution_count": 50
        }
      ]
    },
    {
      "cell_type": "code",
      "metadata": {
        "colab": {
          "base_uri": "https://localhost:8080/"
        },
        "id": "XIKU9fKHVVco",
        "outputId": "823f0993-f33a-40e9-e9d0-ee1b16e9f366"
      },
      "source": [
        "veli.bildigi_diller"
      ],
      "execution_count": null,
      "outputs": [
        {
          "output_type": "execute_result",
          "data": {
            "text/plain": [
              "['R']"
            ]
          },
          "metadata": {
            "tags": []
          },
          "execution_count": 51
        }
      ]
    },
    {
      "cell_type": "code",
      "metadata": {
        "colab": {
          "base_uri": "https://localhost:8080/"
        },
        "id": "A8HIf-vKVXsE",
        "outputId": "6a758bae-3f24-4955-9517-585176d396c9"
      },
      "source": [
        "veribilimci.bildigi_diller"
      ],
      "execution_count": null,
      "outputs": [
        {
          "output_type": "execute_result",
          "data": {
            "text/plain": [
              "['R', 'Pyhton']"
            ]
          },
          "metadata": {
            "tags": []
          },
          "execution_count": 52
        }
      ]
    },
    {
      "cell_type": "code",
      "metadata": {
        "colab": {
          "base_uri": "https://localhost:8080/"
        },
        "id": "5Ltc_KbeV0zd",
        "outputId": "c2290e04-7fda-4c73-c75e-805eb266b0f0"
      },
      "source": [
        "veribilimci.deneyim_yılı\r\n",
        "ali=veribilimci()\r\n",
        "veli=veribilimci()\r\n",
        "\r\n",
        "ali.deneyim_yılı"
      ],
      "execution_count": null,
      "outputs": [
        {
          "output_type": "execute_result",
          "data": {
            "text/plain": [
              "1"
            ]
          },
          "metadata": {
            "tags": []
          },
          "execution_count": 71
        }
      ]
    },
    {
      "cell_type": "code",
      "metadata": {
        "colab": {
          "base_uri": "https://localhost:8080/",
          "height": 35
        },
        "id": "Zvg-XXxvXl1P",
        "outputId": "2fb9060b-685a-4899-b4cc-a789e5705a5e"
      },
      "source": [
        "ali.bolum=\"istatistik\"\r\n",
        "ali.bolum"
      ],
      "execution_count": null,
      "outputs": [
        {
          "output_type": "execute_result",
          "data": {
            "application/vnd.google.colaboratory.intrinsic+json": {
              "type": "string"
            },
            "text/plain": [
              "'istatistik'"
            ]
          },
          "metadata": {
            "tags": []
          },
          "execution_count": 75
        }
      ]
    },
    {
      "cell_type": "code",
      "metadata": {
        "colab": {
          "base_uri": "https://localhost:8080/",
          "height": 35
        },
        "id": "RUxehGa9YOPq",
        "outputId": "20153544-be61-41a0-930d-9aeab0d25f9c"
      },
      "source": [
        "veli.bolum=\"End_muh\"\r\n",
        "veli.bolum"
      ],
      "execution_count": null,
      "outputs": [
        {
          "output_type": "execute_result",
          "data": {
            "application/vnd.google.colaboratory.intrinsic+json": {
              "type": "string"
            },
            "text/plain": [
              "'End_muh'"
            ]
          },
          "metadata": {
            "tags": []
          },
          "execution_count": 76
        }
      ]
    },
    {
      "cell_type": "code",
      "metadata": {
        "colab": {
          "base_uri": "https://localhost:8080/",
          "height": 35
        },
        "id": "OZzDnhELYW6w",
        "outputId": "5cecec5e-6b03-44aa-a78f-2dbe47338c99"
      },
      "source": [
        "veribilimci.bolum"
      ],
      "execution_count": null,
      "outputs": [
        {
          "output_type": "execute_result",
          "data": {
            "application/vnd.google.colaboratory.intrinsic+json": {
              "type": "string"
            },
            "text/plain": [
              "''"
            ]
          },
          "metadata": {
            "tags": []
          },
          "execution_count": 77
        }
      ]
    },
    {
      "cell_type": "code",
      "metadata": {
        "colab": {
          "base_uri": "https://localhost:8080/"
        },
        "id": "2lymjz__YY10",
        "outputId": "44fdfb08-3de2-4a05-86bc-e0a2e17600f1"
      },
      "source": [
        "#Örnek Methodları\r\n",
        "class VeriBilimci():\r\n",
        "     workers=[] \r\n",
        "     def __init__(self):\r\n",
        "        self.bildigi_diller=[]\r\n",
        "        self.bolum=\"\"\r\n",
        "     def dil_ekle(self, yeni_dil):\r\n",
        "        self.bildigi_diller.append(yeni_dil) \r\n",
        "        \r\n",
        "dir(VeriBilimci)         "
      ],
      "execution_count": null,
      "outputs": [
        {
          "output_type": "execute_result",
          "data": {
            "text/plain": [
              "['__class__',\n",
              " '__delattr__',\n",
              " '__dict__',\n",
              " '__dir__',\n",
              " '__doc__',\n",
              " '__eq__',\n",
              " '__format__',\n",
              " '__ge__',\n",
              " '__getattribute__',\n",
              " '__gt__',\n",
              " '__hash__',\n",
              " '__init__',\n",
              " '__init_subclass__',\n",
              " '__le__',\n",
              " '__lt__',\n",
              " '__module__',\n",
              " '__ne__',\n",
              " '__new__',\n",
              " '__reduce__',\n",
              " '__reduce_ex__',\n",
              " '__repr__',\n",
              " '__setattr__',\n",
              " '__sizeof__',\n",
              " '__str__',\n",
              " '__subclasshook__',\n",
              " '__weakref__',\n",
              " 'dil_ekle',\n",
              " 'workers']"
            ]
          },
          "metadata": {
            "tags": []
          },
          "execution_count": 88
        }
      ]
    },
    {
      "cell_type": "code",
      "metadata": {
        "colab": {
          "base_uri": "https://localhost:8080/",
          "height": 35
        },
        "id": "oj8klxsGmfdS",
        "outputId": "92aabe45-b55b-49e1-a53b-b8ebdfd5554b"
      },
      "source": [
        "batu=VeriBilimci() \r\n",
        "batu.bildigi_diller\r\n",
        "batu.bolum"
      ],
      "execution_count": null,
      "outputs": [
        {
          "output_type": "execute_result",
          "data": {
            "application/vnd.google.colaboratory.intrinsic+json": {
              "type": "string"
            },
            "text/plain": [
              "''"
            ]
          },
          "metadata": {
            "tags": []
          },
          "execution_count": 89
        }
      ]
    },
    {
      "cell_type": "code",
      "metadata": {
        "colab": {
          "base_uri": "https://localhost:8080/",
          "height": 35
        },
        "id": "DWMQgC5gmlRm",
        "outputId": "9f261603-01f0-4ac4-bd84-915622c8275e"
      },
      "source": [
        "onur=VeriBilimci() \r\n",
        "onur.bildigi_diller\r\n",
        "onur.bolum"
      ],
      "execution_count": null,
      "outputs": [
        {
          "output_type": "execute_result",
          "data": {
            "application/vnd.google.colaboratory.intrinsic+json": {
              "type": "string"
            },
            "text/plain": [
              "''"
            ]
          },
          "metadata": {
            "tags": []
          },
          "execution_count": 90
        }
      ]
    },
    {
      "cell_type": "code",
      "metadata": {
        "colab": {
          "base_uri": "https://localhost:8080/"
        },
        "id": "oswL0bX9sUnv",
        "outputId": "3256a4ef-b1d1-4ae8-e6de-0269b355b619"
      },
      "source": [
        "onur.dil_ekle(\"Python\")\r\n",
        "onur.bildigi_diller"
      ],
      "execution_count": null,
      "outputs": [
        {
          "output_type": "execute_result",
          "data": {
            "text/plain": [
              "['Python']"
            ]
          },
          "metadata": {
            "tags": []
          },
          "execution_count": 103
        }
      ]
    },
    {
      "cell_type": "code",
      "metadata": {
        "colab": {
          "base_uri": "https://localhost:8080/"
        },
        "id": "vRZBNOuAuMjz",
        "outputId": "1dc9ed3e-523c-4204-8d8d-9cd3387c8cdc"
      },
      "source": [
        "batu.dil_ekle(\"R\")\r\n",
        "batu.bildigi_diller"
      ],
      "execution_count": null,
      "outputs": [
        {
          "output_type": "execute_result",
          "data": {
            "text/plain": [
              "['R']"
            ]
          },
          "metadata": {
            "tags": []
          },
          "execution_count": 110
        }
      ]
    },
    {
      "cell_type": "markdown",
      "metadata": {
        "id": "7St9s-HcukmG"
      },
      "source": [
        "**Miras Yapısı(Inheritance)**"
      ]
    },
    {
      "cell_type": "code",
      "metadata": {
        "id": "9MoUoXhhvMAs"
      },
      "source": [
        "class Employees():\r\n",
        "      def __init__(self):\r\n",
        "        self.First_name=\"\"\r\n",
        "        self.Last_name=\"\"\r\n",
        "        self.Address=\"\" "
      ],
      "execution_count": null,
      "outputs": []
    },
    {
      "cell_type": "code",
      "metadata": {
        "id": "Zml_-LrFzDAy"
      },
      "source": [
        "class DataScience(Employees):\r\n",
        "      def __init__(self):\r\n",
        "         self.Programming=\"\"\r\n",
        "\r\n",
        "datascientist_1=DataScience() "
      ],
      "execution_count": null,
      "outputs": []
    },
    {
      "cell_type": "code",
      "metadata": {
        "colab": {
          "base_uri": "https://localhost:8080/",
          "height": 35
        },
        "id": "pB3HXnmyzf9C",
        "outputId": "7428e175-905c-45c7-abbd-780c468ed06a"
      },
      "source": [
        "datascientist_1.Address=\"Maltepe\"\r\n",
        "datascientist_1.Address"
      ],
      "execution_count": null,
      "outputs": [
        {
          "output_type": "execute_result",
          "data": {
            "application/vnd.google.colaboratory.intrinsic+json": {
              "type": "string"
            },
            "text/plain": [
              "'Maltepe'"
            ]
          },
          "metadata": {
            "tags": []
          },
          "execution_count": 131
        }
      ]
    },
    {
      "cell_type": "code",
      "metadata": {
        "id": "y7txrjJ3wV5D"
      },
      "source": [
        "class Marketing(Employees):\r\n",
        "      def __init__(self):\r\n",
        "        self.StoryTelling=\"\"      "
      ],
      "execution_count": null,
      "outputs": []
    },
    {
      "cell_type": "code",
      "metadata": {
        "colab": {
          "base_uri": "https://localhost:8080/",
          "height": 35
        },
        "id": "Fmo4Q0On0TRS",
        "outputId": "82dd675f-992f-4fbc-b56f-fecb005c548a"
      },
      "source": [
        "mar1=Marketing()\r\n",
        "mar1.First_name=\"Sezer\"\r\n",
        "mar1.First_name"
      ],
      "execution_count": null,
      "outputs": [
        {
          "output_type": "execute_result",
          "data": {
            "application/vnd.google.colaboratory.intrinsic+json": {
              "type": "string"
            },
            "text/plain": [
              "'Sezer'"
            ]
          },
          "metadata": {
            "tags": []
          },
          "execution_count": 134
        }
      ]
    },
    {
      "cell_type": "markdown",
      "metadata": {
        "id": "HICE781O-sSX"
      },
      "source": [
        "**Functional Programming**"
      ]
    },
    {
      "cell_type": "code",
      "metadata": {
        "id": "5d73KmxL-zO_"
      },
      "source": [
        "#Impure Functioning(Yan etkili fonksiyon)\r\n",
        "A=5\r\n",
        "\r\n",
        "def impure_sum(b):\r\n",
        "    return b+A\r\n",
        "\r\n",
        "#Pure Functioning(Yan Etkisiz Fonksiyon)\r\n",
        "\r\n",
        "def pure_sum(a,b):\r\n",
        "    return a+b"
      ],
      "execution_count": null,
      "outputs": []
    },
    {
      "cell_type": "code",
      "metadata": {
        "colab": {
          "base_uri": "https://localhost:8080/"
        },
        "id": "0ff1xOpHAduh",
        "outputId": "fceb6b66-028a-46ff-df12-047361214fc8"
      },
      "source": [
        "impure_sum(6)"
      ],
      "execution_count": null,
      "outputs": [
        {
          "output_type": "execute_result",
          "data": {
            "text/plain": [
              "11"
            ]
          },
          "metadata": {
            "tags": []
          },
          "execution_count": 7
        }
      ]
    },
    {
      "cell_type": "code",
      "metadata": {
        "colab": {
          "base_uri": "https://localhost:8080/"
        },
        "id": "OvAm4n2UA10c",
        "outputId": "aa290c4d-6d08-4bcd-9273-e6782ca6e228"
      },
      "source": [
        "impure_sum(9)"
      ],
      "execution_count": null,
      "outputs": [
        {
          "output_type": "execute_result",
          "data": {
            "text/plain": [
              "14"
            ]
          },
          "metadata": {
            "tags": []
          },
          "execution_count": 8
        }
      ]
    },
    {
      "cell_type": "code",
      "metadata": {
        "colab": {
          "base_uri": "https://localhost:8080/"
        },
        "id": "t5zYbOrVA4Ot",
        "outputId": "b1337cee-cdd2-490a-b466-5753a1489685"
      },
      "source": [
        "pure_sum(3,4)"
      ],
      "execution_count": null,
      "outputs": [
        {
          "output_type": "execute_result",
          "data": {
            "text/plain": [
              "7"
            ]
          },
          "metadata": {
            "tags": []
          },
          "execution_count": 9
        }
      ]
    },
    {
      "cell_type": "code",
      "metadata": {
        "colab": {
          "resources": {
            "http://localhost:8080/nbextensions/google.colab/files.js": {
              "data": "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",
              "ok": true,
              "headers": [
                [
                  "content-type",
                  "application/javascript"
                ]
              ],
              "status": 200,
              "status_text": ""
            }
          },
          "base_uri": "https://localhost:8080/",
          "height": 74
        },
        "id": "_QrqyNkaGyus",
        "outputId": "82067ffc-6e52-41ee-9200-5336d376283a"
      },
      "source": [
        "#Colab defterine pcdeki dosyayı yüklemek.\r\n",
        "from google.colab import files\r\n",
        "uploaded = files.upload()"
      ],
      "execution_count": null,
      "outputs": [
        {
          "output_type": "display_data",
          "data": {
            "text/html": [
              "\n",
              "     <input type=\"file\" id=\"files-d9b08740-91fa-4b34-8311-66f18c6fadb1\" name=\"files[]\" multiple disabled\n",
              "        style=\"border:none\" />\n",
              "     <output id=\"result-d9b08740-91fa-4b34-8311-66f18c6fadb1\">\n",
              "      Upload widget is only available when the cell has been executed in the\n",
              "      current browser session. Please rerun this cell to enable.\n",
              "      </output>\n",
              "      <script src=\"/nbextensions/google.colab/files.js\"></script> "
            ],
            "text/plain": [
              "<IPython.core.display.HTML object>"
            ]
          },
          "metadata": {
            "tags": []
          }
        },
        {
          "output_type": "stream",
          "text": [
            "Saving deneme.txt to deneme (1).txt\n"
          ],
          "name": "stdout"
        }
      ]
    },
    {
      "cell_type": "code",
      "metadata": {
        "colab": {
          "base_uri": "https://localhost:8080/"
        },
        "id": "1W-LPyKjA6Ox",
        "outputId": "1cfcb6bb-9bc6-4c94-eeef-27e14d46ebd2"
      },
      "source": [
        "#OOP ile yapılmış bir dosya içindeki satır sayısını gösteren bir kod dizilimi\r\n",
        "#Class içinde okuturken boş değerler örnek içinde okuturken gerçek değer çıkar.\r\n",
        "#Bu değişimlerin olması genelde isteyeceğimiz şeyken bazen de istemeyiz.\r\n",
        "class Linecounter:\r\n",
        "  def __init__(self,filename):\r\n",
        "    self.file=open(filename,\"r\")\r\n",
        "    self.lines=[]\r\n",
        "\r\n",
        "  def read(self):\r\n",
        "       self.lines=[line for line in self.file]\r\n",
        "\r\n",
        "  def count(self):\r\n",
        "      return len(self.lines)  \r\n",
        "\r\n",
        "lc=Linecounter(\"deneme.txt\")\r\n",
        "\r\n",
        "print(lc.lines)\r\n",
        "print(lc.count())\r\n",
        "\r\n",
        "lc.read()\r\n",
        "\r\n",
        "print(lc.lines)\r\n",
        "print(lc.count())"
      ],
      "execution_count": null,
      "outputs": [
        {
          "output_type": "stream",
          "text": [
            "[]\n",
            "0\n",
            "['Bunlar bir denemedir\\n', '\\n', 'sadasffsa\\n', '\\n', 'asfasfsfsa\\n', '\\n', 'asfasfasfsa\\n', '\\n', 'agasfsasaf']\n",
            "9\n"
          ],
          "name": "stdout"
        }
      ]
    },
    {
      "cell_type": "code",
      "metadata": {
        "colab": {
          "base_uri": "https://localhost:8080/"
        },
        "id": "8gHzdScLE803",
        "outputId": "0a04e9b9-ca2a-4442-d5b1-81d09de8dbb3"
      },
      "source": [
        "#FP\r\n",
        "#Verdiğimiz girdi boyunca sadece çıktı verir.Bağımsız şekilde işler.\r\n",
        "def read(filename):\r\n",
        "  with open(filename,\"r\") as f:\r\n",
        "       return[line for line in f]\r\n",
        "\r\n",
        "def count(lines):\r\n",
        "    return len(lines)       \r\n",
        "\r\n",
        "example_lines=read(\"deneme.txt\")   \r\n",
        "lines_count=count(example_lines)\r\n",
        "lines_count "
      ],
      "execution_count": null,
      "outputs": [
        {
          "output_type": "execute_result",
          "data": {
            "text/plain": [
              "9"
            ]
          },
          "metadata": {
            "tags": []
          },
          "execution_count": 15
        }
      ]
    },
    {
      "cell_type": "code",
      "metadata": {
        "colab": {
          "base_uri": "https://localhost:8080/"
        },
        "id": "Qap0f9e7ICtn",
        "outputId": "306789b6-95eb-4d06-f7bd-3c84a591a69b"
      },
      "source": [
        "#Anonymous Functions(İsimsiz fonksiyonlar)\r\n",
        "\r\n",
        "def old_sum(a,b):\r\n",
        "    return a+b\r\n",
        "old_sum(3,4)  \r\n",
        "\r\n",
        "#İsimlendirme yaparak lambda fonksiyonu kullanımı\r\n",
        "new_sum=lambda a,b : a+b\r\n",
        "new_sum(4,5)\r\n",
        "\r\n",
        "#İsimlendirme yapmadan fonksiyon kullanımı \r\n",
        "unsorted_list=[(\"b\",3),(\"a\",8),(\"d\",12),(\"c\",1)]\r\n",
        "unsorted_list\r\n",
        "\r\n",
        "sorted(unsorted_list,key=lambda x: x[1])\r\n",
        "\r\n"
      ],
      "execution_count": null,
      "outputs": [
        {
          "output_type": "execute_result",
          "data": {
            "text/plain": [
              "[('c', 1), ('b', 3), ('a', 8), ('d', 12)]"
            ]
          },
          "metadata": {
            "tags": []
          },
          "execution_count": 20
        }
      ]
    },
    {
      "cell_type": "code",
      "metadata": {
        "colab": {
          "base_uri": "https://localhost:8080/"
        },
        "id": "cyee3FhYKwLR",
        "outputId": "33243f44-1576-4ada-934a-e3af515cfeb8"
      },
      "source": [
        "sorted(unsorted_list,key=lambda x: x[0])"
      ],
      "execution_count": null,
      "outputs": [
        {
          "output_type": "execute_result",
          "data": {
            "text/plain": [
              "[('a', 8), ('b', 3), ('c', 1), ('d', 12)]"
            ]
          },
          "metadata": {
            "tags": []
          },
          "execution_count": 21
        }
      ]
    },
    {
      "cell_type": "code",
      "metadata": {
        "colab": {
          "base_uri": "https://localhost:8080/"
        },
        "id": "XlZsyf-NK0Tl",
        "outputId": "324d3ad0-83f6-44b4-ffdd-1df165ec6ced"
      },
      "source": [
        "#Vectorel Operations(Vectorel Operations)\r\n",
        "#OOP ile\r\n",
        "a=[1,3,5,7]\r\n",
        "b=[2,4,6,8]\r\n",
        "\r\n",
        "ab=[]\r\n",
        "\r\n",
        "range(0,len(a))\r\n",
        "\r\n",
        "for i in range(0,len(a)):\r\n",
        "  print(i)\r\n",
        "\r\n",
        "for i in range(0,len(a)):\r\n",
        "    ab.append(a[i]*b[i])\r\n",
        "\r\n",
        "ab"
      ],
      "execution_count": null,
      "outputs": [
        {
          "output_type": "stream",
          "text": [
            "0\n",
            "1\n",
            "2\n",
            "3\n"
          ],
          "name": "stdout"
        },
        {
          "output_type": "execute_result",
          "data": {
            "text/plain": [
              "[2, 12, 30, 56]"
            ]
          },
          "metadata": {
            "tags": []
          },
          "execution_count": 28
        }
      ]
    },
    {
      "cell_type": "code",
      "metadata": {
        "colab": {
          "base_uri": "https://localhost:8080/"
        },
        "id": "lnRcDi90MnuJ",
        "outputId": "b3ee05f2-9f06-4b82-96a8-e5ee3524b4fe"
      },
      "source": [
        "#Fp ile vectorel operations(Numpy)\r\n",
        "#Veri biliminde vektörel operasyonları numpy kütüphanesinde hızlıca yaparız.\r\n",
        "import numpy as np \r\n",
        "\r\n",
        "a=np.array([1,3,5,7])\r\n",
        "b=np.array([2,4,6,8])\r\n",
        "a*b"
      ],
      "execution_count": null,
      "outputs": [
        {
          "output_type": "execute_result",
          "data": {
            "text/plain": [
              "array([ 2, 12, 30, 56])"
            ]
          },
          "metadata": {
            "tags": []
          },
          "execution_count": 32
        }
      ]
    },
    {
      "cell_type": "markdown",
      "metadata": {
        "id": "s30_n0v3Nqeh"
      },
      "source": [
        "**Map&Filter&Reduce Functions**"
      ]
    },
    {
      "cell_type": "code",
      "metadata": {
        "colab": {
          "base_uri": "https://localhost:8080/"
        },
        "id": "H0qITkzfNwjR",
        "outputId": "16b039de-d64a-4963-ea92-1b7e8ad45c68"
      },
      "source": [
        "liste=[1,2,3,4,5]\r\n",
        "\r\n",
        "for i in liste:\r\n",
        "    print(i+10)"
      ],
      "execution_count": null,
      "outputs": [
        {
          "output_type": "stream",
          "text": [
            "11\n",
            "12\n",
            "13\n",
            "14\n",
            "15\n"
          ],
          "name": "stdout"
        }
      ]
    },
    {
      "cell_type": "code",
      "metadata": {
        "id": "85HiUZyNPPhm",
        "colab": {
          "base_uri": "https://localhost:8080/"
        },
        "outputId": "61b178f2-1148-4e63-a95b-73425bc8cd67"
      },
      "source": [
        "#Map verilen bir vektörün içerisindeki tanımlanacak bir fonk.çalıştırma sağlar.\r\n",
        "list(map(lambda x: x+10,liste))"
      ],
      "execution_count": null,
      "outputs": [
        {
          "output_type": "execute_result",
          "data": {
            "text/plain": [
              "[11, 12, 13, 14, 15]"
            ]
          },
          "metadata": {
            "tags": []
          },
          "execution_count": 4
        }
      ]
    },
    {
      "cell_type": "code",
      "metadata": {
        "id": "yjtZlLMZRrxE",
        "colab": {
          "base_uri": "https://localhost:8080/"
        },
        "outputId": "3d05a5d0-43f4-4c14-cc26-7b3510b3b3e5"
      },
      "source": [
        "#Filter\r\n",
        "new_liste=[1,2,3,4,5,6,7,8,9]\r\n",
        "list(filter(lambda x : x % 2 == 0,new_liste))"
      ],
      "execution_count": null,
      "outputs": [
        {
          "output_type": "execute_result",
          "data": {
            "text/plain": [
              "[2, 4, 6, 8]"
            ]
          },
          "metadata": {
            "tags": []
          },
          "execution_count": 1
        }
      ]
    },
    {
      "cell_type": "code",
      "metadata": {
        "colab": {
          "base_uri": "https://localhost:8080/"
        },
        "id": "RdehpGfIjrUE",
        "outputId": "33d462c6-f9d3-48c1-f526-6ec47b846195"
      },
      "source": [
        "#Reduce\r\n",
        "new_liste=[1,2,3,4,5,6,7,8,9]\r\n",
        "\r\n",
        "from functools import reduce\r\n",
        "\r\n",
        "reduce(lambda a,b: a+b ,new_liste)"
      ],
      "execution_count": null,
      "outputs": [
        {
          "output_type": "execute_result",
          "data": {
            "text/plain": [
              "45"
            ]
          },
          "metadata": {
            "tags": []
          },
          "execution_count": 5
        }
      ]
    },
    {
      "cell_type": "markdown",
      "metadata": {
        "id": "jkSOdc9GldIm"
      },
      "source": [
        "**Module(Package or Library)**"
      ]
    },
    {
      "cell_type": "code",
      "metadata": {
        "id": "AOCjHy2blgE0"
      },
      "source": [
        "import pandas as pd\r\n",
        "import numpy as np\r\n",
        "import matplotlib.pyplot as plt\r\n",
        "import tensorflow as tf\r\n",
        "#Bu kütüphaneleri çağırıp içlerindeki fonksiyon,list gibi işlevleri kullanırsın"
      ],
      "execution_count": null,
      "outputs": []
    },
    {
      "cell_type": "markdown",
      "metadata": {
        "id": "sFd9aqPCqF0Y"
      },
      "source": [
        "**Errors&Exceptions(Hatalar ve İstisnalar)**"
      ]
    },
    {
      "cell_type": "code",
      "metadata": {
        "colab": {
          "base_uri": "https://localhost:8080/"
        },
        "id": "ufk_vXHPqNiX",
        "outputId": "c0915c94-4a6c-4b8a-c3a1-162b215a4e14"
      },
      "source": [
        "#ZeroDivisionError\r\n",
        "a=10\r\n",
        "b=0\r\n",
        "\r\n",
        "try:\r\n",
        "     print(a/b)\r\n",
        "except ZeroDivisionError:\r\n",
        "       print(\"Payda da 0 olmaz\")  "
      ],
      "execution_count": null,
      "outputs": [
        {
          "output_type": "stream",
          "text": [
            "Payda da 0 olmaz\n"
          ],
          "name": "stdout"
        }
      ]
    },
    {
      "cell_type": "code",
      "metadata": {
        "colab": {
          "base_uri": "https://localhost:8080/",
          "height": 202
        },
        "id": "XW9_MdWmsECg",
        "outputId": "94e61185-20ff-4d48-9582-d988426be618"
      },
      "source": [
        "#TypeError\r\n",
        "\r\n",
        "a=10\r\n",
        "b=\"At\"\r\n",
        "\r\n",
        "print(a+b)"
      ],
      "execution_count": null,
      "outputs": [
        {
          "output_type": "error",
          "ename": "TypeError",
          "evalue": "ignored",
          "traceback": [
            "\u001b[0;31m---------------------------------------------------------------------------\u001b[0m",
            "\u001b[0;31mTypeError\u001b[0m                                 Traceback (most recent call last)",
            "\u001b[0;32m<ipython-input-12-69fdcc98a9ce>\u001b[0m in \u001b[0;36m<module>\u001b[0;34m()\u001b[0m\n\u001b[1;32m      4\u001b[0m \u001b[0mb\u001b[0m\u001b[0;34m=\u001b[0m\u001b[0;34m\"At\"\u001b[0m\u001b[0;34m\u001b[0m\u001b[0;34m\u001b[0m\u001b[0m\n\u001b[1;32m      5\u001b[0m \u001b[0;34m\u001b[0m\u001b[0m\n\u001b[0;32m----> 6\u001b[0;31m \u001b[0mprint\u001b[0m\u001b[0;34m(\u001b[0m\u001b[0ma\u001b[0m\u001b[0;34m+\u001b[0m\u001b[0mb\u001b[0m\u001b[0;34m)\u001b[0m\u001b[0;34m\u001b[0m\u001b[0;34m\u001b[0m\u001b[0m\n\u001b[0m",
            "\u001b[0;31mTypeError\u001b[0m: unsupported operand type(s) for +: 'int' and 'str'"
          ]
        }
      ]
    },
    {
      "cell_type": "code",
      "metadata": {
        "colab": {
          "base_uri": "https://localhost:8080/"
        },
        "id": "O9irgoitsPoz",
        "outputId": "bc1421f4-e410-48ca-dc80-b71e73a74d8c"
      },
      "source": [
        "try:\r\n",
        "    print(a+b)\r\n",
        "except TypeError:\r\n",
        "    print(\"Int ve String ifadeler beraber toplanmaz\")    "
      ],
      "execution_count": null,
      "outputs": [
        {
          "output_type": "stream",
          "text": [
            "Int ve String ifadeler beraber toplanmaz\n"
          ],
          "name": "stdout"
        }
      ]
    }
  ]
}