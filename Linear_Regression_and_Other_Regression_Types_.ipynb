{
  "nbformat": 4,
  "nbformat_minor": 0,
  "metadata": {
    "kernelspec": {
      "display_name": "Python 3",
      "language": "python",
      "name": "python3"
    },
    "language_info": {
      "codemirror_mode": {
        "name": "ipython",
        "version": 3
      },
      "file_extension": ".py",
      "mimetype": "text/x-python",
      "name": "python",
      "nbconvert_exporter": "python",
      "pygments_lexer": "ipython3",
      "version": "3.7.3"
    },
    "colab": {
      "name": "Linear Regression and Other Regression Types  .ipynb",
      "provenance": [],
      "collapsed_sections": [
        "s_QoMoD4OsDo",
        "etY_DYViOsDx",
        "W4N31yXdOsD7",
        "eiSkrsl1OsD-",
        "1XrnrGGiOsEF",
        "2dQ7dMK3OsEJ",
        "fqyzwj7HOsEL",
        "dKAwozttOsEM",
        "bW06PmB2OsEQ",
        "05gUTHhtOsEX",
        "hgsoHlXvOsEn",
        "kFf0VVu3OsEr",
        "xXgzUDOYOsEy",
        "0vzGpryEOsEz",
        "BtDfzNkcOsE1",
        "uF756HaxOsE4",
        "Nx895rAbOsE6",
        "TEx7KnVCOsE6",
        "QyovX6DUOsE-",
        "eatbpByqOsFB",
        "P14LpLRPOsFF",
        "a3gxBB3FOsFF",
        "B6Nz-DGjOsFI",
        "78BfTtp6OsFK"
      ],
      "include_colab_link": true
    }
  },
  "cells": [
    {
      "cell_type": "markdown",
      "metadata": {
        "id": "view-in-github",
        "colab_type": "text"
      },
      "source": [
        "<a href=\"https://colab.research.google.com/github/koseogluonur/-Python-for-Data-Science-and-Machine-Learning-/blob/main/Linear_Regression_and_Other_Regression_Types_.ipynb\" target=\"_parent\"><img src=\"https://colab.research.google.com/assets/colab-badge.svg\" alt=\"Open In Colab\"/></a>"
      ]
    },
    {
      "cell_type": "markdown",
      "metadata": {
        "id": "FV0PrRY0OsDi"
      },
      "source": [
        "# Basit Doğrusal Regresyon"
      ]
    },
    {
      "cell_type": "markdown",
      "metadata": {
        "id": "s_QoMoD4OsDo"
      },
      "source": [
        "## Modelleme "
      ]
    },
    {
      "cell_type": "code",
      "metadata": {
        "id": "Rh9tq20LOsDp"
      },
      "source": [
        "from warnings import filterwarnings\n",
        "filterwarnings('ignore')"
      ],
      "execution_count": null,
      "outputs": []
    },
    {
      "cell_type": "code",
      "metadata": {
        "colab": {
          "resources": {
            "http://localhost:8080/nbextensions/google.colab/files.js": {
              "data": "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",
              "ok": true,
              "headers": [
                [
                  "content-type",
                  "application/javascript"
                ]
              ],
              "status": 200,
              "status_text": ""
            }
          },
          "base_uri": "https://localhost:8080/",
          "height": 109
        },
        "id": "wXrz4tViR4xV",
        "outputId": "1d36ae34-c6b8-4316-fbf9-f7b4b1148e4e"
      },
      "source": [
        "from google.colab import files\n",
        "files.upload()"
      ],
      "execution_count": null,
      "outputs": [
        {
          "output_type": "display_data",
          "data": {
            "text/html": [
              "\n",
              "     <input type=\"file\" id=\"files-d793d419-3433-45aa-898f-eedc94343c27\" name=\"files[]\" multiple disabled\n",
              "        style=\"border:none\" />\n",
              "     <output id=\"result-d793d419-3433-45aa-898f-eedc94343c27\">\n",
              "      Upload widget is only available when the cell has been executed in the\n",
              "      current browser session. Please rerun this cell to enable.\n",
              "      </output>\n",
              "      <script src=\"/nbextensions/google.colab/files.js\"></script> "
            ],
            "text/plain": [
              "<IPython.core.display.HTML object>"
            ]
          },
          "metadata": {
            "tags": []
          }
        },
        {
          "output_type": "stream",
          "text": [
            "Saving Advertising.csv to Advertising.csv\n"
          ],
          "name": "stdout"
        },
        {
          "output_type": "execute_result",
          "data": {
            "text/plain": [
              "{'Advertising.csv': b',TV,radio,newspaper,sales\\r\\n1,230.1,37.8,69.2,22.1\\r\\n2,44.5,39.3,45.1,10.4\\r\\n3,17.2,45.9,69.3,9.3\\r\\n4,151.5,41.3,58.5,18.5\\r\\n5,180.8,10.8,58.4,12.9\\r\\n6,8.7,48.9,75,7.2\\r\\n7,57.5,32.8,23.5,11.8\\r\\n8,120.2,19.6,11.6,13.2\\r\\n9,8.6,2.1,1,4.8\\r\\n10,199.8,2.6,21.2,10.6\\r\\n11,66.1,5.8,24.2,8.6\\r\\n12,214.7,24,4,17.4\\r\\n13,23.8,35.1,65.9,9.2\\r\\n14,97.5,7.6,7.2,9.7\\r\\n15,204.1,32.9,46,19\\r\\n16,195.4,47.7,52.9,22.4\\r\\n17,67.8,36.6,114,12.5\\r\\n18,281.4,39.6,55.8,24.4\\r\\n19,69.2,20.5,18.3,11.3\\r\\n20,147.3,23.9,19.1,14.6\\r\\n21,218.4,27.7,53.4,18\\r\\n22,237.4,5.1,23.5,12.5\\r\\n23,13.2,15.9,49.6,5.6\\r\\n24,228.3,16.9,26.2,15.5\\r\\n25,62.3,12.6,18.3,9.7\\r\\n26,262.9,3.5,19.5,12\\r\\n27,142.9,29.3,12.6,15\\r\\n28,240.1,16.7,22.9,15.9\\r\\n29,248.8,27.1,22.9,18.9\\r\\n30,70.6,16,40.8,10.5\\r\\n31,292.9,28.3,43.2,21.4\\r\\n32,112.9,17.4,38.6,11.9\\r\\n33,97.2,1.5,30,9.6\\r\\n34,265.6,20,0.3,17.4\\r\\n35,95.7,1.4,7.4,9.5\\r\\n36,290.7,4.1,8.5,12.8\\r\\n37,266.9,43.8,5,25.4\\r\\n38,74.7,49.4,45.7,14.7\\r\\n39,43.1,26.7,35.1,10.1\\r\\n40,228,37.7,32,21.5\\r\\n41,202.5,22.3,31.6,16.6\\r\\n42,177,33.4,38.7,17.1\\r\\n43,293.6,27.7,1.8,20.7\\r\\n44,206.9,8.4,26.4,12.9\\r\\n45,25.1,25.7,43.3,8.5\\r\\n46,175.1,22.5,31.5,14.9\\r\\n47,89.7,9.9,35.7,10.6\\r\\n48,239.9,41.5,18.5,23.2\\r\\n49,227.2,15.8,49.9,14.8\\r\\n50,66.9,11.7,36.8,9.7\\r\\n51,199.8,3.1,34.6,11.4\\r\\n52,100.4,9.6,3.6,10.7\\r\\n53,216.4,41.7,39.6,22.6\\r\\n54,182.6,46.2,58.7,21.2\\r\\n55,262.7,28.8,15.9,20.2\\r\\n56,198.9,49.4,60,23.7\\r\\n57,7.3,28.1,41.4,5.5\\r\\n58,136.2,19.2,16.6,13.2\\r\\n59,210.8,49.6,37.7,23.8\\r\\n60,210.7,29.5,9.3,18.4\\r\\n61,53.5,2,21.4,8.1\\r\\n62,261.3,42.7,54.7,24.2\\r\\n63,239.3,15.5,27.3,15.7\\r\\n64,102.7,29.6,8.4,14\\r\\n65,131.1,42.8,28.9,18\\r\\n66,69,9.3,0.9,9.3\\r\\n67,31.5,24.6,2.2,9.5\\r\\n68,139.3,14.5,10.2,13.4\\r\\n69,237.4,27.5,11,18.9\\r\\n70,216.8,43.9,27.2,22.3\\r\\n71,199.1,30.6,38.7,18.3\\r\\n72,109.8,14.3,31.7,12.4\\r\\n73,26.8,33,19.3,8.8\\r\\n74,129.4,5.7,31.3,11\\r\\n75,213.4,24.6,13.1,17\\r\\n76,16.9,43.7,89.4,8.7\\r\\n77,27.5,1.6,20.7,6.9\\r\\n78,120.5,28.5,14.2,14.2\\r\\n79,5.4,29.9,9.4,5.3\\r\\n80,116,7.7,23.1,11\\r\\n81,76.4,26.7,22.3,11.8\\r\\n82,239.8,4.1,36.9,12.3\\r\\n83,75.3,20.3,32.5,11.3\\r\\n84,68.4,44.5,35.6,13.6\\r\\n85,213.5,43,33.8,21.7\\r\\n86,193.2,18.4,65.7,15.2\\r\\n87,76.3,27.5,16,12\\r\\n88,110.7,40.6,63.2,16\\r\\n89,88.3,25.5,73.4,12.9\\r\\n90,109.8,47.8,51.4,16.7\\r\\n91,134.3,4.9,9.3,11.2\\r\\n92,28.6,1.5,33,7.3\\r\\n93,217.7,33.5,59,19.4\\r\\n94,250.9,36.5,72.3,22.2\\r\\n95,107.4,14,10.9,11.5\\r\\n96,163.3,31.6,52.9,16.9\\r\\n97,197.6,3.5,5.9,11.7\\r\\n98,184.9,21,22,15.5\\r\\n99,289.7,42.3,51.2,25.4\\r\\n100,135.2,41.7,45.9,17.2\\r\\n101,222.4,4.3,49.8,11.7\\r\\n102,296.4,36.3,100.9,23.8\\r\\n103,280.2,10.1,21.4,14.8\\r\\n104,187.9,17.2,17.9,14.7\\r\\n105,238.2,34.3,5.3,20.7\\r\\n106,137.9,46.4,59,19.2\\r\\n107,25,11,29.7,7.2\\r\\n108,90.4,0.3,23.2,8.7\\r\\n109,13.1,0.4,25.6,5.3\\r\\n110,255.4,26.9,5.5,19.8\\r\\n111,225.8,8.2,56.5,13.4\\r\\n112,241.7,38,23.2,21.8\\r\\n113,175.7,15.4,2.4,14.1\\r\\n114,209.6,20.6,10.7,15.9\\r\\n115,78.2,46.8,34.5,14.6\\r\\n116,75.1,35,52.7,12.6\\r\\n117,139.2,14.3,25.6,12.2\\r\\n118,76.4,0.8,14.8,9.4\\r\\n119,125.7,36.9,79.2,15.9\\r\\n120,19.4,16,22.3,6.6\\r\\n121,141.3,26.8,46.2,15.5\\r\\n122,18.8,21.7,50.4,7\\r\\n123,224,2.4,15.6,11.6\\r\\n124,123.1,34.6,12.4,15.2\\r\\n125,229.5,32.3,74.2,19.7\\r\\n126,87.2,11.8,25.9,10.6\\r\\n127,7.8,38.9,50.6,6.6\\r\\n128,80.2,0,9.2,8.8\\r\\n129,220.3,49,3.2,24.7\\r\\n130,59.6,12,43.1,9.7\\r\\n131,0.7,39.6,8.7,1.6\\r\\n132,265.2,2.9,43,12.7\\r\\n133,8.4,27.2,2.1,5.7\\r\\n134,219.8,33.5,45.1,19.6\\r\\n135,36.9,38.6,65.6,10.8\\r\\n136,48.3,47,8.5,11.6\\r\\n137,25.6,39,9.3,9.5\\r\\n138,273.7,28.9,59.7,20.8\\r\\n139,43,25.9,20.5,9.6\\r\\n140,184.9,43.9,1.7,20.7\\r\\n141,73.4,17,12.9,10.9\\r\\n142,193.7,35.4,75.6,19.2\\r\\n143,220.5,33.2,37.9,20.1\\r\\n144,104.6,5.7,34.4,10.4\\r\\n145,96.2,14.8,38.9,11.4\\r\\n146,140.3,1.9,9,10.3\\r\\n147,240.1,7.3,8.7,13.2\\r\\n148,243.2,49,44.3,25.4\\r\\n149,38,40.3,11.9,10.9\\r\\n150,44.7,25.8,20.6,10.1\\r\\n151,280.7,13.9,37,16.1\\r\\n152,121,8.4,48.7,11.6\\r\\n153,197.6,23.3,14.2,16.6\\r\\n154,171.3,39.7,37.7,19\\r\\n155,187.8,21.1,9.5,15.6\\r\\n156,4.1,11.6,5.7,3.2\\r\\n157,93.9,43.5,50.5,15.3\\r\\n158,149.8,1.3,24.3,10.1\\r\\n159,11.7,36.9,45.2,7.3\\r\\n160,131.7,18.4,34.6,12.9\\r\\n161,172.5,18.1,30.7,14.4\\r\\n162,85.7,35.8,49.3,13.3\\r\\n163,188.4,18.1,25.6,14.9\\r\\n164,163.5,36.8,7.4,18\\r\\n165,117.2,14.7,5.4,11.9\\r\\n166,234.5,3.4,84.8,11.9\\r\\n167,17.9,37.6,21.6,8\\r\\n168,206.8,5.2,19.4,12.2\\r\\n169,215.4,23.6,57.6,17.1\\r\\n170,284.3,10.6,6.4,15\\r\\n171,50,11.6,18.4,8.4\\r\\n172,164.5,20.9,47.4,14.5\\r\\n173,19.6,20.1,17,7.6\\r\\n174,168.4,7.1,12.8,11.7\\r\\n175,222.4,3.4,13.1,11.5\\r\\n176,276.9,48.9,41.8,27\\r\\n177,248.4,30.2,20.3,20.2\\r\\n178,170.2,7.8,35.2,11.7\\r\\n179,276.7,2.3,23.7,11.8\\r\\n180,165.6,10,17.6,12.6\\r\\n181,156.6,2.6,8.3,10.5\\r\\n182,218.5,5.4,27.4,12.2\\r\\n183,56.2,5.7,29.7,8.7\\r\\n184,287.6,43,71.8,26.2\\r\\n185,253.8,21.3,30,17.6\\r\\n186,205,45.1,19.6,22.6\\r\\n187,139.5,2.1,26.6,10.3\\r\\n188,191.1,28.7,18.2,17.3\\r\\n189,286,13.9,3.7,15.9\\r\\n190,18.7,12.1,23.4,6.7\\r\\n191,39.5,41.1,5.8,10.8\\r\\n192,75.5,10.8,6,9.9\\r\\n193,17.2,4.1,31.6,5.9\\r\\n194,166.8,42,3.6,19.6\\r\\n195,149.7,35.6,6,17.3\\r\\n196,38.2,3.7,13.8,7.6\\r\\n197,94.2,4.9,8.1,9.7\\r\\n198,177,9.3,6.4,12.8\\r\\n199,283.6,42,66.2,25.5\\r\\n200,232.1,8.6,8.7,13.4\\r\\n'}"
            ]
          },
          "metadata": {
            "tags": []
          },
          "execution_count": 12
        }
      ]
    },
    {
      "cell_type": "code",
      "metadata": {
        "id": "FCRGDGfxOsDq"
      },
      "source": [
        "import pandas as pd\n",
        "ad = pd.read_csv(\"Advertising.csv\", usecols = [1,2,3,4])\n",
        "df = ad.copy()\n",
        "df.head()"
      ],
      "execution_count": null,
      "outputs": []
    },
    {
      "cell_type": "code",
      "metadata": {
        "id": "TAb94qzNOsDs"
      },
      "source": [
        "#Bu şekilde de dataframe düzenleme yapabilirsin\n",
        "#df = df.iloc[:,1:len(df)]"
      ],
      "execution_count": null,
      "outputs": []
    },
    {
      "cell_type": "code",
      "metadata": {
        "id": "1Kf26WivOsDt"
      },
      "source": [
        "df.head()"
      ],
      "execution_count": null,
      "outputs": []
    },
    {
      "cell_type": "code",
      "metadata": {
        "colab": {
          "base_uri": "https://localhost:8080/"
        },
        "id": "pI5eY8XtOsDt",
        "outputId": "8eb1a9a6-42e1-4dc1-d27f-74d80ba52084"
      },
      "source": [
        "df.info()"
      ],
      "execution_count": null,
      "outputs": [
        {
          "output_type": "stream",
          "text": [
            "<class 'pandas.core.frame.DataFrame'>\n",
            "RangeIndex: 200 entries, 0 to 199\n",
            "Data columns (total 4 columns):\n",
            " #   Column     Non-Null Count  Dtype  \n",
            "---  ------     --------------  -----  \n",
            " 0   TV         200 non-null    float64\n",
            " 1   radio      200 non-null    float64\n",
            " 2   newspaper  200 non-null    float64\n",
            " 3   sales      200 non-null    float64\n",
            "dtypes: float64(4)\n",
            "memory usage: 6.4 KB\n"
          ],
          "name": "stdout"
        }
      ]
    },
    {
      "cell_type": "code",
      "metadata": {
        "colab": {
          "base_uri": "https://localhost:8080/",
          "height": 166
        },
        "id": "keGK1EPXOsDu",
        "outputId": "411f2714-0a52-417e-f336-73db9f2d28f6"
      },
      "source": [
        "df.describe().T"
      ],
      "execution_count": null,
      "outputs": [
        {
          "output_type": "execute_result",
          "data": {
            "text/html": [
              "<div>\n",
              "<style scoped>\n",
              "    .dataframe tbody tr th:only-of-type {\n",
              "        vertical-align: middle;\n",
              "    }\n",
              "\n",
              "    .dataframe tbody tr th {\n",
              "        vertical-align: top;\n",
              "    }\n",
              "\n",
              "    .dataframe thead th {\n",
              "        text-align: right;\n",
              "    }\n",
              "</style>\n",
              "<table border=\"1\" class=\"dataframe\">\n",
              "  <thead>\n",
              "    <tr style=\"text-align: right;\">\n",
              "      <th></th>\n",
              "      <th>count</th>\n",
              "      <th>mean</th>\n",
              "      <th>std</th>\n",
              "      <th>min</th>\n",
              "      <th>25%</th>\n",
              "      <th>50%</th>\n",
              "      <th>75%</th>\n",
              "      <th>max</th>\n",
              "    </tr>\n",
              "  </thead>\n",
              "  <tbody>\n",
              "    <tr>\n",
              "      <th>TV</th>\n",
              "      <td>200.0</td>\n",
              "      <td>147.0425</td>\n",
              "      <td>85.854236</td>\n",
              "      <td>0.7</td>\n",
              "      <td>74.375</td>\n",
              "      <td>149.75</td>\n",
              "      <td>218.825</td>\n",
              "      <td>296.4</td>\n",
              "    </tr>\n",
              "    <tr>\n",
              "      <th>radio</th>\n",
              "      <td>200.0</td>\n",
              "      <td>23.2640</td>\n",
              "      <td>14.846809</td>\n",
              "      <td>0.0</td>\n",
              "      <td>9.975</td>\n",
              "      <td>22.90</td>\n",
              "      <td>36.525</td>\n",
              "      <td>49.6</td>\n",
              "    </tr>\n",
              "    <tr>\n",
              "      <th>newspaper</th>\n",
              "      <td>200.0</td>\n",
              "      <td>30.5540</td>\n",
              "      <td>21.778621</td>\n",
              "      <td>0.3</td>\n",
              "      <td>12.750</td>\n",
              "      <td>25.75</td>\n",
              "      <td>45.100</td>\n",
              "      <td>114.0</td>\n",
              "    </tr>\n",
              "    <tr>\n",
              "      <th>sales</th>\n",
              "      <td>200.0</td>\n",
              "      <td>14.0225</td>\n",
              "      <td>5.217457</td>\n",
              "      <td>1.6</td>\n",
              "      <td>10.375</td>\n",
              "      <td>12.90</td>\n",
              "      <td>17.400</td>\n",
              "      <td>27.0</td>\n",
              "    </tr>\n",
              "  </tbody>\n",
              "</table>\n",
              "</div>"
            ],
            "text/plain": [
              "           count      mean        std  min     25%     50%      75%    max\n",
              "TV         200.0  147.0425  85.854236  0.7  74.375  149.75  218.825  296.4\n",
              "radio      200.0   23.2640  14.846809  0.0   9.975   22.90   36.525   49.6\n",
              "newspaper  200.0   30.5540  21.778621  0.3  12.750   25.75   45.100  114.0\n",
              "sales      200.0   14.0225   5.217457  1.6  10.375   12.90   17.400   27.0"
            ]
          },
          "metadata": {
            "tags": []
          },
          "execution_count": 5
        }
      ]
    },
    {
      "cell_type": "code",
      "metadata": {
        "colab": {
          "base_uri": "https://localhost:8080/"
        },
        "id": "F80iCe1bOsDu",
        "outputId": "50edf332-c4d1-4e65-95bd-500cc88fbddb"
      },
      "source": [
        "df.isnull().values.any()"
      ],
      "execution_count": null,
      "outputs": [
        {
          "output_type": "execute_result",
          "data": {
            "text/plain": [
              "False"
            ]
          },
          "metadata": {
            "tags": []
          },
          "execution_count": 6
        }
      ]
    },
    {
      "cell_type": "code",
      "metadata": {
        "colab": {
          "base_uri": "https://localhost:8080/",
          "height": 166
        },
        "id": "ZTHN-ex_OsDv",
        "outputId": "d15d1f1c-ce79-4cf3-e87f-7378bb97befd"
      },
      "source": [
        "df.corr()"
      ],
      "execution_count": null,
      "outputs": [
        {
          "output_type": "execute_result",
          "data": {
            "text/html": [
              "<div>\n",
              "<style scoped>\n",
              "    .dataframe tbody tr th:only-of-type {\n",
              "        vertical-align: middle;\n",
              "    }\n",
              "\n",
              "    .dataframe tbody tr th {\n",
              "        vertical-align: top;\n",
              "    }\n",
              "\n",
              "    .dataframe thead th {\n",
              "        text-align: right;\n",
              "    }\n",
              "</style>\n",
              "<table border=\"1\" class=\"dataframe\">\n",
              "  <thead>\n",
              "    <tr style=\"text-align: right;\">\n",
              "      <th></th>\n",
              "      <th>TV</th>\n",
              "      <th>radio</th>\n",
              "      <th>newspaper</th>\n",
              "      <th>sales</th>\n",
              "    </tr>\n",
              "  </thead>\n",
              "  <tbody>\n",
              "    <tr>\n",
              "      <th>TV</th>\n",
              "      <td>1.000000</td>\n",
              "      <td>0.054809</td>\n",
              "      <td>0.056648</td>\n",
              "      <td>0.782224</td>\n",
              "    </tr>\n",
              "    <tr>\n",
              "      <th>radio</th>\n",
              "      <td>0.054809</td>\n",
              "      <td>1.000000</td>\n",
              "      <td>0.354104</td>\n",
              "      <td>0.576223</td>\n",
              "    </tr>\n",
              "    <tr>\n",
              "      <th>newspaper</th>\n",
              "      <td>0.056648</td>\n",
              "      <td>0.354104</td>\n",
              "      <td>1.000000</td>\n",
              "      <td>0.228299</td>\n",
              "    </tr>\n",
              "    <tr>\n",
              "      <th>sales</th>\n",
              "      <td>0.782224</td>\n",
              "      <td>0.576223</td>\n",
              "      <td>0.228299</td>\n",
              "      <td>1.000000</td>\n",
              "    </tr>\n",
              "  </tbody>\n",
              "</table>\n",
              "</div>"
            ],
            "text/plain": [
              "                 TV     radio  newspaper     sales\n",
              "TV         1.000000  0.054809   0.056648  0.782224\n",
              "radio      0.054809  1.000000   0.354104  0.576223\n",
              "newspaper  0.056648  0.354104   1.000000  0.228299\n",
              "sales      0.782224  0.576223   0.228299  1.000000"
            ]
          },
          "metadata": {
            "tags": []
          },
          "execution_count": 7
        }
      ]
    },
    {
      "cell_type": "code",
      "metadata": {
        "colab": {
          "base_uri": "https://localhost:8080/",
          "height": 726
        },
        "id": "zkopFAjwOsDv",
        "outputId": "27e7e450-328c-4c49-9be9-64d51dc99de2"
      },
      "source": [
        "import seaborn as sns\n",
        "sns.pairplot(df, kind  =\"reg\");"
      ],
      "execution_count": null,
      "outputs": [
        {
          "output_type": "display_data",
          "data": {
            "image/png": "[encoded data removed]",
            "text/plain": [
              "<Figure size 720x720 with 20 Axes>"
            ]
          },
          "metadata": {
            "tags": [],
            "needs_background": "light"
          }
        }
      ]
    },
    {
      "cell_type": "code",
      "metadata": {
        "colab": {
          "base_uri": "https://localhost:8080/",
          "height": 441
        },
        "id": "cxLGu-ZhOsDw",
        "outputId": "20c3ecd3-d708-4b8d-893b-c7d7be928fcd"
      },
      "source": [
        "sns.jointplot(x = \"TV\", y = \"sales\", data = df, kind = \"reg\");"
      ],
      "execution_count": null,
      "outputs": [
        {
          "output_type": "display_data",
          "data": {
            "image/png": "[encoded data removed]",
            "text/plain": [
              "<Figure size 432x432 with 3 Axes>"
            ]
          },
          "metadata": {
            "tags": [],
            "needs_background": "light"
          }
        }
      ]
    },
    {
      "cell_type": "markdown",
      "metadata": {
        "id": "etY_DYViOsDx"
      },
      "source": [
        "## Statsmodels ile modelleme"
      ]
    },
    {
      "cell_type": "code",
      "metadata": {
        "id": "iQrMEhS4OsDx"
      },
      "source": [
        "import statsmodels.api as sm;"
      ],
      "execution_count": null,
      "outputs": []
    },
    {
      "cell_type": "code",
      "metadata": {
        "id": "8VACZ2dTOsDx"
      },
      "source": [
        "X = df[[\"TV\"]]\n",
        "X[0:5]"
      ],
      "execution_count": null,
      "outputs": []
    },
    {
      "cell_type": "code",
      "metadata": {
        "id": "AvYmUsZOOsDy"
      },
      "source": [
        "X = sm.add_constant(X)"
      ],
      "execution_count": null,
      "outputs": []
    },
    {
      "cell_type": "code",
      "metadata": {
        "colab": {
          "base_uri": "https://localhost:8080/",
          "height": 196
        },
        "id": "Ftfa5KudOsDy",
        "outputId": "9ee1847a-9986-4eeb-be99-f45496139ba2"
      },
      "source": [
        "X[0:5]"
      ],
      "execution_count": null,
      "outputs": [
        {
          "output_type": "execute_result",
          "data": {
            "text/html": [
              "<div>\n",
              "<style scoped>\n",
              "    .dataframe tbody tr th:only-of-type {\n",
              "        vertical-align: middle;\n",
              "    }\n",
              "\n",
              "    .dataframe tbody tr th {\n",
              "        vertical-align: top;\n",
              "    }\n",
              "\n",
              "    .dataframe thead th {\n",
              "        text-align: right;\n",
              "    }\n",
              "</style>\n",
              "<table border=\"1\" class=\"dataframe\">\n",
              "  <thead>\n",
              "    <tr style=\"text-align: right;\">\n",
              "      <th></th>\n",
              "      <th>const</th>\n",
              "      <th>TV</th>\n",
              "    </tr>\n",
              "  </thead>\n",
              "  <tbody>\n",
              "    <tr>\n",
              "      <th>0</th>\n",
              "      <td>1.0</td>\n",
              "      <td>230.1</td>\n",
              "    </tr>\n",
              "    <tr>\n",
              "      <th>1</th>\n",
              "      <td>1.0</td>\n",
              "      <td>44.5</td>\n",
              "    </tr>\n",
              "    <tr>\n",
              "      <th>2</th>\n",
              "      <td>1.0</td>\n",
              "      <td>17.2</td>\n",
              "    </tr>\n",
              "    <tr>\n",
              "      <th>3</th>\n",
              "      <td>1.0</td>\n",
              "      <td>151.5</td>\n",
              "    </tr>\n",
              "    <tr>\n",
              "      <th>4</th>\n",
              "      <td>1.0</td>\n",
              "      <td>180.8</td>\n",
              "    </tr>\n",
              "  </tbody>\n",
              "</table>\n",
              "</div>"
            ],
            "text/plain": [
              "   const     TV\n",
              "0    1.0  230.1\n",
              "1    1.0   44.5\n",
              "2    1.0   17.2\n",
              "3    1.0  151.5\n",
              "4    1.0  180.8"
            ]
          },
          "metadata": {
            "tags": []
          },
          "execution_count": 23
        }
      ]
    },
    {
      "cell_type": "code",
      "metadata": {
        "id": "TLdCfRFCOsDz"
      },
      "source": [
        "y = df[\"sales\"]"
      ],
      "execution_count": null,
      "outputs": []
    },
    {
      "cell_type": "code",
      "metadata": {
        "colab": {
          "base_uri": "https://localhost:8080/"
        },
        "id": "mREHtx5iOsDz",
        "outputId": "0e75d536-9542-4087-9e36-5d6df9edd031"
      },
      "source": [
        "y[0:5]"
      ],
      "execution_count": null,
      "outputs": [
        {
          "output_type": "execute_result",
          "data": {
            "text/plain": [
              "0    22.1\n",
              "1    10.4\n",
              "2     9.3\n",
              "3    18.5\n",
              "4    12.9\n",
              "Name: sales, dtype: float64"
            ]
          },
          "metadata": {
            "tags": []
          },
          "execution_count": 25
        }
      ]
    },
    {
      "cell_type": "code",
      "metadata": {
        "id": "NKYVKyc1OsDz"
      },
      "source": [
        "lm = sm.OLS(y,X)"
      ],
      "execution_count": null,
      "outputs": []
    },
    {
      "cell_type": "code",
      "metadata": {
        "id": "hdanXCqwOsD0"
      },
      "source": [
        "model = lm.fit()"
      ],
      "execution_count": null,
      "outputs": []
    },
    {
      "cell_type": "code",
      "metadata": {
        "colab": {
          "base_uri": "https://localhost:8080/",
          "height": 419
        },
        "id": "fA9eRVMkOsD0",
        "outputId": "161697c5-590a-4db4-8f76-f7d5e05a7294"
      },
      "source": [
        "model.summary()"
      ],
      "execution_count": null,
      "outputs": [
        {
          "output_type": "execute_result",
          "data": {
            "text/html": [
              "<table class=\"simpletable\">\n",
              "<caption>OLS Regression Results</caption>\n",
              "<tr>\n",
              "  <th>Dep. Variable:</th>          <td>sales</td>      <th>  R-squared:         </th> <td>   0.612</td>\n",
              "</tr>\n",
              "<tr>\n",
              "  <th>Model:</th>                   <td>OLS</td>       <th>  Adj. R-squared:    </th> <td>   0.610</td>\n",
              "</tr>\n",
              "<tr>\n",
              "  <th>Method:</th>             <td>Least Squares</td>  <th>  F-statistic:       </th> <td>   312.1</td>\n",
              "</tr>\n",
              "<tr>\n",
              "  <th>Date:</th>             <td>Mon, 12 Apr 2021</td> <th>  Prob (F-statistic):</th> <td>1.47e-42</td>\n",
              "</tr>\n",
              "<tr>\n",
              "  <th>Time:</th>                 <td>09:39:55</td>     <th>  Log-Likelihood:    </th> <td> -519.05</td>\n",
              "</tr>\n",
              "<tr>\n",
              "  <th>No. Observations:</th>      <td>   200</td>      <th>  AIC:               </th> <td>   1042.</td>\n",
              "</tr>\n",
              "<tr>\n",
              "  <th>Df Residuals:</th>          <td>   198</td>      <th>  BIC:               </th> <td>   1049.</td>\n",
              "</tr>\n",
              "<tr>\n",
              "  <th>Df Model:</th>              <td>     1</td>      <th>                     </th>     <td> </td>   \n",
              "</tr>\n",
              "<tr>\n",
              "  <th>Covariance Type:</th>      <td>nonrobust</td>    <th>                     </th>     <td> </td>   \n",
              "</tr>\n",
              "</table>\n",
              "<table class=\"simpletable\">\n",
              "<tr>\n",
              "    <td></td>       <th>coef</th>     <th>std err</th>      <th>t</th>      <th>P>|t|</th>  <th>[0.025</th>    <th>0.975]</th>  \n",
              "</tr>\n",
              "<tr>\n",
              "  <th>const</th> <td>    7.0326</td> <td>    0.458</td> <td>   15.360</td> <td> 0.000</td> <td>    6.130</td> <td>    7.935</td>\n",
              "</tr>\n",
              "<tr>\n",
              "  <th>TV</th>    <td>    0.0475</td> <td>    0.003</td> <td>   17.668</td> <td> 0.000</td> <td>    0.042</td> <td>    0.053</td>\n",
              "</tr>\n",
              "</table>\n",
              "<table class=\"simpletable\">\n",
              "<tr>\n",
              "  <th>Omnibus:</th>       <td> 0.531</td> <th>  Durbin-Watson:     </th> <td>   1.935</td>\n",
              "</tr>\n",
              "<tr>\n",
              "  <th>Prob(Omnibus):</th> <td> 0.767</td> <th>  Jarque-Bera (JB):  </th> <td>   0.669</td>\n",
              "</tr>\n",
              "<tr>\n",
              "  <th>Skew:</th>          <td>-0.089</td> <th>  Prob(JB):          </th> <td>   0.716</td>\n",
              "</tr>\n",
              "<tr>\n",
              "  <th>Kurtosis:</th>      <td> 2.779</td> <th>  Cond. No.          </th> <td>    338.</td>\n",
              "</tr>\n",
              "</table><br/><br/>Warnings:<br/>[1] Standard Errors assume that the covariance matrix of the errors is correctly specified."
            ],
            "text/plain": [
              "<class 'statsmodels.iolib.summary.Summary'>\n",
              "\"\"\"\n",
              "                            OLS Regression Results                            \n",
              "==============================================================================\n",
              "Dep. Variable:                  sales   R-squared:                       0.612\n",
              "Model:                            OLS   Adj. R-squared:                  0.610\n",
              "Method:                 Least Squares   F-statistic:                     312.1\n",
              "Date:                Mon, 12 Apr 2021   Prob (F-statistic):           1.47e-42\n",
              "Time:                        09:39:55   Log-Likelihood:                -519.05\n",
              "No. Observations:                 200   AIC:                             1042.\n",
              "Df Residuals:                     198   BIC:                             1049.\n",
              "Df Model:                           1                                         \n",
              "Covariance Type:            nonrobust                                         \n",
              "==============================================================================\n",
              "                 coef    std err          t      P>|t|      [0.025      0.975]\n",
              "------------------------------------------------------------------------------\n",
              "const          7.0326      0.458     15.360      0.000       6.130       7.935\n",
              "TV             0.0475      0.003     17.668      0.000       0.042       0.053\n",
              "==============================================================================\n",
              "Omnibus:                        0.531   Durbin-Watson:                   1.935\n",
              "Prob(Omnibus):                  0.767   Jarque-Bera (JB):                0.669\n",
              "Skew:                          -0.089   Prob(JB):                        0.716\n",
              "Kurtosis:                       2.779   Cond. No.                         338.\n",
              "==============================================================================\n",
              "\n",
              "Warnings:\n",
              "[1] Standard Errors assume that the covariance matrix of the errors is correctly specified.\n",
              "\"\"\""
            ]
          },
          "metadata": {
            "tags": []
          },
          "execution_count": 28
        }
      ]
    },
    {
      "cell_type": "code",
      "metadata": {
        "id": "7C8Sw6ekOsD1"
      },
      "source": [
        "#Değişkenleri isimlendirerek yazmak istersek\n",
        "import statsmodels.formula.api as smf\n",
        "lm = smf.ols(\"sales ~ TV\", df)\n",
        "model = lm.fit()\n",
        "model.summary()"
      ],
      "execution_count": null,
      "outputs": []
    },
    {
      "cell_type": "code",
      "metadata": {
        "colab": {
          "base_uri": "https://localhost:8080/"
        },
        "id": "3QcXDWl5OsD1",
        "outputId": "62ae23ce-f2c1-4ef3-f538-9f3552664173"
      },
      "source": [
        "model.params"
      ],
      "execution_count": null,
      "outputs": [
        {
          "output_type": "execute_result",
          "data": {
            "text/plain": [
              "Intercept    7.032594\n",
              "TV           0.047537\n",
              "dtype: float64"
            ]
          },
          "metadata": {
            "tags": []
          },
          "execution_count": 21
        }
      ]
    },
    {
      "cell_type": "code",
      "metadata": {
        "colab": {
          "base_uri": "https://localhost:8080/",
          "height": 77
        },
        "id": "0rChg1hQOsD1",
        "outputId": "6220dd93-7d84-48e6-dc4f-50028e1e56b2"
      },
      "source": [
        "model.summary().tables[1]"
      ],
      "execution_count": null,
      "outputs": [
        {
          "output_type": "execute_result",
          "data": {
            "text/html": [
              "<table class=\"simpletable\">\n",
              "<tr>\n",
              "      <td></td>         <th>coef</th>     <th>std err</th>      <th>t</th>      <th>P>|t|</th>  <th>[0.025</th>    <th>0.975]</th>  \n",
              "</tr>\n",
              "<tr>\n",
              "  <th>Intercept</th> <td>    7.0326</td> <td>    0.458</td> <td>   15.360</td> <td> 0.000</td> <td>    6.130</td> <td>    7.935</td>\n",
              "</tr>\n",
              "<tr>\n",
              "  <th>TV</th>        <td>    0.0475</td> <td>    0.003</td> <td>   17.668</td> <td> 0.000</td> <td>    0.042</td> <td>    0.053</td>\n",
              "</tr>\n",
              "</table>"
            ],
            "text/plain": [
              "<class 'statsmodels.iolib.table.SimpleTable'>"
            ]
          },
          "metadata": {
            "tags": []
          },
          "execution_count": 22
        }
      ]
    },
    {
      "cell_type": "code",
      "metadata": {
        "colab": {
          "base_uri": "https://localhost:8080/",
          "height": 107
        },
        "id": "TZ6NJFP5OsD2",
        "outputId": "9435b2f0-a37a-476b-f149-ad6b327690e4"
      },
      "source": [
        "model.conf_int()"
      ],
      "execution_count": null,
      "outputs": [
        {
          "output_type": "execute_result",
          "data": {
            "text/html": [
              "<div>\n",
              "<style scoped>\n",
              "    .dataframe tbody tr th:only-of-type {\n",
              "        vertical-align: middle;\n",
              "    }\n",
              "\n",
              "    .dataframe tbody tr th {\n",
              "        vertical-align: top;\n",
              "    }\n",
              "\n",
              "    .dataframe thead th {\n",
              "        text-align: right;\n",
              "    }\n",
              "</style>\n",
              "<table border=\"1\" class=\"dataframe\">\n",
              "  <thead>\n",
              "    <tr style=\"text-align: right;\">\n",
              "      <th></th>\n",
              "      <th>0</th>\n",
              "      <th>1</th>\n",
              "    </tr>\n",
              "  </thead>\n",
              "  <tbody>\n",
              "    <tr>\n",
              "      <th>Intercept</th>\n",
              "      <td>6.129719</td>\n",
              "      <td>7.935468</td>\n",
              "    </tr>\n",
              "    <tr>\n",
              "      <th>TV</th>\n",
              "      <td>0.042231</td>\n",
              "      <td>0.052843</td>\n",
              "    </tr>\n",
              "  </tbody>\n",
              "</table>\n",
              "</div>"
            ],
            "text/plain": [
              "                  0         1\n",
              "Intercept  6.129719  7.935468\n",
              "TV         0.042231  0.052843"
            ]
          },
          "metadata": {
            "tags": []
          },
          "execution_count": 23
        }
      ]
    },
    {
      "cell_type": "code",
      "metadata": {
        "colab": {
          "base_uri": "https://localhost:8080/"
        },
        "id": "qZhoAmq7OsD2",
        "outputId": "95567cb3-7e8c-41ae-e9ed-373e090345be"
      },
      "source": [
        "model.f_pvalue"
      ],
      "execution_count": null,
      "outputs": [
        {
          "output_type": "execute_result",
          "data": {
            "text/plain": [
              "1.4673897001947095e-42"
            ]
          },
          "metadata": {
            "tags": []
          },
          "execution_count": 24
        }
      ]
    },
    {
      "cell_type": "code",
      "metadata": {
        "colab": {
          "base_uri": "https://localhost:8080/"
        },
        "id": "E8mTK69TOsD3",
        "outputId": "053fb65c-ccbe-4505-ed81-59dba2989b05"
      },
      "source": [
        "print(\"f_pvalue: \", \"%.4f\" % model.f_pvalue)"
      ],
      "execution_count": null,
      "outputs": [
        {
          "output_type": "stream",
          "text": [
            "f_pvalue:  0.0000\n"
          ],
          "name": "stdout"
        }
      ]
    },
    {
      "cell_type": "code",
      "metadata": {
        "id": "zKjS_15ZOsD3"
      },
      "source": [
        "print(\"fvalue: \", \"%.2f\" % model.fvalue)"
      ],
      "execution_count": null,
      "outputs": []
    },
    {
      "cell_type": "code",
      "metadata": {
        "id": "cn5gDtKwOsD3"
      },
      "source": [
        "print(\"tvalue: \", \"%.2f\" % model.tvalues[0:1])"
      ],
      "execution_count": null,
      "outputs": []
    },
    {
      "cell_type": "code",
      "metadata": {
        "colab": {
          "base_uri": "https://localhost:8080/"
        },
        "id": "3acIAeR4OsD4",
        "outputId": "e4aee132-b620-485b-ac46-27e3be07e441"
      },
      "source": [
        "model.rsquared_adj"
      ],
      "execution_count": null,
      "outputs": [
        {
          "output_type": "execute_result",
          "data": {
            "text/plain": [
              "0.6099148238341623"
            ]
          },
          "metadata": {
            "tags": []
          },
          "execution_count": 26
        }
      ]
    },
    {
      "cell_type": "code",
      "metadata": {
        "colab": {
          "base_uri": "https://localhost:8080/"
        },
        "id": "TyaOakDyOsD4",
        "outputId": "36d7c62f-dd32-4470-9e85-1b0488ac524f"
      },
      "source": [
        "#Tahmin edilen Değerler\n",
        "model.fittedvalues[0:5]"
      ],
      "execution_count": null,
      "outputs": [
        {
          "output_type": "execute_result",
          "data": {
            "text/plain": [
              "0    17.970775\n",
              "1     9.147974\n",
              "2     7.850224\n",
              "3    14.234395\n",
              "4    15.627218\n",
              "dtype: float64"
            ]
          },
          "metadata": {
            "tags": []
          },
          "execution_count": 27
        }
      ]
    },
    {
      "cell_type": "code",
      "metadata": {
        "colab": {
          "base_uri": "https://localhost:8080/"
        },
        "id": "mVdd-4BXOsD4",
        "outputId": "214494c6-604b-40b5-8292-debc44a82d1d"
      },
      "source": [
        "#Gerçek Değerler\n",
        "y[0:5]"
      ],
      "execution_count": null,
      "outputs": [
        {
          "output_type": "execute_result",
          "data": {
            "text/plain": [
              "0    22.1\n",
              "1    10.4\n",
              "2     9.3\n",
              "3    18.5\n",
              "4    12.9\n",
              "Name: sales, dtype: float64"
            ]
          },
          "metadata": {
            "tags": []
          },
          "execution_count": 28
        }
      ]
    },
    {
      "cell_type": "code",
      "metadata": {
        "colab": {
          "base_uri": "https://localhost:8080/"
        },
        "id": "nyiDWnQ_OsD5",
        "outputId": "2e099344-f12f-4987-8117-4a3a5ec0c7c9"
      },
      "source": [
        "print(\"Sales = \" +  str(\"%.2f\" % model.params[0]) + \" + TV\" + \"*\" + str(\"%.2f\" % model.params[1]))"
      ],
      "execution_count": null,
      "outputs": [
        {
          "output_type": "stream",
          "text": [
            "Sales = 7.03 + TV*0.05\n"
          ],
          "name": "stdout"
        }
      ]
    },
    {
      "cell_type": "code",
      "metadata": {
        "colab": {
          "base_uri": "https://localhost:8080/",
          "height": 295
        },
        "id": "enmRTl3FOsD5",
        "outputId": "9e6fb1dc-6cd9-4c94-dd7e-a7ed060783bf"
      },
      "source": [
        "g = sns.regplot(df[\"TV\"], df[\"sales\"], ci=None, scatter_kws={'color':'r', 's':9})\n",
        "g.set_title(\"Model Denklemi: Sales = 7.03 + TV*0.05\")\n",
        "g.set_ylabel(\"Satış Sayısı\")\n",
        "g.set_xlabel(\"TV Harcamaları\")\n",
        "import matplotlib.pyplot as plt\n",
        "plt.xlim(-10,310)\n",
        "plt.ylim(bottom=0);"
      ],
      "execution_count": null,
      "outputs": [
        {
          "output_type": "display_data",
          "data": {
            "image/png": "[encoded data removed]",
            "text/plain": [
              "<Figure size 432x288 with 1 Axes>"
            ]
          },
          "metadata": {
            "tags": [],
            "needs_background": "light"
          }
        }
      ]
    },
    {
      "cell_type": "code",
      "metadata": {
        "id": "wOLTXYG9OsD6"
      },
      "source": [
        "#Sklearn ile hızlıca modelleme\n",
        "from sklearn.linear_model import LinearRegression"
      ],
      "execution_count": null,
      "outputs": []
    },
    {
      "cell_type": "code",
      "metadata": {
        "colab": {
          "base_uri": "https://localhost:8080/"
        },
        "id": "-SUrIrMYOsD6",
        "outputId": "9a290491-2f45-49b7-e63f-f2f58c831d91"
      },
      "source": [
        "X = df[[\"TV\"]]\n",
        "y = df[\"sales\"]\n",
        "reg = LinearRegression()\n",
        "model = reg.fit(X, y)\n",
        "model.intercept_\n",
        "model.coef_\n",
        "Z=[model.intercept_,(model.coef_)]\n",
        "Z"
      ],
      "execution_count": null,
      "outputs": [
        {
          "output_type": "execute_result",
          "data": {
            "text/plain": [
              "[7.032593549127695, array([0.04753664])]"
            ]
          },
          "metadata": {
            "tags": []
          },
          "execution_count": 34
        }
      ]
    },
    {
      "cell_type": "code",
      "metadata": {
        "colab": {
          "base_uri": "https://localhost:8080/"
        },
        "id": "vxZtfzAuOsD6",
        "outputId": "46f82bb2-04f9-4eb3-9d58-f7b25bda988c"
      },
      "source": [
        "#R square sonucu\n",
        "model.score(X,y)"
      ],
      "execution_count": null,
      "outputs": [
        {
          "output_type": "execute_result",
          "data": {
            "text/plain": [
              "0.611875050850071"
            ]
          },
          "metadata": {
            "tags": []
          },
          "execution_count": 38
        }
      ]
    },
    {
      "cell_type": "code",
      "metadata": {
        "colab": {
          "base_uri": "https://localhost:8080/"
        },
        "id": "aSQgjVmlOsD7",
        "outputId": "8b10c4d9-ebd4-4fa4-8bca-9448b2bfe201"
      },
      "source": [
        "#Tahmin Edilen Değerler\n",
        "model.predict(X)[0:10]"
      ],
      "execution_count": null,
      "outputs": [
        {
          "output_type": "execute_result",
          "data": {
            "text/plain": [
              "array([17.97077451,  9.14797405,  7.85022376, 14.23439457, 15.62721814,\n",
              "        7.44616232,  9.76595037, 12.74649773,  7.44140866, 16.53041431])"
            ]
          },
          "metadata": {
            "tags": []
          },
          "execution_count": 39
        }
      ]
    },
    {
      "cell_type": "markdown",
      "metadata": {
        "id": "W4N31yXdOsD7"
      },
      "source": [
        "## Tahmin"
      ]
    },
    {
      "cell_type": "markdown",
      "metadata": {
        "id": "rk2r8y3TOsD7"
      },
      "source": [
        "Model denklemi:\n",
        "\n",
        "Sales = 7.03 + TV*0.04\n",
        "\n",
        "Örneğin 30 birim TV harcaması olduğunda satışların tahmini değeri ne olur?"
      ]
    },
    {
      "cell_type": "code",
      "metadata": {
        "colab": {
          "base_uri": "https://localhost:8080/"
        },
        "id": "MkZFPmT4OsD8",
        "outputId": "1a7b4125-e661-4087-c008-0c9d925055cd"
      },
      "source": [
        "7.03 + 30*0.04"
      ],
      "execution_count": null,
      "outputs": [
        {
          "output_type": "execute_result",
          "data": {
            "text/plain": [
              "8.23"
            ]
          },
          "metadata": {
            "tags": []
          },
          "execution_count": 40
        }
      ]
    },
    {
      "cell_type": "code",
      "metadata": {
        "id": "IUoPjPbkOsD8"
      },
      "source": [
        "X = df[[\"TV\"]]\n",
        "y = df[\"sales\"]\n",
        "reg = LinearRegression()\n",
        "model = reg.fit(X, y)"
      ],
      "execution_count": null,
      "outputs": []
    },
    {
      "cell_type": "code",
      "metadata": {
        "colab": {
          "base_uri": "https://localhost:8080/"
        },
        "id": "Rjoqy8OtOsD9",
        "outputId": "ab3653d9-790f-4886-f2ef-4d9b92444d32"
      },
      "source": [
        "model.predict([[30]])"
      ],
      "execution_count": null,
      "outputs": [
        {
          "output_type": "execute_result",
          "data": {
            "text/plain": [
              "array([8.45869276])"
            ]
          },
          "metadata": {
            "tags": []
          },
          "execution_count": 42
        }
      ]
    },
    {
      "cell_type": "code",
      "metadata": {
        "id": "ZIfjcxrSOsD9"
      },
      "source": [
        "#Birden çok sorgulama olduğunda veya soru sorulduğunda liste yaparsın.\n",
        "yeni_veri = [[5],[90],[200]]"
      ],
      "execution_count": null,
      "outputs": []
    },
    {
      "cell_type": "code",
      "metadata": {
        "colab": {
          "base_uri": "https://localhost:8080/"
        },
        "id": "nOoruDrSOsD-",
        "outputId": "570514b4-2535-41a5-bf78-d78d6d5c5f9d"
      },
      "source": [
        "model.predict(yeni_veri)"
      ],
      "execution_count": null,
      "outputs": [
        {
          "output_type": "execute_result",
          "data": {
            "text/plain": [
              "array([ 7.27027675, 11.31089119, 16.53992164])"
            ]
          },
          "metadata": {
            "tags": []
          },
          "execution_count": 44
        }
      ]
    },
    {
      "cell_type": "markdown",
      "metadata": {
        "id": "eiSkrsl1OsD-"
      },
      "source": [
        "## Artıklar ve Makine Öğrenmesindeki Önemi"
      ]
    },
    {
      "cell_type": "code",
      "metadata": {
        "id": "j3QzFmSEOsD-"
      },
      "source": [
        "from sklearn.metrics import mean_squared_error, r2_score"
      ],
      "execution_count": null,
      "outputs": []
    },
    {
      "cell_type": "code",
      "metadata": {
        "id": "btP-i4FjOsD_"
      },
      "source": [
        "import statsmodels.formula.api as smf;\n",
        "lm =smf.ols(\"sales ~ TV\",df)\n",
        "model = lm.fit()"
      ],
      "execution_count": null,
      "outputs": []
    },
    {
      "cell_type": "code",
      "metadata": {
        "id": "KA99zyOHOsD_"
      },
      "source": [
        "mse = mean_squared_error(y, model.fittedvalues)"
      ],
      "execution_count": null,
      "outputs": []
    },
    {
      "cell_type": "code",
      "metadata": {
        "id": "iVYNCx-5OsEA",
        "colab": {
          "base_uri": "https://localhost:8080/"
        },
        "outputId": "82c48a09-91f9-46b0-84aa-eb8b9d54e598"
      },
      "source": [
        "mse"
      ],
      "execution_count": null,
      "outputs": [
        {
          "output_type": "execute_result",
          "data": {
            "text/plain": [
              "10.512652915656753"
            ]
          },
          "metadata": {
            "tags": []
          },
          "execution_count": 30
        }
      ]
    },
    {
      "cell_type": "code",
      "metadata": {
        "id": "85mEEQ7_OsEA"
      },
      "source": [
        "import numpy as np\n",
        "rmse = np.sqrt(mse)"
      ],
      "execution_count": null,
      "outputs": []
    },
    {
      "cell_type": "code",
      "metadata": {
        "id": "q97r_IGwOsEB",
        "colab": {
          "base_uri": "https://localhost:8080/"
        },
        "outputId": "10637aad-cd4e-4f76-fbff-eb1f07344d1a"
      },
      "source": [
        "rmse"
      ],
      "execution_count": null,
      "outputs": [
        {
          "output_type": "execute_result",
          "data": {
            "text/plain": [
              "3.2423221486546883"
            ]
          },
          "metadata": {
            "tags": []
          },
          "execution_count": 32
        }
      ]
    },
    {
      "cell_type": "code",
      "metadata": {
        "id": "YAjfRBM_OsEB",
        "colab": {
          "base_uri": "https://localhost:8080/"
        },
        "outputId": "83701071-4010-4515-a835-4675609bb40c"
      },
      "source": [
        "reg.predict(X)[0:10]"
      ],
      "execution_count": null,
      "outputs": [
        {
          "output_type": "execute_result",
          "data": {
            "text/plain": [
              "array([17.97077451,  9.14797405,  7.85022376, 14.23439457, 15.62721814,\n",
              "        7.44616232,  9.76595037, 12.74649773,  7.44140866, 16.53041431])"
            ]
          },
          "metadata": {
            "tags": []
          },
          "execution_count": 35
        }
      ]
    },
    {
      "cell_type": "code",
      "metadata": {
        "id": "H6vAMkNkOsEB"
      },
      "source": [
        "y[0:10]"
      ],
      "execution_count": null,
      "outputs": []
    },
    {
      "cell_type": "code",
      "metadata": {
        "id": "Z6aRDIYAOsEC"
      },
      "source": [
        "k_t = pd.DataFrame({\"gercek_y\": y[0:10],\n",
        "                   \"tahmin_y\": reg.predict(X)[0:10]})"
      ],
      "execution_count": null,
      "outputs": []
    },
    {
      "cell_type": "code",
      "metadata": {
        "id": "oqgPejNFOsEC"
      },
      "source": [
        "k_t"
      ],
      "execution_count": null,
      "outputs": []
    },
    {
      "cell_type": "code",
      "metadata": {
        "id": "u-djY8a9OsEC"
      },
      "source": [
        "k_t[\"hata\"] = k_t[\"gercek_y\"] - k_t[\"tahmin_y\"]"
      ],
      "execution_count": null,
      "outputs": []
    },
    {
      "cell_type": "code",
      "metadata": {
        "id": "ZGXa1BK4OsED"
      },
      "source": [
        "k_t"
      ],
      "execution_count": null,
      "outputs": []
    },
    {
      "cell_type": "code",
      "metadata": {
        "id": "uK16uMJWOsED"
      },
      "source": [
        "k_t[\"hata_kare\"] = k_t[\"hata\"]**2"
      ],
      "execution_count": null,
      "outputs": []
    },
    {
      "cell_type": "code",
      "metadata": {
        "id": "j-WRV4inOsED"
      },
      "source": [
        "k_t"
      ],
      "execution_count": null,
      "outputs": []
    },
    {
      "cell_type": "code",
      "metadata": {
        "id": "7Y-T7IZDOsEE",
        "colab": {
          "base_uri": "https://localhost:8080/"
        },
        "outputId": "e0aa59d5-1bbc-4a66-82fa-320c620c6f40"
      },
      "source": [
        "np.sum(k_t[\"hata_kare\"])"
      ],
      "execution_count": null,
      "outputs": [
        {
          "output_type": "execute_result",
          "data": {
            "text/plain": [
              "92.90350329638102"
            ]
          },
          "metadata": {
            "tags": []
          },
          "execution_count": 44
        }
      ]
    },
    {
      "cell_type": "code",
      "metadata": {
        "id": "5C-7xa_eOsEE",
        "colab": {
          "base_uri": "https://localhost:8080/"
        },
        "outputId": "1c28f50a-6fe7-4270-c0fe-724871f5664d"
      },
      "source": [
        "np.mean(k_t[\"hata_kare\"])"
      ],
      "execution_count": null,
      "outputs": [
        {
          "output_type": "execute_result",
          "data": {
            "text/plain": [
              "9.290350329638102"
            ]
          },
          "metadata": {
            "tags": []
          },
          "execution_count": 45
        }
      ]
    },
    {
      "cell_type": "code",
      "metadata": {
        "id": "gAiBxjdqOsEE"
      },
      "source": [
        "np.sqrt(np.mean(k_t[\"hata_kare\"]))"
      ],
      "execution_count": null,
      "outputs": []
    },
    {
      "cell_type": "code",
      "metadata": {
        "id": "_bAzCd1WOsEF"
      },
      "source": [
        "model.resid[0:10]"
      ],
      "execution_count": null,
      "outputs": []
    },
    {
      "cell_type": "code",
      "metadata": {
        "id": "uNDSM2eEOsEF",
        "colab": {
          "base_uri": "https://localhost:8080/",
          "height": 265
        },
        "outputId": "eaa94f94-2810-483b-fff1-06b33f40f629"
      },
      "source": [
        "import matplotlib.pyplot as plt\n",
        "plt.plot(model.resid);"
      ],
      "execution_count": null,
      "outputs": [
        {
          "output_type": "display_data",
          "data": {
            "image/png": "[encoded data removed]",
            "text/plain": [
              "<Figure size 432x288 with 1 Axes>"
            ]
          },
          "metadata": {
            "tags": [],
            "needs_background": "light"
          }
        }
      ]
    },
    {
      "cell_type": "markdown",
      "metadata": {
        "id": "1XrnrGGiOsEF"
      },
      "source": [
        "# Çoklu Doğrusal Regresyon¶\n"
      ]
    },
    {
      "cell_type": "code",
      "metadata": {
        "id": "6aoLN_q1OsEG"
      },
      "source": [
        "import pandas as pd\n",
        "ad = pd.read_csv(\"Advertising.csv\", usecols = [1,2,3,4])\n",
        "df = ad.copy()\n",
        "df.head()"
      ],
      "execution_count": null,
      "outputs": []
    },
    {
      "cell_type": "code",
      "metadata": {
        "id": "egSVcZviOsEG"
      },
      "source": [
        "from sklearn.model_selection import train_test_split, cross_val_score, cross_val_predict"
      ],
      "execution_count": null,
      "outputs": []
    },
    {
      "cell_type": "code",
      "metadata": {
        "id": "piiATEbqOsEH"
      },
      "source": [
        "X = df.drop(\"sales\", axis = 1)\n",
        "y = df[\"sales\"]\n",
        "\n",
        "X_train, X_test, y_train, y_test = train_test_split(X, y, test_size = 0.20, random_state= 42)\n"
      ],
      "execution_count": null,
      "outputs": []
    },
    {
      "cell_type": "code",
      "metadata": {
        "id": "wg2VhnLzOsEH",
        "colab": {
          "base_uri": "https://localhost:8080/"
        },
        "outputId": "7604add2-fac0-4a1c-d0c7-36a1fd46b58a"
      },
      "source": [
        "X_train.shape"
      ],
      "execution_count": null,
      "outputs": [
        {
          "output_type": "execute_result",
          "data": {
            "text/plain": [
              "(160, 3)"
            ]
          },
          "metadata": {
            "tags": []
          },
          "execution_count": 59
        }
      ]
    },
    {
      "cell_type": "code",
      "metadata": {
        "id": "VKVulItVOsEH",
        "colab": {
          "base_uri": "https://localhost:8080/"
        },
        "outputId": "c86063d4-abe0-4f58-ea95-8b8e6db5a26b"
      },
      "source": [
        "y_train.shape"
      ],
      "execution_count": null,
      "outputs": [
        {
          "output_type": "execute_result",
          "data": {
            "text/plain": [
              "(160,)"
            ]
          },
          "metadata": {
            "tags": []
          },
          "execution_count": 60
        }
      ]
    },
    {
      "cell_type": "code",
      "metadata": {
        "id": "vMP0RVbJOsEI",
        "colab": {
          "base_uri": "https://localhost:8080/"
        },
        "outputId": "eac6f83a-64ea-438d-e38e-95187081d6a0"
      },
      "source": [
        "X_test.shape"
      ],
      "execution_count": null,
      "outputs": [
        {
          "output_type": "execute_result",
          "data": {
            "text/plain": [
              "(40, 3)"
            ]
          },
          "metadata": {
            "tags": []
          },
          "execution_count": 61
        }
      ]
    },
    {
      "cell_type": "code",
      "metadata": {
        "id": "MnIYFw8HOsEI",
        "colab": {
          "base_uri": "https://localhost:8080/"
        },
        "outputId": "26130edd-f1f6-413f-a05c-763ebb1a3a6f"
      },
      "source": [
        "y_test.shape"
      ],
      "execution_count": null,
      "outputs": [
        {
          "output_type": "execute_result",
          "data": {
            "text/plain": [
              "(40,)"
            ]
          },
          "metadata": {
            "tags": []
          },
          "execution_count": 62
        }
      ]
    },
    {
      "cell_type": "code",
      "metadata": {
        "id": "Hdgy12ZbOsEI"
      },
      "source": [
        "training = df.copy()"
      ],
      "execution_count": null,
      "outputs": []
    },
    {
      "cell_type": "code",
      "metadata": {
        "id": "Qoco_btwOsEJ",
        "colab": {
          "base_uri": "https://localhost:8080/"
        },
        "outputId": "da7351d4-22f6-442f-e658-1b70c0aaa35d"
      },
      "source": [
        "training.shape"
      ],
      "execution_count": null,
      "outputs": [
        {
          "output_type": "execute_result",
          "data": {
            "text/plain": [
              "(200, 4)"
            ]
          },
          "metadata": {
            "tags": []
          },
          "execution_count": 64
        }
      ]
    },
    {
      "cell_type": "markdown",
      "metadata": {
        "id": "2dQ7dMK3OsEJ"
      },
      "source": [
        "## Statsmodels"
      ]
    },
    {
      "cell_type": "code",
      "metadata": {
        "id": "N9umaMnPOsEJ"
      },
      "source": [
        "lm = sm.OLS(y_train, X_train)"
      ],
      "execution_count": null,
      "outputs": []
    },
    {
      "cell_type": "code",
      "metadata": {
        "id": "IRW1VXfrOsEK",
        "colab": {
          "base_uri": "https://localhost:8080/",
          "height": 438
        },
        "outputId": "c0f3aa31-8d36-4df6-d539-7a8d62ebc9a1"
      },
      "source": [
        "model = lm.fit()\n",
        "model.summary()"
      ],
      "execution_count": null,
      "outputs": [
        {
          "output_type": "execute_result",
          "data": {
            "text/html": [
              "<table class=\"simpletable\">\n",
              "<caption>OLS Regression Results</caption>\n",
              "<tr>\n",
              "  <th>Dep. Variable:</th>          <td>sales</td>      <th>  R-squared (uncentered):</th>      <td>   0.982</td> \n",
              "</tr>\n",
              "<tr>\n",
              "  <th>Model:</th>                   <td>OLS</td>       <th>  Adj. R-squared (uncentered):</th> <td>   0.982</td> \n",
              "</tr>\n",
              "<tr>\n",
              "  <th>Method:</th>             <td>Least Squares</td>  <th>  F-statistic:       </th>          <td>   2935.</td> \n",
              "</tr>\n",
              "<tr>\n",
              "  <th>Date:</th>             <td>Mon, 12 Apr 2021</td> <th>  Prob (F-statistic):</th>          <td>1.28e-137</td>\n",
              "</tr>\n",
              "<tr>\n",
              "  <th>Time:</th>                 <td>10:24:34</td>     <th>  Log-Likelihood:    </th>          <td> -336.65</td> \n",
              "</tr>\n",
              "<tr>\n",
              "  <th>No. Observations:</th>      <td>   160</td>      <th>  AIC:               </th>          <td>   679.3</td> \n",
              "</tr>\n",
              "<tr>\n",
              "  <th>Df Residuals:</th>          <td>   157</td>      <th>  BIC:               </th>          <td>   688.5</td> \n",
              "</tr>\n",
              "<tr>\n",
              "  <th>Df Model:</th>              <td>     3</td>      <th>                     </th>              <td> </td>    \n",
              "</tr>\n",
              "<tr>\n",
              "  <th>Covariance Type:</th>      <td>nonrobust</td>    <th>                     </th>              <td> </td>    \n",
              "</tr>\n",
              "</table>\n",
              "<table class=\"simpletable\">\n",
              "<tr>\n",
              "      <td></td>         <th>coef</th>     <th>std err</th>      <th>t</th>      <th>P>|t|</th>  <th>[0.025</th>    <th>0.975]</th>  \n",
              "</tr>\n",
              "<tr>\n",
              "  <th>TV</th>        <td>    0.0531</td> <td>    0.001</td> <td>   36.467</td> <td> 0.000</td> <td>    0.050</td> <td>    0.056</td>\n",
              "</tr>\n",
              "<tr>\n",
              "  <th>radio</th>     <td>    0.2188</td> <td>    0.011</td> <td>   20.138</td> <td> 0.000</td> <td>    0.197</td> <td>    0.240</td>\n",
              "</tr>\n",
              "<tr>\n",
              "  <th>newspaper</th> <td>    0.0239</td> <td>    0.008</td> <td>    3.011</td> <td> 0.003</td> <td>    0.008</td> <td>    0.040</td>\n",
              "</tr>\n",
              "</table>\n",
              "<table class=\"simpletable\">\n",
              "<tr>\n",
              "  <th>Omnibus:</th>       <td>11.405</td> <th>  Durbin-Watson:     </th> <td>   1.895</td>\n",
              "</tr>\n",
              "<tr>\n",
              "  <th>Prob(Omnibus):</th> <td> 0.003</td> <th>  Jarque-Bera (JB):  </th> <td>  15.574</td>\n",
              "</tr>\n",
              "<tr>\n",
              "  <th>Skew:</th>          <td>-0.432</td> <th>  Prob(JB):          </th> <td>0.000415</td>\n",
              "</tr>\n",
              "<tr>\n",
              "  <th>Kurtosis:</th>      <td> 4.261</td> <th>  Cond. No.          </th> <td>    13.5</td>\n",
              "</tr>\n",
              "</table><br/><br/>Warnings:<br/>[1] Standard Errors assume that the covariance matrix of the errors is correctly specified."
            ],
            "text/plain": [
              "<class 'statsmodels.iolib.summary.Summary'>\n",
              "\"\"\"\n",
              "                                 OLS Regression Results                                \n",
              "=======================================================================================\n",
              "Dep. Variable:                  sales   R-squared (uncentered):                   0.982\n",
              "Model:                            OLS   Adj. R-squared (uncentered):              0.982\n",
              "Method:                 Least Squares   F-statistic:                              2935.\n",
              "Date:                Mon, 12 Apr 2021   Prob (F-statistic):                   1.28e-137\n",
              "Time:                        10:24:34   Log-Likelihood:                         -336.65\n",
              "No. Observations:                 160   AIC:                                      679.3\n",
              "Df Residuals:                     157   BIC:                                      688.5\n",
              "Df Model:                           3                                                  \n",
              "Covariance Type:            nonrobust                                                  \n",
              "==============================================================================\n",
              "                 coef    std err          t      P>|t|      [0.025      0.975]\n",
              "------------------------------------------------------------------------------\n",
              "TV             0.0531      0.001     36.467      0.000       0.050       0.056\n",
              "radio          0.2188      0.011     20.138      0.000       0.197       0.240\n",
              "newspaper      0.0239      0.008      3.011      0.003       0.008       0.040\n",
              "==============================================================================\n",
              "Omnibus:                       11.405   Durbin-Watson:                   1.895\n",
              "Prob(Omnibus):                  0.003   Jarque-Bera (JB):               15.574\n",
              "Skew:                          -0.432   Prob(JB):                     0.000415\n",
              "Kurtosis:                       4.261   Cond. No.                         13.5\n",
              "==============================================================================\n",
              "\n",
              "Warnings:\n",
              "[1] Standard Errors assume that the covariance matrix of the errors is correctly specified.\n",
              "\"\"\""
            ]
          },
          "metadata": {
            "tags": []
          },
          "execution_count": 66
        }
      ]
    },
    {
      "cell_type": "code",
      "metadata": {
        "id": "O4K8dnznOsEK",
        "colab": {
          "base_uri": "https://localhost:8080/",
          "height": 97
        },
        "outputId": "e2000391-9741-480e-af54-fa7d3ef28c22"
      },
      "source": [
        "model.summary().tables[1]"
      ],
      "execution_count": null,
      "outputs": [
        {
          "output_type": "execute_result",
          "data": {
            "text/html": [
              "<table class=\"simpletable\">\n",
              "<tr>\n",
              "      <td></td>         <th>coef</th>     <th>std err</th>      <th>t</th>      <th>P>|t|</th>  <th>[0.025</th>    <th>0.975]</th>  \n",
              "</tr>\n",
              "<tr>\n",
              "  <th>TV</th>        <td>    0.0531</td> <td>    0.001</td> <td>   36.467</td> <td> 0.000</td> <td>    0.050</td> <td>    0.056</td>\n",
              "</tr>\n",
              "<tr>\n",
              "  <th>radio</th>     <td>    0.2188</td> <td>    0.011</td> <td>   20.138</td> <td> 0.000</td> <td>    0.197</td> <td>    0.240</td>\n",
              "</tr>\n",
              "<tr>\n",
              "  <th>newspaper</th> <td>    0.0239</td> <td>    0.008</td> <td>    3.011</td> <td> 0.003</td> <td>    0.008</td> <td>    0.040</td>\n",
              "</tr>\n",
              "</table>"
            ],
            "text/plain": [
              "<class 'statsmodels.iolib.table.SimpleTable'>"
            ]
          },
          "metadata": {
            "tags": []
          },
          "execution_count": 67
        }
      ]
    },
    {
      "cell_type": "markdown",
      "metadata": {
        "id": "fqyzwj7HOsEL"
      },
      "source": [
        "## scikit-learn model"
      ]
    },
    {
      "cell_type": "code",
      "metadata": {
        "id": "VSsND6cMOsEL"
      },
      "source": [
        "lm = LinearRegression()\n",
        "model = lm.fit(X_train, y_train)"
      ],
      "execution_count": null,
      "outputs": []
    },
    {
      "cell_type": "code",
      "metadata": {
        "id": "S7djT0rcOsEL",
        "colab": {
          "base_uri": "https://localhost:8080/"
        },
        "outputId": "4a19bff9-1eb6-43bf-facf-61bedc4c4d97"
      },
      "source": [
        "model.intercept_"
      ],
      "execution_count": null,
      "outputs": [
        {
          "output_type": "execute_result",
          "data": {
            "text/plain": [
              "2.979067338122629"
            ]
          },
          "metadata": {
            "tags": []
          },
          "execution_count": 70
        }
      ]
    },
    {
      "cell_type": "code",
      "metadata": {
        "id": "nncD8OEWOsEM",
        "colab": {
          "base_uri": "https://localhost:8080/"
        },
        "outputId": "18edcf7e-7c8e-4789-c32b-6f9507b2cf5c"
      },
      "source": [
        "model.coef_"
      ],
      "execution_count": null,
      "outputs": [
        {
          "output_type": "execute_result",
          "data": {
            "text/plain": [
              "array([0.04472952, 0.18919505, 0.00276111])"
            ]
          },
          "metadata": {
            "tags": []
          },
          "execution_count": 71
        }
      ]
    },
    {
      "cell_type": "markdown",
      "metadata": {
        "id": "dKAwozttOsEM"
      },
      "source": [
        "## Tahmin"
      ]
    },
    {
      "cell_type": "markdown",
      "metadata": {
        "id": "VIW98j-GOsEM"
      },
      "source": [
        "Model denklemi:\n",
        "\n",
        "Sales = 2.97 + TV0.04 + radio0.18 + newspaper*0.002\n",
        "\n",
        "Örneğin 30 birim TV harcaması, 10 birim radio harcamasi, 40 birimde gazete harcaması olduğunda satışların tahmini değeri ne olur?\n",
        "\n"
      ]
    },
    {
      "cell_type": "code",
      "metadata": {
        "id": "qmYhYaIbOsEN"
      },
      "source": [
        "yeni_veri = [[30], [10],[40]]\n",
        "yeni_veri = pd.DataFrame(yeni_veri).T"
      ],
      "execution_count": null,
      "outputs": []
    },
    {
      "cell_type": "code",
      "metadata": {
        "id": "s-_RVi9VOsEN",
        "colab": {
          "base_uri": "https://localhost:8080/"
        },
        "outputId": "82eec1b3-7524-4c96-84c4-1c14f9244976"
      },
      "source": [
        "model.predict(yeni_veri)"
      ],
      "execution_count": null,
      "outputs": [
        {
          "output_type": "execute_result",
          "data": {
            "text/plain": [
              "array([6.32334798])"
            ]
          },
          "metadata": {
            "tags": []
          },
          "execution_count": 73
        }
      ]
    },
    {
      "cell_type": "code",
      "metadata": {
        "id": "Zv-R9g-KOsEO"
      },
      "source": [
        "#Eğitim setinin hatası\n",
        "rmse = np.sqrt(mean_squared_error(y_train, model.predict(X_train)))"
      ],
      "execution_count": null,
      "outputs": []
    },
    {
      "cell_type": "code",
      "metadata": {
        "id": "X4y09fioOsEP",
        "colab": {
          "base_uri": "https://localhost:8080/"
        },
        "outputId": "742233f4-d82d-4d50-b2bf-4575c33798c2"
      },
      "source": [
        "rmse"
      ],
      "execution_count": null,
      "outputs": [
        {
          "output_type": "execute_result",
          "data": {
            "text/plain": [
              "1.644727765644337"
            ]
          },
          "metadata": {
            "tags": []
          },
          "execution_count": 75
        }
      ]
    },
    {
      "cell_type": "code",
      "metadata": {
        "id": "aEvpq1N1OsEP"
      },
      "source": [
        "#Test setinin hatası\n",
        "rmse = np.sqrt(mean_squared_error(y_test, model.predict(X_test)))"
      ],
      "execution_count": null,
      "outputs": []
    },
    {
      "cell_type": "code",
      "metadata": {
        "id": "qFphmMgTOsEQ",
        "colab": {
          "base_uri": "https://localhost:8080/"
        },
        "outputId": "90d6e172-16c7-4a98-b9e1-6a9c528699fa"
      },
      "source": [
        "rmse"
      ],
      "execution_count": null,
      "outputs": [
        {
          "output_type": "execute_result",
          "data": {
            "text/plain": [
              "1.78159966153345"
            ]
          },
          "metadata": {
            "tags": []
          },
          "execution_count": 77
        }
      ]
    },
    {
      "cell_type": "markdown",
      "metadata": {
        "id": "bW06PmB2OsEQ"
      },
      "source": [
        "## Model Tuning / Model Doğrulama"
      ]
    },
    {
      "cell_type": "code",
      "metadata": {
        "id": "K6X6Wv95OsEQ"
      },
      "source": [
        "df.head()"
      ],
      "execution_count": null,
      "outputs": []
    },
    {
      "cell_type": "code",
      "metadata": {
        "id": "pAvXrTMfOsER"
      },
      "source": [
        "from sklearn.linear_model import LinearRegression\n",
        "from sklearn.model_selection import train_test_split, cross_val_score, cross_val_predict\n",
        "X = df.drop('sales', axis=1)\n",
        "y = df[\"sales\"]\n",
        "X_train, X_test, y_train, y_test = train_test_split(X, y, \n",
        "                                                    test_size=0.20, \n",
        "                                                    random_state=144)\n",
        "lm = LinearRegression() \n",
        "model = lm.fit(X_train, y_train)"
      ],
      "execution_count": null,
      "outputs": []
    },
    {
      "cell_type": "code",
      "metadata": {
        "id": "nlvOLFpEOsER",
        "colab": {
          "base_uri": "https://localhost:8080/"
        },
        "outputId": "2e69269b-b94b-4e85-b919-4017c011583c"
      },
      "source": [
        "np.sqrt(mean_squared_error(y_train, model.predict(X_train)))"
      ],
      "execution_count": null,
      "outputs": [
        {
          "output_type": "execute_result",
          "data": {
            "text/plain": [
              "1.6748559274650712"
            ]
          },
          "metadata": {
            "tags": []
          },
          "execution_count": 80
        }
      ]
    },
    {
      "cell_type": "code",
      "metadata": {
        "id": "FPKnQE1KOsES",
        "colab": {
          "base_uri": "https://localhost:8080/"
        },
        "outputId": "ef665689-716e-466d-cc33-eb1f3f21e226"
      },
      "source": [
        "np.sqrt(mean_squared_error(y_test, model.predict(X_test)))"
      ],
      "execution_count": null,
      "outputs": [
        {
          "output_type": "execute_result",
          "data": {
            "text/plain": [
              "1.6640263686701031"
            ]
          },
          "metadata": {
            "tags": []
          },
          "execution_count": 81
        }
      ]
    },
    {
      "cell_type": "code",
      "metadata": {
        "id": "2vvmdGR3OsES",
        "colab": {
          "base_uri": "https://localhost:8080/"
        },
        "outputId": "f0fb1ca2-d0c8-42d2-d187-4f8273570b46"
      },
      "source": [
        "model.score(X_train, y_train)"
      ],
      "execution_count": null,
      "outputs": [
        {
          "output_type": "execute_result",
          "data": {
            "text/plain": [
              "0.8971614078663419"
            ]
          },
          "metadata": {
            "tags": []
          },
          "execution_count": 82
        }
      ]
    },
    {
      "cell_type": "code",
      "metadata": {
        "colab": {
          "base_uri": "https://localhost:8080/"
        },
        "id": "UN_fXl7ms56d",
        "outputId": "e45f2c42-f86c-4f5a-9baf-87fce2fd190d"
      },
      "source": [
        "cross_val_score(model, X_train, y_train, cv = 10, scoring = \"r2\")"
      ],
      "execution_count": null,
      "outputs": [
        {
          "output_type": "execute_result",
          "data": {
            "text/plain": [
              "array([0.86580772, 0.92273806, 0.90690214, 0.9124702 , 0.69765146,\n",
              "       0.92654282, 0.92526348, 0.94823778, 0.92941476, 0.69875488])"
            ]
          },
          "metadata": {
            "tags": []
          },
          "execution_count": 85
        }
      ]
    },
    {
      "cell_type": "code",
      "metadata": {
        "id": "WhtnaFSmOsET",
        "colab": {
          "base_uri": "https://localhost:8080/"
        },
        "outputId": "891d24d7-9de7-4bf7-8444-af07de453984"
      },
      "source": [
        "cross_val_score(model, X_train, y_train, cv = 10, scoring = \"r2\").mean()"
      ],
      "execution_count": null,
      "outputs": [
        {
          "output_type": "execute_result",
          "data": {
            "text/plain": [
              "0.8733783298422942"
            ]
          },
          "metadata": {
            "tags": []
          },
          "execution_count": 84
        }
      ]
    },
    {
      "cell_type": "code",
      "metadata": {
        "colab": {
          "base_uri": "https://localhost:8080/"
        },
        "id": "LR6l-f4mtu85",
        "outputId": "a99c26aa-04f4-442c-cc71-4022199d704e"
      },
      "source": [
        "np.sqrt(-cross_val_score(model, \n",
        "                X_train, \n",
        "                y_train, \n",
        "                cv = 10, \n",
        "                scoring = \"neg_mean_squared_error\"))"
      ],
      "execution_count": null,
      "outputs": [
        {
          "output_type": "execute_result",
          "data": {
            "text/plain": [
              "array([1.94167741, 1.17857794, 1.14676306, 1.82238742, 2.97070189,\n",
              "       1.5424871 , 1.51235118, 1.02817521, 1.73070108, 1.77552332])"
            ]
          },
          "metadata": {
            "tags": []
          },
          "execution_count": 86
        }
      ]
    },
    {
      "cell_type": "code",
      "metadata": {
        "id": "evdBVXz-OsET",
        "colab": {
          "base_uri": "https://localhost:8080/"
        },
        "outputId": "328155d4-a453-4e0b-80b6-95a4015db813"
      },
      "source": [
        "np.sqrt(-cross_val_score(model, \n",
        "                X_train, \n",
        "                y_train, \n",
        "                cv = 10, \n",
        "                scoring = \"neg_mean_squared_error\")).mean()"
      ],
      "execution_count": null,
      "outputs": [
        {
          "output_type": "execute_result",
          "data": {
            "text/plain": [
              "1.6649345607872932"
            ]
          },
          "metadata": {
            "tags": []
          },
          "execution_count": 87
        }
      ]
    },
    {
      "cell_type": "code",
      "metadata": {
        "colab": {
          "base_uri": "https://localhost:8080/"
        },
        "id": "Q7lHFcJXt1KM",
        "outputId": "e16ab745-72f8-4002-e02a-d87705cae8a3"
      },
      "source": [
        "np.sqrt(-cross_val_score(model, \n",
        "                X_test, \n",
        "                y_test, \n",
        "                cv = 10, \n",
        "                scoring = \"neg_mean_squared_error\"))"
      ],
      "execution_count": null,
      "outputs": [
        {
          "output_type": "execute_result",
          "data": {
            "text/plain": [
              "array([1.00960622, 1.00246182, 2.57280082, 1.73376861, 1.58098281,\n",
              "       2.4846819 , 2.31458394, 1.5746411 , 1.81611569, 1.31028205])"
            ]
          },
          "metadata": {
            "tags": []
          },
          "execution_count": 88
        }
      ]
    },
    {
      "cell_type": "code",
      "metadata": {
        "id": "ahAP4N1kOsEX",
        "colab": {
          "base_uri": "https://localhost:8080/"
        },
        "outputId": "7d1dc3ad-aa59-4079-b379-1d12fe1b6e29"
      },
      "source": [
        "np.sqrt(-cross_val_score(model, \n",
        "                X_test, \n",
        "                y_test, \n",
        "                cv = 10, \n",
        "                scoring = \"neg_mean_squared_error\")).mean()"
      ],
      "execution_count": null,
      "outputs": [
        {
          "output_type": "execute_result",
          "data": {
            "text/plain": [
              "1.7399924960346644"
            ]
          },
          "metadata": {
            "tags": []
          },
          "execution_count": 89
        }
      ]
    },
    {
      "cell_type": "markdown",
      "metadata": {
        "id": "05gUTHhtOsEX"
      },
      "source": [
        "# PCR Model"
      ]
    },
    {
      "cell_type": "code",
      "metadata": {
        "id": "WNxpFzkU_ZiN"
      },
      "source": [
        "from google.colab import files\n",
        "files.upload()"
      ],
      "execution_count": null,
      "outputs": []
    },
    {
      "cell_type": "code",
      "metadata": {
        "id": "9Xub2h4SOsEY",
        "colab": {
          "base_uri": "https://localhost:8080/",
          "height": 216
        },
        "outputId": "f60087b2-8d96-4e88-cac2-37283150be57"
      },
      "source": [
        "import pandas as pd\n",
        "import numpy as np\n",
        "hit = pd.read_csv(\"Hitters.csv\")\n",
        "df = hit.copy()\n",
        "df = df.dropna()\n",
        "df.head()"
      ],
      "execution_count": null,
      "outputs": [
        {
          "output_type": "execute_result",
          "data": {
            "text/html": [
              "<div>\n",
              "<style scoped>\n",
              "    .dataframe tbody tr th:only-of-type {\n",
              "        vertical-align: middle;\n",
              "    }\n",
              "\n",
              "    .dataframe tbody tr th {\n",
              "        vertical-align: top;\n",
              "    }\n",
              "\n",
              "    .dataframe thead th {\n",
              "        text-align: right;\n",
              "    }\n",
              "</style>\n",
              "<table border=\"1\" class=\"dataframe\">\n",
              "  <thead>\n",
              "    <tr style=\"text-align: right;\">\n",
              "      <th></th>\n",
              "      <th>AtBat</th>\n",
              "      <th>Hits</th>\n",
              "      <th>HmRun</th>\n",
              "      <th>Runs</th>\n",
              "      <th>RBI</th>\n",
              "      <th>Walks</th>\n",
              "      <th>Years</th>\n",
              "      <th>CAtBat</th>\n",
              "      <th>CHits</th>\n",
              "      <th>CHmRun</th>\n",
              "      <th>CRuns</th>\n",
              "      <th>CRBI</th>\n",
              "      <th>CWalks</th>\n",
              "      <th>League</th>\n",
              "      <th>Division</th>\n",
              "      <th>PutOuts</th>\n",
              "      <th>Assists</th>\n",
              "      <th>Errors</th>\n",
              "      <th>Salary</th>\n",
              "      <th>NewLeague</th>\n",
              "    </tr>\n",
              "  </thead>\n",
              "  <tbody>\n",
              "    <tr>\n",
              "      <th>1</th>\n",
              "      <td>315</td>\n",
              "      <td>81</td>\n",
              "      <td>7</td>\n",
              "      <td>24</td>\n",
              "      <td>38</td>\n",
              "      <td>39</td>\n",
              "      <td>14</td>\n",
              "      <td>3449</td>\n",
              "      <td>835</td>\n",
              "      <td>69</td>\n",
              "      <td>321</td>\n",
              "      <td>414</td>\n",
              "      <td>375</td>\n",
              "      <td>N</td>\n",
              "      <td>W</td>\n",
              "      <td>632</td>\n",
              "      <td>43</td>\n",
              "      <td>10</td>\n",
              "      <td>475.0</td>\n",
              "      <td>N</td>\n",
              "    </tr>\n",
              "    <tr>\n",
              "      <th>2</th>\n",
              "      <td>479</td>\n",
              "      <td>130</td>\n",
              "      <td>18</td>\n",
              "      <td>66</td>\n",
              "      <td>72</td>\n",
              "      <td>76</td>\n",
              "      <td>3</td>\n",
              "      <td>1624</td>\n",
              "      <td>457</td>\n",
              "      <td>63</td>\n",
              "      <td>224</td>\n",
              "      <td>266</td>\n",
              "      <td>263</td>\n",
              "      <td>A</td>\n",
              "      <td>W</td>\n",
              "      <td>880</td>\n",
              "      <td>82</td>\n",
              "      <td>14</td>\n",
              "      <td>480.0</td>\n",
              "      <td>A</td>\n",
              "    </tr>\n",
              "    <tr>\n",
              "      <th>3</th>\n",
              "      <td>496</td>\n",
              "      <td>141</td>\n",
              "      <td>20</td>\n",
              "      <td>65</td>\n",
              "      <td>78</td>\n",
              "      <td>37</td>\n",
              "      <td>11</td>\n",
              "      <td>5628</td>\n",
              "      <td>1575</td>\n",
              "      <td>225</td>\n",
              "      <td>828</td>\n",
              "      <td>838</td>\n",
              "      <td>354</td>\n",
              "      <td>N</td>\n",
              "      <td>E</td>\n",
              "      <td>200</td>\n",
              "      <td>11</td>\n",
              "      <td>3</td>\n",
              "      <td>500.0</td>\n",
              "      <td>N</td>\n",
              "    </tr>\n",
              "    <tr>\n",
              "      <th>4</th>\n",
              "      <td>321</td>\n",
              "      <td>87</td>\n",
              "      <td>10</td>\n",
              "      <td>39</td>\n",
              "      <td>42</td>\n",
              "      <td>30</td>\n",
              "      <td>2</td>\n",
              "      <td>396</td>\n",
              "      <td>101</td>\n",
              "      <td>12</td>\n",
              "      <td>48</td>\n",
              "      <td>46</td>\n",
              "      <td>33</td>\n",
              "      <td>N</td>\n",
              "      <td>E</td>\n",
              "      <td>805</td>\n",
              "      <td>40</td>\n",
              "      <td>4</td>\n",
              "      <td>91.5</td>\n",
              "      <td>N</td>\n",
              "    </tr>\n",
              "    <tr>\n",
              "      <th>5</th>\n",
              "      <td>594</td>\n",
              "      <td>169</td>\n",
              "      <td>4</td>\n",
              "      <td>74</td>\n",
              "      <td>51</td>\n",
              "      <td>35</td>\n",
              "      <td>11</td>\n",
              "      <td>4408</td>\n",
              "      <td>1133</td>\n",
              "      <td>19</td>\n",
              "      <td>501</td>\n",
              "      <td>336</td>\n",
              "      <td>194</td>\n",
              "      <td>A</td>\n",
              "      <td>W</td>\n",
              "      <td>282</td>\n",
              "      <td>421</td>\n",
              "      <td>25</td>\n",
              "      <td>750.0</td>\n",
              "      <td>A</td>\n",
              "    </tr>\n",
              "  </tbody>\n",
              "</table>\n",
              "</div>"
            ],
            "text/plain": [
              "   AtBat  Hits  HmRun  Runs  RBI  ...  PutOuts  Assists  Errors  Salary  NewLeague\n",
              "1    315    81      7    24   38  ...      632       43      10   475.0          N\n",
              "2    479   130     18    66   72  ...      880       82      14   480.0          A\n",
              "3    496   141     20    65   78  ...      200       11       3   500.0          N\n",
              "4    321    87     10    39   42  ...      805       40       4    91.5          N\n",
              "5    594   169      4    74   51  ...      282      421      25   750.0          A\n",
              "\n",
              "[5 rows x 20 columns]"
            ]
          },
          "metadata": {
            "tags": []
          },
          "execution_count": 92
        }
      ]
    },
    {
      "cell_type": "code",
      "metadata": {
        "id": "4atouNBpOsEY",
        "colab": {
          "base_uri": "https://localhost:8080/"
        },
        "outputId": "afe5c95c-36e4-451d-cc31-2feb693c2353"
      },
      "source": [
        "df.info()"
      ],
      "execution_count": null,
      "outputs": [
        {
          "output_type": "stream",
          "text": [
            "<class 'pandas.core.frame.DataFrame'>\n",
            "Int64Index: 263 entries, 1 to 321\n",
            "Data columns (total 20 columns):\n",
            " #   Column     Non-Null Count  Dtype  \n",
            "---  ------     --------------  -----  \n",
            " 0   AtBat      263 non-null    int64  \n",
            " 1   Hits       263 non-null    int64  \n",
            " 2   HmRun      263 non-null    int64  \n",
            " 3   Runs       263 non-null    int64  \n",
            " 4   RBI        263 non-null    int64  \n",
            " 5   Walks      263 non-null    int64  \n",
            " 6   Years      263 non-null    int64  \n",
            " 7   CAtBat     263 non-null    int64  \n",
            " 8   CHits      263 non-null    int64  \n",
            " 9   CHmRun     263 non-null    int64  \n",
            " 10  CRuns      263 non-null    int64  \n",
            " 11  CRBI       263 non-null    int64  \n",
            " 12  CWalks     263 non-null    int64  \n",
            " 13  League     263 non-null    object \n",
            " 14  Division   263 non-null    object \n",
            " 15  PutOuts    263 non-null    int64  \n",
            " 16  Assists    263 non-null    int64  \n",
            " 17  Errors     263 non-null    int64  \n",
            " 18  Salary     263 non-null    float64\n",
            " 19  NewLeague  263 non-null    object \n",
            "dtypes: float64(1), int64(16), object(3)\n",
            "memory usage: 43.1+ KB\n"
          ],
          "name": "stdout"
        }
      ]
    },
    {
      "cell_type": "code",
      "metadata": {
        "id": "rBR9itC_OsEZ",
        "colab": {
          "base_uri": "https://localhost:8080/",
          "height": 554
        },
        "outputId": "e25c7119-6b98-467d-8ef3-91e7b36237ae"
      },
      "source": [
        "df.describe().T"
      ],
      "execution_count": null,
      "outputs": [
        {
          "output_type": "execute_result",
          "data": {
            "text/html": [
              "<div>\n",
              "<style scoped>\n",
              "    .dataframe tbody tr th:only-of-type {\n",
              "        vertical-align: middle;\n",
              "    }\n",
              "\n",
              "    .dataframe tbody tr th {\n",
              "        vertical-align: top;\n",
              "    }\n",
              "\n",
              "    .dataframe thead th {\n",
              "        text-align: right;\n",
              "    }\n",
              "</style>\n",
              "<table border=\"1\" class=\"dataframe\">\n",
              "  <thead>\n",
              "    <tr style=\"text-align: right;\">\n",
              "      <th></th>\n",
              "      <th>count</th>\n",
              "      <th>mean</th>\n",
              "      <th>std</th>\n",
              "      <th>min</th>\n",
              "      <th>25%</th>\n",
              "      <th>50%</th>\n",
              "      <th>75%</th>\n",
              "      <th>max</th>\n",
              "    </tr>\n",
              "  </thead>\n",
              "  <tbody>\n",
              "    <tr>\n",
              "      <th>AtBat</th>\n",
              "      <td>263.0</td>\n",
              "      <td>403.642586</td>\n",
              "      <td>147.307209</td>\n",
              "      <td>19.0</td>\n",
              "      <td>282.5</td>\n",
              "      <td>413.0</td>\n",
              "      <td>526.0</td>\n",
              "      <td>687.0</td>\n",
              "    </tr>\n",
              "    <tr>\n",
              "      <th>Hits</th>\n",
              "      <td>263.0</td>\n",
              "      <td>107.828897</td>\n",
              "      <td>45.125326</td>\n",
              "      <td>1.0</td>\n",
              "      <td>71.5</td>\n",
              "      <td>103.0</td>\n",
              "      <td>141.5</td>\n",
              "      <td>238.0</td>\n",
              "    </tr>\n",
              "    <tr>\n",
              "      <th>HmRun</th>\n",
              "      <td>263.0</td>\n",
              "      <td>11.619772</td>\n",
              "      <td>8.757108</td>\n",
              "      <td>0.0</td>\n",
              "      <td>5.0</td>\n",
              "      <td>9.0</td>\n",
              "      <td>18.0</td>\n",
              "      <td>40.0</td>\n",
              "    </tr>\n",
              "    <tr>\n",
              "      <th>Runs</th>\n",
              "      <td>263.0</td>\n",
              "      <td>54.745247</td>\n",
              "      <td>25.539816</td>\n",
              "      <td>0.0</td>\n",
              "      <td>33.5</td>\n",
              "      <td>52.0</td>\n",
              "      <td>73.0</td>\n",
              "      <td>130.0</td>\n",
              "    </tr>\n",
              "    <tr>\n",
              "      <th>RBI</th>\n",
              "      <td>263.0</td>\n",
              "      <td>51.486692</td>\n",
              "      <td>25.882714</td>\n",
              "      <td>0.0</td>\n",
              "      <td>30.0</td>\n",
              "      <td>47.0</td>\n",
              "      <td>71.0</td>\n",
              "      <td>121.0</td>\n",
              "    </tr>\n",
              "    <tr>\n",
              "      <th>Walks</th>\n",
              "      <td>263.0</td>\n",
              "      <td>41.114068</td>\n",
              "      <td>21.718056</td>\n",
              "      <td>0.0</td>\n",
              "      <td>23.0</td>\n",
              "      <td>37.0</td>\n",
              "      <td>57.0</td>\n",
              "      <td>105.0</td>\n",
              "    </tr>\n",
              "    <tr>\n",
              "      <th>Years</th>\n",
              "      <td>263.0</td>\n",
              "      <td>7.311787</td>\n",
              "      <td>4.793616</td>\n",
              "      <td>1.0</td>\n",
              "      <td>4.0</td>\n",
              "      <td>6.0</td>\n",
              "      <td>10.0</td>\n",
              "      <td>24.0</td>\n",
              "    </tr>\n",
              "    <tr>\n",
              "      <th>CAtBat</th>\n",
              "      <td>263.0</td>\n",
              "      <td>2657.543726</td>\n",
              "      <td>2286.582929</td>\n",
              "      <td>19.0</td>\n",
              "      <td>842.5</td>\n",
              "      <td>1931.0</td>\n",
              "      <td>3890.5</td>\n",
              "      <td>14053.0</td>\n",
              "    </tr>\n",
              "    <tr>\n",
              "      <th>CHits</th>\n",
              "      <td>263.0</td>\n",
              "      <td>722.186312</td>\n",
              "      <td>648.199644</td>\n",
              "      <td>4.0</td>\n",
              "      <td>212.0</td>\n",
              "      <td>516.0</td>\n",
              "      <td>1054.0</td>\n",
              "      <td>4256.0</td>\n",
              "    </tr>\n",
              "    <tr>\n",
              "      <th>CHmRun</th>\n",
              "      <td>263.0</td>\n",
              "      <td>69.239544</td>\n",
              "      <td>82.197581</td>\n",
              "      <td>0.0</td>\n",
              "      <td>15.0</td>\n",
              "      <td>40.0</td>\n",
              "      <td>92.5</td>\n",
              "      <td>548.0</td>\n",
              "    </tr>\n",
              "    <tr>\n",
              "      <th>CRuns</th>\n",
              "      <td>263.0</td>\n",
              "      <td>361.220532</td>\n",
              "      <td>331.198571</td>\n",
              "      <td>2.0</td>\n",
              "      <td>105.5</td>\n",
              "      <td>250.0</td>\n",
              "      <td>497.5</td>\n",
              "      <td>2165.0</td>\n",
              "    </tr>\n",
              "    <tr>\n",
              "      <th>CRBI</th>\n",
              "      <td>263.0</td>\n",
              "      <td>330.418251</td>\n",
              "      <td>323.367668</td>\n",
              "      <td>3.0</td>\n",
              "      <td>95.0</td>\n",
              "      <td>230.0</td>\n",
              "      <td>424.5</td>\n",
              "      <td>1659.0</td>\n",
              "    </tr>\n",
              "    <tr>\n",
              "      <th>CWalks</th>\n",
              "      <td>263.0</td>\n",
              "      <td>260.266160</td>\n",
              "      <td>264.055868</td>\n",
              "      <td>1.0</td>\n",
              "      <td>71.0</td>\n",
              "      <td>174.0</td>\n",
              "      <td>328.5</td>\n",
              "      <td>1566.0</td>\n",
              "    </tr>\n",
              "    <tr>\n",
              "      <th>PutOuts</th>\n",
              "      <td>263.0</td>\n",
              "      <td>290.711027</td>\n",
              "      <td>279.934575</td>\n",
              "      <td>0.0</td>\n",
              "      <td>113.5</td>\n",
              "      <td>224.0</td>\n",
              "      <td>322.5</td>\n",
              "      <td>1377.0</td>\n",
              "    </tr>\n",
              "    <tr>\n",
              "      <th>Assists</th>\n",
              "      <td>263.0</td>\n",
              "      <td>118.760456</td>\n",
              "      <td>145.080577</td>\n",
              "      <td>0.0</td>\n",
              "      <td>8.0</td>\n",
              "      <td>45.0</td>\n",
              "      <td>192.0</td>\n",
              "      <td>492.0</td>\n",
              "    </tr>\n",
              "    <tr>\n",
              "      <th>Errors</th>\n",
              "      <td>263.0</td>\n",
              "      <td>8.593156</td>\n",
              "      <td>6.606574</td>\n",
              "      <td>0.0</td>\n",
              "      <td>3.0</td>\n",
              "      <td>7.0</td>\n",
              "      <td>13.0</td>\n",
              "      <td>32.0</td>\n",
              "    </tr>\n",
              "    <tr>\n",
              "      <th>Salary</th>\n",
              "      <td>263.0</td>\n",
              "      <td>535.925882</td>\n",
              "      <td>451.118681</td>\n",
              "      <td>67.5</td>\n",
              "      <td>190.0</td>\n",
              "      <td>425.0</td>\n",
              "      <td>750.0</td>\n",
              "      <td>2460.0</td>\n",
              "    </tr>\n",
              "  </tbody>\n",
              "</table>\n",
              "</div>"
            ],
            "text/plain": [
              "         count         mean          std   min    25%     50%     75%      max\n",
              "AtBat    263.0   403.642586   147.307209  19.0  282.5   413.0   526.0    687.0\n",
              "Hits     263.0   107.828897    45.125326   1.0   71.5   103.0   141.5    238.0\n",
              "HmRun    263.0    11.619772     8.757108   0.0    5.0     9.0    18.0     40.0\n",
              "Runs     263.0    54.745247    25.539816   0.0   33.5    52.0    73.0    130.0\n",
              "RBI      263.0    51.486692    25.882714   0.0   30.0    47.0    71.0    121.0\n",
              "Walks    263.0    41.114068    21.718056   0.0   23.0    37.0    57.0    105.0\n",
              "Years    263.0     7.311787     4.793616   1.0    4.0     6.0    10.0     24.0\n",
              "CAtBat   263.0  2657.543726  2286.582929  19.0  842.5  1931.0  3890.5  14053.0\n",
              "CHits    263.0   722.186312   648.199644   4.0  212.0   516.0  1054.0   4256.0\n",
              "CHmRun   263.0    69.239544    82.197581   0.0   15.0    40.0    92.5    548.0\n",
              "CRuns    263.0   361.220532   331.198571   2.0  105.5   250.0   497.5   2165.0\n",
              "CRBI     263.0   330.418251   323.367668   3.0   95.0   230.0   424.5   1659.0\n",
              "CWalks   263.0   260.266160   264.055868   1.0   71.0   174.0   328.5   1566.0\n",
              "PutOuts  263.0   290.711027   279.934575   0.0  113.5   224.0   322.5   1377.0\n",
              "Assists  263.0   118.760456   145.080577   0.0    8.0    45.0   192.0    492.0\n",
              "Errors   263.0     8.593156     6.606574   0.0    3.0     7.0    13.0     32.0\n",
              "Salary   263.0   535.925882   451.118681  67.5  190.0   425.0   750.0   2460.0"
            ]
          },
          "metadata": {
            "tags": []
          },
          "execution_count": 94
        }
      ]
    },
    {
      "cell_type": "code",
      "metadata": {
        "id": "Y7aovu3mOsEZ",
        "colab": {
          "base_uri": "https://localhost:8080/",
          "height": 196
        },
        "outputId": "7ee874cc-df6a-4e2f-f6d1-4efa207ff4d7"
      },
      "source": [
        "dms = pd.get_dummies(df[['League', 'Division', 'NewLeague']])\n",
        "dms.head()"
      ],
      "execution_count": null,
      "outputs": [
        {
          "output_type": "execute_result",
          "data": {
            "text/html": [
              "<div>\n",
              "<style scoped>\n",
              "    .dataframe tbody tr th:only-of-type {\n",
              "        vertical-align: middle;\n",
              "    }\n",
              "\n",
              "    .dataframe tbody tr th {\n",
              "        vertical-align: top;\n",
              "    }\n",
              "\n",
              "    .dataframe thead th {\n",
              "        text-align: right;\n",
              "    }\n",
              "</style>\n",
              "<table border=\"1\" class=\"dataframe\">\n",
              "  <thead>\n",
              "    <tr style=\"text-align: right;\">\n",
              "      <th></th>\n",
              "      <th>League_A</th>\n",
              "      <th>League_N</th>\n",
              "      <th>Division_E</th>\n",
              "      <th>Division_W</th>\n",
              "      <th>NewLeague_A</th>\n",
              "      <th>NewLeague_N</th>\n",
              "    </tr>\n",
              "  </thead>\n",
              "  <tbody>\n",
              "    <tr>\n",
              "      <th>1</th>\n",
              "      <td>0</td>\n",
              "      <td>1</td>\n",
              "      <td>0</td>\n",
              "      <td>1</td>\n",
              "      <td>0</td>\n",
              "      <td>1</td>\n",
              "    </tr>\n",
              "    <tr>\n",
              "      <th>2</th>\n",
              "      <td>1</td>\n",
              "      <td>0</td>\n",
              "      <td>0</td>\n",
              "      <td>1</td>\n",
              "      <td>1</td>\n",
              "      <td>0</td>\n",
              "    </tr>\n",
              "    <tr>\n",
              "      <th>3</th>\n",
              "      <td>0</td>\n",
              "      <td>1</td>\n",
              "      <td>1</td>\n",
              "      <td>0</td>\n",
              "      <td>0</td>\n",
              "      <td>1</td>\n",
              "    </tr>\n",
              "    <tr>\n",
              "      <th>4</th>\n",
              "      <td>0</td>\n",
              "      <td>1</td>\n",
              "      <td>1</td>\n",
              "      <td>0</td>\n",
              "      <td>0</td>\n",
              "      <td>1</td>\n",
              "    </tr>\n",
              "    <tr>\n",
              "      <th>5</th>\n",
              "      <td>1</td>\n",
              "      <td>0</td>\n",
              "      <td>0</td>\n",
              "      <td>1</td>\n",
              "      <td>1</td>\n",
              "      <td>0</td>\n",
              "    </tr>\n",
              "  </tbody>\n",
              "</table>\n",
              "</div>"
            ],
            "text/plain": [
              "   League_A  League_N  Division_E  Division_W  NewLeague_A  NewLeague_N\n",
              "1         0         1           0           1            0            1\n",
              "2         1         0           0           1            1            0\n",
              "3         0         1           1           0            0            1\n",
              "4         0         1           1           0            0            1\n",
              "5         1         0           0           1            1            0"
            ]
          },
          "metadata": {
            "tags": []
          },
          "execution_count": 95
        }
      ]
    },
    {
      "cell_type": "code",
      "metadata": {
        "id": "ujj3xp0nOsEZ"
      },
      "source": [
        "y = df[\"Salary\"]"
      ],
      "execution_count": null,
      "outputs": []
    },
    {
      "cell_type": "code",
      "metadata": {
        "id": "bhmazvUbOsEa"
      },
      "source": [
        "X_ = df.drop([\"Salary\",\"League\",\"Division\",\"NewLeague\"], axis = 1).astype(\"float64\")"
      ],
      "execution_count": null,
      "outputs": []
    },
    {
      "cell_type": "code",
      "metadata": {
        "id": "siczPD5fOsEa",
        "colab": {
          "base_uri": "https://localhost:8080/",
          "height": 216
        },
        "outputId": "fa4ab998-0c87-4af4-b16f-83278ad59253"
      },
      "source": [
        "X_.head()"
      ],
      "execution_count": null,
      "outputs": [
        {
          "output_type": "execute_result",
          "data": {
            "text/html": [
              "<div>\n",
              "<style scoped>\n",
              "    .dataframe tbody tr th:only-of-type {\n",
              "        vertical-align: middle;\n",
              "    }\n",
              "\n",
              "    .dataframe tbody tr th {\n",
              "        vertical-align: top;\n",
              "    }\n",
              "\n",
              "    .dataframe thead th {\n",
              "        text-align: right;\n",
              "    }\n",
              "</style>\n",
              "<table border=\"1\" class=\"dataframe\">\n",
              "  <thead>\n",
              "    <tr style=\"text-align: right;\">\n",
              "      <th></th>\n",
              "      <th>AtBat</th>\n",
              "      <th>Hits</th>\n",
              "      <th>HmRun</th>\n",
              "      <th>Runs</th>\n",
              "      <th>RBI</th>\n",
              "      <th>Walks</th>\n",
              "      <th>Years</th>\n",
              "      <th>CAtBat</th>\n",
              "      <th>CHits</th>\n",
              "      <th>CHmRun</th>\n",
              "      <th>CRuns</th>\n",
              "      <th>CRBI</th>\n",
              "      <th>CWalks</th>\n",
              "      <th>PutOuts</th>\n",
              "      <th>Assists</th>\n",
              "      <th>Errors</th>\n",
              "    </tr>\n",
              "  </thead>\n",
              "  <tbody>\n",
              "    <tr>\n",
              "      <th>1</th>\n",
              "      <td>315.0</td>\n",
              "      <td>81.0</td>\n",
              "      <td>7.0</td>\n",
              "      <td>24.0</td>\n",
              "      <td>38.0</td>\n",
              "      <td>39.0</td>\n",
              "      <td>14.0</td>\n",
              "      <td>3449.0</td>\n",
              "      <td>835.0</td>\n",
              "      <td>69.0</td>\n",
              "      <td>321.0</td>\n",
              "      <td>414.0</td>\n",
              "      <td>375.0</td>\n",
              "      <td>632.0</td>\n",
              "      <td>43.0</td>\n",
              "      <td>10.0</td>\n",
              "    </tr>\n",
              "    <tr>\n",
              "      <th>2</th>\n",
              "      <td>479.0</td>\n",
              "      <td>130.0</td>\n",
              "      <td>18.0</td>\n",
              "      <td>66.0</td>\n",
              "      <td>72.0</td>\n",
              "      <td>76.0</td>\n",
              "      <td>3.0</td>\n",
              "      <td>1624.0</td>\n",
              "      <td>457.0</td>\n",
              "      <td>63.0</td>\n",
              "      <td>224.0</td>\n",
              "      <td>266.0</td>\n",
              "      <td>263.0</td>\n",
              "      <td>880.0</td>\n",
              "      <td>82.0</td>\n",
              "      <td>14.0</td>\n",
              "    </tr>\n",
              "    <tr>\n",
              "      <th>3</th>\n",
              "      <td>496.0</td>\n",
              "      <td>141.0</td>\n",
              "      <td>20.0</td>\n",
              "      <td>65.0</td>\n",
              "      <td>78.0</td>\n",
              "      <td>37.0</td>\n",
              "      <td>11.0</td>\n",
              "      <td>5628.0</td>\n",
              "      <td>1575.0</td>\n",
              "      <td>225.0</td>\n",
              "      <td>828.0</td>\n",
              "      <td>838.0</td>\n",
              "      <td>354.0</td>\n",
              "      <td>200.0</td>\n",
              "      <td>11.0</td>\n",
              "      <td>3.0</td>\n",
              "    </tr>\n",
              "    <tr>\n",
              "      <th>4</th>\n",
              "      <td>321.0</td>\n",
              "      <td>87.0</td>\n",
              "      <td>10.0</td>\n",
              "      <td>39.0</td>\n",
              "      <td>42.0</td>\n",
              "      <td>30.0</td>\n",
              "      <td>2.0</td>\n",
              "      <td>396.0</td>\n",
              "      <td>101.0</td>\n",
              "      <td>12.0</td>\n",
              "      <td>48.0</td>\n",
              "      <td>46.0</td>\n",
              "      <td>33.0</td>\n",
              "      <td>805.0</td>\n",
              "      <td>40.0</td>\n",
              "      <td>4.0</td>\n",
              "    </tr>\n",
              "    <tr>\n",
              "      <th>5</th>\n",
              "      <td>594.0</td>\n",
              "      <td>169.0</td>\n",
              "      <td>4.0</td>\n",
              "      <td>74.0</td>\n",
              "      <td>51.0</td>\n",
              "      <td>35.0</td>\n",
              "      <td>11.0</td>\n",
              "      <td>4408.0</td>\n",
              "      <td>1133.0</td>\n",
              "      <td>19.0</td>\n",
              "      <td>501.0</td>\n",
              "      <td>336.0</td>\n",
              "      <td>194.0</td>\n",
              "      <td>282.0</td>\n",
              "      <td>421.0</td>\n",
              "      <td>25.0</td>\n",
              "    </tr>\n",
              "  </tbody>\n",
              "</table>\n",
              "</div>"
            ],
            "text/plain": [
              "   AtBat   Hits  HmRun  Runs   RBI  ...   CRBI  CWalks  PutOuts  Assists  Errors\n",
              "1  315.0   81.0    7.0  24.0  38.0  ...  414.0   375.0    632.0     43.0    10.0\n",
              "2  479.0  130.0   18.0  66.0  72.0  ...  266.0   263.0    880.0     82.0    14.0\n",
              "3  496.0  141.0   20.0  65.0  78.0  ...  838.0   354.0    200.0     11.0     3.0\n",
              "4  321.0   87.0   10.0  39.0  42.0  ...   46.0    33.0    805.0     40.0     4.0\n",
              "5  594.0  169.0    4.0  74.0  51.0  ...  336.0   194.0    282.0    421.0    25.0\n",
              "\n",
              "[5 rows x 16 columns]"
            ]
          },
          "metadata": {
            "tags": []
          },
          "execution_count": 98
        }
      ]
    },
    {
      "cell_type": "code",
      "metadata": {
        "id": "dzYwmDVwOsEb",
        "colab": {
          "base_uri": "https://localhost:8080/",
          "height": 216
        },
        "outputId": "b8f7aefd-3a53-42fa-e3be-e15583f9014e"
      },
      "source": [
        "X = pd.concat([X_, dms[[\"League_N\", \"Division_W\",\"NewLeague_N\"]]], axis = 1)\n",
        "X.head()"
      ],
      "execution_count": null,
      "outputs": [
        {
          "output_type": "execute_result",
          "data": {
            "text/html": [
              "<div>\n",
              "<style scoped>\n",
              "    .dataframe tbody tr th:only-of-type {\n",
              "        vertical-align: middle;\n",
              "    }\n",
              "\n",
              "    .dataframe tbody tr th {\n",
              "        vertical-align: top;\n",
              "    }\n",
              "\n",
              "    .dataframe thead th {\n",
              "        text-align: right;\n",
              "    }\n",
              "</style>\n",
              "<table border=\"1\" class=\"dataframe\">\n",
              "  <thead>\n",
              "    <tr style=\"text-align: right;\">\n",
              "      <th></th>\n",
              "      <th>AtBat</th>\n",
              "      <th>Hits</th>\n",
              "      <th>HmRun</th>\n",
              "      <th>Runs</th>\n",
              "      <th>RBI</th>\n",
              "      <th>Walks</th>\n",
              "      <th>Years</th>\n",
              "      <th>CAtBat</th>\n",
              "      <th>CHits</th>\n",
              "      <th>CHmRun</th>\n",
              "      <th>CRuns</th>\n",
              "      <th>CRBI</th>\n",
              "      <th>CWalks</th>\n",
              "      <th>PutOuts</th>\n",
              "      <th>Assists</th>\n",
              "      <th>Errors</th>\n",
              "      <th>League_N</th>\n",
              "      <th>Division_W</th>\n",
              "      <th>NewLeague_N</th>\n",
              "    </tr>\n",
              "  </thead>\n",
              "  <tbody>\n",
              "    <tr>\n",
              "      <th>1</th>\n",
              "      <td>315.0</td>\n",
              "      <td>81.0</td>\n",
              "      <td>7.0</td>\n",
              "      <td>24.0</td>\n",
              "      <td>38.0</td>\n",
              "      <td>39.0</td>\n",
              "      <td>14.0</td>\n",
              "      <td>3449.0</td>\n",
              "      <td>835.0</td>\n",
              "      <td>69.0</td>\n",
              "      <td>321.0</td>\n",
              "      <td>414.0</td>\n",
              "      <td>375.0</td>\n",
              "      <td>632.0</td>\n",
              "      <td>43.0</td>\n",
              "      <td>10.0</td>\n",
              "      <td>1</td>\n",
              "      <td>1</td>\n",
              "      <td>1</td>\n",
              "    </tr>\n",
              "    <tr>\n",
              "      <th>2</th>\n",
              "      <td>479.0</td>\n",
              "      <td>130.0</td>\n",
              "      <td>18.0</td>\n",
              "      <td>66.0</td>\n",
              "      <td>72.0</td>\n",
              "      <td>76.0</td>\n",
              "      <td>3.0</td>\n",
              "      <td>1624.0</td>\n",
              "      <td>457.0</td>\n",
              "      <td>63.0</td>\n",
              "      <td>224.0</td>\n",
              "      <td>266.0</td>\n",
              "      <td>263.0</td>\n",
              "      <td>880.0</td>\n",
              "      <td>82.0</td>\n",
              "      <td>14.0</td>\n",
              "      <td>0</td>\n",
              "      <td>1</td>\n",
              "      <td>0</td>\n",
              "    </tr>\n",
              "    <tr>\n",
              "      <th>3</th>\n",
              "      <td>496.0</td>\n",
              "      <td>141.0</td>\n",
              "      <td>20.0</td>\n",
              "      <td>65.0</td>\n",
              "      <td>78.0</td>\n",
              "      <td>37.0</td>\n",
              "      <td>11.0</td>\n",
              "      <td>5628.0</td>\n",
              "      <td>1575.0</td>\n",
              "      <td>225.0</td>\n",
              "      <td>828.0</td>\n",
              "      <td>838.0</td>\n",
              "      <td>354.0</td>\n",
              "      <td>200.0</td>\n",
              "      <td>11.0</td>\n",
              "      <td>3.0</td>\n",
              "      <td>1</td>\n",
              "      <td>0</td>\n",
              "      <td>1</td>\n",
              "    </tr>\n",
              "    <tr>\n",
              "      <th>4</th>\n",
              "      <td>321.0</td>\n",
              "      <td>87.0</td>\n",
              "      <td>10.0</td>\n",
              "      <td>39.0</td>\n",
              "      <td>42.0</td>\n",
              "      <td>30.0</td>\n",
              "      <td>2.0</td>\n",
              "      <td>396.0</td>\n",
              "      <td>101.0</td>\n",
              "      <td>12.0</td>\n",
              "      <td>48.0</td>\n",
              "      <td>46.0</td>\n",
              "      <td>33.0</td>\n",
              "      <td>805.0</td>\n",
              "      <td>40.0</td>\n",
              "      <td>4.0</td>\n",
              "      <td>1</td>\n",
              "      <td>0</td>\n",
              "      <td>1</td>\n",
              "    </tr>\n",
              "    <tr>\n",
              "      <th>5</th>\n",
              "      <td>594.0</td>\n",
              "      <td>169.0</td>\n",
              "      <td>4.0</td>\n",
              "      <td>74.0</td>\n",
              "      <td>51.0</td>\n",
              "      <td>35.0</td>\n",
              "      <td>11.0</td>\n",
              "      <td>4408.0</td>\n",
              "      <td>1133.0</td>\n",
              "      <td>19.0</td>\n",
              "      <td>501.0</td>\n",
              "      <td>336.0</td>\n",
              "      <td>194.0</td>\n",
              "      <td>282.0</td>\n",
              "      <td>421.0</td>\n",
              "      <td>25.0</td>\n",
              "      <td>0</td>\n",
              "      <td>1</td>\n",
              "      <td>0</td>\n",
              "    </tr>\n",
              "  </tbody>\n",
              "</table>\n",
              "</div>"
            ],
            "text/plain": [
              "   AtBat   Hits  HmRun  Runs  ...  Errors  League_N  Division_W  NewLeague_N\n",
              "1  315.0   81.0    7.0  24.0  ...    10.0         1           1            1\n",
              "2  479.0  130.0   18.0  66.0  ...    14.0         0           1            0\n",
              "3  496.0  141.0   20.0  65.0  ...     3.0         1           0            1\n",
              "4  321.0   87.0   10.0  39.0  ...     4.0         1           0            1\n",
              "5  594.0  169.0    4.0  74.0  ...    25.0         0           1            0\n",
              "\n",
              "[5 rows x 19 columns]"
            ]
          },
          "metadata": {
            "tags": []
          },
          "execution_count": 99
        }
      ]
    },
    {
      "cell_type": "code",
      "metadata": {
        "id": "vlBZYp_vOsEb",
        "colab": {
          "base_uri": "https://localhost:8080/"
        },
        "outputId": "694024d7-b9f7-4881-9ecb-cdb99b953ef3"
      },
      "source": [
        "X_train, X_test, y_train, y_test = train_test_split(X, \n",
        "                                                    y, \n",
        "                                                    test_size=0.25, \n",
        "                                                    random_state=42)\n",
        "\n",
        "print(\"X_train\", X_train.shape)\n",
        "\n",
        "print(\"y_train\",y_train.shape)\n",
        "\n",
        "print(\"X_test\",X_test.shape)\n",
        "\n",
        "print(\"y_test\",y_test.shape)\n",
        "\n",
        "training = df.copy()\n",
        "\n",
        "print(\"training\", training.shape)"
      ],
      "execution_count": null,
      "outputs": [
        {
          "output_type": "stream",
          "text": [
            "X_train (197, 19)\n",
            "y_train (197,)\n",
            "X_test (66, 19)\n",
            "y_test (66,)\n",
            "training (263, 20)\n"
          ],
          "name": "stdout"
        }
      ]
    },
    {
      "cell_type": "code",
      "metadata": {
        "id": "R7uVKAseOsEc"
      },
      "source": [
        "from sklearn.decomposition import PCA\n",
        "from sklearn.preprocessing import scale \n",
        "pca = PCA()"
      ],
      "execution_count": null,
      "outputs": []
    },
    {
      "cell_type": "code",
      "metadata": {
        "id": "bHeyZF2LOsEc"
      },
      "source": [
        "X_reduced_train = pca.fit_transform(scale(X_train))"
      ],
      "execution_count": null,
      "outputs": []
    },
    {
      "cell_type": "code",
      "metadata": {
        "id": "bV5V23y_OsEc",
        "colab": {
          "base_uri": "https://localhost:8080/"
        },
        "outputId": "83c15fb5-eba5-4bc2-c93d-c4d3a1224567"
      },
      "source": [
        "X_reduced_train[0:1,:]"
      ],
      "execution_count": null,
      "outputs": [
        {
          "output_type": "execute_result",
          "data": {
            "text/plain": [
              "array([[-2.49569913e+00, -3.37762397e-01,  7.06391950e-01,\n",
              "        -1.32791025e+00, -8.21824333e-01, -6.62790677e-01,\n",
              "        -6.56764789e-01,  3.68093279e-02, -2.03665105e-01,\n",
              "         1.76134815e-01, -9.20131987e-02,  2.40129020e-01,\n",
              "        -3.60473661e-03, -3.41246327e-02,  4.32799605e-02,\n",
              "         1.02996923e-01,  3.70733348e-03,  1.37933445e-03,\n",
              "        -6.63814471e-03]])"
            ]
          },
          "metadata": {
            "tags": []
          },
          "execution_count": 103
        }
      ]
    },
    {
      "cell_type": "code",
      "metadata": {
        "id": "biXXVcgtOsEd",
        "colab": {
          "base_uri": "https://localhost:8080/"
        },
        "outputId": "90ec6a8c-853b-46ee-bbb1-d3b87cd6a491"
      },
      "source": [
        "#Varyanslaral veriyi kümülatif şekilde açıklama oranları\n",
        "np.cumsum(np.round(pca.explained_variance_ratio_, decimals = 4)*100)[0:5]"
      ],
      "execution_count": null,
      "outputs": [
        {
          "output_type": "execute_result",
          "data": {
            "text/plain": [
              "array([38.18, 59.88, 70.88, 78.88, 84.18])"
            ]
          },
          "metadata": {
            "tags": []
          },
          "execution_count": 104
        }
      ]
    },
    {
      "cell_type": "code",
      "metadata": {
        "id": "cN8lIYp3OsEd"
      },
      "source": [
        "lm = LinearRegression()"
      ],
      "execution_count": null,
      "outputs": []
    },
    {
      "cell_type": "code",
      "metadata": {
        "id": "zlIMJqk1OsEe"
      },
      "source": [
        "pcr_model = lm.fit(X_reduced_train, y_train)"
      ],
      "execution_count": null,
      "outputs": []
    },
    {
      "cell_type": "code",
      "metadata": {
        "id": "RphxBN3MOsEe",
        "colab": {
          "base_uri": "https://localhost:8080/"
        },
        "outputId": "8ad60bc1-e168-4360-e862-bf36b2cc6f4f"
      },
      "source": [
        "pcr_model.intercept_"
      ],
      "execution_count": null,
      "outputs": [
        {
          "output_type": "execute_result",
          "data": {
            "text/plain": [
              "543.4834416243655"
            ]
          },
          "metadata": {
            "tags": []
          },
          "execution_count": 107
        }
      ]
    },
    {
      "cell_type": "code",
      "metadata": {
        "id": "E1MV6Ur5OsEm",
        "colab": {
          "base_uri": "https://localhost:8080/"
        },
        "outputId": "71d192df-c771-4b30-9b03-3b9e46b79689"
      },
      "source": [
        "pcr_model.coef_"
      ],
      "execution_count": null,
      "outputs": [
        {
          "output_type": "execute_result",
          "data": {
            "text/plain": [
              "array([ 111.13977427,  -29.34209502,   26.29799759,  -38.47549852,\n",
              "        -56.9200785 ,   54.44779423,   40.77493384,  -23.72746012,\n",
              "          9.31198164,   13.02031672,   45.58357748,   31.97791627,\n",
              "         18.93930958, -115.60940171,   24.00382778,  415.70806202,\n",
              "       -449.51779543,  563.07375399,  302.53718462])"
            ]
          },
          "metadata": {
            "tags": []
          },
          "execution_count": 108
        }
      ]
    },
    {
      "cell_type": "markdown",
      "metadata": {
        "id": "hgsoHlXvOsEn"
      },
      "source": [
        "## Tahmin"
      ]
    },
    {
      "cell_type": "code",
      "metadata": {
        "id": "iqc4bYsCOsEn"
      },
      "source": [
        "y_pred = pcr_model.predict(X_reduced_train)"
      ],
      "execution_count": null,
      "outputs": []
    },
    {
      "cell_type": "code",
      "metadata": {
        "id": "nEACgVRIOsEn",
        "colab": {
          "base_uri": "https://localhost:8080/"
        },
        "outputId": "8b35f8a5-b838-4216-ad0d-818474882e51"
      },
      "source": [
        "y_pred[0:5]"
      ],
      "execution_count": null,
      "outputs": [
        {
          "output_type": "execute_result",
          "data": {
            "text/plain": [
              "array([377.44484744, 802.19452124, 495.60987745, 112.53177731,\n",
              "       426.21613066])"
            ]
          },
          "metadata": {
            "tags": []
          },
          "execution_count": 110
        }
      ]
    },
    {
      "cell_type": "code",
      "metadata": {
        "id": "C9rMyiivOsEo",
        "colab": {
          "base_uri": "https://localhost:8080/"
        },
        "outputId": "605f92a5-905e-4c6f-ab80-e1ffe5c27806"
      },
      "source": [
        "np.sqrt(mean_squared_error(y_train, y_pred))"
      ],
      "execution_count": null,
      "outputs": [
        {
          "output_type": "execute_result",
          "data": {
            "text/plain": [
              "289.3292825564976"
            ]
          },
          "metadata": {
            "tags": []
          },
          "execution_count": 111
        }
      ]
    },
    {
      "cell_type": "code",
      "metadata": {
        "id": "D13TUHWzOsEo",
        "colab": {
          "base_uri": "https://localhost:8080/"
        },
        "outputId": "42a7e592-7dab-450a-86e4-5ca50371c2ae"
      },
      "source": [
        "df[\"Salary\"].mean()"
      ],
      "execution_count": null,
      "outputs": [
        {
          "output_type": "execute_result",
          "data": {
            "text/plain": [
              "535.9258821292775"
            ]
          },
          "metadata": {
            "tags": []
          },
          "execution_count": 112
        }
      ]
    },
    {
      "cell_type": "code",
      "metadata": {
        "id": "Bpb5g8efOsEp",
        "colab": {
          "base_uri": "https://localhost:8080/"
        },
        "outputId": "d5380c08-bb22-42a0-85f5-5943c5a5a955"
      },
      "source": [
        "r2_score(y_train, y_pred)"
      ],
      "execution_count": null,
      "outputs": [
        {
          "output_type": "execute_result",
          "data": {
            "text/plain": [
              "0.5770075250410179"
            ]
          },
          "metadata": {
            "tags": []
          },
          "execution_count": 113
        }
      ]
    },
    {
      "cell_type": "code",
      "metadata": {
        "id": "AvR-ysV8OsEp"
      },
      "source": [
        "pca2 = PCA()"
      ],
      "execution_count": null,
      "outputs": []
    },
    {
      "cell_type": "code",
      "metadata": {
        "id": "NWOZ0LfwOsEp"
      },
      "source": [
        "X_reduced_test = pca2.fit_transform(scale(X_test))"
      ],
      "execution_count": null,
      "outputs": []
    },
    {
      "cell_type": "code",
      "metadata": {
        "id": "ZHE85ToFOsEq"
      },
      "source": [
        "y_pred = pcr_model.predict(X_reduced_test)"
      ],
      "execution_count": null,
      "outputs": []
    },
    {
      "cell_type": "code",
      "metadata": {
        "id": "4yrcdbMZOsEq",
        "colab": {
          "base_uri": "https://localhost:8080/"
        },
        "outputId": "aade554b-59b2-476c-d081-d22aac9ac208"
      },
      "source": [
        "np.sqrt(mean_squared_error(y_test, y_pred))"
      ],
      "execution_count": null,
      "outputs": [
        {
          "output_type": "execute_result",
          "data": {
            "text/plain": [
              "405.1575364149963"
            ]
          },
          "metadata": {
            "tags": []
          },
          "execution_count": 117
        }
      ]
    },
    {
      "cell_type": "markdown",
      "metadata": {
        "id": "kFf0VVu3OsEr"
      },
      "source": [
        "## Model Tuning"
      ]
    },
    {
      "cell_type": "code",
      "metadata": {
        "id": "HR_i2pe3OsEr",
        "colab": {
          "base_uri": "https://localhost:8080/"
        },
        "outputId": "24d74048-7c62-4926-f6a5-cf9c58b02390"
      },
      "source": [
        "lm = LinearRegression()\n",
        "pcr_model = lm.fit(X_reduced_train[:,0:10], y_train)\n",
        "y_pred = pcr_model.predict(X_reduced_test[:,0:10])\n",
        "print(np.sqrt(mean_squared_error(y_test, y_pred)))"
      ],
      "execution_count": null,
      "outputs": [
        {
          "output_type": "stream",
          "text": [
            "390.79142556822234\n"
          ],
          "name": "stdout"
        }
      ]
    },
    {
      "cell_type": "code",
      "metadata": {
        "id": "J4Iv1MsIOsEr"
      },
      "source": [
        "from sklearn import model_selection"
      ],
      "execution_count": null,
      "outputs": []
    },
    {
      "cell_type": "code",
      "metadata": {
        "id": "LyKkmo5LOsEs"
      },
      "source": [
        "cv_10 = model_selection.KFold(n_splits = 10,\n",
        "                             shuffle = True,\n",
        "                             random_state = 1)"
      ],
      "execution_count": null,
      "outputs": []
    },
    {
      "cell_type": "code",
      "metadata": {
        "id": "uvDmxjWGOsEs"
      },
      "source": [
        "lm = LinearRegression()"
      ],
      "execution_count": null,
      "outputs": []
    },
    {
      "cell_type": "code",
      "metadata": {
        "id": "CU7fnrgCOsEt"
      },
      "source": [
        "RMSE = []"
      ],
      "execution_count": null,
      "outputs": []
    },
    {
      "cell_type": "code",
      "metadata": {
        "id": "Tm79zVYqOsEu"
      },
      "source": [
        "for i in np.arange(1, X_reduced_train.shape[1] + 1):\n",
        "    \n",
        "    score = np.sqrt(-1*model_selection.cross_val_score(lm, \n",
        "                                                       X_reduced_train[:,:i], \n",
        "                                                       y_train.ravel(), \n",
        "                                                       cv=cv_10, \n",
        "                                                       scoring='neg_mean_squared_error').mean())\n",
        "    RMSE.append(score)"
      ],
      "execution_count": null,
      "outputs": []
    },
    {
      "cell_type": "code",
      "metadata": {
        "id": "Z7m-jDC3OsEw",
        "colab": {
          "base_uri": "https://localhost:8080/",
          "height": 296
        },
        "outputId": "060d9cbc-d4be-4d44-d160-1b15a9527b75"
      },
      "source": [
        "plt.plot(RMSE, '-v')\n",
        "plt.xlabel('Bileşen Sayısı')\n",
        "plt.ylabel('RMSE')\n",
        "plt.title('Maaş Tahmin Modeli İçin PCR Model Tuning');"
      ],
      "execution_count": null,
      "outputs": [
        {
          "output_type": "display_data",
          "data": {
            "image/png": "[encoded data removed]",
            "text/plain": [
              "<Figure size 432x288 with 1 Axes>"
            ]
          },
          "metadata": {
            "tags": [],
            "needs_background": "light"
          }
        }
      ]
    },
    {
      "cell_type": "code",
      "metadata": {
        "id": "XF5QmwIrOsEw"
      },
      "source": [
        "lm = LinearRegression()"
      ],
      "execution_count": null,
      "outputs": []
    },
    {
      "cell_type": "code",
      "metadata": {
        "id": "u1PjYg7gOsEw"
      },
      "source": [
        "pcr_model = lm.fit(X_reduced_train[:,0:6], y_train)"
      ],
      "execution_count": null,
      "outputs": []
    },
    {
      "cell_type": "code",
      "metadata": {
        "id": "2jQmru1UOsEx"
      },
      "source": [
        "y_pred = pcr_model.predict(X_reduced_train[:,0:6])"
      ],
      "execution_count": null,
      "outputs": []
    },
    {
      "cell_type": "code",
      "metadata": {
        "id": "d4KcbonYOsEx"
      },
      "source": [
        "print(np.sqrt(mean_squared_error(y_train, y_pred)))"
      ],
      "execution_count": null,
      "outputs": []
    },
    {
      "cell_type": "code",
      "metadata": {
        "id": "LoTcZOolOsEy"
      },
      "source": [
        "y_pred = pcr_model.predict(X_reduced_test[:,0:6])"
      ],
      "execution_count": null,
      "outputs": []
    },
    {
      "cell_type": "code",
      "metadata": {
        "id": "E9rPIKiuOsEy",
        "colab": {
          "base_uri": "https://localhost:8080/"
        },
        "outputId": "78712d10-62ea-4ace-aeb4-5a371b488fb6"
      },
      "source": [
        "print(np.sqrt(mean_squared_error(y_test, y_pred)))"
      ],
      "execution_count": null,
      "outputs": [
        {
          "output_type": "stream",
          "text": [
            "393.11987000962233\n"
          ],
          "name": "stdout"
        }
      ]
    },
    {
      "cell_type": "markdown",
      "metadata": {
        "id": "xXgzUDOYOsEy"
      },
      "source": [
        "# PLS"
      ]
    },
    {
      "cell_type": "markdown",
      "metadata": {
        "id": "0vzGpryEOsEz"
      },
      "source": [
        "## Model"
      ]
    },
    {
      "cell_type": "code",
      "metadata": {
        "colab": {
          "resources": {
            "http://localhost:8080/nbextensions/google.colab/files.js": {
              "data": "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",
              "ok": true,
              "headers": [
                [
                  "content-type",
                  "application/javascript"
                ]
              ],
              "status": 200,
              "status_text": ""
            }
          },
          "base_uri": "https://localhost:8080/",
          "height": 109
        },
        "id": "MbY8LGaaIUbu",
        "outputId": "699e6c4e-1bdf-4077-d37d-58066d409bdb"
      },
      "source": [
        "from google.colab import files\n",
        "files.upload()"
      ],
      "execution_count": null,
      "outputs": [
        {
          "output_type": "display_data",
          "data": {
            "text/html": [
              "\n",
              "     <input type=\"file\" id=\"files-e104ec07-dda2-43ae-98b1-252a815f96fc\" name=\"files[]\" multiple disabled\n",
              "        style=\"border:none\" />\n",
              "     <output id=\"result-e104ec07-dda2-43ae-98b1-252a815f96fc\">\n",
              "      Upload widget is only available when the cell has been executed in the\n",
              "      current browser session. Please rerun this cell to enable.\n",
              "      </output>\n",
              "      <script src=\"/nbextensions/google.colab/files.js\"></script> "
            ],
            "text/plain": [
              "<IPython.core.display.HTML object>"
            ]
          },
          "metadata": {
            "tags": []
          }
        },
        {
          "output_type": "stream",
          "text": [
            "Saving Hitters.csv to Hitters.csv\n"
          ],
          "name": "stdout"
        },
        {
          "output_type": "execute_result",
          "data": {
            "text/plain": [
              "{'Hitters.csv': b'AtBat,Hits,HmRun,Runs,RBI,Walks,Years,CAtBat,CHits,CHmRun,CRuns,CRBI,CWalks,League,Division,PutOuts,Assists,Errors,Salary,NewLeague\\r\\n293,66,1,30,29,14,1,293,66,1,30,29,14,A,E,446,33,20,NA,A\\r\\n315,81,7,24,38,39,14,3449,835,69,321,414,375,N,W,632,43,10,475,N\\r\\n479,130,18,66,72,76,3,1624,457,63,224,266,263,A,W,880,82,14,480,A\\r\\n496,141,20,65,78,37,11,5628,1575,225,828,838,354,N,E,200,11,3,500,N\\r\\n321,87,10,39,42,30,2,396,101,12,48,46,33,N,E,805,40,4,91.5,N\\r\\n594,169,4,74,51,35,11,4408,1133,19,501,336,194,A,W,282,421,25,750,A\\r\\n185,37,1,23,8,21,2,214,42,1,30,9,24,N,E,76,127,7,70,A\\r\\n298,73,0,24,24,7,3,509,108,0,41,37,12,A,W,121,283,9,100,A\\r\\n323,81,6,26,32,8,2,341,86,6,32,34,8,N,W,143,290,19,75,N\\r\\n401,92,17,49,66,65,13,5206,1332,253,784,890,866,A,E,0,0,0,1100,A\\r\\n574,159,21,107,75,59,10,4631,1300,90,702,504,488,A,E,238,445,22,517.143,A\\r\\n202,53,4,31,26,27,9,1876,467,15,192,186,161,N,W,304,45,11,512.5,N\\r\\n418,113,13,48,61,47,4,1512,392,41,205,204,203,N,E,211,11,7,550,N\\r\\n239,60,0,30,11,22,6,1941,510,4,309,103,207,A,E,121,151,6,700,A\\r\\n196,43,7,29,27,30,13,3231,825,36,376,290,238,N,E,80,45,8,240,N\\r\\n183,39,3,20,15,11,3,201,42,3,20,16,11,A,W,118,0,0,NA,A\\r\\n568,158,20,89,75,73,15,8068,2273,177,1045,993,732,N,W,105,290,10,775,N\\r\\n190,46,2,24,8,15,5,479,102,5,65,23,39,A,W,102,177,16,175,A\\r\\n407,104,6,57,43,65,12,5233,1478,100,643,658,653,A,W,912,88,9,NA,A\\r\\n127,32,8,16,22,14,8,727,180,24,67,82,56,N,W,202,22,2,135,N\\r\\n413,92,16,72,48,65,1,413,92,16,72,48,65,N,E,280,9,5,100,N\\r\\n426,109,3,55,43,62,1,426,109,3,55,43,62,A,W,361,22,2,115,N\\r\\n22,10,1,4,2,1,6,84,26,2,9,9,3,A,W,812,84,11,NA,A\\r\\n472,116,16,60,62,74,6,1924,489,67,242,251,240,N,W,518,55,3,600,N\\r\\n629,168,18,73,102,40,18,8424,2464,164,1008,1072,402,A,E,1067,157,14,776.667,A\\r\\n587,163,4,92,51,70,6,2695,747,17,442,198,317,A,E,434,9,3,765,A\\r\\n324,73,4,32,18,22,7,1931,491,13,291,108,180,N,E,222,3,3,708.333,N\\r\\n474,129,10,50,56,40,10,2331,604,61,246,327,166,N,W,732,83,13,750,N\\r\\n550,152,6,92,37,81,5,2308,633,32,349,182,308,N,W,262,329,16,625,N\\r\\n513,137,20,90,95,90,14,5201,1382,166,763,734,784,A,W,267,5,3,900,A\\r\\n313,84,9,42,30,39,17,6890,1833,224,1033,864,1087,A,W,127,221,7,NA,A\\r\\n419,108,6,55,36,22,3,591,149,8,80,46,31,N,W,226,7,4,110,N\\r\\n517,141,27,70,87,52,9,3571,994,215,545,652,337,N,W,1378,102,8,NA,N\\r\\n583,168,17,83,80,56,5,1646,452,44,219,208,136,A,E,109,292,25,612.5,A\\r\\n204,49,6,23,25,12,7,1309,308,27,126,132,66,A,W,419,46,5,300,A\\r\\n379,106,10,38,60,30,14,6207,1906,146,859,803,571,N,W,72,170,24,850,N\\r\\n161,36,0,19,10,17,4,1053,244,3,156,86,107,A,E,70,149,12,NA,A\\r\\n268,60,5,24,25,15,2,350,78,5,34,29,18,N,W,442,59,6,90,N\\r\\n346,98,5,31,53,30,16,5913,1615,235,784,901,560,A,E,0,0,0,NA,A\\r\\n241,61,1,34,12,14,1,241,61,1,34,12,14,N,W,166,172,10,NA,N\\r\\n181,41,1,15,21,33,2,232,50,4,20,29,45,A,E,326,29,5,67.5,A\\r\\n216,54,0,21,18,15,18,7318,1926,46,796,627,483,N,W,103,84,5,NA,N\\r\\n200,57,6,23,14,14,9,2516,684,46,371,230,195,N,W,69,1,1,NA,N\\r\\n217,46,7,32,19,9,4,694,160,32,86,76,32,A,E,307,25,1,180,A\\r\\n194,40,7,19,29,30,11,4183,1069,64,486,493,608,A,E,325,22,2,NA,A\\r\\n254,68,2,28,26,22,6,999,236,21,108,117,118,A,E,359,30,4,305,A\\r\\n416,132,7,57,49,33,3,932,273,24,113,121,80,N,W,73,177,18,215,N\\r\\n205,57,8,34,32,9,5,756,192,32,117,107,51,A,E,58,4,4,247.5,A\\r\\n542,140,12,46,75,41,16,7099,2130,235,987,1089,431,A,E,697,61,9,NA,A\\r\\n526,146,13,71,70,84,6,2648,715,77,352,342,289,N,W,303,9,9,815,N\\r\\n457,101,14,42,63,22,17,6521,1767,281,1003,977,619,A,W,389,39,4,875,A\\r\\n214,53,2,30,29,23,2,226,59,2,32,32,27,N,E,109,7,3,70,N\\r\\n19,7,0,1,2,1,4,41,13,1,3,4,4,A,E,0,0,0,NA,A\\r\\n591,168,19,80,72,39,9,4478,1307,113,634,563,319,A,W,67,147,4,1200,A\\r\\n403,101,12,45,53,39,12,5150,1429,166,747,666,526,A,E,316,6,5,675,A\\r\\n405,102,18,49,85,20,6,950,231,29,99,138,64,N,W,161,10,3,415,N\\r\\n244,58,9,28,25,35,4,1335,333,49,164,179,194,N,W,142,14,2,340,N\\r\\n235,61,3,24,39,21,14,3926,1029,35,441,401,333,A,E,425,43,4,NA,A\\r\\n313,78,6,32,41,12,12,3742,968,35,409,321,170,N,W,106,206,7,416.667,N\\r\\n627,177,25,98,81,70,6,3210,927,133,529,472,313,A,E,240,482,13,1350,A\\r\\n416,113,24,58,69,16,1,416,113,24,58,69,16,A,E,203,70,10,90,A\\r\\n155,44,6,21,23,15,16,6631,1634,98,698,661,777,N,E,53,88,3,275,N\\r\\n236,56,0,27,15,11,4,1115,270,1,116,64,57,A,W,125,199,13,230,A\\r\\n216,53,1,31,15,22,4,926,210,9,118,69,114,N,W,73,152,11,225,N\\r\\n24,3,0,1,0,2,3,159,28,0,20,12,9,A,W,80,4,0,NA,A\\r\\n585,139,31,93,94,62,17,7546,1982,315,1141,1179,727,A,E,0,0,0,950,A\\r\\n191,37,4,12,17,14,4,773,163,16,61,74,52,N,E,391,38,8,NA,N\\r\\n199,53,5,29,22,21,3,514,120,8,57,40,39,A,W,152,3,5,75,A\\r\\n521,142,20,67,86,45,4,815,205,22,99,103,78,A,E,107,242,23,105,A\\r\\n419,113,1,44,27,44,12,4484,1231,32,612,344,422,A,E,211,2,1,NA,A\\r\\n311,81,3,42,30,26,17,8247,2198,100,950,909,690,N,W,153,223,10,320,N\\r\\n138,31,8,18,21,38,3,244,53,12,33,32,55,N,E,244,21,4,NA,N\\r\\n512,131,26,69,96,52,14,5347,1397,221,712,815,548,A,W,119,216,12,850,A\\r\\n507,122,29,78,85,91,18,7761,1947,347,1175,1152,1380,A,E,808,108,2,535,A\\r\\n529,137,26,86,97,97,15,6661,1785,291,1082,949,989,A,E,280,10,5,933.333,A\\r\\n424,119,6,57,46,13,9,3651,1046,32,461,301,112,A,E,224,286,8,850,N\\r\\n351,97,4,55,29,39,4,1258,353,16,196,110,117,N,W,226,7,3,210,A\\r\\n195,55,5,24,33,30,8,1313,338,25,144,149,153,N,E,83,2,1,NA,N\\r\\n388,103,15,59,47,39,6,2174,555,80,285,274,186,A,W,182,9,4,325,A\\r\\n339,96,4,37,29,23,4,1064,290,11,123,108,55,A,W,104,213,9,275,A\\r\\n561,118,35,70,94,33,16,6677,1575,442,901,1210,608,A,W,463,32,8,NA,A\\r\\n255,70,7,49,35,43,15,6311,1661,154,1019,608,820,N,E,51,54,8,450,N\\r\\n677,238,31,117,113,53,5,2223,737,93,349,401,171,A,E,1377,100,6,1975,A\\r\\n227,46,7,23,20,12,5,1325,324,44,156,158,67,A,W,92,2,2,NA,A\\r\\n614,163,29,89,83,75,11,5017,1388,266,813,822,617,N,W,303,6,6,1900,N\\r\\n329,83,9,50,39,56,9,3828,948,145,575,528,635,A,W,276,6,2,600,A\\r\\n637,174,31,89,116,56,14,6727,2024,247,978,1093,495,N,W,278,9,9,1041.667,N\\r\\n280,82,16,44,45,47,2,428,113,25,61,70,63,A,E,148,4,2,110,A\\r\\n155,41,12,21,29,22,16,5409,1338,181,746,805,875,A,W,165,9,1,260,A\\r\\n458,114,13,67,57,48,4,1350,298,28,160,123,122,A,W,246,389,18,475,A\\r\\n314,83,13,39,46,16,5,1457,405,28,156,159,76,A,W,533,40,4,431.5,A\\r\\n475,123,27,76,93,72,4,1810,471,108,292,343,267,N,E,226,10,6,1220,N\\r\\n317,78,7,35,35,32,1,317,78,7,35,35,32,A,E,45,122,26,70,A\\r\\n511,138,25,76,96,61,3,592,164,28,87,110,71,A,W,157,7,8,145,A\\r\\n278,69,3,24,21,29,8,2079,565,32,258,192,162,N,W,142,210,10,NA,N\\r\\n382,119,13,54,58,36,12,2133,594,41,287,294,227,N,W,59,156,9,595,N\\r\\n565,148,24,90,104,77,14,7287,2083,305,1135,1234,791,A,E,292,9,5,1861.46,A\\r\\n277,71,2,27,29,14,15,5952,1647,60,753,596,259,N,W,360,32,5,NA,N\\r\\n415,115,27,97,71,68,3,711,184,45,156,119,99,N,W,274,2,7,300,N\\r\\n424,110,15,70,47,36,7,2130,544,38,335,174,258,N,W,292,6,3,490,N\\r\\n495,151,17,61,84,78,10,5624,1679,275,884,1015,709,A,E,1045,88,13,2460,A\\r\\n524,132,9,69,47,54,2,972,260,14,123,92,90,A,E,212,327,20,NA,A\\r\\n233,49,2,41,23,18,8,1350,336,7,166,122,106,A,E,102,132,10,375,A\\r\\n395,106,16,48,56,35,10,2303,571,86,266,323,248,A,E,709,41,7,NA,A\\r\\n397,114,23,67,67,53,13,5589,1632,241,906,926,716,A,E,244,2,4,NA,A\\r\\n210,37,8,15,19,15,6,994,244,36,107,114,53,A,E,40,115,15,NA,A\\r\\n420,95,23,55,58,37,3,646,139,31,77,77,61,N,W,206,10,7,NA,N\\r\\n566,154,22,76,84,43,14,6100,1583,131,743,693,300,A,W,316,439,10,750,A\\r\\n641,198,31,101,108,41,5,2129,610,92,297,319,117,A,E,269,17,10,1175,A\\r\\n215,51,4,19,18,11,1,215,51,4,19,18,11,A,E,116,5,12,70,A\\r\\n441,128,16,70,73,80,14,6675,2095,209,1072,1050,695,A,W,97,218,16,1500,A\\r\\n325,76,16,33,52,37,5,1506,351,71,195,219,214,N,W,726,87,3,385,A\\r\\n490,125,24,81,105,62,13,6063,1646,271,847,999,680,N,E,869,62,8,1925.571,N\\r\\n574,152,31,91,101,64,3,985,260,53,148,173,95,N,W,1253,111,11,215,N\\r\\n284,64,14,30,42,24,18,7023,1925,348,986,1239,666,N,E,96,4,4,NA,N\\r\\n596,171,34,91,108,52,6,2862,728,107,361,401,224,A,W,118,334,21,900,A\\r\\n472,118,12,63,54,30,4,793,187,14,102,80,50,A,W,228,377,26,155,A\\r\\n283,77,14,45,47,26,16,6840,1910,259,915,1067,546,A,W,144,6,5,700,A\\r\\n408,94,4,42,36,66,9,3573,866,59,429,365,410,N,W,282,487,19,535,N\\r\\n327,85,3,30,44,20,8,2140,568,16,216,208,93,A,E,91,185,12,362.5,A\\r\\n370,96,21,49,46,60,15,6986,1972,231,1070,955,921,N,E,137,5,9,733.333,N\\r\\n354,77,16,36,55,41,20,8716,2172,384,1172,1267,1057,N,W,83,174,16,200,N\\r\\n539,139,5,93,58,69,5,1469,369,12,247,126,198,A,W,462,9,7,400,A\\r\\n340,84,11,62,33,47,5,1516,376,42,284,141,219,N,E,185,8,4,400,A\\r\\n510,126,2,42,44,35,11,5562,1578,44,703,519,256,N,W,207,358,20,737.5,N\\r\\n315,59,16,45,36,58,13,4677,1051,268,681,782,697,A,W,0,0,0,NA,A\\r\\n282,78,13,37,51,29,5,1649,453,73,211,280,138,A,W,670,57,5,500,A\\r\\n380,120,5,54,51,31,8,3118,900,92,444,419,240,A,W,237,8,1,600,A\\r\\n584,158,15,70,84,42,5,2358,636,58,265,316,134,N,E,331,20,4,662.5,N\\r\\n570,169,21,72,88,38,7,3754,1077,140,492,589,263,A,W,295,15,5,950,A\\r\\n306,104,14,50,58,25,7,2954,822,55,313,377,187,N,E,116,222,15,750,N\\r\\n220,54,10,30,39,31,5,1185,299,40,145,154,128,N,E,50,136,20,297.5,N\\r\\n278,70,7,22,37,18,18,7186,2081,190,935,1088,643,A,W,0,0,0,325,A\\r\\n445,99,1,46,24,29,4,618,129,1,72,31,48,A,W,278,415,16,87.5,A\\r\\n143,39,5,18,30,15,9,639,151,16,80,97,61,N,W,138,15,1,175,N\\r\\n185,40,4,23,11,18,3,524,125,7,58,37,47,N,E,97,2,2,90,N\\r\\n589,170,40,107,108,69,6,2325,634,128,371,376,238,A,E,368,20,3,1237.5,A\\r\\n343,103,6,48,36,40,15,4338,1193,70,581,421,325,A,E,211,56,13,430,A\\r\\n284,69,1,33,18,25,5,1407,361,6,139,98,111,A,E,122,140,5,NA,N\\r\\n438,103,2,65,32,71,2,440,103,2,67,32,71,A,W,276,7,9,100,N\\r\\n600,144,33,85,117,65,2,696,173,38,101,130,69,A,W,319,4,14,165,A\\r\\n663,200,29,108,121,32,4,1447,404,57,210,222,68,A,E,241,8,6,250,A\\r\\n232,55,9,34,23,45,12,4405,1213,194,702,705,625,N,E,623,35,3,1300,N\\r\\n479,133,10,48,72,55,17,7472,2147,153,980,1032,854,N,W,237,5,4,773.333,N\\r\\n209,45,0,38,19,42,10,3859,916,23,557,279,478,A,W,132,205,5,NA,A\\r\\n528,132,21,61,74,41,6,2641,671,97,273,383,226,N,E,885,105,8,1008.333,N\\r\\n160,39,8,18,31,22,14,2128,543,56,304,268,298,A,E,33,3,0,275,A\\r\\n599,183,10,80,74,32,5,2482,715,27,330,326,158,A,E,231,374,18,775,A\\r\\n497,136,7,58,38,26,11,3871,1066,40,450,367,241,A,E,304,347,10,850,A\\r\\n210,70,13,32,51,28,15,4040,1130,97,544,462,551,A,E,0,0,0,365,A\\r\\n225,61,5,32,26,26,11,1568,408,25,202,185,257,A,W,132,9,0,NA,A\\r\\n151,41,4,26,21,19,2,288,68,9,45,39,35,A,W,28,56,2,95,A\\r\\n278,86,4,33,38,45,1,278,86,4,33,38,45,N,W,102,4,2,110,N\\r\\n341,95,6,48,42,20,10,2964,808,81,379,428,221,N,W,158,4,5,100,N\\r\\n537,147,23,58,88,47,10,2744,730,97,302,351,174,N,E,92,257,20,277.5,N\\r\\n399,102,3,56,34,34,5,670,167,4,89,48,54,A,W,211,9,3,80,A\\r\\n309,94,5,37,32,26,13,4618,1330,57,616,522,436,N,E,161,3,3,600,N\\r\\n401,100,2,60,19,28,4,876,238,2,126,44,55,N,E,193,11,4,NA,N\\r\\n336,93,9,35,46,23,15,5779,1610,128,730,741,497,A,W,0,0,0,NA,A\\r\\n616,163,27,83,107,32,3,1437,377,65,181,227,82,A,W,110,308,15,200,A\\r\\n219,47,8,24,26,17,12,1188,286,23,100,125,63,A,W,260,58,4,NA,A\\r\\n579,174,7,67,78,58,6,3053,880,32,366,337,218,N,E,280,479,5,657,N\\r\\n165,39,2,13,9,16,3,196,44,2,18,10,18,A,W,332,19,2,75,N\\r\\n618,200,20,98,110,62,13,7127,2163,351,1104,1289,564,A,E,330,16,8,2412.5,A\\r\\n257,66,5,31,26,32,14,3910,979,33,518,324,382,N,W,87,166,14,250,A\\r\\n315,76,13,35,60,25,3,630,151,24,68,94,55,N,E,498,39,13,155,N\\r\\n591,157,16,90,78,26,4,2020,541,52,310,226,91,N,E,290,440,25,640,N\\r\\n404,92,11,54,49,18,6,1354,325,30,188,135,63,A,E,222,5,5,300,A\\r\\n315,73,5,23,37,16,4,450,108,6,38,46,28,A,W,227,15,3,110,A\\r\\n249,69,6,32,19,20,4,702,209,10,97,48,44,N,E,103,8,2,NA,N\\r\\n429,91,12,41,42,57,13,5590,1397,83,578,579,644,A,W,686,46,4,825,N\\r\\n212,54,13,28,44,18,2,233,59,13,31,46,20,A,E,243,23,5,NA,A\\r\\n453,101,3,46,43,61,3,948,218,6,96,72,91,N,W,249,444,16,195,N\\r\\n161,43,4,17,26,22,3,707,179,21,77,99,76,A,W,300,12,2,NA,A\\r\\n184,47,5,20,28,18,11,3327,890,74,419,382,304,N,W,49,2,0,450,N\\r\\n591,184,20,83,79,38,5,1689,462,40,219,195,82,N,W,303,12,5,630,N\\r\\n181,58,6,34,23,22,1,181,58,6,34,23,22,N,W,88,0,3,86.5,N\\r\\n441,118,28,84,86,68,8,2723,750,126,433,420,309,A,E,190,2,2,1300,A\\r\\n490,150,21,69,58,35,14,6126,1839,121,983,707,600,A,E,96,5,3,1000,N\\r\\n551,171,13,94,83,94,13,6090,1840,128,969,900,917,N,E,1199,149,5,1800,N\\r\\n550,147,29,85,91,71,6,2816,815,117,405,474,319,A,W,1218,104,10,1310,A\\r\\n283,74,4,34,29,22,10,3919,1062,85,505,456,283,N,W,145,5,7,737.5,N\\r\\n560,161,26,89,96,66,4,1789,470,65,233,260,155,N,W,332,9,8,625,N\\r\\n328,91,12,51,43,33,2,342,94,12,51,44,33,N,E,145,59,8,125,N\\r\\n586,159,12,72,79,53,9,3082,880,83,363,477,295,N,E,181,13,4,1043.333,N\\r\\n503,136,5,62,48,83,10,3423,970,20,408,303,414,N,W,65,258,8,725,N\\r\\n344,85,24,69,64,88,7,911,214,64,150,156,187,A,W,0,0,0,300,A\\r\\n680,223,31,119,96,34,3,1928,587,35,262,201,91,A,W,429,8,6,365,A\\r\\n279,64,0,31,26,30,1,279,64,0,31,26,30,N,W,107,205,16,75,N\\r\\n484,127,20,66,65,67,7,3006,844,116,436,458,377,N,E,1231,80,7,1183.333,N\\r\\n431,127,8,77,45,58,2,667,187,9,117,64,88,N,E,283,8,3,202.5,N\\r\\n283,70,8,33,37,27,12,4479,1222,94,557,483,307,A,E,156,2,2,225,A\\r\\n491,141,11,77,47,37,15,4291,1240,84,615,430,340,A,E,239,8,2,525,A\\r\\n199,52,9,26,28,21,6,805,191,30,113,119,87,N,W,235,22,5,265,N\\r\\n589,149,21,89,86,64,7,3558,928,102,513,471,351,A,E,371,6,6,787.5,A\\r\\n327,84,22,53,62,38,10,4273,1123,212,577,700,334,A,E,483,48,6,800,N\\r\\n464,128,28,67,94,52,13,5829,1552,210,740,840,452,A,W,0,0,0,587.5,A\\r\\n166,34,0,20,13,17,1,166,34,0,20,13,17,N,E,64,119,9,NA,N\\r\\n338,92,18,42,60,21,3,682,185,36,88,112,50,A,E,0,0,0,145,A\\r\\n508,146,8,80,44,46,9,3148,915,41,571,289,326,A,W,245,5,9,NA,A\\r\\n584,157,20,95,73,63,10,4704,1320,93,724,522,576,A,E,276,421,11,420,A\\r\\n216,54,2,27,25,33,1,216,54,2,27,25,33,N,W,317,36,1,75,N\\r\\n625,179,4,94,60,65,5,1696,476,12,216,163,166,A,E,303,450,14,575,A\\r\\n243,53,4,18,26,27,4,853,228,23,101,110,76,N,E,107,3,3,NA,N\\r\\n489,131,19,77,55,34,7,2051,549,62,300,263,153,A,W,310,9,9,780,A\\r\\n209,56,12,22,36,19,2,216,58,12,24,37,19,N,E,201,6,3,90,N\\r\\n407,93,8,47,30,30,2,969,230,14,121,69,68,N,W,172,317,25,150,N\\r\\n490,148,14,64,78,49,13,3400,1000,113,445,491,301,A,E,0,0,0,700,N\\r\\n209,59,6,20,37,27,4,884,209,14,66,106,92,N,E,415,35,3,NA,N\\r\\n442,131,18,68,77,33,6,1416,398,47,210,203,136,A,E,233,7,7,550,A\\r\\n317,88,3,40,32,19,8,2543,715,28,269,270,118,A,W,220,16,4,NA,A\\r\\n288,65,8,30,36,27,9,2815,698,55,315,325,189,N,E,259,30,10,650,A\\r\\n209,54,3,25,14,12,1,209,54,3,25,14,12,A,W,102,6,3,68,A\\r\\n303,71,3,18,30,36,3,344,76,3,20,36,45,N,E,468,47,6,100,N\\r\\n330,77,19,47,53,27,6,1928,516,90,247,288,161,N,W,149,8,6,670,N\\r\\n504,120,28,71,71,54,3,1085,259,54,150,167,114,A,E,103,283,19,175,A\\r\\n258,60,8,28,33,18,3,638,170,17,80,75,36,A,W,358,32,8,137,A\\r\\n20,1,0,0,0,0,2,41,9,2,6,7,4,N,E,78,220,6,2127.333,N\\r\\n374,94,5,36,26,62,7,1968,519,26,181,199,288,N,W,756,64,15,875,N\\r\\n211,43,10,26,35,39,3,498,116,14,59,55,78,A,W,463,32,8,120,A\\r\\n299,75,6,38,23,26,3,580,160,8,71,33,44,N,E,212,1,2,140,N\\r\\n576,167,8,89,49,57,4,822,232,19,132,83,79,N,E,325,12,8,210,N\\r\\n381,110,9,61,45,32,7,3015,834,40,451,249,168,N,E,228,7,5,800,N\\r\\n288,76,7,34,37,15,4,1644,408,16,198,120,113,N,W,203,3,3,240,N\\r\\n369,93,9,43,42,49,5,1258,323,54,181,177,157,A,E,149,1,6,350,A\\r\\n330,76,12,35,41,47,4,1367,326,55,167,198,167,N,W,512,30,5,NA,N\\r\\n547,137,2,58,47,12,2,1038,271,3,129,80,24,A,W,261,459,22,175,A\\r\\n572,152,18,105,49,65,2,978,249,36,168,91,101,A,W,325,13,3,200,A\\r\\n359,84,4,46,27,21,12,4992,1257,37,699,386,387,N,W,151,8,5,NA,N\\r\\n514,144,0,67,54,79,9,4739,1169,13,583,374,528,N,E,229,453,15,1940,N\\r\\n359,80,15,45,48,63,7,1493,359,61,176,202,175,N,W,682,93,13,700,N\\r\\n526,163,12,88,50,77,4,1556,470,38,245,167,174,A,W,250,11,1,750,A\\r\\n313,83,9,43,41,30,14,5885,1543,104,751,714,535,N,W,58,141,23,450,N\\r\\n540,135,30,82,88,55,1,540,135,30,82,88,55,A,W,157,6,14,172,A\\r\\n437,123,9,62,55,40,9,4139,1203,79,676,390,364,A,E,82,170,15,1260,A\\r\\n551,160,23,86,90,87,5,2235,602,75,278,328,273,A,W,1224,115,11,NA,A\\r\\n237,52,0,15,25,30,24,14053,4256,160,2165,1314,1566,N,W,523,43,6,750,N\\r\\n236,56,6,41,19,21,5,1257,329,24,166,125,105,A,E,172,1,4,190,A\\r\\n473,154,6,61,48,29,6,1966,566,29,250,252,178,A,E,846,84,9,580,A\\r\\n309,72,0,33,31,26,5,354,82,0,41,32,26,N,E,117,269,12,130,N\\r\\n271,77,5,35,29,33,12,4933,1358,48,630,435,403,A,W,62,90,3,450,A\\r\\n357,96,7,50,45,39,5,1394,344,43,178,192,136,A,W,167,2,4,300,A\\r\\n216,56,4,22,18,15,12,2796,665,43,266,304,198,A,E,391,44,4,250,A\\r\\n256,70,13,42,36,44,16,7058,1845,312,965,1128,990,N,E,41,118,8,1050,A\\r\\n466,108,33,75,86,72,3,652,142,44,102,109,102,A,E,286,8,8,215,A\\r\\n327,68,13,42,29,45,18,3949,939,78,438,380,466,A,E,659,53,7,400,A\\r\\n462,119,16,49,65,37,7,2131,583,69,244,288,150,A,E,866,65,6,NA,A\\r\\n341,110,9,45,49,46,9,2331,658,50,249,322,274,A,E,251,9,4,560,A\\r\\n608,160,28,130,74,89,8,4071,1182,103,862,417,708,A,E,426,4,6,1670,A\\r\\n419,101,18,65,58,92,20,9528,2510,548,1509,1659,1342,A,W,0,0,0,487.5,A\\r\\n33,6,0,2,4,7,1,33,6,0,2,4,7,A,W,205,5,4,NA,A\\r\\n376,82,21,42,60,35,5,1770,408,115,238,299,157,A,W,0,0,0,425,A\\r\\n486,145,11,51,76,40,11,3967,1102,67,410,497,284,N,E,88,204,16,500,A\\r\\n186,44,7,28,16,11,1,186,44,7,28,16,11,N,W,99,3,1,NA,N\\r\\n307,80,1,42,36,29,7,2421,656,18,379,198,184,A,W,145,2,2,NA,A\\r\\n246,76,5,35,39,13,6,912,234,12,102,96,80,A,E,44,0,1,250,A\\r\\n205,52,8,31,27,17,12,5134,1323,56,643,445,459,A,E,155,3,2,400,A\\r\\n348,90,11,50,45,43,10,2288,614,43,295,273,269,A,E,60,176,6,450,A\\r\\n523,135,8,52,44,52,9,3368,895,39,377,284,296,N,W,367,475,19,750,N\\r\\n312,68,2,32,22,24,1,312,68,2,32,22,24,A,E,86,150,15,70,A\\r\\n496,119,8,57,33,21,7,3358,882,36,365,280,165,N,W,155,371,29,875,N\\r\\n126,27,3,8,10,5,4,239,49,3,16,13,14,N,E,190,2,9,190,N\\r\\n275,68,5,42,42,61,6,961,238,16,128,104,172,N,E,181,3,2,191,N\\r\\n627,178,14,68,76,46,6,3146,902,74,494,345,242,N,E,309,492,5,740,N\\r\\n394,86,1,38,28,36,4,1089,267,3,94,71,76,N,E,203,369,16,250,N\\r\\n208,57,8,32,25,18,3,653,170,17,98,54,62,N,E,42,94,13,140,N\\r\\n382,101,16,50,55,22,1,382,101,16,50,55,22,A,W,200,7,6,97.5,A\\r\\n459,113,20,59,57,68,12,5348,1369,155,713,660,735,A,W,0,0,0,740,A\\r\\n549,149,7,73,47,42,1,549,149,7,73,47,42,N,W,255,450,17,140,N\\r\\n288,63,3,25,33,16,10,2682,667,38,315,259,204,A,W,135,257,7,341.667,A\\r\\n303,84,4,35,32,23,2,312,87,4,39,32,23,N,W,179,5,3,NA,N\\r\\n522,163,9,82,46,62,13,7037,2019,153,1043,827,535,A,E,352,9,1,1000,A\\r\\n512,117,29,54,88,43,6,1750,412,100,204,276,155,A,W,1236,98,18,100,A\\r\\n220,66,5,20,28,13,3,290,80,5,27,31,15,A,W,281,21,3,90,A\\r\\n522,140,16,73,77,60,4,730,185,22,93,106,86,N,E,1320,166,17,200,N\\r\\n461,112,18,54,54,35,2,680,160,24,76,75,49,A,W,111,226,11,135,A\\r\\n581,145,17,66,68,21,2,831,210,21,106,86,40,N,E,320,465,32,155,N\\r\\n530,159,3,82,50,47,6,1619,426,11,218,149,163,A,W,196,354,15,475,A\\r\\n557,142,21,58,81,23,18,8759,2583,271,1138,1299,478,N,W,1160,53,7,1450,N\\r\\n439,96,0,44,36,65,4,711,148,1,68,56,99,N,E,229,406,22,150,N\\r\\n453,103,8,53,33,52,2,507,123,8,63,39,58,A,W,289,407,6,105,A\\r\\n528,122,1,67,45,51,4,1716,403,12,211,146,155,A,W,209,372,17,350,A\\r\\n633,210,6,91,56,59,6,3070,872,19,420,230,274,N,W,367,432,16,90,N\\r\\n16,2,0,1,0,0,2,28,4,0,1,0,0,A,E,247,4,8,NA,A\\r\\n562,169,17,88,73,53,8,3181,841,61,450,342,373,A,E,351,442,17,530,A\\r\\n281,76,3,42,25,20,8,2658,657,48,324,300,179,A,E,106,144,7,341.667,A\\r\\n593,152,23,69,75,53,6,2765,686,133,369,384,321,A,W,315,10,6,940,A\\r\\n687,213,10,91,65,27,4,1518,448,15,196,137,89,A,E,294,445,13,350,A\\r\\n368,103,3,48,28,54,8,1897,493,9,207,162,198,N,W,209,246,3,326.667,N\\r\\n263,70,1,26,23,30,4,888,220,9,83,82,86,N,E,81,147,4,250,N\\r\\n642,211,14,107,59,52,5,2364,770,27,352,230,193,N,W,337,19,4,740,N\\r\\n265,68,8,26,30,29,7,1337,339,32,135,163,128,N,W,92,5,3,425,A\\r\\n289,63,7,36,41,44,17,7402,1954,195,1115,919,1153,A,W,166,211,7,NA,A\\r\\n559,141,2,48,61,73,8,3162,874,16,421,349,359,N,E,352,414,9,925,N\\r\\n520,120,17,53,44,21,4,927,227,22,106,80,52,A,W,70,144,11,185,A\\r\\n19,4,1,2,3,1,1,19,4,1,2,3,1,N,W,692,70,8,920,A\\r\\n205,43,2,24,17,20,7,854,219,12,105,99,71,N,E,131,6,1,286.667,N\\r\\n193,47,10,21,29,24,6,1136,256,42,129,139,106,A,W,299,13,5,245,A\\r\\n181,46,1,19,18,17,5,937,238,9,88,95,104,A,E,37,98,9,NA,A\\r\\n213,61,4,17,22,3,17,4061,1145,83,488,491,244,A,W,178,45,4,235,A\\r\\n510,147,10,56,52,53,7,2872,821,63,307,340,174,N,E,810,99,18,1150,N\\r\\n578,138,1,56,59,34,3,1399,357,7,149,161,87,N,E,133,371,20,160,N\\r\\n200,51,2,14,29,25,23,9778,2732,379,1272,1652,925,N,W,398,29,7,NA,N\\r\\n441,113,5,76,52,76,5,1546,397,17,226,149,191,A,W,160,290,11,425,A\\r\\n172,42,3,17,14,15,10,4086,1150,57,579,363,406,N,W,65,0,0,900,N\\r\\n580,194,9,91,62,78,8,3372,1028,48,604,314,469,N,E,270,13,6,NA,N\\r\\n127,32,4,14,25,12,19,8396,2402,242,1048,1348,819,N,W,167,18,6,500,N\\r\\n279,69,4,35,31,32,4,1359,355,31,180,148,158,N,E,133,173,9,277.5,N\\r\\n480,112,18,50,71,44,7,3031,771,110,338,406,239,N,E,94,270,16,750,N\\r\\n600,139,0,94,29,60,2,1236,309,1,201,69,110,N,E,300,12,9,160,N\\r\\n610,186,19,107,98,74,6,2728,753,69,399,366,286,N,E,1182,96,13,1300,N\\r\\n360,81,5,37,44,37,7,2268,566,41,279,257,246,N,E,170,284,3,525,N\\r\\n387,124,1,67,27,36,7,1775,506,6,272,125,194,N,E,186,290,17,550,N\\r\\n580,207,8,107,71,105,5,2778,978,32,474,322,417,A,E,121,267,19,1600,A\\r\\n408,117,11,66,41,34,1,408,117,11,66,41,34,N,W,942,72,11,120,N\\r\\n593,172,22,82,100,57,1,593,172,22,82,100,57,A,W,1222,139,15,165,A\\r\\n221,53,2,21,23,22,8,1063,283,15,107,124,106,N,E,325,58,6,NA,N\\r\\n497,127,7,65,48,37,5,2703,806,32,379,311,138,N,E,325,9,3,700,N\\r\\n492,136,5,76,50,94,12,5511,1511,39,897,451,875,A,E,313,381,20,875,A\\r\\n475,126,3,61,43,52,6,1700,433,7,217,93,146,A,W,37,113,7,385,A\\r\\n573,144,9,85,60,78,8,3198,857,97,470,420,332,A,E,1314,131,12,960,A\\r\\n631,170,9,77,44,31,11,4908,1457,30,775,357,249,A,W,408,4,3,1000,A\\r\\n'}"
            ]
          },
          "metadata": {
            "tags": []
          },
          "execution_count": 3
        }
      ]
    },
    {
      "cell_type": "code",
      "metadata": {
        "id": "I3Lc_YqrLLsl"
      },
      "source": [
        "import pandas as pd\n",
        "from sklearn.model_selection import train_test_split, cross_val_score, cross_val_predict"
      ],
      "execution_count": null,
      "outputs": []
    },
    {
      "cell_type": "code",
      "metadata": {
        "id": "LReqKRovOsEz"
      },
      "source": [
        "hit = pd.read_csv(\"Hitters.csv\")\n",
        "df = hit.copy()\n",
        "df = df.dropna()\n",
        "dms = pd.get_dummies(df[['League', 'Division', 'NewLeague']])\n",
        "y = df[\"Salary\"]\n",
        "X_ = df.drop(['Salary', 'League', 'Division', 'NewLeague'], axis=1).astype('float64')\n",
        "X = pd.concat([X_, dms[['League_N', 'Division_W', 'NewLeague_N']]], axis=1)\n",
        "X_train, X_test, y_train, y_test = train_test_split(X, y, test_size=0.25, random_state=42)"
      ],
      "execution_count": null,
      "outputs": []
    },
    {
      "cell_type": "code",
      "metadata": {
        "id": "YkAI4PeVOsEz"
      },
      "source": [
        "from sklearn.cross_decomposition import PLSRegression, PLSSVD"
      ],
      "execution_count": null,
      "outputs": []
    },
    {
      "cell_type": "code",
      "metadata": {
        "id": "POkcxme-OsE0"
      },
      "source": [
        "pls_model = PLSRegression().fit(X_train, y_train)"
      ],
      "execution_count": null,
      "outputs": []
    },
    {
      "cell_type": "code",
      "metadata": {
        "id": "-NLW_uhcOsE0",
        "colab": {
          "base_uri": "https://localhost:8080/"
        },
        "outputId": "2863e263-9631-49c7-b353-492447a98de2"
      },
      "source": [
        "pls_model.coef_"
      ],
      "execution_count": null,
      "outputs": [
        {
          "output_type": "execute_result",
          "data": {
            "text/plain": [
              "array([[ 35.32916493],\n",
              "       [ 48.83425857],\n",
              "       [ 18.50240933],\n",
              "       [ 39.28117603],\n",
              "       [ 30.59952998],\n",
              "       [ 40.03398345],\n",
              "       [ 16.85990516],\n",
              "       [ 28.22289896],\n",
              "       [ 32.73784993],\n",
              "       [ 22.00875744],\n",
              "       [ 33.60903032],\n",
              "       [ 30.39402522],\n",
              "       [ 25.73279799],\n",
              "       [ 54.98835148],\n",
              "       [  6.56590871],\n",
              "       [ -0.90894359],\n",
              "       [ 17.60903423],\n",
              "       [-37.24246339],\n",
              "       [ 14.69680385]])"
            ]
          },
          "metadata": {
            "tags": []
          },
          "execution_count": 12
        }
      ]
    },
    {
      "cell_type": "markdown",
      "metadata": {
        "id": "BtDfzNkcOsE1"
      },
      "source": [
        "## Tahmin"
      ]
    },
    {
      "cell_type": "code",
      "metadata": {
        "id": "zzUmmog0OsE1",
        "colab": {
          "base_uri": "https://localhost:8080/",
          "height": 216
        },
        "outputId": "eb46c1d8-3788-44da-b0eb-4f78fc856626"
      },
      "source": [
        "X_train.head()"
      ],
      "execution_count": null,
      "outputs": [
        {
          "output_type": "execute_result",
          "data": {
            "text/html": [
              "<div>\n",
              "<style scoped>\n",
              "    .dataframe tbody tr th:only-of-type {\n",
              "        vertical-align: middle;\n",
              "    }\n",
              "\n",
              "    .dataframe tbody tr th {\n",
              "        vertical-align: top;\n",
              "    }\n",
              "\n",
              "    .dataframe thead th {\n",
              "        text-align: right;\n",
              "    }\n",
              "</style>\n",
              "<table border=\"1\" class=\"dataframe\">\n",
              "  <thead>\n",
              "    <tr style=\"text-align: right;\">\n",
              "      <th></th>\n",
              "      <th>AtBat</th>\n",
              "      <th>Hits</th>\n",
              "      <th>HmRun</th>\n",
              "      <th>Runs</th>\n",
              "      <th>RBI</th>\n",
              "      <th>Walks</th>\n",
              "      <th>Years</th>\n",
              "      <th>CAtBat</th>\n",
              "      <th>CHits</th>\n",
              "      <th>CHmRun</th>\n",
              "      <th>CRuns</th>\n",
              "      <th>CRBI</th>\n",
              "      <th>CWalks</th>\n",
              "      <th>PutOuts</th>\n",
              "      <th>Assists</th>\n",
              "      <th>Errors</th>\n",
              "      <th>League_N</th>\n",
              "      <th>Division_W</th>\n",
              "      <th>NewLeague_N</th>\n",
              "    </tr>\n",
              "  </thead>\n",
              "  <tbody>\n",
              "    <tr>\n",
              "      <th>183</th>\n",
              "      <td>328.0</td>\n",
              "      <td>91.0</td>\n",
              "      <td>12.0</td>\n",
              "      <td>51.0</td>\n",
              "      <td>43.0</td>\n",
              "      <td>33.0</td>\n",
              "      <td>2.0</td>\n",
              "      <td>342.0</td>\n",
              "      <td>94.0</td>\n",
              "      <td>12.0</td>\n",
              "      <td>51.0</td>\n",
              "      <td>44.0</td>\n",
              "      <td>33.0</td>\n",
              "      <td>145.0</td>\n",
              "      <td>59.0</td>\n",
              "      <td>8.0</td>\n",
              "      <td>1</td>\n",
              "      <td>0</td>\n",
              "      <td>1</td>\n",
              "    </tr>\n",
              "    <tr>\n",
              "      <th>229</th>\n",
              "      <td>514.0</td>\n",
              "      <td>144.0</td>\n",
              "      <td>0.0</td>\n",
              "      <td>67.0</td>\n",
              "      <td>54.0</td>\n",
              "      <td>79.0</td>\n",
              "      <td>9.0</td>\n",
              "      <td>4739.0</td>\n",
              "      <td>1169.0</td>\n",
              "      <td>13.0</td>\n",
              "      <td>583.0</td>\n",
              "      <td>374.0</td>\n",
              "      <td>528.0</td>\n",
              "      <td>229.0</td>\n",
              "      <td>453.0</td>\n",
              "      <td>15.0</td>\n",
              "      <td>1</td>\n",
              "      <td>0</td>\n",
              "      <td>1</td>\n",
              "    </tr>\n",
              "    <tr>\n",
              "      <th>286</th>\n",
              "      <td>593.0</td>\n",
              "      <td>152.0</td>\n",
              "      <td>23.0</td>\n",
              "      <td>69.0</td>\n",
              "      <td>75.0</td>\n",
              "      <td>53.0</td>\n",
              "      <td>6.0</td>\n",
              "      <td>2765.0</td>\n",
              "      <td>686.0</td>\n",
              "      <td>133.0</td>\n",
              "      <td>369.0</td>\n",
              "      <td>384.0</td>\n",
              "      <td>321.0</td>\n",
              "      <td>315.0</td>\n",
              "      <td>10.0</td>\n",
              "      <td>6.0</td>\n",
              "      <td>0</td>\n",
              "      <td>1</td>\n",
              "      <td>0</td>\n",
              "    </tr>\n",
              "    <tr>\n",
              "      <th>102</th>\n",
              "      <td>233.0</td>\n",
              "      <td>49.0</td>\n",
              "      <td>2.0</td>\n",
              "      <td>41.0</td>\n",
              "      <td>23.0</td>\n",
              "      <td>18.0</td>\n",
              "      <td>8.0</td>\n",
              "      <td>1350.0</td>\n",
              "      <td>336.0</td>\n",
              "      <td>7.0</td>\n",
              "      <td>166.0</td>\n",
              "      <td>122.0</td>\n",
              "      <td>106.0</td>\n",
              "      <td>102.0</td>\n",
              "      <td>132.0</td>\n",
              "      <td>10.0</td>\n",
              "      <td>0</td>\n",
              "      <td>0</td>\n",
              "      <td>0</td>\n",
              "    </tr>\n",
              "    <tr>\n",
              "      <th>153</th>\n",
              "      <td>341.0</td>\n",
              "      <td>95.0</td>\n",
              "      <td>6.0</td>\n",
              "      <td>48.0</td>\n",
              "      <td>42.0</td>\n",
              "      <td>20.0</td>\n",
              "      <td>10.0</td>\n",
              "      <td>2964.0</td>\n",
              "      <td>808.0</td>\n",
              "      <td>81.0</td>\n",
              "      <td>379.0</td>\n",
              "      <td>428.0</td>\n",
              "      <td>221.0</td>\n",
              "      <td>158.0</td>\n",
              "      <td>4.0</td>\n",
              "      <td>5.0</td>\n",
              "      <td>1</td>\n",
              "      <td>1</td>\n",
              "      <td>1</td>\n",
              "    </tr>\n",
              "  </tbody>\n",
              "</table>\n",
              "</div>"
            ],
            "text/plain": [
              "     AtBat   Hits  HmRun  Runs  ...  Errors  League_N  Division_W  NewLeague_N\n",
              "183  328.0   91.0   12.0  51.0  ...     8.0         1           0            1\n",
              "229  514.0  144.0    0.0  67.0  ...    15.0         1           0            1\n",
              "286  593.0  152.0   23.0  69.0  ...     6.0         0           1            0\n",
              "102  233.0   49.0    2.0  41.0  ...    10.0         0           0            0\n",
              "153  341.0   95.0    6.0  48.0  ...     5.0         1           1            1\n",
              "\n",
              "[5 rows x 19 columns]"
            ]
          },
          "metadata": {
            "tags": []
          },
          "execution_count": 13
        }
      ]
    },
    {
      "cell_type": "code",
      "metadata": {
        "id": "c63E6eAZOsE1",
        "colab": {
          "base_uri": "https://localhost:8080/"
        },
        "outputId": "ddc023d6-8eab-43e9-d2d6-835a0bbcb579"
      },
      "source": [
        "pls_model.predict(X_train)[0:10]"
      ],
      "execution_count": null,
      "outputs": [
        {
          "output_type": "execute_result",
          "data": {
            "text/plain": [
              "array([[344.91941493],\n",
              "       [848.87070769],\n",
              "       [692.93622642],\n",
              "       [185.56577984],\n",
              "       [435.49196077],\n",
              "       [987.49530026],\n",
              "       [120.63097106],\n",
              "       [289.9263406 ],\n",
              "       [663.41886918],\n",
              "       [817.90486641]])"
            ]
          },
          "metadata": {
            "tags": []
          },
          "execution_count": 14
        }
      ]
    },
    {
      "cell_type": "code",
      "metadata": {
        "id": "SGGylU1LOsE2"
      },
      "source": [
        "y_pred = pls_model.predict(X_train)"
      ],
      "execution_count": null,
      "outputs": []
    },
    {
      "cell_type": "code",
      "metadata": {
        "id": "fzMgePMyOsE2",
        "colab": {
          "base_uri": "https://localhost:8080/"
        },
        "outputId": "31bca693-3a85-47cd-fb02-1b4969034f5d"
      },
      "source": [
        "import numpy as np\n",
        "from sklearn.metrics import mean_squared_error \n",
        "np.sqrt(mean_squared_error(y_train, y_pred))"
      ],
      "execution_count": null,
      "outputs": [
        {
          "output_type": "execute_result",
          "data": {
            "text/plain": [
              "310.1167593109696"
            ]
          },
          "metadata": {
            "tags": []
          },
          "execution_count": 24
        }
      ]
    },
    {
      "cell_type": "code",
      "metadata": {
        "id": "pY0VCtRfOsE3",
        "colab": {
          "base_uri": "https://localhost:8080/"
        },
        "outputId": "e3e65e52-4dd2-414b-9520-49d86f4cff37"
      },
      "source": [
        "from sklearn.metrics import r2_score\n",
        "r2_score(y_train, y_pred)"
      ],
      "execution_count": null,
      "outputs": [
        {
          "output_type": "execute_result",
          "data": {
            "text/plain": [
              "0.5140424486535481"
            ]
          },
          "metadata": {
            "tags": []
          },
          "execution_count": 26
        }
      ]
    },
    {
      "cell_type": "code",
      "metadata": {
        "id": "yKgJnZYjOsE3"
      },
      "source": [
        "y_pred = pls_model.predict(X_test)"
      ],
      "execution_count": null,
      "outputs": []
    },
    {
      "cell_type": "code",
      "metadata": {
        "id": "jaPrvp-LOsE3",
        "colab": {
          "base_uri": "https://localhost:8080/"
        },
        "outputId": "24633639-350b-4e2c-a808-3d6a9144a7b9"
      },
      "source": [
        "np.sqrt(mean_squared_error(y_test, y_pred))"
      ],
      "execution_count": null,
      "outputs": [
        {
          "output_type": "execute_result",
          "data": {
            "text/plain": [
              "398.09956327448526"
            ]
          },
          "metadata": {
            "tags": []
          },
          "execution_count": 28
        }
      ]
    },
    {
      "cell_type": "markdown",
      "metadata": {
        "id": "uF756HaxOsE4"
      },
      "source": [
        "## Model Tuning"
      ]
    },
    {
      "cell_type": "code",
      "metadata": {
        "id": "usLG13bCOsE4",
        "colab": {
          "base_uri": "https://localhost:8080/",
          "height": 295
        },
        "outputId": "40341f36-2c7e-4337-cbde-7492fa9bf108"
      },
      "source": [
        "from sklearn import model_selection\n",
        "import matplotlib.pyplot as plt\n",
        "#CV\n",
        "cv_10 = model_selection.KFold(n_splits=10, shuffle=True, random_state=1)\n",
        "\n",
        "\n",
        "#Hata hesaplamak için döngü\n",
        "RMSE = []\n",
        "\n",
        "for i in np.arange(1, X_train.shape[1] + 1):\n",
        "    pls = PLSRegression(n_components=i)\n",
        "    score = np.sqrt(-1*cross_val_score(pls, X_train, y_train, cv=cv_10, scoring='neg_mean_squared_error').mean())\n",
        "    RMSE.append(score)\n",
        "\n",
        "#Sonuçların Görselleştirilmesi\n",
        "plt.plot(np.arange(1, X_train.shape[1] + 1), np.array(RMSE), '-v', c = \"r\")\n",
        "plt.xlabel('Bileşen Sayısı')\n",
        "plt.ylabel('RMSE')\n",
        "plt.title('Salary');"
      ],
      "execution_count": null,
      "outputs": [
        {
          "output_type": "display_data",
          "data": {
            "image/png": "[encoded data removed]",
            "text/plain": [
              "<Figure size 432x288 with 1 Axes>"
            ]
          },
          "metadata": {
            "tags": [],
            "needs_background": "light"
          }
        }
      ]
    },
    {
      "cell_type": "code",
      "metadata": {
        "id": "x2NfMi_vOsE5"
      },
      "source": [
        "pls_model = PLSRegression(n_components = 2).fit(X_train, y_train)"
      ],
      "execution_count": null,
      "outputs": []
    },
    {
      "cell_type": "code",
      "metadata": {
        "id": "ncC7TuC0OsE5"
      },
      "source": [
        "y_pred = pls_model.predict(X_test)"
      ],
      "execution_count": null,
      "outputs": []
    },
    {
      "cell_type": "code",
      "metadata": {
        "id": "xKKjweEROsE6",
        "colab": {
          "base_uri": "https://localhost:8080/"
        },
        "outputId": "5ccb5cba-9d78-4db7-ed23-385e6dabbba4"
      },
      "source": [
        "np.sqrt(mean_squared_error(y_test, y_pred))"
      ],
      "execution_count": null,
      "outputs": [
        {
          "output_type": "execute_result",
          "data": {
            "text/plain": [
              "398.09956327448526"
            ]
          },
          "metadata": {
            "tags": []
          },
          "execution_count": 34
        }
      ]
    },
    {
      "cell_type": "markdown",
      "metadata": {
        "id": "Nx895rAbOsE6"
      },
      "source": [
        "# Ridge Regresyon"
      ]
    },
    {
      "cell_type": "markdown",
      "metadata": {
        "id": "TEx7KnVCOsE6"
      },
      "source": [
        "## Model"
      ]
    },
    {
      "cell_type": "code",
      "metadata": {
        "colab": {
          "resources": {
            "http://localhost:8080/nbextensions/google.colab/files.js": {
              "data": "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",
              "ok": true,
              "headers": [
                [
                  "content-type",
                  "application/javascript"
                ]
              ],
              "status": 200,
              "status_text": ""
            }
          },
          "base_uri": "https://localhost:8080/",
          "height": 109
        },
        "id": "kdEAVBdWH3Wj",
        "outputId": "f513b6f6-c588-484f-c03c-d6cef5c95153"
      },
      "source": [
        "from google.colab import files \n",
        "files.upload()"
      ],
      "execution_count": null,
      "outputs": [
        {
          "output_type": "display_data",
          "data": {
            "text/html": [
              "\n",
              "     <input type=\"file\" id=\"files-253914a5-dec2-4237-a382-737da81c6523\" name=\"files[]\" multiple disabled\n",
              "        style=\"border:none\" />\n",
              "     <output id=\"result-253914a5-dec2-4237-a382-737da81c6523\">\n",
              "      Upload widget is only available when the cell has been executed in the\n",
              "      current browser session. Please rerun this cell to enable.\n",
              "      </output>\n",
              "      <script src=\"/nbextensions/google.colab/files.js\"></script> "
            ],
            "text/plain": [
              "<IPython.core.display.HTML object>"
            ]
          },
          "metadata": {
            "tags": []
          }
        },
        {
          "output_type": "stream",
          "text": [
            "Saving Hitters.csv to Hitters.csv\n"
          ],
          "name": "stdout"
        },
        {
          "output_type": "execute_result",
          "data": {
            "text/plain": [
              "{'Hitters.csv': b'AtBat,Hits,HmRun,Runs,RBI,Walks,Years,CAtBat,CHits,CHmRun,CRuns,CRBI,CWalks,League,Division,PutOuts,Assists,Errors,Salary,NewLeague\\r\\n293,66,1,30,29,14,1,293,66,1,30,29,14,A,E,446,33,20,NA,A\\r\\n315,81,7,24,38,39,14,3449,835,69,321,414,375,N,W,632,43,10,475,N\\r\\n479,130,18,66,72,76,3,1624,457,63,224,266,263,A,W,880,82,14,480,A\\r\\n496,141,20,65,78,37,11,5628,1575,225,828,838,354,N,E,200,11,3,500,N\\r\\n321,87,10,39,42,30,2,396,101,12,48,46,33,N,E,805,40,4,91.5,N\\r\\n594,169,4,74,51,35,11,4408,1133,19,501,336,194,A,W,282,421,25,750,A\\r\\n185,37,1,23,8,21,2,214,42,1,30,9,24,N,E,76,127,7,70,A\\r\\n298,73,0,24,24,7,3,509,108,0,41,37,12,A,W,121,283,9,100,A\\r\\n323,81,6,26,32,8,2,341,86,6,32,34,8,N,W,143,290,19,75,N\\r\\n401,92,17,49,66,65,13,5206,1332,253,784,890,866,A,E,0,0,0,1100,A\\r\\n574,159,21,107,75,59,10,4631,1300,90,702,504,488,A,E,238,445,22,517.143,A\\r\\n202,53,4,31,26,27,9,1876,467,15,192,186,161,N,W,304,45,11,512.5,N\\r\\n418,113,13,48,61,47,4,1512,392,41,205,204,203,N,E,211,11,7,550,N\\r\\n239,60,0,30,11,22,6,1941,510,4,309,103,207,A,E,121,151,6,700,A\\r\\n196,43,7,29,27,30,13,3231,825,36,376,290,238,N,E,80,45,8,240,N\\r\\n183,39,3,20,15,11,3,201,42,3,20,16,11,A,W,118,0,0,NA,A\\r\\n568,158,20,89,75,73,15,8068,2273,177,1045,993,732,N,W,105,290,10,775,N\\r\\n190,46,2,24,8,15,5,479,102,5,65,23,39,A,W,102,177,16,175,A\\r\\n407,104,6,57,43,65,12,5233,1478,100,643,658,653,A,W,912,88,9,NA,A\\r\\n127,32,8,16,22,14,8,727,180,24,67,82,56,N,W,202,22,2,135,N\\r\\n413,92,16,72,48,65,1,413,92,16,72,48,65,N,E,280,9,5,100,N\\r\\n426,109,3,55,43,62,1,426,109,3,55,43,62,A,W,361,22,2,115,N\\r\\n22,10,1,4,2,1,6,84,26,2,9,9,3,A,W,812,84,11,NA,A\\r\\n472,116,16,60,62,74,6,1924,489,67,242,251,240,N,W,518,55,3,600,N\\r\\n629,168,18,73,102,40,18,8424,2464,164,1008,1072,402,A,E,1067,157,14,776.667,A\\r\\n587,163,4,92,51,70,6,2695,747,17,442,198,317,A,E,434,9,3,765,A\\r\\n324,73,4,32,18,22,7,1931,491,13,291,108,180,N,E,222,3,3,708.333,N\\r\\n474,129,10,50,56,40,10,2331,604,61,246,327,166,N,W,732,83,13,750,N\\r\\n550,152,6,92,37,81,5,2308,633,32,349,182,308,N,W,262,329,16,625,N\\r\\n513,137,20,90,95,90,14,5201,1382,166,763,734,784,A,W,267,5,3,900,A\\r\\n313,84,9,42,30,39,17,6890,1833,224,1033,864,1087,A,W,127,221,7,NA,A\\r\\n419,108,6,55,36,22,3,591,149,8,80,46,31,N,W,226,7,4,110,N\\r\\n517,141,27,70,87,52,9,3571,994,215,545,652,337,N,W,1378,102,8,NA,N\\r\\n583,168,17,83,80,56,5,1646,452,44,219,208,136,A,E,109,292,25,612.5,A\\r\\n204,49,6,23,25,12,7,1309,308,27,126,132,66,A,W,419,46,5,300,A\\r\\n379,106,10,38,60,30,14,6207,1906,146,859,803,571,N,W,72,170,24,850,N\\r\\n161,36,0,19,10,17,4,1053,244,3,156,86,107,A,E,70,149,12,NA,A\\r\\n268,60,5,24,25,15,2,350,78,5,34,29,18,N,W,442,59,6,90,N\\r\\n346,98,5,31,53,30,16,5913,1615,235,784,901,560,A,E,0,0,0,NA,A\\r\\n241,61,1,34,12,14,1,241,61,1,34,12,14,N,W,166,172,10,NA,N\\r\\n181,41,1,15,21,33,2,232,50,4,20,29,45,A,E,326,29,5,67.5,A\\r\\n216,54,0,21,18,15,18,7318,1926,46,796,627,483,N,W,103,84,5,NA,N\\r\\n200,57,6,23,14,14,9,2516,684,46,371,230,195,N,W,69,1,1,NA,N\\r\\n217,46,7,32,19,9,4,694,160,32,86,76,32,A,E,307,25,1,180,A\\r\\n194,40,7,19,29,30,11,4183,1069,64,486,493,608,A,E,325,22,2,NA,A\\r\\n254,68,2,28,26,22,6,999,236,21,108,117,118,A,E,359,30,4,305,A\\r\\n416,132,7,57,49,33,3,932,273,24,113,121,80,N,W,73,177,18,215,N\\r\\n205,57,8,34,32,9,5,756,192,32,117,107,51,A,E,58,4,4,247.5,A\\r\\n542,140,12,46,75,41,16,7099,2130,235,987,1089,431,A,E,697,61,9,NA,A\\r\\n526,146,13,71,70,84,6,2648,715,77,352,342,289,N,W,303,9,9,815,N\\r\\n457,101,14,42,63,22,17,6521,1767,281,1003,977,619,A,W,389,39,4,875,A\\r\\n214,53,2,30,29,23,2,226,59,2,32,32,27,N,E,109,7,3,70,N\\r\\n19,7,0,1,2,1,4,41,13,1,3,4,4,A,E,0,0,0,NA,A\\r\\n591,168,19,80,72,39,9,4478,1307,113,634,563,319,A,W,67,147,4,1200,A\\r\\n403,101,12,45,53,39,12,5150,1429,166,747,666,526,A,E,316,6,5,675,A\\r\\n405,102,18,49,85,20,6,950,231,29,99,138,64,N,W,161,10,3,415,N\\r\\n244,58,9,28,25,35,4,1335,333,49,164,179,194,N,W,142,14,2,340,N\\r\\n235,61,3,24,39,21,14,3926,1029,35,441,401,333,A,E,425,43,4,NA,A\\r\\n313,78,6,32,41,12,12,3742,968,35,409,321,170,N,W,106,206,7,416.667,N\\r\\n627,177,25,98,81,70,6,3210,927,133,529,472,313,A,E,240,482,13,1350,A\\r\\n416,113,24,58,69,16,1,416,113,24,58,69,16,A,E,203,70,10,90,A\\r\\n155,44,6,21,23,15,16,6631,1634,98,698,661,777,N,E,53,88,3,275,N\\r\\n236,56,0,27,15,11,4,1115,270,1,116,64,57,A,W,125,199,13,230,A\\r\\n216,53,1,31,15,22,4,926,210,9,118,69,114,N,W,73,152,11,225,N\\r\\n24,3,0,1,0,2,3,159,28,0,20,12,9,A,W,80,4,0,NA,A\\r\\n585,139,31,93,94,62,17,7546,1982,315,1141,1179,727,A,E,0,0,0,950,A\\r\\n191,37,4,12,17,14,4,773,163,16,61,74,52,N,E,391,38,8,NA,N\\r\\n199,53,5,29,22,21,3,514,120,8,57,40,39,A,W,152,3,5,75,A\\r\\n521,142,20,67,86,45,4,815,205,22,99,103,78,A,E,107,242,23,105,A\\r\\n419,113,1,44,27,44,12,4484,1231,32,612,344,422,A,E,211,2,1,NA,A\\r\\n311,81,3,42,30,26,17,8247,2198,100,950,909,690,N,W,153,223,10,320,N\\r\\n138,31,8,18,21,38,3,244,53,12,33,32,55,N,E,244,21,4,NA,N\\r\\n512,131,26,69,96,52,14,5347,1397,221,712,815,548,A,W,119,216,12,850,A\\r\\n507,122,29,78,85,91,18,7761,1947,347,1175,1152,1380,A,E,808,108,2,535,A\\r\\n529,137,26,86,97,97,15,6661,1785,291,1082,949,989,A,E,280,10,5,933.333,A\\r\\n424,119,6,57,46,13,9,3651,1046,32,461,301,112,A,E,224,286,8,850,N\\r\\n351,97,4,55,29,39,4,1258,353,16,196,110,117,N,W,226,7,3,210,A\\r\\n195,55,5,24,33,30,8,1313,338,25,144,149,153,N,E,83,2,1,NA,N\\r\\n388,103,15,59,47,39,6,2174,555,80,285,274,186,A,W,182,9,4,325,A\\r\\n339,96,4,37,29,23,4,1064,290,11,123,108,55,A,W,104,213,9,275,A\\r\\n561,118,35,70,94,33,16,6677,1575,442,901,1210,608,A,W,463,32,8,NA,A\\r\\n255,70,7,49,35,43,15,6311,1661,154,1019,608,820,N,E,51,54,8,450,N\\r\\n677,238,31,117,113,53,5,2223,737,93,349,401,171,A,E,1377,100,6,1975,A\\r\\n227,46,7,23,20,12,5,1325,324,44,156,158,67,A,W,92,2,2,NA,A\\r\\n614,163,29,89,83,75,11,5017,1388,266,813,822,617,N,W,303,6,6,1900,N\\r\\n329,83,9,50,39,56,9,3828,948,145,575,528,635,A,W,276,6,2,600,A\\r\\n637,174,31,89,116,56,14,6727,2024,247,978,1093,495,N,W,278,9,9,1041.667,N\\r\\n280,82,16,44,45,47,2,428,113,25,61,70,63,A,E,148,4,2,110,A\\r\\n155,41,12,21,29,22,16,5409,1338,181,746,805,875,A,W,165,9,1,260,A\\r\\n458,114,13,67,57,48,4,1350,298,28,160,123,122,A,W,246,389,18,475,A\\r\\n314,83,13,39,46,16,5,1457,405,28,156,159,76,A,W,533,40,4,431.5,A\\r\\n475,123,27,76,93,72,4,1810,471,108,292,343,267,N,E,226,10,6,1220,N\\r\\n317,78,7,35,35,32,1,317,78,7,35,35,32,A,E,45,122,26,70,A\\r\\n511,138,25,76,96,61,3,592,164,28,87,110,71,A,W,157,7,8,145,A\\r\\n278,69,3,24,21,29,8,2079,565,32,258,192,162,N,W,142,210,10,NA,N\\r\\n382,119,13,54,58,36,12,2133,594,41,287,294,227,N,W,59,156,9,595,N\\r\\n565,148,24,90,104,77,14,7287,2083,305,1135,1234,791,A,E,292,9,5,1861.46,A\\r\\n277,71,2,27,29,14,15,5952,1647,60,753,596,259,N,W,360,32,5,NA,N\\r\\n415,115,27,97,71,68,3,711,184,45,156,119,99,N,W,274,2,7,300,N\\r\\n424,110,15,70,47,36,7,2130,544,38,335,174,258,N,W,292,6,3,490,N\\r\\n495,151,17,61,84,78,10,5624,1679,275,884,1015,709,A,E,1045,88,13,2460,A\\r\\n524,132,9,69,47,54,2,972,260,14,123,92,90,A,E,212,327,20,NA,A\\r\\n233,49,2,41,23,18,8,1350,336,7,166,122,106,A,E,102,132,10,375,A\\r\\n395,106,16,48,56,35,10,2303,571,86,266,323,248,A,E,709,41,7,NA,A\\r\\n397,114,23,67,67,53,13,5589,1632,241,906,926,716,A,E,244,2,4,NA,A\\r\\n210,37,8,15,19,15,6,994,244,36,107,114,53,A,E,40,115,15,NA,A\\r\\n420,95,23,55,58,37,3,646,139,31,77,77,61,N,W,206,10,7,NA,N\\r\\n566,154,22,76,84,43,14,6100,1583,131,743,693,300,A,W,316,439,10,750,A\\r\\n641,198,31,101,108,41,5,2129,610,92,297,319,117,A,E,269,17,10,1175,A\\r\\n215,51,4,19,18,11,1,215,51,4,19,18,11,A,E,116,5,12,70,A\\r\\n441,128,16,70,73,80,14,6675,2095,209,1072,1050,695,A,W,97,218,16,1500,A\\r\\n325,76,16,33,52,37,5,1506,351,71,195,219,214,N,W,726,87,3,385,A\\r\\n490,125,24,81,105,62,13,6063,1646,271,847,999,680,N,E,869,62,8,1925.571,N\\r\\n574,152,31,91,101,64,3,985,260,53,148,173,95,N,W,1253,111,11,215,N\\r\\n284,64,14,30,42,24,18,7023,1925,348,986,1239,666,N,E,96,4,4,NA,N\\r\\n596,171,34,91,108,52,6,2862,728,107,361,401,224,A,W,118,334,21,900,A\\r\\n472,118,12,63,54,30,4,793,187,14,102,80,50,A,W,228,377,26,155,A\\r\\n283,77,14,45,47,26,16,6840,1910,259,915,1067,546,A,W,144,6,5,700,A\\r\\n408,94,4,42,36,66,9,3573,866,59,429,365,410,N,W,282,487,19,535,N\\r\\n327,85,3,30,44,20,8,2140,568,16,216,208,93,A,E,91,185,12,362.5,A\\r\\n370,96,21,49,46,60,15,6986,1972,231,1070,955,921,N,E,137,5,9,733.333,N\\r\\n354,77,16,36,55,41,20,8716,2172,384,1172,1267,1057,N,W,83,174,16,200,N\\r\\n539,139,5,93,58,69,5,1469,369,12,247,126,198,A,W,462,9,7,400,A\\r\\n340,84,11,62,33,47,5,1516,376,42,284,141,219,N,E,185,8,4,400,A\\r\\n510,126,2,42,44,35,11,5562,1578,44,703,519,256,N,W,207,358,20,737.5,N\\r\\n315,59,16,45,36,58,13,4677,1051,268,681,782,697,A,W,0,0,0,NA,A\\r\\n282,78,13,37,51,29,5,1649,453,73,211,280,138,A,W,670,57,5,500,A\\r\\n380,120,5,54,51,31,8,3118,900,92,444,419,240,A,W,237,8,1,600,A\\r\\n584,158,15,70,84,42,5,2358,636,58,265,316,134,N,E,331,20,4,662.5,N\\r\\n570,169,21,72,88,38,7,3754,1077,140,492,589,263,A,W,295,15,5,950,A\\r\\n306,104,14,50,58,25,7,2954,822,55,313,377,187,N,E,116,222,15,750,N\\r\\n220,54,10,30,39,31,5,1185,299,40,145,154,128,N,E,50,136,20,297.5,N\\r\\n278,70,7,22,37,18,18,7186,2081,190,935,1088,643,A,W,0,0,0,325,A\\r\\n445,99,1,46,24,29,4,618,129,1,72,31,48,A,W,278,415,16,87.5,A\\r\\n143,39,5,18,30,15,9,639,151,16,80,97,61,N,W,138,15,1,175,N\\r\\n185,40,4,23,11,18,3,524,125,7,58,37,47,N,E,97,2,2,90,N\\r\\n589,170,40,107,108,69,6,2325,634,128,371,376,238,A,E,368,20,3,1237.5,A\\r\\n343,103,6,48,36,40,15,4338,1193,70,581,421,325,A,E,211,56,13,430,A\\r\\n284,69,1,33,18,25,5,1407,361,6,139,98,111,A,E,122,140,5,NA,N\\r\\n438,103,2,65,32,71,2,440,103,2,67,32,71,A,W,276,7,9,100,N\\r\\n600,144,33,85,117,65,2,696,173,38,101,130,69,A,W,319,4,14,165,A\\r\\n663,200,29,108,121,32,4,1447,404,57,210,222,68,A,E,241,8,6,250,A\\r\\n232,55,9,34,23,45,12,4405,1213,194,702,705,625,N,E,623,35,3,1300,N\\r\\n479,133,10,48,72,55,17,7472,2147,153,980,1032,854,N,W,237,5,4,773.333,N\\r\\n209,45,0,38,19,42,10,3859,916,23,557,279,478,A,W,132,205,5,NA,A\\r\\n528,132,21,61,74,41,6,2641,671,97,273,383,226,N,E,885,105,8,1008.333,N\\r\\n160,39,8,18,31,22,14,2128,543,56,304,268,298,A,E,33,3,0,275,A\\r\\n599,183,10,80,74,32,5,2482,715,27,330,326,158,A,E,231,374,18,775,A\\r\\n497,136,7,58,38,26,11,3871,1066,40,450,367,241,A,E,304,347,10,850,A\\r\\n210,70,13,32,51,28,15,4040,1130,97,544,462,551,A,E,0,0,0,365,A\\r\\n225,61,5,32,26,26,11,1568,408,25,202,185,257,A,W,132,9,0,NA,A\\r\\n151,41,4,26,21,19,2,288,68,9,45,39,35,A,W,28,56,2,95,A\\r\\n278,86,4,33,38,45,1,278,86,4,33,38,45,N,W,102,4,2,110,N\\r\\n341,95,6,48,42,20,10,2964,808,81,379,428,221,N,W,158,4,5,100,N\\r\\n537,147,23,58,88,47,10,2744,730,97,302,351,174,N,E,92,257,20,277.5,N\\r\\n399,102,3,56,34,34,5,670,167,4,89,48,54,A,W,211,9,3,80,A\\r\\n309,94,5,37,32,26,13,4618,1330,57,616,522,436,N,E,161,3,3,600,N\\r\\n401,100,2,60,19,28,4,876,238,2,126,44,55,N,E,193,11,4,NA,N\\r\\n336,93,9,35,46,23,15,5779,1610,128,730,741,497,A,W,0,0,0,NA,A\\r\\n616,163,27,83,107,32,3,1437,377,65,181,227,82,A,W,110,308,15,200,A\\r\\n219,47,8,24,26,17,12,1188,286,23,100,125,63,A,W,260,58,4,NA,A\\r\\n579,174,7,67,78,58,6,3053,880,32,366,337,218,N,E,280,479,5,657,N\\r\\n165,39,2,13,9,16,3,196,44,2,18,10,18,A,W,332,19,2,75,N\\r\\n618,200,20,98,110,62,13,7127,2163,351,1104,1289,564,A,E,330,16,8,2412.5,A\\r\\n257,66,5,31,26,32,14,3910,979,33,518,324,382,N,W,87,166,14,250,A\\r\\n315,76,13,35,60,25,3,630,151,24,68,94,55,N,E,498,39,13,155,N\\r\\n591,157,16,90,78,26,4,2020,541,52,310,226,91,N,E,290,440,25,640,N\\r\\n404,92,11,54,49,18,6,1354,325,30,188,135,63,A,E,222,5,5,300,A\\r\\n315,73,5,23,37,16,4,450,108,6,38,46,28,A,W,227,15,3,110,A\\r\\n249,69,6,32,19,20,4,702,209,10,97,48,44,N,E,103,8,2,NA,N\\r\\n429,91,12,41,42,57,13,5590,1397,83,578,579,644,A,W,686,46,4,825,N\\r\\n212,54,13,28,44,18,2,233,59,13,31,46,20,A,E,243,23,5,NA,A\\r\\n453,101,3,46,43,61,3,948,218,6,96,72,91,N,W,249,444,16,195,N\\r\\n161,43,4,17,26,22,3,707,179,21,77,99,76,A,W,300,12,2,NA,A\\r\\n184,47,5,20,28,18,11,3327,890,74,419,382,304,N,W,49,2,0,450,N\\r\\n591,184,20,83,79,38,5,1689,462,40,219,195,82,N,W,303,12,5,630,N\\r\\n181,58,6,34,23,22,1,181,58,6,34,23,22,N,W,88,0,3,86.5,N\\r\\n441,118,28,84,86,68,8,2723,750,126,433,420,309,A,E,190,2,2,1300,A\\r\\n490,150,21,69,58,35,14,6126,1839,121,983,707,600,A,E,96,5,3,1000,N\\r\\n551,171,13,94,83,94,13,6090,1840,128,969,900,917,N,E,1199,149,5,1800,N\\r\\n550,147,29,85,91,71,6,2816,815,117,405,474,319,A,W,1218,104,10,1310,A\\r\\n283,74,4,34,29,22,10,3919,1062,85,505,456,283,N,W,145,5,7,737.5,N\\r\\n560,161,26,89,96,66,4,1789,470,65,233,260,155,N,W,332,9,8,625,N\\r\\n328,91,12,51,43,33,2,342,94,12,51,44,33,N,E,145,59,8,125,N\\r\\n586,159,12,72,79,53,9,3082,880,83,363,477,295,N,E,181,13,4,1043.333,N\\r\\n503,136,5,62,48,83,10,3423,970,20,408,303,414,N,W,65,258,8,725,N\\r\\n344,85,24,69,64,88,7,911,214,64,150,156,187,A,W,0,0,0,300,A\\r\\n680,223,31,119,96,34,3,1928,587,35,262,201,91,A,W,429,8,6,365,A\\r\\n279,64,0,31,26,30,1,279,64,0,31,26,30,N,W,107,205,16,75,N\\r\\n484,127,20,66,65,67,7,3006,844,116,436,458,377,N,E,1231,80,7,1183.333,N\\r\\n431,127,8,77,45,58,2,667,187,9,117,64,88,N,E,283,8,3,202.5,N\\r\\n283,70,8,33,37,27,12,4479,1222,94,557,483,307,A,E,156,2,2,225,A\\r\\n491,141,11,77,47,37,15,4291,1240,84,615,430,340,A,E,239,8,2,525,A\\r\\n199,52,9,26,28,21,6,805,191,30,113,119,87,N,W,235,22,5,265,N\\r\\n589,149,21,89,86,64,7,3558,928,102,513,471,351,A,E,371,6,6,787.5,A\\r\\n327,84,22,53,62,38,10,4273,1123,212,577,700,334,A,E,483,48,6,800,N\\r\\n464,128,28,67,94,52,13,5829,1552,210,740,840,452,A,W,0,0,0,587.5,A\\r\\n166,34,0,20,13,17,1,166,34,0,20,13,17,N,E,64,119,9,NA,N\\r\\n338,92,18,42,60,21,3,682,185,36,88,112,50,A,E,0,0,0,145,A\\r\\n508,146,8,80,44,46,9,3148,915,41,571,289,326,A,W,245,5,9,NA,A\\r\\n584,157,20,95,73,63,10,4704,1320,93,724,522,576,A,E,276,421,11,420,A\\r\\n216,54,2,27,25,33,1,216,54,2,27,25,33,N,W,317,36,1,75,N\\r\\n625,179,4,94,60,65,5,1696,476,12,216,163,166,A,E,303,450,14,575,A\\r\\n243,53,4,18,26,27,4,853,228,23,101,110,76,N,E,107,3,3,NA,N\\r\\n489,131,19,77,55,34,7,2051,549,62,300,263,153,A,W,310,9,9,780,A\\r\\n209,56,12,22,36,19,2,216,58,12,24,37,19,N,E,201,6,3,90,N\\r\\n407,93,8,47,30,30,2,969,230,14,121,69,68,N,W,172,317,25,150,N\\r\\n490,148,14,64,78,49,13,3400,1000,113,445,491,301,A,E,0,0,0,700,N\\r\\n209,59,6,20,37,27,4,884,209,14,66,106,92,N,E,415,35,3,NA,N\\r\\n442,131,18,68,77,33,6,1416,398,47,210,203,136,A,E,233,7,7,550,A\\r\\n317,88,3,40,32,19,8,2543,715,28,269,270,118,A,W,220,16,4,NA,A\\r\\n288,65,8,30,36,27,9,2815,698,55,315,325,189,N,E,259,30,10,650,A\\r\\n209,54,3,25,14,12,1,209,54,3,25,14,12,A,W,102,6,3,68,A\\r\\n303,71,3,18,30,36,3,344,76,3,20,36,45,N,E,468,47,6,100,N\\r\\n330,77,19,47,53,27,6,1928,516,90,247,288,161,N,W,149,8,6,670,N\\r\\n504,120,28,71,71,54,3,1085,259,54,150,167,114,A,E,103,283,19,175,A\\r\\n258,60,8,28,33,18,3,638,170,17,80,75,36,A,W,358,32,8,137,A\\r\\n20,1,0,0,0,0,2,41,9,2,6,7,4,N,E,78,220,6,2127.333,N\\r\\n374,94,5,36,26,62,7,1968,519,26,181,199,288,N,W,756,64,15,875,N\\r\\n211,43,10,26,35,39,3,498,116,14,59,55,78,A,W,463,32,8,120,A\\r\\n299,75,6,38,23,26,3,580,160,8,71,33,44,N,E,212,1,2,140,N\\r\\n576,167,8,89,49,57,4,822,232,19,132,83,79,N,E,325,12,8,210,N\\r\\n381,110,9,61,45,32,7,3015,834,40,451,249,168,N,E,228,7,5,800,N\\r\\n288,76,7,34,37,15,4,1644,408,16,198,120,113,N,W,203,3,3,240,N\\r\\n369,93,9,43,42,49,5,1258,323,54,181,177,157,A,E,149,1,6,350,A\\r\\n330,76,12,35,41,47,4,1367,326,55,167,198,167,N,W,512,30,5,NA,N\\r\\n547,137,2,58,47,12,2,1038,271,3,129,80,24,A,W,261,459,22,175,A\\r\\n572,152,18,105,49,65,2,978,249,36,168,91,101,A,W,325,13,3,200,A\\r\\n359,84,4,46,27,21,12,4992,1257,37,699,386,387,N,W,151,8,5,NA,N\\r\\n514,144,0,67,54,79,9,4739,1169,13,583,374,528,N,E,229,453,15,1940,N\\r\\n359,80,15,45,48,63,7,1493,359,61,176,202,175,N,W,682,93,13,700,N\\r\\n526,163,12,88,50,77,4,1556,470,38,245,167,174,A,W,250,11,1,750,A\\r\\n313,83,9,43,41,30,14,5885,1543,104,751,714,535,N,W,58,141,23,450,N\\r\\n540,135,30,82,88,55,1,540,135,30,82,88,55,A,W,157,6,14,172,A\\r\\n437,123,9,62,55,40,9,4139,1203,79,676,390,364,A,E,82,170,15,1260,A\\r\\n551,160,23,86,90,87,5,2235,602,75,278,328,273,A,W,1224,115,11,NA,A\\r\\n237,52,0,15,25,30,24,14053,4256,160,2165,1314,1566,N,W,523,43,6,750,N\\r\\n236,56,6,41,19,21,5,1257,329,24,166,125,105,A,E,172,1,4,190,A\\r\\n473,154,6,61,48,29,6,1966,566,29,250,252,178,A,E,846,84,9,580,A\\r\\n309,72,0,33,31,26,5,354,82,0,41,32,26,N,E,117,269,12,130,N\\r\\n271,77,5,35,29,33,12,4933,1358,48,630,435,403,A,W,62,90,3,450,A\\r\\n357,96,7,50,45,39,5,1394,344,43,178,192,136,A,W,167,2,4,300,A\\r\\n216,56,4,22,18,15,12,2796,665,43,266,304,198,A,E,391,44,4,250,A\\r\\n256,70,13,42,36,44,16,7058,1845,312,965,1128,990,N,E,41,118,8,1050,A\\r\\n466,108,33,75,86,72,3,652,142,44,102,109,102,A,E,286,8,8,215,A\\r\\n327,68,13,42,29,45,18,3949,939,78,438,380,466,A,E,659,53,7,400,A\\r\\n462,119,16,49,65,37,7,2131,583,69,244,288,150,A,E,866,65,6,NA,A\\r\\n341,110,9,45,49,46,9,2331,658,50,249,322,274,A,E,251,9,4,560,A\\r\\n608,160,28,130,74,89,8,4071,1182,103,862,417,708,A,E,426,4,6,1670,A\\r\\n419,101,18,65,58,92,20,9528,2510,548,1509,1659,1342,A,W,0,0,0,487.5,A\\r\\n33,6,0,2,4,7,1,33,6,0,2,4,7,A,W,205,5,4,NA,A\\r\\n376,82,21,42,60,35,5,1770,408,115,238,299,157,A,W,0,0,0,425,A\\r\\n486,145,11,51,76,40,11,3967,1102,67,410,497,284,N,E,88,204,16,500,A\\r\\n186,44,7,28,16,11,1,186,44,7,28,16,11,N,W,99,3,1,NA,N\\r\\n307,80,1,42,36,29,7,2421,656,18,379,198,184,A,W,145,2,2,NA,A\\r\\n246,76,5,35,39,13,6,912,234,12,102,96,80,A,E,44,0,1,250,A\\r\\n205,52,8,31,27,17,12,5134,1323,56,643,445,459,A,E,155,3,2,400,A\\r\\n348,90,11,50,45,43,10,2288,614,43,295,273,269,A,E,60,176,6,450,A\\r\\n523,135,8,52,44,52,9,3368,895,39,377,284,296,N,W,367,475,19,750,N\\r\\n312,68,2,32,22,24,1,312,68,2,32,22,24,A,E,86,150,15,70,A\\r\\n496,119,8,57,33,21,7,3358,882,36,365,280,165,N,W,155,371,29,875,N\\r\\n126,27,3,8,10,5,4,239,49,3,16,13,14,N,E,190,2,9,190,N\\r\\n275,68,5,42,42,61,6,961,238,16,128,104,172,N,E,181,3,2,191,N\\r\\n627,178,14,68,76,46,6,3146,902,74,494,345,242,N,E,309,492,5,740,N\\r\\n394,86,1,38,28,36,4,1089,267,3,94,71,76,N,E,203,369,16,250,N\\r\\n208,57,8,32,25,18,3,653,170,17,98,54,62,N,E,42,94,13,140,N\\r\\n382,101,16,50,55,22,1,382,101,16,50,55,22,A,W,200,7,6,97.5,A\\r\\n459,113,20,59,57,68,12,5348,1369,155,713,660,735,A,W,0,0,0,740,A\\r\\n549,149,7,73,47,42,1,549,149,7,73,47,42,N,W,255,450,17,140,N\\r\\n288,63,3,25,33,16,10,2682,667,38,315,259,204,A,W,135,257,7,341.667,A\\r\\n303,84,4,35,32,23,2,312,87,4,39,32,23,N,W,179,5,3,NA,N\\r\\n522,163,9,82,46,62,13,7037,2019,153,1043,827,535,A,E,352,9,1,1000,A\\r\\n512,117,29,54,88,43,6,1750,412,100,204,276,155,A,W,1236,98,18,100,A\\r\\n220,66,5,20,28,13,3,290,80,5,27,31,15,A,W,281,21,3,90,A\\r\\n522,140,16,73,77,60,4,730,185,22,93,106,86,N,E,1320,166,17,200,N\\r\\n461,112,18,54,54,35,2,680,160,24,76,75,49,A,W,111,226,11,135,A\\r\\n581,145,17,66,68,21,2,831,210,21,106,86,40,N,E,320,465,32,155,N\\r\\n530,159,3,82,50,47,6,1619,426,11,218,149,163,A,W,196,354,15,475,A\\r\\n557,142,21,58,81,23,18,8759,2583,271,1138,1299,478,N,W,1160,53,7,1450,N\\r\\n439,96,0,44,36,65,4,711,148,1,68,56,99,N,E,229,406,22,150,N\\r\\n453,103,8,53,33,52,2,507,123,8,63,39,58,A,W,289,407,6,105,A\\r\\n528,122,1,67,45,51,4,1716,403,12,211,146,155,A,W,209,372,17,350,A\\r\\n633,210,6,91,56,59,6,3070,872,19,420,230,274,N,W,367,432,16,90,N\\r\\n16,2,0,1,0,0,2,28,4,0,1,0,0,A,E,247,4,8,NA,A\\r\\n562,169,17,88,73,53,8,3181,841,61,450,342,373,A,E,351,442,17,530,A\\r\\n281,76,3,42,25,20,8,2658,657,48,324,300,179,A,E,106,144,7,341.667,A\\r\\n593,152,23,69,75,53,6,2765,686,133,369,384,321,A,W,315,10,6,940,A\\r\\n687,213,10,91,65,27,4,1518,448,15,196,137,89,A,E,294,445,13,350,A\\r\\n368,103,3,48,28,54,8,1897,493,9,207,162,198,N,W,209,246,3,326.667,N\\r\\n263,70,1,26,23,30,4,888,220,9,83,82,86,N,E,81,147,4,250,N\\r\\n642,211,14,107,59,52,5,2364,770,27,352,230,193,N,W,337,19,4,740,N\\r\\n265,68,8,26,30,29,7,1337,339,32,135,163,128,N,W,92,5,3,425,A\\r\\n289,63,7,36,41,44,17,7402,1954,195,1115,919,1153,A,W,166,211,7,NA,A\\r\\n559,141,2,48,61,73,8,3162,874,16,421,349,359,N,E,352,414,9,925,N\\r\\n520,120,17,53,44,21,4,927,227,22,106,80,52,A,W,70,144,11,185,A\\r\\n19,4,1,2,3,1,1,19,4,1,2,3,1,N,W,692,70,8,920,A\\r\\n205,43,2,24,17,20,7,854,219,12,105,99,71,N,E,131,6,1,286.667,N\\r\\n193,47,10,21,29,24,6,1136,256,42,129,139,106,A,W,299,13,5,245,A\\r\\n181,46,1,19,18,17,5,937,238,9,88,95,104,A,E,37,98,9,NA,A\\r\\n213,61,4,17,22,3,17,4061,1145,83,488,491,244,A,W,178,45,4,235,A\\r\\n510,147,10,56,52,53,7,2872,821,63,307,340,174,N,E,810,99,18,1150,N\\r\\n578,138,1,56,59,34,3,1399,357,7,149,161,87,N,E,133,371,20,160,N\\r\\n200,51,2,14,29,25,23,9778,2732,379,1272,1652,925,N,W,398,29,7,NA,N\\r\\n441,113,5,76,52,76,5,1546,397,17,226,149,191,A,W,160,290,11,425,A\\r\\n172,42,3,17,14,15,10,4086,1150,57,579,363,406,N,W,65,0,0,900,N\\r\\n580,194,9,91,62,78,8,3372,1028,48,604,314,469,N,E,270,13,6,NA,N\\r\\n127,32,4,14,25,12,19,8396,2402,242,1048,1348,819,N,W,167,18,6,500,N\\r\\n279,69,4,35,31,32,4,1359,355,31,180,148,158,N,E,133,173,9,277.5,N\\r\\n480,112,18,50,71,44,7,3031,771,110,338,406,239,N,E,94,270,16,750,N\\r\\n600,139,0,94,29,60,2,1236,309,1,201,69,110,N,E,300,12,9,160,N\\r\\n610,186,19,107,98,74,6,2728,753,69,399,366,286,N,E,1182,96,13,1300,N\\r\\n360,81,5,37,44,37,7,2268,566,41,279,257,246,N,E,170,284,3,525,N\\r\\n387,124,1,67,27,36,7,1775,506,6,272,125,194,N,E,186,290,17,550,N\\r\\n580,207,8,107,71,105,5,2778,978,32,474,322,417,A,E,121,267,19,1600,A\\r\\n408,117,11,66,41,34,1,408,117,11,66,41,34,N,W,942,72,11,120,N\\r\\n593,172,22,82,100,57,1,593,172,22,82,100,57,A,W,1222,139,15,165,A\\r\\n221,53,2,21,23,22,8,1063,283,15,107,124,106,N,E,325,58,6,NA,N\\r\\n497,127,7,65,48,37,5,2703,806,32,379,311,138,N,E,325,9,3,700,N\\r\\n492,136,5,76,50,94,12,5511,1511,39,897,451,875,A,E,313,381,20,875,A\\r\\n475,126,3,61,43,52,6,1700,433,7,217,93,146,A,W,37,113,7,385,A\\r\\n573,144,9,85,60,78,8,3198,857,97,470,420,332,A,E,1314,131,12,960,A\\r\\n631,170,9,77,44,31,11,4908,1457,30,775,357,249,A,W,408,4,3,1000,A\\r\\n'}"
            ]
          },
          "metadata": {
            "tags": []
          },
          "execution_count": 2
        }
      ]
    },
    {
      "cell_type": "code",
      "metadata": {
        "id": "OstCohztOsE7"
      },
      "source": [
        "import pandas as pd\n",
        "from sklearn.model_selection import train_test_split\n",
        "hit = pd.read_csv(\"Hitters.csv\")\n",
        "df = hit.copy()\n",
        "df = df.dropna()\n",
        "dms = pd.get_dummies(df[['League', 'Division', 'NewLeague']])\n",
        "y = df[\"Salary\"]\n",
        "X_ = df.drop(['Salary', 'League', 'Division', 'NewLeague'], axis=1).astype('float64')\n",
        "X = pd.concat([X_, dms[['League_N', 'Division_W', 'NewLeague_N']]], axis=1)\n",
        "X_train, X_test, y_train, y_test = train_test_split(X, y, \n",
        "                                                    test_size=0.25, \n",
        "                                                    random_state=42)"
      ],
      "execution_count": null,
      "outputs": []
    },
    {
      "cell_type": "code",
      "metadata": {
        "id": "cHlFThooOsE8"
      },
      "source": [
        "from sklearn.linear_model import Ridge"
      ],
      "execution_count": null,
      "outputs": []
    },
    {
      "cell_type": "code",
      "metadata": {
        "id": "CObSQNzwOsE8"
      },
      "source": [
        "ridge_model = Ridge(alpha = 0.1).fit(X_train, y_train)"
      ],
      "execution_count": null,
      "outputs": []
    },
    {
      "cell_type": "code",
      "metadata": {
        "id": "oKBpcCXSOsE9",
        "colab": {
          "base_uri": "https://localhost:8080/"
        },
        "outputId": "8d2b3e59-ecc3-451b-f33d-ee9fad18b360"
      },
      "source": [
        "#Alfa lambda sembolünü temsil eder.\n",
        "ridge_model"
      ],
      "execution_count": null,
      "outputs": [
        {
          "output_type": "execute_result",
          "data": {
            "text/plain": [
              "Ridge(alpha=0.1, copy_X=True, fit_intercept=True, max_iter=None,\n",
              "      normalize=False, random_state=None, solver='auto', tol=0.001)"
            ]
          },
          "metadata": {
            "tags": []
          },
          "execution_count": 6
        }
      ]
    },
    {
      "cell_type": "code",
      "metadata": {
        "id": "V7EqZdZsOsE9",
        "colab": {
          "base_uri": "https://localhost:8080/"
        },
        "outputId": "a41e710c-4828-42ac-97aa-5059027211c4"
      },
      "source": [
        "ridge_model.coef_"
      ],
      "execution_count": null,
      "outputs": [
        {
          "output_type": "execute_result",
          "data": {
            "text/plain": [
              "array([ -1.77435737,   8.80240528,   7.29595605,  -3.33257639,\n",
              "        -2.08316481,   5.42531283,   7.58514945,  -0.13752764,\n",
              "        -0.20779701,  -0.60361067,   1.7927957 ,   0.72866408,\n",
              "        -0.68710375,   0.26153564,   0.26888652,  -0.52674278,\n",
              "       112.14640272, -99.80997876, -48.07152768])"
            ]
          },
          "metadata": {
            "tags": []
          },
          "execution_count": 7
        }
      ]
    },
    {
      "cell_type": "code",
      "metadata": {
        "id": "z6kcT-VLOsE9"
      },
      "source": [
        "10**np.linspace(10,-2,100)*0.5 "
      ],
      "execution_count": null,
      "outputs": []
    },
    {
      "cell_type": "code",
      "metadata": {
        "id": "LnVsDqa-OsE-",
        "colab": {
          "base_uri": "https://localhost:8080/",
          "height": 300
        },
        "outputId": "2d6ff3d5-7ec6-4465-8503-4299836c70b6"
      },
      "source": [
        "import numpy as np\n",
        "import matplotlib.pyplot as plt\n",
        "lambdalar = 10**np.linspace(10,-2,100)*0.5 \n",
        "\n",
        "ridge_model = Ridge()\n",
        "katsayilar = []\n",
        "\n",
        "for i in lambdalar:\n",
        "    ridge_model.set_params(alpha = i)\n",
        "    ridge_model.fit(X_train, y_train) \n",
        "    katsayilar.append(ridge_model.coef_) \n",
        "    \n",
        "\n",
        "    \n",
        "ax = plt.gca()\n",
        "ax.plot(lambdalar, katsayilar) \n",
        "ax.set_xscale('log') \n",
        "\n",
        "plt.xlabel('Lambda(Alpha) Değerleri')\n",
        "plt.ylabel('Katsayılar/Ağırlıklar')\n",
        "plt.title('Düzenlileştirmenin Bir Fonksiyonu Olarak Ridge Katsayıları');"
      ],
      "execution_count": null,
      "outputs": [
        {
          "output_type": "display_data",
          "data": {
            "image/png": "[encoded data removed]",
            "text/plain": [
              "<Figure size 432x288 with 1 Axes>"
            ]
          },
          "metadata": {
            "tags": [],
            "needs_background": "light"
          }
        }
      ]
    },
    {
      "cell_type": "markdown",
      "metadata": {
        "id": "QyovX6DUOsE-"
      },
      "source": [
        "## Tahmin"
      ]
    },
    {
      "cell_type": "code",
      "metadata": {
        "id": "3wbrtg2AOsFA"
      },
      "source": [
        "y_pred = ridge_model.predict(X_test)"
      ],
      "execution_count": null,
      "outputs": []
    },
    {
      "cell_type": "code",
      "metadata": {
        "id": "0FvZzkmAOsFB",
        "colab": {
          "base_uri": "https://localhost:8080/"
        },
        "outputId": "87081340-8419-402e-c3e0-826c6494148b"
      },
      "source": [
        "from sklearn.metrics import mean_squared_error\n",
        "np.sqrt(mean_squared_error(y_test, y_pred))"
      ],
      "execution_count": null,
      "outputs": [
        {
          "output_type": "execute_result",
          "data": {
            "text/plain": [
              "357.05179222828434"
            ]
          },
          "metadata": {
            "tags": []
          },
          "execution_count": 17
        }
      ]
    },
    {
      "cell_type": "code",
      "metadata": {
        "colab": {
          "base_uri": "https://localhost:8080/"
        },
        "id": "6HQGQdqjKxKf",
        "outputId": "3261dcdb-a085-44b8-a4a0-3d1885104832"
      },
      "source": [
        "from sklearn.metrics import r2_score\n",
        "r2_score(y_test,y_pred)"
      ],
      "execution_count": null,
      "outputs": [
        {
          "output_type": "execute_result",
          "data": {
            "text/plain": [
              "0.4110844905067612"
            ]
          },
          "metadata": {
            "tags": []
          },
          "execution_count": 23
        }
      ]
    },
    {
      "cell_type": "markdown",
      "metadata": {
        "id": "eatbpByqOsFB"
      },
      "source": [
        "## Model Tuning"
      ]
    },
    {
      "cell_type": "code",
      "metadata": {
        "id": "4y3OB39XOsFC"
      },
      "source": [
        "lambdalar = 10**np.linspace(10,-2,100)*0.5 "
      ],
      "execution_count": null,
      "outputs": []
    },
    {
      "cell_type": "code",
      "metadata": {
        "id": "1KTjAMxMOsFC"
      },
      "source": [
        "lambdalar[0:5]"
      ],
      "execution_count": null,
      "outputs": []
    },
    {
      "cell_type": "code",
      "metadata": {
        "id": "Yi4xn8AUOsFD"
      },
      "source": [
        "from sklearn.linear_model import RidgeCV\n",
        "ridge_cv = RidgeCV(alphas = lambdalar, \n",
        "                   scoring = \"neg_mean_squared_error\",\n",
        "                   normalize = True)"
      ],
      "execution_count": null,
      "outputs": []
    },
    {
      "cell_type": "code",
      "metadata": {
        "id": "ZsHbLpqQOsFD",
        "colab": {
          "base_uri": "https://localhost:8080/"
        },
        "outputId": "88b8586f-6ed2-4b6d-8134-9690aca15199"
      },
      "source": [
        "ridge_cv.fit(X_train, y_train)"
      ],
      "execution_count": null,
      "outputs": [
        {
          "output_type": "execute_result",
          "data": {
            "text/plain": [
              "RidgeCV(alphas=array([5.00000000e+09, 3.78231664e+09, 2.86118383e+09, 2.16438064e+09,\n",
              "       1.63727458e+09, 1.23853818e+09, 9.36908711e+08, 7.08737081e+08,\n",
              "       5.36133611e+08, 4.05565415e+08, 3.06795364e+08, 2.32079442e+08,\n",
              "       1.75559587e+08, 1.32804389e+08, 1.00461650e+08, 7.59955541e+07,\n",
              "       5.74878498e+07, 4.34874501e+07, 3.28966612e+07, 2.48851178e+07,\n",
              "       1.88246790e+07, 1.42401793e+0...\n",
              "       3.28966612e-01, 2.48851178e-01, 1.88246790e-01, 1.42401793e-01,\n",
              "       1.07721735e-01, 8.14875417e-02, 6.16423370e-02, 4.66301673e-02,\n",
              "       3.52740116e-02, 2.66834962e-02, 2.01850863e-02, 1.52692775e-02,\n",
              "       1.15506485e-02, 8.73764200e-03, 6.60970574e-03, 5.00000000e-03]),\n",
              "        cv=None, fit_intercept=True, gcv_mode=None, normalize=True,\n",
              "        scoring='neg_mean_squared_error', store_cv_values=False)"
            ]
          },
          "metadata": {
            "tags": []
          },
          "execution_count": 27
        }
      ]
    },
    {
      "cell_type": "code",
      "metadata": {
        "id": "JjgPtJrjOsFE",
        "colab": {
          "base_uri": "https://localhost:8080/"
        },
        "outputId": "4d6a185a-b03f-44f1-b89d-1a5cdd604da2"
      },
      "source": [
        "ridge_cv.alpha_"
      ],
      "execution_count": null,
      "outputs": [
        {
          "output_type": "execute_result",
          "data": {
            "text/plain": [
              "0.7599555414764666"
            ]
          },
          "metadata": {
            "tags": []
          },
          "execution_count": 28
        }
      ]
    },
    {
      "cell_type": "code",
      "metadata": {
        "id": "U46PC4h7OsFE"
      },
      "source": [
        "ridge_tuned = Ridge(alpha = ridge_cv.alpha_, \n",
        "                   normalize = True).fit(X_train,y_train)"
      ],
      "execution_count": null,
      "outputs": []
    },
    {
      "cell_type": "code",
      "metadata": {
        "id": "LM0_GRTeOsFE",
        "colab": {
          "base_uri": "https://localhost:8080/"
        },
        "outputId": "fec1d5c8-46a5-423d-fc82-d385fa3d3446"
      },
      "source": [
        "np.sqrt(mean_squared_error(y_test, ridge_tuned.predict(X_test)))"
      ],
      "execution_count": null,
      "outputs": [
        {
          "output_type": "execute_result",
          "data": {
            "text/plain": [
              "386.6826429756415"
            ]
          },
          "metadata": {
            "tags": []
          },
          "execution_count": 30
        }
      ]
    },
    {
      "cell_type": "markdown",
      "metadata": {
        "id": "P14LpLRPOsFF"
      },
      "source": [
        "# Lasso Regresyon"
      ]
    },
    {
      "cell_type": "markdown",
      "metadata": {
        "id": "a3gxBB3FOsFF"
      },
      "source": [
        "## Model"
      ]
    },
    {
      "cell_type": "code",
      "metadata": {
        "id": "87pn0L-JOsFG"
      },
      "source": [
        "hit = pd.read_csv(\"Hitters.csv\")\n",
        "df = hit.copy()\n",
        "df = df.dropna()\n",
        "dms = pd.get_dummies(df[['League', 'Division', 'NewLeague']])\n",
        "y = df[\"Salary\"]\n",
        "X_ = df.drop(['Salary', 'League', 'Division', 'NewLeague'], axis=1).astype('float64')\n",
        "X = pd.concat([X_, dms[['League_N', 'Division_W', 'NewLeague_N']]], axis=1)\n",
        "X_train, X_test, y_train, y_test = train_test_split(X, y, \n",
        "                                                    test_size=0.25, \n",
        "                                                    random_state=42)"
      ],
      "execution_count": 10,
      "outputs": []
    },
    {
      "cell_type": "code",
      "metadata": {
        "id": "QmYHvzX7OsFG"
      },
      "source": [
        "from sklearn.linear_model import Lasso"
      ],
      "execution_count": 11,
      "outputs": []
    },
    {
      "cell_type": "code",
      "metadata": {
        "id": "okmZM4CLOsFG",
        "colab": {
          "base_uri": "https://localhost:8080/"
        },
        "outputId": "00567f8c-afaa-4734-f066-a1d9ccc8d0de"
      },
      "source": [
        "lasso_model = Lasso(alpha = 0.1).fit(X_train, y_train)"
      ],
      "execution_count": 12,
      "outputs": [
        {
          "output_type": "stream",
          "text": [
            "/usr/local/lib/python3.7/dist-packages/sklearn/linear_model/_coordinate_descent.py:476: ConvergenceWarning: Objective did not converge. You might want to increase the number of iterations. Duality gap: 8249174.751388069, tolerance: 3898.6869563806586\n",
            "  positive)\n"
          ],
          "name": "stderr"
        }
      ]
    },
    {
      "cell_type": "code",
      "metadata": {
        "id": "ZI3QHW5lOsFH",
        "colab": {
          "base_uri": "https://localhost:8080/"
        },
        "outputId": "b24261ca-d353-4d65-d7bc-f16468875bc8"
      },
      "source": [
        "lasso_model"
      ],
      "execution_count": 13,
      "outputs": [
        {
          "output_type": "execute_result",
          "data": {
            "text/plain": [
              "Lasso(alpha=0.1, copy_X=True, fit_intercept=True, max_iter=1000,\n",
              "      normalize=False, positive=False, precompute=False, random_state=None,\n",
              "      selection='cyclic', tol=0.0001, warm_start=False)"
            ]
          },
          "metadata": {
            "tags": []
          },
          "execution_count": 13
        }
      ]
    },
    {
      "cell_type": "code",
      "metadata": {
        "id": "fMsQ_y1MOsFH",
        "colab": {
          "base_uri": "https://localhost:8080/"
        },
        "outputId": "f79a32e0-e440-4ac8-eb1b-92e771590f97"
      },
      "source": [
        "lasso_model.coef_"
      ],
      "execution_count": 14,
      "outputs": [
        {
          "output_type": "execute_result",
          "data": {
            "text/plain": [
              "array([-1.72206506e+00,  8.56210197e+00,  6.91175137e+00, -3.13240128e+00,\n",
              "       -2.00771676e+00,  5.36159035e+00,  8.86871593e+00, -1.69520371e-01,\n",
              "       -5.58121413e-02, -3.53962588e-01,  1.70961000e+00,  6.40603469e-01,\n",
              "       -6.58519895e-01,  2.60093222e-01,  2.78717030e-01, -5.92690965e-01,\n",
              "        1.12659630e+02, -9.99652090e+01, -4.81289395e+01])"
            ]
          },
          "metadata": {
            "tags": []
          },
          "execution_count": 14
        }
      ]
    },
    {
      "cell_type": "code",
      "metadata": {
        "id": "_nsz1VT0OsFI",
        "colab": {
          "base_uri": "https://localhost:8080/",
          "height": 1000
        },
        "outputId": "3219e99b-b088-4187-ef68-ee46ce22a4c9"
      },
      "source": [
        "lasso = Lasso()\n",
        "lambdalar = 10**np.linspace(10,-2,100)*0.5 \n",
        "katsayilar = []\n",
        "\n",
        "for i in lambdalar:\n",
        "    lasso.set_params(alpha=i)\n",
        "    lasso.fit(X_train, y_train)\n",
        "    katsayilar.append(lasso.coef_)\n",
        "    \n",
        "ax = plt.gca()\n",
        "ax.plot(lambdalar*2, katsayilar)\n",
        "ax.set_xscale('log')\n",
        "plt.axis('tight')\n",
        "plt.xlabel('alpha')\n",
        "plt.ylabel('weights');"
      ],
      "execution_count": 16,
      "outputs": [
        {
          "output_type": "stream",
          "text": [
            "/usr/local/lib/python3.7/dist-packages/sklearn/linear_model/_coordinate_descent.py:476: ConvergenceWarning: Objective did not converge. You might want to increase the number of iterations. Duality gap: 5469.558741439134, tolerance: 3898.6869563806586\n",
            "  positive)\n",
            "/usr/local/lib/python3.7/dist-packages/sklearn/linear_model/_coordinate_descent.py:476: ConvergenceWarning: Objective did not converge. You might want to increase the number of iterations. Duality gap: 6540.147679522634, tolerance: 3898.6869563806586\n",
            "  positive)\n",
            "/usr/local/lib/python3.7/dist-packages/sklearn/linear_model/_coordinate_descent.py:476: ConvergenceWarning: Objective did not converge. You might want to increase the number of iterations. Duality gap: 4001.7561374865472, tolerance: 3898.6869563806586\n",
            "  positive)\n",
            "/usr/local/lib/python3.7/dist-packages/sklearn/linear_model/_coordinate_descent.py:476: ConvergenceWarning: Objective did not converge. You might want to increase the number of iterations. Duality gap: 5357.774935577065, tolerance: 3898.6869563806586\n",
            "  positive)\n",
            "/usr/local/lib/python3.7/dist-packages/sklearn/linear_model/_coordinate_descent.py:476: ConvergenceWarning: Objective did not converge. You might want to increase the number of iterations. Duality gap: 5543.611320525408, tolerance: 3898.6869563806586\n",
            "  positive)\n",
            "/usr/local/lib/python3.7/dist-packages/sklearn/linear_model/_coordinate_descent.py:476: ConvergenceWarning: Objective did not converge. You might want to increase the number of iterations. Duality gap: 38977.90211523324, tolerance: 3898.6869563806586\n",
            "  positive)\n",
            "/usr/local/lib/python3.7/dist-packages/sklearn/linear_model/_coordinate_descent.py:476: ConvergenceWarning: Objective did not converge. You might want to increase the number of iterations. Duality gap: 4436895.415746817, tolerance: 3898.6869563806586\n",
            "  positive)\n",
            "/usr/local/lib/python3.7/dist-packages/sklearn/linear_model/_coordinate_descent.py:476: ConvergenceWarning: Objective did not converge. You might want to increase the number of iterations. Duality gap: 6555245.313880114, tolerance: 3898.6869563806586\n",
            "  positive)\n",
            "/usr/local/lib/python3.7/dist-packages/sklearn/linear_model/_coordinate_descent.py:476: ConvergenceWarning: Objective did not converge. You might want to increase the number of iterations. Duality gap: 7517635.389993196, tolerance: 3898.6869563806586\n",
            "  positive)\n",
            "/usr/local/lib/python3.7/dist-packages/sklearn/linear_model/_coordinate_descent.py:476: ConvergenceWarning: Objective did not converge. You might want to increase the number of iterations. Duality gap: 7913116.552938734, tolerance: 3898.6869563806586\n",
            "  positive)\n",
            "/usr/local/lib/python3.7/dist-packages/sklearn/linear_model/_coordinate_descent.py:476: ConvergenceWarning: Objective did not converge. You might want to increase the number of iterations. Duality gap: 8063057.666015306, tolerance: 3898.6869563806586\n",
            "  positive)\n",
            "/usr/local/lib/python3.7/dist-packages/sklearn/linear_model/_coordinate_descent.py:476: ConvergenceWarning: Objective did not converge. You might want to increase the number of iterations. Duality gap: 8147851.972007812, tolerance: 3898.6869563806586\n",
            "  positive)\n",
            "/usr/local/lib/python3.7/dist-packages/sklearn/linear_model/_coordinate_descent.py:476: ConvergenceWarning: Objective did not converge. You might want to increase the number of iterations. Duality gap: 8195503.9251406435, tolerance: 3898.6869563806586\n",
            "  positive)\n",
            "/usr/local/lib/python3.7/dist-packages/sklearn/linear_model/_coordinate_descent.py:476: ConvergenceWarning: Objective did not converge. You might want to increase the number of iterations. Duality gap: 8222772.970408615, tolerance: 3898.6869563806586\n",
            "  positive)\n",
            "/usr/local/lib/python3.7/dist-packages/sklearn/linear_model/_coordinate_descent.py:476: ConvergenceWarning: Objective did not converge. You might want to increase the number of iterations. Duality gap: 8238618.061152123, tolerance: 3898.6869563806586\n",
            "  positive)\n",
            "/usr/local/lib/python3.7/dist-packages/sklearn/linear_model/_coordinate_descent.py:476: ConvergenceWarning: Objective did not converge. You might want to increase the number of iterations. Duality gap: 8247931.056261466, tolerance: 3898.6869563806586\n",
            "  positive)\n",
            "/usr/local/lib/python3.7/dist-packages/sklearn/linear_model/_coordinate_descent.py:476: ConvergenceWarning: Objective did not converge. You might want to increase the number of iterations. Duality gap: 8254112.78308282, tolerance: 3898.6869563806586\n",
            "  positive)\n",
            "/usr/local/lib/python3.7/dist-packages/sklearn/linear_model/_coordinate_descent.py:476: ConvergenceWarning: Objective did not converge. You might want to increase the number of iterations. Duality gap: 8256643.474169186, tolerance: 3898.6869563806586\n",
            "  positive)\n",
            "/usr/local/lib/python3.7/dist-packages/sklearn/linear_model/_coordinate_descent.py:476: ConvergenceWarning: Objective did not converge. You might want to increase the number of iterations. Duality gap: 8256663.517485516, tolerance: 3898.6869563806586\n",
            "  positive)\n",
            "/usr/local/lib/python3.7/dist-packages/sklearn/linear_model/_coordinate_descent.py:476: ConvergenceWarning: Objective did not converge. You might want to increase the number of iterations. Duality gap: 8255732.406295822, tolerance: 3898.6869563806586\n",
            "  positive)\n",
            "/usr/local/lib/python3.7/dist-packages/sklearn/linear_model/_coordinate_descent.py:476: ConvergenceWarning: Objective did not converge. You might want to increase the number of iterations. Duality gap: 8254488.032216602, tolerance: 3898.6869563806586\n",
            "  positive)\n",
            "/usr/local/lib/python3.7/dist-packages/sklearn/linear_model/_coordinate_descent.py:476: ConvergenceWarning: Objective did not converge. You might want to increase the number of iterations. Duality gap: 8253238.172401878, tolerance: 3898.6869563806586\n",
            "  positive)\n",
            "/usr/local/lib/python3.7/dist-packages/sklearn/linear_model/_coordinate_descent.py:476: ConvergenceWarning: Objective did not converge. You might want to increase the number of iterations. Duality gap: 8252116.626715364, tolerance: 3898.6869563806586\n",
            "  positive)\n",
            "/usr/local/lib/python3.7/dist-packages/sklearn/linear_model/_coordinate_descent.py:476: ConvergenceWarning: Objective did not converge. You might want to increase the number of iterations. Duality gap: 8251167.599148555, tolerance: 3898.6869563806586\n",
            "  positive)\n",
            "/usr/local/lib/python3.7/dist-packages/sklearn/linear_model/_coordinate_descent.py:476: ConvergenceWarning: Objective did not converge. You might want to increase the number of iterations. Duality gap: 8250392.226499393, tolerance: 3898.6869563806586\n",
            "  positive)\n",
            "/usr/local/lib/python3.7/dist-packages/sklearn/linear_model/_coordinate_descent.py:476: ConvergenceWarning: Objective did not converge. You might want to increase the number of iterations. Duality gap: 8249772.805943201, tolerance: 3898.6869563806586\n",
            "  positive)\n",
            "/usr/local/lib/python3.7/dist-packages/sklearn/linear_model/_coordinate_descent.py:476: ConvergenceWarning: Objective did not converge. You might want to increase the number of iterations. Duality gap: 8249285.457096025, tolerance: 3898.6869563806586\n",
            "  positive)\n",
            "/usr/local/lib/python3.7/dist-packages/sklearn/linear_model/_coordinate_descent.py:476: ConvergenceWarning: Objective did not converge. You might want to increase the number of iterations. Duality gap: 8248906.058581418, tolerance: 3898.6869563806586\n",
            "  positive)\n",
            "/usr/local/lib/python3.7/dist-packages/sklearn/linear_model/_coordinate_descent.py:476: ConvergenceWarning: Objective did not converge. You might want to increase the number of iterations. Duality gap: 8248612.895175017, tolerance: 3898.6869563806586\n",
            "  positive)\n",
            "/usr/local/lib/python3.7/dist-packages/sklearn/linear_model/_coordinate_descent.py:476: ConvergenceWarning: Objective did not converge. You might want to increase the number of iterations. Duality gap: 8248387.613746916, tolerance: 3898.6869563806586\n",
            "  positive)\n",
            "/usr/local/lib/python3.7/dist-packages/sklearn/linear_model/_coordinate_descent.py:476: ConvergenceWarning: Objective did not converge. You might want to increase the number of iterations. Duality gap: 8248215.191106186, tolerance: 3898.6869563806586\n",
            "  positive)\n",
            "/usr/local/lib/python3.7/dist-packages/sklearn/linear_model/_coordinate_descent.py:476: ConvergenceWarning: Objective did not converge. You might want to increase the number of iterations. Duality gap: 8248083.606041478, tolerance: 3898.6869563806586\n",
            "  positive)\n",
            "/usr/local/lib/python3.7/dist-packages/sklearn/linear_model/_coordinate_descent.py:476: ConvergenceWarning: Objective did not converge. You might want to increase the number of iterations. Duality gap: 8247983.409285007, tolerance: 3898.6869563806586\n",
            "  positive)\n",
            "/usr/local/lib/python3.7/dist-packages/sklearn/linear_model/_coordinate_descent.py:476: ConvergenceWarning: Objective did not converge. You might want to increase the number of iterations. Duality gap: 8247907.234834613, tolerance: 3898.6869563806586\n",
            "  positive)\n",
            "/usr/local/lib/python3.7/dist-packages/sklearn/linear_model/_coordinate_descent.py:476: ConvergenceWarning: Objective did not converge. You might want to increase the number of iterations. Duality gap: 8247849.397090819, tolerance: 3898.6869563806586\n",
            "  positive)\n",
            "/usr/local/lib/python3.7/dist-packages/sklearn/linear_model/_coordinate_descent.py:476: ConvergenceWarning: Objective did not converge. You might want to increase the number of iterations. Duality gap: 8247805.522216821, tolerance: 3898.6869563806586\n",
            "  positive)\n",
            "/usr/local/lib/python3.7/dist-packages/sklearn/linear_model/_coordinate_descent.py:476: ConvergenceWarning: Objective did not converge. You might want to increase the number of iterations. Duality gap: 8247772.261812323, tolerance: 3898.6869563806586\n",
            "  positive)\n",
            "/usr/local/lib/python3.7/dist-packages/sklearn/linear_model/_coordinate_descent.py:476: ConvergenceWarning: Objective did not converge. You might want to increase the number of iterations. Duality gap: 8247747.060921391, tolerance: 3898.6869563806586\n",
            "  positive)\n"
          ],
          "name": "stderr"
        },
        {
          "output_type": "display_data",
          "data": {
            "image/png": "[encoded data removed]",
            "text/plain": [
              "<Figure size 432x288 with 1 Axes>"
            ]
          },
          "metadata": {
            "tags": [],
            "needs_background": "light"
          }
        }
      ]
    },
    {
      "cell_type": "markdown",
      "metadata": {
        "id": "B6Nz-DGjOsFI"
      },
      "source": [
        "## Tahmin "
      ]
    },
    {
      "cell_type": "code",
      "metadata": {
        "id": "bnP6pwD_OsFI",
        "colab": {
          "base_uri": "https://localhost:8080/"
        },
        "outputId": "45c1c881-a487-4a26-ff9b-8dc7e8423e82"
      },
      "source": [
        "lasso_model.predict(X_test)"
      ],
      "execution_count": 17,
      "outputs": [
        {
          "output_type": "execute_result",
          "data": {
            "text/plain": [
              "array([ 613.88833029,  701.97056731, 1005.55539526,  414.08312603,\n",
              "        399.18417127,  344.71444139,  664.86990217,  451.60757   ,\n",
              "        914.64492066,  644.67006406,  691.60613554,  884.71702368,\n",
              "        210.04523766,  446.12527252,  262.94922087,  499.22332142,\n",
              "        805.2275034 ,   43.49230343, 1250.49322312,  316.34470193,\n",
              "        422.96656686,  743.29944548,  572.90774248,  655.15609074,\n",
              "        618.96407069,  200.75845796,  882.64622066,  254.06366112,\n",
              "        430.25494812,   84.17391461,  143.60312305,  130.61554   ,\n",
              "        363.74498233,  461.7321162 ,  273.42345417,  244.49816262,\n",
              "       1324.62748553,  107.89909718,  135.63065031,  242.72630885,\n",
              "         51.70024086,  297.57598929,  586.86143037,  398.85227639,\n",
              "        763.99543074,  690.10003532,  344.06272851,  247.43966241,\n",
              "        255.13234043,  662.89091837,  765.66189   ,  313.57347726,\n",
              "        765.84996179,  189.77235179,  283.98765436,  589.95238974,\n",
              "        663.31166365,  803.29524626,  164.99767232, 1170.24294111,\n",
              "       1672.69404705,  412.55338226,  993.80264541,  485.53522233,\n",
              "        567.84477674,  188.34982561])"
            ]
          },
          "metadata": {
            "tags": []
          },
          "execution_count": 17
        }
      ]
    },
    {
      "cell_type": "code",
      "metadata": {
        "id": "M7qZ1nu8OsFJ"
      },
      "source": [
        "y_pred = lasso_model.predict(X_test)"
      ],
      "execution_count": 18,
      "outputs": []
    },
    {
      "cell_type": "code",
      "metadata": {
        "id": "zWIiRM8uOsFK",
        "colab": {
          "base_uri": "https://localhost:8080/"
        },
        "outputId": "96bf3fff-28d9-4e04-b320-1a5d283db7c5"
      },
      "source": [
        "from sklearn.metrics import mean_squared_error\n",
        "np.sqrt(mean_squared_error(y_test, y_pred))"
      ],
      "execution_count": 20,
      "outputs": [
        {
          "output_type": "execute_result",
          "data": {
            "text/plain": [
              "356.7545270148768"
            ]
          },
          "metadata": {
            "tags": []
          },
          "execution_count": 20
        }
      ]
    },
    {
      "cell_type": "markdown",
      "metadata": {
        "id": "78BfTtp6OsFK"
      },
      "source": [
        "## Model Tuning"
      ]
    },
    {
      "cell_type": "code",
      "metadata": {
        "id": "tjSKMFdiOsFK"
      },
      "source": [
        "from sklearn.linear_model import LassoCV"
      ],
      "execution_count": 21,
      "outputs": []
    },
    {
      "cell_type": "code",
      "metadata": {
        "id": "0DpCSSAJOsFL"
      },
      "source": [
        "lasso_cv_model = LassoCV(alphas = None, \n",
        "                         cv = 10, \n",
        "                         max_iter = 10000, \n",
        "                         normalize = True)"
      ],
      "execution_count": 22,
      "outputs": []
    },
    {
      "cell_type": "code",
      "metadata": {
        "id": "wEAE1EDcOsFL",
        "colab": {
          "base_uri": "https://localhost:8080/"
        },
        "outputId": "5cc931b3-fe22-478f-ddd5-a455d67f2d83"
      },
      "source": [
        "lasso_cv_model.fit(X_train,y_train)"
      ],
      "execution_count": 23,
      "outputs": [
        {
          "output_type": "execute_result",
          "data": {
            "text/plain": [
              "LassoCV(alphas=None, copy_X=True, cv=10, eps=0.001, fit_intercept=True,\n",
              "        max_iter=10000, n_alphas=100, n_jobs=None, normalize=True,\n",
              "        positive=False, precompute='auto', random_state=None,\n",
              "        selection='cyclic', tol=0.0001, verbose=False)"
            ]
          },
          "metadata": {
            "tags": []
          },
          "execution_count": 23
        }
      ]
    },
    {
      "cell_type": "code",
      "metadata": {
        "id": "ONzB0kwSOsFM",
        "colab": {
          "base_uri": "https://localhost:8080/"
        },
        "outputId": "0eb9545a-df5f-4950-f4ad-f1b7f3541a04"
      },
      "source": [
        "lasso_cv_model.alpha_"
      ],
      "execution_count": 24,
      "outputs": [
        {
          "output_type": "execute_result",
          "data": {
            "text/plain": [
              "0.39406126432470073"
            ]
          },
          "metadata": {
            "tags": []
          },
          "execution_count": 24
        }
      ]
    },
    {
      "cell_type": "code",
      "metadata": {
        "id": "4SiCm8cBOsFM"
      },
      "source": [
        "lasso_tuned = Lasso(alpha = lasso_cv_model.alpha_)"
      ],
      "execution_count": 25,
      "outputs": []
    },
    {
      "cell_type": "code",
      "metadata": {
        "id": "BiRY0kIwOsFM",
        "colab": {
          "base_uri": "https://localhost:8080/"
        },
        "outputId": "e87ab8c1-8a04-4e67-e2aa-802eed88aae0"
      },
      "source": [
        "lasso_tuned.fit(X_train, y_train)"
      ],
      "execution_count": 26,
      "outputs": [
        {
          "output_type": "stream",
          "text": [
            "/usr/local/lib/python3.7/dist-packages/sklearn/linear_model/_coordinate_descent.py:476: ConvergenceWarning: Objective did not converge. You might want to increase the number of iterations. Duality gap: 8252823.943523982, tolerance: 3898.6869563806586\n",
            "  positive)\n"
          ],
          "name": "stderr"
        },
        {
          "output_type": "execute_result",
          "data": {
            "text/plain": [
              "Lasso(alpha=0.39406126432470073, copy_X=True, fit_intercept=True, max_iter=1000,\n",
              "      normalize=False, positive=False, precompute=False, random_state=None,\n",
              "      selection='cyclic', tol=0.0001, warm_start=False)"
            ]
          },
          "metadata": {
            "tags": []
          },
          "execution_count": 26
        }
      ]
    },
    {
      "cell_type": "code",
      "metadata": {
        "id": "PSNRJa9WOsFN"
      },
      "source": [
        "y_pred = lasso_tuned.predict(X_test)"
      ],
      "execution_count": 27,
      "outputs": []
    },
    {
      "cell_type": "code",
      "metadata": {
        "id": "e1e3w2p7OsFN",
        "colab": {
          "base_uri": "https://localhost:8080/"
        },
        "outputId": "a22632cc-a083-43ea-caef-66973fe6e141"
      },
      "source": [
        "np.sqrt(mean_squared_error(y_test,y_pred))"
      ],
      "execution_count": 29,
      "outputs": [
        {
          "output_type": "execute_result",
          "data": {
            "text/plain": [
              "356.52263769583686"
            ]
          },
          "metadata": {
            "tags": []
          },
          "execution_count": 29
        }
      ]
    },
    {
      "cell_type": "markdown",
      "metadata": {
        "id": "F6GUy7P5OsFO"
      },
      "source": [
        "# ElasticNet Regresyonu"
      ]
    },
    {
      "cell_type": "code",
      "metadata": {
        "id": "BEMRvdjkOsFO"
      },
      "source": [
        "hit = pd.read_csv(\"Hitters.csv\")\n",
        "df = hit.copy()\n",
        "df = df.dropna()\n",
        "ms = pd.get_dummies(df[['League', 'Division', 'NewLeague']])\n",
        "y = df[\"Salary\"]\n",
        "X_ = df.drop(['Salary', 'League', 'Division', 'NewLeague'], axis=1).astype('float64')\n",
        "X = pd.concat([X_, dms[['League_N', 'Division_W', 'NewLeague_N']]], axis=1)\n",
        "X_train, X_test, y_train, y_test = train_test_split(X, y, \n",
        "                                                    test_size=0.25, \n",
        "                                                    random_state=42)\n",
        "\n"
      ],
      "execution_count": 30,
      "outputs": []
    },
    {
      "cell_type": "code",
      "metadata": {
        "id": "a9jESDAwOsFO"
      },
      "source": [
        "from sklearn.linear_model import ElasticNet"
      ],
      "execution_count": 31,
      "outputs": []
    },
    {
      "cell_type": "code",
      "metadata": {
        "id": "uLnlzQh2OsFP",
        "colab": {
          "base_uri": "https://localhost:8080/"
        },
        "outputId": "f10e82c8-0eab-49be-ead0-e2ce6c87be64"
      },
      "source": [
        "enet_model = ElasticNet().fit(X_train, y_train)"
      ],
      "execution_count": 32,
      "outputs": [
        {
          "output_type": "stream",
          "text": [
            "/usr/local/lib/python3.7/dist-packages/sklearn/linear_model/_coordinate_descent.py:476: ConvergenceWarning: Objective did not converge. You might want to increase the number of iterations. Duality gap: 8487984.799367338, tolerance: 3898.6869563806586\n",
            "  positive)\n"
          ],
          "name": "stderr"
        }
      ]
    },
    {
      "cell_type": "code",
      "metadata": {
        "id": "yksBaUkzOsFP",
        "colab": {
          "base_uri": "https://localhost:8080/"
        },
        "outputId": "6d4f3550-0906-4738-fe14-c6f99f97cdb7"
      },
      "source": [
        "enet_model.coef_"
      ],
      "execution_count": 33,
      "outputs": [
        {
          "output_type": "execute_result",
          "data": {
            "text/plain": [
              "array([ -1.86256172,   8.70489065,   5.10426375,  -2.89875799,\n",
              "        -1.28642985,   5.24343682,   6.04480276,  -0.14701495,\n",
              "        -0.21566628,  -0.7897201 ,   1.80813117,   0.80914508,\n",
              "        -0.61262382,   0.26816203,   0.27172387,  -0.36530729,\n",
              "        19.2186222 , -31.16586592,   8.98369938])"
            ]
          },
          "metadata": {
            "tags": []
          },
          "execution_count": 33
        }
      ]
    },
    {
      "cell_type": "code",
      "metadata": {
        "id": "PCE9wz2uOsFS",
        "colab": {
          "base_uri": "https://localhost:8080/"
        },
        "outputId": "58d28080-6ee5-4592-dc14-0926041852b1"
      },
      "source": [
        "enet_model.intercept_"
      ],
      "execution_count": 34,
      "outputs": [
        {
          "output_type": "execute_result",
          "data": {
            "text/plain": [
              "-6.465955602112217"
            ]
          },
          "metadata": {
            "tags": []
          },
          "execution_count": 34
        }
      ]
    },
    {
      "cell_type": "markdown",
      "metadata": {
        "id": "vK8MqPQ0OsFS"
      },
      "source": [
        "## Tahmin"
      ]
    },
    {
      "cell_type": "code",
      "metadata": {
        "id": "4Q6xAHhgOsFS",
        "colab": {
          "base_uri": "https://localhost:8080/"
        },
        "outputId": "509c902d-5351-49f4-ef96-bfd9d74c02e6"
      },
      "source": [
        "enet_model"
      ],
      "execution_count": 35,
      "outputs": [
        {
          "output_type": "execute_result",
          "data": {
            "text/plain": [
              "ElasticNet(alpha=1.0, copy_X=True, fit_intercept=True, l1_ratio=0.5,\n",
              "           max_iter=1000, normalize=False, positive=False, precompute=False,\n",
              "           random_state=None, selection='cyclic', tol=0.0001, warm_start=False)"
            ]
          },
          "metadata": {
            "tags": []
          },
          "execution_count": 35
        }
      ]
    },
    {
      "cell_type": "code",
      "metadata": {
        "id": "8RrUu0MkOsFT",
        "colab": {
          "base_uri": "https://localhost:8080/"
        },
        "outputId": "aa228e6d-b59f-4363-c366-3445b0e88dac"
      },
      "source": [
        "enet_model.predict(X_test)"
      ],
      "execution_count": 36,
      "outputs": [
        {
          "output_type": "execute_result",
          "data": {
            "text/plain": [
              "array([ 577.79111731,  617.33202224, 1031.39113156,  364.95861575,\n",
              "        489.51894393,  300.74185842,  604.522666  ,  465.34678732,\n",
              "        901.44473965,  703.20357123,  702.9157117 ,  931.50283407,\n",
              "        184.87939803,  385.14973787,  325.38944176,  546.99346574,\n",
              "        774.28001821,  101.83114992, 1250.86758812,  370.67651244,\n",
              "        442.05734523,  781.17288513,  578.63736538,  609.31927808,\n",
              "        608.31719597,  227.46556223,  921.85505228,  301.1202457 ,\n",
              "        386.31721051,  133.61143326,  162.28505608,   88.29793182,\n",
              "        359.9068418 ,  422.51268445,  265.8663769 ,  355.70450908,\n",
              "       1329.36312363,  125.05506935,   82.74580002,  269.17483075,\n",
              "        117.13319397,  274.13484779,  648.4957249 ,  409.47065999,\n",
              "        846.27919406,  712.04817644,  341.10596674,  368.24259678,\n",
              "        305.70477656,  680.05724792,  716.13640636,  295.93204262,\n",
              "        773.06445823,  249.28224916,  221.46794589,  541.2713245 ,\n",
              "        611.50212372,  770.80228024,  168.45143906, 1159.05660731,\n",
              "       1655.73440058,  487.79019015, 1013.23932071,  443.91500502,\n",
              "        613.83293616,  152.85401115])"
            ]
          },
          "metadata": {
            "tags": []
          },
          "execution_count": 36
        }
      ]
    },
    {
      "cell_type": "code",
      "metadata": {
        "id": "a84pM7UlOsFT"
      },
      "source": [
        "y_pred = enet_model.predict(X_test)"
      ],
      "execution_count": 37,
      "outputs": []
    },
    {
      "cell_type": "code",
      "metadata": {
        "id": "CO33XWckOsFT",
        "colab": {
          "base_uri": "https://localhost:8080/"
        },
        "outputId": "2461fe59-19c2-4c7b-a495-f99e6672670b"
      },
      "source": [
        "np.sqrt(mean_squared_error(y_test, y_pred))"
      ],
      "execution_count": 38,
      "outputs": [
        {
          "output_type": "execute_result",
          "data": {
            "text/plain": [
              "357.1676548181244"
            ]
          },
          "metadata": {
            "tags": []
          },
          "execution_count": 38
        }
      ]
    },
    {
      "cell_type": "code",
      "metadata": {
        "id": "XdhufTy7OsFU",
        "colab": {
          "base_uri": "https://localhost:8080/"
        },
        "outputId": "8ef04803-df47-46f9-9682-3a412a5fdb22"
      },
      "source": [
        "from sklearn.metrics import r2_score\n",
        "r2_score(y_test, y_pred)"
      ],
      "execution_count": 40,
      "outputs": [
        {
          "output_type": "execute_result",
          "data": {
            "text/plain": [
              "0.41070222469326934"
            ]
          },
          "metadata": {
            "tags": []
          },
          "execution_count": 40
        }
      ]
    },
    {
      "cell_type": "markdown",
      "metadata": {
        "id": "ofsHJd-wOsFU"
      },
      "source": [
        "## Model Tuning"
      ]
    },
    {
      "cell_type": "code",
      "metadata": {
        "id": "bjOb_TE9OsFU"
      },
      "source": [
        "from sklearn.linear_model import ElasticNetCV"
      ],
      "execution_count": 41,
      "outputs": []
    },
    {
      "cell_type": "code",
      "metadata": {
        "id": "pngTxd0hOsFV"
      },
      "source": [
        "enet_cv_model = ElasticNetCV(cv = 10, random_state = 0).fit(X_train, y_train)"
      ],
      "execution_count": 42,
      "outputs": []
    },
    {
      "cell_type": "code",
      "metadata": {
        "id": "1IL4xkMnOsFV",
        "colab": {
          "base_uri": "https://localhost:8080/"
        },
        "outputId": "6cb3330b-c5b2-4a9e-918b-0654f46784a5"
      },
      "source": [
        "enet_cv_model.alpha_"
      ],
      "execution_count": 43,
      "outputs": [
        {
          "output_type": "execute_result",
          "data": {
            "text/plain": [
              "5230.7647364798695"
            ]
          },
          "metadata": {
            "tags": []
          },
          "execution_count": 43
        }
      ]
    },
    {
      "cell_type": "code",
      "metadata": {
        "id": "TcSu8rWiOsFW",
        "colab": {
          "base_uri": "https://localhost:8080/"
        },
        "outputId": "c3f9125e-197d-4407-8b15-ba435dff2efc"
      },
      "source": [
        "enet_cv_model"
      ],
      "execution_count": 44,
      "outputs": [
        {
          "output_type": "execute_result",
          "data": {
            "text/plain": [
              "ElasticNetCV(alphas=None, copy_X=True, cv=10, eps=0.001, fit_intercept=True,\n",
              "             l1_ratio=0.5, max_iter=1000, n_alphas=100, n_jobs=None,\n",
              "             normalize=False, positive=False, precompute='auto', random_state=0,\n",
              "             selection='cyclic', tol=0.0001, verbose=0)"
            ]
          },
          "metadata": {
            "tags": []
          },
          "execution_count": 44
        }
      ]
    },
    {
      "cell_type": "code",
      "metadata": {
        "id": "6FK-yGjwOsFW"
      },
      "source": [
        "enet_tuned = ElasticNet(alpha = enet_cv_model.alpha_).fit(X_train,y_train)"
      ],
      "execution_count": 45,
      "outputs": []
    },
    {
      "cell_type": "code",
      "metadata": {
        "id": "anLeXQ1BOsFW"
      },
      "source": [
        "y_pred = enet_tuned.predict(X_test)"
      ],
      "execution_count": 46,
      "outputs": []
    },
    {
      "cell_type": "code",
      "metadata": {
        "id": "tb_01RfBOsFX",
        "colab": {
          "base_uri": "https://localhost:8080/"
        },
        "outputId": "7b3adef1-4ede-4983-ce84-7173ac76df03"
      },
      "source": [
        "np.sqrt(mean_squared_error(y_test, y_pred))"
      ],
      "execution_count": 47,
      "outputs": [
        {
          "output_type": "execute_result",
          "data": {
            "text/plain": [
              "394.15280563218795"
            ]
          },
          "metadata": {
            "tags": []
          },
          "execution_count": 47
        }
      ]
    }
  ]
}