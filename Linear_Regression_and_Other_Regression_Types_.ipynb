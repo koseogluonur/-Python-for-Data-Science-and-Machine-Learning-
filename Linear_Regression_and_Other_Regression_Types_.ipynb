{
  "nbformat": 4,
  "nbformat_minor": 0,
  "metadata": {
    "kernelspec": {
      "display_name": "Python 3",
      "language": "python",
      "name": "python3"
    },
    "language_info": {
      "codemirror_mode": {
        "name": "ipython",
        "version": 3
      },
      "file_extension": ".py",
      "mimetype": "text/x-python",
      "name": "python",
      "nbconvert_exporter": "python",
      "pygments_lexer": "ipython3",
      "version": "3.7.3"
    },
    "colab": {
      "name": "Linear Regression and Other Regression Types  .ipynb",
      "provenance": [],
      "include_colab_link": true
    }
  },
  "cells": [
    {
      "cell_type": "markdown",
      "metadata": {
        "id": "view-in-github",
        "colab_type": "text"
      },
      "source": [
        "<a href=\"https://colab.research.google.com/github/koseogluonur/-Python-for-Data-Science-and-Machine-Learning-/blob/main/Linear_Regression_and_Other_Regression_Types_.ipynb\" target=\"_parent\"><img src=\"https://colab.research.google.com/assets/colab-badge.svg\" alt=\"Open In Colab\"/></a>"
      ]
    },
    {
      "cell_type": "markdown",
      "metadata": {
        "id": "FV0PrRY0OsDi"
      },
      "source": [
        "# Basit Doğrusal Regresyon"
      ]
    },
    {
      "cell_type": "markdown",
      "metadata": {
        "id": "s_QoMoD4OsDo"
      },
      "source": [
        "## Modelleme "
      ]
    },
    {
      "cell_type": "code",
      "metadata": {
        "id": "Rh9tq20LOsDp"
      },
      "source": [
        "from warnings import filterwarnings\n",
        "filterwarnings('ignore')"
      ],
      "execution_count": null,
      "outputs": []
    },
    {
      "cell_type": "code",
      "metadata": {
        "id": "FCRGDGfxOsDq"
      },
      "source": [
        "import pandas as pd\n",
        "ad = pd.read_csv(\"Advertising.csv\", usecols = [1,2,3,4])\n",
        "df = ad.copy()\n",
        "df.head()"
      ],
      "execution_count": null,
      "outputs": []
    },
    {
      "cell_type": "code",
      "metadata": {
        "id": "TAb94qzNOsDs"
      },
      "source": [
        "#df = df.iloc[:,1:len(df)]"
      ],
      "execution_count": null,
      "outputs": []
    },
    {
      "cell_type": "code",
      "metadata": {
        "id": "1Kf26WivOsDt"
      },
      "source": [
        "df.head()"
      ],
      "execution_count": null,
      "outputs": []
    },
    {
      "cell_type": "code",
      "metadata": {
        "id": "pI5eY8XtOsDt"
      },
      "source": [
        "df.info()"
      ],
      "execution_count": null,
      "outputs": []
    },
    {
      "cell_type": "code",
      "metadata": {
        "id": "keGK1EPXOsDu"
      },
      "source": [
        "df.describe().T"
      ],
      "execution_count": null,
      "outputs": []
    },
    {
      "cell_type": "code",
      "metadata": {
        "id": "F80iCe1bOsDu"
      },
      "source": [
        "df.isnull().values.any()"
      ],
      "execution_count": null,
      "outputs": []
    },
    {
      "cell_type": "code",
      "metadata": {
        "id": "ZTHN-ex_OsDv"
      },
      "source": [
        "df.corr()"
      ],
      "execution_count": null,
      "outputs": []
    },
    {
      "cell_type": "code",
      "metadata": {
        "id": "zkopFAjwOsDv"
      },
      "source": [
        "import seaborn as sns\n",
        "sns.pairplot(df, kind  =\"reg\");"
      ],
      "execution_count": null,
      "outputs": []
    },
    {
      "cell_type": "code",
      "metadata": {
        "id": "cxLGu-ZhOsDw"
      },
      "source": [
        "sns.jointplot(x = \"TV\", y = \"sales\", data = df, kind = \"reg\")"
      ],
      "execution_count": null,
      "outputs": []
    },
    {
      "cell_type": "markdown",
      "metadata": {
        "id": "etY_DYViOsDx"
      },
      "source": [
        "## Statsmodels ile modelleme"
      ]
    },
    {
      "cell_type": "code",
      "metadata": {
        "id": "iQrMEhS4OsDx"
      },
      "source": [
        "import statsmodels.api as sm"
      ],
      "execution_count": null,
      "outputs": []
    },
    {
      "cell_type": "code",
      "metadata": {
        "id": "8VACZ2dTOsDx"
      },
      "source": [
        "X = df[[\"TV\"]]\n",
        "X[0:5]"
      ],
      "execution_count": null,
      "outputs": []
    },
    {
      "cell_type": "code",
      "metadata": {
        "id": "AvYmUsZOOsDy"
      },
      "source": [
        "X = sm.add_constant(X)"
      ],
      "execution_count": null,
      "outputs": []
    },
    {
      "cell_type": "code",
      "metadata": {
        "id": "Ftfa5KudOsDy"
      },
      "source": [
        "X[0:5]"
      ],
      "execution_count": null,
      "outputs": []
    },
    {
      "cell_type": "code",
      "metadata": {
        "id": "TLdCfRFCOsDz"
      },
      "source": [
        "y = df[\"sales\"]"
      ],
      "execution_count": null,
      "outputs": []
    },
    {
      "cell_type": "code",
      "metadata": {
        "id": "mREHtx5iOsDz"
      },
      "source": [
        "y[0:5]"
      ],
      "execution_count": null,
      "outputs": []
    },
    {
      "cell_type": "code",
      "metadata": {
        "id": "NKYVKyc1OsDz"
      },
      "source": [
        "lm = sm.OLS(y,X)"
      ],
      "execution_count": null,
      "outputs": []
    },
    {
      "cell_type": "code",
      "metadata": {
        "id": "hdanXCqwOsD0"
      },
      "source": [
        "model = lm.fit()"
      ],
      "execution_count": null,
      "outputs": []
    },
    {
      "cell_type": "code",
      "metadata": {
        "id": "fA9eRVMkOsD0"
      },
      "source": [
        "model.summary()"
      ],
      "execution_count": null,
      "outputs": []
    },
    {
      "cell_type": "code",
      "metadata": {
        "id": "7C8Sw6ekOsD1"
      },
      "source": [
        "import statsmodels.formula.api as smf\n",
        "lm = smf.ols(\"sales ~ TV\", df)\n",
        "model = lm.fit()\n",
        "model.summary()"
      ],
      "execution_count": null,
      "outputs": []
    },
    {
      "cell_type": "code",
      "metadata": {
        "id": "3QcXDWl5OsD1"
      },
      "source": [
        "model.params"
      ],
      "execution_count": null,
      "outputs": []
    },
    {
      "cell_type": "code",
      "metadata": {
        "id": "0rChg1hQOsD1"
      },
      "source": [
        "model.summary().tables[1]"
      ],
      "execution_count": null,
      "outputs": []
    },
    {
      "cell_type": "code",
      "metadata": {
        "id": "TZ6NJFP5OsD2"
      },
      "source": [
        "model.conf_int()"
      ],
      "execution_count": null,
      "outputs": []
    },
    {
      "cell_type": "code",
      "metadata": {
        "id": "qZhoAmq7OsD2"
      },
      "source": [
        "model.f_pvalue"
      ],
      "execution_count": null,
      "outputs": []
    },
    {
      "cell_type": "code",
      "metadata": {
        "id": "E8mTK69TOsD3"
      },
      "source": [
        "print(\"f_pvalue: \", \"%.4f\" % model.f_pvalue)"
      ],
      "execution_count": null,
      "outputs": []
    },
    {
      "cell_type": "code",
      "metadata": {
        "id": "zKjS_15ZOsD3"
      },
      "source": [
        "print(\"fvalue: \", \"%.2f\" % model.fvalue)"
      ],
      "execution_count": null,
      "outputs": []
    },
    {
      "cell_type": "code",
      "metadata": {
        "id": "cn5gDtKwOsD3"
      },
      "source": [
        "print(\"tvalue: \", \"%.2f\" % model.tvalues[0:1])"
      ],
      "execution_count": null,
      "outputs": []
    },
    {
      "cell_type": "code",
      "metadata": {
        "id": "3acIAeR4OsD4"
      },
      "source": [
        "model.rsquared_adj"
      ],
      "execution_count": null,
      "outputs": []
    },
    {
      "cell_type": "code",
      "metadata": {
        "id": "TyaOakDyOsD4"
      },
      "source": [
        "model.fittedvalues[0:5]"
      ],
      "execution_count": null,
      "outputs": []
    },
    {
      "cell_type": "code",
      "metadata": {
        "id": "mVdd-4BXOsD4"
      },
      "source": [
        "y[0:5]"
      ],
      "execution_count": null,
      "outputs": []
    },
    {
      "cell_type": "code",
      "metadata": {
        "id": "nyiDWnQ_OsD5"
      },
      "source": [
        "print(\"Sales = \" +  str(\"%.2f\" % model.params[0]) + \" + TV\" + \"*\" + str(\"%.2f\" % model.params[1]))"
      ],
      "execution_count": null,
      "outputs": []
    },
    {
      "cell_type": "code",
      "metadata": {
        "id": "enmRTl3FOsD5"
      },
      "source": [
        "g = sns.regplot(df[\"TV\"], df[\"sales\"], ci=None, scatter_kws={'color':'r', 's':9})\n",
        "g.set_title(\"Model Denklemi: Sales = 7.03 + TV*0.05\")\n",
        "g.set_ylabel(\"Satış Sayısı\")\n",
        "g.set_xlabel(\"TV Harcamaları\")\n",
        "import matplotlib.pyplot as plt\n",
        "plt.xlim(-10,310)\n",
        "plt.ylim(bottom=0);"
      ],
      "execution_count": null,
      "outputs": []
    },
    {
      "cell_type": "code",
      "metadata": {
        "id": "wOLTXYG9OsD6"
      },
      "source": [
        "from sklearn.linear_model import LinearRegression"
      ],
      "execution_count": null,
      "outputs": []
    },
    {
      "cell_type": "code",
      "metadata": {
        "id": "-SUrIrMYOsD6"
      },
      "source": [
        "X = df[[\"TV\"]]\n",
        "y = df[\"sales\"]\n",
        "reg = LinearRegression()\n",
        "model = reg.fit(X, y)\n",
        "model.intercept_\n",
        "model.coef_"
      ],
      "execution_count": null,
      "outputs": []
    },
    {
      "cell_type": "code",
      "metadata": {
        "id": "vxZtfzAuOsD6"
      },
      "source": [
        "model.score(X,y)"
      ],
      "execution_count": null,
      "outputs": []
    },
    {
      "cell_type": "code",
      "metadata": {
        "id": "aSQgjVmlOsD7"
      },
      "source": [
        "model.predict(X)[0:10]"
      ],
      "execution_count": null,
      "outputs": []
    },
    {
      "cell_type": "markdown",
      "metadata": {
        "id": "W4N31yXdOsD7"
      },
      "source": [
        "## Tahmin"
      ]
    },
    {
      "cell_type": "markdown",
      "metadata": {
        "id": "rk2r8y3TOsD7"
      },
      "source": [
        "Model denklemi:\n",
        "\n",
        "Sales = 7.03 + TV*0.04\n",
        "\n",
        "Örneğin 30 birim TV harcaması olduğunda satışların tahmini değeri ne olur?"
      ]
    },
    {
      "cell_type": "code",
      "metadata": {
        "id": "MkZFPmT4OsD8"
      },
      "source": [
        "7.03 + 30*0.04"
      ],
      "execution_count": null,
      "outputs": []
    },
    {
      "cell_type": "code",
      "metadata": {
        "id": "IUoPjPbkOsD8"
      },
      "source": [
        "X = df[[\"TV\"]]\n",
        "y = df[\"sales\"]\n",
        "reg = LinearRegression()\n",
        "model = reg.fit(X, y)"
      ],
      "execution_count": null,
      "outputs": []
    },
    {
      "cell_type": "code",
      "metadata": {
        "id": "Rjoqy8OtOsD9"
      },
      "source": [
        "model.predict([[30]])"
      ],
      "execution_count": null,
      "outputs": []
    },
    {
      "cell_type": "code",
      "metadata": {
        "id": "ZIfjcxrSOsD9"
      },
      "source": [
        "yeni_veri = [[5],[90],[200]]"
      ],
      "execution_count": null,
      "outputs": []
    },
    {
      "cell_type": "code",
      "metadata": {
        "id": "nOoruDrSOsD-"
      },
      "source": [
        "model.predict(yeni_veri)"
      ],
      "execution_count": null,
      "outputs": []
    },
    {
      "cell_type": "markdown",
      "metadata": {
        "id": "eiSkrsl1OsD-"
      },
      "source": [
        "## Artıklar ve Makine Öğrenmesindeki Önemi"
      ]
    },
    {
      "cell_type": "code",
      "metadata": {
        "id": "j3QzFmSEOsD-"
      },
      "source": [
        "from sklearn.metrics import mean_squared_error, r2_score"
      ],
      "execution_count": null,
      "outputs": []
    },
    {
      "cell_type": "code",
      "metadata": {
        "id": "btP-i4FjOsD_"
      },
      "source": [
        "lm = smf.ols(\"sales ~ TV\", df)\n",
        "model = lm.fit()"
      ],
      "execution_count": null,
      "outputs": []
    },
    {
      "cell_type": "code",
      "metadata": {
        "id": "KA99zyOHOsD_"
      },
      "source": [
        "mse = mean_squared_error(y, model.fittedvalues)"
      ],
      "execution_count": null,
      "outputs": []
    },
    {
      "cell_type": "code",
      "metadata": {
        "id": "iVYNCx-5OsEA"
      },
      "source": [
        "mse"
      ],
      "execution_count": null,
      "outputs": []
    },
    {
      "cell_type": "code",
      "metadata": {
        "id": "85mEEQ7_OsEA"
      },
      "source": [
        "import numpy as np\n",
        "rmse = np.sqrt(mse)"
      ],
      "execution_count": null,
      "outputs": []
    },
    {
      "cell_type": "code",
      "metadata": {
        "id": "q97r_IGwOsEB"
      },
      "source": [
        "rmse"
      ],
      "execution_count": null,
      "outputs": []
    },
    {
      "cell_type": "code",
      "metadata": {
        "id": "YAjfRBM_OsEB"
      },
      "source": [
        "reg.predict(X)[0:10]"
      ],
      "execution_count": null,
      "outputs": []
    },
    {
      "cell_type": "code",
      "metadata": {
        "id": "H6vAMkNkOsEB"
      },
      "source": [
        "y[0:10]"
      ],
      "execution_count": null,
      "outputs": []
    },
    {
      "cell_type": "code",
      "metadata": {
        "id": "Z6aRDIYAOsEC"
      },
      "source": [
        "k_t = pd.DataFrame({\"gercek_y\": y[0:10],\n",
        "                   \"tahmin_y\": reg.predict(X)[0:10]})"
      ],
      "execution_count": null,
      "outputs": []
    },
    {
      "cell_type": "code",
      "metadata": {
        "id": "oqgPejNFOsEC"
      },
      "source": [
        "k_t"
      ],
      "execution_count": null,
      "outputs": []
    },
    {
      "cell_type": "code",
      "metadata": {
        "id": "u-djY8a9OsEC"
      },
      "source": [
        "k_t[\"hata\"] = k_t[\"gercek_y\"] - k_t[\"tahmin_y\"]"
      ],
      "execution_count": null,
      "outputs": []
    },
    {
      "cell_type": "code",
      "metadata": {
        "id": "ZGXa1BK4OsED"
      },
      "source": [
        "k_t"
      ],
      "execution_count": null,
      "outputs": []
    },
    {
      "cell_type": "code",
      "metadata": {
        "id": "uK16uMJWOsED"
      },
      "source": [
        "k_t[\"hata_kare\"] = k_t[\"hata\"]**2"
      ],
      "execution_count": null,
      "outputs": []
    },
    {
      "cell_type": "code",
      "metadata": {
        "id": "j-WRV4inOsED"
      },
      "source": [
        "k_t"
      ],
      "execution_count": null,
      "outputs": []
    },
    {
      "cell_type": "code",
      "metadata": {
        "id": "7Y-T7IZDOsEE"
      },
      "source": [
        "np.sum(k_t[\"hata_kare\"])"
      ],
      "execution_count": null,
      "outputs": []
    },
    {
      "cell_type": "code",
      "metadata": {
        "id": "5C-7xa_eOsEE"
      },
      "source": [
        "np.mean(k_t[\"hata_kare\"])"
      ],
      "execution_count": null,
      "outputs": []
    },
    {
      "cell_type": "code",
      "metadata": {
        "id": "gAiBxjdqOsEE"
      },
      "source": [
        "np.sqrt(np.mean(k_t[\"hata_kare\"]))"
      ],
      "execution_count": null,
      "outputs": []
    },
    {
      "cell_type": "code",
      "metadata": {
        "id": "_bAzCd1WOsEF"
      },
      "source": [
        "model.resid[0:10]"
      ],
      "execution_count": null,
      "outputs": []
    },
    {
      "cell_type": "code",
      "metadata": {
        "id": "uNDSM2eEOsEF"
      },
      "source": [
        "plt.plot(model.resid)"
      ],
      "execution_count": null,
      "outputs": []
    },
    {
      "cell_type": "markdown",
      "metadata": {
        "id": "1XrnrGGiOsEF"
      },
      "source": [
        "# Çoklu Doğrusal Regresyon¶\n"
      ]
    },
    {
      "cell_type": "code",
      "metadata": {
        "id": "6aoLN_q1OsEG"
      },
      "source": [
        "import pandas as pd\n",
        "ad = pd.read_csv(\"Advertising.csv\", usecols = [1,2,3,4])\n",
        "df = ad.copy()\n",
        "df.head()"
      ],
      "execution_count": null,
      "outputs": []
    },
    {
      "cell_type": "code",
      "metadata": {
        "id": "egSVcZviOsEG"
      },
      "source": [
        "from sklearn.model_selection import train_test_split, cross_val_score, cross_val_predict"
      ],
      "execution_count": null,
      "outputs": []
    },
    {
      "cell_type": "code",
      "metadata": {
        "id": "piiATEbqOsEH"
      },
      "source": [
        "X = df.drop(\"sales\", axis = 1)\n",
        "y = df[\"sales\"]\n",
        "\n",
        "X_train, X_test, y_train, y_test = train_test_split(X, y, test_size = 0.20, random_state= 42)\n"
      ],
      "execution_count": null,
      "outputs": []
    },
    {
      "cell_type": "code",
      "metadata": {
        "id": "wg2VhnLzOsEH"
      },
      "source": [
        "X_train.shape"
      ],
      "execution_count": null,
      "outputs": []
    },
    {
      "cell_type": "code",
      "metadata": {
        "id": "VKVulItVOsEH"
      },
      "source": [
        "y_train.shape"
      ],
      "execution_count": null,
      "outputs": []
    },
    {
      "cell_type": "code",
      "metadata": {
        "id": "vMP0RVbJOsEI"
      },
      "source": [
        "X_test.shape"
      ],
      "execution_count": null,
      "outputs": []
    },
    {
      "cell_type": "code",
      "metadata": {
        "id": "MnIYFw8HOsEI"
      },
      "source": [
        "y_test.shape"
      ],
      "execution_count": null,
      "outputs": []
    },
    {
      "cell_type": "code",
      "metadata": {
        "id": "Hdgy12ZbOsEI"
      },
      "source": [
        "training = df.copy()"
      ],
      "execution_count": null,
      "outputs": []
    },
    {
      "cell_type": "code",
      "metadata": {
        "id": "Qoco_btwOsEJ"
      },
      "source": [
        "training.shape"
      ],
      "execution_count": null,
      "outputs": []
    },
    {
      "cell_type": "markdown",
      "metadata": {
        "id": "2dQ7dMK3OsEJ"
      },
      "source": [
        "## Statsmodels"
      ]
    },
    {
      "cell_type": "code",
      "metadata": {
        "id": "N9umaMnPOsEJ"
      },
      "source": [
        "lm = sm.OLS(y_train, X_train)"
      ],
      "execution_count": null,
      "outputs": []
    },
    {
      "cell_type": "code",
      "metadata": {
        "id": "IRW1VXfrOsEK"
      },
      "source": [
        "model = lm.fit()\n",
        "model.summary()"
      ],
      "execution_count": null,
      "outputs": []
    },
    {
      "cell_type": "code",
      "metadata": {
        "id": "O4K8dnznOsEK"
      },
      "source": [
        "model.summary().tables[1]"
      ],
      "execution_count": null,
      "outputs": []
    },
    {
      "cell_type": "markdown",
      "metadata": {
        "id": "fqyzwj7HOsEL"
      },
      "source": [
        "## scikit-learn model"
      ]
    },
    {
      "cell_type": "code",
      "metadata": {
        "id": "VSsND6cMOsEL"
      },
      "source": [
        "lm = LinearRegression()\n",
        "model = lm.fit(X_train, y_train)"
      ],
      "execution_count": null,
      "outputs": []
    },
    {
      "cell_type": "code",
      "metadata": {
        "id": "S7djT0rcOsEL"
      },
      "source": [
        "model.intercept_"
      ],
      "execution_count": null,
      "outputs": []
    },
    {
      "cell_type": "code",
      "metadata": {
        "id": "nncD8OEWOsEM"
      },
      "source": [
        "model.coef_"
      ],
      "execution_count": null,
      "outputs": []
    },
    {
      "cell_type": "markdown",
      "metadata": {
        "id": "dKAwozttOsEM"
      },
      "source": [
        "## Tahmin"
      ]
    },
    {
      "cell_type": "markdown",
      "metadata": {
        "id": "VIW98j-GOsEM"
      },
      "source": [
        "Model denklemi:\n",
        "\n",
        "Sales = 2.97 + TV0.04 + radio0.18 + newspaper*0.002\n",
        "\n",
        "Örneğin 30 birim TV harcaması, 10 birim radio harcamasi, 40 birimde gazete harcaması olduğunda satışların tahmini değeri ne olur?\n",
        "\n"
      ]
    },
    {
      "cell_type": "code",
      "metadata": {
        "id": "qmYhYaIbOsEN"
      },
      "source": [
        "yeni_veri = [[30], [10],[40]]\n",
        "yeni_veri = pd.DataFrame(yeni_veri).T"
      ],
      "execution_count": null,
      "outputs": []
    },
    {
      "cell_type": "code",
      "metadata": {
        "id": "s-_RVi9VOsEN"
      },
      "source": [
        "model.predict(yeni_veri)"
      ],
      "execution_count": null,
      "outputs": []
    },
    {
      "cell_type": "code",
      "metadata": {
        "id": "Zv-R9g-KOsEO"
      },
      "source": [
        "rmse = np.sqrt(mean_squared_error(y_train, model.predict(X_train)))"
      ],
      "execution_count": null,
      "outputs": []
    },
    {
      "cell_type": "code",
      "metadata": {
        "id": "X4y09fioOsEP"
      },
      "source": [
        "rmse"
      ],
      "execution_count": null,
      "outputs": []
    },
    {
      "cell_type": "code",
      "metadata": {
        "id": "aEvpq1N1OsEP"
      },
      "source": [
        "rmse = np.sqrt(mean_squared_error(y_test, model.predict(X_test)))"
      ],
      "execution_count": null,
      "outputs": []
    },
    {
      "cell_type": "code",
      "metadata": {
        "id": "qFphmMgTOsEQ"
      },
      "source": [
        "rmse"
      ],
      "execution_count": null,
      "outputs": []
    },
    {
      "cell_type": "markdown",
      "metadata": {
        "id": "bW06PmB2OsEQ"
      },
      "source": [
        "## Model Tuning / Model Doğrulama"
      ]
    },
    {
      "cell_type": "code",
      "metadata": {
        "id": "K6X6Wv95OsEQ"
      },
      "source": [
        "df.head()"
      ],
      "execution_count": null,
      "outputs": []
    },
    {
      "cell_type": "code",
      "metadata": {
        "id": "pAvXrTMfOsER"
      },
      "source": [
        "X = df.drop('sales', axis=1)\n",
        "y = df[\"sales\"]\n",
        "X_train, X_test, y_train, y_test = train_test_split(X, y, \n",
        "                                                    test_size=0.20, \n",
        "                                                    random_state=144)\n",
        "lm = LinearRegression() \n",
        "model = lm.fit(X_train, y_train)"
      ],
      "execution_count": null,
      "outputs": []
    },
    {
      "cell_type": "code",
      "metadata": {
        "id": "nlvOLFpEOsER"
      },
      "source": [
        "np.sqrt(mean_squared_error(y_train, model.predict(X_train)))"
      ],
      "execution_count": null,
      "outputs": []
    },
    {
      "cell_type": "code",
      "metadata": {
        "id": "FPKnQE1KOsES"
      },
      "source": [
        "np.sqrt(mean_squared_error(y_test, model.predict(X_test)))"
      ],
      "execution_count": null,
      "outputs": []
    },
    {
      "cell_type": "code",
      "metadata": {
        "id": "2vvmdGR3OsES"
      },
      "source": [
        "model.score(X_train, y_train)"
      ],
      "execution_count": null,
      "outputs": []
    },
    {
      "cell_type": "code",
      "metadata": {
        "id": "WhtnaFSmOsET"
      },
      "source": [
        "cross_val_score(model, X_train, y_train, cv = 10, scoring = \"r2\").mean()"
      ],
      "execution_count": null,
      "outputs": []
    },
    {
      "cell_type": "code",
      "metadata": {
        "id": "evdBVXz-OsET"
      },
      "source": [
        "np.sqrt(-cross_val_score(model, \n",
        "                X_train, \n",
        "                y_train, \n",
        "                cv = 10, \n",
        "                scoring = \"neg_mean_squared_error\")).mean()"
      ],
      "execution_count": null,
      "outputs": []
    },
    {
      "cell_type": "code",
      "metadata": {
        "id": "ahAP4N1kOsEX"
      },
      "source": [
        "np.sqrt(-cross_val_score(model, \n",
        "                X_test, \n",
        "                y_test, \n",
        "                cv = 10, \n",
        "                scoring = \"neg_mean_squared_error\")).mean()"
      ],
      "execution_count": null,
      "outputs": []
    },
    {
      "cell_type": "markdown",
      "metadata": {
        "id": "05gUTHhtOsEX"
      },
      "source": [
        "# PCR Model"
      ]
    },
    {
      "cell_type": "code",
      "metadata": {
        "id": "9Xub2h4SOsEY"
      },
      "source": [
        "import pandas as pd\n",
        "import numpy as np\n",
        "hit = pd.read_csv(\"Hitters.csv\")\n",
        "df = hit.copy()\n",
        "df = df.dropna()\n",
        "df.head()"
      ],
      "execution_count": null,
      "outputs": []
    },
    {
      "cell_type": "code",
      "metadata": {
        "id": "4atouNBpOsEY"
      },
      "source": [
        "df.info()"
      ],
      "execution_count": null,
      "outputs": []
    },
    {
      "cell_type": "code",
      "metadata": {
        "id": "rBR9itC_OsEZ"
      },
      "source": [
        "df.describe().T"
      ],
      "execution_count": null,
      "outputs": []
    },
    {
      "cell_type": "code",
      "metadata": {
        "id": "Y7aovu3mOsEZ"
      },
      "source": [
        "dms = pd.get_dummies(df[['League', 'Division', 'NewLeague']])\n",
        "dms.head()"
      ],
      "execution_count": null,
      "outputs": []
    },
    {
      "cell_type": "code",
      "metadata": {
        "id": "ujj3xp0nOsEZ"
      },
      "source": [
        "y = df[\"Salary\"]"
      ],
      "execution_count": null,
      "outputs": []
    },
    {
      "cell_type": "code",
      "metadata": {
        "id": "bhmazvUbOsEa"
      },
      "source": [
        "X_ = df.drop([\"Salary\",\"League\",\"Division\",\"NewLeague\"], axis = 1).astype(\"float64\")"
      ],
      "execution_count": null,
      "outputs": []
    },
    {
      "cell_type": "code",
      "metadata": {
        "id": "siczPD5fOsEa"
      },
      "source": [
        "X_.head()"
      ],
      "execution_count": null,
      "outputs": []
    },
    {
      "cell_type": "code",
      "metadata": {
        "id": "dzYwmDVwOsEb"
      },
      "source": [
        "X = pd.concat([X_, dms[[\"League_N\", \"Division_W\",\"NewLeague_N\"]]], axis = 1)\n",
        "X.head()"
      ],
      "execution_count": null,
      "outputs": []
    },
    {
      "cell_type": "code",
      "metadata": {
        "id": "vlBZYp_vOsEb"
      },
      "source": [
        "X_train, X_test, y_train, y_test = train_test_split(X, \n",
        "                                                    y, \n",
        "                                                    test_size=0.25, \n",
        "                                                    random_state=42)\n",
        "\n",
        "print(\"X_train\", X_train.shape)\n",
        "\n",
        "print(\"y_train\",y_train.shape)\n",
        "\n",
        "print(\"X_test\",X_test.shape)\n",
        "\n",
        "print(\"y_test\",y_test.shape)\n",
        "\n",
        "training = df.copy()\n",
        "\n",
        "print(\"training\", training.shape)"
      ],
      "execution_count": null,
      "outputs": []
    },
    {
      "cell_type": "code",
      "metadata": {
        "id": "R7uVKAseOsEc"
      },
      "source": [
        "from sklearn.decomposition import PCA\n",
        "from sklearn.preprocessing import scale \n",
        "pca = PCA()"
      ],
      "execution_count": null,
      "outputs": []
    },
    {
      "cell_type": "code",
      "metadata": {
        "id": "bHeyZF2LOsEc"
      },
      "source": [
        "X_reduced_train = pca.fit_transform(scale(X_train))"
      ],
      "execution_count": null,
      "outputs": []
    },
    {
      "cell_type": "code",
      "metadata": {
        "id": "bV5V23y_OsEc"
      },
      "source": [
        "X_reduced_train[0:1,:]"
      ],
      "execution_count": null,
      "outputs": []
    },
    {
      "cell_type": "code",
      "metadata": {
        "id": "biXXVcgtOsEd"
      },
      "source": [
        "np.cumsum(np.round(pca.explained_variance_ratio_, decimals = 4)*100)[0:5]"
      ],
      "execution_count": null,
      "outputs": []
    },
    {
      "cell_type": "code",
      "metadata": {
        "id": "cN8lIYp3OsEd"
      },
      "source": [
        "lm = LinearRegression()"
      ],
      "execution_count": null,
      "outputs": []
    },
    {
      "cell_type": "code",
      "metadata": {
        "id": "zlIMJqk1OsEe"
      },
      "source": [
        "pcr_model = lm.fit(X_reduced_train, y_train)"
      ],
      "execution_count": null,
      "outputs": []
    },
    {
      "cell_type": "code",
      "metadata": {
        "id": "RphxBN3MOsEe"
      },
      "source": [
        "pcr_model.intercept_"
      ],
      "execution_count": null,
      "outputs": []
    },
    {
      "cell_type": "code",
      "metadata": {
        "id": "E1MV6Ur5OsEm"
      },
      "source": [
        "pcr_model.coef_"
      ],
      "execution_count": null,
      "outputs": []
    },
    {
      "cell_type": "markdown",
      "metadata": {
        "id": "hgsoHlXvOsEn"
      },
      "source": [
        "## Tahmin"
      ]
    },
    {
      "cell_type": "code",
      "metadata": {
        "id": "iqc4bYsCOsEn"
      },
      "source": [
        "y_pred = pcr_model.predict(X_reduced_train)"
      ],
      "execution_count": null,
      "outputs": []
    },
    {
      "cell_type": "code",
      "metadata": {
        "id": "nEACgVRIOsEn"
      },
      "source": [
        "y_pred[0:5]"
      ],
      "execution_count": null,
      "outputs": []
    },
    {
      "cell_type": "code",
      "metadata": {
        "id": "C9rMyiivOsEo"
      },
      "source": [
        "np.sqrt(mean_squared_error(y_train, y_pred))"
      ],
      "execution_count": null,
      "outputs": []
    },
    {
      "cell_type": "code",
      "metadata": {
        "id": "D13TUHWzOsEo"
      },
      "source": [
        "df[\"Salary\"].mean()"
      ],
      "execution_count": null,
      "outputs": []
    },
    {
      "cell_type": "code",
      "metadata": {
        "id": "Bpb5g8efOsEp"
      },
      "source": [
        "r2_score(y_train, y_pred)"
      ],
      "execution_count": null,
      "outputs": []
    },
    {
      "cell_type": "code",
      "metadata": {
        "id": "AvR-ysV8OsEp"
      },
      "source": [
        "pca2 = PCA()"
      ],
      "execution_count": null,
      "outputs": []
    },
    {
      "cell_type": "code",
      "metadata": {
        "id": "NWOZ0LfwOsEp"
      },
      "source": [
        "X_reduced_test = pca2.fit_transform(scale(X_test))"
      ],
      "execution_count": null,
      "outputs": []
    },
    {
      "cell_type": "code",
      "metadata": {
        "id": "ZHE85ToFOsEq"
      },
      "source": [
        "y_pred = pcr_model.predict(X_reduced_test)"
      ],
      "execution_count": null,
      "outputs": []
    },
    {
      "cell_type": "code",
      "metadata": {
        "id": "4yrcdbMZOsEq"
      },
      "source": [
        "np.sqrt(mean_squared_error(y_test, y_pred))"
      ],
      "execution_count": null,
      "outputs": []
    },
    {
      "cell_type": "markdown",
      "metadata": {
        "id": "kFf0VVu3OsEr"
      },
      "source": [
        "## Model Tuning"
      ]
    },
    {
      "cell_type": "code",
      "metadata": {
        "id": "HR_i2pe3OsEr"
      },
      "source": [
        "lm = LinearRegression()\n",
        "pcr_model = lm.fit(X_reduced_train[:,0:10], y_train)\n",
        "y_pred = pcr_model.predict(X_reduced_test[:,0:10])\n",
        "print(np.sqrt(mean_squared_error(y_test, y_pred)))"
      ],
      "execution_count": null,
      "outputs": []
    },
    {
      "cell_type": "code",
      "metadata": {
        "id": "J4Iv1MsIOsEr"
      },
      "source": [
        "from sklearn import model_selection"
      ],
      "execution_count": null,
      "outputs": []
    },
    {
      "cell_type": "code",
      "metadata": {
        "id": "LyKkmo5LOsEs"
      },
      "source": [
        "cv_10 = model_selection.KFold(n_splits = 10,\n",
        "                             shuffle = True,\n",
        "                             random_state = 1)"
      ],
      "execution_count": null,
      "outputs": []
    },
    {
      "cell_type": "code",
      "metadata": {
        "id": "uvDmxjWGOsEs"
      },
      "source": [
        "lm = LinearRegression()"
      ],
      "execution_count": null,
      "outputs": []
    },
    {
      "cell_type": "code",
      "metadata": {
        "id": "CU7fnrgCOsEt"
      },
      "source": [
        "RMSE = []"
      ],
      "execution_count": null,
      "outputs": []
    },
    {
      "cell_type": "code",
      "metadata": {
        "id": "Tm79zVYqOsEu"
      },
      "source": [
        "for i in np.arange(1, X_reduced_train.shape[1] + 1):\n",
        "    \n",
        "    score = np.sqrt(-1*model_selection.cross_val_score(lm, \n",
        "                                                       X_reduced_train[:,:i], \n",
        "                                                       y_train.ravel(), \n",
        "                                                       cv=cv_10, \n",
        "                                                       scoring='neg_mean_squared_error').mean())\n",
        "    RMSE.append(score)"
      ],
      "execution_count": null,
      "outputs": []
    },
    {
      "cell_type": "code",
      "metadata": {
        "id": "Z7m-jDC3OsEw"
      },
      "source": [
        "plt.plot(RMSE, '-v')\n",
        "plt.xlabel('Bileşen Sayısı')\n",
        "plt.ylabel('RMSE')\n",
        "plt.title('Maaş Tahmin Modeli İçin PCR Model Tuning');"
      ],
      "execution_count": null,
      "outputs": []
    },
    {
      "cell_type": "code",
      "metadata": {
        "id": "XF5QmwIrOsEw"
      },
      "source": [
        "lm = LinearRegression()"
      ],
      "execution_count": null,
      "outputs": []
    },
    {
      "cell_type": "code",
      "metadata": {
        "id": "u1PjYg7gOsEw"
      },
      "source": [
        "pcr_model = lm.fit(X_reduced_train[:,0:6], y_train)"
      ],
      "execution_count": null,
      "outputs": []
    },
    {
      "cell_type": "code",
      "metadata": {
        "id": "2jQmru1UOsEx"
      },
      "source": [
        "y_pred = pcr_model.predict(X_reduced_train[:,0:6])"
      ],
      "execution_count": null,
      "outputs": []
    },
    {
      "cell_type": "code",
      "metadata": {
        "id": "d4KcbonYOsEx"
      },
      "source": [
        "print(np.sqrt(mean_squared_error(y_train, y_pred)))"
      ],
      "execution_count": null,
      "outputs": []
    },
    {
      "cell_type": "code",
      "metadata": {
        "id": "LoTcZOolOsEy"
      },
      "source": [
        "y_pred = pcr_model.predict(X_reduced_test[:,0:6])"
      ],
      "execution_count": null,
      "outputs": []
    },
    {
      "cell_type": "code",
      "metadata": {
        "id": "E9rPIKiuOsEy"
      },
      "source": [
        "print(np.sqrt(mean_squared_error(y_test, y_pred)))"
      ],
      "execution_count": null,
      "outputs": []
    },
    {
      "cell_type": "markdown",
      "metadata": {
        "id": "xXgzUDOYOsEy"
      },
      "source": [
        "# PLS"
      ]
    },
    {
      "cell_type": "markdown",
      "metadata": {
        "id": "0vzGpryEOsEz"
      },
      "source": [
        "## Model"
      ]
    },
    {
      "cell_type": "code",
      "metadata": {
        "id": "LReqKRovOsEz"
      },
      "source": [
        "hit = pd.read_csv(\"Hitters.csv\")\n",
        "df = hit.copy()\n",
        "df = df.dropna()\n",
        "ms = pd.get_dummies(df[['League', 'Division', 'NewLeague']])\n",
        "y = df[\"Salary\"]\n",
        "X_ = df.drop(['Salary', 'League', 'Division', 'NewLeague'], axis=1).astype('float64')\n",
        "X = pd.concat([X_, dms[['League_N', 'Division_W', 'NewLeague_N']]], axis=1)\n",
        "X_train, X_test, y_train, y_test = train_test_split(X, y, test_size=0.25, random_state=42)"
      ],
      "execution_count": null,
      "outputs": []
    },
    {
      "cell_type": "code",
      "metadata": {
        "id": "YkAI4PeVOsEz"
      },
      "source": [
        "from sklearn.cross_decomposition import PLSRegression, PLSSVD"
      ],
      "execution_count": null,
      "outputs": []
    },
    {
      "cell_type": "code",
      "metadata": {
        "id": "POkcxme-OsE0"
      },
      "source": [
        "pls_model = PLSRegression().fit(X_train, y_train)"
      ],
      "execution_count": null,
      "outputs": []
    },
    {
      "cell_type": "code",
      "metadata": {
        "id": "-NLW_uhcOsE0"
      },
      "source": [
        "pls_model.coef_"
      ],
      "execution_count": null,
      "outputs": []
    },
    {
      "cell_type": "markdown",
      "metadata": {
        "id": "BtDfzNkcOsE1"
      },
      "source": [
        "## Tahmin"
      ]
    },
    {
      "cell_type": "code",
      "metadata": {
        "id": "zzUmmog0OsE1"
      },
      "source": [
        "X_train.head()"
      ],
      "execution_count": null,
      "outputs": []
    },
    {
      "cell_type": "code",
      "metadata": {
        "id": "c63E6eAZOsE1"
      },
      "source": [
        "pls_model.predict(X_train)[0:10]"
      ],
      "execution_count": null,
      "outputs": []
    },
    {
      "cell_type": "code",
      "metadata": {
        "id": "SGGylU1LOsE2"
      },
      "source": [
        "y_pred = pls_model.predict(X_train)"
      ],
      "execution_count": null,
      "outputs": []
    },
    {
      "cell_type": "code",
      "metadata": {
        "id": "fzMgePMyOsE2"
      },
      "source": [
        "np.sqrt(mean_squared_error(y_train, y_pred))"
      ],
      "execution_count": null,
      "outputs": []
    },
    {
      "cell_type": "code",
      "metadata": {
        "id": "pY0VCtRfOsE3"
      },
      "source": [
        "r2_score(y_train, y_pred)"
      ],
      "execution_count": null,
      "outputs": []
    },
    {
      "cell_type": "code",
      "metadata": {
        "id": "yKgJnZYjOsE3"
      },
      "source": [
        "y_pred = pls_model.predict(X_test)"
      ],
      "execution_count": null,
      "outputs": []
    },
    {
      "cell_type": "code",
      "metadata": {
        "id": "jaPrvp-LOsE3"
      },
      "source": [
        "np.sqrt(mean_squared_error(y_test, y_pred))"
      ],
      "execution_count": null,
      "outputs": []
    },
    {
      "cell_type": "markdown",
      "metadata": {
        "id": "uF756HaxOsE4"
      },
      "source": [
        "## Model Tuning"
      ]
    },
    {
      "cell_type": "code",
      "metadata": {
        "id": "usLG13bCOsE4"
      },
      "source": [
        "#CV\n",
        "cv_10 = model_selection.KFold(n_splits=10, shuffle=True, random_state=1)\n",
        "\n",
        "\n",
        "#Hata hesaplamak için döngü\n",
        "RMSE = []\n",
        "\n",
        "for i in np.arange(1, X_train.shape[1] + 1):\n",
        "    pls = PLSRegression(n_components=i)\n",
        "    score = np.sqrt(-1*cross_val_score(pls, X_train, y_train, cv=cv_10, scoring='neg_mean_squared_error').mean())\n",
        "    RMSE.append(score)\n",
        "\n",
        "#Sonuçların Görselleştirilmesi\n",
        "plt.plot(np.arange(1, X_train.shape[1] + 1), np.array(RMSE), '-v', c = \"r\")\n",
        "plt.xlabel('Bileşen Sayısı')\n",
        "plt.ylabel('RMSE')\n",
        "plt.title('Salary');"
      ],
      "execution_count": null,
      "outputs": []
    },
    {
      "cell_type": "code",
      "metadata": {
        "id": "x2NfMi_vOsE5"
      },
      "source": [
        "pls_model = PLSRegression(n_components = 2).fit(X_train, y_train)"
      ],
      "execution_count": null,
      "outputs": []
    },
    {
      "cell_type": "code",
      "metadata": {
        "id": "ncC7TuC0OsE5"
      },
      "source": [
        "y_pred = pls_model.predict(X_test)"
      ],
      "execution_count": null,
      "outputs": []
    },
    {
      "cell_type": "code",
      "metadata": {
        "id": "xKKjweEROsE6"
      },
      "source": [
        "np.sqrt(mean_squared_error(y_test, y_pred))"
      ],
      "execution_count": null,
      "outputs": []
    },
    {
      "cell_type": "markdown",
      "metadata": {
        "id": "Nx895rAbOsE6"
      },
      "source": [
        "# Ridge Regresyon"
      ]
    },
    {
      "cell_type": "markdown",
      "metadata": {
        "id": "TEx7KnVCOsE6"
      },
      "source": [
        "## Model"
      ]
    },
    {
      "cell_type": "code",
      "metadata": {
        "id": "OstCohztOsE7"
      },
      "source": [
        "hit = pd.read_csv(\"Hitters.csv\")\n",
        "df = hit.copy()\n",
        "df = df.dropna()\n",
        "ms = pd.get_dummies(df[['League', 'Division', 'NewLeague']])\n",
        "y = df[\"Salary\"]\n",
        "X_ = df.drop(['Salary', 'League', 'Division', 'NewLeague'], axis=1).astype('float64')\n",
        "X = pd.concat([X_, dms[['League_N', 'Division_W', 'NewLeague_N']]], axis=1)\n",
        "X_train, X_test, y_train, y_test = train_test_split(X, y, \n",
        "                                                    test_size=0.25, \n",
        "                                                    random_state=42)"
      ],
      "execution_count": null,
      "outputs": []
    },
    {
      "cell_type": "code",
      "metadata": {
        "id": "cHlFThooOsE8"
      },
      "source": [
        "from sklearn.linear_model import Ridge"
      ],
      "execution_count": null,
      "outputs": []
    },
    {
      "cell_type": "code",
      "metadata": {
        "id": "CObSQNzwOsE8"
      },
      "source": [
        "ridge_model = Ridge(alpha = 0.1).fit(X_train, y_train)"
      ],
      "execution_count": null,
      "outputs": []
    },
    {
      "cell_type": "code",
      "metadata": {
        "id": "oKBpcCXSOsE9"
      },
      "source": [
        "ridge_model"
      ],
      "execution_count": null,
      "outputs": []
    },
    {
      "cell_type": "code",
      "metadata": {
        "id": "V7EqZdZsOsE9"
      },
      "source": [
        "ridge_model.coef_"
      ],
      "execution_count": null,
      "outputs": []
    },
    {
      "cell_type": "code",
      "metadata": {
        "id": "z6kcT-VLOsE9"
      },
      "source": [
        "10**np.linspace(10,-2,100)*0.5 "
      ],
      "execution_count": null,
      "outputs": []
    },
    {
      "cell_type": "code",
      "metadata": {
        "id": "LnVsDqa-OsE-"
      },
      "source": [
        "lambdalar = 10**np.linspace(10,-2,100)*0.5 \n",
        "\n",
        "ridge_model = Ridge()\n",
        "katsayilar = []\n",
        "\n",
        "for i in lambdalar:\n",
        "    ridge_model.set_params(alpha = i)\n",
        "    ridge_model.fit(X_train, y_train) \n",
        "    katsayilar.append(ridge_model.coef_) \n",
        "    \n",
        "\n",
        "    \n",
        "ax = plt.gca()\n",
        "ax.plot(lambdalar, katsayilar) \n",
        "ax.set_xscale('log') \n",
        "\n",
        "plt.xlabel('Lambda(Alpha) Değerleri')\n",
        "plt.ylabel('Katsayılar/Ağırlıklar')\n",
        "plt.title('Düzenlileştirmenin Bir Fonksiyonu Olarak Ridge Katsayıları');"
      ],
      "execution_count": null,
      "outputs": []
    },
    {
      "cell_type": "markdown",
      "metadata": {
        "id": "QyovX6DUOsE-"
      },
      "source": [
        "## Tahmin"
      ]
    },
    {
      "cell_type": "code",
      "metadata": {
        "id": "3wbrtg2AOsFA"
      },
      "source": [
        "y_pred = ridge_model.predict(X_test)"
      ],
      "execution_count": null,
      "outputs": []
    },
    {
      "cell_type": "code",
      "metadata": {
        "id": "0FvZzkmAOsFB"
      },
      "source": [
        "np.sqrt(mean_squared_error(y_test, y_pred))"
      ],
      "execution_count": null,
      "outputs": []
    },
    {
      "cell_type": "markdown",
      "metadata": {
        "id": "eatbpByqOsFB"
      },
      "source": [
        "## Model Tuning"
      ]
    },
    {
      "cell_type": "code",
      "metadata": {
        "id": "4y3OB39XOsFC"
      },
      "source": [
        "lambdalar = 10**np.linspace(10,-2,100)*0.5 "
      ],
      "execution_count": null,
      "outputs": []
    },
    {
      "cell_type": "code",
      "metadata": {
        "id": "1KTjAMxMOsFC"
      },
      "source": [
        "lambdalar[0:5]"
      ],
      "execution_count": null,
      "outputs": []
    },
    {
      "cell_type": "code",
      "metadata": {
        "id": "Yi4xn8AUOsFD"
      },
      "source": [
        "from sklearn.linear_model import RidgeCV\n",
        "ridge_cv = RidgeCV(alphas = lambdalar, \n",
        "                   scoring = \"neg_mean_squared_error\",\n",
        "                   normalize = True)"
      ],
      "execution_count": null,
      "outputs": []
    },
    {
      "cell_type": "code",
      "metadata": {
        "id": "ZsHbLpqQOsFD"
      },
      "source": [
        "ridge_cv.fit(X_train, y_train)"
      ],
      "execution_count": null,
      "outputs": []
    },
    {
      "cell_type": "code",
      "metadata": {
        "id": "JjgPtJrjOsFE"
      },
      "source": [
        "ridge_cv.alpha_"
      ],
      "execution_count": null,
      "outputs": []
    },
    {
      "cell_type": "code",
      "metadata": {
        "id": "U46PC4h7OsFE"
      },
      "source": [
        "ridge_tuned = Ridge(alpha = ridge_cv.alpha_, \n",
        "                   normalize = True).fit(X_train,y_train)"
      ],
      "execution_count": null,
      "outputs": []
    },
    {
      "cell_type": "code",
      "metadata": {
        "id": "LM0_GRTeOsFE"
      },
      "source": [
        "np.sqrt(mean_squared_error(y_test, ridge_tuned.predict(X_test)))"
      ],
      "execution_count": null,
      "outputs": []
    },
    {
      "cell_type": "markdown",
      "metadata": {
        "id": "P14LpLRPOsFF"
      },
      "source": [
        "# Lasso Regresyon"
      ]
    },
    {
      "cell_type": "markdown",
      "metadata": {
        "id": "a3gxBB3FOsFF"
      },
      "source": [
        "## Model"
      ]
    },
    {
      "cell_type": "code",
      "metadata": {
        "id": "87pn0L-JOsFG"
      },
      "source": [
        "hit = pd.read_csv(\"Hitters.csv\")\n",
        "df = hit.copy()\n",
        "df = df.dropna()\n",
        "ms = pd.get_dummies(df[['League', 'Division', 'NewLeague']])\n",
        "y = df[\"Salary\"]\n",
        "X_ = df.drop(['Salary', 'League', 'Division', 'NewLeague'], axis=1).astype('float64')\n",
        "X = pd.concat([X_, dms[['League_N', 'Division_W', 'NewLeague_N']]], axis=1)\n",
        "X_train, X_test, y_train, y_test = train_test_split(X, y, \n",
        "                                                    test_size=0.25, \n",
        "                                                    random_state=42)"
      ],
      "execution_count": null,
      "outputs": []
    },
    {
      "cell_type": "code",
      "metadata": {
        "id": "QmYHvzX7OsFG"
      },
      "source": [
        "from sklearn.linear_model import Lasso"
      ],
      "execution_count": null,
      "outputs": []
    },
    {
      "cell_type": "code",
      "metadata": {
        "id": "okmZM4CLOsFG"
      },
      "source": [
        "lasso_model = Lasso(alpha = 0.1).fit(X_train, y_train)"
      ],
      "execution_count": null,
      "outputs": []
    },
    {
      "cell_type": "code",
      "metadata": {
        "id": "ZI3QHW5lOsFH"
      },
      "source": [
        "lasso_model"
      ],
      "execution_count": null,
      "outputs": []
    },
    {
      "cell_type": "code",
      "metadata": {
        "id": "fMsQ_y1MOsFH"
      },
      "source": [
        "lasso_model.coef_"
      ],
      "execution_count": null,
      "outputs": []
    },
    {
      "cell_type": "code",
      "metadata": {
        "id": "_nsz1VT0OsFI"
      },
      "source": [
        "lasso = Lasso()\n",
        "lambdalar = 10**np.linspace(10,-2,100)*0.5 \n",
        "katsayilar = []\n",
        "\n",
        "for i in lambdalar:\n",
        "    lasso.set_params(alpha=i)\n",
        "    lasso.fit(X_train, y_train)\n",
        "    katsayilar.append(lasso.coef_)\n",
        "    \n",
        "ax = plt.gca()\n",
        "ax.plot(lambdalar*2, katsayilar)\n",
        "ax.set_xscale('log')\n",
        "plt.axis('tight')\n",
        "plt.xlabel('alpha')\n",
        "plt.ylabel('weights')"
      ],
      "execution_count": null,
      "outputs": []
    },
    {
      "cell_type": "markdown",
      "metadata": {
        "id": "B6Nz-DGjOsFI"
      },
      "source": [
        "## Tahmin "
      ]
    },
    {
      "cell_type": "code",
      "metadata": {
        "id": "bnP6pwD_OsFI"
      },
      "source": [
        "lasso_model.predict(X_test)"
      ],
      "execution_count": null,
      "outputs": []
    },
    {
      "cell_type": "code",
      "metadata": {
        "id": "M7qZ1nu8OsFJ"
      },
      "source": [
        "y_pred = lasso_model.predict(X_test)"
      ],
      "execution_count": null,
      "outputs": []
    },
    {
      "cell_type": "code",
      "metadata": {
        "id": "zWIiRM8uOsFK"
      },
      "source": [
        "np.sqrt(mean_squared_error(y_test, y_pred))"
      ],
      "execution_count": null,
      "outputs": []
    },
    {
      "cell_type": "markdown",
      "metadata": {
        "id": "78BfTtp6OsFK"
      },
      "source": [
        "## Model Tuning"
      ]
    },
    {
      "cell_type": "code",
      "metadata": {
        "id": "tjSKMFdiOsFK"
      },
      "source": [
        "from sklearn.linear_model import LassoCV"
      ],
      "execution_count": null,
      "outputs": []
    },
    {
      "cell_type": "code",
      "metadata": {
        "id": "0DpCSSAJOsFL"
      },
      "source": [
        "lasso_cv_model = LassoCV(alphas = None, \n",
        "                         cv = 10, \n",
        "                         max_iter = 10000, \n",
        "                         normalize = True)"
      ],
      "execution_count": null,
      "outputs": []
    },
    {
      "cell_type": "code",
      "metadata": {
        "id": "wEAE1EDcOsFL"
      },
      "source": [
        "lasso_cv_model.fit(X_train,y_train)"
      ],
      "execution_count": null,
      "outputs": []
    },
    {
      "cell_type": "code",
      "metadata": {
        "id": "ONzB0kwSOsFM"
      },
      "source": [
        "lasso_cv_model.alpha_"
      ],
      "execution_count": null,
      "outputs": []
    },
    {
      "cell_type": "code",
      "metadata": {
        "id": "4SiCm8cBOsFM"
      },
      "source": [
        "lasso_tuned = Lasso(alpha = lasso_cv_model.alpha_)"
      ],
      "execution_count": null,
      "outputs": []
    },
    {
      "cell_type": "code",
      "metadata": {
        "id": "BiRY0kIwOsFM"
      },
      "source": [
        "lasso_tuned.fit(X_train, y_train)"
      ],
      "execution_count": null,
      "outputs": []
    },
    {
      "cell_type": "code",
      "metadata": {
        "id": "PSNRJa9WOsFN"
      },
      "source": [
        "y_pred = lasso_tuned.predict(X_test)"
      ],
      "execution_count": null,
      "outputs": []
    },
    {
      "cell_type": "code",
      "metadata": {
        "id": "e1e3w2p7OsFN"
      },
      "source": [
        "np.sqrt(mean_squared_error(y_test, y_pred))"
      ],
      "execution_count": null,
      "outputs": []
    },
    {
      "cell_type": "markdown",
      "metadata": {
        "id": "F6GUy7P5OsFO"
      },
      "source": [
        "# ElasticNet Regresyonu"
      ]
    },
    {
      "cell_type": "code",
      "metadata": {
        "id": "BEMRvdjkOsFO"
      },
      "source": [
        "hit = pd.read_csv(\"Hitters.csv\")\n",
        "df = hit.copy()\n",
        "df = df.dropna()\n",
        "ms = pd.get_dummies(df[['League', 'Division', 'NewLeague']])\n",
        "y = df[\"Salary\"]\n",
        "X_ = df.drop(['Salary', 'League', 'Division', 'NewLeague'], axis=1).astype('float64')\n",
        "X = pd.concat([X_, dms[['League_N', 'Division_W', 'NewLeague_N']]], axis=1)\n",
        "X_train, X_test, y_train, y_test = train_test_split(X, y, \n",
        "                                                    test_size=0.25, \n",
        "                                                    random_state=42)\n",
        "\n",
        "\n"
      ],
      "execution_count": null,
      "outputs": []
    },
    {
      "cell_type": "code",
      "metadata": {
        "id": "a9jESDAwOsFO"
      },
      "source": [
        "from sklearn.linear_model import ElasticNet"
      ],
      "execution_count": null,
      "outputs": []
    },
    {
      "cell_type": "code",
      "metadata": {
        "id": "uLnlzQh2OsFP"
      },
      "source": [
        "enet_model = ElasticNet().fit(X_train, y_train)"
      ],
      "execution_count": null,
      "outputs": []
    },
    {
      "cell_type": "code",
      "metadata": {
        "id": "yksBaUkzOsFP"
      },
      "source": [
        "enet_model.coef_"
      ],
      "execution_count": null,
      "outputs": []
    },
    {
      "cell_type": "code",
      "metadata": {
        "id": "PCE9wz2uOsFS"
      },
      "source": [
        "enet_model.intercept_"
      ],
      "execution_count": null,
      "outputs": []
    },
    {
      "cell_type": "markdown",
      "metadata": {
        "id": "vK8MqPQ0OsFS"
      },
      "source": [
        "## Tahmin"
      ]
    },
    {
      "cell_type": "code",
      "metadata": {
        "id": "4Q6xAHhgOsFS"
      },
      "source": [
        "enet_model"
      ],
      "execution_count": null,
      "outputs": []
    },
    {
      "cell_type": "code",
      "metadata": {
        "id": "8RrUu0MkOsFT"
      },
      "source": [
        "enet_model.predict(X_test)"
      ],
      "execution_count": null,
      "outputs": []
    },
    {
      "cell_type": "code",
      "metadata": {
        "id": "a84pM7UlOsFT"
      },
      "source": [
        "y_pred = enet_model.predict(X_test)"
      ],
      "execution_count": null,
      "outputs": []
    },
    {
      "cell_type": "code",
      "metadata": {
        "id": "CO33XWckOsFT"
      },
      "source": [
        "np.sqrt(mean_squared_error(y_test, y_pred))"
      ],
      "execution_count": null,
      "outputs": []
    },
    {
      "cell_type": "code",
      "metadata": {
        "id": "XdhufTy7OsFU"
      },
      "source": [
        "r2_score(y_test, y_pred)"
      ],
      "execution_count": null,
      "outputs": []
    },
    {
      "cell_type": "markdown",
      "metadata": {
        "id": "ofsHJd-wOsFU"
      },
      "source": [
        "## Model Tuning"
      ]
    },
    {
      "cell_type": "code",
      "metadata": {
        "id": "bjOb_TE9OsFU"
      },
      "source": [
        "from sklearn.linear_model import ElasticNetCV"
      ],
      "execution_count": null,
      "outputs": []
    },
    {
      "cell_type": "code",
      "metadata": {
        "id": "pngTxd0hOsFV"
      },
      "source": [
        "enet_cv_model = ElasticNetCV(cv = 10, random_state = 0).fit(X_train, y_train)"
      ],
      "execution_count": null,
      "outputs": []
    },
    {
      "cell_type": "code",
      "metadata": {
        "id": "1IL4xkMnOsFV"
      },
      "source": [
        "enet_cv_model.alpha_"
      ],
      "execution_count": null,
      "outputs": []
    },
    {
      "cell_type": "code",
      "metadata": {
        "id": "TcSu8rWiOsFW"
      },
      "source": [
        "enet_cv_model"
      ],
      "execution_count": null,
      "outputs": []
    },
    {
      "cell_type": "code",
      "metadata": {
        "id": "6FK-yGjwOsFW"
      },
      "source": [
        "enet_tuned = ElasticNet(alpha = enet_cv_model.alpha_).fit(X_train,y_train)"
      ],
      "execution_count": null,
      "outputs": []
    },
    {
      "cell_type": "code",
      "metadata": {
        "id": "anLeXQ1BOsFW"
      },
      "source": [
        "y_pred = enet_tuned.predict(X_test)"
      ],
      "execution_count": null,
      "outputs": []
    },
    {
      "cell_type": "code",
      "metadata": {
        "id": "tb_01RfBOsFX"
      },
      "source": [
        "np.sqrt(mean_squared_error(y_test, y_pred))"
      ],
      "execution_count": null,
      "outputs": []
    }
  ]
}