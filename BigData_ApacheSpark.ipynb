{
  "nbformat": 4,
  "nbformat_minor": 0,
  "metadata": {
    "kernelspec": {
      "display_name": "Python 3",
      "language": "python",
      "name": "python3"
    },
    "language_info": {
      "codemirror_mode": {
        "name": "ipython",
        "version": 3
      },
      "file_extension": ".py",
      "mimetype": "text/x-python",
      "name": "python",
      "nbconvert_exporter": "python",
      "pygments_lexer": "ipython3",
      "version": "3.7.3"
    },
    "colab": {
      "name": "BigData ApacheSpark.ipynb",
      "provenance": [],
      "collapsed_sections": [
        "zf6oWaAMkW_j",
        "azlDLUfvkW_n",
        "CCbC_d1zkW_p",
        "uD2SgNs5kW_p",
        "SmGhhEUGkW_y",
        "0YYjOzu7kW_2",
        "csEkca07kW_9",
        "5I_2E79vkW_-",
        "O_Tt_Z8QkXAF",
        "kKDpRjqfkXAJ"
      ],
      "include_colab_link": true
    }
  },
  "cells": [
    {
      "cell_type": "markdown",
      "metadata": {
        "id": "view-in-github",
        "colab_type": "text"
      },
      "source": [
        "<a href=\"https://colab.research.google.com/github/koseogluonur/-Python-for-Data-Science-and-Machine-Learning-/blob/main/BigData_ApacheSpark.ipynb\" target=\"_parent\"><img src=\"https://colab.research.google.com/assets/colab-badge.svg\" alt=\"Open In Colab\"/></a>"
      ]
    },
    {
      "cell_type": "code",
      "metadata": {
        "id": "Oz-kBlxfkW_F"
      },
      "source": [
        "from warnings import filterwarnings\n",
        "filterwarnings('ignore')"
      ],
      "execution_count": null,
      "outputs": []
    },
    {
      "cell_type": "code",
      "metadata": {
        "id": "fVLyjVr1kW_P"
      },
      "source": [
        "!pip install findspark"
      ],
      "execution_count": null,
      "outputs": []
    },
    {
      "cell_type": "code",
      "metadata": {
        "id": "nQ8x6AvUkW_Q"
      },
      "source": [
        "import pyspark\n",
        "from pyspark import SparkContext"
      ],
      "execution_count": null,
      "outputs": []
    },
    {
      "cell_type": "code",
      "metadata": {
        "id": "8QRS9dHxkW_Q"
      },
      "source": [
        "import findspark\n",
        "findspark.init(\"/Users/mvahit/spark/spark-2.4.2-bin-hadoop2.7\")"
      ],
      "execution_count": null,
      "outputs": []
    },
    {
      "cell_type": "code",
      "metadata": {
        "id": "2JtH669MkW_Q"
      },
      "source": [
        "import pyspark\n",
        "from pyspark import SparkContext"
      ],
      "execution_count": null,
      "outputs": []
    },
    {
      "cell_type": "markdown",
      "metadata": {
        "id": "3J1sSNJIkW_R"
      },
      "source": [
        "# Configurasyon ve Spark Bağlantısı "
      ]
    },
    {
      "cell_type": "code",
      "metadata": {
        "id": "erHcvpcFkW_S"
      },
      "source": [
        "from pyspark import SparkContext\n",
        "sc = SparkContext(master = \"local\")\n",
        "sc"
      ],
      "execution_count": null,
      "outputs": []
    },
    {
      "cell_type": "code",
      "metadata": {
        "id": "3fhiOO4skW_S"
      },
      "source": [
        "sc.version"
      ],
      "execution_count": null,
      "outputs": []
    },
    {
      "cell_type": "code",
      "metadata": {
        "id": "xjVOWD2kkW_T"
      },
      "source": [
        "sc.sparkUser()"
      ],
      "execution_count": null,
      "outputs": []
    },
    {
      "cell_type": "code",
      "metadata": {
        "id": "bxfOBoeokW_T"
      },
      "source": [
        "sc.appName"
      ],
      "execution_count": null,
      "outputs": []
    },
    {
      "cell_type": "code",
      "metadata": {
        "id": "qyHaXnOJkW_U"
      },
      "source": [
        "dir(sc)"
      ],
      "execution_count": null,
      "outputs": []
    },
    {
      "cell_type": "code",
      "metadata": {
        "id": "wuOiheV3kW_V"
      },
      "source": [
        "sc.stop()"
      ],
      "execution_count": null,
      "outputs": []
    },
    {
      "cell_type": "code",
      "metadata": {
        "id": "RRm3GidQkW_V"
      },
      "source": [
        "import pyspark\n",
        "from pyspark.sql import SparkSession\n",
        "from pyspark.conf import SparkConf\n",
        "from pyspark import SparkContext\n",
        "\n",
        "spark = SparkSession.builder \\\n",
        "    .master(\"local\") \\\n",
        "    .appName(\"pyspark_uygulama\") \\\n",
        "    .config(\"spark.executer.memory\", \"16gb\") \\\n",
        "    .getOrCreate()\n",
        "\n",
        "\n",
        "\n",
        "sc = spark.sparkContext\n",
        "sc"
      ],
      "execution_count": null,
      "outputs": []
    },
    {
      "cell_type": "markdown",
      "metadata": {
        "id": "t2-JVXdOkW_W"
      },
      "source": [
        "# Temel DataFrame İşlemleri"
      ]
    },
    {
      "cell_type": "code",
      "metadata": {
        "id": "UvPCgykskW_W"
      },
      "source": [
        "spark_df = spark.read.csv(\"diabetes.csv\", header = True, inferSchema = True)"
      ],
      "execution_count": null,
      "outputs": []
    },
    {
      "cell_type": "code",
      "metadata": {
        "id": "OTRbh0JakW_X"
      },
      "source": [
        "spark_df.printSchema()"
      ],
      "execution_count": null,
      "outputs": []
    },
    {
      "cell_type": "code",
      "metadata": {
        "id": "cYt42UrbkW_X"
      },
      "source": [
        "type(spark_df)"
      ],
      "execution_count": null,
      "outputs": []
    },
    {
      "cell_type": "code",
      "metadata": {
        "id": "qJA2Af2_kW_X"
      },
      "source": [
        "spark_df.cache()"
      ],
      "execution_count": null,
      "outputs": []
    },
    {
      "cell_type": "code",
      "metadata": {
        "id": "HjLFRJ2fkW_Y"
      },
      "source": [
        "type(spark_df)"
      ],
      "execution_count": null,
      "outputs": []
    },
    {
      "cell_type": "code",
      "metadata": {
        "id": "J8SKP4jOkW_Y"
      },
      "source": [
        "import seaborn as sns\n",
        "df = sns.load_dataset(\"diamonds\")\n",
        "df = df.select_dtypes(include = [\"float64\",\"int64\"])"
      ],
      "execution_count": null,
      "outputs": []
    },
    {
      "cell_type": "code",
      "metadata": {
        "id": "zURTCZn-kW_Z"
      },
      "source": [
        "type(df)"
      ],
      "execution_count": null,
      "outputs": []
    },
    {
      "cell_type": "code",
      "metadata": {
        "id": "55luT5fJkW_Z"
      },
      "source": [
        "df.head()"
      ],
      "execution_count": null,
      "outputs": []
    },
    {
      "cell_type": "code",
      "metadata": {
        "id": "vd9QreYMkW_Z"
      },
      "source": [
        "spark_df.head()"
      ],
      "execution_count": null,
      "outputs": []
    },
    {
      "cell_type": "code",
      "metadata": {
        "id": "qiZrNVLNkW_a"
      },
      "source": [
        "df.dtypes"
      ],
      "execution_count": null,
      "outputs": []
    },
    {
      "cell_type": "code",
      "metadata": {
        "id": "yI4PBZk_kW_a"
      },
      "source": [
        "spark_df.dtypes"
      ],
      "execution_count": null,
      "outputs": []
    },
    {
      "cell_type": "code",
      "metadata": {
        "id": "tG3k9XS1kW_b"
      },
      "source": [
        "df.ndim"
      ],
      "execution_count": null,
      "outputs": []
    },
    {
      "cell_type": "code",
      "metadata": {
        "id": "egn1um1DkW_b"
      },
      "source": [
        "spark_df.size"
      ],
      "execution_count": null,
      "outputs": []
    },
    {
      "cell_type": "code",
      "metadata": {
        "id": "fSZtgHaNkW_b"
      },
      "source": [
        "spark_df.show(2)"
      ],
      "execution_count": null,
      "outputs": []
    },
    {
      "cell_type": "code",
      "metadata": {
        "id": "NbznE-i8kW_c"
      },
      "source": [
        "spark_df.count()"
      ],
      "execution_count": null,
      "outputs": []
    },
    {
      "cell_type": "code",
      "metadata": {
        "id": "j1K46ONUkW_c"
      },
      "source": [
        "len(spark_df.columns)"
      ],
      "execution_count": null,
      "outputs": []
    },
    {
      "cell_type": "code",
      "metadata": {
        "id": "INlnXeODkW_c"
      },
      "source": [
        "spark_df.describe().show()"
      ],
      "execution_count": null,
      "outputs": []
    },
    {
      "cell_type": "code",
      "metadata": {
        "id": "ewPETdFfkW_d"
      },
      "source": [
        "#degisken secme"
      ],
      "execution_count": null,
      "outputs": []
    },
    {
      "cell_type": "code",
      "metadata": {
        "id": "iZMy8h0LkW_d"
      },
      "source": [
        "spark_df.describe(\"Glucose\").show()"
      ],
      "execution_count": null,
      "outputs": []
    },
    {
      "cell_type": "code",
      "metadata": {
        "id": "f5zF1FSpkW_e"
      },
      "source": [
        "spark_df.select(\"Glucose\",\"Pregnancies\").show(5)"
      ],
      "execution_count": null,
      "outputs": []
    },
    {
      "cell_type": "code",
      "metadata": {
        "id": "AIXl0wJwkW_e"
      },
      "source": [
        "spark_df.select(\"Glucose\").distinct().count()"
      ],
      "execution_count": null,
      "outputs": []
    },
    {
      "cell_type": "code",
      "metadata": {
        "id": "TcZZrVoVkW_e"
      },
      "source": [
        "spark_df.select(\"Glucose\").dropDuplicates().count()"
      ],
      "execution_count": null,
      "outputs": []
    },
    {
      "cell_type": "code",
      "metadata": {
        "id": "rkClbAwJkW_f"
      },
      "source": [
        "spark_df.crosstab(\"Outcome\",\"Pregnancies\").show()"
      ],
      "execution_count": null,
      "outputs": []
    },
    {
      "cell_type": "code",
      "metadata": {
        "id": "cqrqeVtekW_f"
      },
      "source": [
        "spark_df.dropna().show(3)"
      ],
      "execution_count": null,
      "outputs": []
    },
    {
      "cell_type": "code",
      "metadata": {
        "id": "fSWwYcVEkW_f"
      },
      "source": [
        "#gozlem secme"
      ],
      "execution_count": null,
      "outputs": []
    },
    {
      "cell_type": "code",
      "metadata": {
        "id": "QXf5XFpkkW_g"
      },
      "source": [
        "spark_df.filter(spark_df.Age >40).count()"
      ],
      "execution_count": null,
      "outputs": []
    },
    {
      "cell_type": "code",
      "metadata": {
        "id": "dq-38vh8kW_g"
      },
      "source": [
        "spark_df.groupby(\"Outcome\").count().show()"
      ],
      "execution_count": null,
      "outputs": []
    },
    {
      "cell_type": "code",
      "metadata": {
        "id": "xH_zop12kW_g"
      },
      "source": [
        "spark_df.groupby(\"Outcome\").agg({\"BMI\": \"mean\"}).show()"
      ],
      "execution_count": null,
      "outputs": []
    },
    {
      "cell_type": "code",
      "metadata": {
        "id": "cq9BU8f3kW_h"
      },
      "source": [
        "spark_df.withColumn(\"yeni_degisken\", spark_df.BMI / 2).select(\"BMI\",\"yeni_degisken\").show(5)"
      ],
      "execution_count": null,
      "outputs": []
    },
    {
      "cell_type": "code",
      "metadata": {
        "id": "aIyI_ccvkW_h"
      },
      "source": [
        "spark_df.withColumnRenamed(\"Outcome\",\"bagimli_degisken\").columns"
      ],
      "execution_count": null,
      "outputs": []
    },
    {
      "cell_type": "code",
      "metadata": {
        "id": "dWxybgHekW_i"
      },
      "source": [
        "spark_df.show(3)"
      ],
      "execution_count": null,
      "outputs": []
    },
    {
      "cell_type": "code",
      "metadata": {
        "id": "-qbUn6CIkW_i"
      },
      "source": [
        "spark_df.drop(\"Insulin\").columns"
      ],
      "execution_count": null,
      "outputs": []
    },
    {
      "cell_type": "code",
      "metadata": {
        "id": "3VkQFKJykW_i"
      },
      "source": [
        "a = spark_df.groupby(\"Outcome\").count().toPandas()"
      ],
      "execution_count": null,
      "outputs": []
    },
    {
      "cell_type": "code",
      "metadata": {
        "id": "xj2EIFdLkW_j"
      },
      "source": [
        "a"
      ],
      "execution_count": null,
      "outputs": []
    },
    {
      "cell_type": "code",
      "metadata": {
        "id": "4fuMU3PdkW_j"
      },
      "source": [
        "a.iloc[1,1]"
      ],
      "execution_count": null,
      "outputs": []
    },
    {
      "cell_type": "markdown",
      "metadata": {
        "id": "zf6oWaAMkW_j"
      },
      "source": [
        "# SQL İşlemleri"
      ]
    },
    {
      "cell_type": "code",
      "metadata": {
        "id": "4no5dcaTkW_k"
      },
      "source": [
        "sc"
      ],
      "execution_count": null,
      "outputs": []
    },
    {
      "cell_type": "code",
      "metadata": {
        "id": "riiUijLAkW_k"
      },
      "source": [
        "spark_df.registerTempTable(\"table_df\")"
      ],
      "execution_count": null,
      "outputs": []
    },
    {
      "cell_type": "code",
      "metadata": {
        "id": "lwQc2ZqFkW_l"
      },
      "source": [
        "spark.sql(\"show databases\").show()"
      ],
      "execution_count": null,
      "outputs": []
    },
    {
      "cell_type": "code",
      "metadata": {
        "id": "ouzrXhsCkW_l"
      },
      "source": [
        "spark.sql(\"show tables\").show()"
      ],
      "execution_count": null,
      "outputs": []
    },
    {
      "cell_type": "code",
      "metadata": {
        "id": "jvnASUVYkW_m"
      },
      "source": [
        "spark.sql(\"select Glucose from table_df\").show(5)"
      ],
      "execution_count": null,
      "outputs": []
    },
    {
      "cell_type": "code",
      "metadata": {
        "id": "VJVHz-DtkW_m"
      },
      "source": [
        "spark.sql(\"select Outcome, mean(Glucose) from table_df group by Outcome\").show(5)"
      ],
      "execution_count": null,
      "outputs": []
    },
    {
      "cell_type": "markdown",
      "metadata": {
        "id": "azlDLUfvkW_n"
      },
      "source": [
        "# Büyük Veri Görselleştirme"
      ]
    },
    {
      "cell_type": "code",
      "metadata": {
        "id": "7u-n99MWkW_n"
      },
      "source": [
        "import matplotlib.pyplot as plt\n",
        "import seaborn as sns"
      ],
      "execution_count": null,
      "outputs": []
    },
    {
      "cell_type": "code",
      "metadata": {
        "id": "QFwWPJKQkW_o"
      },
      "source": [
        "sns.barplot(x = \"Outcome\", y = spark_df.Outcome.index, data = spark_df)"
      ],
      "execution_count": null,
      "outputs": []
    },
    {
      "cell_type": "code",
      "metadata": {
        "id": "TVcQXKNbkW_o"
      },
      "source": [
        "sdf = spark_df.toPandas()\n",
        "sdf.head()"
      ],
      "execution_count": null,
      "outputs": []
    },
    {
      "cell_type": "code",
      "metadata": {
        "id": "bpAc0JgfkW_p"
      },
      "source": [
        "sns.barplot(x = \"Outcome\", y = sdf.Outcome.index, data = sdf)"
      ],
      "execution_count": null,
      "outputs": []
    },
    {
      "cell_type": "markdown",
      "metadata": {
        "id": "CCbC_d1zkW_p"
      },
      "source": [
        "# Uçtan Büyük Veride Makine Öğrenmesi"
      ]
    },
    {
      "cell_type": "markdown",
      "metadata": {
        "id": "uD2SgNs5kW_p"
      },
      "source": [
        "## Spark Session ve Veri Seti"
      ]
    },
    {
      "cell_type": "code",
      "metadata": {
        "id": "lDCoeigEkW_q"
      },
      "source": [
        "sc.stop()"
      ],
      "execution_count": null,
      "outputs": []
    },
    {
      "cell_type": "code",
      "metadata": {
        "id": "xuQkleAQkW_q"
      },
      "source": [
        "import pyspark\n",
        "from pyspark.sql import SparkSession\n",
        "from pyspark.conf import SparkConf\n",
        "from pyspark import SparkContext\n",
        "\n",
        "spark = SparkSession.builder \\\n",
        "    .master(\"local\") \\\n",
        "    .appName(\"churn_modellemesi\") \\\n",
        "    .config(\"spark.executer.memory\", \"16gb\") \\\n",
        "    .getOrCreate()\n",
        "\n",
        "\n",
        "\n",
        "sc = spark.sparkContext\n",
        "sc"
      ],
      "execution_count": null,
      "outputs": []
    },
    {
      "cell_type": "code",
      "metadata": {
        "id": "EVfAhNfvkW_r"
      },
      "source": [
        "spark_df = spark.read.csv(\"churn.csv\", \n",
        "                          header = True, \n",
        "                          inferSchema = True,\n",
        "                          sep = \",\")\n",
        "spark_df.cache()"
      ],
      "execution_count": null,
      "outputs": []
    },
    {
      "cell_type": "code",
      "metadata": {
        "id": "JclrT_nLkW_r"
      },
      "source": [
        "spark_df.printSchema()"
      ],
      "execution_count": null,
      "outputs": []
    },
    {
      "cell_type": "code",
      "metadata": {
        "id": "IOgiD2lnkW_r"
      },
      "source": [
        "spark_df.show(5)"
      ],
      "execution_count": null,
      "outputs": []
    },
    {
      "cell_type": "code",
      "metadata": {
        "id": "BZ4DXTUtkW_s"
      },
      "source": [
        "spark_df = spark_df.toDF(*[c.lower() for c in spark_df.columns])"
      ],
      "execution_count": null,
      "outputs": []
    },
    {
      "cell_type": "code",
      "metadata": {
        "id": "gd-hyHg8kW_s"
      },
      "source": [
        "spark_df.show(5)"
      ],
      "execution_count": null,
      "outputs": []
    },
    {
      "cell_type": "code",
      "metadata": {
        "id": "3IPcSzqHkW_s"
      },
      "source": [
        "#df.columns = map(str.lower, df.columns)"
      ],
      "execution_count": null,
      "outputs": []
    },
    {
      "cell_type": "code",
      "metadata": {
        "id": "pzUGQemLkW_t"
      },
      "source": [
        "spark_df = spark_df.withColumnRenamed(\"_c0\", \"index\")"
      ],
      "execution_count": null,
      "outputs": []
    },
    {
      "cell_type": "code",
      "metadata": {
        "id": "MHFP50ZmkW_t"
      },
      "source": [
        "spark_df.show(2)"
      ],
      "execution_count": null,
      "outputs": []
    },
    {
      "cell_type": "code",
      "metadata": {
        "id": "hXoakBvBkW_t"
      },
      "source": [
        "spark_df.count()"
      ],
      "execution_count": null,
      "outputs": []
    },
    {
      "cell_type": "code",
      "metadata": {
        "id": "e3JUMKF7kW_u"
      },
      "source": [
        "len(spark_df.columns)"
      ],
      "execution_count": null,
      "outputs": []
    },
    {
      "cell_type": "code",
      "metadata": {
        "id": "dblWduOgkW_u"
      },
      "source": [
        "spark_df.columns"
      ],
      "execution_count": null,
      "outputs": []
    },
    {
      "cell_type": "code",
      "metadata": {
        "id": "1fiBD92PkW_u"
      },
      "source": [
        "spark_df.distinct().count()"
      ],
      "execution_count": null,
      "outputs": []
    },
    {
      "cell_type": "code",
      "metadata": {
        "id": "FM2qJ6UTkW_v"
      },
      "source": [
        "spark_df.select(\"names\").distinct().count()"
      ],
      "execution_count": null,
      "outputs": []
    },
    {
      "cell_type": "code",
      "metadata": {
        "id": "BvGOXslpkW_v"
      },
      "source": [
        "spark_df.groupby(\"names\").count().sort(\"count\", ascending = False).show(3)"
      ],
      "execution_count": null,
      "outputs": []
    },
    {
      "cell_type": "code",
      "metadata": {
        "id": "eeVzBBX1kW_w"
      },
      "source": [
        "spark_df.filter(spark_df.names == \"Jennifer Wood\").show()"
      ],
      "execution_count": null,
      "outputs": []
    },
    {
      "cell_type": "code",
      "metadata": {
        "id": "OG2XojOGkW_w"
      },
      "source": [
        "spark_df.select(\"names\").dropDuplicates().groupBy(\"names\").count().sort(\"count\",ascending = False).show(3)"
      ],
      "execution_count": null,
      "outputs": []
    },
    {
      "cell_type": "code",
      "metadata": {
        "id": "FZcBOFYCkW_w"
      },
      "source": [
        "spark_df.where(spark_df.index == 439).select(\"names\").show()"
      ],
      "execution_count": null,
      "outputs": []
    },
    {
      "cell_type": "code",
      "metadata": {
        "id": "P-SGSA4xkW_x"
      },
      "source": [
        "jen = spark_df.where(spark_df.index == 439).collect()[0][\"names\"]"
      ],
      "execution_count": null,
      "outputs": []
    },
    {
      "cell_type": "code",
      "metadata": {
        "id": "wkxib8bSkW_x"
      },
      "source": [
        "type(jen)"
      ],
      "execution_count": null,
      "outputs": []
    },
    {
      "cell_type": "code",
      "metadata": {
        "id": "2ComX_PgkW_x"
      },
      "source": [
        "dir(jen)"
      ],
      "execution_count": null,
      "outputs": []
    },
    {
      "cell_type": "code",
      "metadata": {
        "id": "lm-q6g7MkW_y"
      },
      "source": [
        "jen.upper()"
      ],
      "execution_count": null,
      "outputs": []
    },
    {
      "cell_type": "markdown",
      "metadata": {
        "id": "SmGhhEUGkW_y"
      },
      "source": [
        "## Keşifçi Veri Analizi"
      ]
    },
    {
      "cell_type": "code",
      "metadata": {
        "id": "KepWkM4DkW_y"
      },
      "source": [
        "print(spark_df.describe().show())"
      ],
      "execution_count": null,
      "outputs": []
    },
    {
      "cell_type": "code",
      "metadata": {
        "id": "F81nTFLwkW_z"
      },
      "source": [
        "spark_df.select(\"age\",\"total_purchase\", \"account_manager\", \"years\",\"num_sites\",\"churn\").describe().toPandas().transpose()"
      ],
      "execution_count": null,
      "outputs": []
    },
    {
      "cell_type": "code",
      "metadata": {
        "id": "opUp4s6ckW_z"
      },
      "source": [
        "spark_df.filter(spark_df.age > 47).count()"
      ],
      "execution_count": null,
      "outputs": []
    },
    {
      "cell_type": "code",
      "metadata": {
        "id": "njQNoujvkW_0"
      },
      "source": [
        "spark_df.groupby(\"churn\").count().show()"
      ],
      "execution_count": null,
      "outputs": []
    },
    {
      "cell_type": "code",
      "metadata": {
        "id": "8JdrL8nOkW_0"
      },
      "source": [
        "spark_df.groupby(\"churn\").agg({\"total_purchase\": \"mean\"}).show()"
      ],
      "execution_count": null,
      "outputs": []
    },
    {
      "cell_type": "code",
      "metadata": {
        "id": "soX05OUukW_0"
      },
      "source": [
        "spark_df.groupby(\"churn\").agg({\"years\": \"mean\"}).show()"
      ],
      "execution_count": null,
      "outputs": []
    },
    {
      "cell_type": "code",
      "metadata": {
        "id": "3PV-aQYdkW_1"
      },
      "source": [
        "kor_data = spark_df.drop(\"index\",\"names\").toPandas()"
      ],
      "execution_count": null,
      "outputs": []
    },
    {
      "cell_type": "code",
      "metadata": {
        "id": "uLMGf8HnkW_1"
      },
      "source": [
        "import seaborn as sns\n",
        "sns.pairplot(kor_data, hue = \"churn\");"
      ],
      "execution_count": null,
      "outputs": []
    },
    {
      "cell_type": "code",
      "metadata": {
        "id": "xM1wSG9jkW_2"
      },
      "source": [
        "sns.pairplot(kor_data, vars = [\"age\", \"total_purchase\",\"years\",\"num_sites\"], \n",
        "             hue = \"churn\",\n",
        "            kind = \"reg\");"
      ],
      "execution_count": null,
      "outputs": []
    },
    {
      "cell_type": "markdown",
      "metadata": {
        "id": "0YYjOzu7kW_2"
      },
      "source": [
        "## Veri Ön İşleme"
      ]
    },
    {
      "cell_type": "code",
      "metadata": {
        "id": "z84LIPF8kW_2"
      },
      "source": [
        "spark_df = spark_df.dropna()"
      ],
      "execution_count": null,
      "outputs": []
    },
    {
      "cell_type": "code",
      "metadata": {
        "id": "Zpl30QS0kW_3"
      },
      "source": [
        "spark_df = spark_df.withColumn(\"age_kare\", spark_df.age**2)"
      ],
      "execution_count": null,
      "outputs": []
    },
    {
      "cell_type": "code",
      "metadata": {
        "id": "jdpwUEZRkW_3"
      },
      "source": [
        "spark_df.show(3)"
      ],
      "execution_count": null,
      "outputs": []
    },
    {
      "cell_type": "code",
      "metadata": {
        "id": "WvnN9jbjkW_4"
      },
      "source": [
        "from pyspark.ml.feature import StringIndexer\n",
        "\n",
        "stringIndexer = StringIndexer(inputCol = \"churn\", outputCol = \"label\")"
      ],
      "execution_count": null,
      "outputs": []
    },
    {
      "cell_type": "code",
      "metadata": {
        "id": "Jqn8ElZnkW_4"
      },
      "source": [
        "?stringIndexer"
      ],
      "execution_count": null,
      "outputs": []
    },
    {
      "cell_type": "code",
      "metadata": {
        "id": "0bg6A3BMkW_4"
      },
      "source": [
        "indexed = stringIndexer.fit(spark_df).transform(spark_df)"
      ],
      "execution_count": null,
      "outputs": []
    },
    {
      "cell_type": "code",
      "metadata": {
        "id": "gDDbp548kW_5"
      },
      "source": [
        "indexed.dtypes"
      ],
      "execution_count": null,
      "outputs": []
    },
    {
      "cell_type": "code",
      "metadata": {
        "id": "7cjyQZJQkW_5"
      },
      "source": [
        "spark_df = indexed.withColumn(\"label\", indexed[\"label\"].cast(\"integer\"))"
      ],
      "execution_count": null,
      "outputs": []
    },
    {
      "cell_type": "code",
      "metadata": {
        "id": "xP-33w2-kW_5"
      },
      "source": [
        "spark_df.dtypes"
      ],
      "execution_count": null,
      "outputs": []
    },
    {
      "cell_type": "code",
      "metadata": {
        "id": "yKCUlWq6kW_6"
      },
      "source": [
        "#bagimsiz degiskenlerin ayarlanmasi"
      ],
      "execution_count": null,
      "outputs": []
    },
    {
      "cell_type": "code",
      "metadata": {
        "id": "jCuHOxXbkW_6"
      },
      "source": [
        "from pyspark.ml.feature import VectorAssembler"
      ],
      "execution_count": null,
      "outputs": []
    },
    {
      "cell_type": "code",
      "metadata": {
        "id": "z6hpR8yrkW_6"
      },
      "source": [
        "spark_df.columns"
      ],
      "execution_count": null,
      "outputs": []
    },
    {
      "cell_type": "code",
      "metadata": {
        "id": "glaZE8vzkW_7"
      },
      "source": [
        "bag = [\"age\",\"total_purchase\", \"account_manager\",\"years\",\"num_sites\"]"
      ],
      "execution_count": null,
      "outputs": []
    },
    {
      "cell_type": "code",
      "metadata": {
        "id": "ubKazY_LkW_7"
      },
      "source": [
        "vectorAssembler = VectorAssembler(inputCols = bag, outputCol = \"features\")"
      ],
      "execution_count": null,
      "outputs": []
    },
    {
      "cell_type": "code",
      "metadata": {
        "id": "EvJmO30wkW_8"
      },
      "source": [
        "va_df = vectorAssembler.transform(spark_df)"
      ],
      "execution_count": null,
      "outputs": []
    },
    {
      "cell_type": "code",
      "metadata": {
        "id": "G1b7sIcokW_8"
      },
      "source": [
        "final_df = va_df.select([\"features\",\"label\"])"
      ],
      "execution_count": null,
      "outputs": []
    },
    {
      "cell_type": "code",
      "metadata": {
        "id": "rk6es3EZkW_8"
      },
      "source": [
        "final_df.show()"
      ],
      "execution_count": null,
      "outputs": []
    },
    {
      "cell_type": "markdown",
      "metadata": {
        "id": "csEkca07kW_9"
      },
      "source": [
        "## Test-train"
      ]
    },
    {
      "cell_type": "code",
      "metadata": {
        "id": "qDwEpyT3kW_9"
      },
      "source": [
        "splits = final_df.randomSplit([0.7,0.3])\n",
        "train_df = splits[0]\n",
        "test_df = splits[1]"
      ],
      "execution_count": null,
      "outputs": []
    },
    {
      "cell_type": "code",
      "metadata": {
        "id": "72lvN8M3kW_9"
      },
      "source": [
        "train_df"
      ],
      "execution_count": null,
      "outputs": []
    },
    {
      "cell_type": "code",
      "metadata": {
        "id": "Ia2dAY4bkW_-"
      },
      "source": [
        "test_df"
      ],
      "execution_count": null,
      "outputs": []
    },
    {
      "cell_type": "markdown",
      "metadata": {
        "id": "5I_2E79vkW_-"
      },
      "source": [
        "# GBM ile Müşteri Terk Modellemesi"
      ]
    },
    {
      "cell_type": "code",
      "metadata": {
        "id": "lw5E5qR9kW_-"
      },
      "source": [
        "from pyspark.ml.classification import GBTClassifier"
      ],
      "execution_count": null,
      "outputs": []
    },
    {
      "cell_type": "code",
      "metadata": {
        "id": "uJTWBaC9kW__"
      },
      "source": [
        "gbm = GBTClassifier(maxIter = 10, featuresCol = \"features\", labelCol = \"label\")"
      ],
      "execution_count": null,
      "outputs": []
    },
    {
      "cell_type": "code",
      "metadata": {
        "id": "RzWyILpykW__"
      },
      "source": [
        "gbm_model = gbm.fit(train_df)"
      ],
      "execution_count": null,
      "outputs": []
    },
    {
      "cell_type": "code",
      "metadata": {
        "id": "GN4vYxqfkXAA"
      },
      "source": [
        "y_pred = gbm_model.transform(test_df)"
      ],
      "execution_count": null,
      "outputs": []
    },
    {
      "cell_type": "code",
      "metadata": {
        "id": "5FyhVp-LkXAA"
      },
      "source": [
        "y_pred"
      ],
      "execution_count": null,
      "outputs": []
    },
    {
      "cell_type": "code",
      "metadata": {
        "id": "S3gHMCQQkXAA"
      },
      "source": [
        "ac = y_pred.select(\"label\",\"prediction\")"
      ],
      "execution_count": null,
      "outputs": []
    },
    {
      "cell_type": "code",
      "metadata": {
        "id": "VZq5aOWUkXAB"
      },
      "source": [
        "ac.filter(ac.label == ac.prediction).count() / ac.count()"
      ],
      "execution_count": null,
      "outputs": []
    },
    {
      "cell_type": "code",
      "metadata": {
        "id": "tAIj3tsnkXAC"
      },
      "source": [
        "from pyspark.ml.evaluation import BinaryClassificationEvaluator\n",
        "from pyspark.ml.tuning import ParamGridBuilder, CrossValidator\n",
        "\n",
        "evaluator = BinaryClassificationEvaluator()\n",
        "\n",
        "paramGrid = (ParamGridBuilder()\n",
        "             .addGrid(gbm.maxDepth, [2, 4, 6])\n",
        "             .addGrid(gbm.maxBins, [20, 30])\n",
        "             .addGrid(gbm.maxIter, [10, 20])\n",
        "             .build())\n",
        "\n",
        "cv = CrossValidator(estimator= gbm, estimatorParamMaps = paramGrid, evaluator=evaluator, numFolds= 10)"
      ],
      "execution_count": null,
      "outputs": []
    },
    {
      "cell_type": "code",
      "metadata": {
        "id": "MVgmiQ4hkXAD"
      },
      "source": [
        "cv_model = cv.fit(train_df)"
      ],
      "execution_count": null,
      "outputs": []
    },
    {
      "cell_type": "code",
      "metadata": {
        "id": "A_NUBJ01kXAE"
      },
      "source": [
        "y_pred = cv_model.transform(test_df)\n",
        "ac = y_pred.select(\"label\",\"prediction\")"
      ],
      "execution_count": null,
      "outputs": []
    },
    {
      "cell_type": "code",
      "metadata": {
        "id": "byvugXYvkXAE"
      },
      "source": [
        "ac.filter(ac.label == ac.prediction).count() / ac.count()"
      ],
      "execution_count": null,
      "outputs": []
    },
    {
      "cell_type": "code",
      "metadata": {
        "id": "Gq6NPnt7kXAE"
      },
      "source": [
        "evaluator.evaluate(y_pred)"
      ],
      "execution_count": null,
      "outputs": []
    },
    {
      "cell_type": "markdown",
      "metadata": {
        "id": "O_Tt_Z8QkXAF"
      },
      "source": [
        "## Bu müşteriler bizi terk eder mi?"
      ]
    },
    {
      "cell_type": "code",
      "metadata": {
        "id": "w0q7AJtPkXAF"
      },
      "source": [
        "import pandas as pd\n",
        "names = pd.Series([\"Ali Ahmetoğlu\", \"Berkcan Tanerbey\", \"Harika Gündüz\",\"Polat Alemdar\", \"Ata Bakmayan Ali\"])\n",
        "age = pd.Series([38, 43, 34, 50, 40])\n",
        "total_purchase = pd.Series([30000, 10000, 6000, 30000, 100000])\n",
        "account_manager = pd.Series([1,0,0,1,1])\n",
        "years = pd.Series([20, 10, 3, 8, 30])\n",
        "num_sites = pd.Series([30,8,8,6,50])\n",
        "\n",
        "\n",
        "yeni_musteriler = pd.DataFrame({\n",
        "    'names':names,\n",
        "    'age': age,\n",
        "    'total_purchase': total_purchase,\n",
        "    'account_manager': account_manager ,\n",
        "    'years': years,\n",
        "    'num_sites': num_sites})\n",
        "\n",
        "yeni_musteriler.columns"
      ],
      "execution_count": null,
      "outputs": []
    },
    {
      "cell_type": "code",
      "metadata": {
        "id": "ZwjOMyP3kXAG"
      },
      "source": [
        "yeni_musteriler"
      ],
      "execution_count": null,
      "outputs": []
    },
    {
      "cell_type": "code",
      "metadata": {
        "id": "pWtb1eCIkXAG"
      },
      "source": [
        "yeni_sdf = spark.createDataFrame(yeni_musteriler)"
      ],
      "execution_count": null,
      "outputs": []
    },
    {
      "cell_type": "code",
      "metadata": {
        "id": "KEHAWF9akXAH"
      },
      "source": [
        "type(yeni_sdf)"
      ],
      "execution_count": null,
      "outputs": []
    },
    {
      "cell_type": "code",
      "metadata": {
        "id": "97NHOl2UkXAH"
      },
      "source": [
        "yeni_sdf.show()"
      ],
      "execution_count": null,
      "outputs": []
    },
    {
      "cell_type": "code",
      "metadata": {
        "id": "HUJLGaLxkXAI"
      },
      "source": [
        "yeni_musteriler = vectorAssembler.transform(yeni_sdf)"
      ],
      "execution_count": null,
      "outputs": []
    },
    {
      "cell_type": "code",
      "metadata": {
        "id": "PDnEHkwZkXAI"
      },
      "source": [
        "sonuclar = cv_model.transform(yeni_musteriler)"
      ],
      "execution_count": null,
      "outputs": []
    },
    {
      "cell_type": "code",
      "metadata": {
        "id": "SUm66YTzkXAI"
      },
      "source": [
        "sonuclar.select(\"names\",\"prediction\").show()"
      ],
      "execution_count": null,
      "outputs": []
    },
    {
      "cell_type": "markdown",
      "metadata": {
        "id": "kKDpRjqfkXAJ"
      },
      "source": [
        "## Diğer Bazı Modeller"
      ]
    },
    {
      "cell_type": "code",
      "metadata": {
        "id": "_4wdk1-OkXAJ"
      },
      "source": [
        "from pyspark.ml.classification import LogisticRegression\n",
        "loj = LogisticRegression(featuresCol = \"features\", labelCol = 'label', maxIter=10)\n",
        "loj_model = loj.fit(train_df)\n",
        "y_pred = loj_model.transform(test_df)\n",
        "ac = y_pred.select(\"label\", \"prediction\")\n",
        "ac.filter(ac.label == ac.prediction).count() / ac.count()"
      ],
      "execution_count": null,
      "outputs": []
    },
    {
      "cell_type": "code",
      "metadata": {
        "id": "WJWRDc2vkXAJ"
      },
      "source": [
        "from pyspark.ml.classification import DecisionTreeClassifier\n",
        "dt = DecisionTreeClassifier(featuresCol = 'features', labelCol = 'label', maxDepth = 3)\n",
        "dt_model = dt.fit(train_df)\n",
        "y_pred = dt_model.transform(test_df)\n",
        "ac = y_pred.select(\"label\", \"prediction\")\n",
        "ac.filter(ac.label == ac.prediction).count() / ac.count()"
      ],
      "execution_count": null,
      "outputs": []
    },
    {
      "cell_type": "code",
      "metadata": {
        "id": "qEm65-sHkXAK"
      },
      "source": [
        "from pyspark.ml.classification import RandomForestClassifier\n",
        "rf = RandomForestClassifier(featuresCol = 'features', labelCol = 'label')\n",
        "rf_model = rf.fit(train_df)\n",
        "y_pred = rf_model.transform(test_df)\n",
        "ac = y_pred.select(\"label\", \"prediction\")\n",
        "ac.filter(ac.label == ac.prediction).count() / ac.count()"
      ],
      "execution_count": null,
      "outputs": []
    }
  ]
}